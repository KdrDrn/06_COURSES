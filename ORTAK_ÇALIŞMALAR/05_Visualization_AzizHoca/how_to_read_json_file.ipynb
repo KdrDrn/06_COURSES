{
 "cells": [
  {
   "cell_type": "code",
   "execution_count": 2,
   "id": "f4663082",
   "metadata": {},
   "outputs": [
    {
     "name": "stdout",
     "output_type": "stream",
     "text": [
      "{'username': 'kadirduran', 'key': '706275d3e4be98cc00d51a3cdd25d9e4'}\n"
     ]
    }
   ],
   "source": [
    "import json\n",
    "\n",
    "with open('kaggle.json') as f:\n",
    "    d = json.load(f)\n",
    "    print(d)"
   ]
  },
  {
   "cell_type": "code",
   "execution_count": null,
   "id": "68762dbe",
   "metadata": {},
   "outputs": [],
   "source": []
  }
 ],
 "metadata": {
  "kernelspec": {
   "display_name": "Python 3 (ipykernel)",
   "language": "python",
   "name": "python3"
  },
  "language_info": {
   "codemirror_mode": {
    "name": "ipython",
    "version": 3
   },
   "file_extension": ".py",
   "mimetype": "text/x-python",
   "name": "python",
   "nbconvert_exporter": "python",
   "pygments_lexer": "ipython3",
   "version": "3.8.12"
  }
 },
 "nbformat": 4,
 "nbformat_minor": 5
}
