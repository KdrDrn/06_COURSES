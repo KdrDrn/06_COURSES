{
 "cells": [
  {
   "cell_type": "code",
   "execution_count": null,
   "metadata": {
    "colab": {
     "base_uri": "https://localhost:8080/"
    },
    "id": "0dr7wRTXf6Kr",
    "outputId": "6866c95e-5bb3-40b6-e89e-e58db4b1688d"
   },
   "outputs": [
    {
     "name": "stdout",
     "output_type": "stream",
     "text": [
      "Collecting pyspark\n",
      "  Downloading pyspark-3.2.1.tar.gz (281.4 MB)\n",
      "\u001b[K     |████████████████████████████████| 281.4 MB 35 kB/s \n",
      "\u001b[?25hCollecting py4j==0.10.9.3\n",
      "  Downloading py4j-0.10.9.3-py2.py3-none-any.whl (198 kB)\n",
      "\u001b[K     |████████████████████████████████| 198 kB 45.9 MB/s \n",
      "\u001b[?25hBuilding wheels for collected packages: pyspark\n",
      "  Building wheel for pyspark (setup.py) ... \u001b[?25l\u001b[?25hdone\n",
      "  Created wheel for pyspark: filename=pyspark-3.2.1-py2.py3-none-any.whl size=281853642 sha256=3c5070952aa12513c34ee4dc2ecc3e83401a0d3e1b683fc0b90d606486324980\n",
      "  Stored in directory: /root/.cache/pip/wheels/9f/f5/07/7cd8017084dce4e93e84e92efd1e1d5334db05f2e83bcef74f\n",
      "Successfully built pyspark\n",
      "Installing collected packages: py4j, pyspark\n",
      "Successfully installed py4j-0.10.9.3 pyspark-3.2.1\n"
     ]
    }
   ],
   "source": [
    "pip install pyspark"
   ]
  },
  {
   "cell_type": "code",
   "execution_count": null,
   "metadata": {
    "colab": {
     "base_uri": "https://localhost:8080/",
     "height": 219
    },
    "id": "T4glmviCgBWH",
    "outputId": "dbf01310-b532-46b7-bec3-225a5e7eb9d4"
   },
   "outputs": [
    {
     "data": {
      "text/html": [
       "\n",
       "            <div>\n",
       "                <p><b>SparkSession - in-memory</b></p>\n",
       "                \n",
       "        <div>\n",
       "            <p><b>SparkContext</b></p>\n",
       "\n",
       "            <p><a href=\"http://3fc4c7ce01f4:4040\">Spark UI</a></p>\n",
       "\n",
       "            <dl>\n",
       "              <dt>Version</dt>\n",
       "                <dd><code>v3.2.1</code></dd>\n",
       "              <dt>Master</dt>\n",
       "                <dd><code>local[*]</code></dd>\n",
       "              <dt>AppName</dt>\n",
       "                <dd><code>MLlib</code></dd>\n",
       "            </dl>\n",
       "        </div>\n",
       "        \n",
       "            </div>\n",
       "        "
      ],
      "text/plain": [
       "<pyspark.sql.session.SparkSession at 0x7f22905b67d0>"
      ]
     },
     "execution_count": 47,
     "metadata": {},
     "output_type": "execute_result"
    }
   ],
   "source": [
    "from pyspark.sql import SparkSession\n",
    "spark = SparkSession.builder.appName(\"MLlib\").getOrCreate()\n",
    "spark"
   ]
  },
  {
   "cell_type": "code",
   "execution_count": null,
   "metadata": {
    "colab": {
     "base_uri": "https://localhost:8080/"
    },
    "id": "I3pYeG4kg4X6",
    "outputId": "72682acd-4fc1-49ad-a074-de0d51a46c17"
   },
   "outputs": [
    {
     "name": "stdout",
     "output_type": "stream",
     "text": [
      "root\n",
      " |-- PassengerId: integer (nullable = true)\n",
      " |-- Survived: integer (nullable = true)\n",
      " |-- Pclass: integer (nullable = true)\n",
      " |-- Name: string (nullable = true)\n",
      " |-- Sex: string (nullable = true)\n",
      " |-- Age: double (nullable = true)\n",
      " |-- SibSp: integer (nullable = true)\n",
      " |-- Parch: integer (nullable = true)\n",
      " |-- Ticket: string (nullable = true)\n",
      " |-- Fare: double (nullable = true)\n",
      " |-- Cabin: string (nullable = true)\n",
      " |-- Embarked: string (nullable = true)\n",
      "\n"
     ]
    }
   ],
   "source": [
    "df = spark.read.csv(\"titanic.csv\", header=True, inferSchema=True)\n",
    "df.printSchema()"
   ]
  },
  {
   "cell_type": "code",
   "execution_count": null,
   "metadata": {
    "colab": {
     "base_uri": "https://localhost:8080/"
    },
    "id": "UDCUkKGFi34L",
    "outputId": "675fb4dd-ae9f-45da-f05a-3b7a77d892af"
   },
   "outputs": [
    {
     "name": "stdout",
     "output_type": "stream",
     "text": [
      "+-----------+--------+------+-------------------------------------------------------+------+----+-----+-----+----------------+-------+-----+--------+\n",
      "|PassengerId|Survived|Pclass|Name                                                   |Sex   |Age |SibSp|Parch|Ticket          |Fare   |Cabin|Embarked|\n",
      "+-----------+--------+------+-------------------------------------------------------+------+----+-----+-----+----------------+-------+-----+--------+\n",
      "|1          |0       |3     |Braund, Mr. Owen Harris                                |male  |22.0|1    |0    |A/5 21171       |7.25   |null |S       |\n",
      "|2          |1       |1     |Cumings, Mrs. John Bradley (Florence Briggs Thayer)    |female|38.0|1    |0    |PC 17599        |71.2833|C85  |C       |\n",
      "|3          |1       |3     |Heikkinen, Miss. Laina                                 |female|26.0|0    |0    |STON/O2. 3101282|7.925  |null |S       |\n",
      "|4          |1       |1     |Futrelle, Mrs. Jacques Heath (Lily May Peel)           |female|35.0|1    |0    |113803          |53.1   |C123 |S       |\n",
      "|5          |0       |3     |Allen, Mr. William Henry                               |male  |35.0|0    |0    |373450          |8.05   |null |S       |\n",
      "|6          |0       |3     |Moran, Mr. James                                       |male  |null|0    |0    |330877          |8.4583 |null |Q       |\n",
      "|7          |0       |1     |McCarthy, Mr. Timothy J                                |male  |54.0|0    |0    |17463           |51.8625|E46  |S       |\n",
      "|8          |0       |3     |Palsson, Master. Gosta Leonard                         |male  |2.0 |3    |1    |349909          |21.075 |null |S       |\n",
      "|9          |1       |3     |Johnson, Mrs. Oscar W (Elisabeth Vilhelmina Berg)      |female|27.0|0    |2    |347742          |11.1333|null |S       |\n",
      "|10         |1       |2     |Nasser, Mrs. Nicholas (Adele Achem)                    |female|14.0|1    |0    |237736          |30.0708|null |C       |\n",
      "|11         |1       |3     |Sandstrom, Miss. Marguerite Rut                        |female|4.0 |1    |1    |PP 9549         |16.7   |G6   |S       |\n",
      "|12         |1       |1     |Bonnell, Miss. Elizabeth                               |female|58.0|0    |0    |113783          |26.55  |C103 |S       |\n",
      "|13         |0       |3     |Saundercock, Mr. William Henry                         |male  |20.0|0    |0    |A/5. 2151       |8.05   |null |S       |\n",
      "|14         |0       |3     |Andersson, Mr. Anders Johan                            |male  |39.0|1    |5    |347082          |31.275 |null |S       |\n",
      "|15         |0       |3     |Vestrom, Miss. Hulda Amanda Adolfina                   |female|14.0|0    |0    |350406          |7.8542 |null |S       |\n",
      "|16         |1       |2     |Hewlett, Mrs. (Mary D Kingcome)                        |female|55.0|0    |0    |248706          |16.0   |null |S       |\n",
      "|17         |0       |3     |Rice, Master. Eugene                                   |male  |2.0 |4    |1    |382652          |29.125 |null |Q       |\n",
      "|18         |1       |2     |Williams, Mr. Charles Eugene                           |male  |null|0    |0    |244373          |13.0   |null |S       |\n",
      "|19         |0       |3     |Vander Planke, Mrs. Julius (Emelia Maria Vandemoortele)|female|31.0|1    |0    |345763          |18.0   |null |S       |\n",
      "|20         |1       |3     |Masselmani, Mrs. Fatima                                |female|null|0    |0    |2649            |7.225  |null |C       |\n",
      "+-----------+--------+------+-------------------------------------------------------+------+----+-----+-----+----------------+-------+-----+--------+\n",
      "only showing top 20 rows\n",
      "\n"
     ]
    }
   ],
   "source": [
    "df.show(truncate=False)"
   ]
  },
  {
   "cell_type": "code",
   "execution_count": null,
   "metadata": {
    "colab": {
     "base_uri": "https://localhost:8080/"
    },
    "id": "wtbZrNTejQLY",
    "outputId": "02c0a1c4-8ab0-45ae-be90-bb855c185aee"
   },
   "outputs": [
    {
     "name": "stdout",
     "output_type": "stream",
     "text": [
      "-RECORD 0---------------------------\n",
      " summary     | count                \n",
      " PassengerId | 891                  \n",
      " Survived    | 891                  \n",
      " Pclass      | 891                  \n",
      " Name        | 891                  \n",
      " Sex         | 891                  \n",
      " Age         | 714                  \n",
      " SibSp       | 891                  \n",
      " Parch       | 891                  \n",
      " Ticket      | 891                  \n",
      " Fare        | 891                  \n",
      " Cabin       | 204                  \n",
      " Embarked    | 889                  \n",
      "-RECORD 1---------------------------\n",
      " summary     | mean                 \n",
      " PassengerId | 446.0                \n",
      " Survived    | 0.3838383838383838   \n",
      " Pclass      | 2.308641975308642    \n",
      " Name        | null                 \n",
      " Sex         | null                 \n",
      " Age         | 29.69911764705882    \n",
      " SibSp       | 0.5230078563411896   \n",
      " Parch       | 0.38159371492704824  \n",
      " Ticket      | 260318.54916792738   \n",
      " Fare        | 32.2042079685746     \n",
      " Cabin       | null                 \n",
      " Embarked    | null                 \n",
      "-RECORD 2---------------------------\n",
      " summary     | stddev               \n",
      " PassengerId | 257.3538420152301    \n",
      " Survived    | 0.48659245426485753  \n",
      " Pclass      | 0.8360712409770491   \n",
      " Name        | null                 \n",
      " Sex         | null                 \n",
      " Age         | 14.526497332334035   \n",
      " SibSp       | 1.1027434322934315   \n",
      " Parch       | 0.8060572211299488   \n",
      " Ticket      | 471609.26868834975   \n",
      " Fare        | 49.69342859718089    \n",
      " Cabin       | null                 \n",
      " Embarked    | null                 \n",
      "-RECORD 3---------------------------\n",
      " summary     | min                  \n",
      " PassengerId | 1                    \n",
      " Survived    | 0                    \n",
      " Pclass      | 1                    \n",
      " Name        | \"Andersson, Mr. A... \n",
      " Sex         | female               \n",
      " Age         | 0.42                 \n",
      " SibSp       | 0                    \n",
      " Parch       | 0                    \n",
      " Ticket      | 110152               \n",
      " Fare        | 0.0                  \n",
      " Cabin       | A10                  \n",
      " Embarked    | C                    \n",
      "-RECORD 4---------------------------\n",
      " summary     | max                  \n",
      " PassengerId | 891                  \n",
      " Survived    | 1                    \n",
      " Pclass      | 3                    \n",
      " Name        | van Melkebeke, Mr... \n",
      " Sex         | male                 \n",
      " Age         | 80.0                 \n",
      " SibSp       | 8                    \n",
      " Parch       | 6                    \n",
      " Ticket      | WE/P 5735            \n",
      " Fare        | 512.3292             \n",
      " Cabin       | T                    \n",
      " Embarked    | S                    \n",
      "\n"
     ]
    }
   ],
   "source": [
    "df.describe().show(vertical=True)"
   ]
  },
  {
   "cell_type": "code",
   "execution_count": null,
   "metadata": {
    "colab": {
     "base_uri": "https://localhost:8080/",
     "height": 331
    },
    "id": "igOvFus8ma4t",
    "outputId": "8e3ce456-263c-4af2-dea6-0e9779e4a6d3"
   },
   "outputs": [
    {
     "data": {
      "text/html": [
       "\n",
       "  <div id=\"df-722343c5-1527-4c04-93fe-f5231d69dbd3\">\n",
       "    <div class=\"colab-df-container\">\n",
       "      <div>\n",
       "<style scoped>\n",
       "    .dataframe tbody tr th:only-of-type {\n",
       "        vertical-align: middle;\n",
       "    }\n",
       "\n",
       "    .dataframe tbody tr th {\n",
       "        vertical-align: top;\n",
       "    }\n",
       "\n",
       "    .dataframe thead th {\n",
       "        text-align: right;\n",
       "    }\n",
       "</style>\n",
       "<table border=\"1\" class=\"dataframe\">\n",
       "  <thead>\n",
       "    <tr style=\"text-align: right;\">\n",
       "      <th></th>\n",
       "      <th>0</th>\n",
       "      <th>1</th>\n",
       "      <th>2</th>\n",
       "      <th>3</th>\n",
       "      <th>4</th>\n",
       "    </tr>\n",
       "  </thead>\n",
       "  <tbody>\n",
       "    <tr>\n",
       "      <th>summary</th>\n",
       "      <td>count</td>\n",
       "      <td>mean</td>\n",
       "      <td>stddev</td>\n",
       "      <td>min</td>\n",
       "      <td>max</td>\n",
       "    </tr>\n",
       "    <tr>\n",
       "      <th>Pclass</th>\n",
       "      <td>712</td>\n",
       "      <td>2.240168539325843</td>\n",
       "      <td>0.8368543166903446</td>\n",
       "      <td>1</td>\n",
       "      <td>3</td>\n",
       "    </tr>\n",
       "    <tr>\n",
       "      <th>Sex</th>\n",
       "      <td>712</td>\n",
       "      <td>None</td>\n",
       "      <td>None</td>\n",
       "      <td>female</td>\n",
       "      <td>male</td>\n",
       "    </tr>\n",
       "    <tr>\n",
       "      <th>Age</th>\n",
       "      <td>712</td>\n",
       "      <td>29.64209269662921</td>\n",
       "      <td>14.49293290032352</td>\n",
       "      <td>0.42</td>\n",
       "      <td>80.0</td>\n",
       "    </tr>\n",
       "    <tr>\n",
       "      <th>SibSp</th>\n",
       "      <td>712</td>\n",
       "      <td>0.5140449438202247</td>\n",
       "      <td>0.9306921267673427</td>\n",
       "      <td>0</td>\n",
       "      <td>5</td>\n",
       "    </tr>\n",
       "    <tr>\n",
       "      <th>Parch</th>\n",
       "      <td>712</td>\n",
       "      <td>0.43258426966292135</td>\n",
       "      <td>0.8541814457454133</td>\n",
       "      <td>0</td>\n",
       "      <td>6</td>\n",
       "    </tr>\n",
       "    <tr>\n",
       "      <th>Fare</th>\n",
       "      <td>712</td>\n",
       "      <td>34.56725140449432</td>\n",
       "      <td>52.938648174710906</td>\n",
       "      <td>0.0</td>\n",
       "      <td>512.3292</td>\n",
       "    </tr>\n",
       "    <tr>\n",
       "      <th>Embarked</th>\n",
       "      <td>712</td>\n",
       "      <td>None</td>\n",
       "      <td>None</td>\n",
       "      <td>C</td>\n",
       "      <td>S</td>\n",
       "    </tr>\n",
       "    <tr>\n",
       "      <th>Survived</th>\n",
       "      <td>712</td>\n",
       "      <td>0.4044943820224719</td>\n",
       "      <td>0.4911389472541192</td>\n",
       "      <td>0</td>\n",
       "      <td>1</td>\n",
       "    </tr>\n",
       "  </tbody>\n",
       "</table>\n",
       "</div>\n",
       "      <button class=\"colab-df-convert\" onclick=\"convertToInteractive('df-722343c5-1527-4c04-93fe-f5231d69dbd3')\"\n",
       "              title=\"Convert this dataframe to an interactive table.\"\n",
       "              style=\"display:none;\">\n",
       "        \n",
       "  <svg xmlns=\"http://www.w3.org/2000/svg\" height=\"24px\"viewBox=\"0 0 24 24\"\n",
       "       width=\"24px\">\n",
       "    <path d=\"M0 0h24v24H0V0z\" fill=\"none\"/>\n",
       "    <path d=\"M18.56 5.44l.94 2.06.94-2.06 2.06-.94-2.06-.94-.94-2.06-.94 2.06-2.06.94zm-11 1L8.5 8.5l.94-2.06 2.06-.94-2.06-.94L8.5 2.5l-.94 2.06-2.06.94zm10 10l.94 2.06.94-2.06 2.06-.94-2.06-.94-.94-2.06-.94 2.06-2.06.94z\"/><path d=\"M17.41 7.96l-1.37-1.37c-.4-.4-.92-.59-1.43-.59-.52 0-1.04.2-1.43.59L10.3 9.45l-7.72 7.72c-.78.78-.78 2.05 0 2.83L4 21.41c.39.39.9.59 1.41.59.51 0 1.02-.2 1.41-.59l7.78-7.78 2.81-2.81c.8-.78.8-2.07 0-2.86zM5.41 20L4 18.59l7.72-7.72 1.47 1.35L5.41 20z\"/>\n",
       "  </svg>\n",
       "      </button>\n",
       "      \n",
       "  <style>\n",
       "    .colab-df-container {\n",
       "      display:flex;\n",
       "      flex-wrap:wrap;\n",
       "      gap: 12px;\n",
       "    }\n",
       "\n",
       "    .colab-df-convert {\n",
       "      background-color: #E8F0FE;\n",
       "      border: none;\n",
       "      border-radius: 50%;\n",
       "      cursor: pointer;\n",
       "      display: none;\n",
       "      fill: #1967D2;\n",
       "      height: 32px;\n",
       "      padding: 0 0 0 0;\n",
       "      width: 32px;\n",
       "    }\n",
       "\n",
       "    .colab-df-convert:hover {\n",
       "      background-color: #E2EBFA;\n",
       "      box-shadow: 0px 1px 2px rgba(60, 64, 67, 0.3), 0px 1px 3px 1px rgba(60, 64, 67, 0.15);\n",
       "      fill: #174EA6;\n",
       "    }\n",
       "\n",
       "    [theme=dark] .colab-df-convert {\n",
       "      background-color: #3B4455;\n",
       "      fill: #D2E3FC;\n",
       "    }\n",
       "\n",
       "    [theme=dark] .colab-df-convert:hover {\n",
       "      background-color: #434B5C;\n",
       "      box-shadow: 0px 1px 3px 1px rgba(0, 0, 0, 0.15);\n",
       "      filter: drop-shadow(0px 1px 2px rgba(0, 0, 0, 0.3));\n",
       "      fill: #FFFFFF;\n",
       "    }\n",
       "  </style>\n",
       "\n",
       "      <script>\n",
       "        const buttonEl =\n",
       "          document.querySelector('#df-722343c5-1527-4c04-93fe-f5231d69dbd3 button.colab-df-convert');\n",
       "        buttonEl.style.display =\n",
       "          google.colab.kernel.accessAllowed ? 'block' : 'none';\n",
       "\n",
       "        async function convertToInteractive(key) {\n",
       "          const element = document.querySelector('#df-722343c5-1527-4c04-93fe-f5231d69dbd3');\n",
       "          const dataTable =\n",
       "            await google.colab.kernel.invokeFunction('convertToInteractive',\n",
       "                                                     [key], {});\n",
       "          if (!dataTable) return;\n",
       "\n",
       "          const docLinkHtml = 'Like what you see? Visit the ' +\n",
       "            '<a target=\"_blank\" href=https://colab.research.google.com/notebooks/data_table.ipynb>data table notebook</a>'\n",
       "            + ' to learn more about interactive tables.';\n",
       "          element.innerHTML = '';\n",
       "          dataTable['output_type'] = 'display_data';\n",
       "          await google.colab.output.renderOutput(dataTable, element);\n",
       "          const docLink = document.createElement('div');\n",
       "          docLink.innerHTML = docLinkHtml;\n",
       "          element.appendChild(docLink);\n",
       "        }\n",
       "      </script>\n",
       "    </div>\n",
       "  </div>\n",
       "  "
      ],
      "text/plain": [
       "              0                    1                   2       3         4\n",
       "summary   count                 mean              stddev     min       max\n",
       "Pclass      712    2.240168539325843  0.8368543166903446       1         3\n",
       "Sex         712                 None                None  female      male\n",
       "Age         712    29.64209269662921   14.49293290032352    0.42      80.0\n",
       "SibSp       712   0.5140449438202247  0.9306921267673427       0         5\n",
       "Parch       712  0.43258426966292135  0.8541814457454133       0         6\n",
       "Fare        712    34.56725140449432  52.938648174710906     0.0  512.3292\n",
       "Embarked    712                 None                None       C         S\n",
       "Survived    712   0.4044943820224719  0.4911389472541192       0         1"
      ]
     },
     "execution_count": 48,
     "metadata": {},
     "output_type": "execute_result"
    }
   ],
   "source": [
    "df.describe().toPandas().T"
   ]
  },
  {
   "cell_type": "code",
   "execution_count": null,
   "metadata": {
    "colab": {
     "base_uri": "https://localhost:8080/"
    },
    "id": "g2TS-JGTlSuL",
    "outputId": "6181c28d-2fcf-4f05-f9d4-e61e39ba7723"
   },
   "outputs": [
    {
     "name": "stdout",
     "output_type": "stream",
     "text": [
      "(891, 12)\n"
     ]
    }
   ],
   "source": [
    "shape = (df.count(), len(df.columns))\n",
    "print(shape)"
   ]
  },
  {
   "cell_type": "code",
   "execution_count": null,
   "metadata": {
    "colab": {
     "base_uri": "https://localhost:8080/"
    },
    "id": "Jl3AMcu_mgP_",
    "outputId": "120fde61-e1d1-4453-df98-948207ead574"
   },
   "outputs": [
    {
     "data": {
      "text/plain": [
       "['PassengerId',\n",
       " 'Survived',\n",
       " 'Pclass',\n",
       " 'Name',\n",
       " 'Sex',\n",
       " 'Age',\n",
       " 'SibSp',\n",
       " 'Parch',\n",
       " 'Ticket',\n",
       " 'Fare',\n",
       " 'Cabin',\n",
       " 'Embarked']"
      ]
     },
     "execution_count": 9,
     "metadata": {},
     "output_type": "execute_result"
    }
   ],
   "source": [
    "df.columns"
   ]
  },
  {
   "cell_type": "code",
   "execution_count": null,
   "metadata": {
    "colab": {
     "base_uri": "https://localhost:8080/"
    },
    "id": "vpK_It_Lmi_1",
    "outputId": "8558f2f0-eead-4f63-ebed-74c96777922e"
   },
   "outputs": [
    {
     "name": "stdout",
     "output_type": "stream",
     "text": [
      "+--------+-----+\n",
      "|Survived|count|\n",
      "+--------+-----+\n",
      "|       1|  342|\n",
      "|       0|  549|\n",
      "+--------+-----+\n",
      "\n"
     ]
    }
   ],
   "source": [
    "df.groupBy(\"Survived\").count().show()"
   ]
  },
  {
   "cell_type": "code",
   "execution_count": null,
   "metadata": {
    "colab": {
     "base_uri": "https://localhost:8080/"
    },
    "id": "c1xuCMQKQFhP",
    "outputId": "5b727f09-bd2d-48fe-da8f-6caf262459ba"
   },
   "outputs": [
    {
     "name": "stdout",
     "output_type": "stream",
     "text": [
      "+------+------+----+-----+-----+-------+--------+--------+\n",
      "|Pclass|   Sex| Age|SibSp|Parch|   Fare|Embarked|Survived|\n",
      "+------+------+----+-----+-----+-------+--------+--------+\n",
      "|     3|  male|22.0|    1|    0|   7.25|       S|       0|\n",
      "|     1|female|38.0|    1|    0|71.2833|       C|       1|\n",
      "|     3|female|26.0|    0|    0|  7.925|       S|       1|\n",
      "|     1|female|35.0|    1|    0|   53.1|       S|       1|\n",
      "|     3|  male|35.0|    0|    0|   8.05|       S|       0|\n",
      "|     3|  male|null|    0|    0| 8.4583|       Q|       0|\n",
      "|     1|  male|54.0|    0|    0|51.8625|       S|       0|\n",
      "|     3|  male| 2.0|    3|    1| 21.075|       S|       0|\n",
      "|     3|female|27.0|    0|    2|11.1333|       S|       1|\n",
      "|     2|female|14.0|    1|    0|30.0708|       C|       1|\n",
      "|     3|female| 4.0|    1|    1|   16.7|       S|       1|\n",
      "|     1|female|58.0|    0|    0|  26.55|       S|       1|\n",
      "|     3|  male|20.0|    0|    0|   8.05|       S|       0|\n",
      "|     3|  male|39.0|    1|    5| 31.275|       S|       0|\n",
      "|     3|female|14.0|    0|    0| 7.8542|       S|       0|\n",
      "|     2|female|55.0|    0|    0|   16.0|       S|       1|\n",
      "|     3|  male| 2.0|    4|    1| 29.125|       Q|       0|\n",
      "|     2|  male|null|    0|    0|   13.0|       S|       1|\n",
      "|     3|female|31.0|    1|    0|   18.0|       S|       0|\n",
      "|     3|female|null|    0|    0|  7.225|       C|       1|\n",
      "+------+------+----+-----+-----+-------+--------+--------+\n",
      "only showing top 20 rows\n",
      "\n"
     ]
    }
   ],
   "source": [
    "df = df.select(['Pclass',\n",
    " 'Sex',\n",
    " 'Age',\n",
    " 'SibSp',\n",
    " 'Parch',\n",
    " 'Fare',\n",
    " 'Embarked','Survived'])\n",
    "\n",
    "df.show()"
   ]
  },
  {
   "cell_type": "code",
   "execution_count": null,
   "metadata": {
    "colab": {
     "base_uri": "https://localhost:8080/"
    },
    "id": "uROgv0KqnfPn",
    "outputId": "5e220688-8e13-4ef9-d739-7aa2b1eed83f"
   },
   "outputs": [
    {
     "name": "stdout",
     "output_type": "stream",
     "text": [
      "Pclass: 0\n",
      "Sex: 0\n",
      "Age: 177\n",
      "SibSp: 0\n",
      "Parch: 0\n",
      "Fare: 0\n",
      "Embarked: 2\n",
      "Survived: 0\n"
     ]
    }
   ],
   "source": [
    "for i in df.columns:\n",
    "  print(i + \":\" , df[df[i].isNull()].count())"
   ]
  },
  {
   "cell_type": "code",
   "execution_count": null,
   "metadata": {
    "id": "yFgPNWhPr_gL"
   },
   "outputs": [],
   "source": [
    "df = df.na.drop()"
   ]
  },
  {
   "cell_type": "code",
   "execution_count": null,
   "metadata": {
    "colab": {
     "base_uri": "https://localhost:8080/"
    },
    "id": "TG8LrsIoVOcH",
    "outputId": "f00cba94-dc33-4961-d376-a5fe0064394f"
   },
   "outputs": [
    {
     "name": "stdout",
     "output_type": "stream",
     "text": [
      "Pclass: 0\n",
      "Sex: 0\n",
      "Age: 0\n",
      "SibSp: 0\n",
      "Parch: 0\n",
      "Fare: 0\n",
      "Embarked: 0\n",
      "Survived: 0\n"
     ]
    }
   ],
   "source": [
    "for col in df.columns:\n",
    "  print(col + \":\" , df[df[col].isNull()].count())"
   ]
  },
  {
   "cell_type": "code",
   "execution_count": null,
   "metadata": {
    "colab": {
     "base_uri": "https://localhost:8080/"
    },
    "id": "wjoX0AkuRO6N",
    "outputId": "c4c62b20-f51e-4ca9-d74d-3e53179a39a5"
   },
   "outputs": [
    {
     "name": "stdout",
     "output_type": "stream",
     "text": [
      "+------+------+----+-----+-----+-------+--------+--------+\n",
      "|Pclass|   Sex| Age|SibSp|Parch|   Fare|Embarked|Survived|\n",
      "+------+------+----+-----+-----+-------+--------+--------+\n",
      "|     3|  male|22.0|    1|    0|   7.25|       S|       0|\n",
      "|     1|female|38.0|    1|    0|71.2833|       C|       1|\n",
      "|     3|female|26.0|    0|    0|  7.925|       S|       1|\n",
      "|     1|female|35.0|    1|    0|   53.1|       S|       1|\n",
      "|     3|  male|35.0|    0|    0|   8.05|       S|       0|\n",
      "+------+------+----+-----+-----+-------+--------+--------+\n",
      "only showing top 5 rows\n",
      "\n"
     ]
    }
   ],
   "source": [
    "df.show(5)"
   ]
  },
  {
   "cell_type": "code",
   "execution_count": null,
   "metadata": {
    "id": "Zo62uK06vHWB"
   },
   "outputs": [],
   "source": [
    "from pyspark.ml.feature import VectorAssembler, StringIndexer, OneHotEncoder\n",
    "\n",
    "gender_indexer = StringIndexer(inputCol=\"Sex\", outputCol=\"Sexindex\")\n",
    "gender_encoder = OneHotEncoder(inputCol=\"Sexindex\", outputCol=\"Sexvec\")\n",
    "\n",
    "embark_indexer = StringIndexer(inputCol=\"Embarked\", outputCol=\"Embarkedindex\")\n",
    "embark_encoder = OneHotEncoder(inputCol=\"Embarkedindex\", outputCol=\"Embarkedvec\")"
   ]
  },
  {
   "cell_type": "code",
   "execution_count": null,
   "metadata": {
    "id": "GOufaxP36F69"
   },
   "outputs": [],
   "source": [
    "assembler = VectorAssembler(inputCols=[\"Pclass\",\"Sexvec\",\"Age\",\"SibSp\",\"Parch\",\"Fare\",\"Embarkedvec\"],\n",
    "                            outputCol=\"features\")\n"
   ]
  },
  {
   "cell_type": "code",
   "execution_count": null,
   "metadata": {
    "id": "hJzXko8t6tBd"
   },
   "outputs": [],
   "source": [
    "from pyspark.ml.classification import LogisticRegression"
   ]
  },
  {
   "cell_type": "code",
   "execution_count": null,
   "metadata": {
    "id": "1NQ-d8Je6_H6"
   },
   "outputs": [],
   "source": [
    "from pyspark.ml import Pipeline"
   ]
  },
  {
   "cell_type": "code",
   "execution_count": null,
   "metadata": {
    "id": "bN5dNJyU7EXR"
   },
   "outputs": [],
   "source": [
    "lr_titanic = LogisticRegression(featuresCol=\"features\", labelCol=\"Survived\")"
   ]
  },
  {
   "cell_type": "code",
   "execution_count": null,
   "metadata": {
    "id": "TWjf80Iz711X"
   },
   "outputs": [],
   "source": [
    "pipeline = Pipeline(stages=[gender_indexer,embark_indexer,\n",
    "                            gender_encoder,embark_encoder,\n",
    "                            assembler,lr_titanic])"
   ]
  },
  {
   "cell_type": "code",
   "execution_count": null,
   "metadata": {
    "id": "kW7vg6608b2J"
   },
   "outputs": [],
   "source": [
    "train_data, test_data = df.randomSplit([0.7,0.3])"
   ]
  },
  {
   "cell_type": "code",
   "execution_count": null,
   "metadata": {
    "id": "TAnxGc3e9UWm"
   },
   "outputs": [],
   "source": [
    "fit_model = pipeline.fit(train_data)"
   ]
  },
  {
   "cell_type": "code",
   "execution_count": null,
   "metadata": {
    "id": "sarQGFd09e6l"
   },
   "outputs": [],
   "source": [
    "result = fit_model.transform(test_data)"
   ]
  },
  {
   "cell_type": "code",
   "execution_count": null,
   "metadata": {
    "colab": {
     "base_uri": "https://localhost:8080/"
    },
    "id": "mbS86d1S-Fr7",
    "outputId": "956ebcfc-104a-4f25-aa79-f3f384c830fa"
   },
   "outputs": [
    {
     "name": "stdout",
     "output_type": "stream",
     "text": [
      "+------+------+----+-----+-----+--------+--------+--------+--------+-------------+---------+-----------+----------+-------------+-----------+----------+\n",
      "|Pclass|   Sex| Age|SibSp|Parch|    Fare|Embarked|Survived|Sexindex|Embarkedindex|   Sexvec|Embarkedvec|  features|rawPrediction|probability|prediction|\n",
      "+------+------+----+-----+-----+--------+--------+--------+--------+-------------+---------+-----------+----------+-------------+-----------+----------+\n",
      "|     1|female|14.0|    1|    2|   120.0|       S|       1|     1.0|          0.0|(1,[],[])| (2,[0],...|[1.0,0....|   [-3.000...| [0.0473...|       1.0|\n",
      "|     1|female|16.0|    0|    1|    39.4|       S|       1|     1.0|          0.0|(1,[],[])| (2,[0],...|[1.0,0....|   [-3.423...| [0.0315...|       1.0|\n",
      "|     1|female|16.0|    0|    1| 57.9792|       C|       1|     1.0|          1.0|(1,[],[])| (2,[1],...|[1.0,0....|   [-4.053...| [0.0170...|       1.0|\n",
      "|     1|female|19.0|    0|    0|    30.0|       S|       1|     1.0|          0.0|(1,[],[])| (2,[0],...|(8,[0,2...|   [-3.429...| [0.0313...|       1.0|\n",
      "|     1|female|19.0|    1|    0| 91.0792|       C|       1|     1.0|          1.0|(1,[],[])| (2,[1],...|[1.0,0....|   [-3.708...| [0.0239...|       1.0|\n",
      "|     1|female|22.0|    0|    1|    55.0|       S|       1|     1.0|          0.0|(1,[],[])| (2,[0],...|[1.0,0....|   [-3.126...| [0.0420...|       1.0|\n",
      "|     1|female|22.0|    1|    0|    66.6|       S|       1|     1.0|          0.0|(1,[],[])| (2,[0],...|[1.0,0....|   [-2.936...| [0.0503...|       1.0|\n",
      "|     1|female|23.0|    1|    0| 113.275|       C|       1|     1.0|          1.0|(1,[],[])| (2,[1],...|[1.0,0....|   [-3.504...| [0.0291...|       1.0|\n",
      "|     1|female|26.0|    0|    0|   78.85|       S|       1|     1.0|          0.0|(1,[],[])| (2,[0],...|(8,[0,2...|   [-3.067...| [0.0444...|       1.0|\n",
      "|     1|female|29.0|    0|    0|211.3375|       S|       1|     1.0|          0.0|(1,[],[])| (2,[0],...|(8,[0,2...|   [-2.853...| [0.0544...|       1.0|\n",
      "|     1|female|30.0|    0|    0|    93.5|       S|       1|     1.0|          0.0|(1,[],[])| (2,[0],...|(8,[0,2...|   [-2.868...| [0.0537...|       1.0|\n",
      "|     1|female|31.0|    1|    0| 113.275|       C|       1|     1.0|          1.0|(1,[],[])| (2,[1],...|[1.0,0....|   [-3.120...| [0.0422...|       1.0|\n",
      "|     1|female|32.0|    0|    0| 76.2917|       C|       1|     1.0|          1.0|(1,[],[])| (2,[1],...|(8,[0,2...|   [-3.421...| [0.0316...|       1.0|\n",
      "|     1|female|33.0|    1|    0|    53.1|       S|       1|     1.0|          0.0|(1,[],[])| (2,[0],...|[1.0,0....|   [-2.416...| [0.0819...|       1.0|\n",
      "|     1|female|35.0|    0|    0|135.6333|       S|       1|     1.0|          0.0|(1,[],[])| (2,[0],...|(8,[0,2...|   [-2.605...| [0.0687...|       1.0|\n",
      "|     1|female|36.0|    1|    2|   120.0|       S|       1|     1.0|          0.0|(1,[],[])| (2,[0],...|[1.0,0....|   [-1.945...| [0.1250...|       1.0|\n",
      "|     1|female|39.0|    1|    1|110.8833|       C|       1|     1.0|          1.0|(1,[],[])| (2,[1],...|[1.0,0....|   [-2.592...| [0.0696...|       1.0|\n",
      "|     1|female|40.0|    0|    0|153.4625|       S|       1|     1.0|          0.0|(1,[],[])| (2,[0],...|(8,[0,2...|   [-2.356...| [0.0865...|       1.0|\n",
      "|     1|female|40.0|    1|    1|   134.5|       C|       1|     1.0|          1.0|(1,[],[])| (2,[1],...|[1.0,0....|   [-2.531...| [0.0736...|       1.0|\n",
      "|     1|female|43.0|    0|    1|211.3375|       S|       1|     1.0|          0.0|(1,[],[])| (2,[0],...|[1.0,0....|   [-2.036...| [0.1154...|       1.0|\n",
      "+------+------+----+-----+-----+--------+--------+--------+--------+-------------+---------+-----------+----------+-------------+-----------+----------+\n",
      "only showing top 20 rows\n",
      "\n"
     ]
    }
   ],
   "source": [
    "result.show(truncate=10)"
   ]
  },
  {
   "cell_type": "code",
   "execution_count": null,
   "metadata": {
    "colab": {
     "base_uri": "https://localhost:8080/"
    },
    "id": "8pQfnHPgWjyS",
    "outputId": "460d27c8-5cf4-4235-9529-49bb0d5682e2"
   },
   "outputs": [
    {
     "name": "stdout",
     "output_type": "stream",
     "text": [
      "+----------+--------+\n",
      "|prediction|Survived|\n",
      "+----------+--------+\n",
      "|       1.0|       1|\n",
      "|       1.0|       1|\n",
      "|       1.0|       1|\n",
      "|       1.0|       1|\n",
      "|       1.0|       1|\n",
      "|       1.0|       1|\n",
      "|       1.0|       1|\n",
      "|       1.0|       1|\n",
      "|       1.0|       1|\n",
      "|       1.0|       1|\n",
      "|       1.0|       1|\n",
      "|       1.0|       1|\n",
      "|       1.0|       1|\n",
      "|       1.0|       1|\n",
      "|       1.0|       1|\n",
      "|       1.0|       1|\n",
      "|       1.0|       1|\n",
      "|       1.0|       1|\n",
      "|       1.0|       1|\n",
      "|       1.0|       1|\n",
      "|       1.0|       1|\n",
      "|       1.0|       1|\n",
      "|       1.0|       1|\n",
      "|       1.0|       1|\n",
      "|       1.0|       1|\n",
      "|       1.0|       1|\n",
      "|       1.0|       1|\n",
      "|       1.0|       1|\n",
      "|       1.0|       1|\n",
      "|       1.0|       0|\n",
      "|       1.0|       0|\n",
      "|       1.0|       0|\n",
      "|       1.0|       1|\n",
      "|       1.0|       0|\n",
      "|       0.0|       0|\n",
      "|       1.0|       0|\n",
      "|       0.0|       0|\n",
      "|       0.0|       1|\n",
      "|       1.0|       0|\n",
      "|       1.0|       1|\n",
      "|       1.0|       1|\n",
      "|       0.0|       0|\n",
      "|       0.0|       0|\n",
      "|       0.0|       1|\n",
      "|       0.0|       0|\n",
      "|       0.0|       1|\n",
      "|       0.0|       0|\n",
      "|       1.0|       0|\n",
      "|       0.0|       0|\n",
      "|       0.0|       1|\n",
      "+----------+--------+\n",
      "only showing top 50 rows\n",
      "\n"
     ]
    }
   ],
   "source": [
    "result.select([\"prediction\",\"Survived\"]).show(50)"
   ]
  },
  {
   "cell_type": "code",
   "execution_count": null,
   "metadata": {
    "id": "oUo0DX3V9nyV"
   },
   "outputs": [],
   "source": [
    "from pyspark.ml.evaluation import BinaryClassificationEvaluator"
   ]
  },
  {
   "cell_type": "code",
   "execution_count": null,
   "metadata": {
    "colab": {
     "base_uri": "https://localhost:8080/"
    },
    "id": "rRjKh4vh90E-",
    "outputId": "0d6781f3-ccd3-453b-b0b2-63482cf62c28"
   },
   "outputs": [
    {
     "data": {
      "text/plain": [
       "BinaryClassificationEvaluator_bf4b52e77e9f"
      ]
     },
     "execution_count": 44,
     "metadata": {},
     "output_type": "execute_result"
    }
   ],
   "source": [
    "my_eval = BinaryClassificationEvaluator(rawPredictionCol=\"rawPrediction\", labelCol=\"Survived\")\n"
   ]
  },
  {
   "cell_type": "code",
   "execution_count": null,
   "metadata": {
    "id": "0s7tp3n1-7vD"
   },
   "outputs": [],
   "source": [
    "eval = my_eval.evaluate(result)"
   ]
  },
  {
   "cell_type": "code",
   "execution_count": null,
   "metadata": {
    "colab": {
     "base_uri": "https://localhost:8080/"
    },
    "id": "XUcplN-6_Kox",
    "outputId": "527f1122-a3d5-4098-fe05-fe23fb0119dd"
   },
   "outputs": [
    {
     "data": {
      "text/plain": [
       "0.8546296296296304"
      ]
     },
     "execution_count": 46,
     "metadata": {},
     "output_type": "execute_result"
    }
   ],
   "source": [
    "eval"
   ]
  }
 ],
 "metadata": {
  "colab": {
   "collapsed_sections": [],
   "name": "titanic_mllib.ipynb",
   "provenance": []
  },
  "kernelspec": {
   "display_name": "Python 3 (ipykernel)",
   "language": "python",
   "name": "python3"
  },
  "language_info": {
   "codemirror_mode": {
    "name": "ipython",
    "version": 3
   },
   "file_extension": ".py",
   "mimetype": "text/x-python",
   "name": "python",
   "nbconvert_exporter": "python",
   "pygments_lexer": "ipython3",
   "version": "3.8.12"
  }
 },
 "nbformat": 4,
 "nbformat_minor": 1
}
