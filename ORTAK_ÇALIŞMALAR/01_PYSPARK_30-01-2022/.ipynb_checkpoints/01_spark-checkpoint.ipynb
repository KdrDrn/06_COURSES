{
 "cells": [
  {
   "cell_type": "code",
   "execution_count": 1,
   "metadata": {
    "colab": {
     "base_uri": "https://localhost:8080/"
    },
    "id": "SdpT2guEWahi",
    "outputId": "7facc253-3bd4-4d2e-ccc5-674848f7cf7c"
   },
   "outputs": [
    {
     "name": "stdout",
     "output_type": "stream",
     "text": [
      "Requirement already satisfied: pyspark in c:\\users\\toshiba\\anaconda3\\lib\\site-packages (3.1.2)\n",
      "Requirement already satisfied: py4j==0.10.9 in c:\\users\\toshiba\\anaconda3\\lib\\site-packages (from pyspark) (0.10.9)\n",
      "Note: you may need to restart the kernel to use updated packages.\n"
     ]
    },
    {
     "name": "stderr",
     "output_type": "stream",
     "text": [
      "WARNING: You are using pip version 21.3.1; however, version 22.0 is available.\n",
      "You should consider upgrading via the 'C:\\Users\\Toshiba\\anaconda3\\python.exe -m pip install --upgrade pip' command.\n"
     ]
    }
   ],
   "source": [
    "pip install pyspark"
   ]
  },
  {
   "cell_type": "code",
   "execution_count": null,
   "metadata": {
    "id": "pyAvRti5WpOH"
   },
   "outputs": [],
   "source": [
    "from pyspark.sql import SparkSession\n",
    "spark = SparkSession.builder.appName('Spark').getOrCreate()"
   ]
  },
  {
   "cell_type": "code",
   "execution_count": null,
   "metadata": {
    "colab": {
     "base_uri": "https://localhost:8080/",
     "height": 219
    },
    "id": "3eIVu-jjdDTU",
    "outputId": "d722c536-95fe-42d5-ce52-9c9cc3c7721c"
   },
   "outputs": [
    {
     "data": {
      "text/html": [
       "\n",
       "            <div>\n",
       "                <p><b>SparkSession - in-memory</b></p>\n",
       "                \n",
       "        <div>\n",
       "            <p><b>SparkContext</b></p>\n",
       "\n",
       "            <p><a href=\"http://086f6c9930b8:4040\">Spark UI</a></p>\n",
       "\n",
       "            <dl>\n",
       "              <dt>Version</dt>\n",
       "                <dd><code>v3.2.1</code></dd>\n",
       "              <dt>Master</dt>\n",
       "                <dd><code>local[*]</code></dd>\n",
       "              <dt>AppName</dt>\n",
       "                <dd><code>Spark</code></dd>\n",
       "            </dl>\n",
       "        </div>\n",
       "        \n",
       "            </div>\n",
       "        "
      ],
      "text/plain": [
       "<pyspark.sql.session.SparkSession at 0x7fde3373c190>"
      ]
     },
     "execution_count": 3,
     "metadata": {},
     "output_type": "execute_result"
    }
   ],
   "source": [
    "spark"
   ]
  },
  {
   "cell_type": "code",
   "execution_count": null,
   "metadata": {
    "id": "v3aYSkF3dGC5"
   },
   "outputs": [],
   "source": [
    "from pyspark.sql.types import StructType, StructField, IntegerType, StringType\n",
    "\n",
    "liste = [(1, \"Joseph\", \"Forest\", 32, 12000),\n",
    "        (2, \"Tommy\", \"Happy\", 38, 13000),\n",
    "        (3, \"Thomas\", \"Horse\", 30, 11000),\n",
    "        (4, \"Strato\", \"Wise\", 37 , 15000)]\n",
    "\n",
    "# columns = [\"ID\",\"Name\",\"Surname\",\"Age\",\"Salary\"]\n",
    "\n",
    "# df = spark.createDataFrame(liste,columns)\n",
    "\n",
    "list_schema = StructType([StructField(\"ID\", IntegerType(), False),\n",
    "                          StructField(\"Name\", StringType(), True),\n",
    "                          StructField(\"Surname\", StringType(), True),\n",
    "                          StructField(\"Age\", IntegerType(), True),\n",
    "                          StructField(\"Salary\", IntegerType(), True)\n",
    "                          ])\n",
    "\n",
    "sample_df = spark.createDataFrame(data=liste, schema=list_schema)"
   ]
  },
  {
   "cell_type": "code",
   "execution_count": null,
   "metadata": {
    "colab": {
     "base_uri": "https://localhost:8080/"
    },
    "id": "NiuwBBfsgZ0h",
    "outputId": "4acd4669-2c82-49db-c262-b0a5fa4b22ea"
   },
   "outputs": [
    {
     "name": "stdout",
     "output_type": "stream",
     "text": [
      "root\n",
      " |-- ID: integer (nullable = false)\n",
      " |-- Name: string (nullable = true)\n",
      " |-- Surname: string (nullable = true)\n",
      " |-- Age: integer (nullable = true)\n",
      " |-- Salary: integer (nullable = true)\n",
      "\n"
     ]
    }
   ],
   "source": [
    "sample_df.printSchema()"
   ]
  },
  {
   "cell_type": "code",
   "execution_count": null,
   "metadata": {
    "colab": {
     "base_uri": "https://localhost:8080/"
    },
    "id": "QKE87BcZgjGE",
    "outputId": "29f3238b-0dda-48d3-9d57-784bd8903280"
   },
   "outputs": [
    {
     "name": "stdout",
     "output_type": "stream",
     "text": [
      "+---+------+-------+---+------+\n",
      "| ID|  Name|Surname|Age|Salary|\n",
      "+---+------+-------+---+------+\n",
      "|  1|Joseph| Forest| 32| 12000|\n",
      "|  2| Tommy|  Happy| 38| 13000|\n",
      "|  3|Thomas|  Horse| 30| 11000|\n",
      "|  4|Strato|   Wise| 37| 15000|\n",
      "+---+------+-------+---+------+\n",
      "\n"
     ]
    }
   ],
   "source": [
    "sample_df.show()"
   ]
  },
  {
   "cell_type": "code",
   "execution_count": null,
   "metadata": {
    "colab": {
     "base_uri": "https://localhost:8080/"
    },
    "id": "Z2gYHilM6EpT",
    "outputId": "1781730e-df09-4fe8-f83a-00420be16365"
   },
   "outputs": [
    {
     "data": {
      "text/plain": [
       "[Row(ID=1, Name='Joseph', Surname='Forest', Age=32, Salary=12000),\n",
       " Row(ID=2, Name='Tommy', Surname='Happy', Age=38, Salary=13000)]"
      ]
     },
     "execution_count": 7,
     "metadata": {},
     "output_type": "execute_result"
    }
   ],
   "source": [
    "sample_df.head(2)"
   ]
  },
  {
   "cell_type": "code",
   "execution_count": null,
   "metadata": {
    "colab": {
     "base_uri": "https://localhost:8080/"
    },
    "id": "33agFVgERHGJ",
    "outputId": "50d85ea6-b8cf-4f08-cdf4-73b4c53655c5"
   },
   "outputs": [
    {
     "data": {
      "text/plain": [
       "['ID', 'Name', 'Surname', 'Age', 'Salary']"
      ]
     },
     "execution_count": 8,
     "metadata": {},
     "output_type": "execute_result"
    }
   ],
   "source": [
    "sample_df.columns"
   ]
  },
  {
   "cell_type": "code",
   "execution_count": null,
   "metadata": {
    "colab": {
     "base_uri": "https://localhost:8080/"
    },
    "id": "ScHazZqDRMHp",
    "outputId": "a4d7501b-352c-4230-cd25-be0cab5bb76a"
   },
   "outputs": [
    {
     "name": "stdout",
     "output_type": "stream",
     "text": [
      "+-------+------------------+------+-------+------------------+-----------------+\n",
      "|summary|                ID|  Name|Surname|               Age|           Salary|\n",
      "+-------+------------------+------+-------+------------------+-----------------+\n",
      "|  count|                 4|     4|      4|                 4|                4|\n",
      "|   mean|               2.5|  null|   null|             34.25|          12750.0|\n",
      "| stddev|1.2909944487358056|  null|   null|3.8622100754188224|1707.825127659933|\n",
      "|    min|                 1|Joseph| Forest|                30|            11000|\n",
      "|    max|                 4| Tommy|   Wise|                38|            15000|\n",
      "+-------+------------------+------+-------+------------------+-----------------+\n",
      "\n"
     ]
    }
   ],
   "source": [
    "sample_df.describe().show()"
   ]
  },
  {
   "cell_type": "code",
   "execution_count": null,
   "metadata": {
    "colab": {
     "base_uri": "https://localhost:8080/"
    },
    "id": "TLa7cVkpSXEM",
    "outputId": "c19a6c9f-737e-43e9-a2da-7e960d7e1f2d"
   },
   "outputs": [
    {
     "name": "stdout",
     "output_type": "stream",
     "text": [
      "+------+------+\n",
      "|  Name|Salary|\n",
      "+------+------+\n",
      "|Joseph| 12000|\n",
      "| Tommy| 13000|\n",
      "|Thomas| 11000|\n",
      "|Strato| 15000|\n",
      "+------+------+\n",
      "\n"
     ]
    }
   ],
   "source": [
    "sample_df.select([\"Name\",\"Salary\"]).show()"
   ]
  },
  {
   "cell_type": "code",
   "execution_count": null,
   "metadata": {
    "colab": {
     "base_uri": "https://localhost:8080/"
    },
    "id": "o_JlwDDBSoVK",
    "outputId": "cd531de7-7d3d-42d1-fb92-6afd9f3495a5"
   },
   "outputs": [
    {
     "data": {
      "text/plain": [
       "{'Age': 32, 'ID': 1, 'Name': 'Joseph', 'Salary': 12000, 'Surname': 'Forest'}"
      ]
     },
     "execution_count": 11,
     "metadata": {},
     "output_type": "execute_result"
    }
   ],
   "source": [
    "sample_df.head(2)[0].asDict()#[\"Last Name\"]"
   ]
  },
  {
   "cell_type": "code",
   "execution_count": null,
   "metadata": {
    "colab": {
     "base_uri": "https://localhost:8080/"
    },
    "id": "ogsKdXp2TgAd",
    "outputId": "b5637c95-38a7-446f-ab4f-d373ef0e1c50"
   },
   "outputs": [
    {
     "name": "stdout",
     "output_type": "stream",
     "text": [
      "+---+------+-------+---+------+----------+\n",
      "| ID|  Name|Surname|Age|Salary|new_salary|\n",
      "+---+------+-------+---+------+----------+\n",
      "|  1|Joseph| Forest| 32| 12000|   14400.0|\n",
      "|  2| Tommy|  Happy| 38| 13000|   15600.0|\n",
      "|  3|Thomas|  Horse| 30| 11000|   13200.0|\n",
      "|  4|Strato|   Wise| 37| 15000|   18000.0|\n",
      "+---+------+-------+---+------+----------+\n",
      "\n"
     ]
    }
   ],
   "source": [
    "sample_df.withColumn(\"new_salary\", sample_df[\"Salary\"]*1.2).show()"
   ]
  },
  {
   "cell_type": "code",
   "execution_count": null,
   "metadata": {
    "colab": {
     "base_uri": "https://localhost:8080/"
    },
    "id": "iMZOkI8MhbP4",
    "outputId": "959d5410-d838-4ed3-ce95-3e070de75653"
   },
   "outputs": [
    {
     "name": "stdout",
     "output_type": "stream",
     "text": [
      "+---+------+-------+---+------+-------+\n",
      "| ID|  Name|Surname|Age|Salary|new_age|\n",
      "+---+------+-------+---+------+-------+\n",
      "|  1|Joseph| Forest| 32| 12000|     34|\n",
      "|  2| Tommy|  Happy| 38| 13000|     40|\n",
      "|  3|Thomas|  Horse| 30| 11000|     32|\n",
      "|  4|Strato|   Wise| 37| 15000|     39|\n",
      "+---+------+-------+---+------+-------+\n",
      "\n"
     ]
    }
   ],
   "source": [
    "from pyspark.sql.functions import col, lit\n",
    "sample_df.withColumn(\"new_age\", (col(\"Age\")+2).cast(\"String\")).show()"
   ]
  },
  {
   "cell_type": "code",
   "execution_count": null,
   "metadata": {
    "colab": {
     "base_uri": "https://localhost:8080/"
    },
    "id": "VUsaVeGDiGr4",
    "outputId": "f8d44856-92fe-4ccd-8465-2660ec1c5652"
   },
   "outputs": [
    {
     "name": "stdout",
     "output_type": "stream",
     "text": [
      "+---+------+-------+---+------+-------+\n",
      "| ID|  Name|Surname|Age|Salary|Country|\n",
      "+---+------+-------+---+------+-------+\n",
      "|  1|Joseph| Forest| 32| 12000|     TR|\n",
      "|  2| Tommy|  Happy| 38| 13000|     TR|\n",
      "|  3|Thomas|  Horse| 30| 11000|     TR|\n",
      "|  4|Strato|   Wise| 37| 15000|     TR|\n",
      "+---+------+-------+---+------+-------+\n",
      "\n"
     ]
    }
   ],
   "source": [
    "sample_df.withColumn(\"Country\",lit(\"TR\")).show()"
   ]
  },
  {
   "cell_type": "code",
   "execution_count": null,
   "metadata": {
    "colab": {
     "base_uri": "https://localhost:8080/"
    },
    "id": "n7oWKT1mBaeX",
    "outputId": "07049224-a934-43c2-cb72-70afc3f2f830"
   },
   "outputs": [
    {
     "name": "stdout",
     "output_type": "stream",
     "text": [
      "+------+-------+-------+\n",
      "|  Name|Surname|Country|\n",
      "+------+-------+-------+\n",
      "|Joseph| Forest|     TR|\n",
      "| Tommy|  Happy|     TR|\n",
      "|Thomas|  Horse|     TR|\n",
      "|Strato|   Wise|     TR|\n",
      "+------+-------+-------+\n",
      "\n"
     ]
    }
   ],
   "source": [
    "sample_df.select(col(\"Name\"),col(\"Surname\"),lit(\"TR\").alias(\"Country\")).show()"
   ]
  },
  {
   "cell_type": "code",
   "execution_count": null,
   "metadata": {
    "colab": {
     "base_uri": "https://localhost:8080/"
    },
    "id": "PsniD0GnB2Yc",
    "outputId": "dc706132-66b4-4482-b4db-416ec8c2ef7f"
   },
   "outputs": [
    {
     "name": "stdout",
     "output_type": "stream",
     "text": [
      "+---+------+-------+---+------+------------+\n",
      "| ID|  Name|Surname|Age|Salary|Salary Level|\n",
      "+---+------+-------+---+------+------------+\n",
      "|  1|Joseph| Forest| 32| 12000|      Normal|\n",
      "|  2| Tommy|  Happy| 38| 13000|        High|\n",
      "|  3|Thomas|  Horse| 30| 11000|      Normal|\n",
      "|  4|Strato|   Wise| 37| 15000|        High|\n",
      "+---+------+-------+---+------+------------+\n",
      "\n"
     ]
    }
   ],
   "source": [
    "from pyspark.sql.functions import when\n",
    "\n",
    "sample_df.withColumn(\"Salary Level\", when(col(\"Salary\") >12000,lit(\"High\")).otherwise(lit(\"Normal\"))).show()\n",
    "\n"
   ]
  },
  {
   "cell_type": "code",
   "execution_count": null,
   "metadata": {
    "colab": {
     "base_uri": "https://localhost:8080/"
    },
    "id": "ERcvAF3iZwaj",
    "outputId": "6d3ab936-c999-426d-c6df-627bd7456343"
   },
   "outputs": [
    {
     "name": "stdout",
     "output_type": "stream",
     "text": [
      "+---+------+-------+---+------+\n",
      "| ID|  Name|Surname|Age|Salary|\n",
      "+---+------+-------+---+------+\n",
      "|  1|Joseph| Forest| 32| 12000|\n",
      "|  2| Tommy|  Happy| 38| 13000|\n",
      "|  3|Thomas|  Horse| 30| 11000|\n",
      "|  4|Strato|   Wise| 37| 15000|\n",
      "+---+------+-------+---+------+\n",
      "\n"
     ]
    }
   ],
   "source": [
    "sample_df.show()"
   ]
  },
  {
   "cell_type": "code",
   "execution_count": null,
   "metadata": {
    "colab": {
     "base_uri": "https://localhost:8080/"
    },
    "id": "njQlmf28e0MG",
    "outputId": "62e4c7cc-6af7-421f-d5de-1ba1a9123b1d"
   },
   "outputs": [
    {
     "name": "stdout",
     "output_type": "stream",
     "text": [
      "+---+------+-------+---+------+\n",
      "| ID|  Name|Surname|Age|Salary|\n",
      "+---+------+-------+---+------+\n",
      "|  1|Joseph| Forest| 32| 12000|\n",
      "|  2| Tommy|  Happy| 38| 13000|\n",
      "|  3|Thomas|  Horse| 30| 11000|\n",
      "|  4|Strato|   Wise| 37| 15000|\n",
      "+---+------+-------+---+------+\n",
      "\n"
     ]
    }
   ],
   "source": [
    "sample_df.withColumnRenamed(\"Last Name\",\"Surname\").show()"
   ]
  },
  {
   "cell_type": "code",
   "execution_count": null,
   "metadata": {
    "colab": {
     "base_uri": "https://localhost:8080/"
    },
    "id": "ad_HOneWirp7",
    "outputId": "2c3ff485-a84a-4f79-c651-28ddc98f93f8"
   },
   "outputs": [
    {
     "name": "stdout",
     "output_type": "stream",
     "text": [
      "+------+------+-------+---+------+\n",
      "|Number|  Name|Surname|Age|Salary|\n",
      "+------+------+-------+---+------+\n",
      "|     1|Joseph| Forest| 32| 12000|\n",
      "|     2| Tommy|  Happy| 38| 13000|\n",
      "|     3|Thomas|  Horse| 30| 11000|\n",
      "|     4|Strato|   Wise| 37| 15000|\n",
      "+------+------+-------+---+------+\n",
      "\n"
     ]
    }
   ],
   "source": [
    "sample_df.withColumnRenamed(\"Last Name\",\"Surname\") \\\n",
    "         .withColumnRenamed(\"ID\", \"Number\").show()"
   ]
  },
  {
   "cell_type": "code",
   "execution_count": null,
   "metadata": {
    "colab": {
     "base_uri": "https://localhost:8080/"
    },
    "id": "vlateeHgtN78",
    "outputId": "f17aed33-7901-4d10-ac9c-6fbdca683288"
   },
   "outputs": [
    {
     "name": "stdout",
     "output_type": "stream",
     "text": [
      "+------+-------+---+------+\n",
      "|  Name|Surname|Age|Salary|\n",
      "+------+-------+---+------+\n",
      "|Joseph| Forest| 32| 12000|\n",
      "| Tommy|  Happy| 38| 13000|\n",
      "|Thomas|  Horse| 30| 11000|\n",
      "|Strato|   Wise| 37| 15000|\n",
      "+------+-------+---+------+\n",
      "\n"
     ]
    }
   ],
   "source": [
    "sample_df.drop(\"ID\").show()"
   ]
  },
  {
   "cell_type": "code",
   "execution_count": null,
   "metadata": {
    "id": "Ln4Z-FTBf3wL"
   },
   "outputs": [],
   "source": [
    "df_collect = sample_df.collect()"
   ]
  },
  {
   "cell_type": "code",
   "execution_count": null,
   "metadata": {
    "colab": {
     "base_uri": "https://localhost:8080/"
    },
    "id": "qU7Cq8Djf-cn",
    "outputId": "fafd1192-f3e0-454c-cacf-b044df2e0cba"
   },
   "outputs": [
    {
     "data": {
      "text/plain": [
       "[Row(ID=1, Name='Joseph', Surname='Forest', Age=32, Salary=12000),\n",
       " Row(ID=2, Name='Tommy', Surname='Happy', Age=38, Salary=13000),\n",
       " Row(ID=3, Name='Thomas', Surname='Horse', Age=30, Salary=11000),\n",
       " Row(ID=4, Name='Strato', Surname='Wise', Age=37, Salary=15000)]"
      ]
     },
     "execution_count": 22,
     "metadata": {},
     "output_type": "execute_result"
    }
   ],
   "source": [
    "df_collect#[1][2]"
   ]
  },
  {
   "cell_type": "code",
   "execution_count": null,
   "metadata": {
    "colab": {
     "base_uri": "https://localhost:8080/"
    },
    "id": "nB4uIGyvgLYO",
    "outputId": "b86ec181-630d-4a5f-8c78-d975f221a289"
   },
   "outputs": [
    {
     "name": "stdout",
     "output_type": "stream",
     "text": [
      "Joseph Forest\n",
      "Tommy Happy\n",
      "Thomas Horse\n",
      "Strato Wise\n"
     ]
    }
   ],
   "source": [
    "for row in df_collect:\n",
    "  print(row[\"Name\"] + \" \" + row[\"Surname\"])"
   ]
  },
  {
   "cell_type": "code",
   "execution_count": null,
   "metadata": {
    "id": "xjtokeTSglAr"
   },
   "outputs": [],
   "source": [
    "sample_df.createOrReplaceTempView(\"personel\")"
   ]
  },
  {
   "cell_type": "code",
   "execution_count": null,
   "metadata": {
    "colab": {
     "base_uri": "https://localhost:8080/"
    },
    "id": "CTQJerIaj4lH",
    "outputId": "c0ef5e7c-2557-4951-f9ce-bc522ddc2183"
   },
   "outputs": [
    {
     "name": "stdout",
     "output_type": "stream",
     "text": [
      "+---+------+-------+---+------+\n",
      "| ID|  Name|Surname|Age|Salary|\n",
      "+---+------+-------+---+------+\n",
      "|  2| Tommy|  Happy| 38| 13000|\n",
      "|  4|Strato|   Wise| 37| 15000|\n",
      "+---+------+-------+---+------+\n",
      "\n"
     ]
    }
   ],
   "source": [
    "query = spark.sql(\"SELECT * FROM personel WHERE Salary>12000\")\n",
    "query.show()"
   ]
  },
  {
   "cell_type": "code",
   "execution_count": null,
   "metadata": {
    "colab": {
     "base_uri": "https://localhost:8080/"
    },
    "id": "XxuwKydxl8dk",
    "outputId": "961f93a1-d372-4be0-eb20-25d452e20a2a"
   },
   "outputs": [
    {
     "name": "stdout",
     "output_type": "stream",
     "text": [
      "+---+------+-------+---+------+\n",
      "| ID|  Name|Surname|Age|Salary|\n",
      "+---+------+-------+---+------+\n",
      "|  1|Joseph| Forest| 32| 12000|\n",
      "|  3|Thomas|  Horse| 30| 11000|\n",
      "|  4|Strato|   Wise| 37| 15000|\n",
      "+---+------+-------+---+------+\n",
      "\n"
     ]
    }
   ],
   "source": [
    "sample_df.filter(\"Age<38\").show()"
   ]
  },
  {
   "cell_type": "code",
   "execution_count": null,
   "metadata": {
    "colab": {
     "base_uri": "https://localhost:8080/"
    },
    "id": "UAf1_zmu0umG",
    "outputId": "93d8c5c7-3fa6-42b2-db70-3d8e5f7e512a"
   },
   "outputs": [
    {
     "name": "stdout",
     "output_type": "stream",
     "text": [
      "+------+------+\n",
      "|  Name|Salary|\n",
      "+------+------+\n",
      "|Joseph| 12000|\n",
      "|Thomas| 11000|\n",
      "|Strato| 15000|\n",
      "+------+------+\n",
      "\n"
     ]
    }
   ],
   "source": [
    "sample_df.filter(sample_df[\"Age\"]<38).select([\"Name\", \"Salary\"]).show()"
   ]
  },
  {
   "cell_type": "code",
   "execution_count": null,
   "metadata": {
    "colab": {
     "base_uri": "https://localhost:8080/"
    },
    "id": "CF5ecGeS0vVR",
    "outputId": "4c252efe-89c3-4157-96a2-902bdc66acd4"
   },
   "outputs": [
    {
     "name": "stdout",
     "output_type": "stream",
     "text": [
      "+------+------+\n",
      "|  Name|Salary|\n",
      "+------+------+\n",
      "|Joseph| 12000|\n",
      "|Thomas| 11000|\n",
      "+------+------+\n",
      "\n"
     ]
    }
   ],
   "source": [
    "sample_df.filter( (sample_df[\"Age\"]<38) & (sample_df[\"Salary\"]<15000) ).select([\"Name\", \"Salary\"]).show()"
   ]
  },
  {
   "cell_type": "code",
   "execution_count": null,
   "metadata": {
    "colab": {
     "base_uri": "https://localhost:8080/"
    },
    "id": "Ijh8PbT_g7Qa",
    "outputId": "697774e0-031d-4c12-9e89-bffac9927475"
   },
   "outputs": [
    {
     "name": "stdout",
     "output_type": "stream",
     "text": [
      "+-------+-------+-----+\n",
      "|Company| Person|Sales|\n",
      "+-------+-------+-----+\n",
      "|   GOOG|    Sam|200.0|\n",
      "|   GOOG|Charlie|120.0|\n",
      "|   GOOG|  Frank|340.0|\n",
      "|   MSFT|   Tina|600.0|\n",
      "|   MSFT|    Amy|124.0|\n",
      "|   MSFT|Vanessa|243.0|\n",
      "|     FB|   Carl|870.0|\n",
      "|     FB|  Sarah|350.0|\n",
      "|   APPL|   John|250.0|\n",
      "|   APPL|  Linda|130.0|\n",
      "|   APPL|   Mike|750.0|\n",
      "|   APPL|  Chris|350.0|\n",
      "+-------+-------+-----+\n",
      "\n"
     ]
    }
   ],
   "source": [
    "sales_df = spark.read.csv(\"sales.csv\",header=True, inferSchema=True)\n",
    "sales_df.show()"
   ]
  },
  {
   "cell_type": "code",
   "execution_count": null,
   "metadata": {
    "colab": {
     "base_uri": "https://localhost:8080/"
    },
    "id": "QVZhalTNicVW",
    "outputId": "b9658a0c-7775-4f9e-fd94-e36873a093b3"
   },
   "outputs": [
    {
     "name": "stdout",
     "output_type": "stream",
     "text": [
      "root\n",
      " |-- Company: string (nullable = true)\n",
      " |-- Person: string (nullable = true)\n",
      " |-- Sales: double (nullable = true)\n",
      "\n"
     ]
    }
   ],
   "source": [
    "sales_df.printSchema()"
   ]
  },
  {
   "cell_type": "code",
   "execution_count": null,
   "metadata": {
    "colab": {
     "base_uri": "https://localhost:8080/"
    },
    "id": "9xvedx4Ajr7e",
    "outputId": "f609843a-599e-4e28-9ecc-0b5092edc6a9"
   },
   "outputs": [
    {
     "name": "stdout",
     "output_type": "stream",
     "text": [
      "+-------+----------+\n",
      "|Company|max(Sales)|\n",
      "+-------+----------+\n",
      "|   APPL|     750.0|\n",
      "|   GOOG|     340.0|\n",
      "|     FB|     870.0|\n",
      "|   MSFT|     600.0|\n",
      "+-------+----------+\n",
      "\n"
     ]
    }
   ],
   "source": [
    "sales_df.groupBy(\"Company\").max().show()"
   ]
  },
  {
   "cell_type": "code",
   "execution_count": null,
   "metadata": {
    "colab": {
     "base_uri": "https://localhost:8080/"
    },
    "id": "dO0Dt5J_loiG",
    "outputId": "d0213b63-46fc-4edf-dc7c-4c5d4aa17d68"
   },
   "outputs": [
    {
     "name": "stdout",
     "output_type": "stream",
     "text": [
      "+-----------------+\n",
      "|       avg(sales)|\n",
      "+-----------------+\n",
      "|360.5833333333333|\n",
      "+-----------------+\n",
      "\n"
     ]
    }
   ],
   "source": [
    "sales_df.agg({\"sales\":\"mean\"}).show()"
   ]
  },
  {
   "cell_type": "code",
   "execution_count": null,
   "metadata": {
    "colab": {
     "base_uri": "https://localhost:8080/"
    },
    "id": "WLgLYob2m2SS",
    "outputId": "2e8af8cd-df4d-4e8b-f34e-634e94541a77"
   },
   "outputs": [
    {
     "name": "stdout",
     "output_type": "stream",
     "text": [
      "+-------+----------+\n",
      "|Company|max(sales)|\n",
      "+-------+----------+\n",
      "|   APPL|     750.0|\n",
      "|   GOOG|     340.0|\n",
      "|     FB|     870.0|\n",
      "|   MSFT|     600.0|\n",
      "+-------+----------+\n",
      "\n"
     ]
    }
   ],
   "source": [
    "groupdf = sales_df.groupBy(\"Company\")\n",
    "groupdf.agg({\"sales\":\"max\"}).show()"
   ]
  },
  {
   "cell_type": "code",
   "execution_count": null,
   "metadata": {
    "colab": {
     "base_uri": "https://localhost:8080/"
    },
    "id": "epgYXmfmnKxT",
    "outputId": "b526dc21-0b76-492c-b460-ccbac0205abc"
   },
   "outputs": [
    {
     "name": "stdout",
     "output_type": "stream",
     "text": [
      "+-------+-----+\n",
      "|Company|count|\n",
      "+-------+-----+\n",
      "|     FB|    2|\n",
      "|   GOOG|    3|\n",
      "|   MSFT|    3|\n",
      "|   APPL|    4|\n",
      "+-------+-----+\n",
      "\n"
     ]
    }
   ],
   "source": [
    "sales_df.groupBy(\"Company\").count().orderBy(\"count\").show() ##  value_counts"
   ]
  },
  {
   "cell_type": "code",
   "execution_count": null,
   "metadata": {
    "colab": {
     "base_uri": "https://localhost:8080/"
    },
    "id": "fq_NpK37os3g",
    "outputId": "54581452-edaf-429f-9e51-f876df1b53cf"
   },
   "outputs": [
    {
     "name": "stdout",
     "output_type": "stream",
     "text": [
      "+-----------------+\n",
      "|    Average Sales|\n",
      "+-----------------+\n",
      "|360.5833333333333|\n",
      "+-----------------+\n",
      "\n"
     ]
    }
   ],
   "source": [
    "from pyspark.sql.functions import countDistinct, avg, stddev, format_number\n",
    "sales_df.select(avg(\"sales\").alias(\"Average Sales\")).show()\n"
   ]
  },
  {
   "cell_type": "code",
   "execution_count": null,
   "metadata": {
    "colab": {
     "base_uri": "https://localhost:8080/"
    },
    "id": "qFl-Dq5ZrXpy",
    "outputId": "d740a598-00cb-4f08-8559-9d44fae4376f"
   },
   "outputs": [
    {
     "name": "stdout",
     "output_type": "stream",
     "text": [
      "+------------+\n",
      "|Averga Sales|\n",
      "+------------+\n",
      "|      360.58|\n",
      "+------------+\n",
      "\n"
     ]
    }
   ],
   "source": [
    "avg_sale = sales_df.select(avg(\"sales\").alias(\"Average Sales\"))\n",
    "avg_sale.select(format_number(\"Average Sales\",2).alias(\"Averga Sales\")).show()"
   ]
  },
  {
   "cell_type": "code",
   "execution_count": null,
   "metadata": {
    "colab": {
     "base_uri": "https://localhost:8080/"
    },
    "id": "psG2rM2oscPR",
    "outputId": "2adf7418-320e-45f2-b437-c39c342996ce"
   },
   "outputs": [
    {
     "name": "stdout",
     "output_type": "stream",
     "text": [
      "+-------+-------+-----+\n",
      "|Company| Person|Sales|\n",
      "+-------+-------+-----+\n",
      "|   GOOG|Charlie|120.0|\n",
      "|   MSFT|    Amy|124.0|\n",
      "|   APPL|  Linda|130.0|\n",
      "|   GOOG|    Sam|200.0|\n",
      "|   MSFT|Vanessa|243.0|\n",
      "|   APPL|   John|250.0|\n",
      "|   GOOG|  Frank|340.0|\n",
      "|     FB|  Sarah|350.0|\n",
      "|   APPL|  Chris|350.0|\n",
      "|   MSFT|   Tina|600.0|\n",
      "|   APPL|   Mike|750.0|\n",
      "|     FB|   Carl|870.0|\n",
      "+-------+-------+-----+\n",
      "\n"
     ]
    }
   ],
   "source": [
    "sales_df.orderBy(\"Sales\").show()"
   ]
  },
  {
   "cell_type": "code",
   "execution_count": null,
   "metadata": {
    "colab": {
     "base_uri": "https://localhost:8080/"
    },
    "id": "n4_sUNb8slfL",
    "outputId": "af7a2730-ea4c-4929-c4f0-5fe27e0cc4de"
   },
   "outputs": [
    {
     "name": "stdout",
     "output_type": "stream",
     "text": [
      "+-------+-------+-----+\n",
      "|Company| Person|Sales|\n",
      "+-------+-------+-----+\n",
      "|     FB|   Carl|870.0|\n",
      "|   APPL|   Mike|750.0|\n",
      "|   MSFT|   Tina|600.0|\n",
      "|     FB|  Sarah|350.0|\n",
      "|   APPL|  Chris|350.0|\n",
      "|   GOOG|  Frank|340.0|\n",
      "|   APPL|   John|250.0|\n",
      "|   MSFT|Vanessa|243.0|\n",
      "|   GOOG|    Sam|200.0|\n",
      "|   APPL|  Linda|130.0|\n",
      "|   MSFT|    Amy|124.0|\n",
      "|   GOOG|Charlie|120.0|\n",
      "+-------+-------+-----+\n",
      "\n"
     ]
    }
   ],
   "source": [
    "sales_df.orderBy(sales_df[\"Sales\"].desc()).show()"
   ]
  },
  {
   "cell_type": "code",
   "execution_count": null,
   "metadata": {
    "id": "bbwmeg7zsxBO"
   },
   "outputs": [],
   "source": [
    "liste2 = [(1, \"Joseph\", \"Forest\", 32, None),\n",
    "          (2, \"Tommy\", None,  38, 13000),\n",
    "          (3, \"Thomas\", None, None, None),\n",
    "          (4, \"Strato\", \"Wise\", 37 , 15000)]\n",
    "\n",
    "columns2 = [\"ID\",\"Name\",\"Surname\",\"Age\",\"Salary\"]\n",
    "\n",
    "missing_df = spark.createDataFrame(liste2,columns2)"
   ]
  },
  {
   "cell_type": "code",
   "execution_count": null,
   "metadata": {
    "colab": {
     "base_uri": "https://localhost:8080/"
    },
    "id": "AqeDdl_mrE9j",
    "outputId": "5f62b1a3-ad80-4e69-d09f-3b52bc9ee9a3"
   },
   "outputs": [
    {
     "name": "stdout",
     "output_type": "stream",
     "text": [
      "+---+------+-------+----+------+\n",
      "| ID|  Name|Surname| Age|Salary|\n",
      "+---+------+-------+----+------+\n",
      "|  1|Joseph| Forest|  32|  null|\n",
      "|  2| Tommy|   null|  38| 13000|\n",
      "|  3|Thomas|   null|null|  null|\n",
      "|  4|Strato|   Wise|  37| 15000|\n",
      "+---+------+-------+----+------+\n",
      "\n"
     ]
    }
   ],
   "source": [
    "missing_df.show()"
   ]
  },
  {
   "cell_type": "code",
   "execution_count": null,
   "metadata": {
    "colab": {
     "base_uri": "https://localhost:8080/"
    },
    "id": "H4PI_P2twCFh",
    "outputId": "23a11515-bb5c-47fd-9ed0-c1fe882e4956"
   },
   "outputs": [
    {
     "name": "stdout",
     "output_type": "stream",
     "text": [
      "+---+------+-------+---+------+\n",
      "| ID|  Name|Surname|Age|Salary|\n",
      "+---+------+-------+---+------+\n",
      "|  4|Strato|   Wise| 37| 15000|\n",
      "+---+------+-------+---+------+\n",
      "\n"
     ]
    }
   ],
   "source": [
    "missing_df.na.drop().show()"
   ]
  },
  {
   "cell_type": "code",
   "execution_count": null,
   "metadata": {
    "colab": {
     "base_uri": "https://localhost:8080/"
    },
    "id": "XIzaPEClwVYN",
    "outputId": "b6a67d83-6698-4f9a-d41f-e50750e2f6be"
   },
   "outputs": [
    {
     "name": "stdout",
     "output_type": "stream",
     "text": [
      "+---+------+-------+---+------+\n",
      "| ID|  Name|Surname|Age|Salary|\n",
      "+---+------+-------+---+------+\n",
      "|  2| Tommy|   null| 38| 13000|\n",
      "|  4|Strato|   Wise| 37| 15000|\n",
      "+---+------+-------+---+------+\n",
      "\n"
     ]
    }
   ],
   "source": [
    "missing_df.na.drop(subset=[\"Salary\"]).show()"
   ]
  },
  {
   "cell_type": "code",
   "execution_count": null,
   "metadata": {
    "colab": {
     "base_uri": "https://localhost:8080/"
    },
    "id": "jQU9QnVuzDJn",
    "outputId": "d2b8fa7c-7fa1-41dc-b010-fe78d81fdfdb"
   },
   "outputs": [
    {
     "name": "stdout",
     "output_type": "stream",
     "text": [
      "+---+------+----------+----+------+\n",
      "| ID|  Name|   Surname| Age|Salary|\n",
      "+---+------+----------+----+------+\n",
      "|  1|Joseph|    Forest|  32|  null|\n",
      "|  2| Tommy|fill value|  38| 13000|\n",
      "|  3|Thomas|fill value|null|  null|\n",
      "|  4|Strato|      Wise|  37| 15000|\n",
      "+---+------+----------+----+------+\n",
      "\n"
     ]
    }
   ],
   "source": [
    "missing_df.na.fill(\"fill value\").show()"
   ]
  },
  {
   "cell_type": "code",
   "execution_count": null,
   "metadata": {
    "colab": {
     "base_uri": "https://localhost:8080/"
    },
    "id": "d7RoUrFdzKww",
    "outputId": "55709bad-c2e5-4d74-f77c-3e067d34303a"
   },
   "outputs": [
    {
     "name": "stdout",
     "output_type": "stream",
     "text": [
      "+---+------+-------+---+------+\n",
      "| ID|  Name|Surname|Age|Salary|\n",
      "+---+------+-------+---+------+\n",
      "|  1|Joseph| Forest| 32|     0|\n",
      "|  2| Tommy|   null| 38| 13000|\n",
      "|  3|Thomas|   null|  0|     0|\n",
      "|  4|Strato|   Wise| 37| 15000|\n",
      "+---+------+-------+---+------+\n",
      "\n"
     ]
    }
   ],
   "source": [
    "missing_df.na.fill(0).show()"
   ]
  },
  {
   "cell_type": "code",
   "execution_count": null,
   "metadata": {
    "id": "cjFSC7mmzVsQ"
   },
   "outputs": [],
   "source": [
    "from pyspark.sql.functions import mean\n",
    "avg_sal = missing_df.select(mean(\"Salary\")).collect()\n",
    "mean_sal = avg_sal[0][0]"
   ]
  },
  {
   "cell_type": "code",
   "execution_count": null,
   "metadata": {
    "colab": {
     "base_uri": "https://localhost:8080/"
    },
    "id": "qaPfzdFi1J_-",
    "outputId": "5fef0bd9-cacb-426b-9446-eb3f10d0ca43"
   },
   "outputs": [
    {
     "name": "stdout",
     "output_type": "stream",
     "text": [
      "+---+------+-------+----+------+\n",
      "| ID|  Name|Surname| Age|Salary|\n",
      "+---+------+-------+----+------+\n",
      "|  1|Joseph| Forest|  32| 14000|\n",
      "|  2| Tommy|   null|  38| 13000|\n",
      "|  3|Thomas|   null|null| 14000|\n",
      "|  4|Strato|   Wise|  37| 15000|\n",
      "+---+------+-------+----+------+\n",
      "\n"
     ]
    }
   ],
   "source": [
    "missing_df.na.fill(mean_sal, subset=\"Salary\").show()"
   ]
  },
  {
   "cell_type": "code",
   "execution_count": null,
   "metadata": {
    "colab": {
     "base_uri": "https://localhost:8080/"
    },
    "id": "uuelTY8y--Y_",
    "outputId": "e3363d30-4b07-4294-f062-2fc8c0759eaa"
   },
   "outputs": [
    {
     "name": "stdout",
     "output_type": "stream",
     "text": [
      "+----------+------------------+------------------+------------------+------------------+---------+------------------+\n",
      "|      Date|              Open|              High|               Low|             Close|   Volume|         Adj Close|\n",
      "+----------+------------------+------------------+------------------+------------------+---------+------------------+\n",
      "|2010-01-04|        213.429998|        214.499996|212.38000099999996|        214.009998|123432400|         27.727039|\n",
      "|2010-01-05|        214.599998|        215.589994|        213.249994|        214.379993|150476200|27.774976000000002|\n",
      "|2010-01-06|        214.379993|            215.23|        210.750004|        210.969995|138040000|27.333178000000004|\n",
      "|2010-01-07|            211.75|        212.000006|        209.050005|            210.58|119282800|          27.28265|\n",
      "|2010-01-08|        210.299994|        212.000006|209.06000500000002|211.98000499999998|111902700|         27.464034|\n",
      "|2010-01-11|212.79999700000002|        213.000002|        208.450005|210.11000299999998|115557400|         27.221758|\n",
      "|2010-01-12|209.18999499999998|209.76999500000002|        206.419998|        207.720001|148614900|          26.91211|\n",
      "|2010-01-13|        207.870005|210.92999500000002|        204.099998|        210.650002|151473000|          27.29172|\n",
      "|2010-01-14|210.11000299999998|210.45999700000002|        209.020004|            209.43|108223500|         27.133657|\n",
      "|2010-01-15|210.92999500000002|211.59999700000003|        205.869999|            205.93|148516900|26.680197999999997|\n",
      "|2010-01-19|        208.330002|215.18999900000003|        207.240004|        215.039995|182501900|27.860484999999997|\n",
      "|2010-01-20|        214.910006|        215.549994|        209.500002|            211.73|153038200|         27.431644|\n",
      "|2010-01-21|        212.079994|213.30999599999998|        207.210003|        208.069996|152038600|         26.957455|\n",
      "|2010-01-22|206.78000600000001|        207.499996|            197.16|            197.75|220441900|         25.620401|\n",
      "|2010-01-25|202.51000200000001|        204.699999|        200.190002|        203.070002|266424900|26.309658000000002|\n",
      "|2010-01-26|205.95000100000001|        213.710005|        202.580004|        205.940001|466777500|         26.681494|\n",
      "|2010-01-27|        206.849995|            210.58|        199.530001|        207.880005|430642100|26.932840000000002|\n",
      "|2010-01-28|        204.930004|        205.500004|        198.699995|        199.289995|293375600|25.819922000000002|\n",
      "|2010-01-29|        201.079996|        202.199995|        190.250002|        192.060003|311488100|         24.883208|\n",
      "|2010-02-01|192.36999699999998|             196.0|191.29999899999999|        194.729998|187469100|         25.229131|\n",
      "+----------+------------------+------------------+------------------+------------------+---------+------------------+\n",
      "only showing top 20 rows\n",
      "\n"
     ]
    }
   ],
   "source": [
    "stock_df = spark.read.csv(\"apple.csv\", header=True, inferSchema=True )\n",
    "stock_df.show()"
   ]
  },
  {
   "cell_type": "code",
   "execution_count": null,
   "metadata": {
    "colab": {
     "base_uri": "https://localhost:8080/"
    },
    "id": "P9PAGxAaAoSl",
    "outputId": "578d1a13-bb63-4573-c887-fa3c626f01bb"
   },
   "outputs": [
    {
     "name": "stdout",
     "output_type": "stream",
     "text": [
      "+----------+\n",
      "|year(Date)|\n",
      "+----------+\n",
      "|      2010|\n",
      "|      2010|\n",
      "|      2010|\n",
      "|      2010|\n",
      "|      2010|\n",
      "|      2010|\n",
      "|      2010|\n",
      "|      2010|\n",
      "|      2010|\n",
      "|      2010|\n",
      "|      2010|\n",
      "|      2010|\n",
      "|      2010|\n",
      "|      2010|\n",
      "|      2010|\n",
      "|      2010|\n",
      "|      2010|\n",
      "|      2010|\n",
      "|      2010|\n",
      "|      2010|\n",
      "+----------+\n",
      "only showing top 20 rows\n",
      "\n"
     ]
    }
   ],
   "source": [
    "from pyspark.sql.functions import year\n",
    "\n",
    "stock_df.select(year(\"Date\")).show()"
   ]
  },
  {
   "cell_type": "code",
   "execution_count": null,
   "metadata": {
    "id": "DjLd10GaBoWv"
   },
   "outputs": [],
   "source": [
    "new_stock = stock_df.withColumn(\"Year\", year(\"Date\")).select([\"Year\", \"Close\"])"
   ]
  },
  {
   "cell_type": "code",
   "execution_count": null,
   "metadata": {
    "colab": {
     "base_uri": "https://localhost:8080/"
    },
    "id": "GwXhhWSuB7CJ",
    "outputId": "7669897d-ad2d-47bd-c90c-fdbb02ceacd0"
   },
   "outputs": [
    {
     "name": "stdout",
     "output_type": "stream",
     "text": [
      "+----+------------------+\n",
      "|Year|     Average Close|\n",
      "+----+------------------+\n",
      "|2010| 259.8424600000002|\n",
      "|2011|364.00432532142867|\n",
      "|2012| 576.0497195640002|\n",
      "|2013| 472.6348802857143|\n",
      "|2014| 295.4023416507935|\n",
      "|2015|120.03999980555547|\n",
      "|2016|104.60400786904763|\n",
      "+----+------------------+\n",
      "\n"
     ]
    }
   ],
   "source": [
    "new_stock.groupBy(\"Year\").mean().select([\"Year\", \"avg(Close)\"]).withColumnRenamed(\"avg(Close)\", \"Average Close\").orderBy(\"Year\").show()"
   ]
  },
  {
   "cell_type": "markdown",
   "metadata": {
    "id": "uuyd1uZGdCke"
   },
   "source": []
  }
 ],
 "metadata": {
  "colab": {
   "collapsed_sections": [],
   "name": "spark.ipynb",
   "provenance": []
  },
  "kernelspec": {
   "display_name": "Python 3 (ipykernel)",
   "language": "python",
   "name": "python3"
  },
  "language_info": {
   "codemirror_mode": {
    "name": "ipython",
    "version": 3
   },
   "file_extension": ".py",
   "mimetype": "text/x-python",
   "name": "python",
   "nbconvert_exporter": "python",
   "pygments_lexer": "ipython3",
   "version": "3.8.12"
  }
 },
 "nbformat": 4,
 "nbformat_minor": 1
}
