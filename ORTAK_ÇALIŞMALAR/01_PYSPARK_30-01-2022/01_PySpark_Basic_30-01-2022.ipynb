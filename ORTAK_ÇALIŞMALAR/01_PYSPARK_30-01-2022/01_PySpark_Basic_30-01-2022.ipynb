{
  "nbformat": 4,
  "nbformat_minor": 0,
  "metadata": {
    "colab": {
      "name": "30.01.2022_PySpark_Basic.ipynb",
      "provenance": [],
      "collapsed_sections": []
    },
    "kernelspec": {
      "name": "python3",
      "display_name": "Python 3"
    },
    "language_info": {
      "name": "python"
    }
  },
  "cells": [
    {
      "cell_type": "code",
      "execution_count": 3,
      "metadata": {
        "colab": {
          "base_uri": "https://localhost:8080/"
        },
        "id": "Ea_LON6poDLB",
        "outputId": "707566c9-febf-497e-a2fe-74dc814760b6"
      },
      "outputs": [
        {
          "output_type": "stream",
          "name": "stdout",
          "text": [
            "Collecting pyspark\n",
            "  Downloading pyspark-3.2.1.tar.gz (281.4 MB)\n",
            "\u001b[K     |████████████████████████████████| 281.4 MB 27 kB/s \n",
            "\u001b[?25hCollecting py4j==0.10.9.3\n",
            "  Downloading py4j-0.10.9.3-py2.py3-none-any.whl (198 kB)\n",
            "\u001b[K     |████████████████████████████████| 198 kB 41.5 MB/s \n",
            "\u001b[?25hBuilding wheels for collected packages: pyspark\n",
            "  Building wheel for pyspark (setup.py) ... \u001b[?25l\u001b[?25hdone\n",
            "  Created wheel for pyspark: filename=pyspark-3.2.1-py2.py3-none-any.whl size=281853642 sha256=972b662868cca56dbf125960962683a2a1bbf990519bec87cc4efc24f7a8ab7f\n",
            "  Stored in directory: /root/.cache/pip/wheels/9f/f5/07/7cd8017084dce4e93e84e92efd1e1d5334db05f2e83bcef74f\n",
            "Successfully built pyspark\n",
            "Installing collected packages: py4j, pyspark\n",
            "Successfully installed py4j-0.10.9.3 pyspark-3.2.1\n"
          ]
        }
      ],
      "source": [
        "pip install pyspark\n"
      ]
    },
    {
      "cell_type": "code",
      "source": [
        "from pyspark.sql import SparkSession\n",
        "spark = SparkSession.builder.appName('Spark').getOrCreate()"
      ],
      "metadata": {
        "id": "By5o9flooa6G"
      },
      "execution_count": 4,
      "outputs": []
    },
    {
      "cell_type": "code",
      "source": [
        "spark"
      ],
      "metadata": {
        "colab": {
          "base_uri": "https://localhost:8080/",
          "height": 219
        },
        "id": "E7eaEagpof6m",
        "outputId": "167e90cc-0940-47af-d54f-7bb2fad6f921"
      },
      "execution_count": 5,
      "outputs": [
        {
          "output_type": "execute_result",
          "data": {
            "text/html": [
              "\n",
              "            <div>\n",
              "                <p><b>SparkSession - in-memory</b></p>\n",
              "                \n",
              "        <div>\n",
              "            <p><b>SparkContext</b></p>\n",
              "\n",
              "            <p><a href=\"http://93dd555f276c:4040\">Spark UI</a></p>\n",
              "\n",
              "            <dl>\n",
              "              <dt>Version</dt>\n",
              "                <dd><code>v3.2.1</code></dd>\n",
              "              <dt>Master</dt>\n",
              "                <dd><code>local[*]</code></dd>\n",
              "              <dt>AppName</dt>\n",
              "                <dd><code>Spark</code></dd>\n",
              "            </dl>\n",
              "        </div>\n",
              "        \n",
              "            </div>\n",
              "        "
            ],
            "text/plain": [
              "<pyspark.sql.session.SparkSession at 0x7ff9641166d0>"
            ]
          },
          "metadata": {},
          "execution_count": 5
        }
      ]
    },
    {
      "cell_type": "code",
      "source": [
        "from pyspark.sql.types import StructType, StructField, IntegerType, StringType"
      ],
      "metadata": {
        "id": "YFlAYuw7pGnJ"
      },
      "execution_count": 6,
      "outputs": []
    },
    {
      "cell_type": "code",
      "source": [
        "liste = [(1, \"Joseph\", \"Forest\", 32, 12000),\n",
        "        (2, \"Tommy\", \"Happy\", 38, 13000),\n",
        "        (3, \"Thomas\", \"Horse\", 30, 11000),\n",
        "        (4, \"Strato\", \"Wise\", 37 , 15000)]"
      ],
      "metadata": {
        "id": "Mv-YFD0aocE7"
      },
      "execution_count": 7,
      "outputs": []
    },
    {
      "cell_type": "code",
      "source": [
        "# columns = [\"ID\",\"Name\",\"Surname\",\"Age\",\"Salary\"]\n",
        "# df = spark.createDataFrame(liste, columns)"
      ],
      "metadata": {
        "id": "NG5Je9ELpWuz"
      },
      "execution_count": null,
      "outputs": []
    },
    {
      "cell_type": "code",
      "source": [
        "list_schema = StructType([StructField(\"ID\", IntegerType(), False),\n",
        "                          StructField(\"Name\", StringType(), True),\n",
        "                          StructField(\"Surname\", StringType(), True),\n",
        "                          StructField(\"Age\", IntegerType(), True),\n",
        "                          StructField(\"Salary\", IntegerType(), True)\n",
        "                          ])"
      ],
      "metadata": {
        "id": "1muU5WWhoy9n"
      },
      "execution_count": 8,
      "outputs": []
    },
    {
      "cell_type": "code",
      "source": [
        "sample_df = spark.createDataFrame(data=liste, schema=list_schema)"
      ],
      "metadata": {
        "id": "DLXUFXCypLjh"
      },
      "execution_count": 9,
      "outputs": []
    },
    {
      "cell_type": "code",
      "source": [
        "sample_df"
      ],
      "metadata": {
        "colab": {
          "base_uri": "https://localhost:8080/"
        },
        "id": "JyTFRdY_pmpw",
        "outputId": "4012b7cf-f001-4a74-8c83-dd63f5a22f60"
      },
      "execution_count": 12,
      "outputs": [
        {
          "output_type": "execute_result",
          "data": {
            "text/plain": [
              "DataFrame[ID: int, Name: string, Surname: string, Age: int, Salary: int]"
            ]
          },
          "metadata": {},
          "execution_count": 12
        }
      ]
    },
    {
      "cell_type": "code",
      "source": [
        "sample_df.show()"
      ],
      "metadata": {
        "colab": {
          "base_uri": "https://localhost:8080/"
        },
        "id": "9XbpoS9ipoML",
        "outputId": "3400193c-e758-4560-e036-d86b0bdd1dc6"
      },
      "execution_count": 13,
      "outputs": [
        {
          "output_type": "stream",
          "name": "stdout",
          "text": [
            "+---+------+-------+---+------+\n",
            "| ID|  Name|Surname|Age|Salary|\n",
            "+---+------+-------+---+------+\n",
            "|  1|Joseph| Forest| 32| 12000|\n",
            "|  2| Tommy|  Happy| 38| 13000|\n",
            "|  3|Thomas|  Horse| 30| 11000|\n",
            "|  4|Strato|   Wise| 37| 15000|\n",
            "+---+------+-------+---+------+\n",
            "\n"
          ]
        }
      ]
    },
    {
      "cell_type": "code",
      "source": [
        "sample_df.printSchema()"
      ],
      "metadata": {
        "colab": {
          "base_uri": "https://localhost:8080/"
        },
        "id": "1xodxwA7pseh",
        "outputId": "2777fd2c-8875-4582-d1ef-8e2030763396"
      },
      "execution_count": 14,
      "outputs": [
        {
          "output_type": "stream",
          "name": "stdout",
          "text": [
            "root\n",
            " |-- ID: integer (nullable = false)\n",
            " |-- Name: string (nullable = true)\n",
            " |-- Surname: string (nullable = true)\n",
            " |-- Age: integer (nullable = true)\n",
            " |-- Salary: integer (nullable = true)\n",
            "\n"
          ]
        }
      ]
    },
    {
      "cell_type": "code",
      "source": [
        "sample_df.head(2)"
      ],
      "metadata": {
        "colab": {
          "base_uri": "https://localhost:8080/"
        },
        "id": "d782p6QDpyl6",
        "outputId": "9c593aff-3792-4592-faa5-4a9618509b6d"
      },
      "execution_count": 15,
      "outputs": [
        {
          "output_type": "execute_result",
          "data": {
            "text/plain": [
              "[Row(ID=1, Name='Joseph', Surname='Forest', Age=32, Salary=12000),\n",
              " Row(ID=2, Name='Tommy', Surname='Happy', Age=38, Salary=13000)]"
            ]
          },
          "metadata": {},
          "execution_count": 15
        }
      ]
    },
    {
      "cell_type": "code",
      "source": [
        "sample_df.columns"
      ],
      "metadata": {
        "colab": {
          "base_uri": "https://localhost:8080/"
        },
        "id": "_f5yRz9Lp5Nd",
        "outputId": "4c80f128-957e-4179-c73b-4b287431674c"
      },
      "execution_count": 16,
      "outputs": [
        {
          "output_type": "execute_result",
          "data": {
            "text/plain": [
              "['ID', 'Name', 'Surname', 'Age', 'Salary']"
            ]
          },
          "metadata": {},
          "execution_count": 16
        }
      ]
    },
    {
      "cell_type": "code",
      "source": [
        "sample_df.describe().show()"
      ],
      "metadata": {
        "colab": {
          "base_uri": "https://localhost:8080/"
        },
        "id": "OPWG5UjeqDUC",
        "outputId": "8c54887b-fa77-436f-fcda-51c3be5010f5"
      },
      "execution_count": 17,
      "outputs": [
        {
          "output_type": "stream",
          "name": "stdout",
          "text": [
            "+-------+------------------+------+-------+------------------+-----------------+\n",
            "|summary|                ID|  Name|Surname|               Age|           Salary|\n",
            "+-------+------------------+------+-------+------------------+-----------------+\n",
            "|  count|                 4|     4|      4|                 4|                4|\n",
            "|   mean|               2.5|  null|   null|             34.25|          12750.0|\n",
            "| stddev|1.2909944487358056|  null|   null|3.8622100754188224|1707.825127659933|\n",
            "|    min|                 1|Joseph| Forest|                30|            11000|\n",
            "|    max|                 4| Tommy|   Wise|                38|            15000|\n",
            "+-------+------------------+------+-------+------------------+-----------------+\n",
            "\n"
          ]
        }
      ]
    },
    {
      "cell_type": "code",
      "source": [
        "sample_df.select(['Name','Salary']).show()"
      ],
      "metadata": {
        "colab": {
          "base_uri": "https://localhost:8080/"
        },
        "id": "JovcgmPJqHyJ",
        "outputId": "5e391ac7-0b65-40fd-d825-b08aa828c8cf"
      },
      "execution_count": 18,
      "outputs": [
        {
          "output_type": "stream",
          "name": "stdout",
          "text": [
            "+------+------+\n",
            "|  Name|Salary|\n",
            "+------+------+\n",
            "|Joseph| 12000|\n",
            "| Tommy| 13000|\n",
            "|Thomas| 11000|\n",
            "|Strato| 15000|\n",
            "+------+------+\n",
            "\n"
          ]
        }
      ]
    },
    {
      "cell_type": "code",
      "source": [
        "sample_df.head(2)[0].asDict()[\"Surname\"]"
      ],
      "metadata": {
        "colab": {
          "base_uri": "https://localhost:8080/",
          "height": 35
        },
        "id": "2cKgwe0wqb1q",
        "outputId": "11306093-e78e-4135-fe32-80c8b97a3204"
      },
      "execution_count": 19,
      "outputs": [
        {
          "output_type": "execute_result",
          "data": {
            "application/vnd.google.colaboratory.intrinsic+json": {
              "type": "string"
            },
            "text/plain": [
              "'Forest'"
            ]
          },
          "metadata": {},
          "execution_count": 19
        }
      ]
    },
    {
      "cell_type": "code",
      "source": [
        "sample_df.withColumn(\"new_salary\", sample_df[\"Salary\"]*1.2).show()"
      ],
      "metadata": {
        "colab": {
          "base_uri": "https://localhost:8080/"
        },
        "id": "L8wclhqvqusz",
        "outputId": "63740fad-ff20-41fe-826a-59451ef5ff8d"
      },
      "execution_count": 20,
      "outputs": [
        {
          "output_type": "stream",
          "name": "stdout",
          "text": [
            "+---+------+-------+---+------+----------+\n",
            "| ID|  Name|Surname|Age|Salary|new_salary|\n",
            "+---+------+-------+---+------+----------+\n",
            "|  1|Joseph| Forest| 32| 12000|   14400.0|\n",
            "|  2| Tommy|  Happy| 38| 13000|   15600.0|\n",
            "|  3|Thomas|  Horse| 30| 11000|   13200.0|\n",
            "|  4|Strato|   Wise| 37| 15000|   18000.0|\n",
            "+---+------+-------+---+------+----------+\n",
            "\n"
          ]
        }
      ]
    },
    {
      "cell_type": "code",
      "source": [
        "from pyspark.sql.functions import col, lit"
      ],
      "metadata": {
        "id": "K1w0wrXFq3dI"
      },
      "execution_count": 21,
      "outputs": []
    },
    {
      "cell_type": "code",
      "source": [
        "sample_df.withColumn(\"Country\",lit(\"TR\")).show()"
      ],
      "metadata": {
        "colab": {
          "base_uri": "https://localhost:8080/"
        },
        "id": "h7_h41vurMyY",
        "outputId": "431ff5b9-752b-483d-ae0e-fe5e034f923f"
      },
      "execution_count": 22,
      "outputs": [
        {
          "output_type": "stream",
          "name": "stdout",
          "text": [
            "+---+------+-------+---+------+-------+\n",
            "| ID|  Name|Surname|Age|Salary|Country|\n",
            "+---+------+-------+---+------+-------+\n",
            "|  1|Joseph| Forest| 32| 12000|     TR|\n",
            "|  2| Tommy|  Happy| 38| 13000|     TR|\n",
            "|  3|Thomas|  Horse| 30| 11000|     TR|\n",
            "|  4|Strato|   Wise| 37| 15000|     TR|\n",
            "+---+------+-------+---+------+-------+\n",
            "\n"
          ]
        }
      ]
    },
    {
      "cell_type": "code",
      "source": [
        "# from pyspark.sql.functions import when"
      ],
      "metadata": {
        "id": "x8EE57MmrQs5"
      },
      "execution_count": 23,
      "outputs": []
    },
    {
      "cell_type": "code",
      "source": [
        "from pyspark.sql.functions import when, col\n"
      ],
      "metadata": {
        "id": "8yZ802g8rjaX"
      },
      "execution_count": 24,
      "outputs": []
    },
    {
      "cell_type": "code",
      "source": [
        "sample_df.withColumn(\"Salary Level\", when(col(\"Salary\") >12000,lit(\"High\")).otherwise(lit(\"Normal\"))).show()"
      ],
      "metadata": {
        "colab": {
          "base_uri": "https://localhost:8080/"
        },
        "id": "lCkQuJxirk1J",
        "outputId": "7c85b5fe-2969-4f21-8847-09e775d41b97"
      },
      "execution_count": 25,
      "outputs": [
        {
          "output_type": "stream",
          "name": "stdout",
          "text": [
            "+---+------+-------+---+------+------------+\n",
            "| ID|  Name|Surname|Age|Salary|Salary Level|\n",
            "+---+------+-------+---+------+------------+\n",
            "|  1|Joseph| Forest| 32| 12000|      Normal|\n",
            "|  2| Tommy|  Happy| 38| 13000|        High|\n",
            "|  3|Thomas|  Horse| 30| 11000|      Normal|\n",
            "|  4|Strato|   Wise| 37| 15000|        High|\n",
            "+---+------+-------+---+------+------------+\n",
            "\n"
          ]
        }
      ]
    },
    {
      "cell_type": "code",
      "source": [
        "sample_df.withColumnRenamed(\"ID\",\"Number\").show()"
      ],
      "metadata": {
        "colab": {
          "base_uri": "https://localhost:8080/"
        },
        "id": "t0T8azWsr0BZ",
        "outputId": "dfb49c96-0eb2-4963-8593-307bead09c9e"
      },
      "execution_count": 26,
      "outputs": [
        {
          "output_type": "stream",
          "name": "stdout",
          "text": [
            "+------+------+-------+---+------+\n",
            "|Number|  Name|Surname|Age|Salary|\n",
            "+------+------+-------+---+------+\n",
            "|     1|Joseph| Forest| 32| 12000|\n",
            "|     2| Tommy|  Happy| 38| 13000|\n",
            "|     3|Thomas|  Horse| 30| 11000|\n",
            "|     4|Strato|   Wise| 37| 15000|\n",
            "+------+------+-------+---+------+\n",
            "\n"
          ]
        }
      ]
    },
    {
      "cell_type": "code",
      "source": [
        "sample_df.drop(\"ID\").show()"
      ],
      "metadata": {
        "colab": {
          "base_uri": "https://localhost:8080/"
        },
        "id": "Ue9nGXOvspaJ",
        "outputId": "dc7a053c-c0cb-4ae6-f4d6-1ac7eb36da0d"
      },
      "execution_count": 27,
      "outputs": [
        {
          "output_type": "stream",
          "name": "stdout",
          "text": [
            "+------+-------+---+------+\n",
            "|  Name|Surname|Age|Salary|\n",
            "+------+-------+---+------+\n",
            "|Joseph| Forest| 32| 12000|\n",
            "| Tommy|  Happy| 38| 13000|\n",
            "|Thomas|  Horse| 30| 11000|\n",
            "|Strato|   Wise| 37| 15000|\n",
            "+------+-------+---+------+\n",
            "\n"
          ]
        }
      ]
    },
    {
      "cell_type": "code",
      "source": [
        "df_collect = sample_df.collect()"
      ],
      "metadata": {
        "id": "gobjn2JtSLha"
      },
      "execution_count": 31,
      "outputs": []
    },
    {
      "cell_type": "code",
      "source": [
        "df_collect"
      ],
      "metadata": {
        "colab": {
          "base_uri": "https://localhost:8080/"
        },
        "id": "J_zMakYuswGW",
        "outputId": "f8f2ad7e-f939-4e8a-979b-5304eef0d6a7"
      },
      "execution_count": 32,
      "outputs": [
        {
          "output_type": "execute_result",
          "data": {
            "text/plain": [
              "[Row(ID=1, Name='Joseph', Surname='Forest', Age=32, Salary=12000),\n",
              " Row(ID=2, Name='Tommy', Surname='Happy', Age=38, Salary=13000),\n",
              " Row(ID=3, Name='Thomas', Surname='Horse', Age=30, Salary=11000),\n",
              " Row(ID=4, Name='Strato', Surname='Wise', Age=37, Salary=15000)]"
            ]
          },
          "metadata": {},
          "execution_count": 32
        }
      ]
    },
    {
      "cell_type": "code",
      "source": [
        "for row in df_collect:\n",
        "  print(row[\"Name\"] + \" \" + row[\"Surname\"])"
      ],
      "metadata": {
        "colab": {
          "base_uri": "https://localhost:8080/"
        },
        "id": "hHtMDLcas25s",
        "outputId": "d8f6989a-b882-475e-b6e8-4d424ac386da"
      },
      "execution_count": 34,
      "outputs": [
        {
          "output_type": "stream",
          "name": "stdout",
          "text": [
            "Joseph Forest\n",
            "Tommy Happy\n",
            "Thomas Horse\n",
            "Strato Wise\n"
          ]
        }
      ]
    },
    {
      "cell_type": "code",
      "source": [
        "sample_df.createOrReplaceTempView(\"personel\")"
      ],
      "metadata": {
        "id": "crS2uyW9tE1d"
      },
      "execution_count": 35,
      "outputs": []
    },
    {
      "cell_type": "code",
      "source": [
        "spark.sql(\"SELECT * FROM personel WHERE Salary>12000\")"
      ],
      "metadata": {
        "colab": {
          "base_uri": "https://localhost:8080/"
        },
        "id": "CsK8HEpntg6L",
        "outputId": "3db82af2-ec3c-4a63-e702-21d746d8d6d3"
      },
      "execution_count": 36,
      "outputs": [
        {
          "output_type": "execute_result",
          "data": {
            "text/plain": [
              "DataFrame[ID: int, Name: string, Surname: string, Age: int, Salary: int]"
            ]
          },
          "metadata": {},
          "execution_count": 36
        }
      ]
    },
    {
      "cell_type": "code",
      "source": [
        "query = spark.sql(\"SELECT * FROM personel WHERE Salary>12000\")\n",
        "query.show()"
      ],
      "metadata": {
        "colab": {
          "base_uri": "https://localhost:8080/"
        },
        "id": "l84LaytWtkVf",
        "outputId": "97b587a4-1fea-4091-d0c5-b86d340e7d0e"
      },
      "execution_count": 38,
      "outputs": [
        {
          "output_type": "stream",
          "name": "stdout",
          "text": [
            "+---+------+-------+---+------+\n",
            "| ID|  Name|Surname|Age|Salary|\n",
            "+---+------+-------+---+------+\n",
            "|  2| Tommy|  Happy| 38| 13000|\n",
            "|  4|Strato|   Wise| 37| 15000|\n",
            "+---+------+-------+---+------+\n",
            "\n"
          ]
        }
      ]
    },
    {
      "cell_type": "code",
      "source": [
        "sample_df.filter(\"Age<38\").show()"
      ],
      "metadata": {
        "colab": {
          "base_uri": "https://localhost:8080/"
        },
        "id": "V5hKP271tnm9",
        "outputId": "2a1bd7d2-828e-4c40-b4e3-60ac5754d284"
      },
      "execution_count": 39,
      "outputs": [
        {
          "output_type": "stream",
          "name": "stdout",
          "text": [
            "+---+------+-------+---+------+\n",
            "| ID|  Name|Surname|Age|Salary|\n",
            "+---+------+-------+---+------+\n",
            "|  1|Joseph| Forest| 32| 12000|\n",
            "|  3|Thomas|  Horse| 30| 11000|\n",
            "|  4|Strato|   Wise| 37| 15000|\n",
            "+---+------+-------+---+------+\n",
            "\n"
          ]
        }
      ]
    },
    {
      "cell_type": "code",
      "source": [
        "sample_df.filter(sample_df[\"Age\"]<38).select([\"Name\", \"Salary\"]).show()"
      ],
      "metadata": {
        "colab": {
          "base_uri": "https://localhost:8080/"
        },
        "id": "67Iiin7tUGiu",
        "outputId": "5c624dc0-2ee3-489c-cb52-8c0059c290b7"
      },
      "execution_count": 40,
      "outputs": [
        {
          "output_type": "stream",
          "name": "stdout",
          "text": [
            "+------+------+\n",
            "|  Name|Salary|\n",
            "+------+------+\n",
            "|Joseph| 12000|\n",
            "|Thomas| 11000|\n",
            "|Strato| 15000|\n",
            "+------+------+\n",
            "\n"
          ]
        }
      ]
    },
    {
      "cell_type": "code",
      "source": [
        "sample_df.filter( (sample_df[\"Age\"]<38) & (sample_df[\"Salary\"]<15000) ).select([\"Name\", \"Salary\"]).show()"
      ],
      "metadata": {
        "colab": {
          "base_uri": "https://localhost:8080/"
        },
        "id": "HGXhtqJCUZDc",
        "outputId": "4bc68f5d-828e-41f8-bdb7-508ce983c93d"
      },
      "execution_count": 41,
      "outputs": [
        {
          "output_type": "stream",
          "name": "stdout",
          "text": [
            "+------+------+\n",
            "|  Name|Salary|\n",
            "+------+------+\n",
            "|Joseph| 12000|\n",
            "|Thomas| 11000|\n",
            "+------+------+\n",
            "\n"
          ]
        }
      ]
    },
    {
      "cell_type": "code",
      "source": [
        "sales_df = spark.read.csv(\"sales.csv\",header=True, inferSchema=True)\n",
        "sales_df.show()"
      ],
      "metadata": {
        "colab": {
          "base_uri": "https://localhost:8080/"
        },
        "id": "SHKUYzAotvHp",
        "outputId": "f97df40e-aa55-4615-97fe-0190a3d40ab5"
      },
      "execution_count": 44,
      "outputs": [
        {
          "output_type": "stream",
          "name": "stdout",
          "text": [
            "+-------+-------+-----+\n",
            "|Company| Person|Sales|\n",
            "+-------+-------+-----+\n",
            "|   GOOG|    Sam|200.0|\n",
            "|   GOOG|Charlie|120.0|\n",
            "|   GOOG|  Frank|340.0|\n",
            "|   MSFT|   Tina|600.0|\n",
            "|   MSFT|    Amy|124.0|\n",
            "|   MSFT|Vanessa|243.0|\n",
            "|     FB|   Carl|870.0|\n",
            "|     FB|  Sarah|350.0|\n",
            "|   APPL|   John|250.0|\n",
            "|   APPL|  Linda|130.0|\n",
            "|   APPL|   Mike|750.0|\n",
            "|   APPL|  Chris|350.0|\n",
            "+-------+-------+-----+\n",
            "\n"
          ]
        }
      ]
    },
    {
      "cell_type": "code",
      "source": [
        "sales_df.printSchema()"
      ],
      "metadata": {
        "colab": {
          "base_uri": "https://localhost:8080/"
        },
        "id": "8WBw2tw3t6dX",
        "outputId": "c55c3aea-2675-423b-9429-972ef85b8b48"
      },
      "execution_count": 46,
      "outputs": [
        {
          "output_type": "stream",
          "name": "stdout",
          "text": [
            "root\n",
            " |-- Company: string (nullable = true)\n",
            " |-- Person: string (nullable = true)\n",
            " |-- Sales: double (nullable = true)\n",
            "\n"
          ]
        }
      ]
    },
    {
      "cell_type": "code",
      "source": [
        "sales_df.groupBy(\"Company\").max().show()"
      ],
      "metadata": {
        "colab": {
          "base_uri": "https://localhost:8080/"
        },
        "id": "u3jx-Wx_uiqZ",
        "outputId": "494faa61-63c3-462b-a105-52a4d63b547a"
      },
      "execution_count": 47,
      "outputs": [
        {
          "output_type": "stream",
          "name": "stdout",
          "text": [
            "+-------+----------+\n",
            "|Company|max(Sales)|\n",
            "+-------+----------+\n",
            "|   APPL|     750.0|\n",
            "|   GOOG|     340.0|\n",
            "|     FB|     870.0|\n",
            "|   MSFT|     600.0|\n",
            "+-------+----------+\n",
            "\n"
          ]
        }
      ]
    },
    {
      "cell_type": "code",
      "source": [
        "sales_df.agg({\"sales\":\"mean\"}).show()"
      ],
      "metadata": {
        "colab": {
          "base_uri": "https://localhost:8080/"
        },
        "id": "CiGh-vVmV6nZ",
        "outputId": "6892f093-0097-4364-c000-01061b445b1f"
      },
      "execution_count": 48,
      "outputs": [
        {
          "output_type": "stream",
          "name": "stdout",
          "text": [
            "+-----------------+\n",
            "|       avg(sales)|\n",
            "+-----------------+\n",
            "|360.5833333333333|\n",
            "+-----------------+\n",
            "\n"
          ]
        }
      ]
    },
    {
      "cell_type": "code",
      "source": [
        "groupdf = sales_df.groupBy(\"Company\")\n",
        "groupdf.agg({\"sales\":\"max\"}).show()"
      ],
      "metadata": {
        "colab": {
          "base_uri": "https://localhost:8080/"
        },
        "id": "1RyqOtcdV9my",
        "outputId": "296b328d-1ae1-478b-dc43-262e1516626a"
      },
      "execution_count": 49,
      "outputs": [
        {
          "output_type": "stream",
          "name": "stdout",
          "text": [
            "+-------+----------+\n",
            "|Company|max(sales)|\n",
            "+-------+----------+\n",
            "|   APPL|     750.0|\n",
            "|   GOOG|     340.0|\n",
            "|     FB|     870.0|\n",
            "|   MSFT|     600.0|\n",
            "+-------+----------+\n",
            "\n"
          ]
        }
      ]
    },
    {
      "cell_type": "code",
      "source": [
        "sales_df.groupBy(\"Company\").count().orderBy(\"count\").show() ##  value_counts"
      ],
      "metadata": {
        "colab": {
          "base_uri": "https://localhost:8080/"
        },
        "id": "eWqiwLmxV93C",
        "outputId": "5529b531-49e0-4362-a68b-cb072c4075e4"
      },
      "execution_count": 50,
      "outputs": [
        {
          "output_type": "stream",
          "name": "stdout",
          "text": [
            "+-------+-----+\n",
            "|Company|count|\n",
            "+-------+-----+\n",
            "|     FB|    2|\n",
            "|   GOOG|    3|\n",
            "|   MSFT|    3|\n",
            "|   APPL|    4|\n",
            "+-------+-----+\n",
            "\n"
          ]
        }
      ]
    },
    {
      "cell_type": "code",
      "source": [
        "from pyspark.sql.functions import countDistinct, avg, stddev, format_number\n",
        "sales_df.select(avg(\"sales\").alias(\"Average Sales\")).show()"
      ],
      "metadata": {
        "colab": {
          "base_uri": "https://localhost:8080/"
        },
        "id": "VZwFNLSBWDpp",
        "outputId": "a8ac7072-79cb-45fb-818c-da8b3123fac3"
      },
      "execution_count": 51,
      "outputs": [
        {
          "output_type": "stream",
          "name": "stdout",
          "text": [
            "+-----------------+\n",
            "|    Average Sales|\n",
            "+-----------------+\n",
            "|360.5833333333333|\n",
            "+-----------------+\n",
            "\n"
          ]
        }
      ]
    },
    {
      "cell_type": "code",
      "source": [
        "avg_sale = sales_df.select(avg(\"sales\").alias(\"Average Sales\"))\n",
        "avg_sale.select(format_number(\"Average Sales\",2).alias(\"Averga Sales\")).show()"
      ],
      "metadata": {
        "colab": {
          "base_uri": "https://localhost:8080/"
        },
        "id": "0jXGFyQEWDth",
        "outputId": "3e1c7ef8-b081-4a19-a8e0-656e59ee5354"
      },
      "execution_count": 52,
      "outputs": [
        {
          "output_type": "stream",
          "name": "stdout",
          "text": [
            "+------------+\n",
            "|Averga Sales|\n",
            "+------------+\n",
            "|      360.58|\n",
            "+------------+\n",
            "\n"
          ]
        }
      ]
    },
    {
      "cell_type": "code",
      "source": [
        "sales_df.orderBy(\"Sales\").show()"
      ],
      "metadata": {
        "colab": {
          "base_uri": "https://localhost:8080/"
        },
        "id": "a5piOadgWDyK",
        "outputId": "649d23a7-cec3-4388-da1a-8b9ba1562a3c"
      },
      "execution_count": 53,
      "outputs": [
        {
          "output_type": "stream",
          "name": "stdout",
          "text": [
            "+-------+-------+-----+\n",
            "|Company| Person|Sales|\n",
            "+-------+-------+-----+\n",
            "|   GOOG|Charlie|120.0|\n",
            "|   MSFT|    Amy|124.0|\n",
            "|   APPL|  Linda|130.0|\n",
            "|   GOOG|    Sam|200.0|\n",
            "|   MSFT|Vanessa|243.0|\n",
            "|   APPL|   John|250.0|\n",
            "|   GOOG|  Frank|340.0|\n",
            "|     FB|  Sarah|350.0|\n",
            "|   APPL|  Chris|350.0|\n",
            "|   MSFT|   Tina|600.0|\n",
            "|   APPL|   Mike|750.0|\n",
            "|     FB|   Carl|870.0|\n",
            "+-------+-------+-----+\n",
            "\n"
          ]
        }
      ]
    },
    {
      "cell_type": "code",
      "source": [
        "sales_df.orderBy(sales_df[\"Sales\"].desc()).show()"
      ],
      "metadata": {
        "colab": {
          "base_uri": "https://localhost:8080/"
        },
        "id": "F3Nt3DyfWD2N",
        "outputId": "e242acc1-d8d3-425b-ef8d-79af62b831cc"
      },
      "execution_count": 54,
      "outputs": [
        {
          "output_type": "stream",
          "name": "stdout",
          "text": [
            "+-------+-------+-----+\n",
            "|Company| Person|Sales|\n",
            "+-------+-------+-----+\n",
            "|     FB|   Carl|870.0|\n",
            "|   APPL|   Mike|750.0|\n",
            "|   MSFT|   Tina|600.0|\n",
            "|     FB|  Sarah|350.0|\n",
            "|   APPL|  Chris|350.0|\n",
            "|   GOOG|  Frank|340.0|\n",
            "|   APPL|   John|250.0|\n",
            "|   MSFT|Vanessa|243.0|\n",
            "|   GOOG|    Sam|200.0|\n",
            "|   APPL|  Linda|130.0|\n",
            "|   MSFT|    Amy|124.0|\n",
            "|   GOOG|Charlie|120.0|\n",
            "+-------+-------+-----+\n",
            "\n"
          ]
        }
      ]
    },
    {
      "cell_type": "code",
      "source": [
        "liste2 = [(1, \"Joseph\", \"Forest\", 32, None),\n",
        "          (2, \"Tommy\", None,  38, 13000),\n",
        "          (3, \"Thomas\", None, None, None),\n",
        "          (4, \"Strato\", \"Wise\", 37 , 15000)]\n",
        "\n",
        "columns2 = [\"ID\",\"Name\",\"Surname\",\"Age\",\"Salary\"]\n",
        "\n",
        "missing_df = spark.createDataFrame(liste2,columns2)"
      ],
      "metadata": {
        "id": "cTDIE0f7vGtE"
      },
      "execution_count": 55,
      "outputs": []
    },
    {
      "cell_type": "code",
      "source": [
        "missing_df.show()"
      ],
      "metadata": {
        "colab": {
          "base_uri": "https://localhost:8080/"
        },
        "id": "9Dqd1b7gWcQU",
        "outputId": "f3217046-1ac9-4a99-8546-29e95672656b"
      },
      "execution_count": 56,
      "outputs": [
        {
          "output_type": "stream",
          "name": "stdout",
          "text": [
            "+---+------+-------+----+------+\n",
            "| ID|  Name|Surname| Age|Salary|\n",
            "+---+------+-------+----+------+\n",
            "|  1|Joseph| Forest|  32|  null|\n",
            "|  2| Tommy|   null|  38| 13000|\n",
            "|  3|Thomas|   null|null|  null|\n",
            "|  4|Strato|   Wise|  37| 15000|\n",
            "+---+------+-------+----+------+\n",
            "\n"
          ]
        }
      ]
    },
    {
      "cell_type": "code",
      "source": [
        "missing_df.na.drop().show()"
      ],
      "metadata": {
        "colab": {
          "base_uri": "https://localhost:8080/"
        },
        "id": "usA4H-KQv2xL",
        "outputId": "be0233ce-b4a0-41ef-b78b-47eeb58fd262"
      },
      "execution_count": 57,
      "outputs": [
        {
          "output_type": "stream",
          "name": "stdout",
          "text": [
            "+---+------+-------+---+------+\n",
            "| ID|  Name|Surname|Age|Salary|\n",
            "+---+------+-------+---+------+\n",
            "|  4|Strato|   Wise| 37| 15000|\n",
            "+---+------+-------+---+------+\n",
            "\n"
          ]
        }
      ]
    },
    {
      "cell_type": "code",
      "source": [
        "missing_df.na.drop(subset=[\"Salary\"]).show()"
      ],
      "metadata": {
        "colab": {
          "base_uri": "https://localhost:8080/"
        },
        "id": "EmbGrCzDv9Xe",
        "outputId": "c6a82581-ac4e-4484-c82e-1d8fa48ac147"
      },
      "execution_count": 58,
      "outputs": [
        {
          "output_type": "stream",
          "name": "stdout",
          "text": [
            "+---+------+-------+---+------+\n",
            "| ID|  Name|Surname|Age|Salary|\n",
            "+---+------+-------+---+------+\n",
            "|  2| Tommy|   null| 38| 13000|\n",
            "|  4|Strato|   Wise| 37| 15000|\n",
            "+---+------+-------+---+------+\n",
            "\n"
          ]
        }
      ]
    },
    {
      "cell_type": "code",
      "source": [
        "missing_df.na.fill(\"fill value\").show()"
      ],
      "metadata": {
        "colab": {
          "base_uri": "https://localhost:8080/"
        },
        "id": "1KFjCOjTwSaP",
        "outputId": "616a40e1-80b0-493d-e532-7bb8016e154d"
      },
      "execution_count": 59,
      "outputs": [
        {
          "output_type": "stream",
          "name": "stdout",
          "text": [
            "+---+------+----------+----+------+\n",
            "| ID|  Name|   Surname| Age|Salary|\n",
            "+---+------+----------+----+------+\n",
            "|  1|Joseph|    Forest|  32|  null|\n",
            "|  2| Tommy|fill value|  38| 13000|\n",
            "|  3|Thomas|fill value|null|  null|\n",
            "|  4|Strato|      Wise|  37| 15000|\n",
            "+---+------+----------+----+------+\n",
            "\n"
          ]
        }
      ]
    },
    {
      "cell_type": "code",
      "source": [
        "missing_df.na.fill(0).show()"
      ],
      "metadata": {
        "colab": {
          "base_uri": "https://localhost:8080/"
        },
        "id": "8-K8WQ7WwKdS",
        "outputId": "e07b4a2d-4f88-42db-fa2c-f7ccf2d6b7dc"
      },
      "execution_count": 60,
      "outputs": [
        {
          "output_type": "stream",
          "name": "stdout",
          "text": [
            "+---+------+-------+---+------+\n",
            "| ID|  Name|Surname|Age|Salary|\n",
            "+---+------+-------+---+------+\n",
            "|  1|Joseph| Forest| 32|     0|\n",
            "|  2| Tommy|   null| 38| 13000|\n",
            "|  3|Thomas|   null|  0|     0|\n",
            "|  4|Strato|   Wise| 37| 15000|\n",
            "+---+------+-------+---+------+\n",
            "\n"
          ]
        }
      ]
    },
    {
      "cell_type": "code",
      "source": [
        "from pyspark.sql.functions import mean\n",
        "avg_sal = missing_df.select(mean(\"Salary\")).collect()\n",
        "mean_sal = avg_sal[0][0]"
      ],
      "metadata": {
        "id": "Puxy7mmnZtiW"
      },
      "execution_count": 61,
      "outputs": []
    },
    {
      "cell_type": "code",
      "source": [
        "mean_sal"
      ],
      "metadata": {
        "colab": {
          "base_uri": "https://localhost:8080/"
        },
        "id": "pWMRRW9OZ0SP",
        "outputId": "26751f74-79ae-4783-a7c9-abba329e7780"
      },
      "execution_count": 62,
      "outputs": [
        {
          "output_type": "execute_result",
          "data": {
            "text/plain": [
              "14000.0"
            ]
          },
          "metadata": {},
          "execution_count": 62
        }
      ]
    },
    {
      "cell_type": "code",
      "source": [
        "missing_df.na.fill(mean_sal, subset=\"Salary\").show()"
      ],
      "metadata": {
        "colab": {
          "base_uri": "https://localhost:8080/"
        },
        "id": "ddxHFYTCaGf8",
        "outputId": "3deb49ea-a084-4dbf-ffb0-873490f6a0db"
      },
      "execution_count": 63,
      "outputs": [
        {
          "output_type": "stream",
          "name": "stdout",
          "text": [
            "+---+------+-------+----+------+\n",
            "| ID|  Name|Surname| Age|Salary|\n",
            "+---+------+-------+----+------+\n",
            "|  1|Joseph| Forest|  32| 14000|\n",
            "|  2| Tommy|   null|  38| 13000|\n",
            "|  3|Thomas|   null|null| 14000|\n",
            "|  4|Strato|   Wise|  37| 15000|\n",
            "+---+------+-------+----+------+\n",
            "\n"
          ]
        }
      ]
    },
    {
      "cell_type": "code",
      "source": [
        "stock_df = spark.read.csv(\"apple.csv\", header=True, inferSchema=True )\n",
        "stock_df.show()"
      ],
      "metadata": {
        "colab": {
          "base_uri": "https://localhost:8080/"
        },
        "id": "611tRHRjwYBH",
        "outputId": "caceda3b-3b80-4d15-e56e-8ec6f0741df2"
      },
      "execution_count": 64,
      "outputs": [
        {
          "output_type": "stream",
          "name": "stdout",
          "text": [
            "+----------+------------------+------------------+------------------+------------------+---------+------------------+\n",
            "|      Date|              Open|              High|               Low|             Close|   Volume|         Adj Close|\n",
            "+----------+------------------+------------------+------------------+------------------+---------+------------------+\n",
            "|2010-01-04|        213.429998|        214.499996|212.38000099999996|        214.009998|123432400|         27.727039|\n",
            "|2010-01-05|        214.599998|        215.589994|        213.249994|        214.379993|150476200|27.774976000000002|\n",
            "|2010-01-06|        214.379993|            215.23|        210.750004|        210.969995|138040000|27.333178000000004|\n",
            "|2010-01-07|            211.75|        212.000006|        209.050005|            210.58|119282800|          27.28265|\n",
            "|2010-01-08|        210.299994|        212.000006|209.06000500000002|211.98000499999998|111902700|         27.464034|\n",
            "|2010-01-11|212.79999700000002|        213.000002|        208.450005|210.11000299999998|115557400|         27.221758|\n",
            "|2010-01-12|209.18999499999998|209.76999500000002|        206.419998|        207.720001|148614900|          26.91211|\n",
            "|2010-01-13|        207.870005|210.92999500000002|        204.099998|        210.650002|151473000|          27.29172|\n",
            "|2010-01-14|210.11000299999998|210.45999700000002|        209.020004|            209.43|108223500|         27.133657|\n",
            "|2010-01-15|210.92999500000002|211.59999700000003|        205.869999|            205.93|148516900|26.680197999999997|\n",
            "|2010-01-19|        208.330002|215.18999900000003|        207.240004|        215.039995|182501900|27.860484999999997|\n",
            "|2010-01-20|        214.910006|        215.549994|        209.500002|            211.73|153038200|         27.431644|\n",
            "|2010-01-21|        212.079994|213.30999599999998|        207.210003|        208.069996|152038600|         26.957455|\n",
            "|2010-01-22|206.78000600000001|        207.499996|            197.16|            197.75|220441900|         25.620401|\n",
            "|2010-01-25|202.51000200000001|        204.699999|        200.190002|        203.070002|266424900|26.309658000000002|\n",
            "|2010-01-26|205.95000100000001|        213.710005|        202.580004|        205.940001|466777500|         26.681494|\n",
            "|2010-01-27|        206.849995|            210.58|        199.530001|        207.880005|430642100|26.932840000000002|\n",
            "|2010-01-28|        204.930004|        205.500004|        198.699995|        199.289995|293375600|25.819922000000002|\n",
            "|2010-01-29|        201.079996|        202.199995|        190.250002|        192.060003|311488100|         24.883208|\n",
            "|2010-02-01|192.36999699999998|             196.0|191.29999899999999|        194.729998|187469100|         25.229131|\n",
            "+----------+------------------+------------------+------------------+------------------+---------+------------------+\n",
            "only showing top 20 rows\n",
            "\n"
          ]
        }
      ]
    },
    {
      "cell_type": "code",
      "source": [
        "from pyspark.sql.functions import year"
      ],
      "metadata": {
        "id": "2RVvvntVwfkm"
      },
      "execution_count": 65,
      "outputs": []
    },
    {
      "cell_type": "code",
      "source": [
        "stock_df.select(year(\"Date\")).show()"
      ],
      "metadata": {
        "colab": {
          "base_uri": "https://localhost:8080/"
        },
        "id": "VkANzTQjwqXx",
        "outputId": "8d1f6db8-56ee-463d-cccd-7f2bf6e8caee"
      },
      "execution_count": 66,
      "outputs": [
        {
          "output_type": "stream",
          "name": "stdout",
          "text": [
            "+----------+\n",
            "|year(Date)|\n",
            "+----------+\n",
            "|      2010|\n",
            "|      2010|\n",
            "|      2010|\n",
            "|      2010|\n",
            "|      2010|\n",
            "|      2010|\n",
            "|      2010|\n",
            "|      2010|\n",
            "|      2010|\n",
            "|      2010|\n",
            "|      2010|\n",
            "|      2010|\n",
            "|      2010|\n",
            "|      2010|\n",
            "|      2010|\n",
            "|      2010|\n",
            "|      2010|\n",
            "|      2010|\n",
            "|      2010|\n",
            "|      2010|\n",
            "+----------+\n",
            "only showing top 20 rows\n",
            "\n"
          ]
        }
      ]
    },
    {
      "cell_type": "code",
      "source": [
        "stock_df.withColumn(\"Year\", year(\"Date\")).show()"
      ],
      "metadata": {
        "colab": {
          "base_uri": "https://localhost:8080/"
        },
        "id": "_Pw4pa58xRdN",
        "outputId": "0a27dafe-b05b-4d64-fc53-d6f921571279"
      },
      "execution_count": 59,
      "outputs": [
        {
          "output_type": "stream",
          "name": "stdout",
          "text": [
            "+----------+------------------+------------------+------------------+------------------+---------+------------------+----+\n",
            "|      Date|              Open|              High|               Low|             Close|   Volume|         Adj Close|Year|\n",
            "+----------+------------------+------------------+------------------+------------------+---------+------------------+----+\n",
            "|2010-01-04|        213.429998|        214.499996|212.38000099999996|        214.009998|123432400|         27.727039|2010|\n",
            "|2010-01-05|        214.599998|        215.589994|        213.249994|        214.379993|150476200|27.774976000000002|2010|\n",
            "|2010-01-06|        214.379993|            215.23|        210.750004|        210.969995|138040000|27.333178000000004|2010|\n",
            "|2010-01-07|            211.75|        212.000006|        209.050005|            210.58|119282800|          27.28265|2010|\n",
            "|2010-01-08|        210.299994|        212.000006|209.06000500000002|211.98000499999998|111902700|         27.464034|2010|\n",
            "|2010-01-11|212.79999700000002|        213.000002|        208.450005|210.11000299999998|115557400|         27.221758|2010|\n",
            "|2010-01-12|209.18999499999998|209.76999500000002|        206.419998|        207.720001|148614900|          26.91211|2010|\n",
            "|2010-01-13|        207.870005|210.92999500000002|        204.099998|        210.650002|151473000|          27.29172|2010|\n",
            "|2010-01-14|210.11000299999998|210.45999700000002|        209.020004|            209.43|108223500|         27.133657|2010|\n",
            "|2010-01-15|210.92999500000002|211.59999700000003|        205.869999|            205.93|148516900|26.680197999999997|2010|\n",
            "|2010-01-19|        208.330002|215.18999900000003|        207.240004|        215.039995|182501900|27.860484999999997|2010|\n",
            "|2010-01-20|        214.910006|        215.549994|        209.500002|            211.73|153038200|         27.431644|2010|\n",
            "|2010-01-21|        212.079994|213.30999599999998|        207.210003|        208.069996|152038600|         26.957455|2010|\n",
            "|2010-01-22|206.78000600000001|        207.499996|            197.16|            197.75|220441900|         25.620401|2010|\n",
            "|2010-01-25|202.51000200000001|        204.699999|        200.190002|        203.070002|266424900|26.309658000000002|2010|\n",
            "|2010-01-26|205.95000100000001|        213.710005|        202.580004|        205.940001|466777500|         26.681494|2010|\n",
            "|2010-01-27|        206.849995|            210.58|        199.530001|        207.880005|430642100|26.932840000000002|2010|\n",
            "|2010-01-28|        204.930004|        205.500004|        198.699995|        199.289995|293375600|25.819922000000002|2010|\n",
            "|2010-01-29|        201.079996|        202.199995|        190.250002|        192.060003|311488100|         24.883208|2010|\n",
            "|2010-02-01|192.36999699999998|             196.0|191.29999899999999|        194.729998|187469100|         25.229131|2010|\n",
            "+----------+------------------+------------------+------------------+------------------+---------+------------------+----+\n",
            "only showing top 20 rows\n",
            "\n"
          ]
        }
      ]
    },
    {
      "cell_type": "code",
      "source": [
        "stock_df.withColumn(\"Year\", year(\"Date\")).select([\"Year\", \"Close\"]).show()"
      ],
      "metadata": {
        "colab": {
          "base_uri": "https://localhost:8080/"
        },
        "id": "Q-053Nq5xe2v",
        "outputId": "139d1ba3-78b9-422f-e18b-c1952656ac0e"
      },
      "execution_count": 67,
      "outputs": [
        {
          "output_type": "stream",
          "name": "stdout",
          "text": [
            "+----+------------------+\n",
            "|Year|             Close|\n",
            "+----+------------------+\n",
            "|2010|        214.009998|\n",
            "|2010|        214.379993|\n",
            "|2010|        210.969995|\n",
            "|2010|            210.58|\n",
            "|2010|211.98000499999998|\n",
            "|2010|210.11000299999998|\n",
            "|2010|        207.720001|\n",
            "|2010|        210.650002|\n",
            "|2010|            209.43|\n",
            "|2010|            205.93|\n",
            "|2010|        215.039995|\n",
            "|2010|            211.73|\n",
            "|2010|        208.069996|\n",
            "|2010|            197.75|\n",
            "|2010|        203.070002|\n",
            "|2010|        205.940001|\n",
            "|2010|        207.880005|\n",
            "|2010|        199.289995|\n",
            "|2010|        192.060003|\n",
            "|2010|        194.729998|\n",
            "+----+------------------+\n",
            "only showing top 20 rows\n",
            "\n"
          ]
        }
      ]
    },
    {
      "cell_type": "code",
      "source": [
        "new_stock = stock_df.withColumn(\"Year\", year(\"Date\")).select([\"Year\", \"Close\"])\n",
        "new_stock"
      ],
      "metadata": {
        "colab": {
          "base_uri": "https://localhost:8080/"
        },
        "id": "1Xkzt_RSwrQF",
        "outputId": "0bd63d33-f74c-4a6c-9310-2492dc1fdb0c"
      },
      "execution_count": 68,
      "outputs": [
        {
          "output_type": "execute_result",
          "data": {
            "text/plain": [
              "DataFrame[Year: int, Close: double]"
            ]
          },
          "metadata": {},
          "execution_count": 68
        }
      ]
    },
    {
      "cell_type": "code",
      "source": [
        "new_stock.groupBy(\"Year\").mean().select([\"Year\", \"avg(Close)\"]).withColumnRenamed(\"avg(Close)\", \"Average Close\").show()"
      ],
      "metadata": {
        "colab": {
          "base_uri": "https://localhost:8080/"
        },
        "id": "T5VrYOPqxQOM",
        "outputId": "613dc18e-93c7-4782-9e68-edb985e57238"
      },
      "execution_count": 69,
      "outputs": [
        {
          "output_type": "stream",
          "name": "stdout",
          "text": [
            "+----+------------------+\n",
            "|Year|     Average Close|\n",
            "+----+------------------+\n",
            "|2015|120.03999980555547|\n",
            "|2013| 472.6348802857143|\n",
            "|2014| 295.4023416507935|\n",
            "|2012| 576.0497195640002|\n",
            "|2016|104.60400786904763|\n",
            "|2010| 259.8424600000002|\n",
            "|2011|364.00432532142867|\n",
            "+----+------------------+\n",
            "\n"
          ]
        }
      ]
    },
    {
      "cell_type": "code",
      "source": [
        "new_stock.groupBy(\"Year\").mean().select([\"Year\", \"avg(Close)\"]).withColumnRenamed(\"avg(Close)\", \"Average Close\").orderBy(\"Year\").show()"
      ],
      "metadata": {
        "colab": {
          "base_uri": "https://localhost:8080/"
        },
        "id": "uwpPnr19xbbj",
        "outputId": "1fe4c8d2-edca-4e11-e929-302afe3f8022"
      },
      "execution_count": 70,
      "outputs": [
        {
          "output_type": "stream",
          "name": "stdout",
          "text": [
            "+----+------------------+\n",
            "|Year|     Average Close|\n",
            "+----+------------------+\n",
            "|2010| 259.8424600000002|\n",
            "|2011|364.00432532142867|\n",
            "|2012| 576.0497195640002|\n",
            "|2013| 472.6348802857143|\n",
            "|2014| 295.4023416507935|\n",
            "|2015|120.03999980555547|\n",
            "|2016|104.60400786904763|\n",
            "+----+------------------+\n",
            "\n"
          ]
        }
      ]
    },
    {
      "cell_type": "code",
      "source": [
        ""
      ],
      "metadata": {
        "id": "ohD5Sa2cxwgx"
      },
      "execution_count": null,
      "outputs": []
    }
  ]
}