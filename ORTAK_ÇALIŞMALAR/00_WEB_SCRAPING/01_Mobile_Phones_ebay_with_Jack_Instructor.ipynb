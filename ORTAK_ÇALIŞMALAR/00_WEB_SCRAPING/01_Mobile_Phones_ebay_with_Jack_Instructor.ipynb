{
 "cells": [
  {
   "cell_type": "markdown",
   "metadata": {},
   "source": [
    "## **Scraping Tools**\n",
    "\n",
    "### For interacting with web pages\n",
    "- requests\n",
    "- selenium\n",
    "- scrapy\n",
    "\n",
    "### For interacting with html\n",
    "- bs4\n",
    "\n",
    "### For all above\n",
    "- HTML & CSS"
   ]
  },
  {
   "cell_type": "markdown",
   "metadata": {},
   "source": [
    "### Scrape Apple & Samsung mobile phone data from ebay whose Buying Format's are \"Buy It Now\""
   ]
  },
  {
   "cell_type": "code",
   "execution_count": 5,
   "metadata": {
    "tags": []
   },
   "outputs": [],
   "source": [
    "from bs4 import BeautifulSoup as bs\n",
    "from datetime import datetime\n",
    "from selenium import webdriver\n",
    "import pandas as pd\n",
    "import numpy as np\n",
    "import time"
   ]
  },
  {
   "cell_type": "code",
   "execution_count": 42,
   "metadata": {},
   "outputs": [],
   "source": [
    "html_text = \"\"\"<li class=\"s-item s-item__pl-on-bottom s-item--watch-at-corner\" data-view=\"mi:1686|iid:4\" xpath=\"1\"><div class=\"s-item__wrapper clearfix\"><div class=\"s-item__image-section\"><div class=\"s-item__image\"><a tabindex=\"-1\" target=\"_blank\" aria-hidden=\"true\" data-track=\"{&quot;eventFamily&quot;:&quot;LST&quot;,&quot;eventAction&quot;:&quot;ACTN&quot;,&quot;actionKind&quot;:&quot;NAVSRC&quot;,&quot;actionKinds&quot;:[&quot;NAVSRC&quot;],&quot;operationId&quot;:&quot;2351460&quot;,&quot;flushImmediately&quot;:false,&quot;eventProperty&quot;:{&quot;parentrq&quot;:&quot;2b8a6d4b17e0acf3d1d8d449ffdba060&quot;,&quot;pageci&quot;:&quot;e2d64adc-6e56-11ec-95b1-b6862e1be17b&quot;,&quot;moduledtl&quot;:&quot;mi:1686|iid:4|li:7400|luid:1|scen:Listings&quot;}}\" _sp=\"p2351460.m1686.l7400\" href=\"https://www.ebay.com/itm/384659197727?hash=item598f798f1f%3Ag%3AuLMAAOSwmTFh1aI-&amp;LH_BIN=1\"><div class=\"s-item__image-wrapper\"><div class=\"s-item__image-helper\"></div><img class=\"s-item__image-img\" alt=\"Samsung Galaxy A51 - 128GB - Prism Crush Black - Metro PCS - Excellent Condition\" src=\"https://i.ebayimg.com/thumbs/images/g/uLMAAOSwmTFh1aI-/s-l225.webp\" loading=\"eager\" onload=\"SITE_SPEED.ATF_TIMER.measure(this);;if(this.width === 80 &amp;&amp; this.height === 80) {window.SRP.metrics.imageEmptyError.count++;}\" onerror=\"window.SRP.metrics.imageLoadError.count++; \" data-atftimer=\"1641408004356\"></div></a></div></div><div class=\"s-item__info clearfix\"><a target=\"_blank\" data-track=\"{&quot;eventFamily&quot;:&quot;LST&quot;,&quot;eventAction&quot;:&quot;ACTN&quot;,&quot;actionKind&quot;:&quot;NAVSRC&quot;,&quot;actionKinds&quot;:[&quot;NAVSRC&quot;],&quot;operationId&quot;:&quot;2351460&quot;,&quot;flushImmediately&quot;:false,&quot;eventProperty&quot;:{&quot;parentrq&quot;:&quot;2b8a6d4b17e0acf3d1d8d449ffdba060&quot;,&quot;pageci&quot;:&quot;e2d64adc-6e56-11ec-95b1-b6862e1be17b&quot;,&quot;moduledtl&quot;:&quot;mi:1686|iid:4|li:7400|luid:1|scen:Listings&quot;}}\" _sp=\"p2351460.m1686.l7400\" class=\"s-item__link\" href=\"https://www.ebay.com/itm/384659197727?hash=item598f798f1f%3Ag%3AuLMAAOSwmTFh1aI-&amp;LH_BIN=1\"><h3 class=\"s-item__title\"><span class=\"LIGHT_HIGHLIGHT\">New Listing</span>Samsung Galaxy A51 - 128GB - Prism Crush Black - Metro PCS - Excellent Condition</h3></a><div class=\"s-item__subtitle\"><span class=\"SECONDARY_INFO\">Excellent - Refurbished</span><span class=\"srp-separator srp-separator--TEXT_MIDDOT\"> · </span>128 GB<span class=\"srp-separator srp-separator--TEXT_MIDDOT\"> · </span>Metro</div><div class=\"s-item__details clearfix\"><div class=\"s-item__detail s-item__detail--primary\"><span class=\"s-item__price\">$5,000.00</span></div><span class=\"s-item__detail s-item__detail--secondary\"><span class=\"s-item__etrs\"><span data-marko-key=\"@_wbind s0-14-11-6-3-listing4-item-9-1-23[0[1[0]]]-0-10\" class=\"x-tooltip\" id=\"s0-14-11-6-3-listing4-item-9-1-23[0[1[0]]]-0-10\"><span class=\"tooltip tooltip--focus flyout--js tooltip--js\" id=\"flyout-3\"><span class=\"tooltip__trigger\" tabindex=\"0\" aria-labelledby=\"tooltip-s0-14-11-6-3-listing4-item-9-1-23[0[1[0]]]-0-10\" role=\"img\" aria-controls=\"tooltip-s0-14-11-6-3-listing4-item-9-1-23[0[1[0]]]-0-10\"><span aria-hidden=\"true\" class=\"s-item__etrs-new-plus\"></span><svg class=\"s-item__etrs-new__svg\" aria-hidden=\"true\" width=\"15.75px\" height=\"18px\"><use xlink:href=\"#svg-icon-top-plus\"></use></svg></span><span id=\"tooltip-s0-14-11-6-3-listing4-item-9-1-23[0[1[0]]]-0-10\" class=\"tooltip__overlay flyout-notice flyout-notice--information\" role=\"tooltip\"><b>Top Rated Plus</b><br><ul class=\"s-item__etrs-tooltip--list\"><li>Sellers with highest buyer ratings</li><li>Returns, money back</li><li>Ships in a business day with tracking</li></ul><a href=\"http://pages.ebay.com/trp/index.html\">Learn More</a><span class=\"flyout-notice__pointer-top-left\"></span></span></span></span><span class=\"s-item__etrs-text\">Top Rated Plus</span></span></span><div class=\"s-item__detail s-item__detail--primary\"><span class=\"s-item__purchase-options-with-icon\" aria-label=\"\">Buy It Now</span></div><div class=\"s-item__detail s-item__detail--primary\"><span class=\"s-item__shipping s-item__logisticsCost\">Free shipping</span></div><div class=\"s-item__detail s-item__detail--primary\"><span class=\"s-item__free-returns s-item__freeReturnsNoFee\">Free returns</span></div><div class=\"s-item__detail s-item__detail--primary\"><span class=\"s-item__hotness s-item__authorized-seller\" aria-label=\"eBay Refurbished\"><span aria-hidden=\"true\" role=\"img\"><svg class=\"ebayui-image-clipped\"><g id=\"ebayui-image-authorized-seller\"><path d=\"M19 9.522a4.058 4.058 0 0 0-.969-2.65c-.35-.413-.593-.92-.625-1.459a4.03 4.03 0 0 0-1.182-2.63 4.054 4.054 0 0 0-2.617-1.176c-.544-.034-1.053-.277-1.466-.629A4.08 4.08 0 0 0 9.483 0a4.082 4.082 0 0 0-2.656.977c-.414.353-.922.596-1.466.63a4.052 4.052 0 0 0-2.617 1.175 4.03 4.03 0 0 0-1.182 2.64c-.03.536-.275 1.038-.62 1.452A4.055 4.055 0 0 0 0 9.462a4.05 4.05 0 0 0 .939 2.614c.347.42.592.927.62 1.47a4.052 4.052 0 0 0 3.802 3.847c.544.034 1.052.277 1.466.629A4.08 4.08 0 0 0 9.483 19a4.08 4.08 0 0 0 2.658-.978c.413-.352.922-.595 1.466-.63a4.054 4.054 0 0 0 2.617-1.174 4.03 4.03 0 0 0 1.18-2.622c.034-.541.279-1.045.629-1.459.599-.707.963-1.617.967-2.615\" fill=\"#3256F8\"></path><path d=\"M5.06 9.687v.001a.632.632 0 0 0 .005.895l.445-.45.446-.45a.635.635 0 0 0-.896.004M14.434 5.626a.634.634 0 0 0-.897.004h.001l-5.782 5.838-1.8-1.784-.891.9 2.25 2.228c.25.247.65.245.897-.004l-.004-.003.445-.449.003.002 5.781-5.837h.001a.635.635 0 0 0-.004-.895\" fill=\"#FFF\"></path></g></svg>\n",
    "<svg aria-hidden=\"true\" focusable=\"false\" class=\"ebayui-image-authorized-seller\" version=\"1.1\" xmlns=\"http://www.w3.org/2000/svg\" xmlns:xlink=\"http://www.w3.org/1999/xlink\" x=\"0px\" y=\"0px\" viewBox=\"0 0 19 19\" enable-background=\"new 0 0 19 19\" xml:space=\"preserve\"><use xlink:href=\"#ebayui-image-authorized-seller\"></use></svg></span><span class=\"BOLD\">eBay Refurbished</span></span></div><div class=\"s-item__detail s-item__detail--primary\"><span class=\"s-item__sep\"> <span role=\"text\"><span class=\"s-oilf82u\">W⁣</span><span class=\"s-oilf82u\">S⁣</span><span class=\"s-oilf82u\">7⁣</span><span class=\"s-oilf82u\">p⁣</span><span class=\"s-oilf82u\">o⁣</span><span class=\"s-bqhm5rh\">\t⁣</span><span class=\"s-oilf82u\">n⁣</span><span class=\"s-oilf82u\">8⁣</span><span class=\"s-oilf82u\">s⁣</span><span class=\"s-oilf82u\">o⁣</span><span class=\"s-oilf82u\">5⁣</span><span class=\"s-bqhm5rh\">\t⁣</span><span class=\"s-oilf82u\">r⁣</span><span class=\"s-oilf82u\">e⁣</span><span class=\"s-oilf82u\">d⁣</span><span class=\"s-oilf82u\">⁣</span><span class=\"s-oilf82u\">5⁣</span><span class=\"s-oilf82u\">⁣</span><span class=\"s-oilf82u\">⁣</span><span class=\"s-oilf82u\">H⁣</span><span class=\"s-oilf82u\">⁣</span><span class=\"s-bqhm5rh\">\t⁣</span><span class=\"s-oilf82u\">⁣</span><span class=\"s-oilf82u\">⁣</span><span class=\"s-oilf82u\">U⁣</span><span class=\"s-oilf82u\">⁣</span><span class=\"s-oilf82u\">U⁣</span><span class=\"s-oilf82u\">⁣</span></span></span><span class=\"s-item__space_bar\"></span></div></div><span class=\"s-item__watchheart at-corner s-item__watchheart--watch\" data-has-widget=\"false\"><a aria-label=\"watch Samsung Galaxy A51 - 128GB - Prism Crush Black - Metro PCS - Excellent Condition\" _sp=\"p2351460.m4114.l8480\" href=\"https://www.ebay.com/myb/WatchListAdd?item=384659197727&amp;pt=null&amp;srt=010006000000504a18cd8c3818579137edb9ef6644e7ac183de5bca8a976c656c71b10228d1318af2f56a839f818b1e10340120f2c83bf29eddf6b8506fc9f21197628359e742b65c9c20eef7da4e6d90506bf75f00575&amp;ru=https%3A%2F%2Fwww.ebay.com%2Fsch%2Fi.html%3F_from%3DR40%26_nkw%3Dmobile%2Bphones%26_sacat%3D0%26Brand%3DSamsung%257CApple%26_dcat%3D9355%26rt%3Dnc%26LH_BIN%3D1%26_pgn%3D55\"><span class=\"s-item__watchheart-icon\"><svg aria-hidden=\"true\" class=\"svg-icon\" width=\"30px\" height=\"30px\"><use xlink:href=\"#svg-icon--save-circle\" class=\"rest\"></use><use xlink:href=\"#svg-icon--save-circle-hover\" class=\"hover\"></use><use xlink:href=\"#svg-icon--save-circle-active\" class=\"active\"></use></svg><span class=\"clipped\"></span></span></a></span></div></div></li>\"\"\"\n",
    "\n",
    "text_html = bs(html_text, 'html.parser')"
   ]
  },
  {
   "cell_type": "code",
   "execution_count": 89,
   "metadata": {},
   "outputs": [
    {
     "data": {
      "text/plain": [
       "'https://www.ebay.com/itm/384659197727?hash=item598f798f1f%3Ag%3AuLMAAOSwmTFh1aI-&LH_BIN=1'"
      ]
     },
     "execution_count": 89,
     "metadata": {},
     "output_type": "execute_result"
    }
   ],
   "source": [
    "text_html.a['href']"
   ]
  },
  {
   "cell_type": "code",
   "execution_count": 91,
   "metadata": {
    "tags": [
     "outputPrepend"
    ]
   },
   "outputs": [
    {
     "name": "stderr",
     "output_type": "stream",
     "text": [
      "<ipython-input-91-9bee90280b9e>:6: DeprecationWarning: executable_path has been deprecated, please pass in a Service object\n",
      "  driver = webdriver.Chrome('F://web_scraping_ch8/chromedriver.exe', options=chrome_options)\n",
      "C:\\Users\\mbk\\anaconda3\\envs\\scrapping\\lib\\site-packages\\selenium\\webdriver\\remote\\webdriver.py:742: UserWarning: find_elements_by_* commands are deprecated. Please use find_elements() instead\n",
      "  warnings.warn(\"find_elements_by_* commands are deprecated. Please use find_elements() instead\")\n"
     ]
    },
    {
     "name": "stdout",
     "output_type": "stream",
     "text": [
      "page 1 completed\n",
      "page 2 completed\n",
      "page 3 completed\n",
      "page 4 completed\n",
      "page 5 completed\n",
      "Runtime of the program is: 0:00:45.821057\n"
     ]
    }
   ],
   "source": [
    "start = datetime.now()\n",
    "\n",
    "chrome_options = webdriver.ChromeOptions()\n",
    "chrome_options.add_argument('headless')\n",
    "\n",
    "driver = webdriver.Chrome('F://web_scraping_ch8/chromedriver.exe', options=chrome_options)\n",
    "\n",
    "df_phones = pd.DataFrame(columns=['title', 'price', 'shipping', 'free_return', 'link'])\n",
    "\n",
    "total_pages = 6\n",
    "\n",
    "for i in range(1, total_pages):\n",
    "\n",
    "    driver.get('https://www.ebay.com/sch/i.html?_from=R40&_nkw=mobile\\\n",
    "                +phones&_sacat=0&Brand=Samsung%7CApple&_dcat=9355&rt=n\\\n",
    "                c&LH_BIN=1&_pgn='+str(i))\n",
    "    \n",
    "    driver.maximize_window()\n",
    "    time.sleep(np.random.randint(3, 6))\n",
    "\n",
    "    phones = driver.find_elements_by_css_selector(\"ul[class*='results']>li[class*='bottom']\")\n",
    "\n",
    "    for phone in phones:\n",
    "        phone_html = bs(phone.get_attribute('innerHTML'), 'html.parser')\n",
    "\n",
    "        try:\n",
    "            title = phone_html.find(class_='s-item__title').text\n",
    "        except:\n",
    "            title = ''\n",
    "\n",
    "        try:\n",
    "            price = phone_html.find(class_='s-item__price').text.replace('$', '').replace(',', '')\n",
    "        except:\n",
    "            price = ''\n",
    "\n",
    "        try:\n",
    "            shipping = phone_html.find(class_='s-item__shipping').text.replace('+$', '').replace(',', '').replace('shipping estimate', '')\n",
    "        except:\n",
    "            shipping = ''\n",
    "\n",
    "        try:\n",
    "            free_return = phone_html.find(class_='s-item__free-returns').text\n",
    "        except:\n",
    "            free_return = ''\n",
    "\n",
    "        try:\n",
    "            link = phone_html.a['href']\n",
    "        except:\n",
    "            link = ''\n",
    "        \n",
    "        df_phones = df_phones.append({'title': title, 'price': price, 'shipping': shipping,\n",
    "                                      'free_return': free_return, 'link': link}, ignore_index=True)\n",
    "\n",
    "        if (i) % 100 == 0:\n",
    "            df_phones.to_csv('phones_ebay_us.csv', index=False)\n",
    "        else:\n",
    "            continue\n",
    "\n",
    "    print(f'page {i} completed')\n",
    "\n",
    "driver.close()\n",
    "\n",
    "df_phones.to_csv('phones_ebay_us.csv', index=False)\n",
    "\n",
    "end = datetime.now()\n",
    "\n",
    "print(f'Runtime of the program is: {end - start}')"
   ]
  },
  {
   "cell_type": "code",
   "execution_count": null,
   "metadata": {},
   "outputs": [],
   "source": []
  }
 ],
 "metadata": {
  "interpreter": {
   "hash": "8138afe9f4c7415339365fad63a5f552ff43055100e9c51da19a3ab48156d255"
  },
  "kernelspec": {
   "display_name": "Python 3.8.5 64-bit ('scrapping': conda)",
   "language": "python",
   "name": "python3"
  },
  "language_info": {
   "codemirror_mode": {
    "name": "ipython",
    "version": 3
   },
   "file_extension": ".py",
   "mimetype": "text/x-python",
   "name": "python",
   "nbconvert_exporter": "python",
   "pygments_lexer": "ipython3",
   "version": "3.8.11"
  }
 },
 "nbformat": 4,
 "nbformat_minor": 4
}
