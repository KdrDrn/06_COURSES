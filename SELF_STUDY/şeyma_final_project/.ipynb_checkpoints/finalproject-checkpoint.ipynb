{
 "cells": [
  {
   "cell_type": "code",
   "execution_count": 1,
   "id": "2cbb8349-0f53-4468-8f7d-5178001f9014",
   "metadata": {},
   "outputs": [],
   "source": [
    "#gemi koltuk reservazyon ücreti modeli"
   ]
  },
  {
   "cell_type": "code",
   "execution_count": 2,
   "id": "959101de-2438-404f-bdaa-ef710ba6ec3c",
   "metadata": {},
   "outputs": [],
   "source": [
    "#Senaryo: Bir gemi sirketinde calisiyorsunuz, sizden koltuk reservazyonu icin fiyat belirlenmesi icin bir model \n",
    "#yapmaniz istendi, burada fiyat öncelikle kullanici profiline ve sonrasinda koltuk konumunua göre belirlenecek \n",
    "# bunu yaparken titanic veri setini baz alip, yolcu profilinden, ödeme istedigini baz alan bir sistem yapabilirsiniz, \n",
    "#farkli görüsleri olan varsa onu da uygulayabilir"
   ]
  },
  {
   "cell_type": "markdown",
   "id": "58d143f6-62aa-4cfa-80fe-32b278de32c0",
   "metadata": {},
   "source": [
    "![stemming1.png](https://store.donanimhaber.com/50/ee/7f/50ee7fc514d6253b1d5482afde7e9e8a.png)"
   ]
  },
  {
   "cell_type": "code",
   "execution_count": null,
   "id": "1c479aee",
   "metadata": {},
   "outputs": [],
   "source": [
    "import numpy as np\n",
    "import pandas as pd\n",
    "import matplotlib.pyplot as plt\n",
    "import seaborn as sns"
   ]
  },
  {
   "cell_type": "code",
   "execution_count": null,
   "id": "d5e27111-da5e-4902-b615-9cd7770e6b0a",
   "metadata": {},
   "outputs": [],
   "source": [
    "# titanic veri seti \n",
    "\n",
    "df = pd.read_csv('https://raw.githubusercontent.com/datasciencedojo/datasets/master/titanic.csv')\n",
    "df.head()"
   ]
  },
  {
   "cell_type": "code",
   "execution_count": null,
   "id": "df14fa25-42c7-4926-9253-2690556ca4e6",
   "metadata": {},
   "outputs": [],
   "source": [
    "df.shape"
   ]
  },
  {
   "cell_type": "code",
   "execution_count": null,
   "id": "04b0cfac-5393-4af4-a8be-bfa2449ddca9",
   "metadata": {},
   "outputs": [],
   "source": [
    "df.columns"
   ]
  },
  {
   "cell_type": "code",
   "execution_count": null,
   "id": "c889e759",
   "metadata": {},
   "outputs": [],
   "source": [
    "df.info()"
   ]
  },
  {
   "cell_type": "code",
   "execution_count": null,
   "id": "b3f2a892",
   "metadata": {},
   "outputs": [],
   "source": [
    "df.describe()"
   ]
  },
  {
   "cell_type": "code",
   "execution_count": null,
   "id": "3139d5df",
   "metadata": {},
   "outputs": [],
   "source": [
    "df.describe(include='object')"
   ]
  },
  {
   "cell_type": "code",
   "execution_count": null,
   "id": "d6a79a91",
   "metadata": {},
   "outputs": [],
   "source": [
    "df.isnull().sum()"
   ]
  },
  {
   "cell_type": "code",
   "execution_count": null,
   "id": "e771a4c3",
   "metadata": {},
   "outputs": [],
   "source": [
    "df.duplicated().sum()"
   ]
  },
  {
   "cell_type": "code",
   "execution_count": null,
   "id": "23df4651",
   "metadata": {},
   "outputs": [],
   "source": [
    "numerical = df.select_dtypes('number')\n",
    "numerical"
   ]
  },
  {
   "cell_type": "code",
   "execution_count": null,
   "id": "62129ddc",
   "metadata": {},
   "outputs": [],
   "source": [
    "print(\"Number of Uniques:\\n\", df.select_dtypes('number').nunique(), '\\n', sep='')"
   ]
  },
  {
   "cell_type": "code",
   "execution_count": null,
   "id": "cd391213",
   "metadata": {},
   "outputs": [],
   "source": [
    "pd.DataFrame(df.select_dtypes('number').agg(['min', 'mean', 'median', 'max']))"
   ]
  },
  {
   "cell_type": "code",
   "execution_count": null,
   "id": "ebfcdc72",
   "metadata": {},
   "outputs": [],
   "source": [
    "categorical = df.select_dtypes('object')\n",
    "categorical"
   ]
  },
  {
   "cell_type": "code",
   "execution_count": null,
   "id": "991f996c",
   "metadata": {},
   "outputs": [],
   "source": [
    "print(\"Number of Uniques:\\n\", df.select_dtypes('object').nunique(),'\\n', sep='')"
   ]
  },
  {
   "cell_type": "markdown",
   "id": "3a065535",
   "metadata": {},
   "source": [
    "## Numerical Columns"
   ]
  },
  {
   "cell_type": "code",
   "execution_count": null,
   "id": "82c87369",
   "metadata": {},
   "outputs": [],
   "source": [
    "numerical.columns"
   ]
  },
  {
   "cell_type": "code",
   "execution_count": null,
   "id": "49d60dc1",
   "metadata": {},
   "outputs": [],
   "source": [
    "plt.figure(figsize=(12, 10))\n",
    "sns.heatmap(numerical.corr(), annot=True);"
   ]
  },
  {
   "cell_type": "markdown",
   "id": "fb297880",
   "metadata": {},
   "source": [
    "**Fare**"
   ]
  },
  {
   "cell_type": "code",
   "execution_count": null,
   "id": "c347a187",
   "metadata": {},
   "outputs": [],
   "source": [
    "print('Range:', np.min(df['Fare']), '-', np.max(df['Fare']))\n",
    "print('---'*8)\n",
    "print('Nunique:', df['Fare'].nunique())\n",
    "print('---'*8)\n",
    "\n",
    "df.Fare.describe()"
   ]
  },
  {
   "cell_type": "code",
   "execution_count": null,
   "id": "9383c769",
   "metadata": {},
   "outputs": [],
   "source": [
    "sns.boxplot(data = df, x = 'Fare');"
   ]
  },
  {
   "cell_type": "code",
   "execution_count": null,
   "id": "85c341b9",
   "metadata": {},
   "outputs": [],
   "source": [
    "sns.kdeplot(data = df, x = 'Fare', fill=True);"
   ]
  },
  {
   "cell_type": "code",
   "execution_count": null,
   "id": "da174047",
   "metadata": {},
   "outputs": [],
   "source": [
    "sns.histplot(data=df, x = 'Fare', bins=25);"
   ]
  },
  {
   "cell_type": "markdown",
   "id": "2c0833a2",
   "metadata": {},
   "source": [
    "**PassengerId**"
   ]
  },
  {
   "cell_type": "code",
   "execution_count": null,
   "id": "067f0791",
   "metadata": {},
   "outputs": [],
   "source": [
    "print('Range:', np.min(df['PassengerId']), '-', np.max(df['PassengerId']))\n",
    "print('---'*8)\n",
    "print('Nunique:', df['PassengerId'].nunique())\n",
    "print('---'*8)\n",
    "\n",
    "df.PassengerId.describe()"
   ]
  },
  {
   "cell_type": "code",
   "execution_count": null,
   "id": "dfedaeda",
   "metadata": {},
   "outputs": [],
   "source": [
    "# 891 tane unique PassengerId var. Her yolcuya özel. Analizlerde işe yaramaz. Düşülebilir"
   ]
  },
  {
   "cell_type": "markdown",
   "id": "d939bd3b",
   "metadata": {},
   "source": [
    "**Survived**"
   ]
  },
  {
   "cell_type": "code",
   "execution_count": null,
   "id": "2989d7b5",
   "metadata": {},
   "outputs": [],
   "source": [
    "print('Range:', np.min(df['Survived']), '-', np.max(df['Survived']))\n",
    "print('---'*8)\n",
    "print('Nunique:', df['Survived'].nunique())\n",
    "print('---'*8)\n",
    "\n",
    "df.Survived.describe()"
   ]
  },
  {
   "cell_type": "code",
   "execution_count": null,
   "id": "bff72c2b",
   "metadata": {},
   "outputs": [],
   "source": [
    "df.Survived.value_counts(dropna=False)"
   ]
  },
  {
   "cell_type": "code",
   "execution_count": null,
   "id": "97cf43ae",
   "metadata": {},
   "outputs": [],
   "source": [
    "sns.countplot(data=df, x='Survived');"
   ]
  },
  {
   "cell_type": "code",
   "execution_count": null,
   "id": "10f1acfd",
   "metadata": {},
   "outputs": [],
   "source": [
    "df.groupby('Survived')['Fare'].agg(['min', 'mean', 'median', 'max'])"
   ]
  },
  {
   "cell_type": "code",
   "execution_count": null,
   "id": "ba0ae6ae",
   "metadata": {},
   "outputs": [],
   "source": [
    "sns.kdeplot(data = df, x = 'Fare', hue = \"Survived\", fill=True);"
   ]
  },
  {
   "cell_type": "code",
   "execution_count": null,
   "id": "9f83b02b",
   "metadata": {},
   "outputs": [],
   "source": [
    "# Survived sütunu bilet fiyatının belirlenmesinde önemli değil. \n",
    "# Ancak, kimler hayatta kalmış? \n",
    "# Hayatta kalma nedenlerinin belirlenmesinde anahtar sütun.\n",
    "# Yukarıdaki tabloya göre yüksek bilet fiyatı ödeyenler düşük bilet bedeli ödeyenlere göre daha fazla hayatta kalmış.\n",
    "# "
   ]
  },
  {
   "cell_type": "markdown",
   "id": "bcd49f40",
   "metadata": {},
   "source": [
    "**Pclass**\n",
    "\n",
    "pclass ->Ticket class -> 1 = 1st, 2 = 2nd, 3 = 3rd"
   ]
  },
  {
   "cell_type": "code",
   "execution_count": null,
   "id": "f2d8a802",
   "metadata": {},
   "outputs": [],
   "source": [
    "print('Range:', np.min(df['Pclass']), '-', np.max(df['Pclass']))\n",
    "print('---'*8)\n",
    "print('Nunique:', df['Pclass'].nunique())\n",
    "print('---'*8)\n",
    "\n",
    "df.Pclass.describe()"
   ]
  },
  {
   "cell_type": "code",
   "execution_count": null,
   "id": "dcab6c22",
   "metadata": {},
   "outputs": [],
   "source": [
    "df.Pclass.value_counts(dropna=False)"
   ]
  },
  {
   "cell_type": "code",
   "execution_count": null,
   "id": "253a8661",
   "metadata": {},
   "outputs": [],
   "source": [
    "sns.countplot(data=df, x='Pclass');"
   ]
  },
  {
   "cell_type": "code",
   "execution_count": null,
   "id": "60515342",
   "metadata": {},
   "outputs": [],
   "source": [
    "df.groupby('Pclass')['Fare'].agg(['min', 'mean', 'median', 'max'])"
   ]
  },
  {
   "cell_type": "code",
   "execution_count": null,
   "id": "36b1994c",
   "metadata": {},
   "outputs": [],
   "source": [
    "# Pclass bilet fiyatı belirlemesinde önemli bir sütun.\n",
    "# 1'inci class ın 2'nci class a, 2'nci  class ın ise 3'üncü class a göre bilet fiyatları daha yüksek"
   ]
  },
  {
   "cell_type": "markdown",
   "id": "27b18028",
   "metadata": {},
   "source": [
    "**Age**"
   ]
  },
  {
   "cell_type": "code",
   "execution_count": null,
   "id": "18e283ee",
   "metadata": {},
   "outputs": [],
   "source": [
    "print('Range:', np.min(df['Age']), '-', np.max(df['Age']))\n",
    "print('---'*8)\n",
    "print('Nunique:', df['Age'].nunique())\n",
    "print('---'*8)\n",
    "\n",
    "df.Age.describe()"
   ]
  },
  {
   "cell_type": "code",
   "execution_count": null,
   "id": "7fb104ee",
   "metadata": {},
   "outputs": [],
   "source": [
    "df.Age.value_counts(dropna=False)"
   ]
  },
  {
   "cell_type": "code",
   "execution_count": null,
   "id": "44e46516",
   "metadata": {},
   "outputs": [],
   "source": [
    "df.Age.isnull().sum()"
   ]
  },
  {
   "cell_type": "code",
   "execution_count": null,
   "id": "9340f872",
   "metadata": {},
   "outputs": [],
   "source": [
    "sns.boxplot(data = df, x = 'Age');"
   ]
  },
  {
   "cell_type": "code",
   "execution_count": null,
   "id": "2b244943",
   "metadata": {},
   "outputs": [],
   "source": [
    "sns.kdeplot(data = df, x = 'Age', fill=True);"
   ]
  },
  {
   "cell_type": "code",
   "execution_count": null,
   "id": "ae7d1de5",
   "metadata": {},
   "outputs": [],
   "source": [
    "sns.histplot(data=df, x = 'Age', bins=10);"
   ]
  },
  {
   "cell_type": "code",
   "execution_count": null,
   "id": "936c979d",
   "metadata": {},
   "outputs": [],
   "source": [
    "print(f'Age mean:{df.Age.mean()}')\n",
    "print(f'Age median:{df.Age.median()}')"
   ]
  },
  {
   "cell_type": "code",
   "execution_count": null,
   "id": "a64c3e11",
   "metadata": {},
   "outputs": [],
   "source": [
    "df.groupby('Pclass').Age.median()"
   ]
  },
  {
   "cell_type": "code",
   "execution_count": null,
   "id": "db21b268",
   "metadata": {},
   "outputs": [],
   "source": [
    "df.groupby(['Pclass', 'Sex']).Age.median()"
   ]
  },
  {
   "cell_type": "code",
   "execution_count": null,
   "id": "26d67d2e",
   "metadata": {},
   "outputs": [],
   "source": [
    "df.groupby(['Pclass', 'Sex']).Age.transform(\"median\")"
   ]
  },
  {
   "cell_type": "code",
   "execution_count": null,
   "id": "8c035989",
   "metadata": {},
   "outputs": [],
   "source": [
    "df['Age'] = df['Age'].fillna(df.groupby(['Pclass', 'Sex']).Age.transform(\"median\"))"
   ]
  },
  {
   "cell_type": "code",
   "execution_count": null,
   "id": "fecd133f",
   "metadata": {},
   "outputs": [],
   "source": [
    "df.isnull().sum()"
   ]
  },
  {
   "cell_type": "code",
   "execution_count": null,
   "id": "55e046ea",
   "metadata": {},
   "outputs": [],
   "source": [
    "sns.scatterplot(data=df, x='Age', y='Fare');"
   ]
  },
  {
   "cell_type": "code",
   "execution_count": null,
   "id": "8465ea6c",
   "metadata": {},
   "outputs": [],
   "source": [
    "sns.scatterplot(data=df, x='Age', y='Fare', hue='Pclass');"
   ]
  },
  {
   "cell_type": "markdown",
   "id": "b4f7cc53",
   "metadata": {},
   "source": [
    "**SibSp**\n",
    "\n",
    "- sibsp: The dataset defines family relations in this way...\n",
    "- Sibling = brother, sister, stepbrother, stepsister\n",
    "- Spouse = husband, wife (mistresses and fiancés were ignored)"
   ]
  },
  {
   "cell_type": "code",
   "execution_count": null,
   "id": "b91a3ec1",
   "metadata": {},
   "outputs": [],
   "source": [
    "print('Range:', np.min(df['SibSp']), '-', np.max(df['SibSp']))\n",
    "print('---'*8)\n",
    "print('Nunique:', df['SibSp'].nunique())\n",
    "print('---'*8)\n",
    "\n",
    "df.SibSp.describe()"
   ]
  },
  {
   "cell_type": "code",
   "execution_count": null,
   "id": "61c003ac",
   "metadata": {},
   "outputs": [],
   "source": [
    "df.SibSp.value_counts(dropna=False)"
   ]
  },
  {
   "cell_type": "code",
   "execution_count": null,
   "id": "0f43b898",
   "metadata": {},
   "outputs": [],
   "source": [
    "sns.countplot(data=df, x='SibSp');"
   ]
  },
  {
   "cell_type": "code",
   "execution_count": null,
   "id": "3fc717e7",
   "metadata": {},
   "outputs": [],
   "source": [
    "df.groupby('SibSp')['Fare'].agg(['min', 'mean', 'median', 'max'])"
   ]
  },
  {
   "cell_type": "markdown",
   "id": "0f866f05",
   "metadata": {},
   "source": [
    "**Parch**\n",
    "\n",
    "- parch: The dataset defines family relations in this way...\n",
    "- Parent = mother, father\n",
    "- Child = daughter, son, stepdaughter, stepson\n",
    "- Some children travelled only with a nanny, therefore parch=0 for them."
   ]
  },
  {
   "cell_type": "code",
   "execution_count": null,
   "id": "9d2aac42",
   "metadata": {},
   "outputs": [],
   "source": [
    "print('Range:', np.min(df['Parch']), '-', np.max(df['Parch']))\n",
    "print('---'*8)\n",
    "print('Nunique:', df['Parch'].nunique())\n",
    "print('---'*8)\n",
    "\n",
    "df.Parch.describe()"
   ]
  },
  {
   "cell_type": "code",
   "execution_count": null,
   "id": "a2e7962a",
   "metadata": {},
   "outputs": [],
   "source": [
    "df.Parch.value_counts(dropna=False)"
   ]
  },
  {
   "cell_type": "code",
   "execution_count": null,
   "id": "bc29ce54",
   "metadata": {},
   "outputs": [],
   "source": [
    "sns.countplot(data=df, x='Parch');"
   ]
  },
  {
   "cell_type": "code",
   "execution_count": null,
   "id": "feb0ebcd",
   "metadata": {},
   "outputs": [],
   "source": [
    "df.groupby('Parch')['Fare'].agg(['min', 'mean', 'median', 'max'])"
   ]
  },
  {
   "cell_type": "markdown",
   "id": "d52c7a30",
   "metadata": {},
   "source": [
    "## Categorical Columns"
   ]
  },
  {
   "cell_type": "code",
   "execution_count": null,
   "id": "133c9015",
   "metadata": {},
   "outputs": [],
   "source": [
    "categorical.columns"
   ]
  },
  {
   "cell_type": "markdown",
   "id": "96d5716f",
   "metadata": {},
   "source": [
    "**Sex**"
   ]
  },
  {
   "cell_type": "code",
   "execution_count": null,
   "id": "c93aae68",
   "metadata": {},
   "outputs": [],
   "source": [
    "print('Nunique:', df['Sex'].nunique())\n",
    "print('---'*8)\n",
    "\n",
    "df.Sex.value_counts(dropna=False)"
   ]
  },
  {
   "cell_type": "code",
   "execution_count": null,
   "id": "f24dd120",
   "metadata": {},
   "outputs": [],
   "source": [
    "print(df.groupby('Sex')['Fare'].mean())\n",
    "df.groupby('Sex')['Fare'].mean().plot(kind='bar');"
   ]
  },
  {
   "cell_type": "code",
   "execution_count": null,
   "id": "1e4657b7",
   "metadata": {},
   "outputs": [],
   "source": [
    "df.groupby('Sex')['Fare'].agg(['min', 'mean', 'median', 'max'])"
   ]
  },
  {
   "cell_type": "markdown",
   "id": "d56a5a3f",
   "metadata": {},
   "source": [
    "**Ticket**"
   ]
  },
  {
   "cell_type": "code",
   "execution_count": null,
   "id": "eb588a65",
   "metadata": {},
   "outputs": [],
   "source": [
    "print('Nunique:', df['Ticket'].nunique())\n",
    "print('---'*8)\n",
    "\n",
    "df.Ticket.value_counts(dropna=False)"
   ]
  },
  {
   "cell_type": "markdown",
   "id": "778e13b4",
   "metadata": {},
   "source": [
    "**Cabin**"
   ]
  },
  {
   "cell_type": "code",
   "execution_count": null,
   "id": "ee4159f3",
   "metadata": {},
   "outputs": [],
   "source": [
    "print('Nunique:', df['Cabin'].nunique())\n",
    "print('---'*8)\n",
    "\n",
    "df.Cabin.value_counts(dropna=False)"
   ]
  },
  {
   "cell_type": "code",
   "execution_count": null,
   "id": "4d2bc67f",
   "metadata": {},
   "outputs": [],
   "source": [
    "df['Cabin_V2'] = df['Cabin'].str[0]"
   ]
  },
  {
   "cell_type": "code",
   "execution_count": null,
   "id": "a40db7d5",
   "metadata": {},
   "outputs": [],
   "source": [
    "df['Cabin_V2'].value_counts(dropna=False)"
   ]
  },
  {
   "cell_type": "code",
   "execution_count": null,
   "id": "606eeb9f",
   "metadata": {},
   "outputs": [],
   "source": [
    "df.groupby('Cabin_V2')['Fare'].agg(['min', 'mean', 'median', 'max', 'nunique'])"
   ]
  },
  {
   "cell_type": "code",
   "execution_count": null,
   "id": "ac4273ad",
   "metadata": {},
   "outputs": [],
   "source": [
    "df.drop(['Cabin','Cabin_V2'], axis=1, inplace=True)\n",
    "df.shape"
   ]
  },
  {
   "cell_type": "markdown",
   "id": "6873e043",
   "metadata": {},
   "source": [
    "**Embarked**\n",
    "\n",
    "- Port of Embarkation\tC = Cherbourg, Q = Queenstown, S = Southampton"
   ]
  },
  {
   "cell_type": "code",
   "execution_count": null,
   "id": "7ee3a4eb",
   "metadata": {},
   "outputs": [],
   "source": [
    "print('Nunique:', df['Embarked'].nunique())\n",
    "print('---'*8)\n",
    "\n",
    "df.Embarked.value_counts(dropna=False)"
   ]
  },
  {
   "cell_type": "code",
   "execution_count": null,
   "id": "1bc5b473",
   "metadata": {},
   "outputs": [],
   "source": [
    "df.dropna(inplace = True)\n",
    "df.shape"
   ]
  },
  {
   "cell_type": "code",
   "execution_count": null,
   "id": "1122542f",
   "metadata": {},
   "outputs": [],
   "source": [
    "sns.countplot(data=df, x='Embarked');"
   ]
  },
  {
   "cell_type": "code",
   "execution_count": null,
   "id": "c087532e",
   "metadata": {},
   "outputs": [],
   "source": [
    "df.groupby('Embarked')['Fare'].agg(['min', 'mean', 'median', 'max'])"
   ]
  },
  {
   "cell_type": "code",
   "execution_count": null,
   "id": "2e6cb8fa",
   "metadata": {},
   "outputs": [],
   "source": [
    "df.to_csv(\"cleaned_titanic.csv\", index=False)\n",
    "pd.read_csv(\"cleaned_titanic.csv\")"
   ]
  },
  {
   "cell_type": "code",
   "execution_count": 72,
   "id": "2a6e9c14",
   "metadata": {},
   "outputs": [
    {
     "name": "stdout",
     "output_type": "stream",
     "text": [
      "Enter the starting station: ankara\n",
      "Enter the destination station: istanbul\n",
      "Is this a round trip? (yes/no): no\n",
      "Is the passenger a student? (yes/no): no\n",
      "The fare for the one way journey from ankara to istanbul for a non-student is 375.\n"
     ]
    }
   ],
   "source": [
    "def calculate_fare(start_station, end_station, is_round_trip=False, is_student=False, fare_per_station=75):\n",
    "    route = ['ankara', 'eskişehir', 'bilecik', 'sakarya', 'kocaeli', 'istanbul']\n",
    "\n",
    "    try:\n",
    "        start_index = route.index(start_station.lower())\n",
    "        end_index = route.index(end_station.lower())\n",
    "\n",
    "        # Calculate the number of stations traveled\n",
    "        num_stations = abs(end_index - start_index)\n",
    "\n",
    "        # Minimum fare is 75 for each shortest route\n",
    "        base_fare = num_stations * fare_per_station\n",
    "\n",
    "        # Apply a 10% discount for round-trip tickets\n",
    "        round_trip_discount = 0.9 if is_round_trip else 1\n",
    "\n",
    "        # Apply a 25% discount for students\n",
    "        student_discount = 0.75 if is_student else 1\n",
    "\n",
    "        # Calculate the final fare\n",
    "        fare = base_fare * round_trip_discount * student_discount\n",
    "\n",
    "        return fare\n",
    "\n",
    "    except ValueError:\n",
    "        # Handle cases where the entered station is not in the route\n",
    "        return \"Invalid station. Please enter a valid station from the route.\"\n",
    "\n",
    "# Example usage:\n",
    "start_station = input(\"Enter the starting station: \")\n",
    "end_station = input(\"Enter the destination station: \")\n",
    "round_trip_option = input(\"Is this a round trip? (yes/no): \").lower()\n",
    "student_option = input(\"Is the passenger a student? (yes/no): \").lower()\n",
    "\n",
    "is_round_trip = round_trip_option == 'yes'\n",
    "is_student = student_option == 'yes'\n",
    "\n",
    "fare_result = calculate_fare(start_station, end_station, is_round_trip, is_student)\n",
    "\n",
    "if isinstance(fare_result, str):\n",
    "    print(fare_result)\n",
    "else:\n",
    "    trip_type = \"round trip\" if is_round_trip else \"one way\"\n",
    "    student_status = \"student\" if is_student else \"non-student\"\n",
    "    print(f\"The fare for the {trip_type} journey from {start_station} to {end_station} for a {student_status} is {fare_result}.\")\n",
    "\n"
   ]
  },
  {
   "cell_type": "code",
   "execution_count": null,
   "id": "8ec58800",
   "metadata": {},
   "outputs": [],
   "source": []
  },
  {
   "cell_type": "code",
   "execution_count": null,
   "id": "7b3a3336",
   "metadata": {},
   "outputs": [],
   "source": [
    "# gemi koltuk reservazyon ücreti modeli\n",
    "\n",
    "# burada fiyat öncelikle kullanici profiline\n",
    "# sonrasinda koltuk konumunua göre belirlenecek \n",
    "# bunu yaparken titanic veri setini baz alip, yolcu profilinden, ödeme istedigini baz alan bir sistem yapabilirsiniz, \n",
    "#farkli görüsleri olan varsa onu da uygulayabilir"
   ]
  },
  {
   "cell_type": "code",
   "execution_count": 76,
   "id": "0d3c8560",
   "metadata": {},
   "outputs": [
    {
     "name": "stdout",
     "output_type": "stream",
     "text": [
      "Mean Absolute Error: 19.151399527452515\n",
      "Yolcu sınıfını girin (1, 2, 3): 2\n",
      "Yolcu cinsiyetini girin (male/female): male\n",
      "Yolcu yaşını girin: 55\n"
     ]
    },
    {
     "ename": "ValueError",
     "evalue": "The feature names should match those that were passed during fit.\nFeature names must be in the same order as they were in fit.\n",
     "output_type": "error",
     "traceback": [
      "\u001b[1;31m---------------------------------------------------------------------------\u001b[0m",
      "\u001b[1;31mValueError\u001b[0m                                Traceback (most recent call last)",
      "Cell \u001b[1;32mIn[76], line 44\u001b[0m\n\u001b[0;32m     41\u001b[0m user_sex \u001b[38;5;241m=\u001b[39m \u001b[38;5;28minput\u001b[39m(\u001b[38;5;124m\"\u001b[39m\u001b[38;5;124mYolcu cinsiyetini girin (male/female): \u001b[39m\u001b[38;5;124m\"\u001b[39m)\n\u001b[0;32m     42\u001b[0m user_age \u001b[38;5;241m=\u001b[39m \u001b[38;5;28mfloat\u001b[39m(\u001b[38;5;28minput\u001b[39m(\u001b[38;5;124m\"\u001b[39m\u001b[38;5;124mYolcu yaşını girin: \u001b[39m\u001b[38;5;124m\"\u001b[39m))\n\u001b[1;32m---> 44\u001b[0m predicted_fare \u001b[38;5;241m=\u001b[39m \u001b[43mpredict_fare\u001b[49m\u001b[43m(\u001b[49m\u001b[43muser_pclass\u001b[49m\u001b[43m,\u001b[49m\u001b[43m \u001b[49m\u001b[43muser_sex\u001b[49m\u001b[43m,\u001b[49m\u001b[43m \u001b[49m\u001b[43muser_age\u001b[49m\u001b[43m)\u001b[49m\n\u001b[0;32m     45\u001b[0m \u001b[38;5;28mprint\u001b[39m(\u001b[38;5;124mf\u001b[39m\u001b[38;5;124m\"\u001b[39m\u001b[38;5;124mTahmini rezervasyon ücreti: \u001b[39m\u001b[38;5;132;01m{\u001b[39;00mpredicted_fare\u001b[38;5;132;01m}\u001b[39;00m\u001b[38;5;124m\"\u001b[39m)\n",
      "Cell \u001b[1;32mIn[76], line 36\u001b[0m, in \u001b[0;36mpredict_fare\u001b[1;34m(pclass, sex, age)\u001b[0m\n\u001b[0;32m     33\u001b[0m input_df \u001b[38;5;241m=\u001b[39m pd\u001b[38;5;241m.\u001b[39mDataFrame(data\u001b[38;5;241m=\u001b[39minput_data)\n\u001b[0;32m     35\u001b[0m \u001b[38;5;66;03m# Modeli kullanarak ücret tahmini\u001b[39;00m\n\u001b[1;32m---> 36\u001b[0m fare_prediction \u001b[38;5;241m=\u001b[39m \u001b[43mmodel\u001b[49m\u001b[38;5;241;43m.\u001b[39;49m\u001b[43mpredict\u001b[49m\u001b[43m(\u001b[49m\u001b[43minput_df\u001b[49m\u001b[43m)\u001b[49m\n\u001b[0;32m     37\u001b[0m \u001b[38;5;28;01mreturn\u001b[39;00m fare_prediction[\u001b[38;5;241m0\u001b[39m]\n",
      "File \u001b[1;32m~\\anaconda3\\lib\\site-packages\\sklearn\\ensemble\\_forest.py:981\u001b[0m, in \u001b[0;36mForestRegressor.predict\u001b[1;34m(self, X)\u001b[0m\n\u001b[0;32m    979\u001b[0m check_is_fitted(\u001b[38;5;28mself\u001b[39m)\n\u001b[0;32m    980\u001b[0m \u001b[38;5;66;03m# Check data\u001b[39;00m\n\u001b[1;32m--> 981\u001b[0m X \u001b[38;5;241m=\u001b[39m \u001b[38;5;28;43mself\u001b[39;49m\u001b[38;5;241;43m.\u001b[39;49m\u001b[43m_validate_X_predict\u001b[49m\u001b[43m(\u001b[49m\u001b[43mX\u001b[49m\u001b[43m)\u001b[49m\n\u001b[0;32m    983\u001b[0m \u001b[38;5;66;03m# Assign chunk of trees to jobs\u001b[39;00m\n\u001b[0;32m    984\u001b[0m n_jobs, _, _ \u001b[38;5;241m=\u001b[39m _partition_estimators(\u001b[38;5;28mself\u001b[39m\u001b[38;5;241m.\u001b[39mn_estimators, \u001b[38;5;28mself\u001b[39m\u001b[38;5;241m.\u001b[39mn_jobs)\n",
      "File \u001b[1;32m~\\anaconda3\\lib\\site-packages\\sklearn\\ensemble\\_forest.py:602\u001b[0m, in \u001b[0;36mBaseForest._validate_X_predict\u001b[1;34m(self, X)\u001b[0m\n\u001b[0;32m    599\u001b[0m \u001b[38;5;250m\u001b[39m\u001b[38;5;124;03m\"\"\"\u001b[39;00m\n\u001b[0;32m    600\u001b[0m \u001b[38;5;124;03mValidate X whenever one tries to predict, apply, predict_proba.\"\"\"\u001b[39;00m\n\u001b[0;32m    601\u001b[0m check_is_fitted(\u001b[38;5;28mself\u001b[39m)\n\u001b[1;32m--> 602\u001b[0m X \u001b[38;5;241m=\u001b[39m \u001b[38;5;28;43mself\u001b[39;49m\u001b[38;5;241;43m.\u001b[39;49m\u001b[43m_validate_data\u001b[49m\u001b[43m(\u001b[49m\u001b[43mX\u001b[49m\u001b[43m,\u001b[49m\u001b[43m \u001b[49m\u001b[43mdtype\u001b[49m\u001b[38;5;241;43m=\u001b[39;49m\u001b[43mDTYPE\u001b[49m\u001b[43m,\u001b[49m\u001b[43m \u001b[49m\u001b[43maccept_sparse\u001b[49m\u001b[38;5;241;43m=\u001b[39;49m\u001b[38;5;124;43m\"\u001b[39;49m\u001b[38;5;124;43mcsr\u001b[39;49m\u001b[38;5;124;43m\"\u001b[39;49m\u001b[43m,\u001b[49m\u001b[43m \u001b[49m\u001b[43mreset\u001b[49m\u001b[38;5;241;43m=\u001b[39;49m\u001b[38;5;28;43;01mFalse\u001b[39;49;00m\u001b[43m)\u001b[49m\n\u001b[0;32m    603\u001b[0m \u001b[38;5;28;01mif\u001b[39;00m issparse(X) \u001b[38;5;129;01mand\u001b[39;00m (X\u001b[38;5;241m.\u001b[39mindices\u001b[38;5;241m.\u001b[39mdtype \u001b[38;5;241m!=\u001b[39m np\u001b[38;5;241m.\u001b[39mintc \u001b[38;5;129;01mor\u001b[39;00m X\u001b[38;5;241m.\u001b[39mindptr\u001b[38;5;241m.\u001b[39mdtype \u001b[38;5;241m!=\u001b[39m np\u001b[38;5;241m.\u001b[39mintc):\n\u001b[0;32m    604\u001b[0m     \u001b[38;5;28;01mraise\u001b[39;00m \u001b[38;5;167;01mValueError\u001b[39;00m(\u001b[38;5;124m\"\u001b[39m\u001b[38;5;124mNo support for np.int64 index based sparse matrices\u001b[39m\u001b[38;5;124m\"\u001b[39m)\n",
      "File \u001b[1;32m~\\anaconda3\\lib\\site-packages\\sklearn\\base.py:548\u001b[0m, in \u001b[0;36mBaseEstimator._validate_data\u001b[1;34m(self, X, y, reset, validate_separately, **check_params)\u001b[0m\n\u001b[0;32m    483\u001b[0m \u001b[38;5;28;01mdef\u001b[39;00m \u001b[38;5;21m_validate_data\u001b[39m(\n\u001b[0;32m    484\u001b[0m     \u001b[38;5;28mself\u001b[39m,\n\u001b[0;32m    485\u001b[0m     X\u001b[38;5;241m=\u001b[39m\u001b[38;5;124m\"\u001b[39m\u001b[38;5;124mno_validation\u001b[39m\u001b[38;5;124m\"\u001b[39m,\n\u001b[1;32m   (...)\u001b[0m\n\u001b[0;32m    489\u001b[0m     \u001b[38;5;241m*\u001b[39m\u001b[38;5;241m*\u001b[39mcheck_params,\n\u001b[0;32m    490\u001b[0m ):\n\u001b[0;32m    491\u001b[0m \u001b[38;5;250m    \u001b[39m\u001b[38;5;124;03m\"\"\"Validate input data and set or check the `n_features_in_` attribute.\u001b[39;00m\n\u001b[0;32m    492\u001b[0m \n\u001b[0;32m    493\u001b[0m \u001b[38;5;124;03m    Parameters\u001b[39;00m\n\u001b[1;32m   (...)\u001b[0m\n\u001b[0;32m    546\u001b[0m \u001b[38;5;124;03m        validated.\u001b[39;00m\n\u001b[0;32m    547\u001b[0m \u001b[38;5;124;03m    \"\"\"\u001b[39;00m\n\u001b[1;32m--> 548\u001b[0m     \u001b[38;5;28;43mself\u001b[39;49m\u001b[38;5;241;43m.\u001b[39;49m\u001b[43m_check_feature_names\u001b[49m\u001b[43m(\u001b[49m\u001b[43mX\u001b[49m\u001b[43m,\u001b[49m\u001b[43m \u001b[49m\u001b[43mreset\u001b[49m\u001b[38;5;241;43m=\u001b[39;49m\u001b[43mreset\u001b[49m\u001b[43m)\u001b[49m\n\u001b[0;32m    550\u001b[0m     \u001b[38;5;28;01mif\u001b[39;00m y \u001b[38;5;129;01mis\u001b[39;00m \u001b[38;5;28;01mNone\u001b[39;00m \u001b[38;5;129;01mand\u001b[39;00m \u001b[38;5;28mself\u001b[39m\u001b[38;5;241m.\u001b[39m_get_tags()[\u001b[38;5;124m\"\u001b[39m\u001b[38;5;124mrequires_y\u001b[39m\u001b[38;5;124m\"\u001b[39m]:\n\u001b[0;32m    551\u001b[0m         \u001b[38;5;28;01mraise\u001b[39;00m \u001b[38;5;167;01mValueError\u001b[39;00m(\n\u001b[0;32m    552\u001b[0m             \u001b[38;5;124mf\u001b[39m\u001b[38;5;124m\"\u001b[39m\u001b[38;5;124mThis \u001b[39m\u001b[38;5;132;01m{\u001b[39;00m\u001b[38;5;28mself\u001b[39m\u001b[38;5;241m.\u001b[39m\u001b[38;5;18m__class__\u001b[39m\u001b[38;5;241m.\u001b[39m\u001b[38;5;18m__name__\u001b[39m\u001b[38;5;132;01m}\u001b[39;00m\u001b[38;5;124m estimator \u001b[39m\u001b[38;5;124m\"\u001b[39m\n\u001b[0;32m    553\u001b[0m             \u001b[38;5;124m\"\u001b[39m\u001b[38;5;124mrequires y to be passed, but the target y is None.\u001b[39m\u001b[38;5;124m\"\u001b[39m\n\u001b[0;32m    554\u001b[0m         )\n",
      "File \u001b[1;32m~\\anaconda3\\lib\\site-packages\\sklearn\\base.py:481\u001b[0m, in \u001b[0;36mBaseEstimator._check_feature_names\u001b[1;34m(self, X, reset)\u001b[0m\n\u001b[0;32m    476\u001b[0m \u001b[38;5;28;01mif\u001b[39;00m \u001b[38;5;129;01mnot\u001b[39;00m missing_names \u001b[38;5;129;01mand\u001b[39;00m \u001b[38;5;129;01mnot\u001b[39;00m unexpected_names:\n\u001b[0;32m    477\u001b[0m     message \u001b[38;5;241m+\u001b[39m\u001b[38;5;241m=\u001b[39m (\n\u001b[0;32m    478\u001b[0m         \u001b[38;5;124m\"\u001b[39m\u001b[38;5;124mFeature names must be in the same order as they were in fit.\u001b[39m\u001b[38;5;130;01m\\n\u001b[39;00m\u001b[38;5;124m\"\u001b[39m\n\u001b[0;32m    479\u001b[0m     )\n\u001b[1;32m--> 481\u001b[0m \u001b[38;5;28;01mraise\u001b[39;00m \u001b[38;5;167;01mValueError\u001b[39;00m(message)\n",
      "\u001b[1;31mValueError\u001b[0m: The feature names should match those that were passed during fit.\nFeature names must be in the same order as they were in fit.\n"
     ]
    }
   ],
   "source": [
    "import pandas as pd\n",
    "from sklearn.model_selection import train_test_split\n",
    "from sklearn.ensemble import RandomForestRegressor\n",
    "from sklearn.metrics import mean_absolute_error\n",
    "\n",
    "\n",
    "# Model için kullanılacak özelliklerin seçilmesi\n",
    "features = ['Pclass', 'Sex', 'Age']\n",
    "\n",
    "# Bağımsız değişkenlerin ve bağımlı değişkenin seçilmesi\n",
    "X = df[features]\n",
    "y = df['Fare']\n",
    "\n",
    "# Kategorik değişkenleri sayısala dönüştürme (One-Hot Encoding)\n",
    "X = pd.get_dummies(X, columns=['Sex'], drop_first=True)\n",
    "\n",
    "# Eğitim ve test veri setlerinin oluşturulması\n",
    "X_train, X_test, y_train, y_test = train_test_split(X, y, test_size=0.2, random_state=42)\n",
    "\n",
    "# Modelin oluşturulması ve eğitilmesi\n",
    "model = RandomForestRegressor(random_state=42)\n",
    "model.fit(X_train, y_train)\n",
    "\n",
    "# Modelin performansının değerlendirilmesi\n",
    "y_pred = model.predict(X_test)\n",
    "mae = mean_absolute_error(y_test, y_pred)\n",
    "print(f'Mean Absolute Error: {mae}')\n",
    "\n",
    "# Kullanıcı profili ve rezervasyon bilgilerini alarak ücreti tahmin etme fonksiyonu\n",
    "def predict_fare(pclass, sex, age):\n",
    "    # Kullanıcı girişini modele uygun formata getirme\n",
    "    input_data = {'Pclass': [pclass], 'Sex_male': [sex.lower() == 'male'], 'Age': [age]}\n",
    "    input_df = pd.DataFrame(data=input_data)\n",
    "\n",
    "    # Modeli kullanarak ücret tahmini\n",
    "    fare_prediction = model.predict(input_df)\n",
    "    return fare_prediction[0]\n",
    "\n",
    "# Örnek kullanım\n",
    "user_pclass = int(input(\"Yolcu sınıfını girin (1, 2, 3): \"))\n",
    "user_sex = input(\"Yolcu cinsiyetini girin (male/female): \")\n",
    "user_age = float(input(\"Yolcu yaşını girin: \"))\n",
    "\n",
    "predicted_fare = predict_fare(user_pclass, user_sex, user_age)\n",
    "print(f\"Tahmini rezervasyon ücreti: {predicted_fare}\")"
   ]
  },
  {
   "cell_type": "code",
   "execution_count": null,
   "id": "bceb8349",
   "metadata": {},
   "outputs": [],
   "source": []
  }
 ],
 "metadata": {
  "kernelspec": {
   "display_name": "Python 3 (ipykernel)",
   "language": "python",
   "name": "python3"
  },
  "language_info": {
   "codemirror_mode": {
    "name": "ipython",
    "version": 3
   },
   "file_extension": ".py",
   "mimetype": "text/x-python",
   "name": "python",
   "nbconvert_exporter": "python",
   "pygments_lexer": "ipython3",
   "version": "3.9.17"
  }
 },
 "nbformat": 4,
 "nbformat_minor": 5
}
