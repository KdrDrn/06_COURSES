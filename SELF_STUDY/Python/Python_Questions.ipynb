{
 "cells": [
  {
   "cell_type": "markdown",
   "id": "ee5ce9ea",
   "metadata": {},
   "source": [
    "# PYTHON QUESTIONS"
   ]
  },
  {
   "cell_type": "code",
   "execution_count": 1,
   "id": "a310a09f",
   "metadata": {},
   "outputs": [
    {
     "name": "stdout",
     "output_type": "stream",
     "text": [
      "5\n"
     ]
    }
   ],
   "source": [
    "def f(x):\n",
    "    return x + 1\n",
    "\n",
    "def g(x):\n",
    "    return x * 2\n",
    "\n",
    "def h(x):\n",
    "    return f(g(x))\n",
    "\n",
    "print(h(2))"
   ]
  },
  {
   "cell_type": "code",
   "execution_count": 2,
   "id": "3929c530",
   "metadata": {},
   "outputs": [
    {
     "name": "stdout",
     "output_type": "stream",
     "text": [
      "23\n"
     ]
    }
   ],
   "source": [
    "# Playful Python\n",
    "\n",
    "# To type hint a function: we type hint the\n",
    "# arguments by putting a colon and the type\n",
    "# after that. Then after the closing braces\n",
    "# we put an -> followed by the type of the\n",
    "# return value. The finaş colon comes after\n",
    "# the return type\n",
    "\n",
    "# This function takes 2 ints and returns an int\n",
    "def add(a:int, b:int) -> int:\n",
    "    return a + b\n",
    "\n",
    "# Knowing the type returned by add, mypy can\n",
    "# automatically infer that c is also an int\n",
    "c = add(20,3)\n",
    "print(c)"
   ]
  },
  {
   "cell_type": "code",
   "execution_count": null,
   "id": "0b565cbc",
   "metadata": {},
   "outputs": [],
   "source": []
  }
 ],
 "metadata": {
  "kernelspec": {
   "display_name": "Python 3 (ipykernel)",
   "language": "python",
   "name": "python3"
  },
  "language_info": {
   "codemirror_mode": {
    "name": "ipython",
    "version": 3
   },
   "file_extension": ".py",
   "mimetype": "text/x-python",
   "name": "python",
   "nbconvert_exporter": "python",
   "pygments_lexer": "ipython3",
   "version": "3.9.13"
  }
 },
 "nbformat": 4,
 "nbformat_minor": 5
}
