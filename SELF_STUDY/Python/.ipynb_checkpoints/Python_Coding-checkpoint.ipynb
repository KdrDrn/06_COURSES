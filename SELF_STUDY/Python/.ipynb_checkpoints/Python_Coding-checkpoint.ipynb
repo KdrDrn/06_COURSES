{
 "cells": [
  {
   "cell_type": "markdown",
   "id": "4f2d47e1",
   "metadata": {},
   "source": [
    "## GET WOVELS IN PYTHON "
   ]
  },
  {
   "cell_type": "code",
   "execution_count": 1,
   "id": "836ba14e",
   "metadata": {},
   "outputs": [
    {
     "name": "stdout",
     "output_type": "stream",
     "text": [
      "Enter a word to check Wovels : Bugün nasılsınız?\n"
     ]
    },
    {
     "data": {
      "text/plain": [
       "['u', 'a']"
      ]
     },
     "execution_count": 1,
     "metadata": {},
     "output_type": "execute_result"
    }
   ],
   "source": [
    "def get_wovels(String):\n",
    "    return [each for each in String if each in \"aeiou\"]\n",
    "\n",
    "word = input(\"Enter a word to check Wovels : \")\n",
    "\n",
    "get_wovels(word)"
   ]
  },
  {
   "cell_type": "code",
   "execution_count": 2,
   "id": "79d4ff43",
   "metadata": {},
   "outputs": [
    {
     "name": "stdout",
     "output_type": "stream",
     "text": [
      "Enter a word to check Wovels : Bugün nasılsınız?\n"
     ]
    },
    {
     "data": {
      "text/plain": [
       "['u', 'ü', 'a', 'ı', 'ı', 'ı']"
      ]
     },
     "execution_count": 2,
     "metadata": {},
     "output_type": "execute_result"
    }
   ],
   "source": [
    "def get_wovels(String):\n",
    "    return [each for each in String if each in \"aeıioöuü\"]\n",
    "\n",
    "word = input(\"Enter a word to check Wovels : \")\n",
    "\n",
    "get_wovels(word)"
   ]
  },
  {
   "cell_type": "markdown",
   "id": "0f9c5601",
   "metadata": {},
   "source": [
    "## CAPITALIZING FIRST LETTER"
   ]
  },
  {
   "cell_type": "code",
   "execution_count": 3,
   "id": "60cfaf73",
   "metadata": {},
   "outputs": [
    {
     "name": "stdout",
     "output_type": "stream",
     "text": [
      "Enter a word to Capitalize : umarım daha iyisinizdir?\n"
     ]
    },
    {
     "data": {
      "text/plain": [
       "'Umarım Daha Iyisinizdir?'"
      ]
     },
     "execution_count": 3,
     "metadata": {},
     "output_type": "execute_result"
    }
   ],
   "source": [
    "def capitalize(String):\n",
    "    return String.title()\n",
    "\n",
    "word = input(\"Enter a word to Capitalize : \")\n",
    "\n",
    "capitalize(word)"
   ]
  },
  {
   "cell_type": "markdown",
   "id": "ffff0739",
   "metadata": {},
   "source": [
    "## PRINT STRING N TIMES"
   ]
  },
  {
   "cell_type": "code",
   "execution_count": 5,
   "id": "9fa32c7b",
   "metadata": {},
   "outputs": [
    {
     "name": "stdout",
     "output_type": "stream",
     "text": [
      "Enter no times to print : 5\n",
      "Enter a word : Good\n",
      "GoodGoodGoodGoodGood\n"
     ]
    }
   ],
   "source": [
    "n = int(input(\"Enter no times to print : \"))\n",
    "string = input(\"Enter a word : \")\n",
    "print(string * n)"
   ]
  },
  {
   "cell_type": "markdown",
   "id": "2f3c91ea",
   "metadata": {},
   "source": [
    "## MERGE 2 DICTIONARIES"
   ]
  },
  {
   "cell_type": "code",
   "execution_count": 6,
   "id": "95983f07",
   "metadata": {},
   "outputs": [
    {
     "data": {
      "text/plain": [
       "{1: 'hello', 2: 'world', 3: 'Python', 4: 'coding'}"
      ]
     },
     "execution_count": 6,
     "metadata": {},
     "output_type": "execute_result"
    }
   ],
   "source": [
    "def merge(dict1, dict2):\n",
    "    dict3 = dict1.copy()\n",
    "    dict3.update(dict2)\n",
    "    return dict3\n",
    "\n",
    "dict1 = {1:\"hello\", 2:\"world\"}\n",
    "dict2 = {3:\"Python\", 4:\"coding\"}\n",
    "\n",
    "merge(dict1, dict2)"
   ]
  },
  {
   "cell_type": "markdown",
   "id": "afa832c0",
   "metadata": {},
   "source": [
    "## SWAP THE VALUES"
   ]
  },
  {
   "cell_type": "code",
   "execution_count": 7,
   "id": "0289d978",
   "metadata": {},
   "outputs": [
    {
     "name": "stdout",
     "output_type": "stream",
     "text": [
      "5 4\n"
     ]
    }
   ],
   "source": [
    "a = 4\n",
    "b = 5\n",
    "\n",
    "a, b = b, a\n",
    "print(a, b)"
   ]
  },
  {
   "cell_type": "markdown",
   "id": "12571636",
   "metadata": {},
   "source": [
    "## CHECK DUPLICATES"
   ]
  },
  {
   "cell_type": "code",
   "execution_count": 8,
   "id": "aa92087c",
   "metadata": {},
   "outputs": [
    {
     "data": {
      "text/plain": [
       "False"
      ]
     },
     "execution_count": 8,
     "metadata": {},
     "output_type": "execute_result"
    }
   ],
   "source": [
    "def check_duplicate(lst):\n",
    "    return len(lst) != len(set(lst))\n",
    "\n",
    "check_duplicate([1,2,3,4,6])"
   ]
  },
  {
   "cell_type": "code",
   "execution_count": 9,
   "id": "806f84cb",
   "metadata": {},
   "outputs": [
    {
     "data": {
      "text/plain": [
       "True"
      ]
     },
     "execution_count": 9,
     "metadata": {},
     "output_type": "execute_result"
    }
   ],
   "source": [
    "def check_duplicate(lst):\n",
    "    return len(lst) != len(set(lst))\n",
    "\n",
    "check_duplicate([1,2,3,4,4,6])"
   ]
  },
  {
   "cell_type": "markdown",
   "id": "f995f6c1",
   "metadata": {},
   "source": [
    "## FILTERING FALSE VALUES"
   ]
  },
  {
   "cell_type": "code",
   "execution_count": 11,
   "id": "1a8be047",
   "metadata": {},
   "outputs": [
    {
     "data": {
      "text/plain": [
       "[1, 3, 5, 7]"
      ]
     },
     "execution_count": 11,
     "metadata": {},
     "output_type": "execute_result"
    }
   ],
   "source": [
    "def filtering(lst):\n",
    "    return list(filter(None, lst))\n",
    "\n",
    "lst = [None, 1, 3, 0, \"\", 5, 7]\n",
    "\n",
    "filtering(lst)"
   ]
  },
  {
   "cell_type": "markdown",
   "id": "3eafac7a",
   "metadata": {},
   "source": [
    "## BYTE SIZE"
   ]
  },
  {
   "cell_type": "code",
   "execution_count": 13,
   "id": "780b820d",
   "metadata": {},
   "outputs": [
    {
     "data": {
      "text/plain": [
       "8"
      ]
     },
     "execution_count": 13,
     "metadata": {},
     "output_type": "execute_result"
    }
   ],
   "source": [
    "def bytesize(string):\n",
    "    return len(string.encode(\"utf8\"))\n",
    "\n",
    "bytesize(\"clcoding\")"
   ]
  },
  {
   "cell_type": "markdown",
   "id": "ee762dc4",
   "metadata": {},
   "source": [
    "## MEMORY USAGE"
   ]
  },
  {
   "cell_type": "code",
   "execution_count": 16,
   "id": "0761705b",
   "metadata": {},
   "outputs": [
    {
     "name": "stdout",
     "output_type": "stream",
     "text": [
      "57\n",
      "28\n",
      "28\n"
     ]
    }
   ],
   "source": [
    "import sys\n",
    "\n",
    "var1 = \"clcoding\"\n",
    "var2 = 100\n",
    "var3 = True\n",
    "\n",
    "print(sys.getsizeof(var1))\n",
    "print(sys.getsizeof(var2))\n",
    "print(sys.getsizeof(var3))"
   ]
  },
  {
   "cell_type": "markdown",
   "id": "1d97d648",
   "metadata": {},
   "source": [
    "## ANAGRAM"
   ]
  },
  {
   "cell_type": "code",
   "execution_count": 18,
   "id": "191397ca",
   "metadata": {},
   "outputs": [
    {
     "data": {
      "text/plain": [
       "True"
      ]
     },
     "execution_count": 18,
     "metadata": {},
     "output_type": "execute_result"
    }
   ],
   "source": [
    "from collections import Counter\n",
    "\n",
    "def anagram(str1, str2):\n",
    "    return Counter(str1) == Counter(str2)\n",
    "\n",
    "anagram(\"abc1\", \"1abc\")"
   ]
  },
  {
   "cell_type": "markdown",
   "id": "e11056d9",
   "metadata": {},
   "source": [
    "## SORTING LIST"
   ]
  },
  {
   "cell_type": "code",
   "execution_count": 25,
   "id": "0e63c6e6",
   "metadata": {},
   "outputs": [
    {
     "name": "stdout",
     "output_type": "stream",
     "text": [
      "[5, 4, 3, 2, 1]\n"
     ]
    }
   ],
   "source": [
    "my_list = [\"leaf\", \"cherry\", \"fish\"]\n",
    "my_list1 = [\"D\", \"C\", \"B\", \"A\"]\n",
    "my_list2 = [1,2,3,4,5]\n",
    "\n",
    "my_list.sort()\n",
    "my_list1.sort()\n",
    "\n",
    "print(sorted(my_list2, reverse = True))"
   ]
  },
  {
   "cell_type": "code",
   "execution_count": 26,
   "id": "a3ed6c88",
   "metadata": {},
   "outputs": [
    {
     "name": "stdout",
     "output_type": "stream",
     "text": [
      "None\n",
      "None\n"
     ]
    }
   ],
   "source": [
    "print(my_list.sort())\n",
    "print(my_list1.sort())"
   ]
  },
  {
   "cell_type": "code",
   "execution_count": 27,
   "id": "d62e203d",
   "metadata": {},
   "outputs": [
    {
     "name": "stdout",
     "output_type": "stream",
     "text": [
      "['cherry', 'fish', 'leaf']\n",
      "['A', 'B', 'C', 'D']\n"
     ]
    }
   ],
   "source": [
    "print(sorted(my_list))\n",
    "print(sorted(my_list1))"
   ]
  },
  {
   "cell_type": "markdown",
   "id": "2157835a",
   "metadata": {},
   "source": [
    "## PALINDROME CHECKING"
   ]
  },
  {
   "cell_type": "code",
   "execution_count": 28,
   "id": "a7e4b7c7",
   "metadata": {},
   "outputs": [
    {
     "data": {
      "text/plain": [
       "True"
      ]
     },
     "execution_count": 28,
     "metadata": {},
     "output_type": "execute_result"
    }
   ],
   "source": [
    "def palindrome(data):\n",
    "    return data == data[::-1]\n",
    "\n",
    "palindrome(\"level\")"
   ]
  },
  {
   "cell_type": "markdown",
   "id": "76efc4e2",
   "metadata": {},
   "source": [
    "## SHUFFLE A LIST"
   ]
  },
  {
   "cell_type": "code",
   "execution_count": 30,
   "id": "b2add240",
   "metadata": {},
   "outputs": [
    {
     "name": "stdout",
     "output_type": "stream",
     "text": [
      "[6, 2, 3, 1, 4, 5]\n"
     ]
    }
   ],
   "source": [
    "from random import shuffle\n",
    "\n",
    "my_list1 = [1,2,3,4,5,6]\n",
    "shuffle(my_list1)\n",
    "\n",
    "print(my_list1)"
   ]
  },
  {
   "cell_type": "markdown",
   "id": "372894c6",
   "metadata": {},
   "source": [
    "## CONVERTING STRING LOWER AND UPPER CASE"
   ]
  },
  {
   "cell_type": "code",
   "execution_count": 31,
   "id": "0df436a5",
   "metadata": {},
   "outputs": [
    {
     "name": "stdout",
     "output_type": "stream",
     "text": [
      "CLCODING\n",
      "python\n"
     ]
    }
   ],
   "source": [
    "str1 = \"clcoding\"\n",
    "str2 = \"Python\"\n",
    "\n",
    "print(str1.upper())\n",
    "print(str2.lower())"
   ]
  },
  {
   "cell_type": "markdown",
   "id": "dbea6f98",
   "metadata": {},
   "source": [
    "## FORMATTING A STRING"
   ]
  },
  {
   "cell_type": "code",
   "execution_count": 33,
   "id": "61192a52",
   "metadata": {},
   "outputs": [
    {
     "name": "stdout",
     "output_type": "stream",
     "text": [
      "I'm a Python Programming\n",
      "I'm a Python Programming\n"
     ]
    }
   ],
   "source": [
    "# Example1\n",
    "str1 = \"Python Programming\"\n",
    "str2 = \"I'm a {}\".format(str1)\n",
    "print(str2)\n",
    "\n",
    "# Example2\n",
    "str1 = \"Python Programming\"\n",
    "str2 = f\"I'm a {str1}\"\n",
    "print(str2)"
   ]
  },
  {
   "cell_type": "code",
   "execution_count": null,
   "id": "4d1be9d6",
   "metadata": {},
   "outputs": [],
   "source": []
  }
 ],
 "metadata": {
  "kernelspec": {
   "display_name": "Python 3 (ipykernel)",
   "language": "python",
   "name": "python3"
  },
  "language_info": {
   "codemirror_mode": {
    "name": "ipython",
    "version": 3
   },
   "file_extension": ".py",
   "mimetype": "text/x-python",
   "name": "python",
   "nbconvert_exporter": "python",
   "pygments_lexer": "ipython3",
   "version": "3.9.13"
  }
 },
 "nbformat": 4,
 "nbformat_minor": 5
}
