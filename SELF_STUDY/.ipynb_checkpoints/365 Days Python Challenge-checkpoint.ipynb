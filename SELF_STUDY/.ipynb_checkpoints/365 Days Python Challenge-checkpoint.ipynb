{
 "cells": [
  {
   "cell_type": "markdown",
   "id": "76e0a386",
   "metadata": {},
   "source": [
    "# 365 DAYS PYTHON CHALLENGE\n",
    "\n",
    "https://www.youtube.com/watch?v=Bd6-4WhTpkg&list=PLeLGx0BaYD6Zr_3ReRhyZHLoO35uEVmcJ&index=153"
   ]
  },
  {
   "cell_type": "code",
   "execution_count": 1,
   "id": "c7e5c038",
   "metadata": {},
   "outputs": [],
   "source": [
    "import numpy as np\n",
    "import pandas as pd"
   ]
  },
  {
   "cell_type": "markdown",
   "id": "8f9984ee",
   "metadata": {},
   "source": [
    "## Day 5: Roman NUmbers to Decimals in Python"
   ]
  },
  {
   "cell_type": "code",
   "execution_count": 16,
   "id": "424d3b05",
   "metadata": {},
   "outputs": [
    {
     "name": "stdout",
     "output_type": "stream",
     "text": [
      "Enter Roman Numbers : IIV\n"
     ]
    },
    {
     "data": {
      "text/plain": [
       "5"
      ]
     },
     "execution_count": 16,
     "metadata": {},
     "output_type": "execute_result"
    }
   ],
   "source": [
    "tallies = {'I' : 1, 'V' : 5, 'X' : 10, 'L' : 50, 'C' : 100, 'D' : 500, 'M' : 1000}\n",
    "\n",
    "def RomanNumeralToDecimal(romanNumeral):\n",
    "    sum = 0\n",
    "    for i in range(len(romanNumeral) - 1):\n",
    "        left = romanNumeral[i]\n",
    "        right = romanNumeral[i + 1]\n",
    "        if tallies[left] < tallies[right]:\n",
    "            sum -= tallies[left]\n",
    "        else:\n",
    "            sum += tallies[right]\n",
    "    sum += tallies[romanNumeral[-1]]\n",
    "    return sum\n",
    "\n",
    "roman = input(\"Enter Roman Numbers : \")\n",
    "RomanNumeralToDecimal(roman)"
   ]
  },
  {
   "cell_type": "code",
   "execution_count": 18,
   "id": "9f69a048",
   "metadata": {},
   "outputs": [
    {
     "data": {
      "text/plain": [
       "3"
      ]
     },
     "execution_count": 18,
     "metadata": {},
     "output_type": "execute_result"
    }
   ],
   "source": [
    "def from_roman_numeral(numeral):\n",
    "    value_map = {\"I\": 1, \"V\": 5, \"X\": 10, \"L\": 50, \"C\": 100, \"D\": 500, \"M\": 1000}\n",
    "    value = 0\n",
    "    last_digit_value = 0\n",
    "    \n",
    "    for roman_digit in numeral[::-1]:              # 1\n",
    "        digit_value = value_map[roman_digit]\n",
    "\n",
    "        if digit_value >= last_digit_value:        # 2 \n",
    "            value += digit_value         \n",
    "            last_digit_value = digit_value\n",
    "        else:                                      # 3\n",
    "            value -= digit_value\n",
    "\n",
    "    return value\n",
    "\n",
    "from_roman_numeral(\"IIV\")"
   ]
  },
  {
   "cell_type": "code",
   "execution_count": 21,
   "id": "4adcdc51",
   "metadata": {},
   "outputs": [
    {
     "data": {
      "text/plain": [
       "'XLIII'"
      ]
     },
     "execution_count": 21,
     "metadata": {},
     "output_type": "execute_result"
    }
   ],
   "source": [
    "from collections import OrderedDict\n",
    "\n",
    "def write_roman(num):\n",
    "\n",
    "    roman = OrderedDict()\n",
    "    roman[1000] = \"M\"\n",
    "    roman[900] = \"CM\"\n",
    "    roman[500] = \"D\"\n",
    "    roman[400] = \"CD\"\n",
    "    roman[100] = \"C\"\n",
    "    roman[90] = \"XC\"\n",
    "    roman[50] = \"L\"\n",
    "    roman[40] = \"XL\"\n",
    "    roman[10] = \"X\"\n",
    "    roman[9] = \"IX\"\n",
    "    roman[5] = \"V\"\n",
    "    roman[4] = \"IV\"\n",
    "    roman[1] = \"I\"\n",
    "\n",
    "    def roman_num(num):\n",
    "        for r in roman.keys():\n",
    "            x, y = divmod(num, r)\n",
    "            yield roman[r] * x\n",
    "            num -= (r * x)\n",
    "            if num <= 0:\n",
    "                break\n",
    "\n",
    "    return \"\".join([a for a in roman_num(num)])\n",
    "\n",
    "write_roman(43)"
   ]
  },
  {
   "cell_type": "code",
   "execution_count": 22,
   "id": "f620a289",
   "metadata": {},
   "outputs": [
    {
     "data": {
      "text/plain": [
       "'XLIII'"
      ]
     },
     "execution_count": 22,
     "metadata": {},
     "output_type": "execute_result"
    }
   ],
   "source": [
    "num_map = [(1000, 'M'), (900, 'CM'), (500, 'D'), (400, 'CD'), (100, 'C'), (90, 'XC'),\n",
    "           (50, 'L'), (40, 'XL'), (10, 'X'), (9, 'IX'), (5, 'V'), (4, 'IV'), (1, 'I')]\n",
    "\n",
    "\n",
    "def num2roman(num):\n",
    "\n",
    "    roman = ''\n",
    "\n",
    "    while num > 0:\n",
    "        for i, r in num_map:\n",
    "            while num >= i:\n",
    "                roman += r\n",
    "                num -= i\n",
    "\n",
    "    return roman\n",
    "\n",
    "num2roman(43)"
   ]
  },
  {
   "cell_type": "markdown",
   "id": "100d9399",
   "metadata": {},
   "source": [
    "## Day 4: Least Common Multiples in Python"
   ]
  },
  {
   "cell_type": "code",
   "execution_count": 13,
   "id": "a36c0a44",
   "metadata": {},
   "outputs": [
    {
     "name": "stdout",
     "output_type": "stream",
     "text": [
      "Enter 1st number : 9\n",
      "Enter 2nd number : 8\n",
      "72\n"
     ]
    }
   ],
   "source": [
    "def least_common_multiple(a,b):\n",
    "    \n",
    "    if a > b:\n",
    "        greater = a\n",
    "    elif b > a:\n",
    "        greater = b\n",
    "    while(True):\n",
    "        if ((greater % a == 0) and (greater % b == 0)):\n",
    "            lcm = greater\n",
    "            break\n",
    "        greater = greater + 1\n",
    "    return lcm\n",
    "\n",
    "a = int(input(\"Enter 1st number : \"))\n",
    "b = int(input(\"Enter 2nd number : \"))\n",
    "print(least_common_multiple(a,b))        "
   ]
  },
  {
   "cell_type": "markdown",
   "id": "9652e326",
   "metadata": {},
   "source": [
    "## Day 3: Palindrome Words using Python"
   ]
  },
  {
   "cell_type": "code",
   "execution_count": 12,
   "id": "270fa5ff",
   "metadata": {},
   "outputs": [
    {
     "name": "stdout",
     "output_type": "stream",
     "text": [
      "Enter a sentence : Mom support me a lot lol.\n",
      "['mom', 'a', 'lol']\n"
     ]
    }
   ],
   "source": [
    "def palindrome(sentence):\n",
    "    for i in (\",.'?/><}{{}}'\"):\n",
    "        sentence = sentence.replace(i, \"\")\n",
    "    palindrome = []\n",
    "    words = sentence.split(' ')\n",
    "    for word in words:\n",
    "        word = word.lower()\n",
    "        if word == word[::-1]:\n",
    "            palindrome.append(word)\n",
    "    return palindrome\n",
    "\n",
    "sentence = input(\"Enter a sentence : \")\n",
    "print(palindrome(sentence))"
   ]
  },
  {
   "cell_type": "markdown",
   "id": "8a77087a",
   "metadata": {},
   "source": [
    "## Day 2: Count Character Occurences using python"
   ]
  },
  {
   "cell_type": "code",
   "execution_count": 11,
   "id": "4eb14ce7",
   "metadata": {},
   "outputs": [
    {
     "name": "stdout",
     "output_type": "stream",
     "text": [
      "enter your string:clcoding.com\n",
      "{'c': 3, 'l': 1, 'o': 2, 'd': 1, 'i': 1, 'n': 1, 'g': 1, '.': 1, 'm': 1}\n",
      "None\n"
     ]
    }
   ],
   "source": [
    "def count_characters(s):\n",
    "    count = {}\n",
    "    for i in s:\n",
    "        if i in count:\n",
    "            count[i] += 1\n",
    "        else:\n",
    "            count[i] = 1\n",
    "    print(count)\n",
    "    \n",
    "    \n",
    "word = input(\"enter your string:\")\n",
    "print(count_characters(word))"
   ]
  },
  {
   "cell_type": "markdown",
   "id": "76339fe1",
   "metadata": {},
   "source": [
    "## Day 1: Line contiunation characters in Python"
   ]
  },
  {
   "cell_type": "code",
   "execution_count": 2,
   "id": "71e77171",
   "metadata": {},
   "outputs": [
    {
     "name": "stdout",
     "output_type": "stream",
     "text": [
      "I know Python and its very easy for everyone\n"
     ]
    }
   ],
   "source": [
    "print(\"I know Python and its very easy for everyone\")"
   ]
  },
  {
   "cell_type": "code",
   "execution_count": 3,
   "id": "744ce1c1",
   "metadata": {},
   "outputs": [
    {
     "ename": "SyntaxError",
     "evalue": "EOL while scanning string literal (2210645938.py, line 1)",
     "output_type": "error",
     "traceback": [
      "\u001b[1;36m  Cell \u001b[1;32mIn[3], line 1\u001b[1;36m\u001b[0m\n\u001b[1;33m    print(\"I know Python and\u001b[0m\n\u001b[1;37m                             ^\u001b[0m\n\u001b[1;31mSyntaxError\u001b[0m\u001b[1;31m:\u001b[0m EOL while scanning string literal\n"
     ]
    }
   ],
   "source": [
    "print(\"I know Python and \n",
    "      its very easy for everyone\")"
   ]
  },
  {
   "cell_type": "code",
   "execution_count": 5,
   "id": "e53e1e31",
   "metadata": {},
   "outputs": [
    {
     "name": "stdout",
     "output_type": "stream",
     "text": [
      "I know Python and its very easy for everyone\n"
     ]
    }
   ],
   "source": [
    "# In Python, a backslash ( \\ ) is a continuation character.\n",
    "\n",
    "print(\"I know Python and \\\n",
    "its very easy for everyone\")"
   ]
  },
  {
   "cell_type": "code",
   "execution_count": null,
   "id": "fc7d2d94",
   "metadata": {},
   "outputs": [],
   "source": []
  }
 ],
 "metadata": {
  "kernelspec": {
   "display_name": "Python 3 (ipykernel)",
   "language": "python",
   "name": "python3"
  },
  "language_info": {
   "codemirror_mode": {
    "name": "ipython",
    "version": 3
   },
   "file_extension": ".py",
   "mimetype": "text/x-python",
   "name": "python",
   "nbconvert_exporter": "python",
   "pygments_lexer": "ipython3",
   "version": "3.9.16"
  }
 },
 "nbformat": 4,
 "nbformat_minor": 5
}
