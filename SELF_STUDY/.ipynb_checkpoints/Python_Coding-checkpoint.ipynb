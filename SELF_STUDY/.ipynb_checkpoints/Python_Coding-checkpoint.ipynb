{
 "cells": [
  {
   "cell_type": "code",
   "execution_count": 2,
   "id": "cc70654b",
   "metadata": {},
   "outputs": [
    {
     "name": "stdout",
     "output_type": "stream",
     "text": [
      "4\n",
      "3\n",
      "2\n",
      "1\n",
      "0\n"
     ]
    }
   ],
   "source": [
    "n=5\n",
    "while(n):\n",
    "    n=n-1\n",
    "    print(n, sep=\"\\n\")"
   ]
  },
  {
   "cell_type": "code",
   "execution_count": 3,
   "id": "91ad974b",
   "metadata": {},
   "outputs": [
    {
     "name": "stdout",
     "output_type": "stream",
     "text": [
      "4 3 2 1 0 "
     ]
    }
   ],
   "source": [
    "n=5\n",
    "while(n):\n",
    "    n=n-1\n",
    "    print(n, end=\" \")"
   ]
  },
  {
   "cell_type": "code",
   "execution_count": 1,
   "id": "7e274862",
   "metadata": {},
   "outputs": [
    {
     "name": "stdout",
     "output_type": "stream",
     "text": [
      "Python is weird\n"
     ]
    }
   ],
   "source": [
    "if ...:\n",
    "    print(\"Python is weird\")\n",
    "else :\n",
    "    print(\"Python is Python\")"
   ]
  },
  {
   "cell_type": "code",
   "execution_count": 2,
   "id": "7098b993",
   "metadata": {},
   "outputs": [
    {
     "data": {
      "text/plain": [
       "True"
      ]
     },
     "execution_count": 2,
     "metadata": {},
     "output_type": "execute_result"
    }
   ],
   "source": [
    "bool(...)"
   ]
  },
  {
   "cell_type": "code",
   "execution_count": 6,
   "id": "aa776f37",
   "metadata": {},
   "outputs": [
    {
     "name": "stdout",
     "output_type": "stream",
     "text": [
      "('', 'P', 'ython Possibilities')\n",
      "\n",
      "0\n"
     ]
    }
   ],
   "source": [
    "s= \"Python Possibilities\"\n",
    "print(s.partition(\"P\"))\n",
    "print(s.partition(\"P\")[0])\n",
    "print(len(s.partition(\"P\")[0]))"
   ]
  },
  {
   "cell_type": "code",
   "execution_count": 7,
   "id": "41464677",
   "metadata": {},
   "outputs": [
    {
     "name": "stdout",
     "output_type": "stream",
     "text": [
      "('p', 'r', 'ogramming')\n"
     ]
    }
   ],
   "source": [
    "s= \"programming\"\n",
    "print(s.partition(\"r\"))"
   ]
  },
  {
   "cell_type": "code",
   "execution_count": 9,
   "id": "ed55d7f3",
   "metadata": {},
   "outputs": [
    {
     "name": "stdout",
     "output_type": "stream",
     "text": [
      "True True\n"
     ]
    }
   ],
   "source": [
    "list1=[5,\"t\",5.6,3,\"PythonGeeks\"]\n",
    "\n",
    "print(3.0 in list1, end=\" \")\n",
    "print(bool(list[-2:-4]))"
   ]
  },
  {
   "cell_type": "code",
   "execution_count": 16,
   "id": "85a241c7",
   "metadata": {},
   "outputs": [],
   "source": [
    "def sign(num):\n",
    "    if(num>0):\n",
    "        print(\"Positive\")"
   ]
  },
  {
   "cell_type": "code",
   "execution_count": 15,
   "id": "eb09a64c",
   "metadata": {},
   "outputs": [
    {
     "name": "stdout",
     "output_type": "stream",
     "text": [
      "Positive\n"
     ]
    }
   ],
   "source": [
    "sign(5)"
   ]
  },
  {
   "cell_type": "code",
   "execution_count": 17,
   "id": "5bfea765",
   "metadata": {},
   "outputs": [],
   "source": [
    "sign(0)"
   ]
  },
  {
   "cell_type": "code",
   "execution_count": 18,
   "id": "8c48ebf5",
   "metadata": {},
   "outputs": [],
   "source": [
    "sign(-6)"
   ]
  },
  {
   "cell_type": "code",
   "execution_count": 19,
   "id": "f31460e3",
   "metadata": {},
   "outputs": [
    {
     "name": "stdout",
     "output_type": "stream",
     "text": [
      "{20}\n"
     ]
    }
   ],
   "source": [
    "s1={5,10,20,30}\n",
    "s2={20,25,35}\n",
    "\n",
    "s1.intersection_update(s2)\n",
    "print(s1)"
   ]
  },
  {
   "cell_type": "code",
   "execution_count": 22,
   "id": "287c34b9",
   "metadata": {},
   "outputs": [
    {
     "name": "stdout",
     "output_type": "stream",
     "text": [
      "123\n"
     ]
    }
   ],
   "source": [
    "n=[\"123\"]\n",
    "print(\"-\".join(n))"
   ]
  },
  {
   "cell_type": "code",
   "execution_count": 23,
   "id": "2c21c8fb",
   "metadata": {},
   "outputs": [
    {
     "name": "stdout",
     "output_type": "stream",
     "text": [
      "123-456\n"
     ]
    }
   ],
   "source": [
    "n=[\"123\",\"456\"]\n",
    "print(\"-\".join(n))"
   ]
  },
  {
   "cell_type": "code",
   "execution_count": 24,
   "id": "24788dae",
   "metadata": {},
   "outputs": [],
   "source": [
    "def sign(num):\n",
    "    if(num>0):\n",
    "        print(\"Positive\")\n",
    "    elif(num<0):\n",
    "        print(\"Negative\")\n",
    "    else:\n",
    "        print(\"Zero\")"
   ]
  },
  {
   "cell_type": "code",
   "execution_count": 25,
   "id": "82ca9a9b",
   "metadata": {},
   "outputs": [
    {
     "name": "stdout",
     "output_type": "stream",
     "text": [
      "Zero\n"
     ]
    }
   ],
   "source": [
    "sign(0)"
   ]
  },
  {
   "cell_type": "code",
   "execution_count": 26,
   "id": "ff0a8ca6",
   "metadata": {},
   "outputs": [
    {
     "ename": "ValueError",
     "evalue": "substring not found",
     "output_type": "error",
     "traceback": [
      "\u001b[1;31m---------------------------------------------------------------------------\u001b[0m",
      "\u001b[1;31mValueError\u001b[0m                                Traceback (most recent call last)",
      "\u001b[1;32m~\\AppData\\Local\\Temp\\ipykernel_7560\\845806208.py\u001b[0m in \u001b[0;36m<module>\u001b[1;34m\u001b[0m\n\u001b[0;32m      1\u001b[0m \u001b[0ms\u001b[0m\u001b[1;33m=\u001b[0m\u001b[1;34m\"amazing\"\u001b[0m\u001b[1;33m\u001b[0m\u001b[1;33m\u001b[0m\u001b[0m\n\u001b[1;32m----> 2\u001b[1;33m \u001b[0mprint\u001b[0m\u001b[1;33m(\u001b[0m\u001b[0ms\u001b[0m\u001b[1;33m.\u001b[0m\u001b[0mindex\u001b[0m\u001b[1;33m(\u001b[0m\u001b[1;34m\"a\"\u001b[0m\u001b[1;33m,\u001b[0m\u001b[1;36m2\u001b[0m\u001b[1;33m,\u001b[0m\u001b[1;36m2\u001b[0m\u001b[1;33m)\u001b[0m\u001b[1;33m)\u001b[0m\u001b[1;33m\u001b[0m\u001b[1;33m\u001b[0m\u001b[0m\n\u001b[0m",
      "\u001b[1;31mValueError\u001b[0m: substring not found"
     ]
    }
   ],
   "source": [
    "s=\"amazing\"\n",
    "print(s.index(\"a\",2,2))"
   ]
  },
  {
   "cell_type": "code",
   "execution_count": 28,
   "id": "395759b3",
   "metadata": {},
   "outputs": [
    {
     "name": "stdout",
     "output_type": "stream",
     "text": [
      "3\n"
     ]
    }
   ],
   "source": [
    "s=\"amazing\"\n",
    "print(s.index(\"z\",2,7))"
   ]
  },
  {
   "cell_type": "code",
   "execution_count": 29,
   "id": "7a4216a5",
   "metadata": {},
   "outputs": [
    {
     "name": "stdout",
     "output_type": "stream",
     "text": [
      "True False\n"
     ]
    }
   ],
   "source": [
    "list1=[1,2,3,4,5]\n",
    "\n",
    "print(5.0 in list1, end=\" \")\n",
    "print(\"5\" in list1)"
   ]
  },
  {
   "cell_type": "code",
   "execution_count": 30,
   "id": "50cb2693",
   "metadata": {},
   "outputs": [
    {
     "name": "stdout",
     "output_type": "stream",
     "text": [
      "chpcplate\n"
     ]
    }
   ],
   "source": [
    "s=\"chocolate\"\n",
    "print(s.replace(\"o\",\"p\"))"
   ]
  },
  {
   "cell_type": "code",
   "execution_count": 31,
   "id": "4f319dec",
   "metadata": {},
   "outputs": [
    {
     "name": "stdout",
     "output_type": "stream",
     "text": [
      "{2, 5, 6, 7, 9}\n"
     ]
    }
   ],
   "source": [
    "s1={2,3,1,6,9}\n",
    "s2={1,3,5,7}\n",
    "\n",
    "print(s1^s2)"
   ]
  },
  {
   "cell_type": "code",
   "execution_count": 32,
   "id": "6ce20e7f",
   "metadata": {},
   "outputs": [
    {
     "name": "stdout",
     "output_type": "stream",
     "text": [
      "['A', 'B', 'C', 'D']\n"
     ]
    }
   ],
   "source": [
    "li=[\"A\"]\n",
    "li.extend(\"BCD\")\n",
    "\n",
    "print(li)"
   ]
  },
  {
   "cell_type": "code",
   "execution_count": 33,
   "id": "2f1ceacb",
   "metadata": {},
   "outputs": [
    {
     "name": "stdout",
     "output_type": "stream",
     "text": [
      "BegiNNiNg\n"
     ]
    }
   ],
   "source": [
    "s=\"Beginning\"\n",
    "print(s.replace(\"n\",\"N\",-1))"
   ]
  },
  {
   "cell_type": "code",
   "execution_count": 34,
   "id": "82ace5da",
   "metadata": {},
   "outputs": [
    {
     "ename": "KeyError",
     "evalue": "'pop from an empty set'",
     "output_type": "error",
     "traceback": [
      "\u001b[1;31m---------------------------------------------------------------------------\u001b[0m",
      "\u001b[1;31mKeyError\u001b[0m                                  Traceback (most recent call last)",
      "\u001b[1;32m~\\AppData\\Local\\Temp\\ipykernel_7560\\3615939998.py\u001b[0m in \u001b[0;36m<module>\u001b[1;34m\u001b[0m\n\u001b[0;32m      1\u001b[0m \u001b[0ms\u001b[0m\u001b[1;33m=\u001b[0m\u001b[0mset\u001b[0m\u001b[1;33m(\u001b[0m\u001b[1;33m)\u001b[0m\u001b[1;33m\u001b[0m\u001b[1;33m\u001b[0m\u001b[0m\n\u001b[1;32m----> 2\u001b[1;33m \u001b[0mprint\u001b[0m\u001b[1;33m(\u001b[0m\u001b[0ms\u001b[0m\u001b[1;33m.\u001b[0m\u001b[0mpop\u001b[0m\u001b[1;33m(\u001b[0m\u001b[1;33m)\u001b[0m\u001b[1;33m)\u001b[0m\u001b[1;33m\u001b[0m\u001b[1;33m\u001b[0m\u001b[0m\n\u001b[0m",
      "\u001b[1;31mKeyError\u001b[0m: 'pop from an empty set'"
     ]
    }
   ],
   "source": [
    "s=set()\n",
    "print(s.pop())"
   ]
  },
  {
   "cell_type": "code",
   "execution_count": 35,
   "id": "2f34bb52",
   "metadata": {},
   "outputs": [
    {
     "name": "stdout",
     "output_type": "stream",
     "text": [
      "5\n"
     ]
    }
   ],
   "source": [
    "print(bool(\" \")+4)"
   ]
  },
  {
   "cell_type": "code",
   "execution_count": 37,
   "id": "7f246d33",
   "metadata": {},
   "outputs": [
    {
     "name": "stdout",
     "output_type": "stream",
     "text": [
      "Wow!\n"
     ]
    }
   ],
   "source": [
    "x=1\n",
    "if x==1:\n",
    "    print(\"Wow!\")\n",
    "elif x<2:\n",
    "    print(\"Wow again!\")\n",
    "else:\n",
    "    print(\"No Wow!\")"
   ]
  },
  {
   "cell_type": "code",
   "execution_count": 40,
   "id": "9e327272",
   "metadata": {},
   "outputs": [
    {
     "name": "stdout",
     "output_type": "stream",
     "text": [
      "['python']\n"
     ]
    }
   ],
   "source": [
    "li=\"python\".split(\" \")\n",
    "print(li)"
   ]
  },
  {
   "cell_type": "code",
   "execution_count": null,
   "id": "062202d7",
   "metadata": {},
   "outputs": [],
   "source": []
  }
 ],
 "metadata": {
  "kernelspec": {
   "display_name": "Python 3 (ipykernel)",
   "language": "python",
   "name": "python3"
  },
  "language_info": {
   "codemirror_mode": {
    "name": "ipython",
    "version": 3
   },
   "file_extension": ".py",
   "mimetype": "text/x-python",
   "name": "python",
   "nbconvert_exporter": "python",
   "pygments_lexer": "ipython3",
   "version": "3.9.13"
  }
 },
 "nbformat": 4,
 "nbformat_minor": 5
}
