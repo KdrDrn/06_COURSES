{
 "cells": [
  {
   "cell_type": "markdown",
   "id": "b08cd2e3",
   "metadata": {},
   "source": [
    "# Homework\n",
    "\n",
    "> Note: sometimes your answer doesn't match one of the options exactly. That's fine. Select the option that's closest to your solution.\n",
    "\n",
    "### Dataset\n",
    "\n",
    "In this homework, we will use the Car price dataset. Download it from [here](https://raw.githubusercontent.com/alexeygrigorev/mlbookcamp-code/master/chapter-02-car-price/data.csv).\n",
    "\n",
    "Or you can do it with `wget`:\n",
    "\n",
    "```bash\n",
    "wget https://raw.githubusercontent.com/alexeygrigorev/mlbookcamp-code/master/chapter-02-car-price/data.csv\n",
    "```\n",
    "\n",
    "We'll keep working with the `MSRP` variable, and we'll transform it to a classification task. \n",
    "\n",
    "For the rest of the homework, you'll need to use only these columns:\n",
    "\n",
    "- Make,\n",
    "- Model,\n",
    "- Year,\n",
    "- Engine HP,\n",
    "- Engine Cylinders,\n",
    "- Transmission Type,\n",
    "- Vehicle Style,\n",
    "- highway MPG,\n",
    "- city mpg\n",
    "- MSRP"
   ]
  },
  {
   "cell_type": "code",
   "execution_count": 1,
   "id": "5bd13a7d",
   "metadata": {},
   "outputs": [],
   "source": [
    "import pandas as pd\n",
    "import numpy as np\n",
    "import matplotlib.pyplot as plt\n",
    "import seaborn as sns"
   ]
  },
  {
   "cell_type": "code",
   "execution_count": 2,
   "id": "a8f27f69",
   "metadata": {},
   "outputs": [
    {
     "name": "stdout",
     "output_type": "stream",
     "text": [
      "100% [..........................................................................] 1475504 / 1475504"
     ]
    },
    {
     "data": {
      "text/plain": [
       "'data (6).csv'"
      ]
     },
     "execution_count": 2,
     "metadata": {},
     "output_type": "execute_result"
    }
   ],
   "source": [
    "import wget\n",
    "wget.download('https://raw.githubusercontent.com/alexeygrigorev/mlbookcamp-code/master/chapter-02-car-price/data.csv')"
   ]
  },
  {
   "cell_type": "code",
   "execution_count": 3,
   "id": "a1fe169a",
   "metadata": {},
   "outputs": [
    {
     "data": {
      "text/html": [
       "<div>\n",
       "<style scoped>\n",
       "    .dataframe tbody tr th:only-of-type {\n",
       "        vertical-align: middle;\n",
       "    }\n",
       "\n",
       "    .dataframe tbody tr th {\n",
       "        vertical-align: top;\n",
       "    }\n",
       "\n",
       "    .dataframe thead th {\n",
       "        text-align: right;\n",
       "    }\n",
       "</style>\n",
       "<table border=\"1\" class=\"dataframe\">\n",
       "  <thead>\n",
       "    <tr style=\"text-align: right;\">\n",
       "      <th></th>\n",
       "      <th>0</th>\n",
       "      <th>1</th>\n",
       "      <th>2</th>\n",
       "      <th>3</th>\n",
       "      <th>4</th>\n",
       "    </tr>\n",
       "  </thead>\n",
       "  <tbody>\n",
       "    <tr>\n",
       "      <th>Make</th>\n",
       "      <td>BMW</td>\n",
       "      <td>BMW</td>\n",
       "      <td>BMW</td>\n",
       "      <td>BMW</td>\n",
       "      <td>BMW</td>\n",
       "    </tr>\n",
       "    <tr>\n",
       "      <th>Model</th>\n",
       "      <td>1 Series M</td>\n",
       "      <td>1 Series</td>\n",
       "      <td>1 Series</td>\n",
       "      <td>1 Series</td>\n",
       "      <td>1 Series</td>\n",
       "    </tr>\n",
       "    <tr>\n",
       "      <th>Year</th>\n",
       "      <td>2011</td>\n",
       "      <td>2011</td>\n",
       "      <td>2011</td>\n",
       "      <td>2011</td>\n",
       "      <td>2011</td>\n",
       "    </tr>\n",
       "    <tr>\n",
       "      <th>Engine Fuel Type</th>\n",
       "      <td>premium unleaded (required)</td>\n",
       "      <td>premium unleaded (required)</td>\n",
       "      <td>premium unleaded (required)</td>\n",
       "      <td>premium unleaded (required)</td>\n",
       "      <td>premium unleaded (required)</td>\n",
       "    </tr>\n",
       "    <tr>\n",
       "      <th>Engine HP</th>\n",
       "      <td>335.0</td>\n",
       "      <td>300.0</td>\n",
       "      <td>300.0</td>\n",
       "      <td>230.0</td>\n",
       "      <td>230.0</td>\n",
       "    </tr>\n",
       "    <tr>\n",
       "      <th>Engine Cylinders</th>\n",
       "      <td>6.0</td>\n",
       "      <td>6.0</td>\n",
       "      <td>6.0</td>\n",
       "      <td>6.0</td>\n",
       "      <td>6.0</td>\n",
       "    </tr>\n",
       "    <tr>\n",
       "      <th>Transmission Type</th>\n",
       "      <td>MANUAL</td>\n",
       "      <td>MANUAL</td>\n",
       "      <td>MANUAL</td>\n",
       "      <td>MANUAL</td>\n",
       "      <td>MANUAL</td>\n",
       "    </tr>\n",
       "    <tr>\n",
       "      <th>Driven_Wheels</th>\n",
       "      <td>rear wheel drive</td>\n",
       "      <td>rear wheel drive</td>\n",
       "      <td>rear wheel drive</td>\n",
       "      <td>rear wheel drive</td>\n",
       "      <td>rear wheel drive</td>\n",
       "    </tr>\n",
       "    <tr>\n",
       "      <th>Number of Doors</th>\n",
       "      <td>2.0</td>\n",
       "      <td>2.0</td>\n",
       "      <td>2.0</td>\n",
       "      <td>2.0</td>\n",
       "      <td>2.0</td>\n",
       "    </tr>\n",
       "    <tr>\n",
       "      <th>Market Category</th>\n",
       "      <td>Factory Tuner,Luxury,High-Performance</td>\n",
       "      <td>Luxury,Performance</td>\n",
       "      <td>Luxury,High-Performance</td>\n",
       "      <td>Luxury,Performance</td>\n",
       "      <td>Luxury</td>\n",
       "    </tr>\n",
       "    <tr>\n",
       "      <th>Vehicle Size</th>\n",
       "      <td>Compact</td>\n",
       "      <td>Compact</td>\n",
       "      <td>Compact</td>\n",
       "      <td>Compact</td>\n",
       "      <td>Compact</td>\n",
       "    </tr>\n",
       "    <tr>\n",
       "      <th>Vehicle Style</th>\n",
       "      <td>Coupe</td>\n",
       "      <td>Convertible</td>\n",
       "      <td>Coupe</td>\n",
       "      <td>Coupe</td>\n",
       "      <td>Convertible</td>\n",
       "    </tr>\n",
       "    <tr>\n",
       "      <th>highway MPG</th>\n",
       "      <td>26</td>\n",
       "      <td>28</td>\n",
       "      <td>28</td>\n",
       "      <td>28</td>\n",
       "      <td>28</td>\n",
       "    </tr>\n",
       "    <tr>\n",
       "      <th>city mpg</th>\n",
       "      <td>19</td>\n",
       "      <td>19</td>\n",
       "      <td>20</td>\n",
       "      <td>18</td>\n",
       "      <td>18</td>\n",
       "    </tr>\n",
       "    <tr>\n",
       "      <th>Popularity</th>\n",
       "      <td>3916</td>\n",
       "      <td>3916</td>\n",
       "      <td>3916</td>\n",
       "      <td>3916</td>\n",
       "      <td>3916</td>\n",
       "    </tr>\n",
       "    <tr>\n",
       "      <th>MSRP</th>\n",
       "      <td>46135</td>\n",
       "      <td>40650</td>\n",
       "      <td>36350</td>\n",
       "      <td>29450</td>\n",
       "      <td>34500</td>\n",
       "    </tr>\n",
       "  </tbody>\n",
       "</table>\n",
       "</div>"
      ],
      "text/plain": [
       "                                                       0  \\\n",
       "Make                                                 BMW   \n",
       "Model                                         1 Series M   \n",
       "Year                                                2011   \n",
       "Engine Fuel Type             premium unleaded (required)   \n",
       "Engine HP                                          335.0   \n",
       "Engine Cylinders                                     6.0   \n",
       "Transmission Type                                 MANUAL   \n",
       "Driven_Wheels                           rear wheel drive   \n",
       "Number of Doors                                      2.0   \n",
       "Market Category    Factory Tuner,Luxury,High-Performance   \n",
       "Vehicle Size                                     Compact   \n",
       "Vehicle Style                                      Coupe   \n",
       "highway MPG                                           26   \n",
       "city mpg                                              19   \n",
       "Popularity                                          3916   \n",
       "MSRP                                               46135   \n",
       "\n",
       "                                             1                            2  \\\n",
       "Make                                       BMW                          BMW   \n",
       "Model                                 1 Series                     1 Series   \n",
       "Year                                      2011                         2011   \n",
       "Engine Fuel Type   premium unleaded (required)  premium unleaded (required)   \n",
       "Engine HP                                300.0                        300.0   \n",
       "Engine Cylinders                           6.0                          6.0   \n",
       "Transmission Type                       MANUAL                       MANUAL   \n",
       "Driven_Wheels                 rear wheel drive             rear wheel drive   \n",
       "Number of Doors                            2.0                          2.0   \n",
       "Market Category             Luxury,Performance      Luxury,High-Performance   \n",
       "Vehicle Size                           Compact                      Compact   \n",
       "Vehicle Style                      Convertible                        Coupe   \n",
       "highway MPG                                 28                           28   \n",
       "city mpg                                    19                           20   \n",
       "Popularity                                3916                         3916   \n",
       "MSRP                                     40650                        36350   \n",
       "\n",
       "                                             3                            4  \n",
       "Make                                       BMW                          BMW  \n",
       "Model                                 1 Series                     1 Series  \n",
       "Year                                      2011                         2011  \n",
       "Engine Fuel Type   premium unleaded (required)  premium unleaded (required)  \n",
       "Engine HP                                230.0                        230.0  \n",
       "Engine Cylinders                           6.0                          6.0  \n",
       "Transmission Type                       MANUAL                       MANUAL  \n",
       "Driven_Wheels                 rear wheel drive             rear wheel drive  \n",
       "Number of Doors                            2.0                          2.0  \n",
       "Market Category             Luxury,Performance                       Luxury  \n",
       "Vehicle Size                           Compact                      Compact  \n",
       "Vehicle Style                            Coupe                  Convertible  \n",
       "highway MPG                                 28                           28  \n",
       "city mpg                                    18                           18  \n",
       "Popularity                                3916                         3916  \n",
       "MSRP                                     29450                        34500  "
      ]
     },
     "execution_count": 3,
     "metadata": {},
     "output_type": "execute_result"
    }
   ],
   "source": [
    "df0 = pd.read_csv(\"data.csv\")\n",
    "df0.head().T"
   ]
  },
  {
   "cell_type": "code",
   "execution_count": 4,
   "id": "fe4fbd7a",
   "metadata": {},
   "outputs": [
    {
     "data": {
      "text/plain": [
       "(11914, 16)"
      ]
     },
     "execution_count": 4,
     "metadata": {},
     "output_type": "execute_result"
    }
   ],
   "source": [
    "df0.shape"
   ]
  },
  {
   "cell_type": "markdown",
   "id": "931abccc",
   "metadata": {},
   "source": [
    "### Features\n",
    "\n",
    "For the rest of the homework, you'll need to use only these columns:\n",
    "\n",
    "* `Make`,\n",
    "* `Model`,\n",
    "* `Year`,\n",
    "* `Engine HP`,\n",
    "* `Engine Cylinders`,\n",
    "* `Transmission Type`,\n",
    "* `Vehicle Style`,\n",
    "* `highway MPG`,\n",
    "* `city mpg`\n",
    "* `MSRP`"
   ]
  },
  {
   "cell_type": "code",
   "execution_count": 5,
   "id": "63bb71b8",
   "metadata": {},
   "outputs": [
    {
     "data": {
      "text/plain": [
       "(11914, 10)"
      ]
     },
     "execution_count": 5,
     "metadata": {},
     "output_type": "execute_result"
    }
   ],
   "source": [
    "df = df0[[\"Make\",\"Model\",\"Year\",\"Engine HP\",\"Engine Cylinders\",\"Transmission Type\",\"Vehicle Style\",\"highway MPG\",\"city mpg\",\"MSRP\"]].copy()\n",
    "df.shape"
   ]
  },
  {
   "cell_type": "code",
   "execution_count": 6,
   "id": "f6eaae0b",
   "metadata": {},
   "outputs": [
    {
     "data": {
      "text/plain": [
       "Index(['Make', 'Model', 'Year', 'Engine HP', 'Engine Cylinders',\n",
       "       'Transmission Type', 'Vehicle Style', 'highway MPG', 'city mpg',\n",
       "       'MSRP'],\n",
       "      dtype='object')"
      ]
     },
     "execution_count": 6,
     "metadata": {},
     "output_type": "execute_result"
    }
   ],
   "source": [
    "df.columns"
   ]
  },
  {
   "cell_type": "code",
   "execution_count": 7,
   "id": "2bcf46d8",
   "metadata": {},
   "outputs": [
    {
     "name": "stdout",
     "output_type": "stream",
     "text": [
      "<class 'pandas.core.frame.DataFrame'>\n",
      "RangeIndex: 11914 entries, 0 to 11913\n",
      "Data columns (total 10 columns):\n",
      " #   Column             Non-Null Count  Dtype  \n",
      "---  ------             --------------  -----  \n",
      " 0   Make               11914 non-null  object \n",
      " 1   Model              11914 non-null  object \n",
      " 2   Year               11914 non-null  int64  \n",
      " 3   Engine HP          11845 non-null  float64\n",
      " 4   Engine Cylinders   11884 non-null  float64\n",
      " 5   Transmission Type  11914 non-null  object \n",
      " 6   Vehicle Style      11914 non-null  object \n",
      " 7   highway MPG        11914 non-null  int64  \n",
      " 8   city mpg           11914 non-null  int64  \n",
      " 9   MSRP               11914 non-null  int64  \n",
      "dtypes: float64(2), int64(4), object(4)\n",
      "memory usage: 930.9+ KB\n"
     ]
    }
   ],
   "source": [
    "df.info()"
   ]
  },
  {
   "cell_type": "code",
   "execution_count": 8,
   "id": "9c628524",
   "metadata": {},
   "outputs": [
    {
     "data": {
      "text/html": [
       "<div>\n",
       "<style scoped>\n",
       "    .dataframe tbody tr th:only-of-type {\n",
       "        vertical-align: middle;\n",
       "    }\n",
       "\n",
       "    .dataframe tbody tr th {\n",
       "        vertical-align: top;\n",
       "    }\n",
       "\n",
       "    .dataframe thead th {\n",
       "        text-align: right;\n",
       "    }\n",
       "</style>\n",
       "<table border=\"1\" class=\"dataframe\">\n",
       "  <thead>\n",
       "    <tr style=\"text-align: right;\">\n",
       "      <th></th>\n",
       "      <th>Year</th>\n",
       "      <th>Engine HP</th>\n",
       "      <th>Engine Cylinders</th>\n",
       "      <th>highway MPG</th>\n",
       "      <th>city mpg</th>\n",
       "      <th>MSRP</th>\n",
       "    </tr>\n",
       "  </thead>\n",
       "  <tbody>\n",
       "    <tr>\n",
       "      <th>count</th>\n",
       "      <td>11914.000000</td>\n",
       "      <td>11845.00000</td>\n",
       "      <td>11884.000000</td>\n",
       "      <td>11914.000000</td>\n",
       "      <td>11914.000000</td>\n",
       "      <td>1.191400e+04</td>\n",
       "    </tr>\n",
       "    <tr>\n",
       "      <th>mean</th>\n",
       "      <td>2010.384338</td>\n",
       "      <td>249.38607</td>\n",
       "      <td>5.628829</td>\n",
       "      <td>26.637485</td>\n",
       "      <td>19.733255</td>\n",
       "      <td>4.059474e+04</td>\n",
       "    </tr>\n",
       "    <tr>\n",
       "      <th>std</th>\n",
       "      <td>7.579740</td>\n",
       "      <td>109.19187</td>\n",
       "      <td>1.780559</td>\n",
       "      <td>8.863001</td>\n",
       "      <td>8.987798</td>\n",
       "      <td>6.010910e+04</td>\n",
       "    </tr>\n",
       "    <tr>\n",
       "      <th>min</th>\n",
       "      <td>1990.000000</td>\n",
       "      <td>55.00000</td>\n",
       "      <td>0.000000</td>\n",
       "      <td>12.000000</td>\n",
       "      <td>7.000000</td>\n",
       "      <td>2.000000e+03</td>\n",
       "    </tr>\n",
       "    <tr>\n",
       "      <th>25%</th>\n",
       "      <td>2007.000000</td>\n",
       "      <td>170.00000</td>\n",
       "      <td>4.000000</td>\n",
       "      <td>22.000000</td>\n",
       "      <td>16.000000</td>\n",
       "      <td>2.100000e+04</td>\n",
       "    </tr>\n",
       "    <tr>\n",
       "      <th>50%</th>\n",
       "      <td>2015.000000</td>\n",
       "      <td>227.00000</td>\n",
       "      <td>6.000000</td>\n",
       "      <td>26.000000</td>\n",
       "      <td>18.000000</td>\n",
       "      <td>2.999500e+04</td>\n",
       "    </tr>\n",
       "    <tr>\n",
       "      <th>75%</th>\n",
       "      <td>2016.000000</td>\n",
       "      <td>300.00000</td>\n",
       "      <td>6.000000</td>\n",
       "      <td>30.000000</td>\n",
       "      <td>22.000000</td>\n",
       "      <td>4.223125e+04</td>\n",
       "    </tr>\n",
       "    <tr>\n",
       "      <th>max</th>\n",
       "      <td>2017.000000</td>\n",
       "      <td>1001.00000</td>\n",
       "      <td>16.000000</td>\n",
       "      <td>354.000000</td>\n",
       "      <td>137.000000</td>\n",
       "      <td>2.065902e+06</td>\n",
       "    </tr>\n",
       "  </tbody>\n",
       "</table>\n",
       "</div>"
      ],
      "text/plain": [
       "               Year    Engine HP  Engine Cylinders   highway MPG  \\\n",
       "count  11914.000000  11845.00000      11884.000000  11914.000000   \n",
       "mean    2010.384338    249.38607          5.628829     26.637485   \n",
       "std        7.579740    109.19187          1.780559      8.863001   \n",
       "min     1990.000000     55.00000          0.000000     12.000000   \n",
       "25%     2007.000000    170.00000          4.000000     22.000000   \n",
       "50%     2015.000000    227.00000          6.000000     26.000000   \n",
       "75%     2016.000000    300.00000          6.000000     30.000000   \n",
       "max     2017.000000   1001.00000         16.000000    354.000000   \n",
       "\n",
       "           city mpg          MSRP  \n",
       "count  11914.000000  1.191400e+04  \n",
       "mean      19.733255  4.059474e+04  \n",
       "std        8.987798  6.010910e+04  \n",
       "min        7.000000  2.000000e+03  \n",
       "25%       16.000000  2.100000e+04  \n",
       "50%       18.000000  2.999500e+04  \n",
       "75%       22.000000  4.223125e+04  \n",
       "max      137.000000  2.065902e+06  "
      ]
     },
     "execution_count": 8,
     "metadata": {},
     "output_type": "execute_result"
    }
   ],
   "source": [
    "df.describe()"
   ]
  },
  {
   "cell_type": "code",
   "execution_count": 9,
   "id": "17da3f5c",
   "metadata": {},
   "outputs": [
    {
     "data": {
      "text/html": [
       "<div>\n",
       "<style scoped>\n",
       "    .dataframe tbody tr th:only-of-type {\n",
       "        vertical-align: middle;\n",
       "    }\n",
       "\n",
       "    .dataframe tbody tr th {\n",
       "        vertical-align: top;\n",
       "    }\n",
       "\n",
       "    .dataframe thead th {\n",
       "        text-align: right;\n",
       "    }\n",
       "</style>\n",
       "<table border=\"1\" class=\"dataframe\">\n",
       "  <thead>\n",
       "    <tr style=\"text-align: right;\">\n",
       "      <th></th>\n",
       "      <th>Make</th>\n",
       "      <th>Model</th>\n",
       "      <th>Transmission Type</th>\n",
       "      <th>Vehicle Style</th>\n",
       "    </tr>\n",
       "  </thead>\n",
       "  <tbody>\n",
       "    <tr>\n",
       "      <th>count</th>\n",
       "      <td>11914</td>\n",
       "      <td>11914</td>\n",
       "      <td>11914</td>\n",
       "      <td>11914</td>\n",
       "    </tr>\n",
       "    <tr>\n",
       "      <th>unique</th>\n",
       "      <td>48</td>\n",
       "      <td>915</td>\n",
       "      <td>5</td>\n",
       "      <td>16</td>\n",
       "    </tr>\n",
       "    <tr>\n",
       "      <th>top</th>\n",
       "      <td>Chevrolet</td>\n",
       "      <td>Silverado 1500</td>\n",
       "      <td>AUTOMATIC</td>\n",
       "      <td>Sedan</td>\n",
       "    </tr>\n",
       "    <tr>\n",
       "      <th>freq</th>\n",
       "      <td>1123</td>\n",
       "      <td>156</td>\n",
       "      <td>8266</td>\n",
       "      <td>3048</td>\n",
       "    </tr>\n",
       "  </tbody>\n",
       "</table>\n",
       "</div>"
      ],
      "text/plain": [
       "             Make           Model Transmission Type Vehicle Style\n",
       "count       11914           11914             11914         11914\n",
       "unique         48             915                 5            16\n",
       "top     Chevrolet  Silverado 1500         AUTOMATIC         Sedan\n",
       "freq         1123             156              8266          3048"
      ]
     },
     "execution_count": 9,
     "metadata": {},
     "output_type": "execute_result"
    }
   ],
   "source": [
    "df.describe(include = object)"
   ]
  },
  {
   "cell_type": "code",
   "execution_count": 10,
   "id": "aa66e897",
   "metadata": {},
   "outputs": [
    {
     "data": {
      "text/plain": [
       "Make                  0\n",
       "Model                 0\n",
       "Year                  0\n",
       "Engine HP            69\n",
       "Engine Cylinders     30\n",
       "Transmission Type     0\n",
       "Vehicle Style         0\n",
       "highway MPG           0\n",
       "city mpg              0\n",
       "MSRP                  0\n",
       "dtype: int64"
      ]
     },
     "execution_count": 10,
     "metadata": {},
     "output_type": "execute_result"
    }
   ],
   "source": [
    "df.isnull().sum()"
   ]
  },
  {
   "cell_type": "code",
   "execution_count": 11,
   "id": "ae8d08b7",
   "metadata": {},
   "outputs": [
    {
     "data": {
      "text/plain": [
       "828"
      ]
     },
     "execution_count": 11,
     "metadata": {},
     "output_type": "execute_result"
    }
   ],
   "source": [
    "df.duplicated().sum()"
   ]
  },
  {
   "cell_type": "markdown",
   "id": "2799fc5f",
   "metadata": {},
   "source": [
    "### Data preparation\n",
    "\n",
    "- Keep only the columns above\n",
    "- Lowercase the column names and replace spaces with underscores\n",
    "- Fill the missing values with 0\n",
    "- Rename `MSRP` variable to `price`.\n",
    "- Make the price binary (1 if above the average, 0 otherwise) - this will be our target variable above_average\n",
    "- Split the data into 3 parts: train/validation/test with 60%/20%/20% distribution. Use train_test_split function for that with random_state=1"
   ]
  },
  {
   "cell_type": "markdown",
   "id": "9d4c4c0f",
   "metadata": {},
   "source": [
    "**Lowercase the column names and replace spaces with underscores**"
   ]
  },
  {
   "cell_type": "code",
   "execution_count": 12,
   "id": "1c52c624",
   "metadata": {},
   "outputs": [
    {
     "data": {
      "text/plain": [
       "Index(['make', 'model', 'year', 'engine_hp', 'engine_cylinders',\n",
       "       'transmission_type', 'vehicle_style', 'highway_mpg', 'city_mpg',\n",
       "       'msrp'],\n",
       "      dtype='object')"
      ]
     },
     "execution_count": 12,
     "metadata": {},
     "output_type": "execute_result"
    }
   ],
   "source": [
    "df.columns = df.columns.str.replace(' ', '_').str.lower()\n",
    "df.columns"
   ]
  },
  {
   "cell_type": "markdown",
   "id": "a9359266",
   "metadata": {},
   "source": [
    "**Fill the missing values with 0**"
   ]
  },
  {
   "cell_type": "code",
   "execution_count": 13,
   "id": "89e6f983",
   "metadata": {},
   "outputs": [
    {
     "data": {
      "text/plain": [
       "make                  0\n",
       "model                 0\n",
       "year                  0\n",
       "engine_hp            69\n",
       "engine_cylinders     30\n",
       "transmission_type     0\n",
       "vehicle_style         0\n",
       "highway_mpg           0\n",
       "city_mpg              0\n",
       "msrp                  0\n",
       "dtype: int64"
      ]
     },
     "execution_count": 13,
     "metadata": {},
     "output_type": "execute_result"
    }
   ],
   "source": [
    "df.isnull().sum()"
   ]
  },
  {
   "cell_type": "code",
   "execution_count": 14,
   "id": "f6b5d7bc",
   "metadata": {},
   "outputs": [
    {
     "data": {
      "text/plain": [
       "make                 0\n",
       "model                0\n",
       "year                 0\n",
       "engine_hp            0\n",
       "engine_cylinders     0\n",
       "transmission_type    0\n",
       "vehicle_style        0\n",
       "highway_mpg          0\n",
       "city_mpg             0\n",
       "msrp                 0\n",
       "dtype: int64"
      ]
     },
     "execution_count": 14,
     "metadata": {},
     "output_type": "execute_result"
    }
   ],
   "source": [
    "# df.fillna(0, inplace=True)\n",
    "\n",
    "df.engine_hp = df.engine_hp.fillna(0)\n",
    "df.engine_cylinders = df.engine_cylinders.fillna(0)\n",
    "\n",
    "df.isnull().sum()"
   ]
  },
  {
   "cell_type": "markdown",
   "id": "6fbfc127",
   "metadata": {},
   "source": [
    "**Rename `MSRP` variable to `price`**"
   ]
  },
  {
   "cell_type": "code",
   "execution_count": 15,
   "id": "f89ecdf8",
   "metadata": {},
   "outputs": [
    {
     "data": {
      "text/plain": [
       "Index(['make', 'model', 'year', 'engine_hp', 'engine_cylinders',\n",
       "       'transmission_type', 'vehicle_style', 'highway_mpg', 'city_mpg',\n",
       "       'price'],\n",
       "      dtype='object')"
      ]
     },
     "execution_count": 15,
     "metadata": {},
     "output_type": "execute_result"
    }
   ],
   "source": [
    "df.rename(columns={\"msrp\": \"price\"}, inplace=True)\n",
    "df.columns"
   ]
  },
  {
   "cell_type": "code",
   "execution_count": 16,
   "id": "adfb762e",
   "metadata": {},
   "outputs": [],
   "source": [
    "numerical= df.drop(['price'], axis=1).select_dtypes('number').columns.to_list()\n",
    "\n",
    "categorical = df.select_dtypes('object').columns.to_list()"
   ]
  },
  {
   "cell_type": "code",
   "execution_count": 17,
   "id": "b2e272f8",
   "metadata": {},
   "outputs": [
    {
     "name": "stdout",
     "output_type": "stream",
     "text": [
      "['year', 'engine_hp', 'engine_cylinders', 'highway_mpg', 'city_mpg']\n",
      "\n",
      "['make', 'model', 'transmission_type', 'vehicle_style']\n"
     ]
    }
   ],
   "source": [
    "print(numerical)\n",
    "print()\n",
    "print(categorical)"
   ]
  },
  {
   "cell_type": "markdown",
   "id": "bcca3ee8",
   "metadata": {},
   "source": [
    "**Make the price binary**"
   ]
  },
  {
   "cell_type": "code",
   "execution_count": 18,
   "id": "73f8130a",
   "metadata": {},
   "outputs": [
    {
     "data": {
      "text/html": [
       "<div>\n",
       "<style scoped>\n",
       "    .dataframe tbody tr th:only-of-type {\n",
       "        vertical-align: middle;\n",
       "    }\n",
       "\n",
       "    .dataframe tbody tr th {\n",
       "        vertical-align: top;\n",
       "    }\n",
       "\n",
       "    .dataframe thead th {\n",
       "        text-align: right;\n",
       "    }\n",
       "</style>\n",
       "<table border=\"1\" class=\"dataframe\">\n",
       "  <thead>\n",
       "    <tr style=\"text-align: right;\">\n",
       "      <th></th>\n",
       "      <th>make</th>\n",
       "      <th>model</th>\n",
       "      <th>year</th>\n",
       "      <th>engine_hp</th>\n",
       "      <th>engine_cylinders</th>\n",
       "      <th>transmission_type</th>\n",
       "      <th>vehicle_style</th>\n",
       "      <th>highway_mpg</th>\n",
       "      <th>city_mpg</th>\n",
       "      <th>price</th>\n",
       "      <th>above_average</th>\n",
       "    </tr>\n",
       "  </thead>\n",
       "  <tbody>\n",
       "    <tr>\n",
       "      <th>0</th>\n",
       "      <td>BMW</td>\n",
       "      <td>1 Series M</td>\n",
       "      <td>2011</td>\n",
       "      <td>335.0</td>\n",
       "      <td>6.0</td>\n",
       "      <td>MANUAL</td>\n",
       "      <td>Coupe</td>\n",
       "      <td>26</td>\n",
       "      <td>19</td>\n",
       "      <td>46135</td>\n",
       "      <td>1</td>\n",
       "    </tr>\n",
       "    <tr>\n",
       "      <th>1</th>\n",
       "      <td>BMW</td>\n",
       "      <td>1 Series</td>\n",
       "      <td>2011</td>\n",
       "      <td>300.0</td>\n",
       "      <td>6.0</td>\n",
       "      <td>MANUAL</td>\n",
       "      <td>Convertible</td>\n",
       "      <td>28</td>\n",
       "      <td>19</td>\n",
       "      <td>40650</td>\n",
       "      <td>1</td>\n",
       "    </tr>\n",
       "    <tr>\n",
       "      <th>2</th>\n",
       "      <td>BMW</td>\n",
       "      <td>1 Series</td>\n",
       "      <td>2011</td>\n",
       "      <td>300.0</td>\n",
       "      <td>6.0</td>\n",
       "      <td>MANUAL</td>\n",
       "      <td>Coupe</td>\n",
       "      <td>28</td>\n",
       "      <td>20</td>\n",
       "      <td>36350</td>\n",
       "      <td>0</td>\n",
       "    </tr>\n",
       "    <tr>\n",
       "      <th>3</th>\n",
       "      <td>BMW</td>\n",
       "      <td>1 Series</td>\n",
       "      <td>2011</td>\n",
       "      <td>230.0</td>\n",
       "      <td>6.0</td>\n",
       "      <td>MANUAL</td>\n",
       "      <td>Coupe</td>\n",
       "      <td>28</td>\n",
       "      <td>18</td>\n",
       "      <td>29450</td>\n",
       "      <td>0</td>\n",
       "    </tr>\n",
       "    <tr>\n",
       "      <th>4</th>\n",
       "      <td>BMW</td>\n",
       "      <td>1 Series</td>\n",
       "      <td>2011</td>\n",
       "      <td>230.0</td>\n",
       "      <td>6.0</td>\n",
       "      <td>MANUAL</td>\n",
       "      <td>Convertible</td>\n",
       "      <td>28</td>\n",
       "      <td>18</td>\n",
       "      <td>34500</td>\n",
       "      <td>0</td>\n",
       "    </tr>\n",
       "  </tbody>\n",
       "</table>\n",
       "</div>"
      ],
      "text/plain": [
       "  make       model  year  engine_hp  engine_cylinders transmission_type  \\\n",
       "0  BMW  1 Series M  2011      335.0               6.0            MANUAL   \n",
       "1  BMW    1 Series  2011      300.0               6.0            MANUAL   \n",
       "2  BMW    1 Series  2011      300.0               6.0            MANUAL   \n",
       "3  BMW    1 Series  2011      230.0               6.0            MANUAL   \n",
       "4  BMW    1 Series  2011      230.0               6.0            MANUAL   \n",
       "\n",
       "  vehicle_style  highway_mpg  city_mpg  price  above_average  \n",
       "0         Coupe           26        19  46135              1  \n",
       "1   Convertible           28        19  40650              1  \n",
       "2         Coupe           28        20  36350              0  \n",
       "3         Coupe           28        18  29450              0  \n",
       "4   Convertible           28        18  34500              0  "
      ]
     },
     "execution_count": 18,
     "metadata": {},
     "output_type": "execute_result"
    }
   ],
   "source": [
    "# df.churn = (df.churn ==\"yes\").astype(int)\n",
    "\n",
    "df[\"above_average\"] = df.price.apply(lambda x : 1 if x >= df.price.mean() else 0)\n",
    "df.head()"
   ]
  },
  {
   "cell_type": "markdown",
   "id": "45547a69",
   "metadata": {},
   "source": [
    "**Split the data**"
   ]
  },
  {
   "cell_type": "code",
   "execution_count": 19,
   "id": "b3dbc2d5",
   "metadata": {},
   "outputs": [],
   "source": [
    "from sklearn.model_selection import train_test_split"
   ]
  },
  {
   "cell_type": "code",
   "execution_count": 20,
   "id": "9dd1d7c7",
   "metadata": {},
   "outputs": [],
   "source": [
    "df_full_train, df_test = train_test_split(df.drop(\"price\", axis=1), test_size=0.2, random_state=1)"
   ]
  },
  {
   "cell_type": "code",
   "execution_count": 21,
   "id": "fcfb9f95",
   "metadata": {},
   "outputs": [
    {
     "data": {
      "text/plain": [
       "(9531, 2383)"
      ]
     },
     "execution_count": 21,
     "metadata": {},
     "output_type": "execute_result"
    }
   ],
   "source": [
    "len(df_full_train), len(df_test)"
   ]
  },
  {
   "cell_type": "code",
   "execution_count": 22,
   "id": "8184a5a2",
   "metadata": {},
   "outputs": [],
   "source": [
    "df_train, df_val = train_test_split(df_full_train, test_size=0.25, random_state=1)"
   ]
  },
  {
   "cell_type": "code",
   "execution_count": 23,
   "id": "3b809694",
   "metadata": {},
   "outputs": [
    {
     "data": {
      "text/plain": [
       "(7148, 2383, 2383)"
      ]
     },
     "execution_count": 23,
     "metadata": {},
     "output_type": "execute_result"
    }
   ],
   "source": [
    "len(df_train), len(df_val), len(df_test)"
   ]
  },
  {
   "cell_type": "code",
   "execution_count": 24,
   "id": "1485ebcf",
   "metadata": {},
   "outputs": [],
   "source": [
    "df_train = df_train.reset_index(drop=True)\n",
    "df_val = df_val.reset_index(drop=True)\n",
    "df_test = df_test.reset_index(drop=True)"
   ]
  },
  {
   "cell_type": "code",
   "execution_count": 25,
   "id": "b920d7dd",
   "metadata": {},
   "outputs": [
    {
     "data": {
      "text/html": [
       "<div>\n",
       "<style scoped>\n",
       "    .dataframe tbody tr th:only-of-type {\n",
       "        vertical-align: middle;\n",
       "    }\n",
       "\n",
       "    .dataframe tbody tr th {\n",
       "        vertical-align: top;\n",
       "    }\n",
       "\n",
       "    .dataframe thead th {\n",
       "        text-align: right;\n",
       "    }\n",
       "</style>\n",
       "<table border=\"1\" class=\"dataframe\">\n",
       "  <thead>\n",
       "    <tr style=\"text-align: right;\">\n",
       "      <th></th>\n",
       "      <th>make</th>\n",
       "      <th>model</th>\n",
       "      <th>year</th>\n",
       "      <th>engine_hp</th>\n",
       "      <th>engine_cylinders</th>\n",
       "      <th>transmission_type</th>\n",
       "      <th>vehicle_style</th>\n",
       "      <th>highway_mpg</th>\n",
       "      <th>city_mpg</th>\n",
       "      <th>above_average</th>\n",
       "    </tr>\n",
       "  </thead>\n",
       "  <tbody>\n",
       "    <tr>\n",
       "      <th>0</th>\n",
       "      <td>Toyota</td>\n",
       "      <td>Highlander Hybrid</td>\n",
       "      <td>2016</td>\n",
       "      <td>280.0</td>\n",
       "      <td>6.0</td>\n",
       "      <td>AUTOMATIC</td>\n",
       "      <td>4dr SUV</td>\n",
       "      <td>28</td>\n",
       "      <td>27</td>\n",
       "      <td>1</td>\n",
       "    </tr>\n",
       "    <tr>\n",
       "      <th>1</th>\n",
       "      <td>Chevrolet</td>\n",
       "      <td>Impala Limited</td>\n",
       "      <td>2014</td>\n",
       "      <td>300.0</td>\n",
       "      <td>6.0</td>\n",
       "      <td>AUTOMATIC</td>\n",
       "      <td>Sedan</td>\n",
       "      <td>30</td>\n",
       "      <td>18</td>\n",
       "      <td>0</td>\n",
       "    </tr>\n",
       "    <tr>\n",
       "      <th>2</th>\n",
       "      <td>Buick</td>\n",
       "      <td>Regal</td>\n",
       "      <td>2016</td>\n",
       "      <td>259.0</td>\n",
       "      <td>4.0</td>\n",
       "      <td>AUTOMATIC</td>\n",
       "      <td>Sedan</td>\n",
       "      <td>27</td>\n",
       "      <td>19</td>\n",
       "      <td>0</td>\n",
       "    </tr>\n",
       "    <tr>\n",
       "      <th>3</th>\n",
       "      <td>Volkswagen</td>\n",
       "      <td>CC</td>\n",
       "      <td>2015</td>\n",
       "      <td>280.0</td>\n",
       "      <td>6.0</td>\n",
       "      <td>AUTOMATED_MANUAL</td>\n",
       "      <td>Sedan</td>\n",
       "      <td>25</td>\n",
       "      <td>17</td>\n",
       "      <td>1</td>\n",
       "    </tr>\n",
       "    <tr>\n",
       "      <th>4</th>\n",
       "      <td>Dodge</td>\n",
       "      <td>Grand Caravan</td>\n",
       "      <td>2016</td>\n",
       "      <td>283.0</td>\n",
       "      <td>6.0</td>\n",
       "      <td>AUTOMATIC</td>\n",
       "      <td>Passenger Minivan</td>\n",
       "      <td>25</td>\n",
       "      <td>17</td>\n",
       "      <td>0</td>\n",
       "    </tr>\n",
       "  </tbody>\n",
       "</table>\n",
       "</div>"
      ],
      "text/plain": [
       "         make              model  year  engine_hp  engine_cylinders  \\\n",
       "0      Toyota  Highlander Hybrid  2016      280.0               6.0   \n",
       "1   Chevrolet     Impala Limited  2014      300.0               6.0   \n",
       "2       Buick              Regal  2016      259.0               4.0   \n",
       "3  Volkswagen                 CC  2015      280.0               6.0   \n",
       "4       Dodge      Grand Caravan  2016      283.0               6.0   \n",
       "\n",
       "  transmission_type      vehicle_style  highway_mpg  city_mpg  above_average  \n",
       "0         AUTOMATIC            4dr SUV           28        27              1  \n",
       "1         AUTOMATIC              Sedan           30        18              0  \n",
       "2         AUTOMATIC              Sedan           27        19              0  \n",
       "3  AUTOMATED_MANUAL              Sedan           25        17              1  \n",
       "4         AUTOMATIC  Passenger Minivan           25        17              0  "
      ]
     },
     "execution_count": 25,
     "metadata": {},
     "output_type": "execute_result"
    }
   ],
   "source": [
    "df_train.head()"
   ]
  },
  {
   "cell_type": "code",
   "execution_count": 26,
   "id": "1760afe1",
   "metadata": {},
   "outputs": [
    {
     "data": {
      "text/html": [
       "<div>\n",
       "<style scoped>\n",
       "    .dataframe tbody tr th:only-of-type {\n",
       "        vertical-align: middle;\n",
       "    }\n",
       "\n",
       "    .dataframe tbody tr th {\n",
       "        vertical-align: top;\n",
       "    }\n",
       "\n",
       "    .dataframe thead th {\n",
       "        text-align: right;\n",
       "    }\n",
       "</style>\n",
       "<table border=\"1\" class=\"dataframe\">\n",
       "  <thead>\n",
       "    <tr style=\"text-align: right;\">\n",
       "      <th></th>\n",
       "      <th>make</th>\n",
       "      <th>model</th>\n",
       "      <th>year</th>\n",
       "      <th>engine_hp</th>\n",
       "      <th>engine_cylinders</th>\n",
       "      <th>transmission_type</th>\n",
       "      <th>vehicle_style</th>\n",
       "      <th>highway_mpg</th>\n",
       "      <th>city_mpg</th>\n",
       "      <th>above_average</th>\n",
       "    </tr>\n",
       "  </thead>\n",
       "  <tbody>\n",
       "    <tr>\n",
       "      <th>0</th>\n",
       "      <td>Nissan</td>\n",
       "      <td>370Z</td>\n",
       "      <td>2015</td>\n",
       "      <td>350.0</td>\n",
       "      <td>6.0</td>\n",
       "      <td>AUTOMATIC</td>\n",
       "      <td>Coupe</td>\n",
       "      <td>26</td>\n",
       "      <td>19</td>\n",
       "      <td>1</td>\n",
       "    </tr>\n",
       "    <tr>\n",
       "      <th>1</th>\n",
       "      <td>Pontiac</td>\n",
       "      <td>Firebird</td>\n",
       "      <td>2000</td>\n",
       "      <td>305.0</td>\n",
       "      <td>8.0</td>\n",
       "      <td>UNKNOWN</td>\n",
       "      <td>2dr Hatchback</td>\n",
       "      <td>23</td>\n",
       "      <td>15</td>\n",
       "      <td>0</td>\n",
       "    </tr>\n",
       "    <tr>\n",
       "      <th>2</th>\n",
       "      <td>Acura</td>\n",
       "      <td>RDX</td>\n",
       "      <td>2015</td>\n",
       "      <td>273.0</td>\n",
       "      <td>6.0</td>\n",
       "      <td>AUTOMATIC</td>\n",
       "      <td>4dr SUV</td>\n",
       "      <td>27</td>\n",
       "      <td>19</td>\n",
       "      <td>0</td>\n",
       "    </tr>\n",
       "    <tr>\n",
       "      <th>3</th>\n",
       "      <td>Kia</td>\n",
       "      <td>Sedona</td>\n",
       "      <td>2016</td>\n",
       "      <td>276.0</td>\n",
       "      <td>6.0</td>\n",
       "      <td>AUTOMATIC</td>\n",
       "      <td>Passenger Minivan</td>\n",
       "      <td>24</td>\n",
       "      <td>18</td>\n",
       "      <td>0</td>\n",
       "    </tr>\n",
       "    <tr>\n",
       "      <th>4</th>\n",
       "      <td>Nissan</td>\n",
       "      <td>Truck</td>\n",
       "      <td>1996</td>\n",
       "      <td>134.0</td>\n",
       "      <td>4.0</td>\n",
       "      <td>MANUAL</td>\n",
       "      <td>Regular Cab Pickup</td>\n",
       "      <td>24</td>\n",
       "      <td>19</td>\n",
       "      <td>0</td>\n",
       "    </tr>\n",
       "  </tbody>\n",
       "</table>\n",
       "</div>"
      ],
      "text/plain": [
       "      make     model  year  engine_hp  engine_cylinders transmission_type  \\\n",
       "0   Nissan      370Z  2015      350.0               6.0         AUTOMATIC   \n",
       "1  Pontiac  Firebird  2000      305.0               8.0           UNKNOWN   \n",
       "2    Acura       RDX  2015      273.0               6.0         AUTOMATIC   \n",
       "3      Kia    Sedona  2016      276.0               6.0         AUTOMATIC   \n",
       "4   Nissan     Truck  1996      134.0               4.0            MANUAL   \n",
       "\n",
       "        vehicle_style  highway_mpg  city_mpg  above_average  \n",
       "0               Coupe           26        19              1  \n",
       "1       2dr Hatchback           23        15              0  \n",
       "2             4dr SUV           27        19              0  \n",
       "3   Passenger Minivan           24        18              0  \n",
       "4  Regular Cab Pickup           24        19              0  "
      ]
     },
     "execution_count": 26,
     "metadata": {},
     "output_type": "execute_result"
    }
   ],
   "source": [
    "df_val.head()"
   ]
  },
  {
   "cell_type": "code",
   "execution_count": 27,
   "id": "c812b476",
   "metadata": {},
   "outputs": [
    {
     "data": {
      "text/html": [
       "<div>\n",
       "<style scoped>\n",
       "    .dataframe tbody tr th:only-of-type {\n",
       "        vertical-align: middle;\n",
       "    }\n",
       "\n",
       "    .dataframe tbody tr th {\n",
       "        vertical-align: top;\n",
       "    }\n",
       "\n",
       "    .dataframe thead th {\n",
       "        text-align: right;\n",
       "    }\n",
       "</style>\n",
       "<table border=\"1\" class=\"dataframe\">\n",
       "  <thead>\n",
       "    <tr style=\"text-align: right;\">\n",
       "      <th></th>\n",
       "      <th>make</th>\n",
       "      <th>model</th>\n",
       "      <th>year</th>\n",
       "      <th>engine_hp</th>\n",
       "      <th>engine_cylinders</th>\n",
       "      <th>transmission_type</th>\n",
       "      <th>vehicle_style</th>\n",
       "      <th>highway_mpg</th>\n",
       "      <th>city_mpg</th>\n",
       "      <th>above_average</th>\n",
       "    </tr>\n",
       "  </thead>\n",
       "  <tbody>\n",
       "    <tr>\n",
       "      <th>0</th>\n",
       "      <td>Lotus</td>\n",
       "      <td>Evora 400</td>\n",
       "      <td>2017</td>\n",
       "      <td>400.0</td>\n",
       "      <td>6.0</td>\n",
       "      <td>MANUAL</td>\n",
       "      <td>Coupe</td>\n",
       "      <td>39</td>\n",
       "      <td>21</td>\n",
       "      <td>1</td>\n",
       "    </tr>\n",
       "    <tr>\n",
       "      <th>1</th>\n",
       "      <td>Aston Martin</td>\n",
       "      <td>V8 Vantage</td>\n",
       "      <td>2014</td>\n",
       "      <td>420.0</td>\n",
       "      <td>8.0</td>\n",
       "      <td>AUTOMATED_MANUAL</td>\n",
       "      <td>Convertible</td>\n",
       "      <td>21</td>\n",
       "      <td>14</td>\n",
       "      <td>1</td>\n",
       "    </tr>\n",
       "    <tr>\n",
       "      <th>2</th>\n",
       "      <td>Hyundai</td>\n",
       "      <td>Genesis</td>\n",
       "      <td>2015</td>\n",
       "      <td>311.0</td>\n",
       "      <td>6.0</td>\n",
       "      <td>AUTOMATIC</td>\n",
       "      <td>Sedan</td>\n",
       "      <td>29</td>\n",
       "      <td>18</td>\n",
       "      <td>0</td>\n",
       "    </tr>\n",
       "    <tr>\n",
       "      <th>3</th>\n",
       "      <td>Suzuki</td>\n",
       "      <td>Samurai</td>\n",
       "      <td>1993</td>\n",
       "      <td>66.0</td>\n",
       "      <td>4.0</td>\n",
       "      <td>MANUAL</td>\n",
       "      <td>Convertible SUV</td>\n",
       "      <td>26</td>\n",
       "      <td>24</td>\n",
       "      <td>0</td>\n",
       "    </tr>\n",
       "    <tr>\n",
       "      <th>4</th>\n",
       "      <td>Mitsubishi</td>\n",
       "      <td>Outlander</td>\n",
       "      <td>2015</td>\n",
       "      <td>166.0</td>\n",
       "      <td>4.0</td>\n",
       "      <td>AUTOMATIC</td>\n",
       "      <td>4dr SUV</td>\n",
       "      <td>29</td>\n",
       "      <td>24</td>\n",
       "      <td>0</td>\n",
       "    </tr>\n",
       "  </tbody>\n",
       "</table>\n",
       "</div>"
      ],
      "text/plain": [
       "           make       model  year  engine_hp  engine_cylinders  \\\n",
       "0         Lotus   Evora 400  2017      400.0               6.0   \n",
       "1  Aston Martin  V8 Vantage  2014      420.0               8.0   \n",
       "2       Hyundai     Genesis  2015      311.0               6.0   \n",
       "3        Suzuki     Samurai  1993       66.0               4.0   \n",
       "4    Mitsubishi   Outlander  2015      166.0               4.0   \n",
       "\n",
       "  transmission_type    vehicle_style  highway_mpg  city_mpg  above_average  \n",
       "0            MANUAL            Coupe           39        21              1  \n",
       "1  AUTOMATED_MANUAL      Convertible           21        14              1  \n",
       "2         AUTOMATIC            Sedan           29        18              0  \n",
       "3            MANUAL  Convertible SUV           26        24              0  \n",
       "4         AUTOMATIC          4dr SUV           29        24              0  "
      ]
     },
     "execution_count": 27,
     "metadata": {},
     "output_type": "execute_result"
    }
   ],
   "source": [
    "df_test.head()"
   ]
  },
  {
   "cell_type": "code",
   "execution_count": 28,
   "id": "99c03cc5",
   "metadata": {},
   "outputs": [],
   "source": [
    "y_train_ = df_train.above_average.values\n",
    "y_val_ = df_val.above_average.values\n",
    "y_test_ = df_test.above_average.values"
   ]
  },
  {
   "cell_type": "code",
   "execution_count": 29,
   "id": "76371556",
   "metadata": {},
   "outputs": [
    {
     "data": {
      "text/plain": [
       "(7148, 2383, 2383)"
      ]
     },
     "execution_count": 29,
     "metadata": {},
     "output_type": "execute_result"
    }
   ],
   "source": [
    "len(y_train_), len(y_val_), len(y_test_)"
   ]
  },
  {
   "cell_type": "code",
   "execution_count": 30,
   "id": "b0160b52",
   "metadata": {},
   "outputs": [
    {
     "name": "stdout",
     "output_type": "stream",
     "text": [
      "[1 0 0 ... 0 0 0]\n",
      "[1 0 0 ... 0 1 0]\n",
      "[1 1 0 ... 0 1 0]\n"
     ]
    }
   ],
   "source": [
    "print(y_train_)\n",
    "print(y_val_)\n",
    "print(y_test_)"
   ]
  },
  {
   "cell_type": "code",
   "execution_count": 31,
   "id": "057f020b",
   "metadata": {},
   "outputs": [],
   "source": [
    "del df_train[\"above_average\"]\n",
    "del df_val[\"above_average\"]\n",
    "del df_test[\"above_average\"]"
   ]
  },
  {
   "cell_type": "markdown",
   "id": "83133849",
   "metadata": {},
   "source": [
    "### Question 1: ROC AUC feature importance\n",
    "\n",
    "ROC AUC could also be used to evaluate feature importance of numerical variables.\n",
    "\n",
    "Let's do that\n",
    "\n",
    "- For each numerical variable, use it as score and compute AUC with the above_average variable\n",
    "- Use the training dataset for that\n",
    "\n",
    "If your AUC is < 0.5, invert this variable by putting \"-\" in front\n",
    "\n",
    "(e.g. -df_train['engine_hp'])\n",
    "\n",
    "AUC can go below 0.5 if the variable is negatively correlated with the target varialble. You can change the direction of the correlation by negating this variable - then negative correlation becomes positive.\n",
    "\n",
    "Which numerical variable (among the following 4) has the highest AUC?\n",
    "\n",
    "- engine_hp\n",
    "- engine_cylinders\n",
    "- highway_mpg\n",
    "- city_mpg"
   ]
  },
  {
   "cell_type": "code",
   "execution_count": 32,
   "id": "38540a09",
   "metadata": {},
   "outputs": [],
   "source": [
    "from sklearn.metrics import roc_auc_score"
   ]
  },
  {
   "cell_type": "code",
   "execution_count": 33,
   "id": "10ef3dc7",
   "metadata": {},
   "outputs": [
    {
     "name": "stdout",
     "output_type": "stream",
     "text": [
      "             Column       AUC\n",
      "1         engine_hp  0.917103\n",
      "2  engine_cylinders  0.766116\n",
      "0              year  0.687551\n",
      "4          city_mpg  0.673424\n",
      "3       highway_mpg  0.633059\n"
     ]
    }
   ],
   "source": [
    "result = [(col, roc_auc_score(y_train_, df_train[col]) if roc_auc_score(y_train_, df_train[col]) >= 0.5 else roc_auc_score(y_train_, -df_train[col])) for col in numerical]\n",
    "result_df = pd.DataFrame(result, columns=['Column', 'AUC'])\n",
    "print((result_df.sort_values(\"AUC\", ascending=False)))"
   ]
  },
  {
   "cell_type": "markdown",
   "id": "797571a6",
   "metadata": {},
   "source": [
    "### Question 2: Training the model\n",
    "\n",
    "Apply one-hot-encoding using `DictVectorizer` and train the logistic regression with these parameters:\n",
    "\n",
    "```python\n",
    "LogisticRegression(solver='liblinear', C=1.0, max_iter=1000)\n",
    "```\n",
    "\n",
    "What's the AUC of this model on the validation dataset? (round to 3 digits)\n",
    "\n",
    "- 0.678\n",
    "- 0.779\n",
    "- 0.878\n",
    "- 0.979"
   ]
  },
  {
   "cell_type": "markdown",
   "id": "2848762b",
   "metadata": {},
   "source": [
    "**Apply one-hot-encoding using DictVectorizer**"
   ]
  },
  {
   "cell_type": "code",
   "execution_count": 34,
   "id": "c95cb175",
   "metadata": {},
   "outputs": [],
   "source": [
    "from sklearn.feature_extraction import DictVectorizer"
   ]
  },
  {
   "cell_type": "code",
   "execution_count": 35,
   "id": "654ad597",
   "metadata": {},
   "outputs": [
    {
     "data": {
      "text/plain": [
       "{'make': 'Toyota',\n",
       " 'model': 'Highlander Hybrid',\n",
       " 'transmission_type': 'AUTOMATIC',\n",
       " 'vehicle_style': '4dr SUV',\n",
       " 'year': 2016,\n",
       " 'engine_hp': 280.0,\n",
       " 'engine_cylinders': 6.0,\n",
       " 'highway_mpg': 28,\n",
       " 'city_mpg': 27}"
      ]
     },
     "execution_count": 35,
     "metadata": {},
     "output_type": "execute_result"
    }
   ],
   "source": [
    "train_dict = df_train[categorical + numerical].to_dict(orient='records')\n",
    "train_dict[0]"
   ]
  },
  {
   "cell_type": "code",
   "execution_count": 36,
   "id": "215e4960",
   "metadata": {},
   "outputs": [
    {
     "data": {
      "text/html": [
       "<style>#sk-container-id-1 {color: black;background-color: white;}#sk-container-id-1 pre{padding: 0;}#sk-container-id-1 div.sk-toggleable {background-color: white;}#sk-container-id-1 label.sk-toggleable__label {cursor: pointer;display: block;width: 100%;margin-bottom: 0;padding: 0.3em;box-sizing: border-box;text-align: center;}#sk-container-id-1 label.sk-toggleable__label-arrow:before {content: \"▸\";float: left;margin-right: 0.25em;color: #696969;}#sk-container-id-1 label.sk-toggleable__label-arrow:hover:before {color: black;}#sk-container-id-1 div.sk-estimator:hover label.sk-toggleable__label-arrow:before {color: black;}#sk-container-id-1 div.sk-toggleable__content {max-height: 0;max-width: 0;overflow: hidden;text-align: left;background-color: #f0f8ff;}#sk-container-id-1 div.sk-toggleable__content pre {margin: 0.2em;color: black;border-radius: 0.25em;background-color: #f0f8ff;}#sk-container-id-1 input.sk-toggleable__control:checked~div.sk-toggleable__content {max-height: 200px;max-width: 100%;overflow: auto;}#sk-container-id-1 input.sk-toggleable__control:checked~label.sk-toggleable__label-arrow:before {content: \"▾\";}#sk-container-id-1 div.sk-estimator input.sk-toggleable__control:checked~label.sk-toggleable__label {background-color: #d4ebff;}#sk-container-id-1 div.sk-label input.sk-toggleable__control:checked~label.sk-toggleable__label {background-color: #d4ebff;}#sk-container-id-1 input.sk-hidden--visually {border: 0;clip: rect(1px 1px 1px 1px);clip: rect(1px, 1px, 1px, 1px);height: 1px;margin: -1px;overflow: hidden;padding: 0;position: absolute;width: 1px;}#sk-container-id-1 div.sk-estimator {font-family: monospace;background-color: #f0f8ff;border: 1px dotted black;border-radius: 0.25em;box-sizing: border-box;margin-bottom: 0.5em;}#sk-container-id-1 div.sk-estimator:hover {background-color: #d4ebff;}#sk-container-id-1 div.sk-parallel-item::after {content: \"\";width: 100%;border-bottom: 1px solid gray;flex-grow: 1;}#sk-container-id-1 div.sk-label:hover label.sk-toggleable__label {background-color: #d4ebff;}#sk-container-id-1 div.sk-serial::before {content: \"\";position: absolute;border-left: 1px solid gray;box-sizing: border-box;top: 0;bottom: 0;left: 50%;z-index: 0;}#sk-container-id-1 div.sk-serial {display: flex;flex-direction: column;align-items: center;background-color: white;padding-right: 0.2em;padding-left: 0.2em;position: relative;}#sk-container-id-1 div.sk-item {position: relative;z-index: 1;}#sk-container-id-1 div.sk-parallel {display: flex;align-items: stretch;justify-content: center;background-color: white;position: relative;}#sk-container-id-1 div.sk-item::before, #sk-container-id-1 div.sk-parallel-item::before {content: \"\";position: absolute;border-left: 1px solid gray;box-sizing: border-box;top: 0;bottom: 0;left: 50%;z-index: -1;}#sk-container-id-1 div.sk-parallel-item {display: flex;flex-direction: column;z-index: 1;position: relative;background-color: white;}#sk-container-id-1 div.sk-parallel-item:first-child::after {align-self: flex-end;width: 50%;}#sk-container-id-1 div.sk-parallel-item:last-child::after {align-self: flex-start;width: 50%;}#sk-container-id-1 div.sk-parallel-item:only-child::after {width: 0;}#sk-container-id-1 div.sk-dashed-wrapped {border: 1px dashed gray;margin: 0 0.4em 0.5em 0.4em;box-sizing: border-box;padding-bottom: 0.4em;background-color: white;}#sk-container-id-1 div.sk-label label {font-family: monospace;font-weight: bold;display: inline-block;line-height: 1.2em;}#sk-container-id-1 div.sk-label-container {text-align: center;}#sk-container-id-1 div.sk-container {/* jupyter's `normalize.less` sets `[hidden] { display: none; }` but bootstrap.min.css set `[hidden] { display: none !important; }` so we also need the `!important` here to be able to override the default hidden behavior on the sphinx rendered scikit-learn.org. See: https://github.com/scikit-learn/scikit-learn/issues/21755 */display: inline-block !important;position: relative;}#sk-container-id-1 div.sk-text-repr-fallback {display: none;}</style><div id=\"sk-container-id-1\" class=\"sk-top-container\"><div class=\"sk-text-repr-fallback\"><pre>DictVectorizer(sparse=False)</pre><b>In a Jupyter environment, please rerun this cell to show the HTML representation or trust the notebook. <br />On GitHub, the HTML representation is unable to render, please try loading this page with nbviewer.org.</b></div><div class=\"sk-container\" hidden><div class=\"sk-item\"><div class=\"sk-estimator sk-toggleable\"><input class=\"sk-toggleable__control sk-hidden--visually\" id=\"sk-estimator-id-1\" type=\"checkbox\" checked><label for=\"sk-estimator-id-1\" class=\"sk-toggleable__label sk-toggleable__label-arrow\">DictVectorizer</label><div class=\"sk-toggleable__content\"><pre>DictVectorizer(sparse=False)</pre></div></div></div></div></div>"
      ],
      "text/plain": [
       "DictVectorizer(sparse=False)"
      ]
     },
     "execution_count": 36,
     "metadata": {},
     "output_type": "execute_result"
    }
   ],
   "source": [
    "dv = DictVectorizer(sparse=False)\n",
    "dv.fit(train_dict)"
   ]
  },
  {
   "cell_type": "code",
   "execution_count": 37,
   "id": "03b23961",
   "metadata": {},
   "outputs": [
    {
     "data": {
      "text/plain": [
       "array([[2.700e+01, 6.000e+00, 2.800e+02, ..., 0.000e+00, 0.000e+00,\n",
       "        2.016e+03],\n",
       "       [1.800e+01, 6.000e+00, 3.000e+02, ..., 1.000e+00, 0.000e+00,\n",
       "        2.014e+03],\n",
       "       [1.900e+01, 4.000e+00, 2.590e+02, ..., 1.000e+00, 0.000e+00,\n",
       "        2.016e+03],\n",
       "       ...,\n",
       "       [3.200e+01, 4.000e+00, 1.300e+02, ..., 0.000e+00, 0.000e+00,\n",
       "        2.017e+03],\n",
       "       [1.600e+01, 5.000e+00, 1.620e+02, ..., 1.000e+00, 0.000e+00,\n",
       "        1.991e+03],\n",
       "       [1.400e+01, 6.000e+00, 2.400e+02, ..., 0.000e+00, 0.000e+00,\n",
       "        2.003e+03]])"
      ]
     },
     "execution_count": 37,
     "metadata": {},
     "output_type": "execute_result"
    }
   ],
   "source": [
    "X_train_ = dv.transform(train_dict)\n",
    "X_train_"
   ]
  },
  {
   "cell_type": "code",
   "execution_count": 38,
   "id": "04146f53",
   "metadata": {},
   "outputs": [
    {
     "data": {
      "text/plain": [
       "(7148, 954)"
      ]
     },
     "execution_count": 38,
     "metadata": {},
     "output_type": "execute_result"
    }
   ],
   "source": [
    "X_train_.shape"
   ]
  },
  {
   "cell_type": "code",
   "execution_count": 39,
   "id": "2e49f298",
   "metadata": {},
   "outputs": [
    {
     "data": {
      "text/plain": [
       "array(['city_mpg', 'engine_cylinders', 'engine_hp', 'highway_mpg',\n",
       "       'make=Acura', 'make=Alfa Romeo', 'make=Aston Martin', 'make=Audi',\n",
       "       'make=BMW', 'make=Bentley', 'make=Bugatti', 'make=Buick',\n",
       "       'make=Cadillac', 'make=Chevrolet', 'make=Chrysler', 'make=Dodge',\n",
       "       'make=FIAT', 'make=Ferrari', 'make=Ford', 'make=GMC',\n",
       "       'make=Genesis', 'make=HUMMER', 'make=Honda', 'make=Hyundai',\n",
       "       'make=Infiniti', 'make=Kia', 'make=Lamborghini', 'make=Land Rover',\n",
       "       'make=Lexus', 'make=Lincoln', 'make=Lotus', 'make=Maserati',\n",
       "       'make=Maybach', 'make=Mazda', 'make=McLaren', 'make=Mercedes-Benz',\n",
       "       'make=Mitsubishi', 'make=Nissan', 'make=Oldsmobile',\n",
       "       'make=Plymouth', 'make=Pontiac', 'make=Porsche',\n",
       "       'make=Rolls-Royce', 'make=Saab', 'make=Scion', 'make=Spyker',\n",
       "       'make=Subaru', 'make=Suzuki', 'make=Tesla', 'make=Toyota',\n",
       "       'make=Volkswagen', 'make=Volvo', 'model=1 Series',\n",
       "       'model=1 Series M', 'model=100', 'model=124 Spider',\n",
       "       'model=190-Class', 'model=2', 'model=2 Series', 'model=200',\n",
       "       'model=200SX', 'model=240', 'model=240SX', 'model=3',\n",
       "       'model=3 Series', 'model=3 Series Gran Turismo', 'model=300',\n",
       "       'model=300-Class', 'model=3000GT', 'model=300M', 'model=300ZX',\n",
       "       'model=323', 'model=350-Class', 'model=350Z', 'model=360',\n",
       "       'model=370Z', 'model=4 Series', 'model=4 Series Gran Coupe',\n",
       "       'model=400-Class', 'model=420-Class', 'model=456M',\n",
       "       'model=458 Italia', 'model=4C', 'model=4Runner', 'model=5',\n",
       "       'model=5 Series', 'model=5 Series Gran Turismo', 'model=500',\n",
       "       'model=500-Class', 'model=500L', 'model=500X', 'model=500e',\n",
       "       'model=550', 'model=560-Class', 'model=57', 'model=575M',\n",
       "       'model=599', 'model=6', 'model=6 Series',\n",
       "       'model=6 Series Gran Coupe', 'model=600-Class', 'model=6000',\n",
       "       'model=612 Scaglietti', 'model=62', 'model=626',\n",
       "       'model=650S Coupe', 'model=7 Series', 'model=718 Cayman',\n",
       "       'model=740', 'model=760', 'model=780', 'model=8 Series',\n",
       "       'model=80', 'model=850', 'model=86', 'model=9-2X', 'model=9-3',\n",
       "       'model=9-3 Griffin', 'model=9-4X', 'model=9-5', 'model=9-7X',\n",
       "       'model=90', 'model=900', 'model=9000', 'model=911', 'model=928',\n",
       "       'model=929', 'model=940', 'model=944', 'model=960', 'model=968',\n",
       "       'model=A3', 'model=A4', 'model=A4 allroad', 'model=A5', 'model=A6',\n",
       "       'model=A7', 'model=A8', 'model=ALPINA B6 Gran Coupe',\n",
       "       'model=ALPINA B7', 'model=AMG GT', 'model=ATS', 'model=ATS Coupe',\n",
       "       'model=ATS-V', 'model=Acadia', 'model=Acadia Limited',\n",
       "       'model=Accent', 'model=Acclaim', 'model=Accord',\n",
       "       'model=Accord Crosstour', 'model=Accord Hybrid',\n",
       "       'model=Accord Plug-In Hybrid', 'model=Achieva',\n",
       "       'model=ActiveHybrid 5', 'model=ActiveHybrid 7',\n",
       "       'model=ActiveHybrid X6', 'model=Aerio', 'model=Aerostar',\n",
       "       'model=Alero', 'model=Allante', 'model=Alpina', 'model=Altima',\n",
       "       'model=Altima Hybrid', 'model=Amanti', 'model=Armada',\n",
       "       'model=Arnage', 'model=Aspen', 'model=Aspire', 'model=Astro',\n",
       "       'model=Astro Cargo', 'model=Aurora', 'model=Avalanche',\n",
       "       'model=Avalon', 'model=Avalon Hybrid', 'model=Avenger',\n",
       "       'model=Aventador', 'model=Aveo', 'model=Aviator', 'model=Axxess',\n",
       "       'model=Azera', 'model=Aztek', 'model=Azure',\n",
       "       'model=B-Class Electric Drive', 'model=B-Series',\n",
       "       'model=B-Series Pickup', 'model=B-Series Truck',\n",
       "       'model=B9 Tribeca', 'model=BRZ', 'model=Baja', 'model=Beetle',\n",
       "       'model=Beetle Convertible', 'model=Beretta',\n",
       "       'model=Black Diamond Avalanche', 'model=Blackwood', 'model=Blazer',\n",
       "       'model=Bolt EV', 'model=Bonneville', 'model=Borrego',\n",
       "       'model=Boxster', 'model=Bravada', 'model=Breeze', 'model=Bronco',\n",
       "       'model=Bronco II', 'model=Brooklands', 'model=Brougham',\n",
       "       'model=C-Class', 'model=C-Max Hybrid', 'model=C/K 1500 Series',\n",
       "       'model=C/K 2500 Series', 'model=C30', 'model=C36 AMG',\n",
       "       'model=C43 AMG', 'model=C70', 'model=C8', 'model=CC', 'model=CL',\n",
       "       'model=CL-Class', 'model=CLA-Class', 'model=CLK-Class',\n",
       "       'model=CLS-Class', 'model=CR-V', 'model=CR-Z', 'model=CT 200h',\n",
       "       'model=CT6', 'model=CTS', 'model=CTS Coupe', 'model=CTS Wagon',\n",
       "       'model=CTS-V', 'model=CTS-V Coupe', 'model=CTS-V Wagon',\n",
       "       'model=CX-3', 'model=CX-5', 'model=CX-7', 'model=CX-9',\n",
       "       'model=Cabrio', 'model=Cabriolet', 'model=Cadenza',\n",
       "       'model=Caliber', 'model=California', 'model=Camaro', 'model=Camry',\n",
       "       'model=Camry Hybrid', 'model=Camry Solara', 'model=Canyon',\n",
       "       'model=Caprice', 'model=Captiva Sport', 'model=Caravan',\n",
       "       'model=Carrera GT', 'model=Cascada', 'model=Catera',\n",
       "       'model=Cavalier', 'model=Cayenne', 'model=Cayman',\n",
       "       'model=Celebrity', 'model=Celica', 'model=Century',\n",
       "       'model=Challenger', 'model=Charger', 'model=Chevy Van',\n",
       "       'model=Ciera', 'model=Cirrus', 'model=City Express', 'model=Civic',\n",
       "       'model=Civic CRX', 'model=Civic del Sol', 'model=Classic',\n",
       "       'model=Cobalt', 'model=Colorado', 'model=Colt', 'model=Concorde',\n",
       "       'model=Continental', 'model=Continental Flying Spur',\n",
       "       'model=Continental Flying Spur Speed', 'model=Continental GT',\n",
       "       'model=Continental GT Speed',\n",
       "       'model=Continental GT Speed Convertible', 'model=Continental GTC',\n",
       "       'model=Continental GTC Speed', 'model=Continental Supersports',\n",
       "       'model=Continental Supersports Convertible', 'model=Contour',\n",
       "       'model=Contour SVT', 'model=Corniche', 'model=Corolla',\n",
       "       'model=Corolla iM', 'model=Corrado', 'model=Corsica',\n",
       "       'model=Corvette', 'model=Corvette Stingray', 'model=Coupe',\n",
       "       'model=Cressida', 'model=Crossfire', 'model=Crosstour',\n",
       "       'model=Crosstrek', 'model=Crown Victoria', 'model=Cruze',\n",
       "       'model=Cruze Limited', 'model=Cube', 'model=Custom Cruiser',\n",
       "       'model=Cutlass', 'model=Cutlass Calais', 'model=Cutlass Ciera',\n",
       "       'model=Cutlass Supreme', 'model=DB7', 'model=DB9', 'model=DB9 GT',\n",
       "       'model=DBS', 'model=DTS', 'model=Dakota', 'model=Dart',\n",
       "       'model=Daytona', 'model=DeVille', 'model=Defender',\n",
       "       'model=Diamante', 'model=Discovery', 'model=Discovery Series II',\n",
       "       'model=Discovery Sport', 'model=Durango', 'model=Dynasty',\n",
       "       'model=E-150', 'model=E-250', 'model=E-Class',\n",
       "       'model=E-Series Van', 'model=E-Series Wagon', 'model=E55 AMG',\n",
       "       'model=ECHO', 'model=ES 250', 'model=ES 300', 'model=ES 300h',\n",
       "       'model=ES 330', 'model=ES 350', 'model=EX', 'model=EX35',\n",
       "       'model=Eclipse', 'model=Eclipse Spyder', 'model=Edge',\n",
       "       'model=Eighty-Eight', 'model=Eighty-Eight Royale', 'model=Elantra',\n",
       "       'model=Elantra Coupe', 'model=Elantra GT', 'model=Elantra Touring',\n",
       "       'model=Eldorado', 'model=Electra', 'model=Element', 'model=Elise',\n",
       "       'model=Enclave', 'model=Encore', 'model=Endeavor',\n",
       "       'model=Entourage', 'model=Envision', 'model=Envoy',\n",
       "       'model=Envoy XL', 'model=Eos', 'model=Equator', 'model=Equinox',\n",
       "       'model=Equus', 'model=Escalade', 'model=Escalade ESV',\n",
       "       'model=Escalade EXT', 'model=Escalade Hybrid', 'model=Escape',\n",
       "       'model=Escape Hybrid', 'model=Escort', 'model=Esprit',\n",
       "       'model=Esteem', 'model=EuroVan', 'model=Evora', 'model=Excel',\n",
       "       'model=Exige', 'model=Expedition', 'model=Explorer',\n",
       "       'model=Explorer Sport', 'model=Explorer Sport Trac', 'model=Expo',\n",
       "       'model=Express', 'model=Express Cargo', 'model=F-150',\n",
       "       'model=F-150 Heritage', 'model=F-150 SVT Lightning', 'model=F-250',\n",
       "       'model=F12 Berlinetta', 'model=F430', 'model=FF',\n",
       "       'model=FJ Cruiser', 'model=FR-S', 'model=FX', 'model=FX35',\n",
       "       'model=FX45', 'model=FX50', 'model=Festiva', 'model=Fiesta',\n",
       "       'model=Firebird', 'model=Fit', 'model=Five Hundred',\n",
       "       'model=Fleetwood', 'model=Flex', 'model=Flying Spur',\n",
       "       'model=Focus', 'model=Focus ST', 'model=Forenza', 'model=Forester',\n",
       "       'model=Forte', 'model=Fox', 'model=Freelander', 'model=Freestar',\n",
       "       'model=Freestyle', 'model=Frontier', 'model=Fusion',\n",
       "       'model=Fusion Hybrid', 'model=G Convertible', 'model=G Coupe',\n",
       "       'model=G Sedan', 'model=G-Class', 'model=G20', 'model=G3',\n",
       "       'model=G35', 'model=G37', 'model=G37 Convertible',\n",
       "       'model=G37 Coupe', 'model=G37 Sedan', 'model=G5', 'model=G6',\n",
       "       'model=G8', 'model=G80', 'model=GL-Class', 'model=GLA-Class',\n",
       "       'model=GLC-Class', 'model=GLE-Class', 'model=GLE-Class Coupe',\n",
       "       'model=GLI', 'model=GLK-Class', 'model=GLS-Class', 'model=GS 200t',\n",
       "       'model=GS 300', 'model=GS 350', 'model=GS 400', 'model=GS 430',\n",
       "       'model=GS 450h', 'model=GS 460', 'model=GS F', 'model=GT',\n",
       "       'model=GT-R', 'model=GTI', 'model=GTO', 'model=GX 460',\n",
       "       'model=GX 470', 'model=Galant', 'model=Gallardo', 'model=Genesis',\n",
       "       'model=Genesis Coupe', 'model=Ghibli', 'model=Ghost',\n",
       "       'model=Ghost Series II', 'model=Golf', 'model=Golf Alltrack',\n",
       "       'model=Golf GTI', 'model=Golf R', 'model=Golf SportWagen',\n",
       "       'model=GranSport', 'model=GranTurismo',\n",
       "       'model=GranTurismo Convertible', 'model=Grand Am',\n",
       "       'model=Grand Caravan', 'model=Grand Prix', 'model=Grand Vitara',\n",
       "       'model=Grand Voyager', 'model=H3', 'model=H3T', 'model=HHR',\n",
       "       'model=HR-V', 'model=HS 250h', 'model=Highlander',\n",
       "       'model=Highlander Hybrid', 'model=Horizon', 'model=Huracan',\n",
       "       'model=I30', 'model=I35', 'model=ILX', 'model=ILX Hybrid',\n",
       "       'model=IS 250', 'model=IS 250 C', 'model=IS 300', 'model=IS 350',\n",
       "       'model=IS 350 C', 'model=IS F', 'model=Impala',\n",
       "       'model=Impala Limited', 'model=Imperial', 'model=Impreza',\n",
       "       'model=Impreza WRX', 'model=Insight', 'model=Integra',\n",
       "       'model=Intrepid', 'model=Intrigue', 'model=J30', 'model=JX',\n",
       "       'model=Jetta', 'model=Jetta GLI', 'model=Jetta Hybrid',\n",
       "       'model=Jetta SportWagen', 'model=Jimmy', 'model=Journey',\n",
       "       'model=Juke', 'model=Justy', 'model=K900', 'model=Kizashi',\n",
       "       'model=LFA', 'model=LHS', 'model=LR2', 'model=LR3', 'model=LR4',\n",
       "       'model=LS', 'model=LS 400', 'model=LS 430', 'model=LS 460',\n",
       "       'model=LS 600h L', 'model=LSS', 'model=LTD Crown Victoria',\n",
       "       'model=LX 450', 'model=LX 470', 'model=LX 570', 'model=LaCrosse',\n",
       "       'model=Lancer', 'model=Lancer Evolution', 'model=Lancer Sportback',\n",
       "       'model=Land Cruiser', 'model=Landaulet', 'model=Laser',\n",
       "       'model=Le Baron', 'model=Le Mans', 'model=LeSabre', 'model=Leaf',\n",
       "       'model=Legacy', 'model=Legend', 'model=Levante', 'model=Loyale',\n",
       "       'model=Lucerne', 'model=Lumina', 'model=Lumina Minivan', 'model=M',\n",
       "       'model=M-Class', 'model=M2', 'model=M3', 'model=M30', 'model=M35',\n",
       "       'model=M37', 'model=M4', 'model=M45', 'model=M5', 'model=M56',\n",
       "       'model=M6', 'model=M6 Gran Coupe', 'model=MDX', 'model=MKC',\n",
       "       'model=MKS', 'model=MKT', 'model=MKX', 'model=MKZ',\n",
       "       'model=MKZ Hybrid', 'model=ML55 AMG', 'model=MP4-12C', 'model=MPV',\n",
       "       'model=MR2', 'model=MR2 Spyder', 'model=MX-3', 'model=MX-5 Miata',\n",
       "       'model=MX-6', 'model=Macan', 'model=Magnum', 'model=Malibu',\n",
       "       'model=Malibu Classic', 'model=Malibu Hybrid',\n",
       "       'model=Malibu Limited', 'model=Malibu Maxx', 'model=Mark LT',\n",
       "       'model=Mark VII', 'model=Mark VIII', 'model=Matrix',\n",
       "       'model=Maxima', 'model=Maybach', 'model=Mazdaspeed 3',\n",
       "       'model=Mazdaspeed 6', 'model=Mazdaspeed MX-5 Miata',\n",
       "       'model=Mazdaspeed Protege', 'model=Metris', 'model=Metro',\n",
       "       'model=Millenia', 'model=Mirage', 'model=Mirage G4',\n",
       "       'model=Model S', 'model=Monaco', 'model=Montana',\n",
       "       'model=Monte Carlo', 'model=Montero', 'model=Montero Sport',\n",
       "       'model=Mulsanne', 'model=Murano', 'model=Murano CrossCabriolet',\n",
       "       'model=Murcielago', 'model=Mustang', 'model=Mustang SVT Cobra',\n",
       "       'model=NSX', 'model=NV200', 'model=NX', 'model=NX 200t',\n",
       "       'model=NX 300h', 'model=Navajo', 'model=Navigator', 'model=Neon',\n",
       "       'model=New Beetle', 'model=New Yorker', 'model=Ninety-Eight',\n",
       "       'model=Nitro', 'model=Odyssey', 'model=Optima',\n",
       "       'model=Optima Hybrid', 'model=Outback', 'model=Outlander',\n",
       "       'model=Outlander Sport', 'model=PT Cruiser', 'model=Pacifica',\n",
       "       'model=Panamera', 'model=Park Avenue', 'model=Park Ward',\n",
       "       'model=Paseo', 'model=Passat', 'model=Passport',\n",
       "       'model=Pathfinder', 'model=Phaeton', 'model=Phantom',\n",
       "       'model=Phantom Coupe', 'model=Phantom Drophead Coupe',\n",
       "       'model=Pickup', 'model=Pilot', 'model=Prelude', 'model=Previa',\n",
       "       'model=Prius', 'model=Prius Prime', 'model=Prius c',\n",
       "       'model=Prius v', 'model=Prizm', 'model=Probe', 'model=Protege',\n",
       "       'model=Prowler', 'model=Pulsar', 'model=Q3', 'model=Q40',\n",
       "       'model=Q45', 'model=Q5', 'model=Q50', 'model=Q60 Convertible',\n",
       "       'model=Q60 Coupe', 'model=Q7', 'model=Q70', 'model=QX',\n",
       "       'model=QX4', 'model=QX50', 'model=QX56', 'model=QX60',\n",
       "       'model=QX70', 'model=QX80', 'model=Quattroporte', 'model=Quest',\n",
       "       'model=R-Class', 'model=R8', 'model=RAM 150', 'model=RAM 250',\n",
       "       'model=RAV4', 'model=RAV4 EV', 'model=RAV4 Hybrid',\n",
       "       'model=RC 200t', 'model=RC 300', 'model=RC 350', 'model=RC F',\n",
       "       'model=RDX', 'model=RL', 'model=RLX', 'model=RS 5', 'model=RS 7',\n",
       "       'model=RSX', 'model=RX 300', 'model=RX 330', 'model=RX 350',\n",
       "       'model=RX 400h', 'model=RX 450h', 'model=RX-8', 'model=Rabbit',\n",
       "       'model=Raider', 'model=Rainier', 'model=Rally Wagon',\n",
       "       'model=Ram 50 Pickup', 'model=Ram Cargo', 'model=Ram Pickup 1500',\n",
       "       'model=Ram Van', 'model=Ram Wagon', 'model=Ramcharger',\n",
       "       'model=Range Rover', 'model=Range Rover Evoque',\n",
       "       'model=Range Rover Sport', 'model=Ranger', 'model=Rapide',\n",
       "       'model=Reatta', 'model=Regal', 'model=Regency', 'model=Rendezvous',\n",
       "       'model=Reno', 'model=Ridgeline', 'model=Rio', 'model=Riviera',\n",
       "       'model=Roadmaster', 'model=Rogue', 'model=Rogue Select',\n",
       "       'model=Rondo', 'model=Routan', 'model=S-10', 'model=S-10 Blazer',\n",
       "       'model=S-15', 'model=S-15 Jimmy', 'model=S-Class', 'model=S2000',\n",
       "       'model=S3', 'model=S4', 'model=S40', 'model=S5', 'model=S6',\n",
       "       'model=S60', 'model=S60 Cross Country', 'model=S7', 'model=S70',\n",
       "       'model=S8', 'model=S80', 'model=S90', 'model=SC 300',\n",
       "       'model=SC 400', 'model=SC 430', 'model=SL-Class',\n",
       "       'model=SLK-Class', 'model=SLR McLaren', 'model=SLS AMG',\n",
       "       'model=SLS AMG GT', 'model=SLX', 'model=SQ5', 'model=SRT Viper',\n",
       "       'model=SRX', 'model=SS', 'model=SSR', 'model=STS', 'model=STS-V',\n",
       "       'model=SVX', 'model=SX4', 'model=Safari', 'model=Safari Cargo',\n",
       "       'model=Samurai', 'model=Santa Fe', 'model=Santa Fe Sport',\n",
       "       'model=Savana', 'model=Savana Cargo', 'model=Scoupe',\n",
       "       'model=Sebring', 'model=Sedona', 'model=Sentra', 'model=Sephia',\n",
       "       'model=Sequoia', 'model=Seville', 'model=Shadow',\n",
       "       'model=Shelby GT350', 'model=Shelby GT500', 'model=Sidekick',\n",
       "       'model=Sienna', 'model=Sierra 1500', 'model=Sierra 1500 Classic',\n",
       "       'model=Sierra 1500 Hybrid', 'model=Sierra 1500HD',\n",
       "       'model=Sierra C3', 'model=Sierra Classic 1500', 'model=Sigma',\n",
       "       'model=Silhouette', 'model=Silver Seraph', 'model=Silverado 1500',\n",
       "       'model=Silverado 1500 Classic', 'model=Silverado 1500 Hybrid',\n",
       "       'model=Sixty Special', 'model=Skylark', 'model=Solstice',\n",
       "       'model=Sonata', 'model=Sonata Hybrid', 'model=Sonic',\n",
       "       'model=Sonoma', 'model=Sorento', 'model=Soul', 'model=Soul EV',\n",
       "       'model=Spark', 'model=Spark EV', 'model=Spectra', 'model=Spirit',\n",
       "       'model=Sportage', 'model=Sportvan', 'model=Spyder', 'model=Stanza',\n",
       "       'model=Stealth', 'model=Stratus', 'model=Suburban',\n",
       "       'model=Sunbird', 'model=Sundance', 'model=Sunfire',\n",
       "       'model=Superamerica', 'model=Supra', 'model=Swift', 'model=T100',\n",
       "       'model=TC', 'model=TL', 'model=TLX', 'model=TSX',\n",
       "       'model=TSX Sport Wagon', 'model=TT', 'model=TT RS', 'model=TTS',\n",
       "       'model=Tacoma', 'model=Tahoe', 'model=Tahoe Hybrid',\n",
       "       'model=Tahoe Limited/Z71', 'model=Taurus', 'model=Taurus X',\n",
       "       'model=Tempo', 'model=Tercel', 'model=Terrain', 'model=Terraza',\n",
       "       'model=Thunderbird', 'model=Tiburon', 'model=Tiguan',\n",
       "       'model=Titan', 'model=Toronado', 'model=Torrent', 'model=Touareg',\n",
       "       'model=Touareg 2', 'model=Town Car', 'model=Town and Country',\n",
       "       'model=Tracker', 'model=TrailBlazer', 'model=TrailBlazer EXT',\n",
       "       'model=Trans Sport', 'model=Transit Connect',\n",
       "       'model=Transit Wagon', 'model=Traverse', 'model=Trax',\n",
       "       'model=Tribeca', 'model=Tribute', 'model=Tribute Hybrid',\n",
       "       'model=Truck', 'model=Tucson', 'model=Tundra', 'model=Typhoon',\n",
       "       'model=Uplander', 'model=V12 Vanquish', 'model=V12 Vantage',\n",
       "       'model=V12 Vantage S', 'model=V40', 'model=V50', 'model=V60',\n",
       "       'model=V60 Cross Country', 'model=V8', 'model=V8 Vantage',\n",
       "       'model=Van', 'model=Vanagon', 'model=Vandura', 'model=Vanquish',\n",
       "       'model=Vanwagon', 'model=Veloster', 'model=Venture', 'model=Venza',\n",
       "       'model=Veracruz', 'model=Verano', 'model=Verona', 'model=Versa',\n",
       "       'model=Versa Note', 'model=Veyron 16.4', 'model=Vibe',\n",
       "       'model=Vigor', 'model=Viper', 'model=Virage', 'model=Vitara',\n",
       "       'model=Voyager', 'model=WRX', 'model=Windstar',\n",
       "       'model=Windstar Cargo', 'model=Wraith', 'model=X-90', 'model=X1',\n",
       "       'model=X3', 'model=X4', 'model=X5', 'model=X5 M', 'model=X6',\n",
       "       'model=XC', 'model=XC60', 'model=XC70', 'model=XC90',\n",
       "       'model=XG300', 'model=XG350', 'model=XL-7', 'model=XL7',\n",
       "       'model=XLR', 'model=XLR-V', 'model=XT', 'model=XT5', 'model=XTS',\n",
       "       'model=XV Crosstrek', 'model=Xterra', 'model=Yaris',\n",
       "       'model=Yaris iA', 'model=Yukon', 'model=Yukon Hybrid',\n",
       "       'model=Yukon XL', 'model=Z3', 'model=Z4', 'model=Z4 M', 'model=Z8',\n",
       "       'model=ZDX', 'model=Zephyr', 'model=allroad',\n",
       "       'model=allroad quattro', 'model=e-Golf', 'model=i-MiEV',\n",
       "       'model=i3', 'model=iA', 'model=iM', 'model=iQ', 'model=tC',\n",
       "       'model=xA', 'model=xB', 'model=xD',\n",
       "       'transmission_type=AUTOMATED_MANUAL',\n",
       "       'transmission_type=AUTOMATIC', 'transmission_type=DIRECT_DRIVE',\n",
       "       'transmission_type=MANUAL', 'transmission_type=UNKNOWN',\n",
       "       'vehicle_style=2dr Hatchback', 'vehicle_style=2dr SUV',\n",
       "       'vehicle_style=4dr Hatchback', 'vehicle_style=4dr SUV',\n",
       "       'vehicle_style=Cargo Minivan', 'vehicle_style=Cargo Van',\n",
       "       'vehicle_style=Convertible', 'vehicle_style=Convertible SUV',\n",
       "       'vehicle_style=Coupe', 'vehicle_style=Crew Cab Pickup',\n",
       "       'vehicle_style=Extended Cab Pickup',\n",
       "       'vehicle_style=Passenger Minivan', 'vehicle_style=Passenger Van',\n",
       "       'vehicle_style=Regular Cab Pickup', 'vehicle_style=Sedan',\n",
       "       'vehicle_style=Wagon', 'year'], dtype=object)"
      ]
     },
     "execution_count": 39,
     "metadata": {},
     "output_type": "execute_result"
    }
   ],
   "source": [
    "dv.get_feature_names_out()"
   ]
  },
  {
   "cell_type": "code",
   "execution_count": 40,
   "id": "5c37c14e",
   "metadata": {},
   "outputs": [
    {
     "data": {
      "text/plain": [
       "array([[1.900e+01, 6.000e+00, 3.500e+02, ..., 0.000e+00, 0.000e+00,\n",
       "        2.015e+03],\n",
       "       [1.500e+01, 8.000e+00, 3.050e+02, ..., 0.000e+00, 0.000e+00,\n",
       "        2.000e+03],\n",
       "       [1.900e+01, 6.000e+00, 2.730e+02, ..., 0.000e+00, 0.000e+00,\n",
       "        2.015e+03],\n",
       "       ...,\n",
       "       [2.200e+01, 4.000e+00, 1.800e+02, ..., 1.000e+00, 0.000e+00,\n",
       "        2.013e+03],\n",
       "       [1.400e+01, 8.000e+00, 5.670e+02, ..., 0.000e+00, 0.000e+00,\n",
       "        2.015e+03],\n",
       "       [1.300e+01, 8.000e+00, 2.920e+02, ..., 0.000e+00, 0.000e+00,\n",
       "        2.008e+03]])"
      ]
     },
     "execution_count": 40,
     "metadata": {},
     "output_type": "execute_result"
    }
   ],
   "source": [
    "val_dict = df_val[categorical + numerical].to_dict(orient='records')\n",
    "X_val_ = dv.transform(val_dict)\n",
    "X_val_"
   ]
  },
  {
   "cell_type": "markdown",
   "id": "2ef39191",
   "metadata": {},
   "source": [
    "**Train the Logistic Regression**"
   ]
  },
  {
   "cell_type": "code",
   "execution_count": 41,
   "id": "a832011d",
   "metadata": {},
   "outputs": [],
   "source": [
    "from sklearn.linear_model import LogisticRegression"
   ]
  },
  {
   "cell_type": "code",
   "execution_count": 42,
   "id": "c6c5aa60",
   "metadata": {},
   "outputs": [
    {
     "data": {
      "text/html": [
       "<style>#sk-container-id-2 {color: black;background-color: white;}#sk-container-id-2 pre{padding: 0;}#sk-container-id-2 div.sk-toggleable {background-color: white;}#sk-container-id-2 label.sk-toggleable__label {cursor: pointer;display: block;width: 100%;margin-bottom: 0;padding: 0.3em;box-sizing: border-box;text-align: center;}#sk-container-id-2 label.sk-toggleable__label-arrow:before {content: \"▸\";float: left;margin-right: 0.25em;color: #696969;}#sk-container-id-2 label.sk-toggleable__label-arrow:hover:before {color: black;}#sk-container-id-2 div.sk-estimator:hover label.sk-toggleable__label-arrow:before {color: black;}#sk-container-id-2 div.sk-toggleable__content {max-height: 0;max-width: 0;overflow: hidden;text-align: left;background-color: #f0f8ff;}#sk-container-id-2 div.sk-toggleable__content pre {margin: 0.2em;color: black;border-radius: 0.25em;background-color: #f0f8ff;}#sk-container-id-2 input.sk-toggleable__control:checked~div.sk-toggleable__content {max-height: 200px;max-width: 100%;overflow: auto;}#sk-container-id-2 input.sk-toggleable__control:checked~label.sk-toggleable__label-arrow:before {content: \"▾\";}#sk-container-id-2 div.sk-estimator input.sk-toggleable__control:checked~label.sk-toggleable__label {background-color: #d4ebff;}#sk-container-id-2 div.sk-label input.sk-toggleable__control:checked~label.sk-toggleable__label {background-color: #d4ebff;}#sk-container-id-2 input.sk-hidden--visually {border: 0;clip: rect(1px 1px 1px 1px);clip: rect(1px, 1px, 1px, 1px);height: 1px;margin: -1px;overflow: hidden;padding: 0;position: absolute;width: 1px;}#sk-container-id-2 div.sk-estimator {font-family: monospace;background-color: #f0f8ff;border: 1px dotted black;border-radius: 0.25em;box-sizing: border-box;margin-bottom: 0.5em;}#sk-container-id-2 div.sk-estimator:hover {background-color: #d4ebff;}#sk-container-id-2 div.sk-parallel-item::after {content: \"\";width: 100%;border-bottom: 1px solid gray;flex-grow: 1;}#sk-container-id-2 div.sk-label:hover label.sk-toggleable__label {background-color: #d4ebff;}#sk-container-id-2 div.sk-serial::before {content: \"\";position: absolute;border-left: 1px solid gray;box-sizing: border-box;top: 0;bottom: 0;left: 50%;z-index: 0;}#sk-container-id-2 div.sk-serial {display: flex;flex-direction: column;align-items: center;background-color: white;padding-right: 0.2em;padding-left: 0.2em;position: relative;}#sk-container-id-2 div.sk-item {position: relative;z-index: 1;}#sk-container-id-2 div.sk-parallel {display: flex;align-items: stretch;justify-content: center;background-color: white;position: relative;}#sk-container-id-2 div.sk-item::before, #sk-container-id-2 div.sk-parallel-item::before {content: \"\";position: absolute;border-left: 1px solid gray;box-sizing: border-box;top: 0;bottom: 0;left: 50%;z-index: -1;}#sk-container-id-2 div.sk-parallel-item {display: flex;flex-direction: column;z-index: 1;position: relative;background-color: white;}#sk-container-id-2 div.sk-parallel-item:first-child::after {align-self: flex-end;width: 50%;}#sk-container-id-2 div.sk-parallel-item:last-child::after {align-self: flex-start;width: 50%;}#sk-container-id-2 div.sk-parallel-item:only-child::after {width: 0;}#sk-container-id-2 div.sk-dashed-wrapped {border: 1px dashed gray;margin: 0 0.4em 0.5em 0.4em;box-sizing: border-box;padding-bottom: 0.4em;background-color: white;}#sk-container-id-2 div.sk-label label {font-family: monospace;font-weight: bold;display: inline-block;line-height: 1.2em;}#sk-container-id-2 div.sk-label-container {text-align: center;}#sk-container-id-2 div.sk-container {/* jupyter's `normalize.less` sets `[hidden] { display: none; }` but bootstrap.min.css set `[hidden] { display: none !important; }` so we also need the `!important` here to be able to override the default hidden behavior on the sphinx rendered scikit-learn.org. See: https://github.com/scikit-learn/scikit-learn/issues/21755 */display: inline-block !important;position: relative;}#sk-container-id-2 div.sk-text-repr-fallback {display: none;}</style><div id=\"sk-container-id-2\" class=\"sk-top-container\"><div class=\"sk-text-repr-fallback\"><pre>LogisticRegression(max_iter=1000, solver=&#x27;liblinear&#x27;)</pre><b>In a Jupyter environment, please rerun this cell to show the HTML representation or trust the notebook. <br />On GitHub, the HTML representation is unable to render, please try loading this page with nbviewer.org.</b></div><div class=\"sk-container\" hidden><div class=\"sk-item\"><div class=\"sk-estimator sk-toggleable\"><input class=\"sk-toggleable__control sk-hidden--visually\" id=\"sk-estimator-id-2\" type=\"checkbox\" checked><label for=\"sk-estimator-id-2\" class=\"sk-toggleable__label sk-toggleable__label-arrow\">LogisticRegression</label><div class=\"sk-toggleable__content\"><pre>LogisticRegression(max_iter=1000, solver=&#x27;liblinear&#x27;)</pre></div></div></div></div></div>"
      ],
      "text/plain": [
       "LogisticRegression(max_iter=1000, solver='liblinear')"
      ]
     },
     "execution_count": 42,
     "metadata": {},
     "output_type": "execute_result"
    }
   ],
   "source": [
    "model = LogisticRegression(solver='liblinear', C=1.0, max_iter=1000)\n",
    "model.fit(X_train_, y_train_)"
   ]
  },
  {
   "cell_type": "code",
   "execution_count": 43,
   "id": "f55474e5",
   "metadata": {},
   "outputs": [
    {
     "data": {
      "text/plain": [
       "-0.18610156467085961"
      ]
     },
     "execution_count": 43,
     "metadata": {},
     "output_type": "execute_result"
    }
   ],
   "source": [
    "model.intercept_[0]"
   ]
  },
  {
   "cell_type": "code",
   "execution_count": 44,
   "id": "034fc05e",
   "metadata": {},
   "outputs": [
    {
     "data": {
      "text/plain": [
       "array([ 1.600e-02, -1.360e-01,  3.600e-02,  6.500e-02,  8.940e-01,\n",
       "        8.290e-01,  4.090e-01,  2.269e+00,  1.837e+00,  1.060e-01,\n",
       "        0.000e+00, -6.290e-01,  2.232e+00, -1.432e+00, -8.690e-01,\n",
       "       -2.962e+00, -2.760e-01,  4.860e-01, -1.466e+00, -8.180e-01,\n",
       "        2.070e-01, -1.600e-02, -1.312e+00, -2.195e+00,  1.230e-01,\n",
       "       -1.426e+00,  5.000e-03,  1.858e+00,  1.286e+00,  1.440e+00,\n",
       "        2.990e+00,  8.160e-01,  2.000e-03, -1.227e+00,  0.000e+00,\n",
       "        7.270e-01, -1.267e+00, -1.008e+00, -1.012e+00, -1.740e-01,\n",
       "       -2.345e+00,  1.420e+00,  7.680e-01,  7.790e-01, -1.610e-01,\n",
       "        1.070e-01, -1.768e+00, -1.362e+00,  2.200e+00, -7.330e-01,\n",
       "       -5.790e-01,  1.059e+00, -3.780e-01,  7.100e-02, -9.100e-02,\n",
       "       -1.500e-02, -1.000e-02, -1.000e-03, -9.580e-01, -5.760e-01,\n",
       "       -2.000e-03, -5.000e-03, -3.000e-03, -8.300e-02, -3.620e-01,\n",
       "        3.480e-01,  3.000e-01, -3.230e-01, -8.700e-02, -1.400e-01,\n",
       "       -1.280e-01, -0.000e+00, -7.000e-03, -9.100e-01,  3.780e-01,\n",
       "        3.880e-01,  1.250e+00,  6.780e-01, -2.450e-01, -1.100e-02,\n",
       "        7.000e-02,  0.000e+00,  8.290e-01, -3.550e-01, -1.700e-02,\n",
       "        9.870e-01,  7.000e-01, -4.200e-02, -1.030e+00, -4.100e-02,\n",
       "       -1.370e-01, -4.100e-02,  3.000e-03, -3.400e-02,  2.000e-03,\n",
       "        9.000e-03,  0.000e+00, -8.500e-02,  2.470e-01,  1.410e-01,\n",
       "       -1.656e+00, -3.000e-03,  2.000e-03,  0.000e+00, -2.000e-03,\n",
       "        0.000e+00,  1.060e-01,  2.460e-01, -5.200e-02, -1.600e-02,\n",
       "       -1.700e-02, -7.190e-01, -1.900e-02, -6.170e-01, -1.400e-02,\n",
       "       -5.000e-02,  3.460e-01,  4.660e-01, -2.460e-01,  7.260e-01,\n",
       "       -2.490e-01, -4.500e-02, -1.810e-01, -3.200e-02,  4.020e-01,\n",
       "       -5.480e-01, -6.000e-03, -4.400e-02, -1.140e-01, -6.000e-02,\n",
       "       -4.700e-01, -5.820e-01, -5.330e-01,  3.630e-01,  1.051e+00,\n",
       "        1.069e+00,  1.990e-01,  4.000e-02,  0.000e+00,  0.000e+00,\n",
       "        3.000e-03, -1.185e+00, -3.800e-02,  2.000e-03,  7.820e-01,\n",
       "        6.380e-01, -6.000e-03, -1.000e-03, -7.190e-01, -8.800e-02,\n",
       "       -1.890e-01, -2.600e-02, -4.000e-03,  2.400e-02,  1.500e-02,\n",
       "        0.000e+00, -2.400e-02, -3.000e-03, -3.000e-02, -2.930e-01,\n",
       "        6.000e-03, -4.760e-01, -1.900e-02, -2.600e-02,  1.441e+00,\n",
       "        4.600e-02, -3.770e-01, -0.000e+00, -7.000e-03, -6.000e-03,\n",
       "       -6.400e-02,  7.160e-01, -2.560e-01,  3.910e-01, -7.800e-02,\n",
       "        0.000e+00, -1.000e-03,  2.170e-01, -1.000e-03, -1.600e-01,\n",
       "       -1.600e-02,  5.000e-03,  1.640e-01, -2.000e-03, -2.000e-03,\n",
       "       -3.000e-03, -5.570e-01, -1.700e-02, -4.200e-02, -1.220e-01,\n",
       "       -1.149e+00, -0.000e+00,  1.220e-01,  1.860e-01, -1.900e-02,\n",
       "       -4.650e-01, -2.800e-02, -8.010e-01,  3.820e-01, -5.250e-01,\n",
       "       -4.000e-03, -4.000e-03, -1.000e-03,  1.000e-03, -2.600e-02,\n",
       "        1.180e+00, -4.100e-02, -1.600e-02, -4.000e-03, -4.100e-02,\n",
       "       -1.280e-01, -6.400e-01, -2.370e-01,  1.070e-01,  3.070e-01,\n",
       "       -2.120e-01,  1.800e-02, -8.500e-02,  3.130e-01,  2.890e-01,\n",
       "       -2.060e-01, -5.000e-03, -1.700e-02,  9.300e-02,  8.640e-01,\n",
       "       -7.720e-01,  6.320e-01,  0.000e+00,  0.000e+00,  0.000e+00,\n",
       "       -4.200e-02, -1.750e-01, -2.250e-01, -2.700e-02, -1.600e-02,\n",
       "       -2.190e-01,  4.460e-01, -4.000e-03,  2.000e-03, -1.389e+00,\n",
       "       -2.850e-01, -1.330e-01, -1.940e-01, -1.491e+00, -6.000e-03,\n",
       "       -4.000e-02, -3.000e-03,  0.000e+00, -1.190e-01, -1.800e-01,\n",
       "       -4.000e-03,  2.890e-01,  6.680e-01, -1.000e-03, -1.000e-02,\n",
       "       -3.000e-03, -8.020e-01, -1.319e+00, -5.000e-03, -5.000e-03,\n",
       "       -2.000e-03, -1.000e-03, -1.410e-01, -0.000e+00, -3.000e-03,\n",
       "       -1.000e-03, -2.600e-02, -9.200e-01, -8.000e-03, -1.260e-01,\n",
       "        7.680e-01,  0.000e+00,  0.000e+00,  5.000e-03,  0.000e+00,\n",
       "        0.000e+00,  0.000e+00,  0.000e+00,  0.000e+00,  0.000e+00,\n",
       "       -1.000e-03, -4.000e-03,  9.300e-02, -4.300e-02, -1.000e-03,\n",
       "       -2.000e-03, -0.000e+00,  3.330e-01,  3.700e-02,  3.550e-01,\n",
       "       -6.000e-03,  3.550e-01, -2.200e-01, -2.800e-02, -1.800e-02,\n",
       "       -3.400e-02, -6.000e-03, -3.000e-03, -5.000e-03, -5.000e-03,\n",
       "       -2.200e-02, -1.400e-02, -1.400e-02,  1.440e-01,  3.000e-03,\n",
       "        0.000e+00,  2.000e-02,  1.191e+00, -3.300e-02, -1.300e-02,\n",
       "       -3.000e-03,  7.780e-01, -4.200e-02, -3.100e-02,  1.030e-01,\n",
       "       -2.400e-01, -5.100e-02,  1.887e+00, -0.000e+00, -1.400e-02,\n",
       "       -1.100e-02,  2.034e+00, -3.700e-02, -6.400e-02, -7.770e-01,\n",
       "       -3.000e-03, -3.000e-03, -5.400e-02,  2.170e-01, -1.460e-01,\n",
       "       -8.780e-01, -1.680e+00, -1.393e+00, -4.600e-02, -2.570e-01,\n",
       "       -2.460e-01, -3.500e-02, -4.300e-02, -3.200e-02, -7.000e-03,\n",
       "       -5.000e-03, -1.000e-03, -2.800e-02, -4.000e-03, -3.000e-02,\n",
       "        1.135e+00,  1.089e+00, -1.010e-01, -1.040e-01, -1.500e-02,\n",
       "       -5.300e-02, -8.280e-01, -8.230e-01,  2.180e-01, -2.270e-01,\n",
       "       -9.900e-02,  1.890e-01,  1.700e-02,  2.100e-02,  1.400e-02,\n",
       "        1.360e-01, -5.500e-02, -5.200e-02, -2.000e-03,  1.180e-01,\n",
       "       -1.100e-02, -2.900e-02,  8.610e-01, -0.000e+00,  8.760e-01,\n",
       "        1.351e+00,  1.520e-01, -2.400e-02, -3.320e-01, -1.000e-03,\n",
       "       -2.310e-01, -3.800e-02,  6.370e-01, -1.100e-02, -5.900e-02,\n",
       "       -1.500e-02,  0.000e+00,  2.000e-02,  0.000e+00, -2.830e-01,\n",
       "       -1.000e-01,  5.760e-01,  1.210e-01,  4.340e-01,  1.700e-02,\n",
       "       -0.000e+00, -4.000e-03, -5.760e-01, -7.000e-03, -3.900e-02,\n",
       "       -4.540e-01, -2.990e-01,  1.000e-03, -2.900e-02, -7.000e-03,\n",
       "       -9.000e-03, -2.440e-01, -4.100e-02, -1.000e-03, -1.670e-01,\n",
       "       -1.500e-02, -2.300e-02, -6.940e-01, -1.130e-01, -5.300e-02,\n",
       "        3.960e-01,  3.790e-01, -6.580e-01,  2.500e-02, -8.000e-03,\n",
       "       -0.000e+00, -9.650e-01, -1.121e+00,  4.800e-02, -3.700e-01,\n",
       "       -6.490e-01, -5.000e-03, -1.300e-01, -7.050e-01,  2.070e-01,\n",
       "        5.740e-01, -6.220e-01,  4.000e-03,  2.170e-01,  0.000e+00,\n",
       "       -9.500e-02, -8.610e-01,  1.700e-02,  7.560e-01,  2.870e-01,\n",
       "        5.050e-01, -2.770e-01,  3.840e-01,  6.800e-02,  5.800e-02,\n",
       "        1.000e-03,  4.000e-03,  3.000e-03, -1.520e-01, -4.060e-01,\n",
       "        1.180e-01,  2.510e-01, -1.300e-02,  4.000e-03, -1.190e-01,\n",
       "       -6.300e-01,  1.930e-01,  0.000e+00,  0.000e+00, -2.600e-02,\n",
       "       -8.000e-03, -1.820e-01, -3.350e-01, -7.900e-02,  3.200e-02,\n",
       "        1.300e-02,  7.000e-03, -1.200e-02, -1.930e-01, -1.400e-01,\n",
       "       -4.100e-02, -1.400e-02,  1.460e-01, -1.610e-01, -2.800e-02,\n",
       "       -2.300e-02, -6.000e-02,  8.800e-02,  7.450e-01, -0.000e+00,\n",
       "        0.000e+00, -6.700e-02, -1.870e-01, -4.590e-01, -8.000e-03,\n",
       "        2.190e-01,  2.890e-01, -1.820e-01,  5.600e-02,  6.000e-02,\n",
       "        6.000e-03,  6.710e-01, -5.650e-01, -3.000e-03, -3.000e-02,\n",
       "       -1.570e-01, -3.000e-03, -3.200e-02, -1.700e-02, -6.700e-02,\n",
       "       -5.400e-02,  2.950e-01, -2.480e-01, -2.560e-01, -1.210e-01,\n",
       "       -8.500e-02, -8.200e-02, -5.410e-01, -5.900e-02, -0.000e+00,\n",
       "        4.090e-01, -6.800e-02,  0.000e+00, -2.900e-02,  3.200e-02,\n",
       "        2.400e-01,  1.130e-01, -9.800e-02, -4.850e-01,  4.570e-01,\n",
       "        2.380e-01,  8.000e-03, -8.300e-02, -3.000e-03, -1.170e-01,\n",
       "        5.710e-01,  1.100e-02, -7.190e-01, -5.100e-02, -2.460e-01,\n",
       "       -3.000e-03,  1.740e-01,  0.000e+00, -1.100e-02, -1.300e-02,\n",
       "       -0.000e+00, -2.700e-02, -4.600e-02, -7.200e-02, -1.460e-01,\n",
       "        4.700e-02, -0.000e+00,  2.400e-01, -5.000e-03, -0.000e+00,\n",
       "        5.280e-01,  1.053e+00,  2.900e-02,  3.000e-03, -3.300e-02,\n",
       "        9.030e-01,  1.530e-01,  1.000e-02,  6.210e-01,  0.000e+00,\n",
       "        1.200e-02,  0.000e+00,  0.000e+00,  1.213e+00, -4.570e-01,\n",
       "       -4.850e-01,  6.000e-02,  4.310e-01,  3.990e-01, -8.800e-02,\n",
       "       -4.300e-01,  0.000e+00, -1.200e-02, -6.000e-03, -1.600e-02,\n",
       "       -0.000e+00, -8.600e-02, -2.000e-03,  2.540e-01, -1.088e+00,\n",
       "       -1.780e-01, -9.000e-03, -7.000e-03, -2.200e-02, -1.200e-02,\n",
       "        1.520e-01, -9.100e-02, -5.840e-01, -4.000e-03, -6.110e-01,\n",
       "        1.000e-03, -8.000e-03, -5.600e-02, -1.000e-02, -1.000e-03,\n",
       "       -7.900e-02, -0.000e+00, -2.200e-02, -2.000e-03, -1.000e-03,\n",
       "        2.200e+00, -1.000e-03, -2.600e-02, -1.350e-01, -2.500e-02,\n",
       "       -7.300e-02,  3.000e-03, -1.710e-01,  8.510e-01,  0.000e+00,\n",
       "       -1.746e+00, -1.670e-01,  1.018e+00, -2.000e-03, -1.000e-03,\n",
       "       -1.414e+00, -2.610e-01, -4.000e-03,  7.600e-02, -1.400e-02,\n",
       "       -6.000e-02, -2.400e-02, -3.400e-02, -8.600e-02,  6.390e-01,\n",
       "       -2.080e-01, -7.200e-02, -1.950e-01, -1.100e-01, -9.400e-02,\n",
       "       -5.000e-03, -1.610e-01,  3.090e-01,  4.430e-01,  3.160e-01,\n",
       "       -1.000e-03, -3.670e-01, -1.000e-01,  1.000e-02,  8.320e-01,\n",
       "        2.800e-02,  1.300e-02,  1.000e-03, -1.000e-03,  4.000e-02,\n",
       "       -7.000e-03, -1.300e-02, -1.700e-02, -6.000e-03, -3.000e-03,\n",
       "       -2.200e-02, -2.000e-03, -1.000e-03, -3.000e-03,  6.320e-01,\n",
       "       -0.000e+00, -1.198e+00, -6.210e-01,  4.240e-01,  6.260e-01,\n",
       "        5.400e-01,  1.610e-01,  1.123e+00,  5.750e-01,  9.220e-01,\n",
       "        2.500e-02, -2.560e-01, -1.685e+00,  4.350e-01,  1.513e+00,\n",
       "        4.350e-01,  4.000e-02,  6.700e-02,  5.200e-01,  8.790e-01,\n",
       "        1.500e-02, -4.000e-03, -2.000e-03, -1.400e-01,  9.800e-01,\n",
       "       -9.400e-02, -3.290e-01,  6.160e-01,  4.300e-01,  2.000e-03,\n",
       "       -1.414e+00,  1.047e+00,  4.820e-01,  1.000e-03,  0.000e+00,\n",
       "       -3.500e-02, -4.250e-01, -4.030e-01,  7.000e-01,  3.550e-01,\n",
       "        1.940e-01, -3.400e-02, -1.300e-02, -5.300e-02, -2.770e-01,\n",
       "       -6.000e-03, -0.000e+00, -3.000e-03, -5.620e-01, -5.000e-03,\n",
       "       -2.000e-03, -9.000e-03,  1.380e-01,  1.562e+00,  1.700e-01,\n",
       "       -9.000e-03,  9.000e-03, -1.500e-02, -5.800e-01, -1.700e-02,\n",
       "       -5.600e-02, -2.000e-03, -6.000e-02, -6.000e-03, -5.000e-02,\n",
       "       -1.700e-01, -9.000e-02, -6.000e-03, -2.500e-02,  6.600e-02,\n",
       "       -8.000e-03, -1.100e-02, -1.000e-03, -5.000e-03,  1.300e-02,\n",
       "       -1.640e-01,  2.650e-01,  2.550e-01, -2.580e-01,  8.800e-02,\n",
       "        2.000e-03, -4.170e-01,  3.260e-01,  1.000e-03, -8.100e-02,\n",
       "        0.000e+00,  2.720e-01,  3.480e-01, -1.040e-01, -6.350e-01,\n",
       "        2.170e-01,  8.000e-03,  8.680e-01,  0.000e+00,  0.000e+00,\n",
       "        0.000e+00, -1.000e-01,  2.200e-02,  1.000e-03,  3.020e-01,\n",
       "        2.220e-01,  3.170e-01,  2.650e-01,  1.000e-03, -2.000e-02,\n",
       "       -1.500e-02, -7.000e-03, -4.000e-03, -0.000e+00, -7.800e-01,\n",
       "       -1.200e-01, -5.410e-01, -2.240e-01, -0.000e+00, -1.990e-01,\n",
       "        4.800e-02, -1.700e-02, -1.000e-03,  8.950e-01,  3.770e-01,\n",
       "       -1.000e-03,  1.200e-02,  2.000e-03, -2.000e-03,  8.700e-01,\n",
       "        1.096e+00, -6.010e-01,  4.850e-01, -1.800e-01, -4.200e-02,\n",
       "       -3.000e-03, -0.000e+00, -3.900e-02,  3.160e-01,  1.203e+00,\n",
       "       -4.090e-01,  1.073e+00, -5.200e-02, -1.200e-02, -1.280e-01,\n",
       "       -1.630e-01, -4.900e-02, -1.800e-02, -9.000e-03, -7.980e-01,\n",
       "       -1.000e-02, -2.500e-02, -2.000e-03, -8.320e-01, -1.200e-02,\n",
       "       -0.000e+00, -3.040e-01, -5.000e-03,  9.800e-02, -2.000e-03,\n",
       "       -6.700e-02, -1.200e-02,  9.970e-01, -4.000e-03, -1.000e-03,\n",
       "       -1.000e-03,  1.000e-03, -3.000e-01, -0.000e+00, -3.000e-03,\n",
       "       -1.500e-02, -3.160e-01, -2.900e-01, -6.120e-01, -1.950e-01,\n",
       "        4.360e-01,  2.100e-02,  7.000e-02, -1.146e+00,  8.670e-01,\n",
       "        5.900e-01, -3.800e-02, -4.340e-01, -1.930e-01, -1.000e-03,\n",
       "       -1.000e-03, -2.580e-01, -1.090e-01, -6.560e-01, -4.000e-03,\n",
       "       -3.090e-01, -5.260e-01, -7.000e-03, -1.620e-01,  1.749e+00,\n",
       "        7.920e-01,  1.073e+00, -6.800e-01, -1.100e-02, -2.410e+00,\n",
       "       -3.870e-01, -4.000e-03, -6.100e-02,  1.267e+00, -1.810e-01,\n",
       "       -3.300e-02, -3.900e-02, -2.780e-01, -3.800e-02, -3.000e-03,\n",
       "       -6.600e-02, -9.550e-01, -6.600e-02, -1.330e-01,  1.200e-02,\n",
       "        1.800e-02,  1.000e-03, -5.400e-02, -1.890e-01, -5.160e-01,\n",
       "        1.128e+00, -7.190e-01,  1.980e-01, -0.000e+00, -1.000e-03,\n",
       "       -1.400e-02,  1.000e-03, -0.000e+00, -2.100e-02, -2.200e-02,\n",
       "       -5.610e-01, -1.990e-01, -1.050e-01, -7.000e-03, -6.000e-03,\n",
       "       -3.000e-03,  0.000e+00, -2.000e-03, -9.000e-03,  3.000e-03,\n",
       "        3.000e-03, -1.000e-02, -3.000e-02, -3.270e-01, -4.100e-02,\n",
       "       -5.000e-03,  0.000e+00, -1.000e-03, -9.680e-01, -3.930e-01,\n",
       "        2.170e-01,  3.540e-01,  0.000e+00,  1.960e-01, -3.200e-02,\n",
       "        2.880e-01,  6.260e-01,  7.070e-01, -4.000e-03, -5.000e-03,\n",
       "       -9.600e-02, -8.490e-01,  1.400e-02,  1.000e-03, -0.000e+00,\n",
       "        6.000e-02,  4.890e-01, -3.900e-02, -4.440e-01, -4.000e-03,\n",
       "       -1.000e-03,  3.330e-01,  5.990e-01,  6.340e-01, -4.140e-01,\n",
       "        2.370e-01,  1.540e-01,  1.700e-02,  9.610e-01, -7.500e-02,\n",
       "        1.009e+00, -3.330e-01, -8.850e-01, -7.000e-02,  5.000e-03,\n",
       "       -1.000e-03, -1.000e-03, -0.000e+00, -3.200e-02, -1.000e-03,\n",
       "       -2.200e-02, -4.000e-03, -9.400e-02, -1.210e-01,  9.790e-01,\n",
       "       -7.950e-01, -1.560e-01, -1.414e+00,  3.180e-01, -1.333e+00,\n",
       "        1.187e+00, -8.100e-02, -3.400e-01,  1.737e+00,  1.025e+00,\n",
       "       -1.820e-01,  5.020e-01, -1.043e+00,  7.340e-01,  4.080e-01,\n",
       "       -2.049e+00,  3.900e-02,  3.060e-01, -6.000e-03])"
      ]
     },
     "execution_count": 44,
     "metadata": {},
     "output_type": "execute_result"
    }
   ],
   "source": [
    "model.coef_[0].round(3)"
   ]
  },
  {
   "cell_type": "code",
   "execution_count": 45,
   "id": "dc47d573",
   "metadata": {},
   "outputs": [
    {
     "data": {
      "text/plain": [
       "array([0.65686766, 0.00692269, 0.36375281, ..., 0.0041994 , 0.99998882,\n",
       "       0.06719429])"
      ]
     },
     "execution_count": 45,
     "metadata": {},
     "output_type": "execute_result"
    }
   ],
   "source": [
    "pd.options.display.float_format = '{:.3f}'.format\n",
    "\n",
    "y_pred = model.predict_proba(X_val_)[:, 1]\n",
    "y_pred"
   ]
  },
  {
   "cell_type": "code",
   "execution_count": 46,
   "id": "5985a825",
   "metadata": {},
   "outputs": [
    {
     "name": "stdout",
     "output_type": "stream",
     "text": [
      "roc_auc_score --> 0.98\n"
     ]
    }
   ],
   "source": [
    "from sklearn.metrics import roc_auc_score\n",
    "\n",
    "score_roc_auc = round(roc_auc_score(y_val_, y_pred), 3)\n",
    "print(\"roc_auc_score -->\", score_roc_auc)"
   ]
  },
  {
   "cell_type": "markdown",
   "id": "2e33ae28",
   "metadata": {},
   "source": [
    "### Question 3: Precision and Recall\n",
    "\n",
    "Now let's compute precision and recall for our model.\n",
    "\n",
    "* Evaluate the model on all thresholds from 0.0 to 1.0 with step 0.01\n",
    "* For each threshold, compute precision and recall\n",
    "* Plot them\n",
    "\n",
    "At which threshold precision and recall curves intersect?\n",
    "\n",
    "* 0.28\n",
    "* 0.48\n",
    "* 0.68\n",
    "* 0.88"
   ]
  },
  {
   "cell_type": "markdown",
   "id": "855ab4d0",
   "metadata": {},
   "source": [
    "**Compute precision and recall**"
   ]
  },
  {
   "cell_type": "code",
   "execution_count": 47,
   "id": "faa9759d",
   "metadata": {},
   "outputs": [],
   "source": [
    "from sklearn.metrics import precision_score, recall_score"
   ]
  },
  {
   "cell_type": "code",
   "execution_count": 48,
   "id": "f108648d",
   "metadata": {},
   "outputs": [],
   "source": [
    "thresholds = np.arange(0.0, 1.0, 0.01)\n",
    "\n",
    "score_pre_rec = []\n",
    "\n",
    "for t in thresholds:\n",
    "    score_precision = precision_score(y_val_, y_pred >= t)\n",
    "    score_recall = recall_score(y_val_, y_pred >= t)\n",
    "    score_pre_rec.append({score_precision, score_recall})"
   ]
  },
  {
   "cell_type": "code",
   "execution_count": 49,
   "id": "9e5058a6",
   "metadata": {},
   "outputs": [
    {
     "data": {
      "text/html": [
       "<div>\n",
       "<style scoped>\n",
       "    .dataframe tbody tr th:only-of-type {\n",
       "        vertical-align: middle;\n",
       "    }\n",
       "\n",
       "    .dataframe tbody tr th {\n",
       "        vertical-align: top;\n",
       "    }\n",
       "\n",
       "    .dataframe thead th {\n",
       "        text-align: right;\n",
       "    }\n",
       "</style>\n",
       "<table border=\"1\" class=\"dataframe\">\n",
       "  <thead>\n",
       "    <tr style=\"text-align: right;\">\n",
       "      <th></th>\n",
       "      <th>Threshold</th>\n",
       "      <th>Precision</th>\n",
       "      <th>Recall</th>\n",
       "    </tr>\n",
       "  </thead>\n",
       "  <tbody>\n",
       "    <tr>\n",
       "      <th>0</th>\n",
       "      <td>0.000</td>\n",
       "      <td>0.274</td>\n",
       "      <td>1.000</td>\n",
       "    </tr>\n",
       "    <tr>\n",
       "      <th>1</th>\n",
       "      <td>0.010</td>\n",
       "      <td>0.454</td>\n",
       "      <td>0.997</td>\n",
       "    </tr>\n",
       "    <tr>\n",
       "      <th>2</th>\n",
       "      <td>0.020</td>\n",
       "      <td>0.503</td>\n",
       "      <td>0.995</td>\n",
       "    </tr>\n",
       "    <tr>\n",
       "      <th>3</th>\n",
       "      <td>0.030</td>\n",
       "      <td>0.532</td>\n",
       "      <td>0.995</td>\n",
       "    </tr>\n",
       "    <tr>\n",
       "      <th>4</th>\n",
       "      <td>0.040</td>\n",
       "      <td>0.568</td>\n",
       "      <td>0.994</td>\n",
       "    </tr>\n",
       "    <tr>\n",
       "      <th>...</th>\n",
       "      <td>...</td>\n",
       "      <td>...</td>\n",
       "      <td>...</td>\n",
       "    </tr>\n",
       "    <tr>\n",
       "      <th>95</th>\n",
       "      <td>0.950</td>\n",
       "      <td>0.997</td>\n",
       "      <td>0.439</td>\n",
       "    </tr>\n",
       "    <tr>\n",
       "      <th>96</th>\n",
       "      <td>0.960</td>\n",
       "      <td>0.996</td>\n",
       "      <td>0.422</td>\n",
       "    </tr>\n",
       "    <tr>\n",
       "      <th>97</th>\n",
       "      <td>0.970</td>\n",
       "      <td>0.996</td>\n",
       "      <td>0.385</td>\n",
       "    </tr>\n",
       "    <tr>\n",
       "      <th>98</th>\n",
       "      <td>0.980</td>\n",
       "      <td>0.358</td>\n",
       "      <td>1.000</td>\n",
       "    </tr>\n",
       "    <tr>\n",
       "      <th>99</th>\n",
       "      <td>0.990</td>\n",
       "      <td>0.294</td>\n",
       "      <td>1.000</td>\n",
       "    </tr>\n",
       "  </tbody>\n",
       "</table>\n",
       "<p>100 rows × 3 columns</p>\n",
       "</div>"
      ],
      "text/plain": [
       "    Threshold  Precision  Recall\n",
       "0       0.000      0.274   1.000\n",
       "1       0.010      0.454   0.997\n",
       "2       0.020      0.503   0.995\n",
       "3       0.030      0.532   0.995\n",
       "4       0.040      0.568   0.994\n",
       "..        ...        ...     ...\n",
       "95      0.950      0.997   0.439\n",
       "96      0.960      0.996   0.422\n",
       "97      0.970      0.996   0.385\n",
       "98      0.980      0.358   1.000\n",
       "99      0.990      0.294   1.000\n",
       "\n",
       "[100 rows x 3 columns]"
      ]
     },
     "execution_count": 49,
     "metadata": {},
     "output_type": "execute_result"
    }
   ],
   "source": [
    "scores = pd.DataFrame(score_pre_rec, columns = [\"Precision\", \"Recall\"])\n",
    "scores[\"Threshold\"] = thresholds\n",
    "\n",
    "last_column = scores.pop('Threshold')\n",
    "scores.insert(0, 'Threshold', last_column)\n",
    "\n",
    "scores.sort_values(\"Threshold\")"
   ]
  },
  {
   "cell_type": "code",
   "execution_count": 50,
   "id": "0b90b99b",
   "metadata": {},
   "outputs": [
    {
     "data": {
      "image/png": "[encoded data removed]",
      "text/plain": [
       "<Figure size 1000x600 with 1 Axes>"
      ]
     },
     "metadata": {},
     "output_type": "display_data"
    }
   ],
   "source": [
    "plt.figure(figsize=(10,6))\n",
    "\n",
    "plt.plot(scores.Threshold, scores.Precision)\n",
    "plt.plot(scores.Threshold, scores.Recall)\n",
    "plt.legend([\"Precision\", \"Recall\"])\n",
    "plt.xlabel(\"Threshold Value\")\n",
    "plt.ylabel(\"Precision & Recall Scores\")\n",
    "plt.xlim(0, 1)\n",
    "plt.ylim(0, 1)\n",
    "plt.show()"
   ]
  },
  {
   "cell_type": "code",
   "execution_count": 51,
   "id": "08fc6c20",
   "metadata": {},
   "outputs": [
    {
     "data": {
      "text/html": [
       "<div>\n",
       "<style scoped>\n",
       "    .dataframe tbody tr th:only-of-type {\n",
       "        vertical-align: middle;\n",
       "    }\n",
       "\n",
       "    .dataframe tbody tr th {\n",
       "        vertical-align: top;\n",
       "    }\n",
       "\n",
       "    .dataframe thead th {\n",
       "        text-align: right;\n",
       "    }\n",
       "</style>\n",
       "<table border=\"1\" class=\"dataframe\">\n",
       "  <thead>\n",
       "    <tr style=\"text-align: right;\">\n",
       "      <th></th>\n",
       "      <th>Threshold</th>\n",
       "      <th>Precision</th>\n",
       "      <th>Recall</th>\n",
       "    </tr>\n",
       "  </thead>\n",
       "  <tbody>\n",
       "    <tr>\n",
       "      <th>49</th>\n",
       "      <td>0.490</td>\n",
       "      <td>0.890</td>\n",
       "      <td>0.888</td>\n",
       "    </tr>\n",
       "  </tbody>\n",
       "</table>\n",
       "</div>"
      ],
      "text/plain": [
       "    Threshold  Precision  Recall\n",
       "49      0.490      0.890   0.888"
      ]
     },
     "execution_count": 51,
     "metadata": {},
     "output_type": "execute_result"
    }
   ],
   "source": [
    "scores.loc[abs(scores['Precision'] - scores['Recall']) < 0.005]"
   ]
  },
  {
   "cell_type": "markdown",
   "id": "4edafb1e",
   "metadata": {},
   "source": [
    "### Question 4: F1 score\n",
    "\n",
    "Precision and recall are conflicting - when one grows, the other goes down. That's why they are often combined into the F1 score - a metrics that takes into account both\n",
    "\n",
    "This is the formula for computing F1:\n",
    "\n",
    "$$F_1 = 2 \\cdot \\cfrac{P \\cdot R}{P + R}$$\n",
    "\n",
    "Where $P$ is precision and $R$ is recall.\n",
    "\n",
    "Let's compute F1 for all thresholds from 0.0 to 1.0 with increment 0.01\n",
    "\n",
    "At which threshold F1 is maximal?\n",
    "\n",
    "- 0.12\n",
    "- 0.32\n",
    "- 0.52\n",
    "- 0.72"
   ]
  },
  {
   "cell_type": "code",
   "execution_count": 52,
   "id": "d5e3ae36",
   "metadata": {},
   "outputs": [
    {
     "data": {
      "text/html": [
       "<div>\n",
       "<style scoped>\n",
       "    .dataframe tbody tr th:only-of-type {\n",
       "        vertical-align: middle;\n",
       "    }\n",
       "\n",
       "    .dataframe tbody tr th {\n",
       "        vertical-align: top;\n",
       "    }\n",
       "\n",
       "    .dataframe thead th {\n",
       "        text-align: right;\n",
       "    }\n",
       "</style>\n",
       "<table border=\"1\" class=\"dataframe\">\n",
       "  <thead>\n",
       "    <tr style=\"text-align: right;\">\n",
       "      <th></th>\n",
       "      <th>Threshold</th>\n",
       "      <th>Precision</th>\n",
       "      <th>Recall</th>\n",
       "      <th>f1_manual</th>\n",
       "    </tr>\n",
       "  </thead>\n",
       "  <tbody>\n",
       "    <tr>\n",
       "      <th>0</th>\n",
       "      <td>0.000</td>\n",
       "      <td>0.274</td>\n",
       "      <td>1.000</td>\n",
       "      <td>0.431</td>\n",
       "    </tr>\n",
       "    <tr>\n",
       "      <th>1</th>\n",
       "      <td>0.010</td>\n",
       "      <td>0.454</td>\n",
       "      <td>0.997</td>\n",
       "      <td>0.624</td>\n",
       "    </tr>\n",
       "    <tr>\n",
       "      <th>2</th>\n",
       "      <td>0.020</td>\n",
       "      <td>0.503</td>\n",
       "      <td>0.995</td>\n",
       "      <td>0.669</td>\n",
       "    </tr>\n",
       "    <tr>\n",
       "      <th>3</th>\n",
       "      <td>0.030</td>\n",
       "      <td>0.532</td>\n",
       "      <td>0.995</td>\n",
       "      <td>0.694</td>\n",
       "    </tr>\n",
       "    <tr>\n",
       "      <th>4</th>\n",
       "      <td>0.040</td>\n",
       "      <td>0.568</td>\n",
       "      <td>0.994</td>\n",
       "      <td>0.723</td>\n",
       "    </tr>\n",
       "    <tr>\n",
       "      <th>...</th>\n",
       "      <td>...</td>\n",
       "      <td>...</td>\n",
       "      <td>...</td>\n",
       "      <td>...</td>\n",
       "    </tr>\n",
       "    <tr>\n",
       "      <th>95</th>\n",
       "      <td>0.950</td>\n",
       "      <td>0.997</td>\n",
       "      <td>0.439</td>\n",
       "      <td>0.609</td>\n",
       "    </tr>\n",
       "    <tr>\n",
       "      <th>96</th>\n",
       "      <td>0.960</td>\n",
       "      <td>0.996</td>\n",
       "      <td>0.422</td>\n",
       "      <td>0.593</td>\n",
       "    </tr>\n",
       "    <tr>\n",
       "      <th>97</th>\n",
       "      <td>0.970</td>\n",
       "      <td>0.996</td>\n",
       "      <td>0.385</td>\n",
       "      <td>0.556</td>\n",
       "    </tr>\n",
       "    <tr>\n",
       "      <th>98</th>\n",
       "      <td>0.980</td>\n",
       "      <td>0.358</td>\n",
       "      <td>1.000</td>\n",
       "      <td>0.527</td>\n",
       "    </tr>\n",
       "    <tr>\n",
       "      <th>99</th>\n",
       "      <td>0.990</td>\n",
       "      <td>0.294</td>\n",
       "      <td>1.000</td>\n",
       "      <td>0.454</td>\n",
       "    </tr>\n",
       "  </tbody>\n",
       "</table>\n",
       "<p>100 rows × 4 columns</p>\n",
       "</div>"
      ],
      "text/plain": [
       "    Threshold  Precision  Recall  f1_manual\n",
       "0       0.000      0.274   1.000      0.431\n",
       "1       0.010      0.454   0.997      0.624\n",
       "2       0.020      0.503   0.995      0.669\n",
       "3       0.030      0.532   0.995      0.694\n",
       "4       0.040      0.568   0.994      0.723\n",
       "..        ...        ...     ...        ...\n",
       "95      0.950      0.997   0.439      0.609\n",
       "96      0.960      0.996   0.422      0.593\n",
       "97      0.970      0.996   0.385      0.556\n",
       "98      0.980      0.358   1.000      0.527\n",
       "99      0.990      0.294   1.000      0.454\n",
       "\n",
       "[100 rows x 4 columns]"
      ]
     },
     "execution_count": 52,
     "metadata": {},
     "output_type": "execute_result"
    }
   ],
   "source": [
    "scores[\"f1_manual\"] = 2 * scores.Precision * scores.Recall / (scores.Precision + scores.Recall)\n",
    "scores"
   ]
  },
  {
   "cell_type": "code",
   "execution_count": 53,
   "id": "63b8a3da",
   "metadata": {},
   "outputs": [],
   "source": [
    "from sklearn.metrics import f1_score"
   ]
  },
  {
   "cell_type": "code",
   "execution_count": 54,
   "id": "b9c4b6d0",
   "metadata": {},
   "outputs": [
    {
     "data": {
      "text/html": [
       "<div>\n",
       "<style scoped>\n",
       "    .dataframe tbody tr th:only-of-type {\n",
       "        vertical-align: middle;\n",
       "    }\n",
       "\n",
       "    .dataframe tbody tr th {\n",
       "        vertical-align: top;\n",
       "    }\n",
       "\n",
       "    .dataframe thead th {\n",
       "        text-align: right;\n",
       "    }\n",
       "</style>\n",
       "<table border=\"1\" class=\"dataframe\">\n",
       "  <thead>\n",
       "    <tr style=\"text-align: right;\">\n",
       "      <th></th>\n",
       "      <th>Threshold</th>\n",
       "      <th>Precision</th>\n",
       "      <th>Recall</th>\n",
       "      <th>f1_manual</th>\n",
       "      <th>f1_sklearn</th>\n",
       "    </tr>\n",
       "  </thead>\n",
       "  <tbody>\n",
       "    <tr>\n",
       "      <th>0</th>\n",
       "      <td>0.000</td>\n",
       "      <td>0.274</td>\n",
       "      <td>1.000</td>\n",
       "      <td>0.431</td>\n",
       "      <td>0.431</td>\n",
       "    </tr>\n",
       "    <tr>\n",
       "      <th>1</th>\n",
       "      <td>0.010</td>\n",
       "      <td>0.454</td>\n",
       "      <td>0.997</td>\n",
       "      <td>0.624</td>\n",
       "      <td>0.624</td>\n",
       "    </tr>\n",
       "    <tr>\n",
       "      <th>2</th>\n",
       "      <td>0.020</td>\n",
       "      <td>0.503</td>\n",
       "      <td>0.995</td>\n",
       "      <td>0.669</td>\n",
       "      <td>0.669</td>\n",
       "    </tr>\n",
       "    <tr>\n",
       "      <th>3</th>\n",
       "      <td>0.030</td>\n",
       "      <td>0.532</td>\n",
       "      <td>0.995</td>\n",
       "      <td>0.694</td>\n",
       "      <td>0.694</td>\n",
       "    </tr>\n",
       "    <tr>\n",
       "      <th>4</th>\n",
       "      <td>0.040</td>\n",
       "      <td>0.568</td>\n",
       "      <td>0.994</td>\n",
       "      <td>0.723</td>\n",
       "      <td>0.723</td>\n",
       "    </tr>\n",
       "    <tr>\n",
       "      <th>...</th>\n",
       "      <td>...</td>\n",
       "      <td>...</td>\n",
       "      <td>...</td>\n",
       "      <td>...</td>\n",
       "      <td>...</td>\n",
       "    </tr>\n",
       "    <tr>\n",
       "      <th>95</th>\n",
       "      <td>0.950</td>\n",
       "      <td>0.997</td>\n",
       "      <td>0.439</td>\n",
       "      <td>0.609</td>\n",
       "      <td>0.609</td>\n",
       "    </tr>\n",
       "    <tr>\n",
       "      <th>96</th>\n",
       "      <td>0.960</td>\n",
       "      <td>0.996</td>\n",
       "      <td>0.422</td>\n",
       "      <td>0.593</td>\n",
       "      <td>0.593</td>\n",
       "    </tr>\n",
       "    <tr>\n",
       "      <th>97</th>\n",
       "      <td>0.970</td>\n",
       "      <td>0.996</td>\n",
       "      <td>0.385</td>\n",
       "      <td>0.556</td>\n",
       "      <td>0.556</td>\n",
       "    </tr>\n",
       "    <tr>\n",
       "      <th>98</th>\n",
       "      <td>0.980</td>\n",
       "      <td>0.358</td>\n",
       "      <td>1.000</td>\n",
       "      <td>0.527</td>\n",
       "      <td>0.527</td>\n",
       "    </tr>\n",
       "    <tr>\n",
       "      <th>99</th>\n",
       "      <td>0.990</td>\n",
       "      <td>0.294</td>\n",
       "      <td>1.000</td>\n",
       "      <td>0.454</td>\n",
       "      <td>0.454</td>\n",
       "    </tr>\n",
       "  </tbody>\n",
       "</table>\n",
       "<p>100 rows × 5 columns</p>\n",
       "</div>"
      ],
      "text/plain": [
       "    Threshold  Precision  Recall  f1_manual  f1_sklearn\n",
       "0       0.000      0.274   1.000      0.431       0.431\n",
       "1       0.010      0.454   0.997      0.624       0.624\n",
       "2       0.020      0.503   0.995      0.669       0.669\n",
       "3       0.030      0.532   0.995      0.694       0.694\n",
       "4       0.040      0.568   0.994      0.723       0.723\n",
       "..        ...        ...     ...        ...         ...\n",
       "95      0.950      0.997   0.439      0.609       0.609\n",
       "96      0.960      0.996   0.422      0.593       0.593\n",
       "97      0.970      0.996   0.385      0.556       0.556\n",
       "98      0.980      0.358   1.000      0.527       0.527\n",
       "99      0.990      0.294   1.000      0.454       0.454\n",
       "\n",
       "[100 rows x 5 columns]"
      ]
     },
     "execution_count": 54,
     "metadata": {},
     "output_type": "execute_result"
    }
   ],
   "source": [
    "thresholds = np.arange(0.0, 1.0, 0.01)\n",
    "\n",
    "f1_sklearn = []\n",
    "\n",
    "for t in thresholds:\n",
    "    score_f1 = f1_score(y_val_, y_pred >= t)\n",
    "    f1_sklearn.append(score_f1)\n",
    "    \n",
    "scores[\"f1_sklearn\"] = f1_sklearn\n",
    "scores"
   ]
  },
  {
   "cell_type": "code",
   "execution_count": 55,
   "id": "178dcc7f",
   "metadata": {},
   "outputs": [
    {
     "data": {
      "image/png": "[encoded data removed]",
      "text/plain": [
       "<Figure size 1000x600 with 1 Axes>"
      ]
     },
     "metadata": {},
     "output_type": "display_data"
    }
   ],
   "source": [
    "plt.figure(figsize=(10,6))\n",
    "\n",
    "plt.plot(scores.Threshold, scores.f1_manual)\n",
    "plt.xlabel(\"Threshold Value\")\n",
    "plt.ylabel(\"F1 Scores\")\n",
    "plt.xlim(0, 1)\n",
    "plt.ylim(0, 1)\n",
    "plt.show()"
   ]
  },
  {
   "cell_type": "code",
   "execution_count": 56,
   "id": "1a545cab",
   "metadata": {},
   "outputs": [
    {
     "data": {
      "text/plain": [
       "Threshold    0.510\n",
       "Precision    0.900\n",
       "Recall       0.881\n",
       "f1_manual    0.890\n",
       "f1_sklearn   0.890\n",
       "Name: 51, dtype: float64"
      ]
     },
     "execution_count": 56,
     "metadata": {},
     "output_type": "execute_result"
    }
   ],
   "source": [
    "scores.loc[scores['f1_manual'].idxmax()]"
   ]
  },
  {
   "cell_type": "code",
   "execution_count": 57,
   "id": "cc458b8f",
   "metadata": {},
   "outputs": [
    {
     "data": {
      "text/html": [
       "<div>\n",
       "<style scoped>\n",
       "    .dataframe tbody tr th:only-of-type {\n",
       "        vertical-align: middle;\n",
       "    }\n",
       "\n",
       "    .dataframe tbody tr th {\n",
       "        vertical-align: top;\n",
       "    }\n",
       "\n",
       "    .dataframe thead th {\n",
       "        text-align: right;\n",
       "    }\n",
       "</style>\n",
       "<table border=\"1\" class=\"dataframe\">\n",
       "  <thead>\n",
       "    <tr style=\"text-align: right;\">\n",
       "      <th></th>\n",
       "      <th>Threshold</th>\n",
       "      <th>Precision</th>\n",
       "      <th>Recall</th>\n",
       "      <th>f1_manual</th>\n",
       "      <th>f1_sklearn</th>\n",
       "    </tr>\n",
       "  </thead>\n",
       "  <tbody>\n",
       "    <tr>\n",
       "      <th>51</th>\n",
       "      <td>0.510</td>\n",
       "      <td>0.900</td>\n",
       "      <td>0.881</td>\n",
       "      <td>0.890</td>\n",
       "      <td>0.890</td>\n",
       "    </tr>\n",
       "  </tbody>\n",
       "</table>\n",
       "</div>"
      ],
      "text/plain": [
       "    Threshold  Precision  Recall  f1_manual  f1_sklearn\n",
       "51      0.510      0.900   0.881      0.890       0.890"
      ]
     },
     "execution_count": 57,
     "metadata": {},
     "output_type": "execute_result"
    }
   ],
   "source": [
    "scores.sort_values(\"f1_manual\", ascending=False).head(1)"
   ]
  },
  {
   "cell_type": "code",
   "execution_count": 58,
   "id": "5ff3d6fd",
   "metadata": {},
   "outputs": [
    {
     "data": {
      "text/html": [
       "<div>\n",
       "<style scoped>\n",
       "    .dataframe tbody tr th:only-of-type {\n",
       "        vertical-align: middle;\n",
       "    }\n",
       "\n",
       "    .dataframe tbody tr th {\n",
       "        vertical-align: top;\n",
       "    }\n",
       "\n",
       "    .dataframe thead th {\n",
       "        text-align: right;\n",
       "    }\n",
       "</style>\n",
       "<table border=\"1\" class=\"dataframe\">\n",
       "  <thead>\n",
       "    <tr style=\"text-align: right;\">\n",
       "      <th></th>\n",
       "      <th>Threshold</th>\n",
       "      <th>Precision</th>\n",
       "      <th>Recall</th>\n",
       "      <th>f1_manual</th>\n",
       "      <th>f1_sklearn</th>\n",
       "    </tr>\n",
       "  </thead>\n",
       "  <tbody>\n",
       "    <tr>\n",
       "      <th>51</th>\n",
       "      <td>0.510</td>\n",
       "      <td>0.900</td>\n",
       "      <td>0.881</td>\n",
       "      <td>0.890</td>\n",
       "      <td>0.890</td>\n",
       "    </tr>\n",
       "  </tbody>\n",
       "</table>\n",
       "</div>"
      ],
      "text/plain": [
       "    Threshold  Precision  Recall  f1_manual  f1_sklearn\n",
       "51      0.510      0.900   0.881      0.890       0.890"
      ]
     },
     "execution_count": 58,
     "metadata": {},
     "output_type": "execute_result"
    }
   ],
   "source": [
    "scores.sort_values(\"f1_sklearn\", ascending=False).head(1)"
   ]
  },
  {
   "cell_type": "markdown",
   "id": "f930fb73",
   "metadata": {},
   "source": [
    "### Question 5: 5-Fold CV\n",
    "\n",
    "\n",
    "Use the `KFold` class from Scikit-Learn to evaluate our model on 5 different folds:\n",
    "\n",
    "```\n",
    "KFold(n_splits=5, shuffle=True, random_state=1)\n",
    "```\n",
    "\n",
    "* Iterate over different folds of `df_full_train`\n",
    "* Split the data into train and validation\n",
    "* Train the model on train with these parameters: `LogisticRegression(solver='liblinear', C=1.0, max_iter=1000)`\n",
    "* Use AUC to evaluate the model on validation\n",
    "\n",
    "How large is standard devidation of the scores across different folds?\n",
    "\n",
    "- 0.003\n",
    "- 0.030\n",
    "- 0.090\n",
    "- 0.140"
   ]
  },
  {
   "cell_type": "code",
   "execution_count": 59,
   "id": "bf9dcb0d",
   "metadata": {},
   "outputs": [],
   "source": [
    "from sklearn.model_selection import KFold"
   ]
  },
  {
   "cell_type": "code",
   "execution_count": 60,
   "id": "01dd0c81",
   "metadata": {},
   "outputs": [],
   "source": [
    "def train(df_train, y_train, C=1.0):\n",
    "    dicts = df_train[columns].to_dict(orient='records')\n",
    "\n",
    "    dv = DictVectorizer(sparse=False)\n",
    "    X_train = dv.fit_transform(dicts)\n",
    "\n",
    "    model = LogisticRegression(solver='liblinear', max_iter=1000, C=C)\n",
    "    model.fit(X_train, y_train)\n",
    "\n",
    "    return dv, model\n",
    "\n",
    "def predict(df, dv, model):\n",
    "    dicts = df[columns].to_dict(orient='records')\n",
    "\n",
    "    X = dv.transform(dicts)\n",
    "    y_pred = model.predict_proba(X)[:, 1]\n",
    "\n",
    "    return y_pred"
   ]
  },
  {
   "cell_type": "code",
   "execution_count": 61,
   "id": "e734a679",
   "metadata": {},
   "outputs": [
    {
     "name": "stdout",
     "output_type": "stream",
     "text": [
      "0.979 +- 0.002\n"
     ]
    }
   ],
   "source": [
    "columns = numerical + categorical\n",
    "\n",
    "scores = []\n",
    "\n",
    "kfold = KFold(n_splits=5, shuffle=True, random_state=1)\n",
    "\n",
    "for train_idx, val_idx in kfold.split(df_full_train):\n",
    "    df_train = df_full_train.iloc[train_idx]\n",
    "    df_val = df_full_train.iloc[val_idx]\n",
    "\n",
    "    y_train = df_train[\"above_average\"]\n",
    "    y_val = df_val[\"above_average\"]\n",
    "    \n",
    "    del df_train[\"above_average\"]\n",
    "    del df_val[\"above_average\"]\n",
    "\n",
    "    dv, model = train(df_train, y_train, C=1.0)\n",
    "    y_pred = predict(df_val, dv, model)\n",
    "\n",
    "    auc = roc_auc_score(y_val, y_pred)\n",
    "    scores.append(auc)\n",
    "\n",
    "print('%.3f +- %.3f' % (np.mean(scores), np.std(scores)))"
   ]
  },
  {
   "cell_type": "code",
   "execution_count": null,
   "id": "92663293",
   "metadata": {},
   "outputs": [],
   "source": []
  },
  {
   "cell_type": "code",
   "execution_count": 62,
   "id": "983a38a2",
   "metadata": {},
   "outputs": [
    {
     "data": {
      "text/plain": [
       "0.002"
      ]
     },
     "execution_count": 62,
     "metadata": {},
     "output_type": "execute_result"
    }
   ],
   "source": [
    "from sklearn.model_selection import StratifiedKFold\n",
    "from sklearn.model_selection import cross_val_score\n",
    "\n",
    "kfold = StratifiedKFold(n_splits=5, shuffle=True, random_state=1)\n",
    "model_cv = LogisticRegression(solver='liblinear', C=1.0, max_iter=1000)\n",
    "cv_results = cross_val_score(model_cv, X_train_, y_train_, cv = kfold, scoring = \"roc_auc\")\n",
    "round(np.std(cv_results),3)"
   ]
  },
  {
   "cell_type": "markdown",
   "id": "e4619f84",
   "metadata": {},
   "source": [
    "### Question 6: Hyperparemeter Tuning\n",
    "\n",
    "Now let's use 5-Fold cross-validation to find the best parameter `C`\n",
    "\n",
    "* Iterate over the following `C` values: `[0.01, 0.1, 0.5, 10]`\n",
    "* Initialize `KFold` with the same parameters as previously\n",
    "* Use these parametes for the model: `LogisticRegression(solver='liblinear', C=C, max_iter=1000)`\n",
    "* Compute the mean score as well as the std (round the mean and std to 3 decimal digits)\n",
    "\n",
    "Which `C` leads to the best mean score?\n",
    "\n",
    "- 0.01\n",
    "- 0.1\n",
    "- 0.5\n",
    "- 10\n",
    "\n",
    "If you have ties, select the score with the lowest std. If you still have ties, select the smallest `C`."
   ]
  },
  {
   "cell_type": "code",
   "execution_count": 63,
   "id": "a69a8ae0",
   "metadata": {},
   "outputs": [],
   "source": [
    "# !pip install tqdm"
   ]
  },
  {
   "cell_type": "code",
   "execution_count": 64,
   "id": "53dbebac",
   "metadata": {},
   "outputs": [],
   "source": [
    "from tqdm.auto import tqdm"
   ]
  },
  {
   "cell_type": "code",
   "execution_count": 65,
   "id": "6d190509",
   "metadata": {},
   "outputs": [
    {
     "data": {
      "application/vnd.jupyter.widget-view+json": {
       "model_id": "481bfddc80824e4caf84b7476a97d411",
       "version_major": 2,
       "version_minor": 0
      },
      "text/plain": [
       "  0%|          | 0/4 [00:00<?, ?it/s]"
      ]
     },
     "metadata": {},
     "output_type": "display_data"
    },
    {
     "name": "stdout",
     "output_type": "stream",
     "text": [
      "C=0.01 0.952 +- 0.002\n",
      "C=0.1 0.972 +- 0.002\n",
      "C=0.5 0.978 +- 0.003\n",
      "C=10 0.984 +- 0.003\n"
     ]
    }
   ],
   "source": [
    "n_splits = 5\n",
    "\n",
    "for C in tqdm([0.01, 0.1, 0.5, 10]):\n",
    "    kfold = KFold(n_splits=5, shuffle=True, random_state=1)\n",
    "\n",
    "    scores = []\n",
    "\n",
    "    for train_idx, val_idx in kfold.split(df_full_train):\n",
    "        df_train = df_full_train.iloc[train_idx]\n",
    "        df_val = df_full_train.iloc[val_idx]\n",
    "\n",
    "        y_train = df_train[\"above_average\"].values\n",
    "        y_val = df_val[\"above_average\"].values\n",
    "\n",
    "        dv, model = train(df_train, y_train, C=C)\n",
    "        y_pred = predict(df_val, dv, model)\n",
    "\n",
    "        auc = roc_auc_score(y_val, y_pred)\n",
    "        scores.append(auc)\n",
    "\n",
    "    print('C=%s %.3f +- %.3f' % (C, np.mean(scores), np.std(scores)))"
   ]
  },
  {
   "cell_type": "code",
   "execution_count": null,
   "id": "55c56c92",
   "metadata": {},
   "outputs": [],
   "source": []
  },
  {
   "cell_type": "code",
   "execution_count": 66,
   "id": "4c01fd3e",
   "metadata": {},
   "outputs": [
    {
     "name": "stdout",
     "output_type": "stream",
     "text": [
      "LogisticRegression(C=10, max_iter=1000, solver='liblinear')\n",
      "-------------------------\n",
      "mean_test_score    0.984\n",
      "mean_train_score   0.989\n",
      "Name: 3, dtype: object\n"
     ]
    }
   ],
   "source": [
    "from sklearn.model_selection import GridSearchCV\n",
    "\n",
    "model = LogisticRegression(solver='liblinear', max_iter=1000, C=C)\n",
    "\n",
    "C = [0.01, 0.1, 0.5, 10] \n",
    "\n",
    "param_grid = {\"C\" : C}\n",
    "\n",
    "cv = StratifiedKFold(n_splits = 5)\n",
    "\n",
    "grid_model = GridSearchCV(estimator=model,\n",
    "                          param_grid=param_grid,\n",
    "                          cv=cv,\n",
    "                          scoring = \"roc_auc\",\n",
    "                          n_jobs = -1,\n",
    "                          return_train_score=True)\n",
    "\n",
    "grid_model.fit(X_train_, y_train_)\n",
    "\n",
    "print(grid_model.best_estimator_)\n",
    "print(\"-\"*25)\n",
    "print(pd.DataFrame(grid_model.cv_results_).loc[grid_model.best_index_, [\"mean_test_score\", \"mean_train_score\"]])"
   ]
  },
  {
   "cell_type": "code",
   "execution_count": null,
   "id": "0302a362",
   "metadata": {},
   "outputs": [],
   "source": []
  }
 ],
 "metadata": {
  "kernelspec": {
   "display_name": "Python 3 (ipykernel)",
   "language": "python",
   "name": "python3"
  },
  "language_info": {
   "codemirror_mode": {
    "name": "ipython",
    "version": 3
   },
   "file_extension": ".py",
   "mimetype": "text/x-python",
   "name": "python",
   "nbconvert_exporter": "python",
   "pygments_lexer": "ipython3",
   "version": "3.9.17"
  }
 },
 "nbformat": 4,
 "nbformat_minor": 5
}
