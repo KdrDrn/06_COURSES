{
 "cells": [
  {
   "cell_type": "markdown",
   "id": "b08cd2e3",
   "metadata": {},
   "source": [
    "## Homework\n",
    "\n",
    "In this homework, we will use Bank credit scoring dataset from [here](https://www.kaggle.com/datasets/kapturovalexander/bank-credit-scoring/data).\n",
    "\n",
    "> **Note**: sometimes your answer doesn't match one of the options exactly. That's fine. \n",
    "Select the option that's closest to your solution.\n",
    "\n",
    "> **Note**: we recommend using python 3.10 in this homework."
   ]
  },
  {
   "cell_type": "code",
   "execution_count": 7,
   "id": "5bd13a7d",
   "metadata": {},
   "outputs": [],
   "source": [
    "import pandas as pd\n",
    "import numpy as np\n",
    "import matplotlib.pyplot as plt\n",
    "import seaborn as sns"
   ]
  },
  {
   "cell_type": "code",
   "execution_count": 8,
   "id": "a8f27f69",
   "metadata": {},
   "outputs": [],
   "source": [
    "# import wget\n",
    "# wget.download('https://raw.githubusercontent.com/alexeygrigorev/mlbookcamp-code/master/chapter-02-car-price/data.csv')"
   ]
  },
  {
   "cell_type": "code",
   "execution_count": 9,
   "id": "a1fe169a",
   "metadata": {},
   "outputs": [
    {
     "data": {
      "text/html": [
       "<div>\n",
       "<style scoped>\n",
       "    .dataframe tbody tr th:only-of-type {\n",
       "        vertical-align: middle;\n",
       "    }\n",
       "\n",
       "    .dataframe tbody tr th {\n",
       "        vertical-align: top;\n",
       "    }\n",
       "\n",
       "    .dataframe thead th {\n",
       "        text-align: right;\n",
       "    }\n",
       "</style>\n",
       "<table border=\"1\" class=\"dataframe\">\n",
       "  <thead>\n",
       "    <tr style=\"text-align: right;\">\n",
       "      <th></th>\n",
       "      <th>age</th>\n",
       "      <th>job</th>\n",
       "      <th>marital</th>\n",
       "      <th>education</th>\n",
       "      <th>default</th>\n",
       "      <th>balance</th>\n",
       "      <th>housing</th>\n",
       "      <th>loan</th>\n",
       "      <th>contact</th>\n",
       "      <th>day</th>\n",
       "      <th>month</th>\n",
       "      <th>duration</th>\n",
       "      <th>campaign</th>\n",
       "      <th>pdays</th>\n",
       "      <th>previous</th>\n",
       "      <th>poutcome</th>\n",
       "      <th>y</th>\n",
       "    </tr>\n",
       "  </thead>\n",
       "  <tbody>\n",
       "    <tr>\n",
       "      <th>0</th>\n",
       "      <td>30</td>\n",
       "      <td>unemployed</td>\n",
       "      <td>married</td>\n",
       "      <td>primary</td>\n",
       "      <td>no</td>\n",
       "      <td>1787</td>\n",
       "      <td>no</td>\n",
       "      <td>no</td>\n",
       "      <td>cellular</td>\n",
       "      <td>19</td>\n",
       "      <td>oct</td>\n",
       "      <td>79</td>\n",
       "      <td>1</td>\n",
       "      <td>-1</td>\n",
       "      <td>0</td>\n",
       "      <td>unknown</td>\n",
       "      <td>no</td>\n",
       "    </tr>\n",
       "    <tr>\n",
       "      <th>1</th>\n",
       "      <td>33</td>\n",
       "      <td>services</td>\n",
       "      <td>married</td>\n",
       "      <td>secondary</td>\n",
       "      <td>no</td>\n",
       "      <td>4789</td>\n",
       "      <td>yes</td>\n",
       "      <td>yes</td>\n",
       "      <td>cellular</td>\n",
       "      <td>11</td>\n",
       "      <td>may</td>\n",
       "      <td>220</td>\n",
       "      <td>1</td>\n",
       "      <td>339</td>\n",
       "      <td>4</td>\n",
       "      <td>failure</td>\n",
       "      <td>no</td>\n",
       "    </tr>\n",
       "    <tr>\n",
       "      <th>2</th>\n",
       "      <td>35</td>\n",
       "      <td>management</td>\n",
       "      <td>single</td>\n",
       "      <td>tertiary</td>\n",
       "      <td>no</td>\n",
       "      <td>1350</td>\n",
       "      <td>yes</td>\n",
       "      <td>no</td>\n",
       "      <td>cellular</td>\n",
       "      <td>16</td>\n",
       "      <td>apr</td>\n",
       "      <td>185</td>\n",
       "      <td>1</td>\n",
       "      <td>330</td>\n",
       "      <td>1</td>\n",
       "      <td>failure</td>\n",
       "      <td>no</td>\n",
       "    </tr>\n",
       "    <tr>\n",
       "      <th>3</th>\n",
       "      <td>30</td>\n",
       "      <td>management</td>\n",
       "      <td>married</td>\n",
       "      <td>tertiary</td>\n",
       "      <td>no</td>\n",
       "      <td>1476</td>\n",
       "      <td>yes</td>\n",
       "      <td>yes</td>\n",
       "      <td>unknown</td>\n",
       "      <td>3</td>\n",
       "      <td>jun</td>\n",
       "      <td>199</td>\n",
       "      <td>4</td>\n",
       "      <td>-1</td>\n",
       "      <td>0</td>\n",
       "      <td>unknown</td>\n",
       "      <td>no</td>\n",
       "    </tr>\n",
       "    <tr>\n",
       "      <th>4</th>\n",
       "      <td>59</td>\n",
       "      <td>blue-collar</td>\n",
       "      <td>married</td>\n",
       "      <td>secondary</td>\n",
       "      <td>no</td>\n",
       "      <td>0</td>\n",
       "      <td>yes</td>\n",
       "      <td>no</td>\n",
       "      <td>unknown</td>\n",
       "      <td>5</td>\n",
       "      <td>may</td>\n",
       "      <td>226</td>\n",
       "      <td>1</td>\n",
       "      <td>-1</td>\n",
       "      <td>0</td>\n",
       "      <td>unknown</td>\n",
       "      <td>no</td>\n",
       "    </tr>\n",
       "  </tbody>\n",
       "</table>\n",
       "</div>"
      ],
      "text/plain": [
       "   age          job  marital  education default  balance housing loan  \\\n",
       "0   30   unemployed  married    primary      no     1787      no   no   \n",
       "1   33     services  married  secondary      no     4789     yes  yes   \n",
       "2   35   management   single   tertiary      no     1350     yes   no   \n",
       "3   30   management  married   tertiary      no     1476     yes  yes   \n",
       "4   59  blue-collar  married  secondary      no        0     yes   no   \n",
       "\n",
       "    contact  day month  duration  campaign  pdays  previous poutcome   y  \n",
       "0  cellular   19   oct        79         1     -1         0  unknown  no  \n",
       "1  cellular   11   may       220         1    339         4  failure  no  \n",
       "2  cellular   16   apr       185         1    330         1  failure  no  \n",
       "3   unknown    3   jun       199         4     -1         0  unknown  no  \n",
       "4   unknown    5   may       226         1     -1         0  unknown  no  "
      ]
     },
     "execution_count": 9,
     "metadata": {},
     "output_type": "execute_result"
    }
   ],
   "source": [
    "df0 = pd.read_csv(\"bank.csv\", sep=';')\n",
    "df = df0.copy()\n",
    "df.head()"
   ]
  },
  {
   "cell_type": "code",
   "execution_count": 10,
   "id": "fe4fbd7a",
   "metadata": {},
   "outputs": [
    {
     "data": {
      "text/plain": [
       "(4521, 17)"
      ]
     },
     "execution_count": 10,
     "metadata": {},
     "output_type": "execute_result"
    }
   ],
   "source": [
    "df.shape"
   ]
  },
  {
   "cell_type": "code",
   "execution_count": 11,
   "id": "f6eaae0b",
   "metadata": {},
   "outputs": [
    {
     "data": {
      "text/plain": [
       "Index(['age', 'job', 'marital', 'education', 'default', 'balance', 'housing',\n",
       "       'loan', 'contact', 'day', 'month', 'duration', 'campaign', 'pdays',\n",
       "       'previous', 'poutcome', 'y'],\n",
       "      dtype='object')"
      ]
     },
     "execution_count": 11,
     "metadata": {},
     "output_type": "execute_result"
    }
   ],
   "source": [
    "df.columns"
   ]
  },
  {
   "cell_type": "code",
   "execution_count": 12,
   "id": "2bcf46d8",
   "metadata": {},
   "outputs": [
    {
     "name": "stdout",
     "output_type": "stream",
     "text": [
      "<class 'pandas.core.frame.DataFrame'>\n",
      "RangeIndex: 4521 entries, 0 to 4520\n",
      "Data columns (total 17 columns):\n",
      " #   Column     Non-Null Count  Dtype \n",
      "---  ------     --------------  ----- \n",
      " 0   age        4521 non-null   int64 \n",
      " 1   job        4521 non-null   object\n",
      " 2   marital    4521 non-null   object\n",
      " 3   education  4521 non-null   object\n",
      " 4   default    4521 non-null   object\n",
      " 5   balance    4521 non-null   int64 \n",
      " 6   housing    4521 non-null   object\n",
      " 7   loan       4521 non-null   object\n",
      " 8   contact    4521 non-null   object\n",
      " 9   day        4521 non-null   int64 \n",
      " 10  month      4521 non-null   object\n",
      " 11  duration   4521 non-null   int64 \n",
      " 12  campaign   4521 non-null   int64 \n",
      " 13  pdays      4521 non-null   int64 \n",
      " 14  previous   4521 non-null   int64 \n",
      " 15  poutcome   4521 non-null   object\n",
      " 16  y          4521 non-null   object\n",
      "dtypes: int64(7), object(10)\n",
      "memory usage: 600.6+ KB\n"
     ]
    }
   ],
   "source": [
    "df.info()"
   ]
  },
  {
   "cell_type": "code",
   "execution_count": 13,
   "id": "9c628524",
   "metadata": {},
   "outputs": [
    {
     "data": {
      "text/html": [
       "<div>\n",
       "<style scoped>\n",
       "    .dataframe tbody tr th:only-of-type {\n",
       "        vertical-align: middle;\n",
       "    }\n",
       "\n",
       "    .dataframe tbody tr th {\n",
       "        vertical-align: top;\n",
       "    }\n",
       "\n",
       "    .dataframe thead th {\n",
       "        text-align: right;\n",
       "    }\n",
       "</style>\n",
       "<table border=\"1\" class=\"dataframe\">\n",
       "  <thead>\n",
       "    <tr style=\"text-align: right;\">\n",
       "      <th></th>\n",
       "      <th>age</th>\n",
       "      <th>balance</th>\n",
       "      <th>day</th>\n",
       "      <th>duration</th>\n",
       "      <th>campaign</th>\n",
       "      <th>pdays</th>\n",
       "      <th>previous</th>\n",
       "    </tr>\n",
       "  </thead>\n",
       "  <tbody>\n",
       "    <tr>\n",
       "      <th>count</th>\n",
       "      <td>4521.000000</td>\n",
       "      <td>4521.000000</td>\n",
       "      <td>4521.000000</td>\n",
       "      <td>4521.000000</td>\n",
       "      <td>4521.000000</td>\n",
       "      <td>4521.000000</td>\n",
       "      <td>4521.000000</td>\n",
       "    </tr>\n",
       "    <tr>\n",
       "      <th>mean</th>\n",
       "      <td>41.170095</td>\n",
       "      <td>1422.657819</td>\n",
       "      <td>15.915284</td>\n",
       "      <td>263.961292</td>\n",
       "      <td>2.793630</td>\n",
       "      <td>39.766645</td>\n",
       "      <td>0.542579</td>\n",
       "    </tr>\n",
       "    <tr>\n",
       "      <th>std</th>\n",
       "      <td>10.576211</td>\n",
       "      <td>3009.638142</td>\n",
       "      <td>8.247667</td>\n",
       "      <td>259.856633</td>\n",
       "      <td>3.109807</td>\n",
       "      <td>100.121124</td>\n",
       "      <td>1.693562</td>\n",
       "    </tr>\n",
       "    <tr>\n",
       "      <th>min</th>\n",
       "      <td>19.000000</td>\n",
       "      <td>-3313.000000</td>\n",
       "      <td>1.000000</td>\n",
       "      <td>4.000000</td>\n",
       "      <td>1.000000</td>\n",
       "      <td>-1.000000</td>\n",
       "      <td>0.000000</td>\n",
       "    </tr>\n",
       "    <tr>\n",
       "      <th>25%</th>\n",
       "      <td>33.000000</td>\n",
       "      <td>69.000000</td>\n",
       "      <td>9.000000</td>\n",
       "      <td>104.000000</td>\n",
       "      <td>1.000000</td>\n",
       "      <td>-1.000000</td>\n",
       "      <td>0.000000</td>\n",
       "    </tr>\n",
       "    <tr>\n",
       "      <th>50%</th>\n",
       "      <td>39.000000</td>\n",
       "      <td>444.000000</td>\n",
       "      <td>16.000000</td>\n",
       "      <td>185.000000</td>\n",
       "      <td>2.000000</td>\n",
       "      <td>-1.000000</td>\n",
       "      <td>0.000000</td>\n",
       "    </tr>\n",
       "    <tr>\n",
       "      <th>75%</th>\n",
       "      <td>49.000000</td>\n",
       "      <td>1480.000000</td>\n",
       "      <td>21.000000</td>\n",
       "      <td>329.000000</td>\n",
       "      <td>3.000000</td>\n",
       "      <td>-1.000000</td>\n",
       "      <td>0.000000</td>\n",
       "    </tr>\n",
       "    <tr>\n",
       "      <th>max</th>\n",
       "      <td>87.000000</td>\n",
       "      <td>71188.000000</td>\n",
       "      <td>31.000000</td>\n",
       "      <td>3025.000000</td>\n",
       "      <td>50.000000</td>\n",
       "      <td>871.000000</td>\n",
       "      <td>25.000000</td>\n",
       "    </tr>\n",
       "  </tbody>\n",
       "</table>\n",
       "</div>"
      ],
      "text/plain": [
       "               age       balance          day     duration     campaign  \\\n",
       "count  4521.000000   4521.000000  4521.000000  4521.000000  4521.000000   \n",
       "mean     41.170095   1422.657819    15.915284   263.961292     2.793630   \n",
       "std      10.576211   3009.638142     8.247667   259.856633     3.109807   \n",
       "min      19.000000  -3313.000000     1.000000     4.000000     1.000000   \n",
       "25%      33.000000     69.000000     9.000000   104.000000     1.000000   \n",
       "50%      39.000000    444.000000    16.000000   185.000000     2.000000   \n",
       "75%      49.000000   1480.000000    21.000000   329.000000     3.000000   \n",
       "max      87.000000  71188.000000    31.000000  3025.000000    50.000000   \n",
       "\n",
       "             pdays     previous  \n",
       "count  4521.000000  4521.000000  \n",
       "mean     39.766645     0.542579  \n",
       "std     100.121124     1.693562  \n",
       "min      -1.000000     0.000000  \n",
       "25%      -1.000000     0.000000  \n",
       "50%      -1.000000     0.000000  \n",
       "75%      -1.000000     0.000000  \n",
       "max     871.000000    25.000000  "
      ]
     },
     "execution_count": 13,
     "metadata": {},
     "output_type": "execute_result"
    }
   ],
   "source": [
    "df.describe()"
   ]
  },
  {
   "cell_type": "code",
   "execution_count": 14,
   "id": "17da3f5c",
   "metadata": {},
   "outputs": [
    {
     "data": {
      "text/html": [
       "<div>\n",
       "<style scoped>\n",
       "    .dataframe tbody tr th:only-of-type {\n",
       "        vertical-align: middle;\n",
       "    }\n",
       "\n",
       "    .dataframe tbody tr th {\n",
       "        vertical-align: top;\n",
       "    }\n",
       "\n",
       "    .dataframe thead th {\n",
       "        text-align: right;\n",
       "    }\n",
       "</style>\n",
       "<table border=\"1\" class=\"dataframe\">\n",
       "  <thead>\n",
       "    <tr style=\"text-align: right;\">\n",
       "      <th></th>\n",
       "      <th>job</th>\n",
       "      <th>marital</th>\n",
       "      <th>education</th>\n",
       "      <th>default</th>\n",
       "      <th>housing</th>\n",
       "      <th>loan</th>\n",
       "      <th>contact</th>\n",
       "      <th>month</th>\n",
       "      <th>poutcome</th>\n",
       "      <th>y</th>\n",
       "    </tr>\n",
       "  </thead>\n",
       "  <tbody>\n",
       "    <tr>\n",
       "      <th>count</th>\n",
       "      <td>4521</td>\n",
       "      <td>4521</td>\n",
       "      <td>4521</td>\n",
       "      <td>4521</td>\n",
       "      <td>4521</td>\n",
       "      <td>4521</td>\n",
       "      <td>4521</td>\n",
       "      <td>4521</td>\n",
       "      <td>4521</td>\n",
       "      <td>4521</td>\n",
       "    </tr>\n",
       "    <tr>\n",
       "      <th>unique</th>\n",
       "      <td>12</td>\n",
       "      <td>3</td>\n",
       "      <td>4</td>\n",
       "      <td>2</td>\n",
       "      <td>2</td>\n",
       "      <td>2</td>\n",
       "      <td>3</td>\n",
       "      <td>12</td>\n",
       "      <td>4</td>\n",
       "      <td>2</td>\n",
       "    </tr>\n",
       "    <tr>\n",
       "      <th>top</th>\n",
       "      <td>management</td>\n",
       "      <td>married</td>\n",
       "      <td>secondary</td>\n",
       "      <td>no</td>\n",
       "      <td>yes</td>\n",
       "      <td>no</td>\n",
       "      <td>cellular</td>\n",
       "      <td>may</td>\n",
       "      <td>unknown</td>\n",
       "      <td>no</td>\n",
       "    </tr>\n",
       "    <tr>\n",
       "      <th>freq</th>\n",
       "      <td>969</td>\n",
       "      <td>2797</td>\n",
       "      <td>2306</td>\n",
       "      <td>4445</td>\n",
       "      <td>2559</td>\n",
       "      <td>3830</td>\n",
       "      <td>2896</td>\n",
       "      <td>1398</td>\n",
       "      <td>3705</td>\n",
       "      <td>4000</td>\n",
       "    </tr>\n",
       "  </tbody>\n",
       "</table>\n",
       "</div>"
      ],
      "text/plain": [
       "               job  marital  education default housing  loan   contact month  \\\n",
       "count         4521     4521       4521    4521    4521  4521      4521  4521   \n",
       "unique          12        3          4       2       2     2         3    12   \n",
       "top     management  married  secondary      no     yes    no  cellular   may   \n",
       "freq           969     2797       2306    4445    2559  3830      2896  1398   \n",
       "\n",
       "       poutcome     y  \n",
       "count      4521  4521  \n",
       "unique        4     2  \n",
       "top     unknown    no  \n",
       "freq       3705  4000  "
      ]
     },
     "execution_count": 14,
     "metadata": {},
     "output_type": "execute_result"
    }
   ],
   "source": [
    "df.describe(include = object)"
   ]
  },
  {
   "cell_type": "code",
   "execution_count": 15,
   "id": "aa66e897",
   "metadata": {},
   "outputs": [
    {
     "data": {
      "text/plain": [
       "age          0\n",
       "job          0\n",
       "marital      0\n",
       "education    0\n",
       "default      0\n",
       "balance      0\n",
       "housing      0\n",
       "loan         0\n",
       "contact      0\n",
       "day          0\n",
       "month        0\n",
       "duration     0\n",
       "campaign     0\n",
       "pdays        0\n",
       "previous     0\n",
       "poutcome     0\n",
       "y            0\n",
       "dtype: int64"
      ]
     },
     "execution_count": 15,
     "metadata": {},
     "output_type": "execute_result"
    }
   ],
   "source": [
    "df.isnull().sum()"
   ]
  },
  {
   "cell_type": "code",
   "execution_count": 16,
   "id": "ae8d08b7",
   "metadata": {},
   "outputs": [
    {
     "data": {
      "text/plain": [
       "0"
      ]
     },
     "execution_count": 16,
     "metadata": {},
     "output_type": "execute_result"
    }
   ],
   "source": [
    "df.duplicated().sum()"
   ]
  },
  {
   "cell_type": "code",
   "execution_count": 17,
   "id": "adfb762e",
   "metadata": {},
   "outputs": [],
   "source": [
    "numerical = df.drop(['y'], axis=1).select_dtypes('number').columns.to_list()\n",
    "\n",
    "categorical = df.drop(['y'], axis=1).select_dtypes('object').columns.to_list()"
   ]
  },
  {
   "cell_type": "code",
   "execution_count": 18,
   "id": "b2e272f8",
   "metadata": {},
   "outputs": [
    {
     "name": "stdout",
     "output_type": "stream",
     "text": [
      "['age', 'balance', 'day', 'duration', 'campaign', 'pdays', 'previous']\n",
      "\n",
      "['job', 'marital', 'education', 'default', 'housing', 'loan', 'contact', 'month', 'poutcome']\n"
     ]
    }
   ],
   "source": [
    "print(numerical)\n",
    "print()\n",
    "print(categorical)"
   ]
  },
  {
   "cell_type": "markdown",
   "id": "bcca3ee8",
   "metadata": {},
   "source": [
    "**Make the \"y\" binary**"
   ]
  },
  {
   "cell_type": "code",
   "execution_count": 19,
   "id": "73f8130a",
   "metadata": {},
   "outputs": [
    {
     "data": {
      "text/html": [
       "<div>\n",
       "<style scoped>\n",
       "    .dataframe tbody tr th:only-of-type {\n",
       "        vertical-align: middle;\n",
       "    }\n",
       "\n",
       "    .dataframe tbody tr th {\n",
       "        vertical-align: top;\n",
       "    }\n",
       "\n",
       "    .dataframe thead th {\n",
       "        text-align: right;\n",
       "    }\n",
       "</style>\n",
       "<table border=\"1\" class=\"dataframe\">\n",
       "  <thead>\n",
       "    <tr style=\"text-align: right;\">\n",
       "      <th></th>\n",
       "      <th>age</th>\n",
       "      <th>job</th>\n",
       "      <th>marital</th>\n",
       "      <th>education</th>\n",
       "      <th>default</th>\n",
       "      <th>balance</th>\n",
       "      <th>housing</th>\n",
       "      <th>loan</th>\n",
       "      <th>contact</th>\n",
       "      <th>day</th>\n",
       "      <th>month</th>\n",
       "      <th>duration</th>\n",
       "      <th>campaign</th>\n",
       "      <th>pdays</th>\n",
       "      <th>previous</th>\n",
       "      <th>poutcome</th>\n",
       "      <th>y</th>\n",
       "    </tr>\n",
       "  </thead>\n",
       "  <tbody>\n",
       "    <tr>\n",
       "      <th>0</th>\n",
       "      <td>30</td>\n",
       "      <td>unemployed</td>\n",
       "      <td>married</td>\n",
       "      <td>primary</td>\n",
       "      <td>no</td>\n",
       "      <td>1787</td>\n",
       "      <td>no</td>\n",
       "      <td>no</td>\n",
       "      <td>cellular</td>\n",
       "      <td>19</td>\n",
       "      <td>oct</td>\n",
       "      <td>79</td>\n",
       "      <td>1</td>\n",
       "      <td>-1</td>\n",
       "      <td>0</td>\n",
       "      <td>unknown</td>\n",
       "      <td>0</td>\n",
       "    </tr>\n",
       "    <tr>\n",
       "      <th>1</th>\n",
       "      <td>33</td>\n",
       "      <td>services</td>\n",
       "      <td>married</td>\n",
       "      <td>secondary</td>\n",
       "      <td>no</td>\n",
       "      <td>4789</td>\n",
       "      <td>yes</td>\n",
       "      <td>yes</td>\n",
       "      <td>cellular</td>\n",
       "      <td>11</td>\n",
       "      <td>may</td>\n",
       "      <td>220</td>\n",
       "      <td>1</td>\n",
       "      <td>339</td>\n",
       "      <td>4</td>\n",
       "      <td>failure</td>\n",
       "      <td>0</td>\n",
       "    </tr>\n",
       "    <tr>\n",
       "      <th>2</th>\n",
       "      <td>35</td>\n",
       "      <td>management</td>\n",
       "      <td>single</td>\n",
       "      <td>tertiary</td>\n",
       "      <td>no</td>\n",
       "      <td>1350</td>\n",
       "      <td>yes</td>\n",
       "      <td>no</td>\n",
       "      <td>cellular</td>\n",
       "      <td>16</td>\n",
       "      <td>apr</td>\n",
       "      <td>185</td>\n",
       "      <td>1</td>\n",
       "      <td>330</td>\n",
       "      <td>1</td>\n",
       "      <td>failure</td>\n",
       "      <td>0</td>\n",
       "    </tr>\n",
       "    <tr>\n",
       "      <th>3</th>\n",
       "      <td>30</td>\n",
       "      <td>management</td>\n",
       "      <td>married</td>\n",
       "      <td>tertiary</td>\n",
       "      <td>no</td>\n",
       "      <td>1476</td>\n",
       "      <td>yes</td>\n",
       "      <td>yes</td>\n",
       "      <td>unknown</td>\n",
       "      <td>3</td>\n",
       "      <td>jun</td>\n",
       "      <td>199</td>\n",
       "      <td>4</td>\n",
       "      <td>-1</td>\n",
       "      <td>0</td>\n",
       "      <td>unknown</td>\n",
       "      <td>0</td>\n",
       "    </tr>\n",
       "    <tr>\n",
       "      <th>4</th>\n",
       "      <td>59</td>\n",
       "      <td>blue-collar</td>\n",
       "      <td>married</td>\n",
       "      <td>secondary</td>\n",
       "      <td>no</td>\n",
       "      <td>0</td>\n",
       "      <td>yes</td>\n",
       "      <td>no</td>\n",
       "      <td>unknown</td>\n",
       "      <td>5</td>\n",
       "      <td>may</td>\n",
       "      <td>226</td>\n",
       "      <td>1</td>\n",
       "      <td>-1</td>\n",
       "      <td>0</td>\n",
       "      <td>unknown</td>\n",
       "      <td>0</td>\n",
       "    </tr>\n",
       "  </tbody>\n",
       "</table>\n",
       "</div>"
      ],
      "text/plain": [
       "   age          job  marital  education default  balance housing loan  \\\n",
       "0   30   unemployed  married    primary      no     1787      no   no   \n",
       "1   33     services  married  secondary      no     4789     yes  yes   \n",
       "2   35   management   single   tertiary      no     1350     yes   no   \n",
       "3   30   management  married   tertiary      no     1476     yes  yes   \n",
       "4   59  blue-collar  married  secondary      no        0     yes   no   \n",
       "\n",
       "    contact  day month  duration  campaign  pdays  previous poutcome  y  \n",
       "0  cellular   19   oct        79         1     -1         0  unknown  0  \n",
       "1  cellular   11   may       220         1    339         4  failure  0  \n",
       "2  cellular   16   apr       185         1    330         1  failure  0  \n",
       "3   unknown    3   jun       199         4     -1         0  unknown  0  \n",
       "4   unknown    5   may       226         1     -1         0  unknown  0  "
      ]
     },
     "execution_count": 19,
     "metadata": {},
     "output_type": "execute_result"
    }
   ],
   "source": [
    "df.y = (df.y ==\"yes\").astype(int)\n",
    "df.head()"
   ]
  },
  {
   "cell_type": "code",
   "execution_count": 20,
   "id": "0106c093",
   "metadata": {},
   "outputs": [
    {
     "data": {
      "text/plain": [
       "0    4000\n",
       "1     521\n",
       "Name: y, dtype: int64"
      ]
     },
     "execution_count": 20,
     "metadata": {},
     "output_type": "execute_result"
    }
   ],
   "source": [
    "df.y.value_counts(dropna=False)"
   ]
  },
  {
   "cell_type": "markdown",
   "id": "45547a69",
   "metadata": {},
   "source": [
    "**Split the data**"
   ]
  },
  {
   "cell_type": "code",
   "execution_count": 21,
   "id": "b3dbc2d5",
   "metadata": {},
   "outputs": [],
   "source": [
    "from sklearn.model_selection import train_test_split"
   ]
  },
  {
   "cell_type": "code",
   "execution_count": 22,
   "id": "9dd1d7c7",
   "metadata": {},
   "outputs": [],
   "source": [
    "df_full_train, df_test = train_test_split(df, test_size=0.2, random_state=1)"
   ]
  },
  {
   "cell_type": "code",
   "execution_count": 23,
   "id": "fcfb9f95",
   "metadata": {},
   "outputs": [
    {
     "data": {
      "text/plain": [
       "(3616, 905)"
      ]
     },
     "execution_count": 23,
     "metadata": {},
     "output_type": "execute_result"
    }
   ],
   "source": [
    "len(df_full_train), len(df_test)"
   ]
  },
  {
   "cell_type": "code",
   "execution_count": 24,
   "id": "8184a5a2",
   "metadata": {},
   "outputs": [],
   "source": [
    "df_train, df_val = train_test_split(df_full_train, test_size=0.25, random_state=1)"
   ]
  },
  {
   "cell_type": "code",
   "execution_count": 25,
   "id": "3b809694",
   "metadata": {},
   "outputs": [
    {
     "data": {
      "text/plain": [
       "(2712, 904, 905)"
      ]
     },
     "execution_count": 25,
     "metadata": {},
     "output_type": "execute_result"
    }
   ],
   "source": [
    "len(df_train), len(df_val), len(df_test)"
   ]
  },
  {
   "cell_type": "code",
   "execution_count": 26,
   "id": "1485ebcf",
   "metadata": {},
   "outputs": [],
   "source": [
    "df_train = df_train.reset_index(drop=True)\n",
    "df_val = df_val.reset_index(drop=True)\n",
    "df_test = df_test.reset_index(drop=True)"
   ]
  },
  {
   "cell_type": "code",
   "execution_count": 27,
   "id": "b920d7dd",
   "metadata": {},
   "outputs": [
    {
     "data": {
      "text/html": [
       "<div>\n",
       "<style scoped>\n",
       "    .dataframe tbody tr th:only-of-type {\n",
       "        vertical-align: middle;\n",
       "    }\n",
       "\n",
       "    .dataframe tbody tr th {\n",
       "        vertical-align: top;\n",
       "    }\n",
       "\n",
       "    .dataframe thead th {\n",
       "        text-align: right;\n",
       "    }\n",
       "</style>\n",
       "<table border=\"1\" class=\"dataframe\">\n",
       "  <thead>\n",
       "    <tr style=\"text-align: right;\">\n",
       "      <th></th>\n",
       "      <th>age</th>\n",
       "      <th>job</th>\n",
       "      <th>marital</th>\n",
       "      <th>education</th>\n",
       "      <th>default</th>\n",
       "      <th>balance</th>\n",
       "      <th>housing</th>\n",
       "      <th>loan</th>\n",
       "      <th>contact</th>\n",
       "      <th>day</th>\n",
       "      <th>month</th>\n",
       "      <th>duration</th>\n",
       "      <th>campaign</th>\n",
       "      <th>pdays</th>\n",
       "      <th>previous</th>\n",
       "      <th>poutcome</th>\n",
       "      <th>y</th>\n",
       "    </tr>\n",
       "  </thead>\n",
       "  <tbody>\n",
       "    <tr>\n",
       "      <th>0</th>\n",
       "      <td>41</td>\n",
       "      <td>technician</td>\n",
       "      <td>married</td>\n",
       "      <td>secondary</td>\n",
       "      <td>no</td>\n",
       "      <td>0</td>\n",
       "      <td>no</td>\n",
       "      <td>no</td>\n",
       "      <td>cellular</td>\n",
       "      <td>11</td>\n",
       "      <td>mar</td>\n",
       "      <td>101</td>\n",
       "      <td>1</td>\n",
       "      <td>-1</td>\n",
       "      <td>0</td>\n",
       "      <td>unknown</td>\n",
       "      <td>0</td>\n",
       "    </tr>\n",
       "    <tr>\n",
       "      <th>1</th>\n",
       "      <td>38</td>\n",
       "      <td>self-employed</td>\n",
       "      <td>single</td>\n",
       "      <td>secondary</td>\n",
       "      <td>no</td>\n",
       "      <td>1146</td>\n",
       "      <td>yes</td>\n",
       "      <td>no</td>\n",
       "      <td>unknown</td>\n",
       "      <td>21</td>\n",
       "      <td>may</td>\n",
       "      <td>91</td>\n",
       "      <td>2</td>\n",
       "      <td>-1</td>\n",
       "      <td>0</td>\n",
       "      <td>unknown</td>\n",
       "      <td>0</td>\n",
       "    </tr>\n",
       "    <tr>\n",
       "      <th>2</th>\n",
       "      <td>41</td>\n",
       "      <td>blue-collar</td>\n",
       "      <td>married</td>\n",
       "      <td>primary</td>\n",
       "      <td>no</td>\n",
       "      <td>2067</td>\n",
       "      <td>yes</td>\n",
       "      <td>no</td>\n",
       "      <td>cellular</td>\n",
       "      <td>15</td>\n",
       "      <td>may</td>\n",
       "      <td>493</td>\n",
       "      <td>7</td>\n",
       "      <td>-1</td>\n",
       "      <td>0</td>\n",
       "      <td>unknown</td>\n",
       "      <td>0</td>\n",
       "    </tr>\n",
       "    <tr>\n",
       "      <th>3</th>\n",
       "      <td>36</td>\n",
       "      <td>management</td>\n",
       "      <td>married</td>\n",
       "      <td>tertiary</td>\n",
       "      <td>no</td>\n",
       "      <td>27359</td>\n",
       "      <td>yes</td>\n",
       "      <td>no</td>\n",
       "      <td>unknown</td>\n",
       "      <td>3</td>\n",
       "      <td>jun</td>\n",
       "      <td>71</td>\n",
       "      <td>2</td>\n",
       "      <td>-1</td>\n",
       "      <td>0</td>\n",
       "      <td>unknown</td>\n",
       "      <td>0</td>\n",
       "    </tr>\n",
       "    <tr>\n",
       "      <th>4</th>\n",
       "      <td>48</td>\n",
       "      <td>retired</td>\n",
       "      <td>married</td>\n",
       "      <td>primary</td>\n",
       "      <td>yes</td>\n",
       "      <td>-285</td>\n",
       "      <td>no</td>\n",
       "      <td>yes</td>\n",
       "      <td>cellular</td>\n",
       "      <td>19</td>\n",
       "      <td>nov</td>\n",
       "      <td>157</td>\n",
       "      <td>1</td>\n",
       "      <td>-1</td>\n",
       "      <td>0</td>\n",
       "      <td>unknown</td>\n",
       "      <td>0</td>\n",
       "    </tr>\n",
       "  </tbody>\n",
       "</table>\n",
       "</div>"
      ],
      "text/plain": [
       "   age            job  marital  education default  balance housing loan  \\\n",
       "0   41     technician  married  secondary      no        0      no   no   \n",
       "1   38  self-employed   single  secondary      no     1146     yes   no   \n",
       "2   41    blue-collar  married    primary      no     2067     yes   no   \n",
       "3   36     management  married   tertiary      no    27359     yes   no   \n",
       "4   48        retired  married    primary     yes     -285      no  yes   \n",
       "\n",
       "    contact  day month  duration  campaign  pdays  previous poutcome  y  \n",
       "0  cellular   11   mar       101         1     -1         0  unknown  0  \n",
       "1   unknown   21   may        91         2     -1         0  unknown  0  \n",
       "2  cellular   15   may       493         7     -1         0  unknown  0  \n",
       "3   unknown    3   jun        71         2     -1         0  unknown  0  \n",
       "4  cellular   19   nov       157         1     -1         0  unknown  0  "
      ]
     },
     "execution_count": 27,
     "metadata": {},
     "output_type": "execute_result"
    }
   ],
   "source": [
    "df_train.head()"
   ]
  },
  {
   "cell_type": "code",
   "execution_count": 28,
   "id": "1760afe1",
   "metadata": {},
   "outputs": [
    {
     "data": {
      "text/html": [
       "<div>\n",
       "<style scoped>\n",
       "    .dataframe tbody tr th:only-of-type {\n",
       "        vertical-align: middle;\n",
       "    }\n",
       "\n",
       "    .dataframe tbody tr th {\n",
       "        vertical-align: top;\n",
       "    }\n",
       "\n",
       "    .dataframe thead th {\n",
       "        text-align: right;\n",
       "    }\n",
       "</style>\n",
       "<table border=\"1\" class=\"dataframe\">\n",
       "  <thead>\n",
       "    <tr style=\"text-align: right;\">\n",
       "      <th></th>\n",
       "      <th>age</th>\n",
       "      <th>job</th>\n",
       "      <th>marital</th>\n",
       "      <th>education</th>\n",
       "      <th>default</th>\n",
       "      <th>balance</th>\n",
       "      <th>housing</th>\n",
       "      <th>loan</th>\n",
       "      <th>contact</th>\n",
       "      <th>day</th>\n",
       "      <th>month</th>\n",
       "      <th>duration</th>\n",
       "      <th>campaign</th>\n",
       "      <th>pdays</th>\n",
       "      <th>previous</th>\n",
       "      <th>poutcome</th>\n",
       "      <th>y</th>\n",
       "    </tr>\n",
       "  </thead>\n",
       "  <tbody>\n",
       "    <tr>\n",
       "      <th>0</th>\n",
       "      <td>45</td>\n",
       "      <td>services</td>\n",
       "      <td>married</td>\n",
       "      <td>secondary</td>\n",
       "      <td>no</td>\n",
       "      <td>0</td>\n",
       "      <td>no</td>\n",
       "      <td>yes</td>\n",
       "      <td>cellular</td>\n",
       "      <td>8</td>\n",
       "      <td>jul</td>\n",
       "      <td>47</td>\n",
       "      <td>7</td>\n",
       "      <td>-1</td>\n",
       "      <td>0</td>\n",
       "      <td>unknown</td>\n",
       "      <td>0</td>\n",
       "    </tr>\n",
       "    <tr>\n",
       "      <th>1</th>\n",
       "      <td>37</td>\n",
       "      <td>management</td>\n",
       "      <td>divorced</td>\n",
       "      <td>secondary</td>\n",
       "      <td>no</td>\n",
       "      <td>414</td>\n",
       "      <td>no</td>\n",
       "      <td>no</td>\n",
       "      <td>cellular</td>\n",
       "      <td>29</td>\n",
       "      <td>jan</td>\n",
       "      <td>293</td>\n",
       "      <td>2</td>\n",
       "      <td>162</td>\n",
       "      <td>4</td>\n",
       "      <td>failure</td>\n",
       "      <td>0</td>\n",
       "    </tr>\n",
       "    <tr>\n",
       "      <th>2</th>\n",
       "      <td>35</td>\n",
       "      <td>blue-collar</td>\n",
       "      <td>married</td>\n",
       "      <td>secondary</td>\n",
       "      <td>no</td>\n",
       "      <td>-339</td>\n",
       "      <td>yes</td>\n",
       "      <td>no</td>\n",
       "      <td>unknown</td>\n",
       "      <td>8</td>\n",
       "      <td>may</td>\n",
       "      <td>389</td>\n",
       "      <td>2</td>\n",
       "      <td>-1</td>\n",
       "      <td>0</td>\n",
       "      <td>unknown</td>\n",
       "      <td>0</td>\n",
       "    </tr>\n",
       "    <tr>\n",
       "      <th>3</th>\n",
       "      <td>48</td>\n",
       "      <td>management</td>\n",
       "      <td>married</td>\n",
       "      <td>secondary</td>\n",
       "      <td>no</td>\n",
       "      <td>4415</td>\n",
       "      <td>yes</td>\n",
       "      <td>no</td>\n",
       "      <td>cellular</td>\n",
       "      <td>8</td>\n",
       "      <td>apr</td>\n",
       "      <td>1032</td>\n",
       "      <td>3</td>\n",
       "      <td>141</td>\n",
       "      <td>7</td>\n",
       "      <td>failure</td>\n",
       "      <td>1</td>\n",
       "    </tr>\n",
       "    <tr>\n",
       "      <th>4</th>\n",
       "      <td>62</td>\n",
       "      <td>management</td>\n",
       "      <td>married</td>\n",
       "      <td>tertiary</td>\n",
       "      <td>no</td>\n",
       "      <td>1859</td>\n",
       "      <td>no</td>\n",
       "      <td>no</td>\n",
       "      <td>telephone</td>\n",
       "      <td>6</td>\n",
       "      <td>aug</td>\n",
       "      <td>245</td>\n",
       "      <td>3</td>\n",
       "      <td>-1</td>\n",
       "      <td>0</td>\n",
       "      <td>unknown</td>\n",
       "      <td>1</td>\n",
       "    </tr>\n",
       "  </tbody>\n",
       "</table>\n",
       "</div>"
      ],
      "text/plain": [
       "   age          job   marital  education default  balance housing loan  \\\n",
       "0   45     services   married  secondary      no        0      no  yes   \n",
       "1   37   management  divorced  secondary      no      414      no   no   \n",
       "2   35  blue-collar   married  secondary      no     -339     yes   no   \n",
       "3   48   management   married  secondary      no     4415     yes   no   \n",
       "4   62   management   married   tertiary      no     1859      no   no   \n",
       "\n",
       "     contact  day month  duration  campaign  pdays  previous poutcome  y  \n",
       "0   cellular    8   jul        47         7     -1         0  unknown  0  \n",
       "1   cellular   29   jan       293         2    162         4  failure  0  \n",
       "2    unknown    8   may       389         2     -1         0  unknown  0  \n",
       "3   cellular    8   apr      1032         3    141         7  failure  1  \n",
       "4  telephone    6   aug       245         3     -1         0  unknown  1  "
      ]
     },
     "execution_count": 28,
     "metadata": {},
     "output_type": "execute_result"
    }
   ],
   "source": [
    "df_val.head()"
   ]
  },
  {
   "cell_type": "code",
   "execution_count": 29,
   "id": "c812b476",
   "metadata": {},
   "outputs": [
    {
     "data": {
      "text/html": [
       "<div>\n",
       "<style scoped>\n",
       "    .dataframe tbody tr th:only-of-type {\n",
       "        vertical-align: middle;\n",
       "    }\n",
       "\n",
       "    .dataframe tbody tr th {\n",
       "        vertical-align: top;\n",
       "    }\n",
       "\n",
       "    .dataframe thead th {\n",
       "        text-align: right;\n",
       "    }\n",
       "</style>\n",
       "<table border=\"1\" class=\"dataframe\">\n",
       "  <thead>\n",
       "    <tr style=\"text-align: right;\">\n",
       "      <th></th>\n",
       "      <th>age</th>\n",
       "      <th>job</th>\n",
       "      <th>marital</th>\n",
       "      <th>education</th>\n",
       "      <th>default</th>\n",
       "      <th>balance</th>\n",
       "      <th>housing</th>\n",
       "      <th>loan</th>\n",
       "      <th>contact</th>\n",
       "      <th>day</th>\n",
       "      <th>month</th>\n",
       "      <th>duration</th>\n",
       "      <th>campaign</th>\n",
       "      <th>pdays</th>\n",
       "      <th>previous</th>\n",
       "      <th>poutcome</th>\n",
       "      <th>y</th>\n",
       "    </tr>\n",
       "  </thead>\n",
       "  <tbody>\n",
       "    <tr>\n",
       "      <th>0</th>\n",
       "      <td>32</td>\n",
       "      <td>admin.</td>\n",
       "      <td>single</td>\n",
       "      <td>secondary</td>\n",
       "      <td>no</td>\n",
       "      <td>116</td>\n",
       "      <td>no</td>\n",
       "      <td>yes</td>\n",
       "      <td>cellular</td>\n",
       "      <td>16</td>\n",
       "      <td>jul</td>\n",
       "      <td>255</td>\n",
       "      <td>2</td>\n",
       "      <td>-1</td>\n",
       "      <td>0</td>\n",
       "      <td>unknown</td>\n",
       "      <td>0</td>\n",
       "    </tr>\n",
       "    <tr>\n",
       "      <th>1</th>\n",
       "      <td>46</td>\n",
       "      <td>blue-collar</td>\n",
       "      <td>married</td>\n",
       "      <td>primary</td>\n",
       "      <td>no</td>\n",
       "      <td>174</td>\n",
       "      <td>no</td>\n",
       "      <td>yes</td>\n",
       "      <td>cellular</td>\n",
       "      <td>15</td>\n",
       "      <td>jul</td>\n",
       "      <td>90</td>\n",
       "      <td>1</td>\n",
       "      <td>-1</td>\n",
       "      <td>0</td>\n",
       "      <td>unknown</td>\n",
       "      <td>0</td>\n",
       "    </tr>\n",
       "    <tr>\n",
       "      <th>2</th>\n",
       "      <td>50</td>\n",
       "      <td>blue-collar</td>\n",
       "      <td>married</td>\n",
       "      <td>secondary</td>\n",
       "      <td>no</td>\n",
       "      <td>372</td>\n",
       "      <td>yes</td>\n",
       "      <td>no</td>\n",
       "      <td>telephone</td>\n",
       "      <td>11</td>\n",
       "      <td>may</td>\n",
       "      <td>21</td>\n",
       "      <td>1</td>\n",
       "      <td>-1</td>\n",
       "      <td>0</td>\n",
       "      <td>unknown</td>\n",
       "      <td>0</td>\n",
       "    </tr>\n",
       "    <tr>\n",
       "      <th>3</th>\n",
       "      <td>45</td>\n",
       "      <td>management</td>\n",
       "      <td>married</td>\n",
       "      <td>tertiary</td>\n",
       "      <td>no</td>\n",
       "      <td>6945</td>\n",
       "      <td>no</td>\n",
       "      <td>no</td>\n",
       "      <td>cellular</td>\n",
       "      <td>5</td>\n",
       "      <td>aug</td>\n",
       "      <td>131</td>\n",
       "      <td>5</td>\n",
       "      <td>356</td>\n",
       "      <td>3</td>\n",
       "      <td>failure</td>\n",
       "      <td>0</td>\n",
       "    </tr>\n",
       "    <tr>\n",
       "      <th>4</th>\n",
       "      <td>49</td>\n",
       "      <td>blue-collar</td>\n",
       "      <td>married</td>\n",
       "      <td>secondary</td>\n",
       "      <td>no</td>\n",
       "      <td>579</td>\n",
       "      <td>yes</td>\n",
       "      <td>no</td>\n",
       "      <td>unknown</td>\n",
       "      <td>28</td>\n",
       "      <td>may</td>\n",
       "      <td>396</td>\n",
       "      <td>1</td>\n",
       "      <td>-1</td>\n",
       "      <td>0</td>\n",
       "      <td>unknown</td>\n",
       "      <td>0</td>\n",
       "    </tr>\n",
       "  </tbody>\n",
       "</table>\n",
       "</div>"
      ],
      "text/plain": [
       "   age          job  marital  education default  balance housing loan  \\\n",
       "0   32       admin.   single  secondary      no      116      no  yes   \n",
       "1   46  blue-collar  married    primary      no      174      no  yes   \n",
       "2   50  blue-collar  married  secondary      no      372     yes   no   \n",
       "3   45   management  married   tertiary      no     6945      no   no   \n",
       "4   49  blue-collar  married  secondary      no      579     yes   no   \n",
       "\n",
       "     contact  day month  duration  campaign  pdays  previous poutcome  y  \n",
       "0   cellular   16   jul       255         2     -1         0  unknown  0  \n",
       "1   cellular   15   jul        90         1     -1         0  unknown  0  \n",
       "2  telephone   11   may        21         1     -1         0  unknown  0  \n",
       "3   cellular    5   aug       131         5    356         3  failure  0  \n",
       "4    unknown   28   may       396         1     -1         0  unknown  0  "
      ]
     },
     "execution_count": 29,
     "metadata": {},
     "output_type": "execute_result"
    }
   ],
   "source": [
    "df_test.head()"
   ]
  },
  {
   "cell_type": "code",
   "execution_count": 30,
   "id": "99c03cc5",
   "metadata": {},
   "outputs": [],
   "source": [
    "y_train_ = df_train.y.values\n",
    "y_val_ = df_val.y.values\n",
    "y_test_ = df_test.y.values"
   ]
  },
  {
   "cell_type": "code",
   "execution_count": 31,
   "id": "76371556",
   "metadata": {},
   "outputs": [
    {
     "data": {
      "text/plain": [
       "(2712, 904, 905)"
      ]
     },
     "execution_count": 31,
     "metadata": {},
     "output_type": "execute_result"
    }
   ],
   "source": [
    "len(y_train_), len(y_val_), len(y_test_)"
   ]
  },
  {
   "cell_type": "code",
   "execution_count": 32,
   "id": "b0160b52",
   "metadata": {},
   "outputs": [
    {
     "name": "stdout",
     "output_type": "stream",
     "text": [
      "[0 0 0 0 0 0 0 0 0 0 0 0 1 0 0 0 0 0 1 0 0 0 0 0 0]\n",
      "[0 0 0 1 1 0 0 0 0 1 0 0 0 1 0 0 0 0 1 0 0 0 0 0 0]\n",
      "[0 0 0 0 0 1 0 0 0 1 0 1 0 0 0 0 0 0 1 0 0 0 0 0 0]\n"
     ]
    }
   ],
   "source": [
    "print(y_train_[:25])\n",
    "print(y_val_[:25])\n",
    "print(y_test_[:25])"
   ]
  },
  {
   "cell_type": "code",
   "execution_count": 33,
   "id": "057f020b",
   "metadata": {},
   "outputs": [],
   "source": [
    "del df_train[\"y\"]\n",
    "del df_val[\"y\"]\n",
    "del df_test[\"y\"]"
   ]
  },
  {
   "cell_type": "markdown",
   "id": "83133849",
   "metadata": {},
   "source": [
    "### ROC AUC feature importance"
   ]
  },
  {
   "cell_type": "code",
   "execution_count": 34,
   "id": "38540a09",
   "metadata": {},
   "outputs": [],
   "source": [
    "from sklearn.metrics import roc_auc_score"
   ]
  },
  {
   "cell_type": "code",
   "execution_count": 35,
   "id": "10ef3dc7",
   "metadata": {},
   "outputs": [
    {
     "name": "stdout",
     "output_type": "stream",
     "text": [
      "     Column       AUC\n",
      "3  duration  0.810920\n",
      "6  previous  0.603340\n",
      "5     pdays  0.594928\n",
      "1   balance  0.589163\n",
      "4  campaign  0.547806\n",
      "0       age  0.527658\n",
      "2       day  0.513778\n"
     ]
    }
   ],
   "source": [
    "result = [(col, roc_auc_score(y_train_, df_train[col]) if roc_auc_score(y_train_, df_train[col]) >= 0.5 else roc_auc_score(y_train_, -df_train[col])) for col in numerical]\n",
    "result_df = pd.DataFrame(result, columns=['Column', 'AUC'])\n",
    "print((result_df.sort_values(\"AUC\", ascending=False)))"
   ]
  },
  {
   "cell_type": "markdown",
   "id": "797571a6",
   "metadata": {},
   "source": [
    "### Training the model"
   ]
  },
  {
   "cell_type": "markdown",
   "id": "2848762b",
   "metadata": {},
   "source": [
    "**Apply one-hot-encoding using DictVectorizer**"
   ]
  },
  {
   "cell_type": "code",
   "execution_count": 36,
   "id": "c95cb175",
   "metadata": {},
   "outputs": [],
   "source": [
    "from sklearn.feature_extraction import DictVectorizer"
   ]
  },
  {
   "cell_type": "code",
   "execution_count": 37,
   "id": "654ad597",
   "metadata": {},
   "outputs": [
    {
     "data": {
      "text/plain": [
       "{'job': 'technician',\n",
       " 'marital': 'married',\n",
       " 'education': 'secondary',\n",
       " 'default': 'no',\n",
       " 'housing': 'no',\n",
       " 'loan': 'no',\n",
       " 'contact': 'cellular',\n",
       " 'month': 'mar',\n",
       " 'poutcome': 'unknown',\n",
       " 'age': 41,\n",
       " 'balance': 0,\n",
       " 'day': 11,\n",
       " 'duration': 101,\n",
       " 'campaign': 1,\n",
       " 'pdays': -1,\n",
       " 'previous': 0}"
      ]
     },
     "execution_count": 37,
     "metadata": {},
     "output_type": "execute_result"
    }
   ],
   "source": [
    "train_dict = df_train[categorical + numerical].to_dict(orient='records')\n",
    "train_dict[0]"
   ]
  },
  {
   "cell_type": "code",
   "execution_count": 38,
   "id": "215e4960",
   "metadata": {},
   "outputs": [
    {
     "data": {
      "text/html": [
       "<style>#sk-container-id-1 {color: black;background-color: white;}#sk-container-id-1 pre{padding: 0;}#sk-container-id-1 div.sk-toggleable {background-color: white;}#sk-container-id-1 label.sk-toggleable__label {cursor: pointer;display: block;width: 100%;margin-bottom: 0;padding: 0.3em;box-sizing: border-box;text-align: center;}#sk-container-id-1 label.sk-toggleable__label-arrow:before {content: \"▸\";float: left;margin-right: 0.25em;color: #696969;}#sk-container-id-1 label.sk-toggleable__label-arrow:hover:before {color: black;}#sk-container-id-1 div.sk-estimator:hover label.sk-toggleable__label-arrow:before {color: black;}#sk-container-id-1 div.sk-toggleable__content {max-height: 0;max-width: 0;overflow: hidden;text-align: left;background-color: #f0f8ff;}#sk-container-id-1 div.sk-toggleable__content pre {margin: 0.2em;color: black;border-radius: 0.25em;background-color: #f0f8ff;}#sk-container-id-1 input.sk-toggleable__control:checked~div.sk-toggleable__content {max-height: 200px;max-width: 100%;overflow: auto;}#sk-container-id-1 input.sk-toggleable__control:checked~label.sk-toggleable__label-arrow:before {content: \"▾\";}#sk-container-id-1 div.sk-estimator input.sk-toggleable__control:checked~label.sk-toggleable__label {background-color: #d4ebff;}#sk-container-id-1 div.sk-label input.sk-toggleable__control:checked~label.sk-toggleable__label {background-color: #d4ebff;}#sk-container-id-1 input.sk-hidden--visually {border: 0;clip: rect(1px 1px 1px 1px);clip: rect(1px, 1px, 1px, 1px);height: 1px;margin: -1px;overflow: hidden;padding: 0;position: absolute;width: 1px;}#sk-container-id-1 div.sk-estimator {font-family: monospace;background-color: #f0f8ff;border: 1px dotted black;border-radius: 0.25em;box-sizing: border-box;margin-bottom: 0.5em;}#sk-container-id-1 div.sk-estimator:hover {background-color: #d4ebff;}#sk-container-id-1 div.sk-parallel-item::after {content: \"\";width: 100%;border-bottom: 1px solid gray;flex-grow: 1;}#sk-container-id-1 div.sk-label:hover label.sk-toggleable__label {background-color: #d4ebff;}#sk-container-id-1 div.sk-serial::before {content: \"\";position: absolute;border-left: 1px solid gray;box-sizing: border-box;top: 0;bottom: 0;left: 50%;z-index: 0;}#sk-container-id-1 div.sk-serial {display: flex;flex-direction: column;align-items: center;background-color: white;padding-right: 0.2em;padding-left: 0.2em;position: relative;}#sk-container-id-1 div.sk-item {position: relative;z-index: 1;}#sk-container-id-1 div.sk-parallel {display: flex;align-items: stretch;justify-content: center;background-color: white;position: relative;}#sk-container-id-1 div.sk-item::before, #sk-container-id-1 div.sk-parallel-item::before {content: \"\";position: absolute;border-left: 1px solid gray;box-sizing: border-box;top: 0;bottom: 0;left: 50%;z-index: -1;}#sk-container-id-1 div.sk-parallel-item {display: flex;flex-direction: column;z-index: 1;position: relative;background-color: white;}#sk-container-id-1 div.sk-parallel-item:first-child::after {align-self: flex-end;width: 50%;}#sk-container-id-1 div.sk-parallel-item:last-child::after {align-self: flex-start;width: 50%;}#sk-container-id-1 div.sk-parallel-item:only-child::after {width: 0;}#sk-container-id-1 div.sk-dashed-wrapped {border: 1px dashed gray;margin: 0 0.4em 0.5em 0.4em;box-sizing: border-box;padding-bottom: 0.4em;background-color: white;}#sk-container-id-1 div.sk-label label {font-family: monospace;font-weight: bold;display: inline-block;line-height: 1.2em;}#sk-container-id-1 div.sk-label-container {text-align: center;}#sk-container-id-1 div.sk-container {/* jupyter's `normalize.less` sets `[hidden] { display: none; }` but bootstrap.min.css set `[hidden] { display: none !important; }` so we also need the `!important` here to be able to override the default hidden behavior on the sphinx rendered scikit-learn.org. See: https://github.com/scikit-learn/scikit-learn/issues/21755 */display: inline-block !important;position: relative;}#sk-container-id-1 div.sk-text-repr-fallback {display: none;}</style><div id=\"sk-container-id-1\" class=\"sk-top-container\"><div class=\"sk-text-repr-fallback\"><pre>DictVectorizer(sparse=False)</pre><b>In a Jupyter environment, please rerun this cell to show the HTML representation or trust the notebook. <br />On GitHub, the HTML representation is unable to render, please try loading this page with nbviewer.org.</b></div><div class=\"sk-container\" hidden><div class=\"sk-item\"><div class=\"sk-estimator sk-toggleable\"><input class=\"sk-toggleable__control sk-hidden--visually\" id=\"sk-estimator-id-1\" type=\"checkbox\" checked><label for=\"sk-estimator-id-1\" class=\"sk-toggleable__label sk-toggleable__label-arrow\">DictVectorizer</label><div class=\"sk-toggleable__content\"><pre>DictVectorizer(sparse=False)</pre></div></div></div></div></div>"
      ],
      "text/plain": [
       "DictVectorizer(sparse=False)"
      ]
     },
     "execution_count": 38,
     "metadata": {},
     "output_type": "execute_result"
    }
   ],
   "source": [
    "dv = DictVectorizer(sparse=False)\n",
    "dv.fit(train_dict)"
   ]
  },
  {
   "cell_type": "code",
   "execution_count": 39,
   "id": "03b23961",
   "metadata": {},
   "outputs": [
    {
     "data": {
      "text/plain": [
       "array([[4.1000e+01, 0.0000e+00, 1.0000e+00, ..., 0.0000e+00, 1.0000e+00,\n",
       "        0.0000e+00],\n",
       "       [3.8000e+01, 1.1460e+03, 2.0000e+00, ..., 0.0000e+00, 1.0000e+00,\n",
       "        0.0000e+00],\n",
       "       [4.1000e+01, 2.0670e+03, 7.0000e+00, ..., 0.0000e+00, 1.0000e+00,\n",
       "        0.0000e+00],\n",
       "       ...,\n",
       "       [4.3000e+01, 1.3044e+04, 4.0000e+00, ..., 0.0000e+00, 1.0000e+00,\n",
       "        0.0000e+00],\n",
       "       [4.9000e+01, 1.1140e+03, 1.0000e+00, ..., 0.0000e+00, 1.0000e+00,\n",
       "        0.0000e+00],\n",
       "       [5.8000e+01, 4.9700e+02, 5.0000e+00, ..., 0.0000e+00, 1.0000e+00,\n",
       "        0.0000e+00]])"
      ]
     },
     "execution_count": 39,
     "metadata": {},
     "output_type": "execute_result"
    }
   ],
   "source": [
    "X_train_ = dv.transform(train_dict)\n",
    "X_train_"
   ]
  },
  {
   "cell_type": "code",
   "execution_count": 40,
   "id": "04146f53",
   "metadata": {},
   "outputs": [
    {
     "data": {
      "text/plain": [
       "(2712, 51)"
      ]
     },
     "execution_count": 40,
     "metadata": {},
     "output_type": "execute_result"
    }
   ],
   "source": [
    "X_train_.shape"
   ]
  },
  {
   "cell_type": "code",
   "execution_count": 41,
   "id": "2e49f298",
   "metadata": {},
   "outputs": [
    {
     "data": {
      "text/plain": [
       "array(['age', 'balance', 'campaign', 'contact=cellular',\n",
       "       'contact=telephone', 'contact=unknown', 'day', 'default=no',\n",
       "       'default=yes', 'duration', 'education=primary',\n",
       "       'education=secondary', 'education=tertiary', 'education=unknown',\n",
       "       'housing=no', 'housing=yes', 'job=admin.', 'job=blue-collar',\n",
       "       'job=entrepreneur', 'job=housemaid', 'job=management',\n",
       "       'job=retired', 'job=self-employed', 'job=services', 'job=student',\n",
       "       'job=technician', 'job=unemployed', 'job=unknown', 'loan=no',\n",
       "       'loan=yes', 'marital=divorced', 'marital=married',\n",
       "       'marital=single', 'month=apr', 'month=aug', 'month=dec',\n",
       "       'month=feb', 'month=jan', 'month=jul', 'month=jun', 'month=mar',\n",
       "       'month=may', 'month=nov', 'month=oct', 'month=sep', 'pdays',\n",
       "       'poutcome=failure', 'poutcome=other', 'poutcome=success',\n",
       "       'poutcome=unknown', 'previous'], dtype=object)"
      ]
     },
     "execution_count": 41,
     "metadata": {},
     "output_type": "execute_result"
    }
   ],
   "source": [
    "dv.get_feature_names_out()"
   ]
  },
  {
   "cell_type": "code",
   "execution_count": 42,
   "id": "5c37c14e",
   "metadata": {},
   "outputs": [
    {
     "data": {
      "text/plain": [
       "array([[ 4.500e+01,  0.000e+00,  7.000e+00, ...,  0.000e+00,  1.000e+00,\n",
       "         0.000e+00],\n",
       "       [ 3.700e+01,  4.140e+02,  2.000e+00, ...,  0.000e+00,  0.000e+00,\n",
       "         4.000e+00],\n",
       "       [ 3.500e+01, -3.390e+02,  2.000e+00, ...,  0.000e+00,  1.000e+00,\n",
       "         0.000e+00],\n",
       "       ...,\n",
       "       [ 3.400e+01,  4.100e+01,  9.000e+00, ...,  0.000e+00,  1.000e+00,\n",
       "         0.000e+00],\n",
       "       [ 4.200e+01,  7.702e+03,  2.000e+00, ...,  0.000e+00,  1.000e+00,\n",
       "         0.000e+00],\n",
       "       [ 5.900e+01,  0.000e+00,  2.000e+00, ...,  0.000e+00,  1.000e+00,\n",
       "         0.000e+00]])"
      ]
     },
     "execution_count": 42,
     "metadata": {},
     "output_type": "execute_result"
    }
   ],
   "source": [
    "val_dict = df_val[categorical + numerical].to_dict(orient='records')\n",
    "X_val_ = dv.transform(val_dict)\n",
    "X_val_"
   ]
  },
  {
   "cell_type": "markdown",
   "id": "2ef39191",
   "metadata": {},
   "source": [
    "**Train the Logistic Regression**"
   ]
  },
  {
   "cell_type": "code",
   "execution_count": 43,
   "id": "a832011d",
   "metadata": {},
   "outputs": [],
   "source": [
    "from sklearn.linear_model import LogisticRegression"
   ]
  },
  {
   "cell_type": "code",
   "execution_count": 44,
   "id": "c6c5aa60",
   "metadata": {},
   "outputs": [
    {
     "data": {
      "text/html": [
       "<style>#sk-container-id-2 {color: black;background-color: white;}#sk-container-id-2 pre{padding: 0;}#sk-container-id-2 div.sk-toggleable {background-color: white;}#sk-container-id-2 label.sk-toggleable__label {cursor: pointer;display: block;width: 100%;margin-bottom: 0;padding: 0.3em;box-sizing: border-box;text-align: center;}#sk-container-id-2 label.sk-toggleable__label-arrow:before {content: \"▸\";float: left;margin-right: 0.25em;color: #696969;}#sk-container-id-2 label.sk-toggleable__label-arrow:hover:before {color: black;}#sk-container-id-2 div.sk-estimator:hover label.sk-toggleable__label-arrow:before {color: black;}#sk-container-id-2 div.sk-toggleable__content {max-height: 0;max-width: 0;overflow: hidden;text-align: left;background-color: #f0f8ff;}#sk-container-id-2 div.sk-toggleable__content pre {margin: 0.2em;color: black;border-radius: 0.25em;background-color: #f0f8ff;}#sk-container-id-2 input.sk-toggleable__control:checked~div.sk-toggleable__content {max-height: 200px;max-width: 100%;overflow: auto;}#sk-container-id-2 input.sk-toggleable__control:checked~label.sk-toggleable__label-arrow:before {content: \"▾\";}#sk-container-id-2 div.sk-estimator input.sk-toggleable__control:checked~label.sk-toggleable__label {background-color: #d4ebff;}#sk-container-id-2 div.sk-label input.sk-toggleable__control:checked~label.sk-toggleable__label {background-color: #d4ebff;}#sk-container-id-2 input.sk-hidden--visually {border: 0;clip: rect(1px 1px 1px 1px);clip: rect(1px, 1px, 1px, 1px);height: 1px;margin: -1px;overflow: hidden;padding: 0;position: absolute;width: 1px;}#sk-container-id-2 div.sk-estimator {font-family: monospace;background-color: #f0f8ff;border: 1px dotted black;border-radius: 0.25em;box-sizing: border-box;margin-bottom: 0.5em;}#sk-container-id-2 div.sk-estimator:hover {background-color: #d4ebff;}#sk-container-id-2 div.sk-parallel-item::after {content: \"\";width: 100%;border-bottom: 1px solid gray;flex-grow: 1;}#sk-container-id-2 div.sk-label:hover label.sk-toggleable__label {background-color: #d4ebff;}#sk-container-id-2 div.sk-serial::before {content: \"\";position: absolute;border-left: 1px solid gray;box-sizing: border-box;top: 0;bottom: 0;left: 50%;z-index: 0;}#sk-container-id-2 div.sk-serial {display: flex;flex-direction: column;align-items: center;background-color: white;padding-right: 0.2em;padding-left: 0.2em;position: relative;}#sk-container-id-2 div.sk-item {position: relative;z-index: 1;}#sk-container-id-2 div.sk-parallel {display: flex;align-items: stretch;justify-content: center;background-color: white;position: relative;}#sk-container-id-2 div.sk-item::before, #sk-container-id-2 div.sk-parallel-item::before {content: \"\";position: absolute;border-left: 1px solid gray;box-sizing: border-box;top: 0;bottom: 0;left: 50%;z-index: -1;}#sk-container-id-2 div.sk-parallel-item {display: flex;flex-direction: column;z-index: 1;position: relative;background-color: white;}#sk-container-id-2 div.sk-parallel-item:first-child::after {align-self: flex-end;width: 50%;}#sk-container-id-2 div.sk-parallel-item:last-child::after {align-self: flex-start;width: 50%;}#sk-container-id-2 div.sk-parallel-item:only-child::after {width: 0;}#sk-container-id-2 div.sk-dashed-wrapped {border: 1px dashed gray;margin: 0 0.4em 0.5em 0.4em;box-sizing: border-box;padding-bottom: 0.4em;background-color: white;}#sk-container-id-2 div.sk-label label {font-family: monospace;font-weight: bold;display: inline-block;line-height: 1.2em;}#sk-container-id-2 div.sk-label-container {text-align: center;}#sk-container-id-2 div.sk-container {/* jupyter's `normalize.less` sets `[hidden] { display: none; }` but bootstrap.min.css set `[hidden] { display: none !important; }` so we also need the `!important` here to be able to override the default hidden behavior on the sphinx rendered scikit-learn.org. See: https://github.com/scikit-learn/scikit-learn/issues/21755 */display: inline-block !important;position: relative;}#sk-container-id-2 div.sk-text-repr-fallback {display: none;}</style><div id=\"sk-container-id-2\" class=\"sk-top-container\"><div class=\"sk-text-repr-fallback\"><pre>LogisticRegression(max_iter=1000, solver=&#x27;liblinear&#x27;)</pre><b>In a Jupyter environment, please rerun this cell to show the HTML representation or trust the notebook. <br />On GitHub, the HTML representation is unable to render, please try loading this page with nbviewer.org.</b></div><div class=\"sk-container\" hidden><div class=\"sk-item\"><div class=\"sk-estimator sk-toggleable\"><input class=\"sk-toggleable__control sk-hidden--visually\" id=\"sk-estimator-id-2\" type=\"checkbox\" checked><label for=\"sk-estimator-id-2\" class=\"sk-toggleable__label sk-toggleable__label-arrow\">LogisticRegression</label><div class=\"sk-toggleable__content\"><pre>LogisticRegression(max_iter=1000, solver=&#x27;liblinear&#x27;)</pre></div></div></div></div></div>"
      ],
      "text/plain": [
       "LogisticRegression(max_iter=1000, solver='liblinear')"
      ]
     },
     "execution_count": 44,
     "metadata": {},
     "output_type": "execute_result"
    }
   ],
   "source": [
    "model = LogisticRegression(solver='liblinear', C=1.0, max_iter=1000)\n",
    "model.fit(X_train_, y_train_)"
   ]
  },
  {
   "cell_type": "code",
   "execution_count": 45,
   "id": "f55474e5",
   "metadata": {},
   "outputs": [
    {
     "data": {
      "text/plain": [
       "-0.8140857758856016"
      ]
     },
     "execution_count": 45,
     "metadata": {},
     "output_type": "execute_result"
    }
   ],
   "source": [
    "model.intercept_[0]"
   ]
  },
  {
   "cell_type": "code",
   "execution_count": 46,
   "id": "034fc05e",
   "metadata": {},
   "outputs": [
    {
     "data": {
      "text/plain": [
       "array([-0.000e+00,  0.000e+00, -5.200e-02,  1.930e-01,  4.300e-02,\n",
       "       -1.050e+00,  1.700e-02, -7.310e-01, -8.300e-02,  4.000e-03,\n",
       "       -2.110e-01, -1.750e-01,  2.090e-01, -6.380e-01, -2.050e-01,\n",
       "       -6.100e-01, -3.600e-02, -2.490e-01, -6.610e-01, -4.390e-01,\n",
       "       -2.130e-01,  6.490e-01, -2.040e-01,  2.100e-01,  6.240e-01,\n",
       "       -1.440e-01, -4.200e-01,  6.900e-02, -9.500e-02, -7.200e-01,\n",
       "        2.100e-02, -4.730e-01, -3.620e-01, -2.680e-01, -4.390e-01,\n",
       "        2.730e-01,  2.830e-01, -9.980e-01, -7.330e-01,  2.420e-01,\n",
       "        1.059e+00, -5.070e-01, -8.770e-01,  9.700e-01,  1.810e-01,\n",
       "        1.000e-03, -9.460e-01, -4.240e-01,  1.471e+00, -9.150e-01,\n",
       "        1.100e-02])"
      ]
     },
     "execution_count": 46,
     "metadata": {},
     "output_type": "execute_result"
    }
   ],
   "source": [
    "model.coef_[0].round(3)"
   ]
  },
  {
   "cell_type": "code",
   "execution_count": 47,
   "id": "dc47d573",
   "metadata": {},
   "outputs": [
    {
     "data": {
      "text/plain": [
       "array([1.21771428e-02, 1.05826419e-01, 1.99595834e-02, 6.59134294e-01,\n",
       "       7.04275418e-02, 1.55477630e-01, 7.10393483e-03, 2.86609621e-01,\n",
       "       1.68224461e-02, 2.47373265e-01, 1.52994523e-02, 2.75917131e-01,\n",
       "       1.07369311e-01, 4.97599842e-01, 4.66950410e-02, 1.70466275e-01,\n",
       "       7.45735099e-02, 2.86730187e-02, 2.47537472e-01, 1.63221889e-02,\n",
       "       5.33564446e-02, 8.51073297e-02, 5.22051894e-02, 7.55056810e-02,\n",
       "       4.10154384e-02, 6.68193742e-02, 1.34529130e-01, 1.35000630e-02,\n",
       "       7.98853682e-02, 1.88900318e-01, 9.30875489e-03, 9.56799309e-03,\n",
       "       6.45090921e-03, 4.62183242e-02, 1.33931094e-01, 4.86267937e-02,\n",
       "       1.08552338e-02, 2.56508790e-02, 1.64036182e-02, 8.19716076e-03,\n",
       "       1.19671371e-02, 1.31944591e-01, 1.59599796e-02, 7.73017350e-02,\n",
       "       7.71708470e-01, 6.25938027e-02, 7.71750614e-03, 1.26390367e-02,\n",
       "       7.08850261e-02, 1.42974955e-02, 1.31034504e-01, 2.29904795e-02,\n",
       "       4.11665831e-02, 1.76100633e-02, 1.85449980e-02, 1.94337339e-02,\n",
       "       5.15693826e-02, 1.50472415e-02, 7.96739045e-03, 5.47667824e-01,\n",
       "       6.69436165e-03, 1.22948441e-01, 3.48286226e-02, 4.17817559e-01,\n",
       "       2.98404550e-02, 1.84423110e-02, 7.31135330e-02, 9.03578143e-02,\n",
       "       3.58404973e-02, 1.27633911e-01, 9.55883678e-01, 3.33760770e-02,\n",
       "       6.70739690e-02, 2.22593425e-02, 9.36069245e-01, 8.91047578e-01,\n",
       "       8.93849483e-03, 1.21265011e-01, 7.34790735e-02, 2.24843960e-02,\n",
       "       7.94799888e-02, 3.58587835e-02, 1.23248331e-02, 6.58317628e-02,\n",
       "       7.94955327e-01, 2.69512588e-02, 4.59707134e-02, 8.74901348e-02,\n",
       "       1.10566103e-01, 5.96875813e-02, 1.14059848e-01, 3.39560368e-01,\n",
       "       6.14135229e-02, 5.13081264e-02, 4.48826069e-03, 2.00005634e-02,\n",
       "       5.25804496e-02, 8.26857573e-03, 1.21184428e-02, 3.34373273e-02,\n",
       "       2.16359674e-02, 4.62893646e-02, 2.23369959e-01, 9.89629507e-01,\n",
       "       2.89656794e-02, 5.28321527e-02, 8.06435066e-02, 2.41190420e-02,\n",
       "       1.36676209e-02, 2.91132467e-02, 3.99786363e-02, 1.80583975e-02,\n",
       "       7.23263778e-03, 7.77650486e-02, 4.87877166e-01, 2.57874618e-02,\n",
       "       1.23317878e-02, 1.89467841e-01, 4.26780075e-02, 6.75835219e-02,\n",
       "       9.90489016e-02, 4.31398952e-01, 5.61145692e-02, 6.43064860e-02,\n",
       "       9.41903488e-02, 2.35984120e-02, 6.92970366e-02, 7.26821374e-02,\n",
       "       2.57072739e-02, 6.91154611e-02, 2.67434968e-01, 3.10906392e-02,\n",
       "       6.25795151e-02, 8.02940285e-02, 6.82690352e-02, 3.32784243e-02,\n",
       "       2.32330205e-01, 3.95094598e-02, 2.28549054e-02, 5.21294696e-02,\n",
       "       7.97907630e-03, 2.77896975e-02, 6.23713090e-02, 9.50304023e-02,\n",
       "       2.63025371e-01, 7.78554910e-02, 2.79785943e-02, 3.77170160e-01,\n",
       "       4.58048655e-02, 2.02371236e-02, 2.60079660e-02, 1.20162269e-01,\n",
       "       1.92490895e-01, 1.38716256e-01, 2.98502497e-02, 8.00924427e-01,\n",
       "       3.64299952e-01, 4.36839282e-02, 4.70517788e-03, 8.72687996e-02,\n",
       "       4.26889211e-02, 7.82103516e-03, 8.45372290e-02, 1.33726313e-01,\n",
       "       6.91375033e-02, 1.59836954e-02, 2.02938967e-02, 6.53321811e-02,\n",
       "       2.36439019e-01, 7.75981121e-02, 1.98744657e-02, 8.58886943e-01,\n",
       "       7.63277532e-01, 2.85049931e-02, 2.13234855e-02, 3.57790291e-02,\n",
       "       1.95154634e-02, 6.44012947e-02, 4.94331991e-01, 9.87368101e-01,\n",
       "       1.32802905e-02, 1.28022286e-01, 6.52440351e-03, 1.96205532e-02,\n",
       "       1.34232357e-02, 6.08370588e-01, 5.59966958e-02, 1.51282270e-02,\n",
       "       4.82173648e-01, 4.23938575e-01, 3.16621481e-02, 3.61506933e-02,\n",
       "       5.12014713e-02, 4.83022868e-02, 3.74129803e-02, 5.20335779e-02,\n",
       "       4.64816632e-02, 3.29145625e-02, 1.90499498e-02, 1.71650745e-02,\n",
       "       6.39097321e-02, 5.29807927e-02, 3.95643093e-02, 6.76315426e-03,\n",
       "       5.27142315e-02, 4.25080713e-02, 2.21462616e-01, 8.91223631e-02,\n",
       "       9.77654827e-03, 3.40324690e-02, 1.29278196e-02, 5.99636653e-02,\n",
       "       1.22094841e-01, 1.83283564e-02, 9.96813826e-01, 3.92268591e-01,\n",
       "       9.06521964e-02, 3.92158703e-02, 1.34314496e-01, 6.20907233e-02,\n",
       "       3.99273369e-03, 6.57288898e-01, 2.92799442e-03, 3.81828128e-02,\n",
       "       2.26820919e-02, 4.77730305e-01, 3.49577710e-01, 6.18980423e-02,\n",
       "       7.78229533e-03, 2.69683242e-02, 1.59678362e-01, 1.39428684e-02,\n",
       "       4.44136089e-02, 3.31388366e-02, 4.15797548e-02, 3.30040160e-02,\n",
       "       1.80781746e-01, 4.31009381e-02, 3.44003513e-01, 4.18387383e-02,\n",
       "       4.73352532e-02, 2.36641359e-01, 2.26216395e-01, 1.58822816e-02,\n",
       "       4.54894419e-02, 8.93917767e-01, 2.95774302e-02, 5.08207043e-02,\n",
       "       3.84586757e-02, 2.20095337e-01, 4.71959713e-02, 5.65219898e-02,\n",
       "       4.11486306e-02, 7.85075141e-03, 3.65583640e-01, 2.26299689e-02,\n",
       "       3.26629234e-01, 6.33006407e-02, 1.61705085e-02, 9.33032240e-01,\n",
       "       5.06568000e-02, 1.18124485e-01, 1.57201320e-01, 5.24188705e-02,\n",
       "       6.91727730e-02, 6.60850697e-02, 3.24223216e-01, 3.22357339e-03,\n",
       "       7.53052085e-03, 1.60599336e-02, 1.25653778e-02, 4.07635437e-02,\n",
       "       2.87250853e-02, 1.75562678e-02, 1.42106479e-01, 4.72152353e-02,\n",
       "       2.63603642e-02, 5.39259943e-03, 7.02786458e-01, 5.44049666e-02,\n",
       "       6.54726098e-03, 6.03318932e-02, 7.08657240e-02, 1.66517238e-01,\n",
       "       7.17633991e-02, 4.92146788e-02, 5.72164942e-02, 9.27814464e-02,\n",
       "       2.42548069e-01, 1.01186503e-02, 4.01803162e-01, 1.30525053e-02,\n",
       "       1.23282193e-02, 1.15525095e-02, 1.55309929e-01, 6.57316957e-01,\n",
       "       2.36370611e-02, 9.30627720e-03, 8.74139994e-02, 8.42782976e-02,\n",
       "       8.45993378e-02, 3.97506151e-02, 5.74539097e-02, 1.31760781e-02,\n",
       "       1.01312940e-01, 2.68725951e-02, 5.63187107e-03, 2.98522171e-02,\n",
       "       2.88343589e-02, 3.45536888e-02, 1.64618132e-02, 2.40449967e-02,\n",
       "       5.97612433e-03, 3.87664881e-02, 3.21477569e-02, 1.64961689e-02,\n",
       "       2.65397907e-02, 9.10975610e-03, 1.33903488e-02, 3.00998821e-02,\n",
       "       8.42264493e-01, 4.74279912e-02, 5.40239905e-01, 4.31950394e-02,\n",
       "       1.42349857e-02, 4.81651343e-01, 7.94991941e-01, 5.90110078e-02,\n",
       "       2.33803698e-01, 5.39118380e-02, 3.78227075e-02, 1.10030989e-01,\n",
       "       4.93344473e-02, 6.39907784e-02, 3.71521687e-02, 1.09196384e-01,\n",
       "       3.80841412e-02, 1.87577159e-02, 5.49470739e-03, 2.43519601e-03,\n",
       "       2.41795979e-02, 2.38772116e-01, 9.72486873e-02, 8.90528881e-03,\n",
       "       2.97609763e-02, 1.00819328e-01, 3.96786803e-02, 6.50156771e-02,\n",
       "       5.93822585e-02, 1.97400927e-02, 2.68171895e-02, 2.24203724e-02,\n",
       "       3.83116374e-02, 4.04241817e-02, 3.74048945e-02, 1.03300735e-02,\n",
       "       3.97318364e-01, 1.29319524e-01, 3.54445273e-02, 2.54708939e-02,\n",
       "       1.11165236e-01, 3.92592518e-01, 6.85071824e-02, 1.08848303e-02,\n",
       "       4.12450589e-02, 1.50798117e-01, 1.23944222e-01, 2.56613311e-01,\n",
       "       3.05703021e-02, 2.64988128e-01, 2.23667664e-02, 5.78869058e-02,\n",
       "       3.31361994e-03, 1.35944759e-01, 1.92630180e-02, 1.85615734e-02,\n",
       "       6.37873333e-02, 8.40954295e-02, 5.42534743e-02, 3.27671608e-02,\n",
       "       5.01118941e-01, 5.16958932e-03, 2.88807198e-02, 1.21314434e-01,\n",
       "       3.11549848e-01, 1.82820922e-02, 4.99467304e-02, 8.98956835e-03,\n",
       "       1.98152761e-02, 9.04713473e-01, 4.36133835e-02, 1.92091790e-02,\n",
       "       4.66648167e-02, 4.15499225e-02, 1.26757075e-02, 3.05604240e-02,\n",
       "       3.54210758e-02, 1.30897342e-02, 1.96949074e-02, 2.27540692e-03,\n",
       "       5.87125382e-02, 8.57813240e-02, 8.87901561e-02, 1.75956300e-01,\n",
       "       5.31047963e-02, 6.14601964e-02, 8.25740649e-01, 1.12162251e-01,\n",
       "       1.48579087e-01, 4.21495177e-02, 1.87136580e-01, 4.97485535e-02,\n",
       "       7.69449116e-02, 3.20644421e-02, 2.68534468e-01, 2.17624685e-01,\n",
       "       1.56001192e-02, 8.47413194e-02, 1.17424775e-01, 9.17034499e-02,\n",
       "       5.71471633e-03, 9.39247493e-03, 1.03438702e-01, 3.35677253e-02,\n",
       "       4.86724601e-02, 1.31586644e-02, 3.53760038e-02, 8.51352879e-02,\n",
       "       8.50105727e-02, 1.50772721e-02, 1.33174951e-01, 2.89649157e-02,\n",
       "       2.09685116e-01, 1.41876375e-02, 1.07967294e-02, 2.13942720e-01,\n",
       "       1.37780296e-02, 2.75899265e-01, 3.53805355e-03, 6.94190285e-03,\n",
       "       8.44311520e-02, 3.81732731e-02, 3.21127699e-02, 8.34158091e-02,\n",
       "       6.23194235e-02, 6.52785401e-02, 1.06750604e-01, 1.29310766e-01,\n",
       "       1.34176197e-01, 4.16546897e-02, 3.25368973e-02, 2.66134055e-02,\n",
       "       9.98019579e-02, 3.53459975e-02, 5.68962277e-03, 2.58029805e-02,\n",
       "       1.38773691e-02, 1.03418780e-02, 2.45504470e-02, 2.04668867e-02,\n",
       "       4.70038210e-02, 1.12913338e-01, 6.37808619e-02, 7.83999656e-03,\n",
       "       8.77142476e-03, 1.30553542e-02, 1.99522698e-01, 2.71113427e-01,\n",
       "       1.02734298e-01, 5.49989144e-02, 5.10722644e-02, 5.78122783e-02,\n",
       "       1.59931681e-01, 1.41530472e-02, 7.96380646e-02, 7.78196292e-02,\n",
       "       4.26964002e-02, 3.91473326e-02, 4.88106949e-02, 2.92093411e-02,\n",
       "       6.21605032e-02, 6.97567025e-02, 4.48965326e-02, 1.53841701e-02,\n",
       "       5.66226136e-01, 2.13339367e-01, 5.91253686e-03, 1.46027623e-02,\n",
       "       8.27620996e-03, 3.74519856e-02, 6.96944006e-02, 2.01430438e-02,\n",
       "       2.14784137e-02, 6.31495749e-01, 5.11304418e-01, 1.53053830e-02,\n",
       "       1.02140995e-01, 1.64350569e-01, 9.83739163e-03, 1.38002144e-02,\n",
       "       8.13322692e-01, 2.35586035e-01, 1.82870949e-01, 1.47339295e-01,\n",
       "       3.30193805e-02, 5.33916224e-03, 2.84962412e-02, 2.05662394e-02,\n",
       "       7.10719583e-03, 3.56250491e-02, 3.29360434e-02, 2.62364780e-02,\n",
       "       3.11506590e-02, 1.66600373e-02, 3.17749897e-01, 5.93836827e-03,\n",
       "       9.94213387e-01, 4.14530225e-02, 4.74400291e-03, 2.00714750e-02,\n",
       "       3.80021278e-02, 1.38951093e-02, 4.28901748e-02, 3.24668058e-02,\n",
       "       1.41650356e-02, 1.49547845e-02, 2.80840590e-02, 2.08269336e-02,\n",
       "       2.10377081e-01, 8.17765445e-02, 4.97679897e-02, 3.12741304e-02,\n",
       "       3.73429071e-02, 2.99136125e-02, 8.14752141e-02, 7.08487140e-02,\n",
       "       4.84058667e-02, 2.80156662e-02, 2.30811814e-02, 2.71667105e-02,\n",
       "       9.46085569e-02, 1.75326652e-02, 2.42537237e-01, 1.68731891e-02,\n",
       "       3.50435569e-02, 1.60486729e-01, 4.69873973e-02, 5.90413386e-02,\n",
       "       2.06481056e-02, 7.03810910e-02, 5.03863140e-02, 8.99339053e-01,\n",
       "       5.39177053e-02, 5.96119157e-01, 1.53780836e-01, 1.54462748e-01,\n",
       "       4.66692089e-02, 2.70007053e-01, 1.49990944e-01, 4.27608019e-02,\n",
       "       2.31821578e-02, 9.96228089e-01, 2.66696456e-02, 3.92217650e-02,\n",
       "       3.47723345e-02, 2.82030658e-02, 3.79865765e-02, 7.65167485e-02,\n",
       "       1.22055769e-02, 8.80034103e-03, 8.31645913e-02, 3.13094360e-01,\n",
       "       1.10014530e-02, 3.42437096e-02, 3.12759445e-02, 6.73372944e-01,\n",
       "       2.17150017e-02, 2.05395918e-01, 3.86923191e-02, 1.37634491e-01,\n",
       "       1.23127675e-02, 1.31332557e-02, 5.39150095e-02, 1.40956017e-02,\n",
       "       1.83144592e-02, 5.91002747e-03, 2.80641660e-02, 1.72341569e-02,\n",
       "       2.80308150e-02, 3.23105902e-02, 1.52209524e-02, 8.79390404e-02,\n",
       "       5.70889754e-02, 1.62119079e-02, 3.86749153e-02, 1.41662569e-01,\n",
       "       7.23340621e-02, 5.50787648e-02, 8.96355360e-02, 3.50568043e-01,\n",
       "       9.52705576e-02, 7.40976742e-03, 3.74764920e-02, 1.36812288e-01,\n",
       "       8.09910218e-02, 7.41349855e-03, 4.11180493e-02, 7.48415296e-02,\n",
       "       2.56660128e-02, 6.03845599e-02, 2.30668289e-02, 8.48168939e-01,\n",
       "       6.55181064e-02, 3.61457244e-02, 2.50137882e-02, 1.24084516e-02,\n",
       "       5.26880951e-02, 2.96821065e-01, 2.59678098e-02, 1.15000971e-01,\n",
       "       1.19007837e-02, 2.12813715e-02, 6.61508439e-03, 6.31798820e-01,\n",
       "       4.34861039e-03, 1.15010203e-02, 4.81846699e-03, 2.90893108e-02,\n",
       "       5.32446227e-02, 3.40913628e-02, 3.13651830e-02, 5.12126183e-02,\n",
       "       5.08472373e-02, 4.80946302e-02, 7.73570696e-03, 2.23193079e-02,\n",
       "       9.35482428e-03, 9.77382635e-01, 8.68226785e-02, 2.50665937e-02,\n",
       "       1.59545946e-02, 1.09769130e-02, 1.96403328e-01, 4.02536299e-02,\n",
       "       1.71535750e-02, 1.34648600e-02, 1.08312502e-02, 3.48037194e-02,\n",
       "       1.15127144e-02, 3.05042248e-01, 3.09020224e-01, 3.21136683e-02,\n",
       "       1.50741967e-02, 3.43604371e-01, 1.83387400e-02, 4.13545469e-02,\n",
       "       3.05243301e-01, 3.19790789e-02, 3.39320946e-02, 2.43153909e-02,\n",
       "       2.29783352e-02, 4.68258522e-02, 4.92779956e-02, 1.81095597e-02,\n",
       "       3.02332554e-02, 8.69103492e-03, 1.71151987e-02, 6.00129398e-02,\n",
       "       2.30148641e-02, 1.58388497e-02, 3.18881186e-02, 4.14423151e-02,\n",
       "       3.03621074e-02, 2.91877711e-02, 1.40083617e-01, 1.24624909e-02,\n",
       "       2.13499075e-02, 1.08979223e-02, 5.99200932e-02, 1.56918578e-01,\n",
       "       7.96547136e-02, 2.78816115e-02, 8.54631633e-03, 2.64880631e-02,\n",
       "       9.79819414e-01, 1.36741807e-02, 3.20215058e-01, 2.48268063e-02,\n",
       "       6.07959676e-02, 1.19901011e-02, 2.02540911e-02, 4.27121915e-02,\n",
       "       4.36779553e-01, 3.71072888e-02, 1.11493201e-01, 9.34290618e-02,\n",
       "       1.42058696e-02, 4.39633082e-02, 3.45441365e-02, 4.73970559e-02,\n",
       "       1.82838536e-02, 3.40947592e-02, 8.50569906e-02, 1.72666617e-02,\n",
       "       4.38883502e-02, 5.01327695e-02, 1.95345140e-02, 5.02740933e-02,\n",
       "       1.71997579e-02, 2.79193378e-01, 1.90340621e-02, 3.34899721e-02,\n",
       "       9.23199597e-02, 9.55030930e-03, 8.86732825e-03, 9.27376537e-03,\n",
       "       2.37940130e-02, 5.36514932e-02, 2.07476646e-02, 6.60373059e-02,\n",
       "       2.56717709e-02, 8.22846808e-01, 6.52281155e-01, 9.30714334e-03,\n",
       "       1.98095026e-01, 5.20946100e-03, 2.51656701e-02, 2.48259042e-01,\n",
       "       2.29422455e-02, 1.83735516e-01, 1.03138880e-01, 2.12093790e-02,\n",
       "       2.18378419e-02, 9.88058246e-03, 4.92387900e-02, 2.84768200e-02,\n",
       "       3.37634948e-02, 1.70196296e-02, 6.45214144e-02, 7.14203929e-02,\n",
       "       6.79138879e-03, 2.13209303e-02, 1.30329895e-02, 4.05957546e-02,\n",
       "       4.61603570e-02, 5.75833750e-03, 4.39630058e-02, 9.69419410e-02,\n",
       "       1.54249489e-01, 2.08175640e-02, 4.63079334e-01, 2.81999077e-02,\n",
       "       3.31540485e-02, 2.22020848e-02, 1.60973489e-01, 1.42661931e-02,\n",
       "       1.29879002e-02, 3.54770870e-02, 6.52983489e-01, 6.55995031e-02,\n",
       "       4.23596244e-03, 2.33118859e-02, 1.88214746e-01, 2.20779521e-02,\n",
       "       1.55903227e-02, 9.38158598e-02, 2.01725084e-02, 1.46119505e-02,\n",
       "       4.83346113e-01, 2.67353507e-01, 4.68977924e-01, 5.30164961e-02,\n",
       "       1.65463027e-02, 3.65614579e-02, 1.55632980e-02, 5.81597142e-02,\n",
       "       1.05963865e-01, 3.64652876e-03, 4.09400965e-02, 2.64142958e-02,\n",
       "       4.97297041e-02, 3.63834925e-02, 1.98381564e-02, 1.24482191e-01,\n",
       "       1.62700862e-02, 4.28809226e-02, 6.23717781e-02, 1.49981566e-01,\n",
       "       7.85518981e-03, 2.42151187e-02, 1.60334577e-02, 1.28082590e-02,\n",
       "       5.00223374e-02, 7.63518492e-03, 7.52852378e-02, 6.04480110e-02,\n",
       "       2.90155809e-02, 3.41253213e-02, 3.90489933e-02, 9.53532347e-01,\n",
       "       9.15334005e-01, 3.30054594e-02, 2.21098118e-01, 1.46249467e-02,\n",
       "       1.36788840e-02, 8.23177247e-02, 3.77276004e-01, 7.04183879e-03,\n",
       "       2.42555607e-02, 2.01519715e-02, 6.98449213e-02, 3.51103783e-01,\n",
       "       1.48454123e-02, 1.71605154e-02, 2.12286691e-02, 7.49495008e-01,\n",
       "       5.83904922e-02, 2.80415639e-02, 1.51021142e-02, 3.41593737e-01,\n",
       "       1.08805469e-02, 7.82788141e-02, 1.11320788e-02, 2.63016581e-02,\n",
       "       3.15948280e-02, 2.65261719e-02, 1.36590568e-02, 4.27197597e-02,\n",
       "       1.03100063e-01, 1.56280805e-01, 5.73624226e-03, 4.52503210e-02,\n",
       "       4.59852681e-02, 3.02425787e-02, 1.24220911e-01, 3.80979045e-02,\n",
       "       2.82081251e-02, 9.29248282e-03, 2.09526183e-02, 8.17955171e-02,\n",
       "       4.35070862e-03, 9.01850759e-02, 6.15656407e-01, 2.34975078e-02,\n",
       "       8.66309078e-02, 1.83026469e-02, 1.53094550e-02, 1.38511885e-01,\n",
       "       1.13136007e-01, 2.54417075e-01, 8.17162688e-02, 1.35872865e-01,\n",
       "       7.48087099e-02, 8.11784521e-02, 9.67149535e-02, 5.05985016e-02,\n",
       "       4.89636540e-03, 2.66287923e-01, 1.11874631e-01, 1.04003095e-01,\n",
       "       1.66101625e-01, 1.63669652e-02, 5.26120328e-02, 1.21354612e-02,\n",
       "       1.41001774e-01, 8.50639678e-02, 2.62839371e-02, 3.42629050e-02,\n",
       "       1.43499142e-01, 3.41797773e-02, 2.25518113e-02, 9.14926320e-04,\n",
       "       9.54534343e-02, 3.69327495e-02, 2.05199079e-01, 3.32437825e-01,\n",
       "       1.56319588e-02, 3.25647449e-02, 3.82662184e-01, 4.29784755e-02,\n",
       "       1.15565138e-02, 7.24633365e-02, 4.80745676e-02, 1.34462524e-02,\n",
       "       9.07322704e-02, 2.14564457e-02, 7.26919959e-03, 2.79947700e-01,\n",
       "       4.51267014e-02, 5.01775784e-02, 2.70221489e-02, 3.06363532e-02,\n",
       "       5.96311598e-01, 2.44340427e-02, 3.80486095e-01, 8.93404764e-02,\n",
       "       7.63393460e-02, 1.75184352e-02, 9.87232447e-02, 9.25805236e-02,\n",
       "       3.82457166e-01, 6.29009396e-03, 1.04627009e-01, 9.99881333e-01])"
      ]
     },
     "execution_count": 47,
     "metadata": {},
     "output_type": "execute_result"
    }
   ],
   "source": [
    "pd.options.display.float_format = '{:.3f}'.format\n",
    "\n",
    "y_pred = model.predict_proba(X_val_)[:, 1]\n",
    "y_pred"
   ]
  },
  {
   "cell_type": "code",
   "execution_count": 48,
   "id": "5985a825",
   "metadata": {},
   "outputs": [
    {
     "name": "stdout",
     "output_type": "stream",
     "text": [
      "roc_auc_score --> 0.913\n"
     ]
    }
   ],
   "source": [
    "from sklearn.metrics import roc_auc_score\n",
    "\n",
    "score_roc_auc = round(roc_auc_score(y_val_, y_pred), 3)\n",
    "print(\"roc_auc_score -->\", score_roc_auc)"
   ]
  },
  {
   "cell_type": "markdown",
   "id": "2e33ae28",
   "metadata": {},
   "source": [
    "### Precision and Recall"
   ]
  },
  {
   "cell_type": "markdown",
   "id": "855ab4d0",
   "metadata": {},
   "source": [
    "**Compute precision and recall**"
   ]
  },
  {
   "cell_type": "code",
   "execution_count": 49,
   "id": "faa9759d",
   "metadata": {},
   "outputs": [],
   "source": [
    "from sklearn.metrics import precision_score, recall_score"
   ]
  },
  {
   "cell_type": "code",
   "execution_count": 50,
   "id": "f108648d",
   "metadata": {},
   "outputs": [],
   "source": [
    "thresholds = np.arange(0.0, 1.0, 0.01)\n",
    "\n",
    "score_pre_rec = []\n",
    "\n",
    "for t in thresholds:\n",
    "    score_precision = precision_score(y_val_, y_pred >= t)\n",
    "    score_recall = recall_score(y_val_, y_pred >= t)\n",
    "    score_pre_rec.append({score_precision, score_recall})"
   ]
  },
  {
   "cell_type": "code",
   "execution_count": 51,
   "id": "9e5058a6",
   "metadata": {},
   "outputs": [
    {
     "data": {
      "text/html": [
       "<div>\n",
       "<style scoped>\n",
       "    .dataframe tbody tr th:only-of-type {\n",
       "        vertical-align: middle;\n",
       "    }\n",
       "\n",
       "    .dataframe tbody tr th {\n",
       "        vertical-align: top;\n",
       "    }\n",
       "\n",
       "    .dataframe thead th {\n",
       "        text-align: right;\n",
       "    }\n",
       "</style>\n",
       "<table border=\"1\" class=\"dataframe\">\n",
       "  <thead>\n",
       "    <tr style=\"text-align: right;\">\n",
       "      <th></th>\n",
       "      <th>Threshold</th>\n",
       "      <th>Precision</th>\n",
       "      <th>Recall</th>\n",
       "    </tr>\n",
       "  </thead>\n",
       "  <tbody>\n",
       "    <tr>\n",
       "      <th>0</th>\n",
       "      <td>0.000</td>\n",
       "      <td>0.102</td>\n",
       "      <td>1.000</td>\n",
       "    </tr>\n",
       "    <tr>\n",
       "      <th>1</th>\n",
       "      <td>0.010</td>\n",
       "      <td>0.112</td>\n",
       "      <td>1.000</td>\n",
       "    </tr>\n",
       "    <tr>\n",
       "      <th>2</th>\n",
       "      <td>0.020</td>\n",
       "      <td>0.134</td>\n",
       "      <td>0.989</td>\n",
       "    </tr>\n",
       "    <tr>\n",
       "      <th>3</th>\n",
       "      <td>0.030</td>\n",
       "      <td>0.160</td>\n",
       "      <td>0.978</td>\n",
       "    </tr>\n",
       "    <tr>\n",
       "      <th>4</th>\n",
       "      <td>0.040</td>\n",
       "      <td>0.189</td>\n",
       "      <td>0.967</td>\n",
       "    </tr>\n",
       "    <tr>\n",
       "      <th>...</th>\n",
       "      <td>...</td>\n",
       "      <td>...</td>\n",
       "      <td>...</td>\n",
       "    </tr>\n",
       "    <tr>\n",
       "      <th>95</th>\n",
       "      <td>0.950</td>\n",
       "      <td>0.700</td>\n",
       "      <td>0.076</td>\n",
       "    </tr>\n",
       "    <tr>\n",
       "      <th>96</th>\n",
       "      <td>0.960</td>\n",
       "      <td>0.750</td>\n",
       "      <td>0.065</td>\n",
       "    </tr>\n",
       "    <tr>\n",
       "      <th>97</th>\n",
       "      <td>0.970</td>\n",
       "      <td>0.750</td>\n",
       "      <td>0.065</td>\n",
       "    </tr>\n",
       "    <tr>\n",
       "      <th>98</th>\n",
       "      <td>0.980</td>\n",
       "      <td>0.667</td>\n",
       "      <td>0.043</td>\n",
       "    </tr>\n",
       "    <tr>\n",
       "      <th>99</th>\n",
       "      <td>0.990</td>\n",
       "      <td>0.750</td>\n",
       "      <td>0.033</td>\n",
       "    </tr>\n",
       "  </tbody>\n",
       "</table>\n",
       "<p>100 rows × 3 columns</p>\n",
       "</div>"
      ],
      "text/plain": [
       "    Threshold  Precision  Recall\n",
       "0       0.000      0.102   1.000\n",
       "1       0.010      0.112   1.000\n",
       "2       0.020      0.134   0.989\n",
       "3       0.030      0.160   0.978\n",
       "4       0.040      0.189   0.967\n",
       "..        ...        ...     ...\n",
       "95      0.950      0.700   0.076\n",
       "96      0.960      0.750   0.065\n",
       "97      0.970      0.750   0.065\n",
       "98      0.980      0.667   0.043\n",
       "99      0.990      0.750   0.033\n",
       "\n",
       "[100 rows x 3 columns]"
      ]
     },
     "execution_count": 51,
     "metadata": {},
     "output_type": "execute_result"
    }
   ],
   "source": [
    "scores = pd.DataFrame(score_pre_rec, columns = [\"Precision\", \"Recall\"])\n",
    "scores[\"Threshold\"] = thresholds\n",
    "\n",
    "last_column = scores.pop('Threshold')\n",
    "scores.insert(0, 'Threshold', last_column)\n",
    "\n",
    "scores.sort_values(\"Threshold\")"
   ]
  },
  {
   "cell_type": "code",
   "execution_count": 52,
   "id": "0b90b99b",
   "metadata": {},
   "outputs": [
    {
     "data": {
      "image/png": "[encoded data removed]",
      "text/plain": [
       "<Figure size 1000x600 with 1 Axes>"
      ]
     },
     "metadata": {},
     "output_type": "display_data"
    }
   ],
   "source": [
    "plt.figure(figsize=(10,6))\n",
    "\n",
    "plt.plot(scores.Threshold, scores.Precision)\n",
    "plt.plot(scores.Threshold, scores.Recall)\n",
    "plt.legend([\"Precision\", \"Recall\"])\n",
    "plt.xlabel(\"Threshold Value\")\n",
    "plt.ylabel(\"Precision & Recall Scores\")\n",
    "plt.xlim(0, 1)\n",
    "plt.ylim(0, 1)\n",
    "plt.show()"
   ]
  },
  {
   "cell_type": "markdown",
   "id": "4edafb1e",
   "metadata": {},
   "source": [
    "### F1 score"
   ]
  },
  {
   "cell_type": "code",
   "execution_count": 53,
   "id": "d5e3ae36",
   "metadata": {},
   "outputs": [
    {
     "data": {
      "text/html": [
       "<div>\n",
       "<style scoped>\n",
       "    .dataframe tbody tr th:only-of-type {\n",
       "        vertical-align: middle;\n",
       "    }\n",
       "\n",
       "    .dataframe tbody tr th {\n",
       "        vertical-align: top;\n",
       "    }\n",
       "\n",
       "    .dataframe thead th {\n",
       "        text-align: right;\n",
       "    }\n",
       "</style>\n",
       "<table border=\"1\" class=\"dataframe\">\n",
       "  <thead>\n",
       "    <tr style=\"text-align: right;\">\n",
       "      <th></th>\n",
       "      <th>Threshold</th>\n",
       "      <th>Precision</th>\n",
       "      <th>Recall</th>\n",
       "      <th>f1_manual</th>\n",
       "    </tr>\n",
       "  </thead>\n",
       "  <tbody>\n",
       "    <tr>\n",
       "      <th>0</th>\n",
       "      <td>0.000</td>\n",
       "      <td>0.102</td>\n",
       "      <td>1.000</td>\n",
       "      <td>0.185</td>\n",
       "    </tr>\n",
       "    <tr>\n",
       "      <th>1</th>\n",
       "      <td>0.010</td>\n",
       "      <td>0.112</td>\n",
       "      <td>1.000</td>\n",
       "      <td>0.201</td>\n",
       "    </tr>\n",
       "    <tr>\n",
       "      <th>2</th>\n",
       "      <td>0.020</td>\n",
       "      <td>0.134</td>\n",
       "      <td>0.989</td>\n",
       "      <td>0.235</td>\n",
       "    </tr>\n",
       "    <tr>\n",
       "      <th>3</th>\n",
       "      <td>0.030</td>\n",
       "      <td>0.160</td>\n",
       "      <td>0.978</td>\n",
       "      <td>0.274</td>\n",
       "    </tr>\n",
       "    <tr>\n",
       "      <th>4</th>\n",
       "      <td>0.040</td>\n",
       "      <td>0.189</td>\n",
       "      <td>0.967</td>\n",
       "      <td>0.317</td>\n",
       "    </tr>\n",
       "    <tr>\n",
       "      <th>...</th>\n",
       "      <td>...</td>\n",
       "      <td>...</td>\n",
       "      <td>...</td>\n",
       "      <td>...</td>\n",
       "    </tr>\n",
       "    <tr>\n",
       "      <th>95</th>\n",
       "      <td>0.950</td>\n",
       "      <td>0.700</td>\n",
       "      <td>0.076</td>\n",
       "      <td>0.137</td>\n",
       "    </tr>\n",
       "    <tr>\n",
       "      <th>96</th>\n",
       "      <td>0.960</td>\n",
       "      <td>0.750</td>\n",
       "      <td>0.065</td>\n",
       "      <td>0.120</td>\n",
       "    </tr>\n",
       "    <tr>\n",
       "      <th>97</th>\n",
       "      <td>0.970</td>\n",
       "      <td>0.750</td>\n",
       "      <td>0.065</td>\n",
       "      <td>0.120</td>\n",
       "    </tr>\n",
       "    <tr>\n",
       "      <th>98</th>\n",
       "      <td>0.980</td>\n",
       "      <td>0.667</td>\n",
       "      <td>0.043</td>\n",
       "      <td>0.082</td>\n",
       "    </tr>\n",
       "    <tr>\n",
       "      <th>99</th>\n",
       "      <td>0.990</td>\n",
       "      <td>0.750</td>\n",
       "      <td>0.033</td>\n",
       "      <td>0.062</td>\n",
       "    </tr>\n",
       "  </tbody>\n",
       "</table>\n",
       "<p>100 rows × 4 columns</p>\n",
       "</div>"
      ],
      "text/plain": [
       "    Threshold  Precision  Recall  f1_manual\n",
       "0       0.000      0.102   1.000      0.185\n",
       "1       0.010      0.112   1.000      0.201\n",
       "2       0.020      0.134   0.989      0.235\n",
       "3       0.030      0.160   0.978      0.274\n",
       "4       0.040      0.189   0.967      0.317\n",
       "..        ...        ...     ...        ...\n",
       "95      0.950      0.700   0.076      0.137\n",
       "96      0.960      0.750   0.065      0.120\n",
       "97      0.970      0.750   0.065      0.120\n",
       "98      0.980      0.667   0.043      0.082\n",
       "99      0.990      0.750   0.033      0.062\n",
       "\n",
       "[100 rows x 4 columns]"
      ]
     },
     "execution_count": 53,
     "metadata": {},
     "output_type": "execute_result"
    }
   ],
   "source": [
    "scores[\"f1_manual\"] = 2 * scores.Precision * scores.Recall / (scores.Precision + scores.Recall)\n",
    "scores"
   ]
  },
  {
   "cell_type": "code",
   "execution_count": 54,
   "id": "63b8a3da",
   "metadata": {},
   "outputs": [],
   "source": [
    "from sklearn.metrics import f1_score"
   ]
  },
  {
   "cell_type": "code",
   "execution_count": 55,
   "id": "b9c4b6d0",
   "metadata": {},
   "outputs": [
    {
     "data": {
      "text/html": [
       "<div>\n",
       "<style scoped>\n",
       "    .dataframe tbody tr th:only-of-type {\n",
       "        vertical-align: middle;\n",
       "    }\n",
       "\n",
       "    .dataframe tbody tr th {\n",
       "        vertical-align: top;\n",
       "    }\n",
       "\n",
       "    .dataframe thead th {\n",
       "        text-align: right;\n",
       "    }\n",
       "</style>\n",
       "<table border=\"1\" class=\"dataframe\">\n",
       "  <thead>\n",
       "    <tr style=\"text-align: right;\">\n",
       "      <th></th>\n",
       "      <th>Threshold</th>\n",
       "      <th>Precision</th>\n",
       "      <th>Recall</th>\n",
       "      <th>f1_manual</th>\n",
       "      <th>f1_sklearn</th>\n",
       "    </tr>\n",
       "  </thead>\n",
       "  <tbody>\n",
       "    <tr>\n",
       "      <th>0</th>\n",
       "      <td>0.000</td>\n",
       "      <td>0.102</td>\n",
       "      <td>1.000</td>\n",
       "      <td>0.185</td>\n",
       "      <td>0.185</td>\n",
       "    </tr>\n",
       "    <tr>\n",
       "      <th>1</th>\n",
       "      <td>0.010</td>\n",
       "      <td>0.112</td>\n",
       "      <td>1.000</td>\n",
       "      <td>0.201</td>\n",
       "      <td>0.201</td>\n",
       "    </tr>\n",
       "    <tr>\n",
       "      <th>2</th>\n",
       "      <td>0.020</td>\n",
       "      <td>0.134</td>\n",
       "      <td>0.989</td>\n",
       "      <td>0.235</td>\n",
       "      <td>0.235</td>\n",
       "    </tr>\n",
       "    <tr>\n",
       "      <th>3</th>\n",
       "      <td>0.030</td>\n",
       "      <td>0.160</td>\n",
       "      <td>0.978</td>\n",
       "      <td>0.274</td>\n",
       "      <td>0.274</td>\n",
       "    </tr>\n",
       "    <tr>\n",
       "      <th>4</th>\n",
       "      <td>0.040</td>\n",
       "      <td>0.189</td>\n",
       "      <td>0.967</td>\n",
       "      <td>0.317</td>\n",
       "      <td>0.317</td>\n",
       "    </tr>\n",
       "    <tr>\n",
       "      <th>...</th>\n",
       "      <td>...</td>\n",
       "      <td>...</td>\n",
       "      <td>...</td>\n",
       "      <td>...</td>\n",
       "      <td>...</td>\n",
       "    </tr>\n",
       "    <tr>\n",
       "      <th>95</th>\n",
       "      <td>0.950</td>\n",
       "      <td>0.700</td>\n",
       "      <td>0.076</td>\n",
       "      <td>0.137</td>\n",
       "      <td>0.137</td>\n",
       "    </tr>\n",
       "    <tr>\n",
       "      <th>96</th>\n",
       "      <td>0.960</td>\n",
       "      <td>0.750</td>\n",
       "      <td>0.065</td>\n",
       "      <td>0.120</td>\n",
       "      <td>0.120</td>\n",
       "    </tr>\n",
       "    <tr>\n",
       "      <th>97</th>\n",
       "      <td>0.970</td>\n",
       "      <td>0.750</td>\n",
       "      <td>0.065</td>\n",
       "      <td>0.120</td>\n",
       "      <td>0.120</td>\n",
       "    </tr>\n",
       "    <tr>\n",
       "      <th>98</th>\n",
       "      <td>0.980</td>\n",
       "      <td>0.667</td>\n",
       "      <td>0.043</td>\n",
       "      <td>0.082</td>\n",
       "      <td>0.082</td>\n",
       "    </tr>\n",
       "    <tr>\n",
       "      <th>99</th>\n",
       "      <td>0.990</td>\n",
       "      <td>0.750</td>\n",
       "      <td>0.033</td>\n",
       "      <td>0.062</td>\n",
       "      <td>0.062</td>\n",
       "    </tr>\n",
       "  </tbody>\n",
       "</table>\n",
       "<p>100 rows × 5 columns</p>\n",
       "</div>"
      ],
      "text/plain": [
       "    Threshold  Precision  Recall  f1_manual  f1_sklearn\n",
       "0       0.000      0.102   1.000      0.185       0.185\n",
       "1       0.010      0.112   1.000      0.201       0.201\n",
       "2       0.020      0.134   0.989      0.235       0.235\n",
       "3       0.030      0.160   0.978      0.274       0.274\n",
       "4       0.040      0.189   0.967      0.317       0.317\n",
       "..        ...        ...     ...        ...         ...\n",
       "95      0.950      0.700   0.076      0.137       0.137\n",
       "96      0.960      0.750   0.065      0.120       0.120\n",
       "97      0.970      0.750   0.065      0.120       0.120\n",
       "98      0.980      0.667   0.043      0.082       0.082\n",
       "99      0.990      0.750   0.033      0.062       0.062\n",
       "\n",
       "[100 rows x 5 columns]"
      ]
     },
     "execution_count": 55,
     "metadata": {},
     "output_type": "execute_result"
    }
   ],
   "source": [
    "thresholds = np.arange(0.0, 1.0, 0.01)\n",
    "\n",
    "f1_sklearn = []\n",
    "\n",
    "for t in thresholds:\n",
    "    score_f1 = f1_score(y_val_, y_pred >= t)\n",
    "    f1_sklearn.append(score_f1)\n",
    "    \n",
    "scores[\"f1_sklearn\"] = f1_sklearn\n",
    "scores"
   ]
  },
  {
   "cell_type": "code",
   "execution_count": 56,
   "id": "178dcc7f",
   "metadata": {},
   "outputs": [
    {
     "data": {
      "image/png": "[encoded data removed]",
      "text/plain": [
       "<Figure size 1000x600 with 1 Axes>"
      ]
     },
     "metadata": {},
     "output_type": "display_data"
    }
   ],
   "source": [
    "plt.figure(figsize=(10,6))\n",
    "\n",
    "plt.plot(scores.Threshold, scores.f1_manual)\n",
    "plt.xlabel(\"Threshold Value\")\n",
    "plt.ylabel(\"F1 Scores\")\n",
    "plt.xlim(0, 1)\n",
    "plt.ylim(0, 1)\n",
    "plt.show()"
   ]
  },
  {
   "cell_type": "code",
   "execution_count": 57,
   "id": "1a545cab",
   "metadata": {},
   "outputs": [
    {
     "data": {
      "text/plain": [
       "Threshold    0.240\n",
       "Precision    0.569\n",
       "Recall       0.674\n",
       "f1_manual    0.617\n",
       "f1_sklearn   0.617\n",
       "Name: 24, dtype: float64"
      ]
     },
     "execution_count": 57,
     "metadata": {},
     "output_type": "execute_result"
    }
   ],
   "source": [
    "scores.loc[scores['f1_manual'].idxmax()]"
   ]
  },
  {
   "cell_type": "code",
   "execution_count": 58,
   "id": "cc458b8f",
   "metadata": {},
   "outputs": [
    {
     "data": {
      "text/html": [
       "<div>\n",
       "<style scoped>\n",
       "    .dataframe tbody tr th:only-of-type {\n",
       "        vertical-align: middle;\n",
       "    }\n",
       "\n",
       "    .dataframe tbody tr th {\n",
       "        vertical-align: top;\n",
       "    }\n",
       "\n",
       "    .dataframe thead th {\n",
       "        text-align: right;\n",
       "    }\n",
       "</style>\n",
       "<table border=\"1\" class=\"dataframe\">\n",
       "  <thead>\n",
       "    <tr style=\"text-align: right;\">\n",
       "      <th></th>\n",
       "      <th>Threshold</th>\n",
       "      <th>Precision</th>\n",
       "      <th>Recall</th>\n",
       "      <th>f1_manual</th>\n",
       "      <th>f1_sklearn</th>\n",
       "    </tr>\n",
       "  </thead>\n",
       "  <tbody>\n",
       "    <tr>\n",
       "      <th>24</th>\n",
       "      <td>0.240</td>\n",
       "      <td>0.569</td>\n",
       "      <td>0.674</td>\n",
       "      <td>0.617</td>\n",
       "      <td>0.617</td>\n",
       "    </tr>\n",
       "  </tbody>\n",
       "</table>\n",
       "</div>"
      ],
      "text/plain": [
       "    Threshold  Precision  Recall  f1_manual  f1_sklearn\n",
       "24      0.240      0.569   0.674      0.617       0.617"
      ]
     },
     "execution_count": 58,
     "metadata": {},
     "output_type": "execute_result"
    }
   ],
   "source": [
    "scores.sort_values(\"f1_manual\", ascending=False).head(1)"
   ]
  },
  {
   "cell_type": "code",
   "execution_count": 59,
   "id": "5ff3d6fd",
   "metadata": {},
   "outputs": [
    {
     "data": {
      "text/html": [
       "<div>\n",
       "<style scoped>\n",
       "    .dataframe tbody tr th:only-of-type {\n",
       "        vertical-align: middle;\n",
       "    }\n",
       "\n",
       "    .dataframe tbody tr th {\n",
       "        vertical-align: top;\n",
       "    }\n",
       "\n",
       "    .dataframe thead th {\n",
       "        text-align: right;\n",
       "    }\n",
       "</style>\n",
       "<table border=\"1\" class=\"dataframe\">\n",
       "  <thead>\n",
       "    <tr style=\"text-align: right;\">\n",
       "      <th></th>\n",
       "      <th>Threshold</th>\n",
       "      <th>Precision</th>\n",
       "      <th>Recall</th>\n",
       "      <th>f1_manual</th>\n",
       "      <th>f1_sklearn</th>\n",
       "    </tr>\n",
       "  </thead>\n",
       "  <tbody>\n",
       "    <tr>\n",
       "      <th>24</th>\n",
       "      <td>0.240</td>\n",
       "      <td>0.569</td>\n",
       "      <td>0.674</td>\n",
       "      <td>0.617</td>\n",
       "      <td>0.617</td>\n",
       "    </tr>\n",
       "  </tbody>\n",
       "</table>\n",
       "</div>"
      ],
      "text/plain": [
       "    Threshold  Precision  Recall  f1_manual  f1_sklearn\n",
       "24      0.240      0.569   0.674      0.617       0.617"
      ]
     },
     "execution_count": 59,
     "metadata": {},
     "output_type": "execute_result"
    }
   ],
   "source": [
    "scores.sort_values(\"f1_sklearn\", ascending=False).head(1)"
   ]
  },
  {
   "cell_type": "markdown",
   "id": "f930fb73",
   "metadata": {},
   "source": [
    "### 5-Fold CV"
   ]
  },
  {
   "cell_type": "code",
   "execution_count": 60,
   "id": "bf9dcb0d",
   "metadata": {},
   "outputs": [],
   "source": [
    "from sklearn.model_selection import KFold"
   ]
  },
  {
   "cell_type": "code",
   "execution_count": 61,
   "id": "01dd0c81",
   "metadata": {},
   "outputs": [],
   "source": [
    "def train(df_train, y_train, C=1.0):\n",
    "    dicts = df_train[columns].to_dict(orient='records')\n",
    "\n",
    "    dv = DictVectorizer(sparse=False)\n",
    "    X_train = dv.fit_transform(dicts)\n",
    "\n",
    "    model = LogisticRegression(solver='liblinear', max_iter=1000, C=C)\n",
    "    model.fit(X_train, y_train)\n",
    "\n",
    "    return dv, model\n",
    "\n",
    "def predict(df, dv, model):\n",
    "    dicts = df[columns].to_dict(orient='records')\n",
    "\n",
    "    X = dv.transform(dicts)\n",
    "    y_pred = model.predict_proba(X)[:, 1]\n",
    "\n",
    "    return y_pred"
   ]
  },
  {
   "cell_type": "code",
   "execution_count": 62,
   "id": "e734a679",
   "metadata": {},
   "outputs": [
    {
     "name": "stdout",
     "output_type": "stream",
     "text": [
      "0.895 +- 0.017\n"
     ]
    }
   ],
   "source": [
    "columns = numerical + categorical\n",
    "\n",
    "scores = []\n",
    "\n",
    "kfold = KFold(n_splits=5, shuffle=True, random_state=1)\n",
    "\n",
    "for train_idx, val_idx in kfold.split(df_full_train):\n",
    "    df_train = df_full_train.iloc[train_idx]\n",
    "    df_val = df_full_train.iloc[val_idx]\n",
    "\n",
    "    y_train = df_train[\"y\"]\n",
    "    y_val = df_val[\"y\"]\n",
    "    \n",
    "    del df_train[\"y\"]\n",
    "    del df_val[\"y\"]\n",
    "\n",
    "    dv, model = train(df_train, y_train, C=1.0)\n",
    "    y_pred = predict(df_val, dv, model)\n",
    "\n",
    "    auc = roc_auc_score(y_val, y_pred)\n",
    "    scores.append(auc)\n",
    "\n",
    "print('%.3f +- %.3f' % (np.mean(scores), np.std(scores)))"
   ]
  },
  {
   "cell_type": "code",
   "execution_count": null,
   "id": "92663293",
   "metadata": {},
   "outputs": [],
   "source": []
  },
  {
   "cell_type": "code",
   "execution_count": 63,
   "id": "983a38a2",
   "metadata": {},
   "outputs": [
    {
     "data": {
      "text/plain": [
       "0.023"
      ]
     },
     "execution_count": 63,
     "metadata": {},
     "output_type": "execute_result"
    }
   ],
   "source": [
    "from sklearn.model_selection import StratifiedKFold\n",
    "from sklearn.model_selection import cross_val_score\n",
    "\n",
    "kfold = StratifiedKFold(n_splits=5, shuffle=True, random_state=1)\n",
    "model_cv = LogisticRegression(solver='liblinear', C=1.0, max_iter=1000)\n",
    "cv_results = cross_val_score(model_cv, X_train_, y_train_, cv = kfold, scoring = \"roc_auc\")\n",
    "round(np.std(cv_results),3)"
   ]
  },
  {
   "cell_type": "markdown",
   "id": "e4619f84",
   "metadata": {},
   "source": [
    "### Hyperparemeter Tuning"
   ]
  },
  {
   "cell_type": "code",
   "execution_count": 64,
   "id": "a69a8ae0",
   "metadata": {},
   "outputs": [],
   "source": [
    "# !pip install tqdm"
   ]
  },
  {
   "cell_type": "code",
   "execution_count": 65,
   "id": "53dbebac",
   "metadata": {},
   "outputs": [],
   "source": [
    "from tqdm.auto import tqdm"
   ]
  },
  {
   "cell_type": "code",
   "execution_count": 66,
   "id": "6d190509",
   "metadata": {},
   "outputs": [
    {
     "data": {
      "application/vnd.jupyter.widget-view+json": {
       "model_id": "cc439907f5484b77b6059e595b7caf99",
       "version_major": 2,
       "version_minor": 0
      },
      "text/plain": [
       "  0%|          | 0/4 [00:00<?, ?it/s]"
      ]
     },
     "metadata": {},
     "output_type": "display_data"
    },
    {
     "name": "stdout",
     "output_type": "stream",
     "text": [
      "C=0.01 0.857 +- 0.022\n",
      "C=0.1 0.896 +- 0.018\n",
      "C=0.5 0.895 +- 0.016\n",
      "C=10 0.893 +- 0.016\n"
     ]
    }
   ],
   "source": [
    "n_splits = 5\n",
    "\n",
    "for C in tqdm([0.01, 0.1, 0.5, 10]):\n",
    "    kfold = KFold(n_splits=5, shuffle=True, random_state=1)\n",
    "\n",
    "    scores = []\n",
    "\n",
    "    for train_idx, val_idx in kfold.split(df_full_train):\n",
    "        df_train = df_full_train.iloc[train_idx]\n",
    "        df_val = df_full_train.iloc[val_idx]\n",
    "\n",
    "        y_train = df_train[\"y\"].values\n",
    "        y_val = df_val[\"y\"].values\n",
    "\n",
    "        dv, model = train(df_train, y_train, C=C)\n",
    "        y_pred = predict(df_val, dv, model)\n",
    "\n",
    "        auc = roc_auc_score(y_val, y_pred)\n",
    "        scores.append(auc)\n",
    "\n",
    "    print('C=%s %.3f +- %.3f' % (C, np.mean(scores), np.std(scores)))"
   ]
  },
  {
   "cell_type": "code",
   "execution_count": null,
   "id": "55c56c92",
   "metadata": {},
   "outputs": [],
   "source": []
  },
  {
   "cell_type": "code",
   "execution_count": 67,
   "id": "4c01fd3e",
   "metadata": {},
   "outputs": [
    {
     "name": "stdout",
     "output_type": "stream",
     "text": [
      "LogisticRegression(C=0.1, max_iter=1000, solver='liblinear')\n",
      "-------------------------\n",
      "mean_test_score    0.884\n",
      "mean_train_score   0.900\n",
      "Name: 1, dtype: object\n"
     ]
    }
   ],
   "source": [
    "from sklearn.model_selection import GridSearchCV\n",
    "\n",
    "model = LogisticRegression(solver='liblinear', max_iter=1000, C=C)\n",
    "\n",
    "C = [0.01, 0.1, 0.5, 10] \n",
    "\n",
    "param_grid = {\"C\" : C}\n",
    "\n",
    "cv = StratifiedKFold(n_splits = 5)\n",
    "\n",
    "grid_model = GridSearchCV(estimator=model,\n",
    "                          param_grid=param_grid,\n",
    "                          cv=cv,\n",
    "                          scoring = \"roc_auc\",\n",
    "                          n_jobs = -1,\n",
    "                          return_train_score=True)\n",
    "\n",
    "grid_model.fit(X_train_, y_train_)\n",
    "\n",
    "print(grid_model.best_estimator_)\n",
    "print(\"-\"*25)\n",
    "print(pd.DataFrame(grid_model.cv_results_).loc[grid_model.best_index_, [\"mean_test_score\", \"mean_train_score\"]])"
   ]
  },
  {
   "cell_type": "code",
   "execution_count": 69,
   "id": "0302a362",
   "metadata": {},
   "outputs": [
    {
     "data": {
      "text/plain": [
       "0.8697743533296644"
      ]
     },
     "execution_count": 69,
     "metadata": {},
     "output_type": "execute_result"
    }
   ],
   "source": [
    "C=0.1\n",
    "\n",
    "dv, model = train(df_full_train, df_full_train.y.values, C=C)\n",
    "y_pred = predict(df_test, dv, model)\n",
    "\n",
    "# y_test = df_test[\"y\"].values\n",
    "auc = roc_auc_score(y_test_, y_pred)\n",
    "auc"
   ]
  },
  {
   "cell_type": "markdown",
   "id": "f397d766",
   "metadata": {},
   "source": [
    "**Save the model**"
   ]
  },
  {
   "cell_type": "code",
   "execution_count": 70,
   "id": "c796d8ad",
   "metadata": {},
   "outputs": [],
   "source": [
    "import pickle"
   ]
  },
  {
   "cell_type": "code",
   "execution_count": 71,
   "id": "3483928c",
   "metadata": {},
   "outputs": [
    {
     "data": {
      "text/plain": [
       "'model_C=0.1.bin'"
      ]
     },
     "execution_count": 71,
     "metadata": {},
     "output_type": "execute_result"
    }
   ],
   "source": [
    "output_file = f'model_C={C}.bin'\n",
    "output_file"
   ]
  },
  {
   "cell_type": "code",
   "execution_count": 72,
   "id": "8a7c8e6c",
   "metadata": {},
   "outputs": [],
   "source": [
    "f_out = open(output_file, 'wb')\n",
    "pickle.dump((dv, model), f_out)\n",
    "f_out.close()"
   ]
  },
  {
   "cell_type": "code",
   "execution_count": 73,
   "id": "17b4e700",
   "metadata": {},
   "outputs": [],
   "source": [
    "with open(output_file, 'wb') as f_out:\n",
    "    pickle.dump((dv, model), f_out)"
   ]
  },
  {
   "cell_type": "markdown",
   "id": "c3685e72",
   "metadata": {},
   "source": [
    "**Load the model**"
   ]
  },
  {
   "cell_type": "code",
   "execution_count": 74,
   "id": "0c83a6ca",
   "metadata": {},
   "outputs": [],
   "source": [
    "import pickle"
   ]
  },
  {
   "cell_type": "code",
   "execution_count": 75,
   "id": "619f7177",
   "metadata": {},
   "outputs": [],
   "source": [
    "with open(output_file, 'rb') as f_in:\n",
    "    dv, model = pickle.load(f_in)"
   ]
  },
  {
   "cell_type": "code",
   "execution_count": 76,
   "id": "d7b4d41d",
   "metadata": {},
   "outputs": [
    {
     "data": {
      "text/plain": [
       "(DictVectorizer(sparse=False),\n",
       " LogisticRegression(C=0.1, max_iter=1000, solver='liblinear'))"
      ]
     },
     "execution_count": 76,
     "metadata": {},
     "output_type": "execute_result"
    }
   ],
   "source": [
    "dv, model"
   ]
  },
  {
   "cell_type": "code",
   "execution_count": 77,
   "id": "dcbbfc65",
   "metadata": {},
   "outputs": [
    {
     "data": {
      "text/html": [
       "<div>\n",
       "<style scoped>\n",
       "    .dataframe tbody tr th:only-of-type {\n",
       "        vertical-align: middle;\n",
       "    }\n",
       "\n",
       "    .dataframe tbody tr th {\n",
       "        vertical-align: top;\n",
       "    }\n",
       "\n",
       "    .dataframe thead th {\n",
       "        text-align: right;\n",
       "    }\n",
       "</style>\n",
       "<table border=\"1\" class=\"dataframe\">\n",
       "  <thead>\n",
       "    <tr style=\"text-align: right;\">\n",
       "      <th></th>\n",
       "      <th>age</th>\n",
       "      <th>job</th>\n",
       "      <th>marital</th>\n",
       "      <th>education</th>\n",
       "      <th>default</th>\n",
       "      <th>balance</th>\n",
       "      <th>housing</th>\n",
       "      <th>loan</th>\n",
       "      <th>contact</th>\n",
       "      <th>day</th>\n",
       "      <th>month</th>\n",
       "      <th>duration</th>\n",
       "      <th>campaign</th>\n",
       "      <th>pdays</th>\n",
       "      <th>previous</th>\n",
       "      <th>poutcome</th>\n",
       "      <th>y</th>\n",
       "    </tr>\n",
       "  </thead>\n",
       "  <tbody>\n",
       "    <tr>\n",
       "      <th>3667</th>\n",
       "      <td>30</td>\n",
       "      <td>management</td>\n",
       "      <td>single</td>\n",
       "      <td>tertiary</td>\n",
       "      <td>yes</td>\n",
       "      <td>35</td>\n",
       "      <td>no</td>\n",
       "      <td>no</td>\n",
       "      <td>cellular</td>\n",
       "      <td>30</td>\n",
       "      <td>jul</td>\n",
       "      <td>185</td>\n",
       "      <td>4</td>\n",
       "      <td>-1</td>\n",
       "      <td>0</td>\n",
       "      <td>unknown</td>\n",
       "      <td>0</td>\n",
       "    </tr>\n",
       "    <tr>\n",
       "      <th>2610</th>\n",
       "      <td>31</td>\n",
       "      <td>entrepreneur</td>\n",
       "      <td>married</td>\n",
       "      <td>tertiary</td>\n",
       "      <td>no</td>\n",
       "      <td>5191</td>\n",
       "      <td>no</td>\n",
       "      <td>no</td>\n",
       "      <td>cellular</td>\n",
       "      <td>20</td>\n",
       "      <td>nov</td>\n",
       "      <td>187</td>\n",
       "      <td>2</td>\n",
       "      <td>-1</td>\n",
       "      <td>0</td>\n",
       "      <td>unknown</td>\n",
       "      <td>0</td>\n",
       "    </tr>\n",
       "    <tr>\n",
       "      <th>4490</th>\n",
       "      <td>58</td>\n",
       "      <td>admin.</td>\n",
       "      <td>married</td>\n",
       "      <td>secondary</td>\n",
       "      <td>no</td>\n",
       "      <td>3496</td>\n",
       "      <td>yes</td>\n",
       "      <td>no</td>\n",
       "      <td>unknown</td>\n",
       "      <td>2</td>\n",
       "      <td>jun</td>\n",
       "      <td>111</td>\n",
       "      <td>4</td>\n",
       "      <td>-1</td>\n",
       "      <td>0</td>\n",
       "      <td>unknown</td>\n",
       "      <td>0</td>\n",
       "    </tr>\n",
       "  </tbody>\n",
       "</table>\n",
       "</div>"
      ],
      "text/plain": [
       "      age           job  marital  education default  balance housing loan  \\\n",
       "3667   30    management   single   tertiary     yes       35      no   no   \n",
       "2610   31  entrepreneur  married   tertiary      no     5191      no   no   \n",
       "4490   58        admin.  married  secondary      no     3496     yes   no   \n",
       "\n",
       "       contact  day month  duration  campaign  pdays  previous poutcome  y  \n",
       "3667  cellular   30   jul       185         4     -1         0  unknown  0  \n",
       "2610  cellular   20   nov       187         2     -1         0  unknown  0  \n",
       "4490   unknown    2   jun       111         4     -1         0  unknown  0  "
      ]
     },
     "execution_count": 77,
     "metadata": {},
     "output_type": "execute_result"
    }
   ],
   "source": [
    "df.sample(3)"
   ]
  },
  {
   "cell_type": "code",
   "execution_count": 78,
   "id": "4d471d8b",
   "metadata": {},
   "outputs": [
    {
     "data": {
      "text/plain": [
       "Index(['age', 'job', 'marital', 'education', 'default', 'balance', 'housing',\n",
       "       'loan', 'contact', 'day', 'month', 'duration', 'campaign', 'pdays',\n",
       "       'previous', 'poutcome', 'y'],\n",
       "      dtype='object')"
      ]
     },
     "execution_count": 78,
     "metadata": {},
     "output_type": "execute_result"
    }
   ],
   "source": [
    "df.columns"
   ]
  },
  {
   "cell_type": "code",
   "execution_count": 95,
   "id": "0274f49c",
   "metadata": {},
   "outputs": [],
   "source": [
    "customer = {'age' : 41, \n",
    "            'job' : 'management', \n",
    "            'marital' : 'single', \n",
    "            'education' : 'unknown', \n",
    "            'default' : 'no', \n",
    "            'balance' : 1422, \n",
    "            'housing' : 'yes',\n",
    "            'loan' : 'no', \n",
    "            'contact' : 'unknown', \n",
    "            'day' : 22, \n",
    "            'month' : 'nov', \n",
    "            'duration' : 278, \n",
    "            'campaign' : 4, \n",
    "            'pdays' : 43,\n",
    "            'previous' : 3, \n",
    "            'poutcome' : 'failure'}"
   ]
  },
  {
   "cell_type": "code",
   "execution_count": 97,
   "id": "6cea979b",
   "metadata": {},
   "outputs": [],
   "source": [
    "X = dv.transform([customer])"
   ]
  },
  {
   "cell_type": "code",
   "execution_count": 99,
   "id": "9e5a1915",
   "metadata": {},
   "outputs": [
    {
     "data": {
      "text/plain": [
       "0.03476902816099536"
      ]
     },
     "execution_count": 99,
     "metadata": {},
     "output_type": "execute_result"
    }
   ],
   "source": [
    "model.predict_proba(X)[0,1]"
   ]
  },
  {
   "cell_type": "code",
   "execution_count": null,
   "id": "48af1a80",
   "metadata": {},
   "outputs": [],
   "source": []
  },
  {
   "cell_type": "markdown",
   "id": "2a8b58e0",
   "metadata": {},
   "source": [
    "## Question 1\n",
    "\n",
    "* Install Pipenv\n",
    "* What's the version of pipenv you installed?\n",
    "* Use `--version` to find out"
   ]
  },
  {
   "cell_type": "code",
   "execution_count": 62,
   "id": "aa95c512",
   "metadata": {},
   "outputs": [
    {
     "name": "stderr",
     "output_type": "stream",
     "text": [
      "WARNING: Error parsing requirements for numpy: [Errno 2] No such file or directory: 'c:\\\\users\\\\toshiba\\\\anaconda3\\\\lib\\\\site-packages\\\\numpy-1.23.5.dist-info\\\\METADATA'\n"
     ]
    }
   ],
   "source": [
    "! pip install pipenv -q"
   ]
  },
  {
   "cell_type": "code",
   "execution_count": 63,
   "id": "193615c0",
   "metadata": {},
   "outputs": [
    {
     "name": "stdout",
     "output_type": "stream",
     "text": [
      "pipenv, version 2023.10.3\n"
     ]
    }
   ],
   "source": [
    "! pipenv --version"
   ]
  },
  {
   "cell_type": "markdown",
   "id": "93a82d39",
   "metadata": {},
   "source": [
    "## Question 2\n",
    "\n",
    "* Use Pipenv to install Scikit-Learn version 1.3.1\n",
    "* What's the first hash for scikit-learn you get in Pipfile.lock?\n",
    "\n",
    "> **Note**: you should create an empty folder for homework\n",
    "and do it there."
   ]
  },
  {
   "cell_type": "code",
   "execution_count": 69,
   "id": "120a1bfa",
   "metadata": {},
   "outputs": [
    {
     "name": "stdout",
     "output_type": "stream",
     "text": [
      "Installing scikit-learn==1.3.1...\n",
      "Resolving scikit-learn==1.3.1...\n",
      "[    ] Installing...\n",
      "Added scikit-learn to Pipfile's [packages] ...\n",
      "[    ] Installing scikit-learn...\n",
      "Installation Succeeded\n",
      "[    ] Installing scikit-learn...\n",
      "[    ] Installing scikit-learn...\n",
      "\n",
      "Building requirements...\n",
      "[    ] Locking...\n",
      "Resolving dependencies...\n",
      "[    ] Locking...\n",
      "[=   ] Locking...\n",
      "[==  ] Locking...\n",
      "[=== ] Locking...\n",
      "[ ===] Locking...\n",
      "[  ==] Locking...\n",
      "[    ] Locking...\n",
      "[   =] Locking...\n",
      "[  ==] Locking...\n",
      "[ ===] Locking...\n",
      "[====] Locking...\n",
      "[=== ] Locking...\n",
      "[=   ] Locking...\n",
      "[    ] Locking...\n",
      "[=   ] Locking...\n",
      "[==  ] Locking...\n",
      "[=== ] Locking...\n",
      "[ ===] Locking...\n",
      "[   =] Locking...\n",
      "[    ] Locking...\n",
      "[   =] Locking...\n",
      "[  ==] Locking...\n",
      "[ ===] Locking...\n",
      "[====] Locking...\n",
      "[=== ] Locking...\n",
      "[==  ] Locking...\n",
      "[=   ] Locking...\n",
      "[    ] Locking...\n",
      "[=   ] Locking...\n",
      "[=== ] Locking...\n",
      "[ ===] Locking...\n",
      "[  ==] Locking...\n",
      "[   =] Locking...\n",
      "[    ] Locking...\n",
      "[   =] Locking...\n",
      "[ ===] Locking...\n",
      "[====] Locking...\n",
      "[=== ] Locking...\n",
      "[==  ] Locking...\n",
      "[=   ] Locking...\n",
      "[    ] Locking...\n",
      "[==  ] Locking...\n",
      "[=== ] Locking...\n",
      "[ ===] Locking...\n",
      "[  ==] Locking...\n",
      "[   =] Locking...\n",
      "[    ] Locking...\n",
      "[  ==] Locking...\n",
      "[ ===] Locking...\n",
      "[====] Locking...\n",
      "[=== ] Locking...\n",
      "[==  ] Locking...\n",
      "[=   ] Locking...\n",
      "[=   ] Locking...\n",
      "[==  ] Locking...\n",
      "[=== ] Locking...\n",
      "[ ===] Locking...\n",
      "[  ==] Locking...\n",
      "[   =] Locking...\n",
      "[   =] Locking...\n",
      "[  ==] Locking...\n",
      "[ ===] Locking...\n",
      "[====] Locking...\n",
      "[=== ] Locking...\n",
      "[=   ] Locking...\n",
      "[    ] Locking...\n",
      "[=   ] Locking...\n",
      "[==  ] Locking...\n",
      "[=== ] Locking...\n",
      "[ ===] Locking...\n",
      "[   =] Locking...\n",
      "[    ] Locking...\n",
      "[   =] Locking...\n",
      "[  ==] Locking...\n",
      "[ ===] Locking...\n",
      "[====] Locking...\n",
      "[==  ] Locking...\n",
      "[=   ] Locking...\n",
      "[    ] Locking...\n",
      "[=   ] Locking...\n",
      "[==  ] Locking...\n",
      "[=== ] Locking...\n",
      "[  ==] Locking...\n",
      "[   =] Locking...\n",
      "[    ] Locking...\n",
      "[   =] Locking...\n",
      "[  ==] Locking...\n",
      "[ ===] Locking...\n",
      "[=== ] Locking...\n",
      "[==  ] Locking...\n",
      "[=   ] Locking...\n",
      "[    ] Locking...\n",
      "[=   ] Locking...\n",
      "[==  ] Locking...\n",
      "Locking Failed!\n",
      "[=== ] Locking...\n",
      "[=== ] Locking...\n",
      "\n"
     ]
    },
    {
     "name": "stderr",
     "output_type": "stream",
     "text": [
      "Pipfile.lock not found, creating...\n",
      "Locking [packages] dependencies...\n",
      "False\n",
      "WARNING:pipenv.patched.pip._internal.models.search_scope:pip is configured with locations that require TLS/SSL, however the ssl module in Python is not available.\n",
      "WARNING:pipenv.patched.pip._vendor.urllib3.connectionpool:Retrying (Retry(total=4, connect=None, read=None, redirect=None, status=None)) after connection broken by 'SSLError(\"Can't connect to HTTPS URL because the SSL module is not available.\")': /simple/scikit-learn/\n",
      "WARNING:pipenv.patched.pip._vendor.urllib3.connectionpool:Retrying (Retry(total=3, connect=None, read=None, redirect=None, status=None)) after connection broken by 'SSLError(\"Can't connect to HTTPS URL because the SSL module is not available.\")': /simple/scikit-learn/\n",
      "WARNING:pipenv.patched.pip._vendor.urllib3.connectionpool:Retrying (Retry(total=2, connect=None, read=None, redirect=None, status=None)) after connection broken by 'SSLError(\"Can't connect to HTTPS URL because the SSL module is not available.\")': /simple/scikit-learn/\n",
      "WARNING:pipenv.patched.pip._vendor.urllib3.connectionpool:Retrying (Retry(total=1, connect=None, read=None, redirect=None, status=None)) after connection broken by 'SSLError(\"Can't connect to HTTPS URL because the SSL module is not available.\")': /simple/scikit-learn/\n",
      "WARNING:pipenv.patched.pip._vendor.urllib3.connectionpool:Retrying (Retry(total=0, connect=None, read=None, redirect=None, status=None)) after connection broken by 'SSLError(\"Can't connect to HTTPS URL because the SSL module is not available.\")': /simple/scikit-learn/\n",
      "CRITICAL:pipenv.patched.pip._internal.resolution.resolvelib.factory:Could not find a version that satisfies the requirement scikit-learn==1.3.1 (from versions: none)\n",
      "[ResolutionFailure]:   File \"C:\\Users\\Toshiba\\anaconda3\\lib\\site-packages\\pipenv\\resolver.py\", line 645, in _main\n",
      "[ResolutionFailure]:       resolve_packages(\n",
      "[ResolutionFailure]:   File \"C:\\Users\\Toshiba\\anaconda3\\lib\\site-packages\\pipenv\\resolver.py\", line 612, in resolve_packages\n",
      "[ResolutionFailure]:       results, resolver = resolve(\n",
      "[ResolutionFailure]:   File \"C:\\Users\\Toshiba\\anaconda3\\lib\\site-packages\\pipenv\\resolver.py\", line 592, in resolve\n",
      "[ResolutionFailure]:       return resolve_deps(\n",
      "[ResolutionFailure]:   File \"C:\\Users\\Toshiba\\anaconda3\\lib\\site-packages\\pipenv\\utils\\resolver.py\", line 892, in resolve_deps\n",
      "[ResolutionFailure]:       results, hashes, internal_resolver = actually_resolve_deps(\n",
      "[ResolutionFailure]:   File \"C:\\Users\\Toshiba\\anaconda3\\lib\\site-packages\\pipenv\\utils\\resolver.py\", line 665, in actually_resolve_deps\n",
      "[ResolutionFailure]:       resolver.resolve()\n",
      "[ResolutionFailure]:   File \"C:\\Users\\Toshiba\\anaconda3\\lib\\site-packages\\pipenv\\utils\\resolver.py\", line 442, in resolve\n",
      "[ResolutionFailure]:       raise ResolutionFailure(message=str(e))\n",
      "[pipenv.exceptions.ResolutionFailure]: Warning: Your dependencies could not be resolved. You likely have a mismatch in your sub-dependencies.\n",
      "  You can use $ pipenv run pip install <requirement_name> to bypass this mechanism, then run $ pipenv graph to inspect the versions actually installed in the virtualenv.\n",
      "  Hint: try $ pipenv lock --pre if it is a pre-release dependency.\n",
      "ERROR: No matching distribution found for scikit-learn==1.3.1\n",
      "\n",
      "Traceback (most recent call last):\n",
      "  File \"C:\\Users\\Toshiba\\anaconda3\\lib\\runpy.py\", line 197, in _run_module_as_main\n",
      "    return _run_code(code, main_globals, None,\n",
      "  File \"C:\\Users\\Toshiba\\anaconda3\\lib\\runpy.py\", line 87, in _run_code\n",
      "    exec(code, run_globals)\n",
      "  File \"C:\\Users\\Toshiba\\anaconda3\\Scripts\\pipenv.exe\\__main__.py\", line 7, in <module>\n",
      "    # when invoked as python -m pip <command>\n",
      "  File \"C:\\Users\\Toshiba\\anaconda3\\lib\\site-packages\\pipenv\\vendor\\click\\core.py\", line 1130, in __call__\n",
      "    return self.main(*args, **kwargs)\n",
      "  File \"C:\\Users\\Toshiba\\anaconda3\\lib\\site-packages\\pipenv\\cli\\options.py\", line 58, in main\n",
      "    return super().main(*args, **kwargs, windows_expand_args=False)\n",
      "  File \"C:\\Users\\Toshiba\\anaconda3\\lib\\site-packages\\pipenv\\vendor\\click\\core.py\", line 1055, in main\n",
      "    rv = self.invoke(ctx)\n",
      "  File \"C:\\Users\\Toshiba\\anaconda3\\lib\\site-packages\\pipenv\\vendor\\click\\core.py\", line 1657, in invoke\n",
      "    return _process_result(sub_ctx.command.invoke(sub_ctx))\n",
      "  File \"C:\\Users\\Toshiba\\anaconda3\\lib\\site-packages\\pipenv\\vendor\\click\\core.py\", line 1404, in invoke\n",
      "    return ctx.invoke(self.callback, **ctx.params)\n",
      "  File \"C:\\Users\\Toshiba\\anaconda3\\lib\\site-packages\\pipenv\\vendor\\click\\core.py\", line 760, in invoke\n",
      "    return __callback(*args, **kwargs)\n",
      "  File \"C:\\Users\\Toshiba\\anaconda3\\lib\\site-packages\\pipenv\\vendor\\click\\decorators.py\", line 84, in new_func\n",
      "    return ctx.invoke(f, obj, *args, **kwargs)\n",
      "  File \"C:\\Users\\Toshiba\\anaconda3\\lib\\site-packages\\pipenv\\vendor\\click\\core.py\", line 760, in invoke\n",
      "    return __callback(*args, **kwargs)\n",
      "  File \"C:\\Users\\Toshiba\\anaconda3\\lib\\site-packages\\pipenv\\cli\\command.py\", line 209, in install\n",
      "    do_install(\n",
      "  File \"C:\\Users\\Toshiba\\anaconda3\\lib\\site-packages\\pipenv\\routines\\install.py\", line 297, in do_install\n",
      "    raise e\n",
      "  File \"C:\\Users\\Toshiba\\anaconda3\\lib\\site-packages\\pipenv\\routines\\install.py\", line 281, in do_install\n",
      "    do_init(\n",
      "  File \"C:\\Users\\Toshiba\\anaconda3\\lib\\site-packages\\pipenv\\routines\\install.py\", line 672, in do_init\n",
      "    do_lock(\n",
      "  File \"C:\\Users\\Toshiba\\anaconda3\\lib\\site-packages\\pipenv\\routines\\lock.py\", line 65, in do_lock\n",
      "    venv_resolve_deps(\n",
      "  File \"C:\\Users\\Toshiba\\anaconda3\\lib\\site-packages\\pipenv\\utils\\resolver.py\", line 833, in venv_resolve_deps\n",
      "    c = resolve(cmd, st, project=project)\n",
      "  File \"C:\\Users\\Toshiba\\anaconda3\\lib\\site-packages\\pipenv\\utils\\resolver.py\", line 702, in resolve\n",
      "    raise RuntimeError(\"Failed to lock Pipfile.lock!\")\n",
      "RuntimeError: Failed to lock Pipfile.lock!\n"
     ]
    }
   ],
   "source": [
    "! pipenv install scikit-learn==1.3.1"
   ]
  },
  {
   "cell_type": "code",
   "execution_count": null,
   "id": "a509ff4e",
   "metadata": {},
   "outputs": [],
   "source": []
  }
 ],
 "metadata": {
  "kernelspec": {
   "display_name": "Python 3 (ipykernel)",
   "language": "python",
   "name": "python3"
  },
  "language_info": {
   "codemirror_mode": {
    "name": "ipython",
    "version": 3
   },
   "file_extension": ".py",
   "mimetype": "text/x-python",
   "name": "python",
   "nbconvert_exporter": "python",
   "pygments_lexer": "ipython3",
   "version": "3.9.17"
  }
 },
 "nbformat": 4,
 "nbformat_minor": 5
}
