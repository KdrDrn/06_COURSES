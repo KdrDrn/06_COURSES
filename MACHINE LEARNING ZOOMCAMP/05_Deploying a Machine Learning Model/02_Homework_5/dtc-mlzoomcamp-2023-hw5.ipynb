{
 "cells": [
  {
   "cell_type": "code",
   "execution_count": 1,
   "metadata": {
    "_cell_guid": "b1076dfc-b9ad-4769-8c92-a6c4dae69d19",
    "_uuid": "8f2839f25d086af736a60e9eeb907d3b93b6e0e5",
    "execution": {
     "iopub.execute_input": "2023-10-09T18:59:30.562314Z",
     "iopub.status.busy": "2023-10-09T18:59:30.561913Z",
     "iopub.status.idle": "2023-10-09T18:59:30.568104Z",
     "shell.execute_reply": "2023-10-09T18:59:30.566859Z",
     "shell.execute_reply.started": "2023-10-09T18:59:30.562276Z"
    }
   },
   "outputs": [],
   "source": [
    "import json\n",
    "import pickle\n",
    "import pandas as pd"
   ]
  },
  {
   "cell_type": "code",
   "execution_count": 3,
   "metadata": {
    "execution": {
     "iopub.execute_input": "2023-10-09T18:59:30.646089Z",
     "iopub.status.busy": "2023-10-09T18:59:30.645388Z",
     "iopub.status.idle": "2023-10-09T18:59:30.678171Z",
     "shell.execute_reply": "2023-10-09T18:59:30.677296Z",
     "shell.execute_reply.started": "2023-10-09T18:59:30.646046Z"
    }
   },
   "outputs": [],
   "source": [
    "df = pd.read_csv(\"bank.csv\", sep=\";\")"
   ]
  },
  {
   "cell_type": "code",
   "execution_count": 46,
   "metadata": {
    "execution": {
     "iopub.execute_input": "2023-10-09T18:59:30.681124Z",
     "iopub.status.busy": "2023-10-09T18:59:30.680408Z",
     "iopub.status.idle": "2023-10-09T18:59:40.732472Z",
     "shell.execute_reply": "2023-10-09T18:59:40.731032Z",
     "shell.execute_reply.started": "2023-10-09T18:59:30.681080Z"
    }
   },
   "outputs": [],
   "source": [
    "# ! pip install pipenv -q"
   ]
  },
  {
   "cell_type": "markdown",
   "metadata": {},
   "source": [
    "### Question 1 - What's the version of pipenv you installed?"
   ]
  },
  {
   "cell_type": "code",
   "execution_count": 4,
   "metadata": {
    "execution": {
     "iopub.execute_input": "2023-10-09T18:59:40.735470Z",
     "iopub.status.busy": "2023-10-09T18:59:40.734635Z",
     "iopub.status.idle": "2023-10-09T18:59:42.914052Z",
     "shell.execute_reply": "2023-10-09T18:59:42.912519Z",
     "shell.execute_reply.started": "2023-10-09T18:59:40.735436Z"
    }
   },
   "outputs": [
    {
     "name": "stdout",
     "output_type": "stream",
     "text": [
      "pipenv, version 2023.10.3\n"
     ]
    }
   ],
   "source": [
    "! pipenv --version"
   ]
  },
  {
   "cell_type": "markdown",
   "metadata": {},
   "source": [
    "### Question 2 - What's the first hash for scikit-learn you get in Pipfile.lock?"
   ]
  },
  {
   "cell_type": "code",
   "execution_count": 5,
   "metadata": {
    "execution": {
     "iopub.execute_input": "2023-10-09T18:59:42.916291Z",
     "iopub.status.busy": "2023-10-09T18:59:42.915876Z",
     "iopub.status.idle": "2023-10-09T18:59:45.169254Z",
     "shell.execute_reply": "2023-10-09T18:59:45.167514Z",
     "shell.execute_reply.started": "2023-10-09T18:59:42.916226Z"
    }
   },
   "outputs": [
    {
     "name": "stdout",
     "output_type": "stream",
     "text": [
      "Installing scikit-learn==1.3.1..."
     ]
    },
    {
     "name": "stderr",
     "output_type": "stream",
     "text": [
      "Pipfile.lock not found, creating...\n",
      "Locking [packages] dependencies...\n",
      "False\n",
      "WARNING:pipenv.patched.pip._internal.models.search_scope:pip is configured with locations that require TLS/SSL, however the ssl module in Python is not available.\n",
      "WARNING:pipenv.patched.pip._vendor.urllib3.connectionpool:Retrying (Retry(total=4, connect=None, read=None, redirect=None, status=None)) after connection broken by 'SSLError(\"Can't connect to HTTPS URL because the SSL module is not available.\")': /simple/scikit-learn/\n",
      "WARNING:pipenv.patched.pip._vendor.urllib3.connectionpool:Retrying (Retry(total=3, connect=None, read=None, redirect=None, status=None)) after connection broken by 'SSLError(\"Can't connect to HTTPS URL because the SSL module is not available.\")': /simple/scikit-learn/\n",
      "WARNING:pipenv.patched.pip._vendor.urllib3.connectionpool:Retrying (Retry(total=2, connect=None, read=None, redirect=None, status=None)) after connection broken by 'SSLError(\"Can't connect to HTTPS URL because the SSL module is not available.\")': /simple/scikit-learn/\n",
      "WARNING:pipenv.patched.pip._vendor.urllib3.connectionpool:Retrying (Retry(total=1, connect=None, read=None, redirect=None, status=None)) after connection broken by 'SSLError(\"Can't connect to HTTPS URL because the SSL module is not available.\")': /simple/scikit-learn/\n",
      "WARNING:pipenv.patched.pip._vendor.urllib3.connectionpool:Retrying (Retry(total=0, connect=None, read=None, redirect=None, status=None)) after connection broken by 'SSLError(\"Can't connect to HTTPS URL because the SSL module is not available.\")': /simple/scikit-learn/\n",
      "CRITICAL:pipenv.patched.pip._internal.resolution.resolvelib.factory:Could not find a version that satisfies the requirement scikit-learn==1.3.1 (from versions: none)\n",
      "[ResolutionFailure]:   File \"C:\\Users\\Toshiba\\anaconda3\\lib\\site-packages\\pipenv\\resolver.py\", line 645, in _main\n",
      "[ResolutionFailure]:       resolve_packages(\n",
      "[ResolutionFailure]:   File \"C:\\Users\\Toshiba\\anaconda3\\lib\\site-packages\\pipenv\\resolver.py\", line 612, in resolve_packages\n",
      "[ResolutionFailure]:       results, resolver = resolve(\n",
      "[ResolutionFailure]:   File \"C:\\Users\\Toshiba\\anaconda3\\lib\\site-packages\\pipenv\\resolver.py\", line 592, in resolve\n",
      "[ResolutionFailure]:       return resolve_deps(\n",
      "[ResolutionFailure]:   File \"C:\\Users\\Toshiba\\anaconda3\\lib\\site-packages\\pipenv\\utils\\resolver.py\", line 892, in resolve_deps\n",
      "[ResolutionFailure]:       results, hashes, internal_resolver = actually_resolve_deps(\n",
      "[ResolutionFailure]:   File \"C:\\Users\\Toshiba\\anaconda3\\lib\\site-packages\\pipenv\\utils\\resolver.py\", line 665, in actually_resolve_deps\n",
      "[ResolutionFailure]:       resolver.resolve()\n",
      "[ResolutionFailure]:   File \"C:\\Users\\Toshiba\\anaconda3\\lib\\site-packages\\pipenv\\utils\\resolver.py\", line 442, in resolve\n",
      "[ResolutionFailure]:       raise ResolutionFailure(message=str(e))\n",
      "[pipenv.exceptions.ResolutionFailure]: Warning: Your dependencies could not be resolved. You likely have a mismatch in your sub-dependencies.\n",
      "  You can use $ pipenv run pip install <requirement_name> to bypass this mechanism, then run $ pipenv graph to inspect the versions actually installed in the virtualenv.\n",
      "  Hint: try $ pipenv lock --pre if it is a pre-release dependency.\n",
      "ERROR: No matching distribution found for scikit-learn==1.3.1\n",
      "\n",
      "Traceback (most recent call last):\n",
      "  File \"C:\\Users\\Toshiba\\anaconda3\\lib\\runpy.py\", line 197, in _run_module_as_main\n",
      "    return _run_code(code, main_globals, None,\n",
      "  File \"C:\\Users\\Toshiba\\anaconda3\\lib\\runpy.py\", line 87, in _run_code\n",
      "    exec(code, run_globals)\n",
      "  File \"C:\\Users\\Toshiba\\anaconda3\\Scripts\\pipenv.exe\\__main__.py\", line 7, in <module>\n",
      "    # when invoked as python -m pip <command>\n",
      "  File \"C:\\Users\\Toshiba\\anaconda3\\lib\\site-packages\\pipenv\\vendor\\click\\core.py\", line 1130, in __call__\n",
      "    return self.main(*args, **kwargs)\n",
      "  File \"C:\\Users\\Toshiba\\anaconda3\\lib\\site-packages\\pipenv\\cli\\options.py\", line 58, in main\n",
      "    return super().main(*args, **kwargs, windows_expand_args=False)\n",
      "  File \"C:\\Users\\Toshiba\\anaconda3\\lib\\site-packages\\pipenv\\vendor\\click\\core.py\", line 1055, in main\n",
      "    rv = self.invoke(ctx)\n",
      "  File \"C:\\Users\\Toshiba\\anaconda3\\lib\\site-packages\\pipenv\\vendor\\click\\core.py\", line 1657, in invoke\n",
      "    return _process_result(sub_ctx.command.invoke(sub_ctx))\n",
      "  File \"C:\\Users\\Toshiba\\anaconda3\\lib\\site-packages\\pipenv\\vendor\\click\\core.py\", line 1404, in invoke\n",
      "    return ctx.invoke(self.callback, **ctx.params)\n",
      "  File \"C:\\Users\\Toshiba\\anaconda3\\lib\\site-packages\\pipenv\\vendor\\click\\core.py\", line 760, in invoke\n",
      "    return __callback(*args, **kwargs)\n",
      "  File \"C:\\Users\\Toshiba\\anaconda3\\lib\\site-packages\\pipenv\\vendor\\click\\decorators.py\", line 84, in new_func\n",
      "    return ctx.invoke(f, obj, *args, **kwargs)\n",
      "  File \"C:\\Users\\Toshiba\\anaconda3\\lib\\site-packages\\pipenv\\vendor\\click\\core.py\", line 760, in invoke\n",
      "    return __callback(*args, **kwargs)\n",
      "  File \"C:\\Users\\Toshiba\\anaconda3\\lib\\site-packages\\pipenv\\cli\\command.py\", line 209, in install\n",
      "    do_install(\n",
      "  File \"C:\\Users\\Toshiba\\anaconda3\\lib\\site-packages\\pipenv\\routines\\install.py\", line 297, in do_install\n",
      "    raise e\n",
      "  File \"C:\\Users\\Toshiba\\anaconda3\\lib\\site-packages\\pipenv\\routines\\install.py\", line 281, in do_install\n",
      "    do_init(\n",
      "  File \"C:\\Users\\Toshiba\\anaconda3\\lib\\site-packages\\pipenv\\routines\\install.py\", line 672, in do_init\n",
      "    do_lock(\n",
      "  File \"C:\\Users\\Toshiba\\anaconda3\\lib\\site-packages\\pipenv\\routines\\lock.py\", line 65, in do_lock\n",
      "    venv_resolve_deps(\n",
      "  File \"C:\\Users\\Toshiba\\anaconda3\\lib\\site-packages\\pipenv\\utils\\resolver.py\", line 833, in venv_resolve_deps\n",
      "    c = resolve(cmd, st, project=project)\n",
      "  File \"C:\\Users\\Toshiba\\anaconda3\\lib\\site-packages\\pipenv\\utils\\resolver.py\", line 702, in resolve\n",
      "    raise RuntimeError(\"Failed to lock Pipfile.lock!\")\n",
      "RuntimeError: Failed to lock Pipfile.lock!\n"
     ]
    },
    {
     "name": "stdout",
     "output_type": "stream",
     "text": [
      "\n",
      "Resolving scikit-learn==1.3.1...\n",
      "[    ] Installing...\n",
      "Added scikit-learn to Pipfile's [packages] ...\n",
      "[    ] Installing scikit-learn...\n",
      "Installation Succeeded\n",
      "[    ] Installing scikit-learn...\n",
      "[    ] Installing scikit-learn...\n",
      "\n",
      "Building requirements...\n",
      "[    ] Locking...\n",
      "Resolving dependencies...\n",
      "[    ] Locking...\n",
      "[=   ] Locking...\n",
      "[==  ] Locking...\n",
      "[=== ] Locking...\n",
      "[ ===] Locking...\n",
      "[   =] Locking...\n",
      "[    ] Locking...\n",
      "[   =] Locking...\n",
      "[  ==] Locking...\n",
      "[====] Locking...\n",
      "[=== ] Locking...\n",
      "[==  ] Locking...\n",
      "[=   ] Locking...\n",
      "[=   ] Locking...\n",
      "[==  ] Locking...\n",
      "[=== ] Locking...\n",
      "[ ===] Locking...\n",
      "[   =] Locking...\n",
      "[    ] Locking...\n",
      "[   =] Locking...\n",
      "[  ==] Locking...\n",
      "[ ===] Locking...\n",
      "[=== ] Locking...\n",
      "[==  ] Locking...\n",
      "[=   ] Locking...\n",
      "[    ] Locking...\n",
      "[==  ] Locking...\n",
      "[=== ] Locking...\n",
      "[ ===] Locking...\n",
      "[   =] Locking...\n",
      "[    ] Locking...\n",
      "[   =] Locking...\n",
      "[  ==] Locking...\n",
      "[====] Locking...\n",
      "[=== ] Locking...\n",
      "[==  ] Locking...\n",
      "[=   ] Locking...\n",
      "[    ] Locking...\n",
      "[=   ] Locking...\n",
      "[=== ] Locking...\n",
      "[ ===] Locking...\n",
      "[  ==] Locking...\n",
      "[   =] Locking...\n",
      "[    ] Locking...\n",
      "[   =] Locking...\n",
      "[ ===] Locking...\n",
      "[====] Locking...\n",
      "[=== ] Locking...\n",
      "[==  ] Locking...\n",
      "[=   ] Locking...\n",
      "[=   ] Locking...\n",
      "[==  ] Locking...\n",
      "[=== ] Locking...\n",
      "[ ===] Locking...\n",
      "[   =] Locking...\n",
      "[    ] Locking...\n",
      "[   =] Locking...\n",
      "[  ==] Locking...\n",
      "[====] Locking...\n",
      "[=== ] Locking...\n",
      "[==  ] Locking...\n",
      "[=   ] Locking...\n",
      "[=   ] Locking...\n",
      "[==  ] Locking...\n",
      "[=== ] Locking...\n",
      "[ ===] Locking...\n",
      "[  ==] Locking...\n",
      "[    ] Locking...\n",
      "[   =] Locking...\n",
      "[  ==] Locking...\n",
      "[ ===] Locking...\n",
      "[====] Locking...\n",
      "[=== ] Locking...\n",
      "[=   ] Locking...\n",
      "[    ] Locking...\n",
      "[=   ] Locking...\n",
      "[==  ] Locking...\n",
      "[ ===] Locking...\n",
      "[  ==] Locking...\n",
      "[   =] Locking...\n",
      "[    ] Locking...\n",
      "[  ==] Locking...\n",
      "[ ===] Locking...\n",
      "[====] Locking...\n",
      "[=== ] Locking...\n",
      "[==  ] Locking...\n",
      "[    ] Locking...\n",
      "[=   ] Locking...\n",
      "[==  ] Locking...\n",
      "[=== ] Locking...\n",
      "[  ==] Locking...\n",
      "[   =] Locking...\n",
      "[    ] Locking...\n",
      "[   =] Locking...\n",
      "[  ==] Locking...\n",
      "[ ===] Locking...\n",
      "[=== ] Locking...\n",
      "[==  ] Locking...\n",
      "[=   ] Locking...\n",
      "[    ] Locking...\n",
      "[==  ] Locking...\n",
      "[=== ] Locking...\n",
      "[ ===] Locking...\n",
      "[   =] Locking...\n",
      "[    ] Locking...\n",
      "[   =] Locking...\n",
      "[  ==] Locking...\n",
      "[ ===] Locking...\n",
      "[=== ] Locking...\n",
      "[==  ] Locking...\n",
      "[=   ] Locking...\n",
      "[    ] Locking...\n",
      "[=   ] Locking...\n",
      "[=== ] Locking...\n",
      "[ ===] Locking...\n",
      "[  ==] Locking...\n",
      "[   =] Locking...\n",
      "[    ] Locking...\n",
      "[  ==] Locking...\n",
      "[ ===] Locking...\n",
      "[====] Locking...\n",
      "[=== ] Locking...\n",
      "[=   ] Locking...\n",
      "[    ] Locking...\n",
      "[=   ] Locking...\n",
      "[==  ] Locking...\n",
      "[=== ] Locking...\n",
      "[  ==] Locking...\n",
      "[   =] Locking...\n",
      "[    ] Locking...\n",
      "[   =] Locking...\n",
      "[  ==] Locking...\n",
      "[ ===] Locking...\n",
      "[=== ] Locking...\n",
      "[==  ] Locking...\n",
      "[=   ] Locking...\n",
      "[    ] Locking...\n",
      "[=   ] Locking...\n",
      "[=== ] Locking...\n",
      "[ ===] Locking...\n",
      "[  ==] Locking...\n",
      "[   =] Locking...\n",
      "[    ] Locking...\n",
      "[  ==] Locking...\n",
      "[ ===] Locking...\n",
      "[====] Locking...\n",
      "[=== ] Locking...\n",
      "[==  ] Locking...\n",
      "[    ] Locking...\n",
      "[=   ] Locking...\n",
      "[==  ] Locking...\n",
      "[=== ] Locking...\n",
      "[  ==] Locking...\n",
      "[   =] Locking...\n",
      "[    ] Locking...\n",
      "[   =] Locking...\n",
      "[ ===] Locking...\n",
      "[====] Locking...\n",
      "[=== ] Locking...\n",
      "[==  ] Locking...\n",
      "[=   ] Locking...\n",
      "[    ] Locking...\n",
      "[==  ] Locking...\n",
      "[=== ] Locking...\n",
      "[ ===] Locking...\n",
      "[  ==] Locking...\n",
      "[   =] Locking...\n",
      "[   =] Locking...\n",
      "[  ==] Locking...\n",
      "[ ===] Locking...\n",
      "[====] Locking...\n",
      "[==  ] Locking...\n",
      "[=   ] Locking...\n",
      "[    ] Locking...\n",
      "[=   ] Locking...\n",
      "[==  ] Locking...\n",
      "[=== ] Locking...\n",
      "[ ===] Locking...\n",
      "[   =] Locking...\n",
      "[    ] Locking...\n",
      "[   =] Locking...\n",
      "[  ==] Locking...\n",
      "Locking Failed!\n",
      "[ ===] Locking...\n",
      "[ ===] Locking...\n",
      "\n"
     ]
    }
   ],
   "source": [
    "! pipenv install scikit-learn==1.3.1"
   ]
  },
  {
   "cell_type": "code",
   "execution_count": 7,
   "metadata": {
    "execution": {
     "iopub.execute_input": "2023-10-09T18:59:45.173414Z",
     "iopub.status.busy": "2023-10-09T18:59:45.173032Z",
     "iopub.status.idle": "2023-10-09T18:59:45.181726Z",
     "shell.execute_reply": "2023-10-09T18:59:45.180385Z",
     "shell.execute_reply.started": "2023-10-09T18:59:45.173379Z"
    }
   },
   "outputs": [
    {
     "ename": "FileNotFoundError",
     "evalue": "[Errno 2] No such file or directory: 'Pipfile.lock'",
     "output_type": "error",
     "traceback": [
      "\u001b[1;31m---------------------------------------------------------------------------\u001b[0m",
      "\u001b[1;31mFileNotFoundError\u001b[0m                         Traceback (most recent call last)",
      "Cell \u001b[1;32mIn[7], line 1\u001b[0m\n\u001b[1;32m----> 1\u001b[0m \u001b[38;5;28;01mwith\u001b[39;00m \u001b[38;5;28;43mopen\u001b[39;49m\u001b[43m(\u001b[49m\u001b[38;5;124;43m\"\u001b[39;49m\u001b[38;5;124;43mPipfile.lock\u001b[39;49m\u001b[38;5;124;43m\"\u001b[39;49m\u001b[43m)\u001b[49m \u001b[38;5;28;01mas\u001b[39;00m infile:\n\u001b[0;32m      2\u001b[0m     \u001b[38;5;28mprint\u001b[39m(json\u001b[38;5;241m.\u001b[39mloads(infile\u001b[38;5;241m.\u001b[39mread())[\u001b[38;5;124m\"\u001b[39m\u001b[38;5;124mdefault\u001b[39m\u001b[38;5;124m\"\u001b[39m][\u001b[38;5;124m\"\u001b[39m\u001b[38;5;124mscikit-learn\u001b[39m\u001b[38;5;124m\"\u001b[39m][\u001b[38;5;124m\"\u001b[39m\u001b[38;5;124mhashes\u001b[39m\u001b[38;5;124m\"\u001b[39m][\u001b[38;5;241m0\u001b[39m])\n",
      "File \u001b[1;32m~\\anaconda3\\lib\\site-packages\\IPython\\core\\interactiveshell.py:284\u001b[0m, in \u001b[0;36m_modified_open\u001b[1;34m(file, *args, **kwargs)\u001b[0m\n\u001b[0;32m    277\u001b[0m \u001b[38;5;28;01mif\u001b[39;00m file \u001b[38;5;129;01min\u001b[39;00m {\u001b[38;5;241m0\u001b[39m, \u001b[38;5;241m1\u001b[39m, \u001b[38;5;241m2\u001b[39m}:\n\u001b[0;32m    278\u001b[0m     \u001b[38;5;28;01mraise\u001b[39;00m \u001b[38;5;167;01mValueError\u001b[39;00m(\n\u001b[0;32m    279\u001b[0m         \u001b[38;5;124mf\u001b[39m\u001b[38;5;124m\"\u001b[39m\u001b[38;5;124mIPython won\u001b[39m\u001b[38;5;124m'\u001b[39m\u001b[38;5;124mt let you open fd=\u001b[39m\u001b[38;5;132;01m{\u001b[39;00mfile\u001b[38;5;132;01m}\u001b[39;00m\u001b[38;5;124m by default \u001b[39m\u001b[38;5;124m\"\u001b[39m\n\u001b[0;32m    280\u001b[0m         \u001b[38;5;124m\"\u001b[39m\u001b[38;5;124mas it is likely to crash IPython. If you know what you are doing, \u001b[39m\u001b[38;5;124m\"\u001b[39m\n\u001b[0;32m    281\u001b[0m         \u001b[38;5;124m\"\u001b[39m\u001b[38;5;124myou can use builtins\u001b[39m\u001b[38;5;124m'\u001b[39m\u001b[38;5;124m open.\u001b[39m\u001b[38;5;124m\"\u001b[39m\n\u001b[0;32m    282\u001b[0m     )\n\u001b[1;32m--> 284\u001b[0m \u001b[38;5;28;01mreturn\u001b[39;00m io_open(file, \u001b[38;5;241m*\u001b[39margs, \u001b[38;5;241m*\u001b[39m\u001b[38;5;241m*\u001b[39mkwargs)\n",
      "\u001b[1;31mFileNotFoundError\u001b[0m: [Errno 2] No such file or directory: 'Pipfile.lock'"
     ]
    }
   ],
   "source": [
    "with open(\"Pipfile.lock\") as infile:\n",
    "    print(json.loads(infile.read())[\"default\"][\"scikit-learn\"][\"hashes\"][0])"
   ]
  },
  {
   "cell_type": "code",
   "execution_count": 50,
   "metadata": {
    "execution": {
     "iopub.execute_input": "2023-10-09T18:59:45.183848Z",
     "iopub.status.busy": "2023-10-09T18:59:45.183472Z",
     "iopub.status.idle": "2023-10-09T18:59:47.674923Z",
     "shell.execute_reply": "2023-10-09T18:59:47.673613Z",
     "shell.execute_reply.started": "2023-10-09T18:59:45.183817Z"
    }
   },
   "outputs": [],
   "source": [
    "! wget https://raw.githubusercontent.com/DataTalksClub/machine-learning-zoomcamp/master/cohorts/2023/05-deployment/homework/dv.bin -q\n",
    "! wget https://raw.githubusercontent.com/DataTalksClub/machine-learning-zoomcamp/master/cohorts/2023/05-deployment/homework/model1.bin -q"
   ]
  },
  {
   "cell_type": "code",
   "execution_count": 51,
   "metadata": {
    "execution": {
     "iopub.execute_input": "2023-10-09T18:59:47.677477Z",
     "iopub.status.busy": "2023-10-09T18:59:47.677137Z",
     "iopub.status.idle": "2023-10-09T18:59:47.685387Z",
     "shell.execute_reply": "2023-10-09T18:59:47.684231Z",
     "shell.execute_reply.started": "2023-10-09T18:59:47.677447Z"
    }
   },
   "outputs": [
    {
     "name": "stderr",
     "output_type": "stream",
     "text": [
      "/opt/conda/lib/python3.10/site-packages/sklearn/base.py:318: UserWarning: Trying to unpickle estimator DictVectorizer from version 1.3.1 when using version 1.2.2. This might lead to breaking code or invalid results. Use at your own risk. For more info please refer to:\n",
      "https://scikit-learn.org/stable/model_persistence.html#security-maintainability-limitations\n",
      "  warnings.warn(\n",
      "/opt/conda/lib/python3.10/site-packages/sklearn/base.py:318: UserWarning: Trying to unpickle estimator LogisticRegression from version 1.3.1 when using version 1.2.2. This might lead to breaking code or invalid results. Use at your own risk. For more info please refer to:\n",
      "https://scikit-learn.org/stable/model_persistence.html#security-maintainability-limitations\n",
      "  warnings.warn(\n"
     ]
    }
   ],
   "source": [
    "with open(\"/kaggle/working/dv.bin\", \"rb\") as infile:\n",
    "    dv = pickle.load(infile)\n",
    "\n",
    "with open(\"/kaggle/working/model1.bin\", \"rb\") as infile:\n",
    "    model = pickle.load(infile)"
   ]
  },
  {
   "cell_type": "markdown",
   "metadata": {},
   "source": [
    "### Question 3 - Prediction from inside Jupyter Notebook"
   ]
  },
  {
   "cell_type": "code",
   "execution_count": 52,
   "metadata": {
    "execution": {
     "iopub.execute_input": "2023-10-09T18:59:47.687519Z",
     "iopub.status.busy": "2023-10-09T18:59:47.687165Z",
     "iopub.status.idle": "2023-10-09T18:59:47.710121Z",
     "shell.execute_reply": "2023-10-09T18:59:47.708865Z",
     "shell.execute_reply.started": "2023-10-09T18:59:47.687492Z"
    }
   },
   "outputs": [],
   "source": [
    "client_data = dv.transform(\n",
    "    {\"job\": \"retired\", \"duration\": 445, \"poutcome\": \"success\"})"
   ]
  },
  {
   "cell_type": "code",
   "execution_count": 53,
   "metadata": {
    "execution": {
     "iopub.execute_input": "2023-10-09T18:59:47.712471Z",
     "iopub.status.busy": "2023-10-09T18:59:47.712025Z",
     "iopub.status.idle": "2023-10-09T18:59:47.729567Z",
     "shell.execute_reply": "2023-10-09T18:59:47.728025Z",
     "shell.execute_reply.started": "2023-10-09T18:59:47.712429Z"
    }
   },
   "outputs": [
    {
     "data": {
      "text/plain": [
       "(array([0.09806907, 0.90193093]), 'yes')"
      ]
     },
     "execution_count": 53,
     "metadata": {},
     "output_type": "execute_result"
    }
   ],
   "source": [
    "model.predict_proba(client_data)[0], model.predict(client_data)[0]"
   ]
  },
  {
   "cell_type": "markdown",
   "metadata": {},
   "source": [
    "### Question 4 - Prediction from Model served with Flask"
   ]
  },
  {
   "cell_type": "code",
   "execution_count": 54,
   "metadata": {
    "execution": {
     "iopub.execute_input": "2023-10-09T18:59:47.732481Z",
     "iopub.status.busy": "2023-10-09T18:59:47.731383Z",
     "iopub.status.idle": "2023-10-09T18:59:47.739121Z",
     "shell.execute_reply": "2023-10-09T18:59:47.738113Z",
     "shell.execute_reply.started": "2023-10-09T18:59:47.732443Z"
    }
   },
   "outputs": [],
   "source": [
    "script = \"\"\"from flask import Flask, request, jsonify\n",
    "import joblib\n",
    "\n",
    "app = Flask(__name__)\n",
    "\n",
    "# Load your trained model\n",
    "model = joblib.load('/kaggle/working/model1.bin')\n",
    "\n",
    "@app.route('/predict', methods=['POST'])\n",
    "def predict():\n",
    "    data = request.json\n",
    "    job = data['job']\n",
    "    duration = data['duration']\n",
    "    poutcome = data['poutcome']\n",
    "\n",
    "    # Prepare the data for prediction\n",
    "    features = [job, duration, poutcome]  # Assuming these are the features expected by your model\n",
    "\n",
    "    # Make the prediction\n",
    "    prediction = model.predict([features])\n",
    "\n",
    "    return jsonify({'prediction': int(prediction[0])})\n",
    "\n",
    "if __name__ == '__main__':\n",
    "    app.run(debug=True)\n",
    "\n",
    "\"\"\"\n",
    "\n",
    "with open(\"app.py\", \"w\") as outfile:\n",
    "    outfile.write(script)"
   ]
  },
  {
   "cell_type": "code",
   "execution_count": 55,
   "metadata": {
    "execution": {
     "iopub.execute_input": "2023-10-09T18:59:47.742997Z",
     "iopub.status.busy": "2023-10-09T18:59:47.742489Z",
     "iopub.status.idle": "2023-10-09T18:59:50.058997Z",
     "shell.execute_reply": "2023-10-09T18:59:50.057781Z",
     "shell.execute_reply.started": "2023-10-09T18:59:47.742966Z"
    }
   },
   "outputs": [
    {
     "name": "stdout",
     "output_type": "stream",
     "text": [
      "\u001b[1;32mInstalling Flask\u001b[0m\u001b[1;33m...\u001b[0m\n",
      "\u001b[?25lResolving Flask\u001b[33m...\u001b[0m\n",
      "\u001b[2K✔ Installation Succeeded\n",
      "\u001b[2K\u001b[32m⠋\u001b[0m Installing Flask...\n",
      "\u001b[1A\u001b[2K\u001b[1;32mInstalling gunicorn\u001b[0m\u001b[1;33m...\u001b[0m\n",
      "\u001b[?25lResolving gunicorn\u001b[33m...\u001b[0m\n",
      "\u001b[2K✔ Installation Succeeded\n",
      "\u001b[2K\u001b[32m⠋\u001b[0m Installing gunicorn...\n",
      "\u001b[1A\u001b[2K\u001b[1mInstalling dependencies from Pipfile.lock \u001b[0m\u001b[1m(\u001b[0m\u001b[1me23712\u001b[0m\u001b[1m)\u001b[0m\u001b[1;33m...\u001b[0m\n",
      "To activate this project's virtualenv, run \u001b[33mpipenv shell\u001b[0m.\n",
      "Alternatively, run a command inside the virtualenv with \u001b[33mpipenv run\u001b[0m.\n"
     ]
    }
   ],
   "source": [
    "# ! pipenv install Flask gunicorn"
   ]
  },
  {
   "cell_type": "code",
   "execution_count": 56,
   "metadata": {
    "execution": {
     "iopub.execute_input": "2023-10-09T18:59:50.062228Z",
     "iopub.status.busy": "2023-10-09T18:59:50.061767Z",
     "iopub.status.idle": "2023-10-09T18:59:50.068890Z",
     "shell.execute_reply": "2023-10-09T18:59:50.067692Z",
     "shell.execute_reply.started": "2023-10-09T18:59:50.062187Z"
    }
   },
   "outputs": [],
   "source": [
    "# ! pipenv run gunicorn -b 0.0.0.0:5000 app:app"
   ]
  },
  {
   "cell_type": "code",
   "execution_count": 57,
   "metadata": {
    "execution": {
     "iopub.execute_input": "2023-10-09T18:59:50.071437Z",
     "iopub.status.busy": "2023-10-09T18:59:50.070954Z",
     "iopub.status.idle": "2023-10-09T18:59:50.084515Z",
     "shell.execute_reply": "2023-10-09T18:59:50.083115Z",
     "shell.execute_reply.started": "2023-10-09T18:59:50.071398Z"
    }
   },
   "outputs": [],
   "source": [
    "# import requests\n",
    "\n",
    "# url = \"http://127.0.0.1:5000/predict\"  # Replace with your actual URL\n",
    "# client = {\"job\": \"unknown\", \"duration\": 270, \"poutcome\": \"failure\"}\n",
    "\n",
    "# response = requests.post(url, json=client)\n",
    "\n",
    "# # Print the prediction\n",
    "# print(response.json())"
   ]
  },
  {
   "cell_type": "code",
   "execution_count": 58,
   "metadata": {
    "execution": {
     "iopub.execute_input": "2023-10-09T18:59:50.086953Z",
     "iopub.status.busy": "2023-10-09T18:59:50.086544Z",
     "iopub.status.idle": "2023-10-09T18:59:50.103892Z",
     "shell.execute_reply": "2023-10-09T18:59:50.102664Z",
     "shell.execute_reply.started": "2023-10-09T18:59:50.086923Z"
    }
   },
   "outputs": [
    {
     "data": {
      "text/plain": [
       "(array([0.86031053, 0.13968947]), 'no')"
      ]
     },
     "execution_count": 58,
     "metadata": {},
     "output_type": "execute_result"
    }
   ],
   "source": [
    "client_data = dv.transform(\n",
    "    {\"job\": \"unknown\", \"duration\": 270, \"poutcome\": \"failure\"})\n",
    "\n",
    "model.predict_proba(client_data)[0], model.predict(client_data)[0]"
   ]
  },
  {
   "cell_type": "markdown",
   "metadata": {},
   "source": [
    "### Question 5 - So what's the size of this base image?"
   ]
  },
  {
   "cell_type": "code",
   "execution_count": 59,
   "metadata": {
    "execution": {
     "iopub.execute_input": "2023-10-09T18:59:50.105701Z",
     "iopub.status.busy": "2023-10-09T18:59:50.105410Z",
     "iopub.status.idle": "2023-10-09T18:59:51.334856Z",
     "shell.execute_reply": "2023-10-09T18:59:51.333661Z",
     "shell.execute_reply.started": "2023-10-09T18:59:50.105677Z"
    }
   },
   "outputs": [
    {
     "name": "stdout",
     "output_type": "stream",
     "text": [
      "curl: /opt/conda/lib/libcurl.so.4: no version information available (required by curl)\n",
      "\u001b[0;39m53421085\u001b[0m\n"
     ]
    }
   ],
   "source": [
    "! curl -s https://hub.docker.com/v2/repositories/svizor/zoomcamp-model/tags/ | \\\n",
    "    jq '.results[] | select(.name==\"3.10.12-slim\") | .full_size'"
   ]
  },
  {
   "cell_type": "markdown",
   "metadata": {},
   "source": [
    "### Question 6 - Prediction using Model served with Docker"
   ]
  },
  {
   "cell_type": "code",
   "execution_count": 60,
   "metadata": {
    "execution": {
     "iopub.execute_input": "2023-10-09T18:59:51.337886Z",
     "iopub.status.busy": "2023-10-09T18:59:51.336673Z",
     "iopub.status.idle": "2023-10-09T18:59:51.343429Z",
     "shell.execute_reply": "2023-10-09T18:59:51.342118Z",
     "shell.execute_reply.started": "2023-10-09T18:59:51.337846Z"
    }
   },
   "outputs": [],
   "source": [
    "# # Dockerfile\n",
    "# FROM svizor/zoomcamp-model:3.10.12-slim\n",
    "\n",
    "# # Set the working directory in the container\n",
    "# WORKDIR /app\n",
    "\n",
    "# # Copy Pipenv files\n",
    "# COPY Pipfile Pipfile.lock ./\n",
    "\n",
    "# # Install dependencies\n",
    "# RUN pipenv install --system --deploy --ignore-pipfile\n",
    "\n",
    "# # Copy the Flask script\n",
    "# COPY app.py /app\n",
    "\n",
    "# # Expose the port that the app will run on\n",
    "# EXPOSE 5000\n",
    "\n",
    "# # Command to run the app with Gunicorn\n",
    "# CMD [\"gunicorn\", \"-b\", \"0.0.0.0:5000\", \"app:app\"]\n",
    "\n",
    "# # Build the Docker image from your Dockerfile located in the same directory as your Flask script and Pipenv files\n",
    "# docker build -t prediction_service .\n",
    "\n",
    "# docker run -p 5000:5000 prediction_service"
   ]
  },
  {
   "cell_type": "code",
   "execution_count": 61,
   "metadata": {
    "execution": {
     "iopub.execute_input": "2023-10-09T18:59:51.346039Z",
     "iopub.status.busy": "2023-10-09T18:59:51.345291Z",
     "iopub.status.idle": "2023-10-09T18:59:51.365833Z",
     "shell.execute_reply": "2023-10-09T18:59:51.364852Z",
     "shell.execute_reply.started": "2023-10-09T18:59:51.346002Z"
    }
   },
   "outputs": [
    {
     "data": {
      "text/plain": [
       "(array([0.09806907, 0.90193093]), 'yes')"
      ]
     },
     "execution_count": 61,
     "metadata": {},
     "output_type": "execute_result"
    }
   ],
   "source": [
    "client_data = dv.transform(\n",
    "    {\"job\": \"retired\", \"duration\": 445, \"poutcome\": \"success\"})\n",
    "\n",
    "model.predict_proba(client_data)[0], model.predict(client_data)[0]"
   ]
  }
 ],
 "metadata": {
  "kernelspec": {
   "display_name": "Python 3 (ipykernel)",
   "language": "python",
   "name": "python3"
  },
  "language_info": {
   "codemirror_mode": {
    "name": "ipython",
    "version": 3
   },
   "file_extension": ".py",
   "mimetype": "text/x-python",
   "name": "python",
   "nbconvert_exporter": "python",
   "pygments_lexer": "ipython3",
   "version": "3.9.17"
  }
 },
 "nbformat": 4,
 "nbformat_minor": 4
}
