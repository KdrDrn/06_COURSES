{
 "cells": [
  {
   "cell_type": "code",
   "execution_count": 17,
   "id": "18bf2b0f",
   "metadata": {},
   "outputs": [
    {
     "data": {
      "application/javascript": "IPython.notebook.set_autosave_interval(0)"
     },
     "metadata": {},
     "output_type": "display_data"
    },
    {
     "name": "stdout",
     "output_type": "stream",
     "text": [
      "Autosave disabled\n"
     ]
    }
   ],
   "source": [
    "%autosave 0"
   ]
  },
  {
   "cell_type": "code",
   "execution_count": 18,
   "id": "5a8945ea",
   "metadata": {},
   "outputs": [],
   "source": [
    "import requests"
   ]
  },
  {
   "cell_type": "code",
   "execution_count": 19,
   "id": "7f0d5730",
   "metadata": {},
   "outputs": [],
   "source": [
    "url = 'http://localhost:9696/predict'"
   ]
  },
  {
   "cell_type": "code",
   "execution_count": 35,
   "id": "736e10d3",
   "metadata": {},
   "outputs": [],
   "source": [
    "employee_1 = {\n",
    "          \"age\": 43,\n",
    "          \"workclass\": \"Local-gov\",\n",
    "          \"fnlwgt\": 206063,\n",
    "          \"education\": \"medium_level_grade\",\n",
    "          \"marital_status\": \"unmarried\",\n",
    "          \"occupation\": \"Other-service\",\n",
    "          \"race\": \"White\",\n",
    "          \"sex\": \"Male\",\n",
    "          \"capital_gain\": 0,\n",
    "          \"capital_loss\": 0,\n",
    "          \"hours_per_week\": 45,\n",
    "          \"native_country\": \"US\"\n",
    "           }"
   ]
  },
  {
   "cell_type": "code",
   "execution_count": 36,
   "id": "facbc8d2",
   "metadata": {},
   "outputs": [
    {
     "data": {
      "text/plain": [
       "{'salary_estimation': False, 'salary_probability': 0.08675666543584487}"
      ]
     },
     "execution_count": 36,
     "metadata": {},
     "output_type": "execute_result"
    }
   ],
   "source": [
    "response = requests.post(url, json=employee_1).json()\n",
    "response"
   ]
  },
  {
   "cell_type": "code",
   "execution_count": 37,
   "id": "9ce2d528",
   "metadata": {},
   "outputs": [],
   "source": [
    "if response['salary_estimation'] == True:\n",
    "    print(\"success\")"
   ]
  },
  {
   "cell_type": "code",
   "execution_count": 42,
   "id": "a27ace60",
   "metadata": {},
   "outputs": [],
   "source": [
    "employee_2 = {\"age\": 43,\n",
    "             \"workclass\": \"Private\",\n",
    "             \"fnlwgt\": 213844,\n",
    "             \"education\": \"HS-medium_level_grade\",\n",
    "             \"marital-status\": \"married\",\n",
    "             \"occupation\": \"Craft-repair\",\n",
    "             \"race\": \"Black\",\n",
    "             \"sex\": \"Male\",\n",
    "             \"capital-gain\": 0,\n",
    "             \"capital-loss\": 0,\n",
    "             \"hours-per-week\": 42,\n",
    "             \"native-country\": \"US\"\n",
    "             }"
   ]
  },
  {
   "cell_type": "code",
   "execution_count": 43,
   "id": "1741d0bb",
   "metadata": {},
   "outputs": [
    {
     "data": {
      "text/plain": [
       "{'salary_estimation': False, 'salary_probability': 0.15781603460223578}"
      ]
     },
     "execution_count": 43,
     "metadata": {},
     "output_type": "execute_result"
    }
   ],
   "source": [
    "response = requests.post(url, json=employee_2).json()\n",
    "response"
   ]
  },
  {
   "cell_type": "code",
   "execution_count": 41,
   "id": "4b8a9932",
   "metadata": {},
   "outputs": [],
   "source": [
    "if response['salary_estimation'] == True:\n",
    "    print(\"success\")"
   ]
  },
  {
   "cell_type": "code",
   "execution_count": null,
   "id": "6ad56110",
   "metadata": {},
   "outputs": [],
   "source": []
  }
 ],
 "metadata": {
  "kernelspec": {
   "display_name": "Python 3 (ipykernel)",
   "language": "python",
   "name": "python3"
  },
  "language_info": {
   "codemirror_mode": {
    "name": "ipython",
    "version": 3
   },
   "file_extension": ".py",
   "mimetype": "text/x-python",
   "name": "python",
   "nbconvert_exporter": "python",
   "pygments_lexer": "ipython3",
   "version": "3.10.11"
  }
 },
 "nbformat": 4,
 "nbformat_minor": 5
}
