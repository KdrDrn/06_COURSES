{
 "cells": [
  {
   "cell_type": "markdown",
   "id": "5d57680d",
   "metadata": {},
   "source": [
    "## Discover new regression models\n",
    "\n",
    "In Unit 2, we looked at fitting a straight line to data points. [Ünite 2'de, veri noktalarına düz bir çizgi uydurmaya baktık.] However, regression can fit many kinds of relationships, including those with multiple factors, and those where the importance of one factor depends on another. [Bununla birlikte, regresyon, birden çok faktöre sahip olanlar ve bir faktörün öneminin diğerine bağlı olduğu ilişkiler de dahil olmak üzere birçok ilişki türüne uyabilir.]\n",
    "\n",
    "### Experimenting with models\n",
    "\n",
    "Regression models are often chosen because they work with small data samples, are robust, easy to interpret, and a variety exist. [Regresyon modelleri genellikle küçük veri örnekleriyle çalıştıkları, sağlam oldukları, yorumlanması kolay oldukları ve çeşitli oldukları için seçilir.]\n",
    "\n",
    "**Linear regression** is the simplest form of regression, with no limit to the number of features used. [Doğrusal regresyon, kullanılan öznitelik sayısında herhangi bir sınırlama olmaksızın, en basit regresyon şeklidir.] Linear regression comes in many forms - often named by the number of features used and the shape of the curve that fits. [Doğrusal regresyon birçok biçimde gelir - genellikle kullanılan özelliklerin sayısı ve buna uyan eğrinin şekli ile adlandırılır.]\n",
    "\n",
    "**Decision trees** take a step-by-step approach to predicting a variable. [Karar ağaçları, bir değişkeni tahmin etmek için adım adım bir yaklaşım benimser.] If we think of our bicycle example, the decision tree may be first split examples between ones that are during Spring/Summer and Autumn/Winter, make a prediction based on the day of the week. [Bisiklet örneğimizi düşünürsek, karar ağacı ilk olarak İlkbahar/Yaz ve Sonbahar/Kış dönemleri arasında bölünmüş örnekler olabilir, haftanın gününe göre bir tahminde bulunun.] Spring/Summer-Monday may have a bike rental rate of 100 per day, while Autumn/Winter-Monday may have a rental rate of 20 per day. [İlkbahar/Yaz-Pazartesi günlük bisiklet kiralama ücreti 100, Sonbahar/Kış-Pazartesi günlük kiralama ücreti ise 20 olabilir.]\n",
    "\n",
    "**Ensemble algorithms** construct not just one decision tree, but a large number of trees - allowing better predictions on more complex data. [Topluluk algoritmaları yalnızca bir karar ağacı değil, çok sayıda ağaç oluşturur - daha karmaşık veriler üzerinde daha iyi tahminlere izin verir.] Ensemble algorithms, such as Random Forest, are widely used in machine learning and science due to their strong prediction abilities. [Random Forest gibi topluluk algoritmaları, güçlü tahmin yetenekleri nedeniyle makine öğrenimi ve bilimde yaygın olarak kullanılmaktadır.]\n",
    "\n",
    "Data scientists often experiment with using different models. [Veri bilimcileri genellikle farklı modeller kullanarak deneyler yaparlar.] In the following exercise, we'll experiment with different types of models to compare how they perform on the same data. [Aşağıdaki alıştırmada, aynı veriler üzerinde nasıl performans gösterdiklerini karşılaştırmak için farklı model türlerini deneyeceğiz.]"
   ]
  },
  {
   "cell_type": "code",
   "execution_count": null,
   "id": "c6451cb7",
   "metadata": {},
   "outputs": [],
   "source": []
  }
 ],
 "metadata": {
  "kernelspec": {
   "display_name": "Python 3 (ipykernel)",
   "language": "python",
   "name": "python3"
  },
  "language_info": {
   "codemirror_mode": {
    "name": "ipython",
    "version": 3
   },
   "file_extension": ".py",
   "mimetype": "text/x-python",
   "name": "python",
   "nbconvert_exporter": "python",
   "pygments_lexer": "ipython3",
   "version": "3.8.12"
  }
 },
 "nbformat": 4,
 "nbformat_minor": 5
}
