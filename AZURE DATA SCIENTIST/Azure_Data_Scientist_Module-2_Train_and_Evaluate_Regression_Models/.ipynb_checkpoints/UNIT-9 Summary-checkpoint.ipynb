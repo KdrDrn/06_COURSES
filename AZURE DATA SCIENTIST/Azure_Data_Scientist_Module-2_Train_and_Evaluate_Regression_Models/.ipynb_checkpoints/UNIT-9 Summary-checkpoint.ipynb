{
 "cells": [
  {
   "cell_type": "markdown",
   "id": "c10c080d",
   "metadata": {},
   "source": [
    "## Summary\n",
    "\n",
    "In this module, you learned how regression can be used to create a machine learning model that predicts numeric values. You then used the scikit-learn framework in Python to train and evaluate a regression model.\n",
    "\n",
    "While scikit-learn is a popular framework for writing code to train regression models, you can also create machine learning solutions for regression using the graphical tools in Microsoft Azure Machine Learning. You can learn more about no-code development of regression models using Azure Machine Learning in the Create a Regression Model with Azure Machine Learning designer module.(https://docs.microsoft.com/en-us/learn/modules/create-regression-model-azure-machine-learning-designer/)\n",
    "\n",
    "### Challenge: Predict Real Estate Prices\n",
    "\n",
    "Think you're ready to create your own regression model? Try the challenge of predicting real estate property prices in the 02 - Real Estate Regression Challenge.ipynb notebook! (https://github.com/MicrosoftDocs/ml-basics/blob/master/challenges/02%20-%20Real%20Estate%20Regression%20Challenge.ipynb)\n",
    "\n",
    "**Note**\n",
    "\n",
    "The time to complete this optional challenge is not included in the estimated time for this module - you can spend as little or as much time on it as you like!"
   ]
  },
  {
   "cell_type": "code",
   "execution_count": null,
   "id": "9a628ca0",
   "metadata": {},
   "outputs": [],
   "source": []
  }
 ],
 "metadata": {
  "kernelspec": {
   "display_name": "Python 3 (ipykernel)",
   "language": "python",
   "name": "python3"
  },
  "language_info": {
   "codemirror_mode": {
    "name": "ipython",
    "version": 3
   },
   "file_extension": ".py",
   "mimetype": "text/x-python",
   "name": "python",
   "nbconvert_exporter": "python",
   "pygments_lexer": "ipython3",
   "version": "3.8.12"
  }
 },
 "nbformat": 4,
 "nbformat_minor": 5
}
