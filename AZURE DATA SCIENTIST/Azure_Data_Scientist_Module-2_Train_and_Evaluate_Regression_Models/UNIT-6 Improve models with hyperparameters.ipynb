{
 "cells": [
  {
   "cell_type": "markdown",
   "id": "9b9a9809",
   "metadata": {},
   "source": [
    "## Improve models with hyperparameters\n",
    "\n",
    "Simple models with small datasets can often be fit in a single step, while larger datasets and more complex models must be fit by repeatedly using the model with training data and comparing the output with the expected label. [Küçük veri kümelerine sahip basit modeller genellikle tek bir adıma sığdırılabilirken, daha büyük veri kümeleri ve daha karmaşık modeller, modeli eğitim verileriyle tekrar tekrar kullanarak ve çıktıyı beklenen etiketle karşılaştırarak sığdırılmalıdır.] If the prediction is accurate enough, we consider the model trained. [Tahmin yeterince doğruysa, modelin eğitildiğini kabul ederiz.] If not, we adjust the model slightly and loop again. [Değilse, modeli biraz ayarlayıp tekrar döngüye alıyoruz.]\n",
    "\n",
    "Hyperparameters are values that change the way that the model is fit during these loops. [Hiperparametreler, bu döngüler sırasında modelin uyum şeklini değiştiren değerlerdir.] Learning rate, for example, is a hyperparameter that sets how much a model is adjusted during each training cycle. [Örneğin öğrenme oranı, her eğitim döngüsü sırasında bir modelin ne kadar ayarlanacağını belirleyen bir hiper parametredir.] A high learning rate means a model can be trained faster, but if it’s too high the adjustments can be so large that the model is never ‘finely tuned’ and not optimal. [Yüksek bir öğrenme oranı, bir modelin daha hızlı eğitilebileceği anlamına gelir, ancak çok yüksekse, ayarlamalar o kadar büyük olabilir ki, model hiçbir zaman 'ince ayar' olmaz ve optimal olmaz.]\n",
    "\n",
    "### Preprocessing data\n",
    "\n",
    "Preprocessing refers to changes you make to your data before it is passed to the model. [Ön işleme, modele geçmeden önce verilerinizde yaptığınız değişiklikleri ifade eder.] We have previously read that preprocessing can involve cleaning your dataset. [Ön işlemenin veri kümenizi temizlemeyi gerektirebileceğini daha önce okuduk.] While this is important, preprocessing can also include changing the format of your data, so it's easier for the model to use. [Bu önemli olmakla birlikte, ön işleme, verilerinizin biçiminin değiştirilmesini de içerebilir, bu nedenle modelin kullanımı daha kolaydır.] For example, data described as ‘red’, ‘orange’, ‘yellow’, ‘lime’, and ‘green’, may work better if converted into a format more native to computers, such as numbers stating the amount of red and the amount of green. [Örneğin, 'kırmızı', 'turuncu', 'sarı', 'kireç' ve 'yeşil' olarak tanımlanan veriler, kırmızı miktarını ve yeşil miktarı.]\n",
    "\n",
    "### Scaling features\n",
    "\n",
    "The most common preprocessing step is to scale features so they fall between zero and one. [En yaygın ön işleme adımı, özellikleri sıfır ile bir arasında kalacak şekilde ölçeklemektir.] For example, the weight of a bike and the distance a person travels on a bike may be two very different numbers, but by scaling both numbers to between zero and one allows models to learn more effectively from the data. [Örneğin, bir bisikletin ağırlığı ve bir kişinin bisikletle kat ettiği mesafe çok farklı iki sayı olabilir, ancak her iki sayıyı da sıfır ile bir arasında ölçeklendirmek, modellerin verilerden daha etkili bir şekilde öğrenmesini sağlar.]\n",
    "\n",
    "### Using categories as features\n",
    "\n",
    "In machine learning, you can also use categorical features such as 'bicycle', 'skateboard’ or 'car'. [Makine öğreniminde 'bisiklet', 'kaykay' veya 'araba' gibi kategorik özellikleri de kullanabilirsiniz.] These features are represented by 0 or 1 values in one-hot vectors - vectors that have a 0 or 1 for each possible value. [Bu özellikler, tek sıcak vektörlerde 0 veya 1 değerleri ile temsil edilir - her olası değer için 0 veya 1 olan vektörler.] For example, bicycle, skateboard, and car might respectively be (1,0,0), (0,1,0), and (0,0,1). [Örneğin bisiklet, kaykay ve araba sırasıyla (1,0,0), (0,1,0) ve (0,0,1) olabilir.]"
   ]
  },
  {
   "cell_type": "code",
   "execution_count": null,
   "id": "5b21e4cf",
   "metadata": {},
   "outputs": [],
   "source": []
  }
 ],
 "metadata": {
  "kernelspec": {
   "display_name": "Python 3 (ipykernel)",
   "language": "python",
   "name": "python3"
  },
  "language_info": {
   "codemirror_mode": {
    "name": "ipython",
    "version": 3
   },
   "file_extension": ".py",
   "mimetype": "text/x-python",
   "name": "python",
   "nbconvert_exporter": "python",
   "pygments_lexer": "ipython3",
   "version": "3.8.13"
  },
  "toc": {
   "base_numbering": 1,
   "nav_menu": {},
   "number_sections": true,
   "sideBar": true,
   "skip_h1_title": false,
   "title_cell": "Table of Contents",
   "title_sidebar": "Contents",
   "toc_cell": false,
   "toc_position": {},
   "toc_section_display": true,
   "toc_window_display": false
  }
 },
 "nbformat": 4,
 "nbformat_minor": 5
}
