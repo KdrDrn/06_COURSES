{
 "cells": [
  {
   "cell_type": "markdown",
   "id": "385d63a6",
   "metadata": {},
   "source": [
    "## Create an Azure Machine Learning workspace\n",
    "\n",
    "Azure Machine Learning is a cloud-based platform for building and operating machine learning solutions in Azure. [Azure Machine Learning, Azure'da makine öğrenimi çözümleri oluşturmaya ve çalıştırmaya yönelik bulut tabanlı bir platformdur.] It includes a wide range of features and capabilities that help data scientists prepare data, train models, publish predictive services, and monitor their usage. [Veri bilimcilerin veri hazırlamasına, modelleri eğitmesine, tahmine dayalı hizmetler yayınlamasına ve kullanımlarını izlemesine yardımcı olan çok çeşitli özellikler ve yetenekler içerir.] One of these features is a visual interface called designer, that you can use to train, test, and deploy machine learning models without writing any code. [Bu özelliklerden biri, herhangi bir kod yazmadan makine öğrenimi modellerini eğitmek, test etmek ve dağıtmak için kullanabileceğiniz tasarımcı adlı görsel bir arabirimdir.]\n",
    "\n",
    "### Create an Azure Machine Learning workspace\n",
    "\n",
    "To use Azure Machine Learning, you create a workspace in your Azure subscription. [Azure Machine Learning kullanmak için Azure aboneliğinizde bir çalışma alanı oluşturursunuz.] You can then use this workspace to manage data, compute resources, code, models, and other artifacts related to your machine learning workloads. [Daha sonra bu çalışma alanını, makine öğrenimi iş yüklerinizle ilgili verileri yönetmek, kaynakları, kodu, modelleri ve diğer yapıları yönetmek için kullanabilirsiniz.]\n",
    " \n",
    "**Note**\n",
    "\n",
    "This module is one of many that make use of an Azure Machine Learning workspace, including the other modules in the Create no-code predictive models with Azure Machine Learning learning path. (https://docs.microsoft.com/en-us/learn/paths/create-no-code-predictive-models-azure-machine-learning/) [Bu modül, Azure Machine Learning ile kodsuz tahmine dayalı modeller oluşturma öğrenme yolundaki diğer modüller de dahil olmak üzere bir Azure Machine Learning çalışma alanından yararlanan birçok modülden biridir.] If you are using your own Azure subscription, you may consider creating the workspace once and reusing it in other modules. [Kendi Azure aboneliğinizi kullanıyorsanız çalışma alanını bir kez oluşturup diğer modüllerde yeniden kullanmayı düşünebilirsiniz.] Your Azure subscription will be charged a small amount for data storage as long as the Azure Machine Learning workspace exists in your subscription, so we recommend you delete the Azure Machine Learning workspace when it is no longer required. [Azure aboneliğiniz, aboneliğinizde Azure Machine Learning çalışma alanı olduğu sürece veri depolama için küçük bir miktar ücretlendirilir; bu nedenle, artık gerekli olmadığında Azure Machine Learning çalışma alanını silmenizi öneririz.]\n",
    "\n",
    "If you don't already have one, follow these steps to create a workspace: [Henüz bir çalışma alanınız yoksa, bir çalışma alanı oluşturmak için şu adımları izleyin:]\n",
    "\n",
    "1. Sign into the Azure portal (https://portal.azure.com/#home) using the Microsoft credentials associated with your Azure subscription. [Azure aboneliğinizle ilişkili Microsoft kimlik bilgilerini kullanarak Azure portalında oturum açın.]\n",
    "\n",
    "2. Select ＋Create a resource, search for Machine Learning, and create a new Machine Learning resource the following settings: [＋Kaynak oluştur'u seçin, Machine Learning'i arayın ve aşağıdaki ayarlarla yeni bir Machine Learning kaynağı oluşturun:]\n",
    "\n",
    "- Subscription: Your Azure subscription [Abonelik: Azure aboneliğiniz]\n",
    "\n",
    "- Resource group: Create or select a resource group [Kaynak grubu: Bir kaynak grubu oluşturun veya seçin]\n",
    "\n",
    "- Workspace name: Enter a unique name for your workspace [Çalışma alanı adı: Çalışma alanınız için benzersiz bir ad girin]\n",
    "\n",
    "- Region: Select the geographical region closest to you [Bölge: Size en yakın coğrafi bölgeyi seçin]\n",
    "\n",
    "- Storage account: Note the default new storage account that will be created for your workspace [Depolama hesabı: Çalışma alanınız için oluşturulacak varsayılan yeni depolama hesabını not edin]\n",
    "\n",
    "- Key vault: Note the default new key vault that will be created for your workspace [Anahtar kasası: Çalışma alanınız için oluşturulacak varsayılan yeni anahtar kasasını not edin]\n",
    "\n",
    "- Application insights: Note the default new application insights resource that will be created for your workspace [Uygulama öngörüleri: Çalışma alanınız için oluşturulacak varsayılan yeni uygulama öngörüleri kaynağını not edin]\n",
    "\n",
    "- Container registry: None (one will be created automatically the first time you deploy a model to a container) [Kapsayıcı kayıt defteri: Yok (bir modeli bir kapsayıcıya ilk kez dağıttığınızda otomatik olarak bir tane oluşturulur)]\n",
    "\n",
    "3. Wait for your workspace to be created (it can take a few minutes). [Çalışma alanınızın oluşturulmasını bekleyin (birkaç dakika sürebilir).] Then go to it in the portal. [Ardından portalda ona gidin.]\n",
    "\n",
    "4. On the Overview page for your workspace, launch Azure Machine Learning studio (or open a new browser tab and navigate to https://ml.azure.com), and sign into Azure Machine Learning studio using your Microsoft account. [Çalışma alanınız için Genel Bakış sayfasında Azure Machine Learning stüdyosunu başlatın (veya yeni bir tarayıcı sekmesi açın ve https://ml.azure.com'a gidin) ve Microsoft hesabınızı kullanarak Azure Machine Learning stüdyosunda oturum açın.] If prompted, select your Azure directory and subscription, and your Azure Machine Learning workspace. [İstenirse Azure dizininizi ve aboneliğinizi ve Azure Machine Learning çalışma alanınızı seçin.]\n",
    "\n",
    "5. In Azure Machine Learning studio, toggle the ☰ icon at the top left to view the various pages in the interface. [Azure Machine Learning stüdyosunda, arabirimdeki çeşitli sayfaları görüntülemek için sol üstteki ☰ simgesini değiştirin.] You can use these pages to manage the resources in your workspace. [Çalışma alanınızdaki kaynakları yönetmek için bu sayfaları kullanabilirsiniz.]\n",
    "\n",
    "You can manage your workspace using the Azure portal, but for data scientists and Machine Learning operations engineers, Azure Machine Learning studio provides a more focused user interface for managing workspace resources. [Azure portalını kullanarak çalışma alanınızı yönetebilirsiniz, ancak veri bilimcileri ve Machine Learning operasyon mühendisleri için Azure Machine Learning stüdyosu, çalışma alanı kaynaklarını yönetmek için daha odaklı bir kullanıcı arabirimi sağlar.]"
   ]
  },
  {
   "cell_type": "code",
   "execution_count": null,
   "id": "c7e6e593",
   "metadata": {},
   "outputs": [],
   "source": []
  }
 ],
 "metadata": {
  "kernelspec": {
   "display_name": "Python 3 (ipykernel)",
   "language": "python",
   "name": "python3"
  },
  "language_info": {
   "codemirror_mode": {
    "name": "ipython",
    "version": 3
   },
   "file_extension": ".py",
   "mimetype": "text/x-python",
   "name": "python",
   "nbconvert_exporter": "python",
   "pygments_lexer": "ipython3",
   "version": "3.8.12"
  }
 },
 "nbformat": 4,
 "nbformat_minor": 5
}
