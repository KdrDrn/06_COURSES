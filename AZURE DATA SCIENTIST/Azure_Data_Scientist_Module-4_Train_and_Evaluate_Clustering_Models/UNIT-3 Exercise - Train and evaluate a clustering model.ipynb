{
 "cells": [
  {
   "cell_type": "markdown",
   "id": "6ae3e641",
   "metadata": {},
   "source": [
    "## Exercise - Train and evaluate a clustering model"
   ]
  },
  {
   "cell_type": "markdown",
   "id": "8060a4f1",
   "metadata": {},
   "source": [
    "### Clustering - Introduction\n",
    "\n",
    "In contrast to supervised machine learning, unsupervised learning is used when there is no \"ground truth\" from which to train and validate label predictions. [Denetimli makine öğreniminin aksine, etiket tahminlerini eğitmek ve doğrulamak için 'temel gerçeği' olmadığında denetimsiz öğrenme kullanılır.] The most common form of unsupervised learning is clustering, which is simllar conceptually to classification, except that the the training data does not include known values for the class label to be predicted. [Denetimsiz öğrenmenin en yaygın biçimi, eğitim verilerinin tahmin edilecek sınıf etiketi için bilinen değerleri içermemesi dışında, kavramsal olarak sınıflandırmaya benzeyen kümelemedir.] Clustering works by separating the training cases based on similarities that can be determined from their feature values. [Kümeleme, eğitim durumlarını öznitelik değerlerinden belirlenebilen benzerliklere göre ayırarak çalışır.] Think of it this way; the numeric features of a given entity can be thought of as vector coordinates that define the entity's position in n-dimensional space. [Bu şekilde düşün; belirli bir varlığın sayısal özellikleri, varlığın n boyutlu uzaydaki konumunu tanımlayan vektör koordinatları olarak düşünülebilir.] What a clustering model seeks to do is to identify groups, or clusters, of entities that are close to one another while being separated from other clusters. [Bir kümeleme modelinin yapmaya çalıştığı şey, diğer kümelerden ayrılırken birbirine yakın olan varlıkların gruplarını veya kümelerini belirlemektir.]\n",
    "\n",
    "For example, let's take a look at a dataset that contains measurements of different species of wheat seed. [Örneğin, farklı buğday tohumu türlerinin ölçümlerini içeren bir veri kümesine bakalım.]\n",
    "\n",
    "**Citation**: The seeds dataset used in the this exercise was originally published by the Institute of Agrophysics of the Polish Academy of Sciences in Lublin, and can be downloaded from the UCI dataset repository (Dua, D. and Graff, C. [Alıntı: Bu alıştırmada kullanılan tohum veri seti orijinal olarak Lublin'deki Polonya Bilimler Akademisi Agrofizik Enstitüsü tarafından yayınlandı ve UCI veri seti deposundan indirilebilir (Dua, D. ve Graff, C.] (2019). [(2019).] UCI Machine Learning Repository http://archive.ics.uci.edu/ml. [UCI Makine Öğrenimi Deposu http://archive.ics.uci.edu/ml.] Irvine, CA: University of California, School of Information and Computer Science). [Irvine, CA: California Üniversitesi, Bilgi ve Bilgisayar Bilimleri Okulu).]"
   ]
  },
  {
   "cell_type": "code",
   "execution_count": 1,
   "id": "7fca36ac",
   "metadata": {},
   "outputs": [
    {
     "data": {
      "text/html": [
       "<div>\n",
       "<style scoped>\n",
       "    .dataframe tbody tr th:only-of-type {\n",
       "        vertical-align: middle;\n",
       "    }\n",
       "\n",
       "    .dataframe tbody tr th {\n",
       "        vertical-align: top;\n",
       "    }\n",
       "\n",
       "    .dataframe thead th {\n",
       "        text-align: right;\n",
       "    }\n",
       "</style>\n",
       "<table border=\"1\" class=\"dataframe\">\n",
       "  <thead>\n",
       "    <tr style=\"text-align: right;\">\n",
       "      <th></th>\n",
       "      <th>area</th>\n",
       "      <th>perimeter</th>\n",
       "      <th>compactness</th>\n",
       "      <th>kernel_length</th>\n",
       "      <th>kernel_width</th>\n",
       "      <th>asymmetry_coefficient</th>\n",
       "    </tr>\n",
       "  </thead>\n",
       "  <tbody>\n",
       "    <tr>\n",
       "      <th>149</th>\n",
       "      <td>10.79</td>\n",
       "      <td>12.93</td>\n",
       "      <td>0.8107</td>\n",
       "      <td>5.317</td>\n",
       "      <td>2.648</td>\n",
       "      <td>5.462</td>\n",
       "    </tr>\n",
       "    <tr>\n",
       "      <th>10</th>\n",
       "      <td>15.26</td>\n",
       "      <td>14.85</td>\n",
       "      <td>0.8696</td>\n",
       "      <td>5.714</td>\n",
       "      <td>3.242</td>\n",
       "      <td>4.543</td>\n",
       "    </tr>\n",
       "    <tr>\n",
       "      <th>138</th>\n",
       "      <td>15.60</td>\n",
       "      <td>15.11</td>\n",
       "      <td>0.8580</td>\n",
       "      <td>5.832</td>\n",
       "      <td>3.286</td>\n",
       "      <td>2.725</td>\n",
       "    </tr>\n",
       "    <tr>\n",
       "      <th>108</th>\n",
       "      <td>19.94</td>\n",
       "      <td>16.92</td>\n",
       "      <td>0.8752</td>\n",
       "      <td>6.675</td>\n",
       "      <td>3.763</td>\n",
       "      <td>3.252</td>\n",
       "    </tr>\n",
       "    <tr>\n",
       "      <th>152</th>\n",
       "      <td>12.26</td>\n",
       "      <td>13.60</td>\n",
       "      <td>0.8333</td>\n",
       "      <td>5.408</td>\n",
       "      <td>2.833</td>\n",
       "      <td>4.756</td>\n",
       "    </tr>\n",
       "    <tr>\n",
       "      <th>201</th>\n",
       "      <td>12.67</td>\n",
       "      <td>13.32</td>\n",
       "      <td>0.8977</td>\n",
       "      <td>4.984</td>\n",
       "      <td>3.135</td>\n",
       "      <td>2.300</td>\n",
       "    </tr>\n",
       "    <tr>\n",
       "      <th>77</th>\n",
       "      <td>20.71</td>\n",
       "      <td>17.23</td>\n",
       "      <td>0.8763</td>\n",
       "      <td>6.579</td>\n",
       "      <td>3.814</td>\n",
       "      <td>4.451</td>\n",
       "    </tr>\n",
       "    <tr>\n",
       "      <th>75</th>\n",
       "      <td>16.77</td>\n",
       "      <td>15.62</td>\n",
       "      <td>0.8638</td>\n",
       "      <td>5.927</td>\n",
       "      <td>3.438</td>\n",
       "      <td>4.920</td>\n",
       "    </tr>\n",
       "    <tr>\n",
       "      <th>71</th>\n",
       "      <td>16.84</td>\n",
       "      <td>15.67</td>\n",
       "      <td>0.8623</td>\n",
       "      <td>5.998</td>\n",
       "      <td>3.484</td>\n",
       "      <td>4.675</td>\n",
       "    </tr>\n",
       "    <tr>\n",
       "      <th>127</th>\n",
       "      <td>17.98</td>\n",
       "      <td>15.85</td>\n",
       "      <td>0.8993</td>\n",
       "      <td>5.979</td>\n",
       "      <td>3.687</td>\n",
       "      <td>2.257</td>\n",
       "    </tr>\n",
       "  </tbody>\n",
       "</table>\n",
       "</div>"
      ],
      "text/plain": [
       "      area  perimeter  compactness  kernel_length  kernel_width  \\\n",
       "149  10.79      12.93       0.8107          5.317         2.648   \n",
       "10   15.26      14.85       0.8696          5.714         3.242   \n",
       "138  15.60      15.11       0.8580          5.832         3.286   \n",
       "108  19.94      16.92       0.8752          6.675         3.763   \n",
       "152  12.26      13.60       0.8333          5.408         2.833   \n",
       "201  12.67      13.32       0.8977          4.984         3.135   \n",
       "77   20.71      17.23       0.8763          6.579         3.814   \n",
       "75   16.77      15.62       0.8638          5.927         3.438   \n",
       "71   16.84      15.67       0.8623          5.998         3.484   \n",
       "127  17.98      15.85       0.8993          5.979         3.687   \n",
       "\n",
       "     asymmetry_coefficient  \n",
       "149                  5.462  \n",
       "10                   4.543  \n",
       "138                  2.725  \n",
       "108                  3.252  \n",
       "152                  4.756  \n",
       "201                  2.300  \n",
       "77                   4.451  \n",
       "75                   4.920  \n",
       "71                   4.675  \n",
       "127                  2.257  "
      ]
     },
     "execution_count": 1,
     "metadata": {},
     "output_type": "execute_result"
    }
   ],
   "source": [
    "import pandas as pd\n",
    "\n",
    "# load the training dataset\n",
    "# !wget https://raw.githubusercontent.com/MicrosoftDocs/mslearn-introduction-to-machine-learning/main/Data/ml-basics/seeds.csv\n",
    "data = pd.read_csv('seeds.csv')\n",
    "\n",
    "# Display a random sample of 10 observations (just the features)\n",
    "features = data[data.columns[0:6]]\n",
    "features.sample(10)"
   ]
  },
  {
   "cell_type": "markdown",
   "id": "6e934ee1",
   "metadata": {},
   "source": [
    "As you can see, the dataset contains six data points (or features) for each instance (observation) of a seed. [Gördüğünüz gibi, veri kümesi bir tohumun her bir örneği (gözlem) için altı veri noktası (veya özellik) içerir.] So you could interpret these as coordinates that describe each instance's location in six-dimensional space. [Bunları, altı boyutlu uzayda her örneğin konumunu tanımlayan koordinatlar olarak yorumlayabilirsiniz.]\n",
    "\n",
    "Now, of course six-dimensional space is difficult to visualise in a three-dimensional world, or on a two-dimensional plot; so we'll take advantage of a mathematical technique called Principal Component Analysis (PCA) to analyze the relationships between the features and summarize each observation as coordinates for two principal components - in other words, we'll translate the six-dimensional feature values into two-dimensional coordinates. [Şimdi, elbette altı boyutlu uzayı üç boyutlu bir dünyada veya iki boyutlu bir plan üzerinde görselleştirmek zordur; bu nedenle, özellikler arasındaki ilişkileri analiz etmek ve her bir gözlemi iki temel bileşen için koordinatlar olarak özetlemek için Temel Bileşen Analizi (PCA) adlı matematiksel bir teknikten yararlanacağız - başka bir deyişle, altı boyutlu özellik değerlerini iki boyutlu koordinatlar.]"
   ]
  },
  {
   "cell_type": "code",
   "execution_count": 2,
   "id": "2ef57b7f",
   "metadata": {},
   "outputs": [
    {
     "data": {
      "text/plain": [
       "array([[ 0.11883593, -0.09382469],\n",
       "       [ 0.0696878 , -0.31077233],\n",
       "       [-0.03499184, -0.37044705],\n",
       "       [-0.06582089, -0.36365235],\n",
       "       [ 0.32594892, -0.37695797],\n",
       "       [-0.02455447, -0.31060184],\n",
       "       [-0.00769646, -0.07594931],\n",
       "       [-0.05646955, -0.26696284],\n",
       "       [ 0.38196305, -0.05149471],\n",
       "       [ 0.35701044, -0.17697998]])"
      ]
     },
     "execution_count": 2,
     "metadata": {},
     "output_type": "execute_result"
    }
   ],
   "source": [
    "from sklearn.preprocessing import MinMaxScaler\n",
    "from sklearn.decomposition import PCA\n",
    "\n",
    "# Normalize the numeric features so they're on the same scale\n",
    "scaled_features = MinMaxScaler().fit_transform(features[data.columns[0:6]])\n",
    "\n",
    "# Get two principal components\n",
    "pca = PCA(n_components=2).fit(scaled_features)\n",
    "features_2d = pca.transform(scaled_features)\n",
    "features_2d[0:10]"
   ]
  },
  {
   "cell_type": "markdown",
   "id": "d5433e7e",
   "metadata": {},
   "source": [
    "Now that we have the data points translated to two dimensions, we can visualize them in a plot:"
   ]
  },
  {
   "cell_type": "code",
   "execution_count": 3,
   "id": "2aa37ccd",
   "metadata": {},
   "outputs": [
    {
     "data": {
      "image/png": "[encoded data removed]",
      "text/plain": [
       "<Figure size 432x288 with 1 Axes>"
      ]
     },
     "metadata": {
      "needs_background": "light"
     },
     "output_type": "display_data"
    }
   ],
   "source": [
    "import matplotlib.pyplot as plt\n",
    "\n",
    "%matplotlib inline\n",
    "\n",
    "plt.scatter(features_2d[:,0],features_2d[:,1])\n",
    "plt.xlabel('Dimension 1')\n",
    "plt.ylabel('Dimension 2')\n",
    "plt.title('Data')\n",
    "plt.show()"
   ]
  },
  {
   "cell_type": "markdown",
   "id": "35695a37",
   "metadata": {},
   "source": [
    "Hopefully you can see at least two, arguably three, reasonably distinct groups of data points; but here lies one of the fundamental problems with clustering - without known class labels, how do you know how many clusters to separate your data into? [Umarız en az iki, muhtemelen üç, makul ölçüde farklı veri noktası grupları görebilirsiniz; ama burada kümelemeyle ilgili temel sorunlardan biri yatıyor - bilinen sınıf etiketleri olmadan, verilerinizi kaç kümeye ayıracağınızı nasıl bileceksiniz?]\n",
    "\n",
    "One way we can try to find out is to use a data sample to create a series of clustering models with an incrementing number of clusters, and measure how tightly the data points are grouped within each cluster. [Bulmaya çalışmamızın bir yolu, artan sayıda kümeye sahip bir dizi kümeleme modeli oluşturmak için bir veri örneği kullanmak ve veri noktalarının her küme içinde ne kadar sıkı gruplandığını ölçmektir.] A metric often used to measure this tightness is the within cluster sum of squares (WCSS), with lower values meaning that the data points are closer. [Bu sıkılığı ölçmek için sıklıkla kullanılan bir metrik, küme içi kareler toplamıdır (WCSS), daha düşük değerler veri noktalarının daha yakın olduğu anlamına gelir.] You can then plot the WCSS for each model. [Daha sonra her model için WCSS'yi çizebilirsiniz.]"
   ]
  },
  {
   "cell_type": "code",
   "execution_count": 4,
   "id": "a516af28",
   "metadata": {},
   "outputs": [
    {
     "data": {
      "image/png": "[encoded data removed]",
      "text/plain": [
       "<Figure size 432x288 with 1 Axes>"
      ]
     },
     "metadata": {
      "needs_background": "light"
     },
     "output_type": "display_data"
    }
   ],
   "source": [
    "#importing the libraries\n",
    "import numpy as np\n",
    "import matplotlib.pyplot as plt\n",
    "from sklearn.cluster import KMeans\n",
    "%matplotlib inline\n",
    "\n",
    "# Create 10 models with 1 to 10 clusters\n",
    "wcss = []\n",
    "for i in range(1, 11):\n",
    "    kmeans = KMeans(n_clusters = i)\n",
    "    # Fit the data points\n",
    "    kmeans.fit(features.values)\n",
    "    # Get the WCSS (inertia) value\n",
    "    wcss.append(kmeans.inertia_)\n",
    "    \n",
    "#Plot the WCSS values onto a line graph\n",
    "plt.plot(range(1, 11), wcss)\n",
    "plt.title('WCSS by Clusters')\n",
    "plt.xlabel('Number of clusters')\n",
    "plt.ylabel('WCSS')\n",
    "plt.show()"
   ]
  },
  {
   "cell_type": "markdown",
   "id": "91d14749",
   "metadata": {},
   "source": [
    "The plot shows a large reduction in WCSS (so greater tightness) as the number of clusters increases from one to two, and a further noticable reduction from two to three clusters. [Grafik, küme sayısı bir'den ikiye yükseldikçe WCSS'de büyük bir azalma (böylece daha fazla sıkılık) ve ikiden üç kümeye daha belirgin bir azalma gösterir.] After that, the reduction is less pronounced, resulting in an \"elbow\" in the chart at around three clusters. [Bundan sonra, azalma daha az belirgindir, bu da grafikte yaklaşık üç kümede bir 'dirsek' oluşmasına neden olur.] This is a good indication that there are two to three reasonably well separated clusters of data points. [Bu, oldukça iyi ayrılmış iki ila üç veri noktası kümesi olduğunun iyi bir göstergesidir.]\n",
    "\n",
    "### Summary\n",
    "\n",
    "Here we looked at what clustering means, and how to determine whether clustering might be appropriate for your data. [Burada kümelemenin ne anlama geldiğine ve kümelemenin verileriniz için uygun olup olmadığının nasıl belirleneceğine baktık.] In the next notebook, we will look at two ways of labelling the data automatically. [Bir sonraki not defterinde, verileri otomatik olarak etiketlemenin iki yolunu inceleyeceğiz.]\n"
   ]
  },
  {
   "cell_type": "code",
   "execution_count": null,
   "id": "70168250",
   "metadata": {},
   "outputs": [],
   "source": []
  }
 ],
 "metadata": {
  "kernelspec": {
   "display_name": "Python 3 (ipykernel)",
   "language": "python",
   "name": "python3"
  },
  "language_info": {
   "codemirror_mode": {
    "name": "ipython",
    "version": 3
   },
   "file_extension": ".py",
   "mimetype": "text/x-python",
   "name": "python",
   "nbconvert_exporter": "python",
   "pygments_lexer": "ipython3",
   "version": "3.9.13"
  }
 },
 "nbformat": 4,
 "nbformat_minor": 5
}
