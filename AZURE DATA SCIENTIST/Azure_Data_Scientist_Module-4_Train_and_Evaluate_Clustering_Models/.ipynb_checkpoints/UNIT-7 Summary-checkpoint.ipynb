{
 "cells": [
  {
   "cell_type": "markdown",
   "id": "2f306c0a",
   "metadata": {},
   "source": [
    "## Summary\n",
    "\n",
    "In this module, you learned how clustering can be used to create unsupervised machine learning models that group data observations into clusters. [Bu modülde, veri gözlemlerini kümeler halinde gruplayan denetimsiz makine öğrenimi modelleri oluşturmak için kümelemenin nasıl kullanılabileceğini öğrendiniz.] You then used the scikit-learn framework in Python to train a clustering model. [Daha sonra kümeleme modelini eğitmek için Python'da scikit-learn çerçevesini kullandınız.]\n",
    "\n",
    "While scikit-learn is a popular framework for writing code to train clustering models, you can also create machine learning solutions for clustering using the graphical tools in Microsoft Azure Machine Learning. [scikit-learn, kümeleme modellerini eğitmek için kod yazmaya yönelik popüler bir çerçeve olsa da, Microsoft Azure Machine Learning'deki grafik araçlarını kullanarak kümeleme için makine öğrenimi çözümleri de oluşturabilirsiniz.] You can learn more about no-code development of clustering models using Azure Machine Learning in the Create a clustering model with Azure Machine Learning designer module. (https://docs.microsoft.com/en-us/learn/modules/create-clustering-model-azure-machine-learning-designer/) [Azure Machine Learning ile kümeleme modeli oluşturma tasarımcı modülünde Azure Machine Learning kullanarak kümeleme modellerinin kodsuz geliştirme hakkında daha fazla bilgi edinebilirsiniz.]\n",
    "\n",
    "### Challenge: Cluster Unlabelled Data\n",
    "\n",
    "Now that you've seen how to create a clustering model, why not try for yourself? You'll find a clustering challenge in the 04 - Clustering Challenge.ipynb notebook! (https://github.com/MicrosoftDocs/ml-basics/blob/master/challenges/04%20-%20Clustering%20Challenge.ipynb)\n",
    "\n",
    "**Note**\n",
    "\n",
    "The time to complete this optional challenge is not included in the estimated time for this module - you can spend as little or as much time on it as you like!"
   ]
  },
  {
   "cell_type": "code",
   "execution_count": null,
   "id": "753b3166",
   "metadata": {},
   "outputs": [],
   "source": []
  }
 ],
 "metadata": {
  "kernelspec": {
   "display_name": "Python 3 (ipykernel)",
   "language": "python",
   "name": "python3"
  },
  "language_info": {
   "codemirror_mode": {
    "name": "ipython",
    "version": 3
   },
   "file_extension": ".py",
   "mimetype": "text/x-python",
   "name": "python",
   "nbconvert_exporter": "python",
   "pygments_lexer": "ipython3",
   "version": "3.8.12"
  }
 },
 "nbformat": 4,
 "nbformat_minor": 5
}
