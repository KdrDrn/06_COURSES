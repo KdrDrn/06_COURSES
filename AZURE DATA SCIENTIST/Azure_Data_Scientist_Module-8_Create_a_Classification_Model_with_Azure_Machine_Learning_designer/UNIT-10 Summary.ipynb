{
 "cells": [
  {
   "cell_type": "markdown",
   "id": "0c5274e4",
   "metadata": {},
   "source": [
    "## Summary\n",
    "\n",
    "In this module, you learned how to use Azure Machine Learning designer to train and publish a classification model.\n",
    "\n",
    "### Clean-up\n",
    "\n",
    "The web service you created is hosted in an *Azure Container Instance*. If you don't intend to experiment with it further, you should delete the endpoint to avoid accruing unnecessary Azure usage. You should also stop the compute instance until you need it again.\n",
    "\n",
    "1. In Azure Machine Learning studio, on the **Endpoints tab**, select the **predict-diabetes** endpoint. Then select **Delete (🗑)** and confirm that you want to delete the endpoint.\n",
    "\n",
    "2. On the **Compute** page, on the **Compute Instances** tab, select your compute instance and then select **Stop**.\n",
    " \n",
    "**Note**\n",
    "\n",
    "Stopping your compute ensures your subscription won't be charged for compute resources. You will however be charged a small amount for data storage as long as the Azure Machine Learning workspace exists in your subscription. If you have finished exploring Azure Machine Learning, you can delete the Azure Machine Learning workspace and associated resources. However, if you plan to complete any other labs in this series, you will need to recreate it.\n",
    "\n",
    "To delete your workspace:\n",
    "\n",
    "1. In the Azure portal, in the **Resource groups** page, open the resource group you specified when creating your Azure Machine Learning workspace.\n",
    "\n",
    "2. Click **Delete resource group**, type the resource group name to confirm you want to delete it, and select **Delete**."
   ]
  },
  {
   "cell_type": "code",
   "execution_count": null,
   "id": "26f4cf1a",
   "metadata": {},
   "outputs": [],
   "source": []
  }
 ],
 "metadata": {
  "kernelspec": {
   "display_name": "Python 3 (ipykernel)",
   "language": "python",
   "name": "python3"
  },
  "language_info": {
   "codemirror_mode": {
    "name": "ipython",
    "version": 3
   },
   "file_extension": ".py",
   "mimetype": "text/x-python",
   "name": "python",
   "nbconvert_exporter": "python",
   "pygments_lexer": "ipython3",
   "version": "3.8.12"
  }
 },
 "nbformat": 4,
 "nbformat_minor": 5
}
