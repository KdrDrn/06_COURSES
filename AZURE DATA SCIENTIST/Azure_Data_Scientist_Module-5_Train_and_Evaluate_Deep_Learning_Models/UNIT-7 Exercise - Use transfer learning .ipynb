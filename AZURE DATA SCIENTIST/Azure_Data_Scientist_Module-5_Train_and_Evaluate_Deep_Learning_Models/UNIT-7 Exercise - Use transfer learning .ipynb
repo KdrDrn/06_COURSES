{
 "cells": [
  {
   "cell_type": "markdown",
   "id": "aab3bd79",
   "metadata": {},
   "source": [
    "## Exercise - Use transfer learning \n",
    "\n",
    "PyTorch and TensorFlow both support a library of existing models that you can use as the basis for transfer learning. [PyTorch ve TensorFlow, aktarım öğrenimi için temel olarak kullanabileceğiniz mevcut modellerden oluşan bir kitaplığı destekler.]\n",
    "\n",
    "In this exercise, you'll use your preferred framework to train a convolutional neural network model by using transfer learning. [Bu alıştırmada, transfer öğrenimini kullanarak bir evrişimli sinir ağı modelini eğitmek için tercih ettiğiniz çerçeveyi kullanacaksınız.]\n",
    "\n",
    "To complete the exercise: [Egzersizi tamamlamak için:]\n",
    "\n",
    "1. In Jupyter, in the ml-basics folder, open either the Transfer Learning (PyTorch).ipynb or Transfer Learning (Tensorflow).ipynb notebook, depending on your framework preference, and follow the instructions it contains. [Jupyter'da, ml-basics klasöründe, çerçeve tercihinize bağlı olarak Transfer Learning (PyTorch).ipynb veya Transfer Learning (Tensorflow).ipynb not defterini açın ve içerdiği talimatları izleyin.]\n",
    "\n",
    "2. When you've finished, close and halt all notebooks. [Bitirdiğinizde, tüm not defterlerini kapatın ve durdurun.]\n",
    "\n",
    "Clean-up\n",
    "\n",
    "If you used a compute instance in an Azure Machine Learning workspace to complete the exercises, use these steps to clean up. [Alıştırmaları tamamlamak için bir Azure Machine Learning çalışma alanında bir işlem örneği kullandıysanız, temizlemek için bu adımları kullanın.]\n",
    "\n",
    "1. Close all Jupyter notebooks and the Jupyter home page. [Tüm Jupyter not defterlerini ve Jupyter ana sayfasını kapatın.]\n",
    "\n",
    "2. In Azure Machine Learning Studio, on the Compute page, select your compute instance, and in the top menu bar, select Stop. [Azure Machine Learning Studio'da, Hesaplama sayfasında işlem örneğinizi seçin ve üst menü çubuğunda Dur'u seçin.]\n",
    "\n",
    "If you don't intend to complete other modules that require the Azure Machine Learning workspace, you can delete the resource group you created for it from your Azure subscription. [Azure Machine Learning çalışma alanı gerektiren diğer modülleri tamamlamayı düşünmüyorsanız, bunun için oluşturduğunuz kaynak grubunu Azure aboneliğinizden silebilirsiniz.]"
   ]
  },
  {
   "cell_type": "code",
   "execution_count": null,
   "id": "5cb224a5",
   "metadata": {},
   "outputs": [],
   "source": []
  }
 ],
 "metadata": {
  "kernelspec": {
   "display_name": "Python 3 (ipykernel)",
   "language": "python",
   "name": "python3"
  },
  "language_info": {
   "codemirror_mode": {
    "name": "ipython",
    "version": 3
   },
   "file_extension": ".py",
   "mimetype": "text/x-python",
   "name": "python",
   "nbconvert_exporter": "python",
   "pygments_lexer": "ipython3",
   "version": "3.8.12"
  }
 },
 "nbformat": 4,
 "nbformat_minor": 5
}
