{
 "cells": [
  {
   "cell_type": "markdown",
   "id": "ab56b34b",
   "metadata": {},
   "source": [
    "### Summary\n",
    "\n",
    "In this module you learned about the fundamental principles of deep learning, and how to create deep neural network models using PyTorch or Tensorflow. [Bu modülde derin öğrenmenin temel ilkelerini ve PyTorch veya Tensorflow kullanarak derin sinir ağı modellerinin nasıl oluşturulacağını öğrendiniz.] You also explored the use of convolutional neural networks to create image classification models. [Görüntü sınıflandırma modelleri oluşturmak için evrişimli sinir ağlarının kullanımını da araştırdınız.]\n",
    "\n",
    "Deep learning techniques are at the cutting edge of machine learning and artificial intelligence, and are used to implement enterprise solutions. [Derin öğrenme teknikleri, makine öğrenimi ve yapay zekanın en ileri noktasındadır ve kurumsal çözümleri uygulamak için kullanılır.] If this module has inspired you to build machine learning solutions, you should consider learning how Azure Machine Learning can help you train, deploy, and manage models at scale. [Bu modül size makine öğrenimi çözümleri oluşturma konusunda ilham verdiyse Azure Machine Learning'in modelleri uygun ölçekte eğitmenize, dağıtmanıza ve yönetmenize nasıl yardımcı olabileceğini öğrenmeyi düşünmelisiniz.] You can learn how to use Azure Machine Learning to manage machine learning operations in the Build AI solutions with Azure Machine Learning service learning path. (https://docs.microsoft.com/en-us/learn/paths/build-ai-solutions-with-azure-ml-service/) [Azure Machine Learning hizmeti öğrenme yolu ile Build AI çözümlerinde makine öğrenimi işlemlerini yönetmek için Azure Machine Learning kullanmayı öğrenebilirsiniz.]"
   ]
  },
  {
   "cell_type": "code",
   "execution_count": null,
   "id": "93860131",
   "metadata": {},
   "outputs": [],
   "source": []
  }
 ],
 "metadata": {
  "kernelspec": {
   "display_name": "Python 3 (ipykernel)",
   "language": "python",
   "name": "python3"
  },
  "language_info": {
   "codemirror_mode": {
    "name": "ipython",
    "version": 3
   },
   "file_extension": ".py",
   "mimetype": "text/x-python",
   "name": "python",
   "nbconvert_exporter": "python",
   "pygments_lexer": "ipython3",
   "version": "3.8.12"
  }
 },
 "nbformat": 4,
 "nbformat_minor": 5
}
