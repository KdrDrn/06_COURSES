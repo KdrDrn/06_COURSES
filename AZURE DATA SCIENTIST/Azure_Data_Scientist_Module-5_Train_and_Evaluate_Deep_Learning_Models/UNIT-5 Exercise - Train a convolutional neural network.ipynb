{
 "cells": [
  {
   "cell_type": "markdown",
   "id": "7e22959c",
   "metadata": {},
   "source": [
    "## Exercise - Train a convolutional neural network\n",
    "\n",
    "PyTorch and TensorFlow both offer comprehensive support for building convolutional neural networks as classification models for images. [PyTorch ve TensorFlow, görüntüler için sınıflandırma modelleri olarak evrişimli sinir ağları oluşturmak için kapsamlı destek sunar.]\n",
    "\n",
    "In this exercise, you'll use your preferred framework to create a simple CNN-based image classifier for images of simple geometric shapes. [Bu alıştırmada, basit geometrik şekillerin görüntüleri için CNN tabanlı basit bir görüntü sınıflandırıcısı oluşturmak için tercih ettiğiniz çerçeveyi kullanacaksınız.] The same principles can be applied to images of any kind. [Aynı ilkeler her türden görüntüye uygulanabilir.]\n",
    "\n",
    "To complete the exercise: [Egzersizi tamamlamak için:]\n",
    "\n",
    "1. In Jupyter, in the ml-basics folder, open the Convolutional Neural Networks (PyTorch).ipynb or Convolutional Neural Networks (Tensorflow).ipynb notebook, depending on your framework preference, and follow the instructions it contains. [Jupyter'da, ml-basics klasöründe, çerçeve tercihinize bağlı olarak Convolutional Neural Networks (PyTorch).ipynb veya Convolutional Neural Networks (Tensorflow).ipynb not defterini açın ve içerdiği talimatları izleyin.]\n",
    "\n",
    "2. When you've finished, close and halt all notebooks. [Bitirdiğinizde, tüm not defterlerini kapatın ve durdurun.]\n",
    "\n",
    "When you've finished working through the notebook, return to this module and move on to the next unit to learn more. [Dizüstü bilgisayarla çalışmayı bitirdiğinizde, bu modüle dönün ve daha fazlasını öğrenmek için bir sonraki üniteye geçin.]"
   ]
  },
  {
   "cell_type": "code",
   "execution_count": null,
   "id": "95170d13",
   "metadata": {},
   "outputs": [],
   "source": []
  }
 ],
 "metadata": {
  "kernelspec": {
   "display_name": "Python 3 (ipykernel)",
   "language": "python",
   "name": "python3"
  },
  "language_info": {
   "codemirror_mode": {
    "name": "ipython",
    "version": 3
   },
   "file_extension": ".py",
   "mimetype": "text/x-python",
   "name": "python",
   "nbconvert_exporter": "python",
   "pygments_lexer": "ipython3",
   "version": "3.9.17"
  }
 },
 "nbformat": 4,
 "nbformat_minor": 5
}
