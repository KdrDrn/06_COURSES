{
 "cells": [
  {
   "cell_type": "markdown",
   "id": "2c739753",
   "metadata": {},
   "source": [
    "## Examine real world data\n",
    "\n",
    "Data presented in educational material is often remarkably perfect, designed to show students how to find clear relationships between variables. [Eğitim materyallerinde sunulan veriler, öğrencilere değişkenler arasındaki açık ilişkileri nasıl bulabileceklerini göstermek için tasarlanmış olup, genellikle dikkate değer ölçüde mükemmeldir.] ‘Real world’ data is a bit less simple. ['Gerçek dünya' verileri biraz daha az basittir.]\n",
    "\n",
    "Because of the complexity of ‘real world’ data, raw data has to be inspected for issues before being used. ['Gerçek dünya' verilerinin karmaşıklığı nedeniyle, ham veriler kullanılmadan önce sorunlar açısından incelenmelidir.]\n",
    "\n",
    "As such, best practice is to inspect the raw data and process it before use, which reduces errors or issues, typically by removing erroneous data points or modifying the data into a more useful form. [Bu nedenle, en iyi uygulama, ham verileri incelemek ve kullanımdan önce işlemektir; bu, tipik olarak hatalı veri noktalarını kaldırarak veya verileri daha kullanışlı bir forma dönüştürerek hataları veya sorunları azaltır.]\n",
    "\n",
    "### Real world data issues\n",
    "\n",
    "Real world data can contain many different issues that can affect the utility of the data, and our interpretation of the results. [Gerçek dünya verileri, verilerin faydasını ve sonuçları yorumlamamızı etkileyebilecek birçok farklı sorunu içerebilir.]\n",
    "\n",
    "It's important to realize that most real-world data are influenced by factors that weren't recorded at the time. [Gerçek dünyadaki verilerin çoğunun o sırada kaydedilmemiş faktörlerden etkilendiğini anlamak önemlidir.] For example, we might have a table of race-car track times alongside engine sizes, but various other factors that weren't written down—such as the weather—probably also played a role. [Örneğin, motor boyutlarının yanı sıra bir yarış arabası pist süreleri tablomuz olabilir, ancak yazılmayan çeşitli diğer faktörler (hava durumu gibi) muhtemelen bir rol oynamıştır.] If problematic, the influence of these factors can often be reduced by increasing the size of the dataset. [Sorunluysa, bu faktörlerin etkisi genellikle veri kümesinin boyutu artırılarak azaltılabilir.]\n",
    "\n",
    "In other situations data points that are clearly outside of what is expected—also known as ‘outliers’—can sometimes be safely removed from analyses, though care must be taken to not remove data points that provide real insights. [Diğer durumlarda, açıkça beklenenin dışında olan veri noktaları - 'aykırı değerler' olarak da bilinir - bazen analizlerden güvenle çıkarılabilir, ancak gerçek içgörüler sağlayan veri noktalarının kaldırılmamasına özen gösterilmelidir.]\n",
    "\n",
    "Another common issue in real-world data is bias. [Gerçek dünya verilerindeki bir diğer yaygın sorun da önyargıdır.] Bias refers to a tendency to select certain types of values more frequently than others, in a way that misrepresents the underlying population, or ‘real world’. [Önyargı, altta yatan popülasyonu veya 'gerçek dünyayı' yanlış temsil edecek şekilde belirli değer türlerini diğerlerinden daha sık seçme eğilimini ifade eder.] Bias can sometimes be identified by exploring data while keeping in mind basic knowledge about where the data came from. [Önyargı bazen verilerin nereden geldiğine ilişkin temel bilgileri akılda tutarken verileri keşfederek tanımlanabilir.]\n",
    "\n",
    "Remember, real-world data will always have issues, but this is often a surmountable problem. [Unutmayın, gerçek dünya verilerinin her zaman sorunları olacaktır, ancak bu genellikle üstesinden gelinebilecek bir sorundur.] \n",
    "\n",
    "Remember to: [Hatırla:]\n",
    "\n",
    "- Check for missing values and badly recorded data [Eksik değerleri ve kötü kaydedilmiş verileri kontrol edin]\n",
    "\n",
    "- Consider removal of obvious outliers [Bariz aykırı değerlerin kaldırılmasını düşünün]\n",
    "\n",
    "- Consider what real-world factors might affect your analysis and consider if your dataset size is large enough to handle this [Gerçek dünyadaki hangi faktörlerin analizinizi etkileyebileceğini düşünün ve veri kümenizin boyutunun bunu kaldırabilecek kadar büyük olup olmadığını düşünün.]\n",
    "\n",
    "- Check for biased raw data and consider your options to fix this, if found [Önyargılı ham verileri kontrol edin ve bulunursa bunu düzeltmek için seçeneklerinizi değerlendirin]"
   ]
  },
  {
   "cell_type": "code",
   "execution_count": null,
   "id": "255db26a",
   "metadata": {},
   "outputs": [],
   "source": []
  }
 ],
 "metadata": {
  "kernelspec": {
   "display_name": "Python 3 (ipykernel)",
   "language": "python",
   "name": "python3"
  },
  "language_info": {
   "codemirror_mode": {
    "name": "ipython",
    "version": 3
   },
   "file_extension": ".py",
   "mimetype": "text/x-python",
   "name": "python",
   "nbconvert_exporter": "python",
   "pygments_lexer": "ipython3",
   "version": "3.8.12"
  }
 },
 "nbformat": 4,
 "nbformat_minor": 5
}
