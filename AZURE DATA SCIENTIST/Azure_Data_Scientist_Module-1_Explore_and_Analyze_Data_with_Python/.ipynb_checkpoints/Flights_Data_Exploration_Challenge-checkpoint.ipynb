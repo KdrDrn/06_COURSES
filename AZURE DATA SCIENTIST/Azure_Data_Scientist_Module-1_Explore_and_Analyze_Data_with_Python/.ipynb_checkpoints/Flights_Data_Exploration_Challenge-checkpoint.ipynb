{
 "cells": [
  {
   "cell_type": "markdown",
   "id": "e301443f",
   "metadata": {},
   "source": [
    "# Flights Data Exploration Challenge\n",
    "\n",
    "In this challenge, you'll explore a real-world dataset containing flights data from the US Department of Transportation."
   ]
  },
  {
   "cell_type": "markdown",
   "id": "e1694879",
   "metadata": {},
   "source": [
    "The dataset contains observations of US domestic flights in 2013, and consists of the following fields:\n",
    "\n",
    "**Year**: The year of the flight (all records are from 2013)\n",
    "\n",
    "**Month**: The month of the flight\n",
    "    \n",
    "**DayofMonth**: The day of the month on which the flight departed\n",
    "    \n",
    "**DayOfWeek**: The day of the week on which the flight departed - from 1 (Monday) to 7 (Sunday)\n",
    "    \n",
    "**Carrier**: The two-letter abbreviation for the airline.\n",
    "    \n",
    "**OriginAirportID**: A unique numeric identifier for the departure aiport\n",
    "    \n",
    "**OriginAirportName**: The full name of the departure airport\n",
    "    \n",
    "**OriginCity**: The departure airport city\n",
    "    \n",
    "**OriginState**: The departure airport state\n",
    "    \n",
    "**DestAirportID**: A unique numeric identifier for the destination aiport\n",
    "    \n",
    "**DestAirportName**: The full name of the destination airport\n",
    "    \n",
    "**DestCity**: The destination airport city\n",
    "    \n",
    "**DestState**: The destination airport state\n",
    "    \n",
    "**CRSDepTime**: The scheduled departure time\n",
    "    \n",
    "**DepDelay**: The number of minutes departure was delayed (flight that left ahead of schedule have a negative value)\n",
    "    \n",
    "**DelDelay15**: A binary indicator that departure was delayed by more than 15 minutes (and therefore considered \"late\")\n",
    "    \n",
    "**CRSArrTime**: The scheduled arrival time\n",
    "    \n",
    "**ArrDelay**: The number of minutes arrival was delayed (flight that arrived ahead of schedule have a negative value)\n",
    "    \n",
    "**ArrDelay15**: A binary indicator that arrival was delayed by more than 15 minutes (and therefore considered \"late\")\n",
    "    \n",
    "**Cancelled**: A binary indicator that the flight was cancelled"
   ]
  },
  {
   "cell_type": "markdown",
   "id": "9d86fcd3",
   "metadata": {},
   "source": [
    "Your challenge is to explore the flight data to analyze possible factors that affect delays in departure or arrival of a flight.\n",
    "\n",
    "1. Start by cleaning the data.\n",
    "\n",
    "- Identify any null or missing data, and impute appropriate replacement values.\n",
    "\n",
    "- Identify and eliminate any outliers in the DepDelay and ArrDelay columns.\n",
    "\n",
    "2. Explore the cleaned data.\n",
    "\n",
    "- View summary statistics for the numeric fields in the dataset.\n",
    "\n",
    "- Determine the distribution of the DepDelay and ArrDelay columns.\n",
    "\n",
    "- Use statistics, aggregate functions, and visualizations to answer the following questions:\n",
    "\n",
    "    - What are the average (mean) departure and arrival delays?\n",
    "\n",
    "    - How do the carriers compare in terms of arrival delay performance?\n",
    "\n",
    "    - Is there a noticable difference in arrival delays for different days of the week?\n",
    "\n",
    "    - Which departure airport has the highest average departure delay?\n",
    "\n",
    "    - Do late departures tend to result in longer arrival delays than on-time departures?\n",
    "\n",
    "    - Which route (from origin airport to destination airport) has the most late arrivals?\n",
    "\n",
    "    - Which route has the highest average arrival delay?\n",
    "    \n",
    "Add markdown and code cells as required to create your solution."
   ]
  },
  {
   "cell_type": "markdown",
   "id": "f9536457",
   "metadata": {},
   "source": [
    "Let's start by loading and viewing the data."
   ]
  },
  {
   "cell_type": "code",
   "execution_count": 6,
   "id": "74e55aaa",
   "metadata": {},
   "outputs": [
    {
     "data": {
      "text/html": [
       "<div>\n",
       "<style scoped>\n",
       "    .dataframe tbody tr th:only-of-type {\n",
       "        vertical-align: middle;\n",
       "    }\n",
       "\n",
       "    .dataframe tbody tr th {\n",
       "        vertical-align: top;\n",
       "    }\n",
       "\n",
       "    .dataframe thead th {\n",
       "        text-align: right;\n",
       "    }\n",
       "</style>\n",
       "<table border=\"1\" class=\"dataframe\">\n",
       "  <thead>\n",
       "    <tr style=\"text-align: right;\">\n",
       "      <th></th>\n",
       "      <th>Year</th>\n",
       "      <th>Month</th>\n",
       "      <th>DayofMonth</th>\n",
       "      <th>DayOfWeek</th>\n",
       "      <th>Carrier</th>\n",
       "      <th>OriginAirportID</th>\n",
       "      <th>OriginAirportName</th>\n",
       "      <th>OriginCity</th>\n",
       "      <th>OriginState</th>\n",
       "      <th>DestAirportID</th>\n",
       "      <th>DestAirportName</th>\n",
       "      <th>DestCity</th>\n",
       "      <th>DestState</th>\n",
       "      <th>CRSDepTime</th>\n",
       "      <th>DepDelay</th>\n",
       "      <th>DepDel15</th>\n",
       "      <th>CRSArrTime</th>\n",
       "      <th>ArrDelay</th>\n",
       "      <th>ArrDel15</th>\n",
       "      <th>Cancelled</th>\n",
       "    </tr>\n",
       "  </thead>\n",
       "  <tbody>\n",
       "    <tr>\n",
       "      <th>0</th>\n",
       "      <td>2013</td>\n",
       "      <td>9</td>\n",
       "      <td>16</td>\n",
       "      <td>1</td>\n",
       "      <td>DL</td>\n",
       "      <td>15304</td>\n",
       "      <td>Tampa International</td>\n",
       "      <td>Tampa</td>\n",
       "      <td>FL</td>\n",
       "      <td>12478</td>\n",
       "      <td>John F. Kennedy International</td>\n",
       "      <td>New York</td>\n",
       "      <td>NY</td>\n",
       "      <td>1539.0</td>\n",
       "      <td>4.0</td>\n",
       "      <td>0.0</td>\n",
       "      <td>1824.0</td>\n",
       "      <td>13.0</td>\n",
       "      <td>0.0</td>\n",
       "      <td>0.0</td>\n",
       "    </tr>\n",
       "    <tr>\n",
       "      <th>1</th>\n",
       "      <td>2013</td>\n",
       "      <td>9</td>\n",
       "      <td>23</td>\n",
       "      <td>1</td>\n",
       "      <td>WN</td>\n",
       "      <td>14122</td>\n",
       "      <td>Pittsburgh International</td>\n",
       "      <td>Pittsburgh</td>\n",
       "      <td>PA</td>\n",
       "      <td>13232</td>\n",
       "      <td>Chicago Midway International</td>\n",
       "      <td>Chicago</td>\n",
       "      <td>IL</td>\n",
       "      <td>710.0</td>\n",
       "      <td>3.0</td>\n",
       "      <td>0.0</td>\n",
       "      <td>740.0</td>\n",
       "      <td>22.0</td>\n",
       "      <td>1.0</td>\n",
       "      <td>0.0</td>\n",
       "    </tr>\n",
       "    <tr>\n",
       "      <th>2</th>\n",
       "      <td>2013</td>\n",
       "      <td>9</td>\n",
       "      <td>7</td>\n",
       "      <td>6</td>\n",
       "      <td>AS</td>\n",
       "      <td>14747</td>\n",
       "      <td>Seattle/Tacoma International</td>\n",
       "      <td>Seattle</td>\n",
       "      <td>WA</td>\n",
       "      <td>11278</td>\n",
       "      <td>Ronald Reagan Washington National</td>\n",
       "      <td>Washington</td>\n",
       "      <td>DC</td>\n",
       "      <td>810.0</td>\n",
       "      <td>-3.0</td>\n",
       "      <td>0.0</td>\n",
       "      <td>1614.0</td>\n",
       "      <td>-7.0</td>\n",
       "      <td>0.0</td>\n",
       "      <td>0.0</td>\n",
       "    </tr>\n",
       "    <tr>\n",
       "      <th>3</th>\n",
       "      <td>2013</td>\n",
       "      <td>7</td>\n",
       "      <td>22</td>\n",
       "      <td>1</td>\n",
       "      <td>OO</td>\n",
       "      <td>13930</td>\n",
       "      <td>Chicago O'Hare International</td>\n",
       "      <td>Chicago</td>\n",
       "      <td>IL</td>\n",
       "      <td>11042</td>\n",
       "      <td>Cleveland-Hopkins International</td>\n",
       "      <td>Cleveland</td>\n",
       "      <td>OH</td>\n",
       "      <td>804.0</td>\n",
       "      <td>35.0</td>\n",
       "      <td>1.0</td>\n",
       "      <td>1027.0</td>\n",
       "      <td>33.0</td>\n",
       "      <td>1.0</td>\n",
       "      <td>0.0</td>\n",
       "    </tr>\n",
       "    <tr>\n",
       "      <th>4</th>\n",
       "      <td>2013</td>\n",
       "      <td>5</td>\n",
       "      <td>16</td>\n",
       "      <td>4</td>\n",
       "      <td>DL</td>\n",
       "      <td>13931</td>\n",
       "      <td>Norfolk International</td>\n",
       "      <td>Norfolk</td>\n",
       "      <td>VA</td>\n",
       "      <td>10397</td>\n",
       "      <td>Hartsfield-Jackson Atlanta International</td>\n",
       "      <td>Atlanta</td>\n",
       "      <td>GA</td>\n",
       "      <td>545.0</td>\n",
       "      <td>-1.0</td>\n",
       "      <td>0.0</td>\n",
       "      <td>728.0</td>\n",
       "      <td>-9.0</td>\n",
       "      <td>0.0</td>\n",
       "      <td>0.0</td>\n",
       "    </tr>\n",
       "  </tbody>\n",
       "</table>\n",
       "</div>"
      ],
      "text/plain": [
       "   Year  Month  DayofMonth  DayOfWeek Carrier  OriginAirportID  \\\n",
       "0  2013      9          16          1      DL            15304   \n",
       "1  2013      9          23          1      WN            14122   \n",
       "2  2013      9           7          6      AS            14747   \n",
       "3  2013      7          22          1      OO            13930   \n",
       "4  2013      5          16          4      DL            13931   \n",
       "\n",
       "              OriginAirportName  OriginCity OriginState  DestAirportID  \\\n",
       "0           Tampa International       Tampa          FL          12478   \n",
       "1      Pittsburgh International  Pittsburgh          PA          13232   \n",
       "2  Seattle/Tacoma International     Seattle          WA          11278   \n",
       "3  Chicago O'Hare International     Chicago          IL          11042   \n",
       "4         Norfolk International     Norfolk          VA          10397   \n",
       "\n",
       "                            DestAirportName    DestCity DestState  CRSDepTime  \\\n",
       "0             John F. Kennedy International    New York        NY      1539.0   \n",
       "1              Chicago Midway International     Chicago        IL       710.0   \n",
       "2         Ronald Reagan Washington National  Washington        DC       810.0   \n",
       "3           Cleveland-Hopkins International   Cleveland        OH       804.0   \n",
       "4  Hartsfield-Jackson Atlanta International     Atlanta        GA       545.0   \n",
       "\n",
       "   DepDelay  DepDel15  CRSArrTime  ArrDelay  ArrDel15  Cancelled  \n",
       "0       4.0       0.0      1824.0      13.0       0.0        0.0  \n",
       "1       3.0       0.0       740.0      22.0       1.0        0.0  \n",
       "2      -3.0       0.0      1614.0      -7.0       0.0        0.0  \n",
       "3      35.0       1.0      1027.0      33.0       1.0        0.0  \n",
       "4      -1.0       0.0       728.0      -9.0       0.0        0.0  "
      ]
     },
     "execution_count": 6,
     "metadata": {},
     "output_type": "execute_result"
    }
   ],
   "source": [
    "import pandas as pd\n",
    "\n",
    "df_flights = pd.read_csv('dataflights.csv')\n",
    "df_flights.head()"
   ]
  },
  {
   "cell_type": "code",
   "execution_count": 7,
   "id": "65aa6ed7",
   "metadata": {},
   "outputs": [
    {
     "data": {
      "text/plain": [
       "(169446, 20)"
      ]
     },
     "execution_count": 7,
     "metadata": {},
     "output_type": "execute_result"
    }
   ],
   "source": [
    "df_flights.shape"
   ]
  },
  {
   "cell_type": "markdown",
   "id": "0ae2265f",
   "metadata": {},
   "source": [
    "**Clean missing values**\n",
    "\n",
    "Find how many null values there are for each column."
   ]
  },
  {
   "cell_type": "code",
   "execution_count": 8,
   "id": "9cbc2155",
   "metadata": {},
   "outputs": [
    {
     "data": {
      "text/plain": [
       "Year                    0\n",
       "Month                   0\n",
       "DayofMonth              0\n",
       "DayOfWeek               0\n",
       "Carrier                 0\n",
       "OriginAirportID         0\n",
       "OriginAirportName       0\n",
       "OriginCity              0\n",
       "OriginState             0\n",
       "DestAirportID           0\n",
       "DestAirportName         0\n",
       "DestCity                1\n",
       "DestState               1\n",
       "CRSDepTime              1\n",
       "DepDelay                1\n",
       "DepDel15             1704\n",
       "CRSArrTime              1\n",
       "ArrDelay                1\n",
       "ArrDel15                1\n",
       "Cancelled               1\n",
       "dtype: int64"
      ]
     },
     "execution_count": 8,
     "metadata": {},
     "output_type": "execute_result"
    }
   ],
   "source": [
    "df_flights.isnull().sum()"
   ]
  },
  {
   "cell_type": "markdown",
   "id": "7ff47894",
   "metadata": {},
   "source": [
    "Hmm, looks like there are some null \"late departure\" indicators. Departures are considered late if the delay is 15 minutes or more, so let's see the delays for the ones with a null late indicator:"
   ]
  },
  {
   "cell_type": "code",
   "execution_count": 9,
   "id": "e6fcbade",
   "metadata": {},
   "outputs": [
    {
     "data": {
      "text/html": [
       "<div>\n",
       "<style scoped>\n",
       "    .dataframe tbody tr th:only-of-type {\n",
       "        vertical-align: middle;\n",
       "    }\n",
       "\n",
       "    .dataframe tbody tr th {\n",
       "        vertical-align: top;\n",
       "    }\n",
       "\n",
       "    .dataframe thead th {\n",
       "        text-align: right;\n",
       "    }\n",
       "</style>\n",
       "<table border=\"1\" class=\"dataframe\">\n",
       "  <thead>\n",
       "    <tr style=\"text-align: right;\">\n",
       "      <th></th>\n",
       "      <th>DepDelay</th>\n",
       "      <th>DepDel15</th>\n",
       "    </tr>\n",
       "  </thead>\n",
       "  <tbody>\n",
       "    <tr>\n",
       "      <th>171</th>\n",
       "      <td>0.0</td>\n",
       "      <td>NaN</td>\n",
       "    </tr>\n",
       "    <tr>\n",
       "      <th>359</th>\n",
       "      <td>0.0</td>\n",
       "      <td>NaN</td>\n",
       "    </tr>\n",
       "    <tr>\n",
       "      <th>429</th>\n",
       "      <td>0.0</td>\n",
       "      <td>NaN</td>\n",
       "    </tr>\n",
       "    <tr>\n",
       "      <th>545</th>\n",
       "      <td>0.0</td>\n",
       "      <td>NaN</td>\n",
       "    </tr>\n",
       "    <tr>\n",
       "      <th>554</th>\n",
       "      <td>0.0</td>\n",
       "      <td>NaN</td>\n",
       "    </tr>\n",
       "    <tr>\n",
       "      <th>...</th>\n",
       "      <td>...</td>\n",
       "      <td>...</td>\n",
       "    </tr>\n",
       "    <tr>\n",
       "      <th>169187</th>\n",
       "      <td>0.0</td>\n",
       "      <td>NaN</td>\n",
       "    </tr>\n",
       "    <tr>\n",
       "      <th>169295</th>\n",
       "      <td>0.0</td>\n",
       "      <td>NaN</td>\n",
       "    </tr>\n",
       "    <tr>\n",
       "      <th>169375</th>\n",
       "      <td>0.0</td>\n",
       "      <td>NaN</td>\n",
       "    </tr>\n",
       "    <tr>\n",
       "      <th>169429</th>\n",
       "      <td>0.0</td>\n",
       "      <td>NaN</td>\n",
       "    </tr>\n",
       "    <tr>\n",
       "      <th>169445</th>\n",
       "      <td>NaN</td>\n",
       "      <td>NaN</td>\n",
       "    </tr>\n",
       "  </tbody>\n",
       "</table>\n",
       "<p>1704 rows × 2 columns</p>\n",
       "</div>"
      ],
      "text/plain": [
       "        DepDelay  DepDel15\n",
       "171          0.0       NaN\n",
       "359          0.0       NaN\n",
       "429          0.0       NaN\n",
       "545          0.0       NaN\n",
       "554          0.0       NaN\n",
       "...          ...       ...\n",
       "169187       0.0       NaN\n",
       "169295       0.0       NaN\n",
       "169375       0.0       NaN\n",
       "169429       0.0       NaN\n",
       "169445       NaN       NaN\n",
       "\n",
       "[1704 rows x 2 columns]"
      ]
     },
     "execution_count": 9,
     "metadata": {},
     "output_type": "execute_result"
    }
   ],
   "source": [
    "df_flights[df_flights.isnull().any(axis=1)][['DepDelay','DepDel15']]"
   ]
  },
  {
   "cell_type": "markdown",
   "id": "34d9c163",
   "metadata": {},
   "source": [
    "We can't see them all in this display, but it looks like they may all have delay of 0. Let's check by looking at the summary statistics for these records:"
   ]
  },
  {
   "cell_type": "code",
   "execution_count": 10,
   "id": "131626ab",
   "metadata": {},
   "outputs": [
    {
     "data": {
      "text/plain": [
       "count    1703.0\n",
       "mean        0.0\n",
       "std         0.0\n",
       "min         0.0\n",
       "25%         0.0\n",
       "50%         0.0\n",
       "75%         0.0\n",
       "max         0.0\n",
       "Name: DepDelay, dtype: float64"
      ]
     },
     "execution_count": 10,
     "metadata": {},
     "output_type": "execute_result"
    }
   ],
   "source": [
    "df_flights[df_flights.isnull().any(axis=1)].DepDelay.describe()"
   ]
  },
  {
   "cell_type": "markdown",
   "id": "2fa3e218",
   "metadata": {},
   "source": [
    "The min, max, and mean are all 0; so it seems that none of these were actually late departures. Let's replace the missing DepDel15 indicator with a 0 and confirm there are no more missing values."
   ]
  },
  {
   "cell_type": "code",
   "execution_count": 11,
   "id": "e2d1360f",
   "metadata": {},
   "outputs": [
    {
     "data": {
      "text/plain": [
       "Year                 0\n",
       "Month                0\n",
       "DayofMonth           0\n",
       "DayOfWeek            0\n",
       "Carrier              0\n",
       "OriginAirportID      0\n",
       "OriginAirportName    0\n",
       "OriginCity           0\n",
       "OriginState          0\n",
       "DestAirportID        0\n",
       "DestAirportName      0\n",
       "DestCity             1\n",
       "DestState            1\n",
       "CRSDepTime           1\n",
       "DepDelay             1\n",
       "DepDel15             0\n",
       "CRSArrTime           1\n",
       "ArrDelay             1\n",
       "ArrDel15             1\n",
       "Cancelled            1\n",
       "dtype: int64"
      ]
     },
     "execution_count": 11,
     "metadata": {},
     "output_type": "execute_result"
    }
   ],
   "source": [
    "df_flights.DepDel15 = df_flights.DepDel15.fillna(0)\n",
    "df_flights.isnull().sum()"
   ]
  },
  {
   "cell_type": "code",
   "execution_count": 15,
   "id": "0826306f",
   "metadata": {},
   "outputs": [
    {
     "data": {
      "text/plain": [
       "Year                 0\n",
       "Month                0\n",
       "DayofMonth           0\n",
       "DayOfWeek            0\n",
       "Carrier              0\n",
       "OriginAirportID      0\n",
       "OriginAirportName    0\n",
       "OriginCity           0\n",
       "OriginState          0\n",
       "DestAirportID        0\n",
       "DestAirportName      0\n",
       "DestCity             0\n",
       "DestState            0\n",
       "CRSDepTime           0\n",
       "DepDelay             0\n",
       "DepDel15             0\n",
       "CRSArrTime           0\n",
       "ArrDelay             0\n",
       "ArrDel15             0\n",
       "Cancelled            0\n",
       "dtype: int64"
      ]
     },
     "execution_count": 15,
     "metadata": {},
     "output_type": "execute_result"
    }
   ],
   "source": [
    "df_flights.dropna(axis=0, subset=[\"DestCity\", \"DestState\", \"CRSDepTime\", \"DepDelay\",\\\n",
    "                                 \"CRSArrTime\", \"ArrDelay\", \"ArrDel15\", \"Cancelled\"], inplace=True)\n",
    "df_flights.isnull().sum()"
   ]
  },
  {
   "cell_type": "code",
   "execution_count": 16,
   "id": "469a77a3",
   "metadata": {},
   "outputs": [
    {
     "data": {
      "text/plain": [
       "(169445, 20)"
      ]
     },
     "execution_count": 16,
     "metadata": {},
     "output_type": "execute_result"
    }
   ],
   "source": [
    "df_flights.shape"
   ]
  },
  {
   "cell_type": "markdown",
   "id": "15ee13fd",
   "metadata": {},
   "source": [
    "**Clean outliers**\n",
    "\n",
    "View the distribution and summary statistics for the DepDelay and ArrDelay columns."
   ]
  },
  {
   "cell_type": "code",
   "execution_count": 20,
   "id": "047d3f07",
   "metadata": {},
   "outputs": [
    {
     "name": "stdout",
     "output_type": "stream",
     "text": [
      "DepDelay \n",
      "Minimum:-63.00\n",
      "Mean:10.31\n",
      "Median:-1.00\n",
      "Mode:-3.00\n",
      "Maximum:1320.00\n",
      "\n",
      "ArrDelay \n",
      "Minimum:-75.00\n",
      "Mean:6.48\n",
      "Median:-3.00\n",
      "Mode:0.00\n",
      "Maximum:1440.00\n",
      "\n"
     ]
    },
    {
     "data": {
      "image/png": "[encoded data removed]",
      "text/plain": [
       "<Figure size 720x288 with 2 Axes>"
      ]
     },
     "metadata": {
      "needs_background": "light"
     },
     "output_type": "display_data"
    },
    {
     "data": {
      "image/png": "[encoded data removed]",
      "text/plain": [
       "<Figure size 720x288 with 2 Axes>"
      ]
     },
     "metadata": {
      "needs_background": "light"
     },
     "output_type": "display_data"
    }
   ],
   "source": [
    "# Function to show summary stats and distribution for a column\n",
    "def show_distribution(var_data):\n",
    "    from matplotlib import pyplot as plt\n",
    "\n",
    "    # Get statistics\n",
    "    min_val = var_data.min()\n",
    "    max_val = var_data.max()\n",
    "    mean_val = var_data.mean()\n",
    "    med_val = var_data.median()\n",
    "    mod_val = var_data.mode()[0]\n",
    "\n",
    "    print(var_data.name,'\\nMinimum:{:.2f}\\nMean:{:.2f}\\nMedian:{:.2f}\\nMode:{:.2f}\\nMaximum:{:.2f}\\n'.format(min_val,\n",
    "                                                                                            mean_val,\n",
    "                                                                                            med_val,\n",
    "                                                                                            mod_val,\n",
    "                                                                                            max_val))\n",
    "\n",
    "    # Create a figure for 2 subplots (2 rows, 1 column)\n",
    "    fig, ax = plt.subplots(2, 1, figsize = (10,4))\n",
    "\n",
    "    # Plot the histogram   \n",
    "    ax[0].hist(var_data)\n",
    "    ax[0].set_ylabel('Frequency')\n",
    "\n",
    "    # Add lines for the mean, median, and mode\n",
    "    ax[0].axvline(x=min_val, color = 'gray', linestyle='dashed', linewidth = 2)\n",
    "    ax[0].axvline(x=mean_val, color = 'cyan', linestyle='dashed', linewidth = 2)\n",
    "    ax[0].axvline(x=med_val, color = 'red', linestyle='dashed', linewidth = 2)\n",
    "    ax[0].axvline(x=mod_val, color = 'yellow', linestyle='dashed', linewidth = 2)\n",
    "    ax[0].axvline(x=max_val, color = 'gray', linestyle='dashed', linewidth = 2)\n",
    "\n",
    "    # Plot the boxplot   \n",
    "    ax[1].boxplot(var_data, vert=False)\n",
    "    ax[1].set_xlabel('Value')\n",
    "\n",
    "    # Add a title to the Figure\n",
    "    fig.suptitle(var_data.name)\n",
    "\n",
    "    # Show the figure\n",
    "#     fig.show()\n",
    "\n",
    "# Call the function for each delay field\n",
    "delayFields = ['DepDelay','ArrDelay']\n",
    "for col in delayFields:\n",
    "    show_distribution(df_flights[col])"
   ]
  },
  {
   "cell_type": "markdown",
   "id": "8ad38aeb",
   "metadata": {},
   "source": [
    "There are a outliers at the lower and upper ends of both variables - particularly at the upper end.\n",
    "\n",
    "Let's trim the data so that we include only rows where the values for these fields are within the 1st and 90th percentile."
   ]
  },
  {
   "cell_type": "code",
   "execution_count": 21,
   "id": "42d9fdcd",
   "metadata": {},
   "outputs": [
    {
     "name": "stdout",
     "output_type": "stream",
     "text": [
      "DepDelay \n",
      "Minimum:-11.00\n",
      "Mean:-0.93\n",
      "Median:-2.00\n",
      "Mode:-3.00\n",
      "Maximum:16.00\n",
      "\n",
      "ArrDelay \n",
      "Minimum:-32.00\n",
      "Mean:-5.01\n",
      "Median:-6.00\n",
      "Mode:0.00\n",
      "Maximum:37.00\n",
      "\n"
     ]
    },
    {
     "data": {
      "image/png": "[encoded data removed]",
      "text/plain": [
       "<Figure size 720x288 with 2 Axes>"
      ]
     },
     "metadata": {
      "needs_background": "light"
     },
     "output_type": "display_data"
    },
    {
     "data": {
      "image/png": "[encoded data removed]",
      "text/plain": [
       "<Figure size 720x288 with 2 Axes>"
      ]
     },
     "metadata": {
      "needs_background": "light"
     },
     "output_type": "display_data"
    }
   ],
   "source": [
    "# Trim outliers for ArrDelay based on 1% and 90% percentiles\n",
    "ArrDelay_01pcntile = df_flights.ArrDelay.quantile(0.01)\n",
    "ArrDelay_90pcntile = df_flights.ArrDelay.quantile(0.90)\n",
    "df_flights = df_flights[df_flights.ArrDelay < ArrDelay_90pcntile]\n",
    "df_flights = df_flights[df_flights.ArrDelay > ArrDelay_01pcntile]\n",
    "\n",
    "# Trim outliers for DepDelay based on 1% and 90% percentiles\n",
    "DepDelay_01pcntile = df_flights.DepDelay.quantile(0.01)\n",
    "DepDelay_90pcntile = df_flights.DepDelay.quantile(0.90)\n",
    "df_flights = df_flights[df_flights.DepDelay < DepDelay_90pcntile]\n",
    "df_flights = df_flights[df_flights.DepDelay > DepDelay_01pcntile]\n",
    "\n",
    "# View the revised distributions\n",
    "for col in delayFields:\n",
    "    show_distribution(df_flights[col])"
   ]
  },
  {
   "cell_type": "markdown",
   "id": "47068ea0",
   "metadata": {},
   "source": [
    "That looks a bit better.\n",
    "\n",
    "**Explore the data**\n",
    "\n",
    "Let's start with an overall view of the summary statistics for the numeric columns."
   ]
  },
  {
   "cell_type": "code",
   "execution_count": 22,
   "id": "8ebcaa9a",
   "metadata": {},
   "outputs": [
    {
     "data": {
      "text/html": [
       "<div>\n",
       "<style scoped>\n",
       "    .dataframe tbody tr th:only-of-type {\n",
       "        vertical-align: middle;\n",
       "    }\n",
       "\n",
       "    .dataframe tbody tr th {\n",
       "        vertical-align: top;\n",
       "    }\n",
       "\n",
       "    .dataframe thead th {\n",
       "        text-align: right;\n",
       "    }\n",
       "</style>\n",
       "<table border=\"1\" class=\"dataframe\">\n",
       "  <thead>\n",
       "    <tr style=\"text-align: right;\">\n",
       "      <th></th>\n",
       "      <th>Year</th>\n",
       "      <th>Month</th>\n",
       "      <th>DayofMonth</th>\n",
       "      <th>DayOfWeek</th>\n",
       "      <th>OriginAirportID</th>\n",
       "      <th>DestAirportID</th>\n",
       "      <th>CRSDepTime</th>\n",
       "      <th>DepDelay</th>\n",
       "      <th>DepDel15</th>\n",
       "      <th>CRSArrTime</th>\n",
       "      <th>ArrDelay</th>\n",
       "      <th>ArrDel15</th>\n",
       "      <th>Cancelled</th>\n",
       "    </tr>\n",
       "  </thead>\n",
       "  <tbody>\n",
       "    <tr>\n",
       "      <th>count</th>\n",
       "      <td>133561.0</td>\n",
       "      <td>133561.000000</td>\n",
       "      <td>133561.000000</td>\n",
       "      <td>133561.000000</td>\n",
       "      <td>133561.000000</td>\n",
       "      <td>133561.000000</td>\n",
       "      <td>133561.000000</td>\n",
       "      <td>133561.000000</td>\n",
       "      <td>133561.000000</td>\n",
       "      <td>133561.000000</td>\n",
       "      <td>133561.000000</td>\n",
       "      <td>133561.000000</td>\n",
       "      <td>133561.000000</td>\n",
       "    </tr>\n",
       "    <tr>\n",
       "      <th>mean</th>\n",
       "      <td>2013.0</td>\n",
       "      <td>7.017730</td>\n",
       "      <td>15.798115</td>\n",
       "      <td>3.902015</td>\n",
       "      <td>12760.480425</td>\n",
       "      <td>12723.949686</td>\n",
       "      <td>1277.374069</td>\n",
       "      <td>-0.925330</td>\n",
       "      <td>0.018351</td>\n",
       "      <td>1460.698812</td>\n",
       "      <td>-5.007060</td>\n",
       "      <td>0.069167</td>\n",
       "      <td>0.013170</td>\n",
       "    </tr>\n",
       "    <tr>\n",
       "      <th>std</th>\n",
       "      <td>0.0</td>\n",
       "      <td>2.006033</td>\n",
       "      <td>8.871065</td>\n",
       "      <td>1.996824</td>\n",
       "      <td>1510.345684</td>\n",
       "      <td>1505.190256</td>\n",
       "      <td>469.389081</td>\n",
       "      <td>5.716926</td>\n",
       "      <td>0.134218</td>\n",
       "      <td>485.489099</td>\n",
       "      <td>11.439345</td>\n",
       "      <td>0.253739</td>\n",
       "      <td>0.114003</td>\n",
       "    </tr>\n",
       "    <tr>\n",
       "      <th>min</th>\n",
       "      <td>2013.0</td>\n",
       "      <td>4.000000</td>\n",
       "      <td>1.000000</td>\n",
       "      <td>1.000000</td>\n",
       "      <td>10140.000000</td>\n",
       "      <td>10140.000000</td>\n",
       "      <td>1.000000</td>\n",
       "      <td>-11.000000</td>\n",
       "      <td>0.000000</td>\n",
       "      <td>1.000000</td>\n",
       "      <td>-32.000000</td>\n",
       "      <td>0.000000</td>\n",
       "      <td>0.000000</td>\n",
       "    </tr>\n",
       "    <tr>\n",
       "      <th>25%</th>\n",
       "      <td>2013.0</td>\n",
       "      <td>5.000000</td>\n",
       "      <td>8.000000</td>\n",
       "      <td>2.000000</td>\n",
       "      <td>11292.000000</td>\n",
       "      <td>11292.000000</td>\n",
       "      <td>850.000000</td>\n",
       "      <td>-5.000000</td>\n",
       "      <td>0.000000</td>\n",
       "      <td>1054.000000</td>\n",
       "      <td>-13.000000</td>\n",
       "      <td>0.000000</td>\n",
       "      <td>0.000000</td>\n",
       "    </tr>\n",
       "    <tr>\n",
       "      <th>50%</th>\n",
       "      <td>2013.0</td>\n",
       "      <td>7.000000</td>\n",
       "      <td>16.000000</td>\n",
       "      <td>4.000000</td>\n",
       "      <td>12892.000000</td>\n",
       "      <td>12892.000000</td>\n",
       "      <td>1234.000000</td>\n",
       "      <td>-2.000000</td>\n",
       "      <td>0.000000</td>\n",
       "      <td>1444.000000</td>\n",
       "      <td>-6.000000</td>\n",
       "      <td>0.000000</td>\n",
       "      <td>0.000000</td>\n",
       "    </tr>\n",
       "    <tr>\n",
       "      <th>75%</th>\n",
       "      <td>2013.0</td>\n",
       "      <td>9.000000</td>\n",
       "      <td>24.000000</td>\n",
       "      <td>6.000000</td>\n",
       "      <td>14100.000000</td>\n",
       "      <td>14057.000000</td>\n",
       "      <td>1653.000000</td>\n",
       "      <td>1.000000</td>\n",
       "      <td>0.000000</td>\n",
       "      <td>1845.000000</td>\n",
       "      <td>2.000000</td>\n",
       "      <td>0.000000</td>\n",
       "      <td>0.000000</td>\n",
       "    </tr>\n",
       "    <tr>\n",
       "      <th>max</th>\n",
       "      <td>2013.0</td>\n",
       "      <td>10.000000</td>\n",
       "      <td>31.000000</td>\n",
       "      <td>7.000000</td>\n",
       "      <td>15376.000000</td>\n",
       "      <td>15376.000000</td>\n",
       "      <td>2359.000000</td>\n",
       "      <td>16.000000</td>\n",
       "      <td>1.000000</td>\n",
       "      <td>2359.000000</td>\n",
       "      <td>37.000000</td>\n",
       "      <td>1.000000</td>\n",
       "      <td>1.000000</td>\n",
       "    </tr>\n",
       "  </tbody>\n",
       "</table>\n",
       "</div>"
      ],
      "text/plain": [
       "           Year          Month     DayofMonth      DayOfWeek  OriginAirportID  \\\n",
       "count  133561.0  133561.000000  133561.000000  133561.000000    133561.000000   \n",
       "mean     2013.0       7.017730      15.798115       3.902015     12760.480425   \n",
       "std         0.0       2.006033       8.871065       1.996824      1510.345684   \n",
       "min      2013.0       4.000000       1.000000       1.000000     10140.000000   \n",
       "25%      2013.0       5.000000       8.000000       2.000000     11292.000000   \n",
       "50%      2013.0       7.000000      16.000000       4.000000     12892.000000   \n",
       "75%      2013.0       9.000000      24.000000       6.000000     14100.000000   \n",
       "max      2013.0      10.000000      31.000000       7.000000     15376.000000   \n",
       "\n",
       "       DestAirportID     CRSDepTime       DepDelay       DepDel15  \\\n",
       "count  133561.000000  133561.000000  133561.000000  133561.000000   \n",
       "mean    12723.949686    1277.374069      -0.925330       0.018351   \n",
       "std      1505.190256     469.389081       5.716926       0.134218   \n",
       "min     10140.000000       1.000000     -11.000000       0.000000   \n",
       "25%     11292.000000     850.000000      -5.000000       0.000000   \n",
       "50%     12892.000000    1234.000000      -2.000000       0.000000   \n",
       "75%     14057.000000    1653.000000       1.000000       0.000000   \n",
       "max     15376.000000    2359.000000      16.000000       1.000000   \n",
       "\n",
       "          CRSArrTime       ArrDelay       ArrDel15      Cancelled  \n",
       "count  133561.000000  133561.000000  133561.000000  133561.000000  \n",
       "mean     1460.698812      -5.007060       0.069167       0.013170  \n",
       "std       485.489099      11.439345       0.253739       0.114003  \n",
       "min         1.000000     -32.000000       0.000000       0.000000  \n",
       "25%      1054.000000     -13.000000       0.000000       0.000000  \n",
       "50%      1444.000000      -6.000000       0.000000       0.000000  \n",
       "75%      1845.000000       2.000000       0.000000       0.000000  \n",
       "max      2359.000000      37.000000       1.000000       1.000000  "
      ]
     },
     "execution_count": 22,
     "metadata": {},
     "output_type": "execute_result"
    }
   ],
   "source": [
    "df_flights.describe()"
   ]
  },
  {
   "cell_type": "markdown",
   "id": "e2a78620",
   "metadata": {},
   "source": [
    "**What are the mean departure and arrival delays?**"
   ]
  },
  {
   "cell_type": "code",
   "execution_count": 23,
   "id": "8dbcba0e",
   "metadata": {},
   "outputs": [
    {
     "data": {
      "text/plain": [
       "DepDelay   -0.92533\n",
       "ArrDelay   -5.00706\n",
       "dtype: float64"
      ]
     },
     "execution_count": 23,
     "metadata": {},
     "output_type": "execute_result"
    }
   ],
   "source": [
    "df_flights[delayFields].mean()"
   ]
  },
  {
   "cell_type": "markdown",
   "id": "4e7e624e",
   "metadata": {},
   "source": [
    "**How do the carriers compare in terms of arrival delay performance?**"
   ]
  },
  {
   "cell_type": "code",
   "execution_count": 24,
   "id": "9831e554",
   "metadata": {},
   "outputs": [
    {
     "data": {
      "image/png": "[encoded data removed]",
      "text/plain": [
       "<Figure size 576x576 with 1 Axes>"
      ]
     },
     "metadata": {
      "needs_background": "light"
     },
     "output_type": "display_data"
    },
    {
     "data": {
      "image/png": "[encoded data removed]",
      "text/plain": [
       "<Figure size 576x576 with 1 Axes>"
      ]
     },
     "metadata": {
      "needs_background": "light"
     },
     "output_type": "display_data"
    }
   ],
   "source": [
    "for col in delayFields:\n",
    "    df_flights.boxplot(column=col, by='Carrier', figsize=(8,8))"
   ]
  },
  {
   "cell_type": "markdown",
   "id": "4094f886",
   "metadata": {},
   "source": [
    "**Are some days of the week more prone to arrival days than others?**"
   ]
  },
  {
   "cell_type": "code",
   "execution_count": 25,
   "id": "7c9041d5",
   "metadata": {},
   "outputs": [
    {
     "data": {
      "image/png": "[encoded data removed]",
      "text/plain": [
       "<Figure size 576x576 with 1 Axes>"
      ]
     },
     "metadata": {
      "needs_background": "light"
     },
     "output_type": "display_data"
    },
    {
     "data": {
      "image/png": "[encoded data removed]",
      "text/plain": [
       "<Figure size 576x576 with 1 Axes>"
      ]
     },
     "metadata": {
      "needs_background": "light"
     },
     "output_type": "display_data"
    }
   ],
   "source": [
    "for col in delayFields:\n",
    "    df_flights.boxplot(column=col, by='DayOfWeek', figsize=(8,8))"
   ]
  },
  {
   "cell_type": "markdown",
   "id": "5bef88fe",
   "metadata": {},
   "source": [
    "**Which departure airport has the highest average departure delay?**"
   ]
  },
  {
   "cell_type": "code",
   "execution_count": 26,
   "id": "26f855e8",
   "metadata": {},
   "outputs": [
    {
     "data": {
      "text/html": [
       "<div>\n",
       "<style scoped>\n",
       "    .dataframe tbody tr th:only-of-type {\n",
       "        vertical-align: middle;\n",
       "    }\n",
       "\n",
       "    .dataframe tbody tr th {\n",
       "        vertical-align: top;\n",
       "    }\n",
       "\n",
       "    .dataframe thead th {\n",
       "        text-align: right;\n",
       "    }\n",
       "</style>\n",
       "<table border=\"1\" class=\"dataframe\">\n",
       "  <thead>\n",
       "    <tr style=\"text-align: right;\">\n",
       "      <th></th>\n",
       "      <th>DepDelay</th>\n",
       "    </tr>\n",
       "    <tr>\n",
       "      <th>OriginAirportName</th>\n",
       "      <th></th>\n",
       "    </tr>\n",
       "  </thead>\n",
       "  <tbody>\n",
       "    <tr>\n",
       "      <th>Chicago Midway International</th>\n",
       "      <td>2.407390</td>\n",
       "    </tr>\n",
       "    <tr>\n",
       "      <th>Dallas Love Field</th>\n",
       "      <td>2.190229</td>\n",
       "    </tr>\n",
       "    <tr>\n",
       "      <th>William P Hobby</th>\n",
       "      <td>1.752826</td>\n",
       "    </tr>\n",
       "    <tr>\n",
       "      <th>Metropolitan Oakland International</th>\n",
       "      <td>1.021429</td>\n",
       "    </tr>\n",
       "    <tr>\n",
       "      <th>Baltimore/Washington International Thurgood Marshall</th>\n",
       "      <td>0.875101</td>\n",
       "    </tr>\n",
       "    <tr>\n",
       "      <th>...</th>\n",
       "      <td>...</td>\n",
       "    </tr>\n",
       "    <tr>\n",
       "      <th>Memphis International</th>\n",
       "      <td>-3.005241</td>\n",
       "    </tr>\n",
       "    <tr>\n",
       "      <th>Ted Stevens Anchorage International</th>\n",
       "      <td>-3.073171</td>\n",
       "    </tr>\n",
       "    <tr>\n",
       "      <th>Tucson International</th>\n",
       "      <td>-3.094915</td>\n",
       "    </tr>\n",
       "    <tr>\n",
       "      <th>Long Beach Airport</th>\n",
       "      <td>-3.204955</td>\n",
       "    </tr>\n",
       "    <tr>\n",
       "      <th>Richmond International</th>\n",
       "      <td>-3.367003</td>\n",
       "    </tr>\n",
       "  </tbody>\n",
       "</table>\n",
       "<p>70 rows × 1 columns</p>\n",
       "</div>"
      ],
      "text/plain": [
       "                                                    DepDelay\n",
       "OriginAirportName                                           \n",
       "Chicago Midway International                        2.407390\n",
       "Dallas Love Field                                   2.190229\n",
       "William P Hobby                                     1.752826\n",
       "Metropolitan Oakland International                  1.021429\n",
       "Baltimore/Washington International Thurgood Mar...  0.875101\n",
       "...                                                      ...\n",
       "Memphis International                              -3.005241\n",
       "Ted Stevens Anchorage International                -3.073171\n",
       "Tucson International                               -3.094915\n",
       "Long Beach Airport                                 -3.204955\n",
       "Richmond International                             -3.367003\n",
       "\n",
       "[70 rows x 1 columns]"
      ]
     },
     "execution_count": 26,
     "metadata": {},
     "output_type": "execute_result"
    },
    {
     "data": {
      "image/png": "[encoded data removed]",
      "text/plain": [
       "<Figure size 864x864 with 1 Axes>"
      ]
     },
     "metadata": {
      "needs_background": "light"
     },
     "output_type": "display_data"
    }
   ],
   "source": [
    "departure_airport_group = df_flights.groupby(df_flights.OriginAirportName)\n",
    "\n",
    "mean_departure_delays = pd.DataFrame(departure_airport_group['DepDelay'].mean()).sort_values('DepDelay', ascending=False)\n",
    "mean_departure_delays.plot(kind = \"bar\", figsize=(12,12))\n",
    "mean_departure_delays"
   ]
  },
  {
   "cell_type": "markdown",
   "id": "49135fc7",
   "metadata": {},
   "source": [
    "**Do late departures tend to result in longer arrival delays than on-time departures?**"
   ]
  },
  {
   "cell_type": "code",
   "execution_count": 27,
   "id": "f71f4165",
   "metadata": {},
   "outputs": [
    {
     "data": {
      "text/plain": [
       "<AxesSubplot:title={'center':'ArrDelay'}, xlabel='DepDel15'>"
      ]
     },
     "execution_count": 27,
     "metadata": {},
     "output_type": "execute_result"
    },
    {
     "data": {
      "image/png": "[encoded data removed]",
      "text/plain": [
       "<Figure size 864x864 with 1 Axes>"
      ]
     },
     "metadata": {
      "needs_background": "light"
     },
     "output_type": "display_data"
    }
   ],
   "source": [
    "df_flights.boxplot(column='ArrDelay', by='DepDel15', figsize=(12,12))"
   ]
  },
  {
   "cell_type": "markdown",
   "id": "f09b90e9",
   "metadata": {},
   "source": [
    "**Which route (from origin airport to destination airport) has the most late arrivals?**"
   ]
  },
  {
   "cell_type": "code",
   "execution_count": 28,
   "id": "6f0647a9",
   "metadata": {},
   "outputs": [
    {
     "data": {
      "text/html": [
       "<div>\n",
       "<style scoped>\n",
       "    .dataframe tbody tr th:only-of-type {\n",
       "        vertical-align: middle;\n",
       "    }\n",
       "\n",
       "    .dataframe tbody tr th {\n",
       "        vertical-align: top;\n",
       "    }\n",
       "\n",
       "    .dataframe thead th {\n",
       "        text-align: right;\n",
       "    }\n",
       "</style>\n",
       "<table border=\"1\" class=\"dataframe\">\n",
       "  <thead>\n",
       "    <tr style=\"text-align: right;\">\n",
       "      <th></th>\n",
       "      <th>ArrDel15</th>\n",
       "    </tr>\n",
       "    <tr>\n",
       "      <th>Route</th>\n",
       "      <th></th>\n",
       "    </tr>\n",
       "  </thead>\n",
       "  <tbody>\n",
       "    <tr>\n",
       "      <th>San Francisco International &gt; Los Angeles International</th>\n",
       "      <td>63.0</td>\n",
       "    </tr>\n",
       "    <tr>\n",
       "      <th>LaGuardia &gt; Hartsfield-Jackson Atlanta International</th>\n",
       "      <td>38.0</td>\n",
       "    </tr>\n",
       "    <tr>\n",
       "      <th>Los Angeles International &gt; San Francisco International</th>\n",
       "      <td>36.0</td>\n",
       "    </tr>\n",
       "    <tr>\n",
       "      <th>LaGuardia &gt; Chicago O'Hare International</th>\n",
       "      <td>31.0</td>\n",
       "    </tr>\n",
       "    <tr>\n",
       "      <th>LaGuardia &gt; Charlotte Douglas International</th>\n",
       "      <td>28.0</td>\n",
       "    </tr>\n",
       "    <tr>\n",
       "      <th>...</th>\n",
       "      <td>...</td>\n",
       "    </tr>\n",
       "    <tr>\n",
       "      <th>Miami International &gt; Bradley International</th>\n",
       "      <td>0.0</td>\n",
       "    </tr>\n",
       "    <tr>\n",
       "      <th>Miami International &gt; Jacksonville International</th>\n",
       "      <td>0.0</td>\n",
       "    </tr>\n",
       "    <tr>\n",
       "      <th>Miami International &gt; Louisville International-Standiford Field</th>\n",
       "      <td>0.0</td>\n",
       "    </tr>\n",
       "    <tr>\n",
       "      <th>Miami International &gt; Memphis International</th>\n",
       "      <td>0.0</td>\n",
       "    </tr>\n",
       "    <tr>\n",
       "      <th>William P Hobby &gt; Will Rogers World</th>\n",
       "      <td>0.0</td>\n",
       "    </tr>\n",
       "  </tbody>\n",
       "</table>\n",
       "<p>2471 rows × 1 columns</p>\n",
       "</div>"
      ],
      "text/plain": [
       "                                                    ArrDel15\n",
       "Route                                                       \n",
       "San Francisco International > Los Angeles Inter...      63.0\n",
       "LaGuardia > Hartsfield-Jackson Atlanta Internat...      38.0\n",
       "Los Angeles International > San Francisco Inter...      36.0\n",
       "LaGuardia > Chicago O'Hare International                31.0\n",
       "LaGuardia > Charlotte Douglas International             28.0\n",
       "...                                                      ...\n",
       "Miami International > Bradley International              0.0\n",
       "Miami International > Jacksonville International         0.0\n",
       "Miami International > Louisville International-...       0.0\n",
       "Miami International > Memphis International              0.0\n",
       "William P Hobby > Will Rogers World                      0.0\n",
       "\n",
       "[2471 rows x 1 columns]"
      ]
     },
     "execution_count": 28,
     "metadata": {},
     "output_type": "execute_result"
    }
   ],
   "source": [
    "# Add a routes column\n",
    "routes  = pd.Series(df_flights['OriginAirportName'] + ' > ' + df_flights['DestAirportName'])\n",
    "df_flights = pd.concat([df_flights, routes.rename(\"Route\")], axis=1)\n",
    "\n",
    "# Group by routes\n",
    "route_group = df_flights.groupby(df_flights.Route)\n",
    "pd.DataFrame(route_group['ArrDel15'].sum()).sort_values('ArrDel15', ascending=False)"
   ]
  },
  {
   "cell_type": "markdown",
   "id": "a4fcad39",
   "metadata": {},
   "source": [
    "**Which route has the highest average arrival delay?**"
   ]
  },
  {
   "cell_type": "code",
   "execution_count": 30,
   "id": "c2eee04b",
   "metadata": {},
   "outputs": [
    {
     "data": {
      "text/html": [
       "<div>\n",
       "<style scoped>\n",
       "    .dataframe tbody tr th:only-of-type {\n",
       "        vertical-align: middle;\n",
       "    }\n",
       "\n",
       "    .dataframe tbody tr th {\n",
       "        vertical-align: top;\n",
       "    }\n",
       "\n",
       "    .dataframe thead th {\n",
       "        text-align: right;\n",
       "    }\n",
       "</style>\n",
       "<table border=\"1\" class=\"dataframe\">\n",
       "  <thead>\n",
       "    <tr style=\"text-align: right;\">\n",
       "      <th></th>\n",
       "      <th>ArrDelay</th>\n",
       "    </tr>\n",
       "    <tr>\n",
       "      <th>Route</th>\n",
       "      <th></th>\n",
       "    </tr>\n",
       "  </thead>\n",
       "  <tbody>\n",
       "    <tr>\n",
       "      <th>Logan International &gt; Metropolitan Oakland International</th>\n",
       "      <td>23.000000</td>\n",
       "    </tr>\n",
       "    <tr>\n",
       "      <th>Louis Armstrong New Orleans International &gt; Ronald Reagan Washington National</th>\n",
       "      <td>23.000000</td>\n",
       "    </tr>\n",
       "    <tr>\n",
       "      <th>Cleveland-Hopkins International &gt; Palm Beach International</th>\n",
       "      <td>18.000000</td>\n",
       "    </tr>\n",
       "    <tr>\n",
       "      <th>Phoenix Sky Harbor International &gt; Raleigh-Durham International</th>\n",
       "      <td>14.800000</td>\n",
       "    </tr>\n",
       "    <tr>\n",
       "      <th>Cleveland-Hopkins International &gt; Philadelphia International</th>\n",
       "      <td>10.666667</td>\n",
       "    </tr>\n",
       "    <tr>\n",
       "      <th>...</th>\n",
       "      <td>...</td>\n",
       "    </tr>\n",
       "    <tr>\n",
       "      <th>Bradley International &gt; Los Angeles International</th>\n",
       "      <td>-25.000000</td>\n",
       "    </tr>\n",
       "    <tr>\n",
       "      <th>Denver International &gt; Kahului Airport</th>\n",
       "      <td>-25.500000</td>\n",
       "    </tr>\n",
       "    <tr>\n",
       "      <th>Eppley Airfield &gt; LaGuardia</th>\n",
       "      <td>-25.500000</td>\n",
       "    </tr>\n",
       "    <tr>\n",
       "      <th>Indianapolis International &gt; Logan International</th>\n",
       "      <td>-26.000000</td>\n",
       "    </tr>\n",
       "    <tr>\n",
       "      <th>Reno/Tahoe International &gt; George Bush Intercontinental/Houston</th>\n",
       "      <td>-27.000000</td>\n",
       "    </tr>\n",
       "  </tbody>\n",
       "</table>\n",
       "<p>2471 rows × 1 columns</p>\n",
       "</div>"
      ],
      "text/plain": [
       "                                                     ArrDelay\n",
       "Route                                                        \n",
       "Logan International > Metropolitan Oakland Inte...  23.000000\n",
       "Louis Armstrong New Orleans International > Ron...  23.000000\n",
       "Cleveland-Hopkins International > Palm Beach In...  18.000000\n",
       "Phoenix Sky Harbor International > Raleigh-Durh...  14.800000\n",
       "Cleveland-Hopkins International > Philadelphia ...  10.666667\n",
       "...                                                       ...\n",
       "Bradley International > Los Angeles International  -25.000000\n",
       "Denver International > Kahului Airport             -25.500000\n",
       "Eppley Airfield > LaGuardia                        -25.500000\n",
       "Indianapolis International > Logan International   -26.000000\n",
       "Reno/Tahoe International > George Bush Intercon... -27.000000\n",
       "\n",
       "[2471 rows x 1 columns]"
      ]
     },
     "execution_count": 30,
     "metadata": {},
     "output_type": "execute_result"
    }
   ],
   "source": [
    "pd.DataFrame(route_group['ArrDelay'].mean()).sort_values('ArrDelay', ascending=False)"
   ]
  },
  {
   "cell_type": "code",
   "execution_count": null,
   "id": "914177c5",
   "metadata": {},
   "outputs": [],
   "source": []
  }
 ],
 "metadata": {
  "kernelspec": {
   "display_name": "Python 3 (ipykernel)",
   "language": "python",
   "name": "python3"
  },
  "language_info": {
   "codemirror_mode": {
    "name": "ipython",
    "version": 3
   },
   "file_extension": ".py",
   "mimetype": "text/x-python",
   "name": "python",
   "nbconvert_exporter": "python",
   "pygments_lexer": "ipython3",
   "version": "3.8.12"
  }
 },
 "nbformat": 4,
 "nbformat_minor": 5
}
