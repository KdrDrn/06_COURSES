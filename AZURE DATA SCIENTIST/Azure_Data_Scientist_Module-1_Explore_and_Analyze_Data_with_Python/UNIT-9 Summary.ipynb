{
 "cells": [
  {
   "cell_type": "markdown",
   "id": "ea7a821f",
   "metadata": {},
   "source": [
    "## Summary\n",
    "\n",
    "In this module, you learned how to use Python to explore, visualize, and manipulate data. Data exploration is at the core of data science, and is a key element in data analysis and machine learning.\n",
    "\n",
    "Machine learning is a subset of data science that deals with predictive modeling. In other words, machine learning uses data to creates predictive models, in order to predict unknown values. You might use machine learning to predict how much food a supermarket needs to order, or to identify plants in photographs.\n",
    "\n",
    "Machine learning works by identifying relationships between data values that describe characteristics of something—its features, such as the height and color of a plant—and the value we want to predict—the label, such as the species of plant. These relationships are built into a model through a training process.\n",
    "\n",
    "**Challenge: Analyze Flight Data**\n",
    "    \n",
    "If this exercises in this module have inspired you to try exploring data for yourself, why not take on the challenge of a real world dataset containing flight records from the US Department of Transportation? You'll find the challenge in the 01 - Flights Challenge.ipynb notebook! (https://github.com/MicrosoftDocs/ml-basics/blob/master/challenges/01%20-%20Flights%20Challenge.ipynb)\n",
    "\n",
    " Note\n",
    "\n",
    "The time to complete this optional challenge is not included in the estimated time for this module - you can spend as little or as much time on it as you like!"
   ]
  },
  {
   "cell_type": "code",
   "execution_count": null,
   "id": "b5d4e5a0",
   "metadata": {},
   "outputs": [],
   "source": []
  }
 ],
 "metadata": {
  "kernelspec": {
   "display_name": "Python 3 (ipykernel)",
   "language": "python",
   "name": "python3"
  },
  "language_info": {
   "codemirror_mode": {
    "name": "ipython",
    "version": 3
   },
   "file_extension": ".py",
   "mimetype": "text/x-python",
   "name": "python",
   "nbconvert_exporter": "python",
   "pygments_lexer": "ipython3",
   "version": "3.8.12"
  }
 },
 "nbformat": 4,
 "nbformat_minor": 5
}
