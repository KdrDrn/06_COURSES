{
 "cells": [
  {
   "cell_type": "markdown",
   "id": "41e16b9e",
   "metadata": {},
   "source": [
    "## Introduction\n",
    "\n",
    "Machine Learning is the foundation for most artificial intelligence solutions, and the creation of an intelligent solution often begins with the use of machine learning to train a predictive model using historic data that you have collected. [Makine Öğrenimi, çoğu yapay zeka çözümünün temelidir ve akıllı bir çözümün oluşturulması, genellikle topladığınız geçmiş verileri kullanarak tahmine dayalı bir modeli eğitmek için makine öğreniminin kullanılmasıyla başlar.]\n",
    "\n",
    "Azure Machine Learning is a cloud service that you can use to train and manage machine learning models. [Azure Machine Learning, makine öğrenimi modellerini eğitmek ve yönetmek için kullanabileceğiniz bir bulut hizmetidir.]\n",
    "\n",
    "In this module, you'll learn how to: [Bu modülde şunları nasıl yapacağınızı öğreneceksiniz:]\n",
    "\n",
    "- Identify different kinds of machine learning model. [Farklı türde makine öğrenimi modellerini tanımlayın.]\n",
    "\n",
    "- Use the automated machine learning capability of Azure Machine Learning to train and deploy a predictive model. [Tahmine dayalı bir modeli eğitmek ve dağıtmak için Azure Machine Learning'in otomatik makine öğrenimi özelliğini kullanın.]\n",
    "\n",
    "To complete this module, you'll need a Microsoft Azure subscription. [Bu modülü tamamlamak için bir Microsoft Azure aboneliğine ihtiyacınız olacak.] If you don't already have one, you can sign up for a free trial at https://azure.microsoft.com. [Henüz sahip değilseniz, https://azure.microsoft.com adresinde ücretsiz deneme için kaydolabilirsiniz.]"
   ]
  },
  {
   "cell_type": "code",
   "execution_count": null,
   "id": "6e72043d",
   "metadata": {},
   "outputs": [],
   "source": []
  }
 ],
 "metadata": {
  "kernelspec": {
   "display_name": "Python 3 (ipykernel)",
   "language": "python",
   "name": "python3"
  },
  "language_info": {
   "codemirror_mode": {
    "name": "ipython",
    "version": 3
   },
   "file_extension": ".py",
   "mimetype": "text/x-python",
   "name": "python",
   "nbconvert_exporter": "python",
   "pygments_lexer": "ipython3",
   "version": "3.8.12"
  }
 },
 "nbformat": 4,
 "nbformat_minor": 5
}
