{
 "cells": [
  {
   "cell_type": "markdown",
   "id": "9cd50501",
   "metadata": {},
   "source": [
    "## Summary\n",
    "\n",
    "In this module, you learned how classification can be used to create a machine learning model that predicts categories, or classes. You then used the scikit-learn framework in Python to train and evaluate a classification model.\n",
    "\n",
    "While scikit-learn is a popular framework for writing code to train classification models, you can also create machine learning solutions for classification using the graphical tools in Microsoft Azure Machine Learning. You can learn more about no-code development of classification models using Azure Machine Learning in the Create a classification model with Azure Machine Learning designer (https://docs.microsoft.com/en-us/learn/modules/create-classification-model-azure-machine-learning-designer/) module.\n",
    "\n",
    "### Challenge: Classify Wines\n",
    "\n",
    "Feel like challenging yourself to train a classification model? Try the challenge in the /challenges/03 - Wine Classification Challenge.ipynb notebook (https://github.com/MicrosoftDocs/ml-basics/blob/master/challenges/03%20-%20Wine%20Classification%20Challenge.ipynb) to see if you can classify wines into their grape varietals!\n",
    "\n",
    " **Note**\n",
    "\n",
    "The time to complete this optional challenge is not included in the estimated time for this module - you can spend as little or as much time on it as you like!\n",
    "\n"
   ]
  },
  {
   "cell_type": "code",
   "execution_count": null,
   "id": "1f6f39d9",
   "metadata": {},
   "outputs": [],
   "source": []
  }
 ],
 "metadata": {
  "kernelspec": {
   "display_name": "Python 3 (ipykernel)",
   "language": "python",
   "name": "python3"
  },
  "language_info": {
   "codemirror_mode": {
    "name": "ipython",
    "version": 3
   },
   "file_extension": ".py",
   "mimetype": "text/x-python",
   "name": "python",
   "nbconvert_exporter": "python",
   "pygments_lexer": "ipython3",
   "version": "3.8.12"
  }
 },
 "nbformat": 4,
 "nbformat_minor": 5
}
