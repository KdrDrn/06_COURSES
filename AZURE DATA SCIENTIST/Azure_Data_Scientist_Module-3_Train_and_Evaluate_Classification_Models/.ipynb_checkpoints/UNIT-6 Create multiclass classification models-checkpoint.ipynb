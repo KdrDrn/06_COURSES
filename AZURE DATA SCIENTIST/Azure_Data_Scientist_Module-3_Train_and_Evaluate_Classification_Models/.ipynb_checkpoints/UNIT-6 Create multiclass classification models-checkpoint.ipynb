{
 "cells": [
  {
   "cell_type": "markdown",
   "id": "2121f564",
   "metadata": {},
   "source": [
    "## Create multiclass classification models\n",
    "\n",
    "It's also possible to create multiclass classification models, in which there are more than two possible classes. [İkiden fazla olası sınıfın olduğu çok sınıflı sınıflandırma modelleri oluşturmak da mümkündür.] For example, the health clinic might expand the diabetes model to classify patients as: [Örneğin, sağlık kliniği, hastaları şu şekilde sınıflandırmak için diyabet modelini genişletebilir:]\n",
    "\n",
    "- Non-diabetic\n",
    "\n",
    "- Type-1 diabetic\n",
    "\n",
    "- Type-2 diabetic\n",
    "\n",
    "The individual class probability values would still add up to a total of 1 as the patient is definitely in only one of the three classes, and the most probable class would be predicted by the model. [Hasta kesinlikle üç sınıftan sadece birinde olduğundan ve en olası sınıf model tarafından tahmin edildiğinden, bireysel sınıf olasılık değerleri toplam 1'e eşit olacaktır.]\n",
    "\n",
    "### Using Multiclass classification models\n",
    "\n",
    "Multiclass classification can be thought of as a combination of multiple binary classifiers. [Çok sınıflı sınıflandırma, çoklu ikili sınıflandırıcıların bir kombinasyonu olarak düşünülebilir.] There are two ways in which you approach the problem: [Soruna yaklaşmanın iki yolu vardır:]\n",
    "\n",
    "- **One vs Rest (OVR)**, in which a classifier is created for each possible class value, with a positive outcome for cases where the prediction is this class, and negative predictions for cases where the prediction is any other class. [Tahminin bu sınıf olduğu durumlar için olumlu bir sonuç ve tahminin başka herhangi bir sınıf olduğu durumlar için olumsuz tahminler ile olası her sınıf değeri için bir sınıflandırıcının oluşturulduğu One vs Rest (OVR).] For example, a classification problem with four possible shape classes (square, circle, triangle, hexagon) would require four classifiers that predict: [Örneğin, dört olası şekil sınıfına (kare, daire, üçgen, altıgen) sahip bir sınıflandırma problemi, aşağıdakileri öngören dört sınıflandırıcı gerektirir:]\n",
    "\n",
    "    - square or not\n",
    "\n",
    "    - circle or not\n",
    "\n",
    "    - triangle or not\n",
    "\n",
    "    - hexagon or not\n",
    "\n",
    "- **One vs One (OVO)**, in which a classifier for each possible pair of classes is created. [Her olası sınıf çifti için bir sınıflandırıcının oluşturulduğu Bire Karşı Bir (OVO).] The classification problem with four shape classes would require the following binary classifiers: [Dört şekil sınıflı sınıflandırma problemi aşağıdaki ikili sınıflandırıcıları gerektirir:]\n",
    "\n",
    "    - square or circle\n",
    "\n",
    "    - square or triangle\n",
    "\n",
    "    - square or hexagon\n",
    "\n",
    "    - circle or triangle\n",
    "\n",
    "    - circle or hexagon\n",
    "\n",
    "    - triangle or hexagon\n",
    "\n",
    "In both approaches, the overall model must take into account all of these predictions to determine which single category the item belongs to. [Her iki yaklaşımda da, genel model, maddenin hangi tek kategoriye ait olduğunu belirlemek için tüm bu tahminleri hesaba katmalıdır.]\n",
    "\n",
    "Fortunately, in most machine learning frameworks, including scikit-learn, implementing a multiclass classification model is not significantly more complex than binary classification - and in most cases, the estimators used for binary classification implicitly support multiclass classification by abstracting an OVR algorithm, an OVO algorithm, or by allowing a choice of either. [Neyse ki, scikit-learn dahil çoğu makine öğrenimi çerçevesinde, çok sınıflı bir sınıflandırma modeli uygulamak, ikili sınıflandırmadan önemli ölçüde daha karmaşık değildir - ve çoğu durumda, ikili sınıflandırma için kullanılan tahminciler, bir OVR algoritması, bir OVO soyutlayarak çok sınıflı sınıflandırmayı örtük olarak destekler. algoritma veya herhangi birinin seçimine izin vererek.]"
   ]
  },
  {
   "cell_type": "code",
   "execution_count": null,
   "id": "8e1a788f",
   "metadata": {},
   "outputs": [],
   "source": [
    " "
   ]
  }
 ],
 "metadata": {
  "kernelspec": {
   "display_name": "Python 3 (ipykernel)",
   "language": "python",
   "name": "python3"
  },
  "language_info": {
   "codemirror_mode": {
    "name": "ipython",
    "version": 3
   },
   "file_extension": ".py",
   "mimetype": "text/x-python",
   "name": "python",
   "nbconvert_exporter": "python",
   "pygments_lexer": "ipython3",
   "version": "3.8.12"
  }
 },
 "nbformat": 4,
 "nbformat_minor": 5
}
