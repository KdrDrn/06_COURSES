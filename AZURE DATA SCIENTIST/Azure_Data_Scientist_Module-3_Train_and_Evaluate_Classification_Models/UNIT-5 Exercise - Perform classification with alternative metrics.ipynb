{
 "cells": [
  {
   "cell_type": "markdown",
   "id": "a340e45f",
   "metadata": {},
   "source": [
    "## Exercise - Perform classification with alternative metrics"
   ]
  },
  {
   "cell_type": "markdown",
   "id": "5389517a",
   "metadata": {},
   "source": [
    "### Classification Metrics\n",
    "\n",
    "In the last notebook we fit binary classifier to predict whether patients were diabetic or not. [Son defterde, hastaların diyabetik olup olmadığını tahmin etmek için ikili sınıflandırıcıyı yerleştirdik.] We used accuracy as a measure of how well the model performed, but accuracy isn't everything. [Modelin ne kadar iyi performans gösterdiğinin bir ölçüsü olarak doğruluğu kullandık, ancak doğruluk her şey değildir.] In this notebook, we will look at alternatives to accuracy that can be much more useful in machine learning. [Bu not defterinde, makine öğreniminde çok daha yararlı olabilecek doğruluk alternatiflerine bakacağız.]\n",
    "\n",
    "### Alternative metrics for binary classifiers\n",
    "\n",
    "Accuracy seems like a sensible metric to evaluate (and to a certain extent it is), but you need to be careful about drawing too many conclusions from the accuracy of a classifier. [Doğruluk, değerlendirmek için mantıklı bir ölçüm gibi görünüyor (ve bir dereceye kadar öyle), ancak bir sınıflandırıcının doğruluğundan çok fazla sonuç çıkarma konusunda dikkatli olmalısınız.] Remember that it's simply a measure of how many cases were predicted correctly. [Bunun kaç vakanın doğru tahmin edildiğinin bir ölçüsü olduğunu unutmayın.] Suppose only 3% of the population is diabetic. [Nüfusun sadece %3'ünün diyabetik olduğunu varsayalım.] You could create a classifier that always just predicts 0, and it would be 97% accurate - but not terribly helpful in identifying patients with diabetes! [Her zaman 0'ı tahmin eden bir sınıflandırıcı oluşturabilirsiniz ve bu %97 doğru olur - ancak diyabetli hastaları belirlemede pek yardımcı olmaz!]\n",
    "\n",
    "Fortunately, there are some other metrics that reveal a little more about how our model is performing. [Neyse ki, modelimizin nasıl performans gösterdiği hakkında biraz daha fazla bilgi veren başka metrikler de var.] Scikit-Learn includes the ability to create a classification report that provides more insight than raw accuracy alone. [Scikit-Learn, tek başına ham doğruluktan daha fazla içgörü sağlayan bir sınıflandırma raporu oluşturma yeteneğini içerir.]\n",
    "\n",
    "To get started, run the next cell to load our data and train our model like last time. [Başlamak için, verilerimizi yüklemek için sonraki hücreyi çalıştırın ve modelimizi geçen seferki gibi eğitin.]"
   ]
  },
  {
   "cell_type": "code",
   "execution_count": 2,
   "id": "4aea7759",
   "metadata": {},
   "outputs": [
    {
     "name": "stdout",
     "output_type": "stream",
     "text": [
      "Training cases: 10500\n",
      "Test cases: 4500\n",
      "Predicted labels:  [0 0 0 ... 0 1 0]\n",
      "Actual labels:     [0 0 1 ... 1 1 1]\n",
      "Accuracy:  0.7891111111111111\n"
     ]
    }
   ],
   "source": [
    "import pandas as pd\n",
    "from matplotlib import pyplot as plt\n",
    "%matplotlib inline\n",
    "from sklearn.model_selection import train_test_split\n",
    "from sklearn.metrics import accuracy_score\n",
    "\n",
    "\n",
    "# load the training dataset\n",
    "# !wget https://raw.githubusercontent.com/MicrosoftDocs/mslearn-introduction-to-machine-learning/main/Data/ml-basics/diabetes.csv\n",
    "diabetes = pd.read_csv('diabetes.csv')\n",
    "\n",
    "# Separate features and labels\n",
    "features = ['Pregnancies','PlasmaGlucose','DiastolicBloodPressure','TricepsThickness','SerumInsulin','BMI','DiabetesPedigree','Age']\n",
    "label = 'Diabetic'\n",
    "X, y = diabetes[features].values, diabetes[label].values\n",
    "\n",
    "\n",
    "# Split data 70%-30% into training set and test set\n",
    "X_train, X_test, y_train, y_test = train_test_split(X, y, test_size=0.30, random_state=0)\n",
    "\n",
    "print ('Training cases: %d\\nTest cases: %d' % (X_train.shape[0], X_test.shape[0]))\n",
    "\n",
    "# Train the model\n",
    "from sklearn.linear_model import LogisticRegression\n",
    "\n",
    "# Set regularization rate\n",
    "reg = 0.01\n",
    "\n",
    "# train a logistic regression model on the training set\n",
    "model = LogisticRegression(C=1/reg, solver=\"liblinear\").fit(X_train, y_train)\n",
    "\n",
    "predictions = model.predict(X_test)\n",
    "print('Predicted labels: ', predictions)\n",
    "print('Actual labels:    ' ,y_test)\n",
    "print('Accuracy: ', accuracy_score(y_test, predictions))"
   ]
  },
  {
   "cell_type": "markdown",
   "id": "f2b8912f",
   "metadata": {},
   "source": [
    "One of the simplest places to start is a classification report. [Başlamak için en basit yerlerden biri bir sınıflandırma raporudur.] Run the next cell to see a range of alternatives ways to assess our model [Modelimizi değerlendirmenin çeşitli alternatif yollarını görmek için sonraki hücreyi çalıştırın]"
   ]
  },
  {
   "cell_type": "code",
   "execution_count": 3,
   "id": "3e57f610",
   "metadata": {},
   "outputs": [
    {
     "name": "stdout",
     "output_type": "stream",
     "text": [
      "              precision    recall  f1-score   support\n",
      "\n",
      "           0       0.81      0.88      0.85      2986\n",
      "           1       0.72      0.60      0.66      1514\n",
      "\n",
      "    accuracy                           0.79      4500\n",
      "   macro avg       0.77      0.74      0.75      4500\n",
      "weighted avg       0.78      0.79      0.78      4500\n",
      "\n"
     ]
    }
   ],
   "source": [
    "from sklearn. metrics import classification_report\n",
    "\n",
    "print(classification_report(y_test, predictions))"
   ]
  },
  {
   "cell_type": "markdown",
   "id": "d20736c6",
   "metadata": {},
   "source": [
    "The classification report includes the following metrics for each class (0 and 1) [Sınıflandırma raporu, her sınıf (0 ve 1) için aşağıdaki metrikleri içerir.]\n",
    "\n",
    "note that the header row may not line up with the values! [başlık satırının değerlerle aynı hizada olmayabileceğini unutmayın!]\n",
    "\n",
    "- **Precision**: Of the predictions the model made for this class, what proportion were correct? [Kesinlik: Modelin bu sınıf için yaptığı tahminlerin ne kadarı doğruydu?]\n",
    "\n",
    "- **Recall**: Out of all of the instances of this class in the test dataset, how many did the model identify? [Hatırlayın: Test veri setindeki bu sınıfın tüm örneklerinden model kaç tanesini tanımladı?]\n",
    "\n",
    "- **F1-Score**: An average metric that takes both precision and recall into account. [F1-Skoru: Hem kesinliği hem de hatırlamayı hesaba katan ortalama bir ölçüm.]\n",
    "\n",
    "- **Support**: How many instances of this class are there in the test dataset? [Destek: Test veri setinde bu sınıfın kaç örneği var?]\n",
    "\n",
    "The classification report also includes averages for these metrics, including a weighted average that allows for the imbalance in the number of cases of each class. [Sınıflandırma raporu ayrıca, her bir sınıftaki vaka sayısındaki dengesizliğe izin veren ağırlıklı bir ortalama da dahil olmak üzere bu metriklerin ortalamalarını içerir.]\n",
    "\n",
    "Because this is a binary classification problem, the 1 class is considered positive and its precision and recall are particularly interesting - these in effect answer the questions: [Bu bir ikili sınıflandırma problemi olduğundan, 1 sınıfı pozitif olarak kabul edilir ve kesinliği ve hatırlaması özellikle ilginçtir - bunlar aslında şu soruları yanıtlar:]\n",
    "\n",
    "- Of all the patients the model predicted are diabetic, how many are actually diabetic? [Modelin tahmin ettiği tüm hastalardan diyabetik, kaç tanesi gerçekten diyabetik?]\n",
    "\n",
    "- Of all the patients that are actually diabetic, how many did the model identify? [Model, gerçekten diyabetik olan tüm hastalardan kaç tanesini belirledi?]\n",
    "\n",
    "You can retrieve these values on their own by using the precision_score and recall_score metrics in scikit-learn (which by default assume a binary classification model). [scikit-learn'de (varsayılan olarak bir ikili sınıflandırma modeli varsayılır) kesinlik_skoru ve geri çağırma_skoru metriklerini kullanarak bu değerleri kendi başlarına alabilirsiniz.]"
   ]
  },
  {
   "cell_type": "code",
   "execution_count": 4,
   "id": "de7f1645",
   "metadata": {},
   "outputs": [
    {
     "name": "stdout",
     "output_type": "stream",
     "text": [
      "Overall Precision: 0.7240285487708168\n",
      "Overall Recall: 0.6030383091149274\n"
     ]
    }
   ],
   "source": [
    "from sklearn.metrics import precision_score, recall_score\n",
    "\n",
    "print(\"Overall Precision:\",precision_score(y_test, predictions))\n",
    "print(\"Overall Recall:\",recall_score(y_test, predictions))"
   ]
  },
  {
   "attachments": {
    "image.png": {
     "image/png": "[encoded data removed]"
    }
   },
   "cell_type": "markdown",
   "id": "ec7d0840",
   "metadata": {},
   "source": [
    "The precision and recall metrics are derived from four possible prediction outcomes:\n",
    "\n",
    "- True Positives: The predicted label and the actual label are both 1.\n",
    "\n",
    "- False Positives: The predicted label is 1, but the actual label is 0.\n",
    "\n",
    "- False Negatives: The predicted label is 0, but the actual label is 1.\n",
    "\n",
    "- True Negatives: The predicted label and the actual label are both 0.\n",
    "\n",
    "These metrics are generally tabulated for the test set and shown together as a confusion matrix, which takes the following form:\n",
    "\n",
    "![image.png](attachment:image.png)\n",
    "\n",
    "Note that the correct (true) predictions form a diagonal line from top left to bottom right - these figures should be significantly higher than the false predictions if the model is any good.\n",
    "\n",
    "In Python, you can use the **sklearn.metrics.confusion_matrix** function to find these values for a trained classifier:"
   ]
  },
  {
   "cell_type": "code",
   "execution_count": 6,
   "id": "a9432b30",
   "metadata": {},
   "outputs": [
    {
     "name": "stdout",
     "output_type": "stream",
     "text": [
      "[[2638  348]\n",
      " [ 601  913]]\n"
     ]
    }
   ],
   "source": [
    "from sklearn.metrics import confusion_matrix\n",
    "\n",
    "# Print the confusion matrix\n",
    "cm = confusion_matrix(y_test, predictions)\n",
    "print (cm)"
   ]
  },
  {
   "cell_type": "markdown",
   "id": "1bf9d349",
   "metadata": {},
   "source": [
    "Until now, we've considered the predictions from the model as being either 1 or 0 class labels. [Şimdiye kadar, modelden gelen tahminleri 1 veya 0 sınıf etiketleri olarak değerlendirdik.] Actually, things are a little more complex than that. [Aslında, işler bundan biraz daha karmaşık.] Statistical machine learning algorithms, like logistic regression, are based on probability; so what actually gets predicted by a binary classifier is the probability that the label is true (P(y)) and the probability that the label is false (1 - P(y)). [Lojistik regresyon gibi istatistiksel makine öğrenimi algoritmaları olasılığa dayanır; yani bir ikili sınıflandırıcı tarafından gerçekte tahmin edilen şey, etiketin doğru olma olasılığı (P(y)) ve etiketin yanlış olma olasılığıdır (1 - P(y)).] A threshold value of 0.5 is used to decide whether the predicted label is a 1 (P(y) > 0.5) or a 0 (P(y) <= 0.5). [Öngörülen etiketin 1 (P(y) > 0,5) veya 0 (P(y) <\\u003d 0,5) olduğuna karar vermek için 0,5'lik bir eşik değeri kullanılır.] You can use the **predict_proba** method to see the probability pairs for each case: [Her bir durum için olasılık çiftlerini görmek için tahmin_proba yöntemini kullanabilirsiniz:]"
   ]
  },
  {
   "cell_type": "code",
   "execution_count": 8,
   "id": "1b4a4a3e",
   "metadata": {},
   "outputs": [
    {
     "name": "stdout",
     "output_type": "stream",
     "text": [
      "[[0.81648224 0.18351776]\n",
      " [0.96276583 0.03723417]\n",
      " [0.80813779 0.19186221]\n",
      " ...\n",
      " [0.60685226 0.39314774]\n",
      " [0.10771661 0.89228339]\n",
      " [0.63961855 0.36038145]]\n"
     ]
    }
   ],
   "source": [
    "y_scores = model.predict_proba(X_test)\n",
    "print(y_scores)"
   ]
  },
  {
   "cell_type": "markdown",
   "id": "8d50ee2c",
   "metadata": {},
   "source": [
    "The decision to score a prediction as a 1 or a 0 depends on the threshold to which the predicted probabilities are compared. [Bir tahmini 1 veya 0 olarak puanlama kararı, tahmin edilen olasılıkların karşılaştırıldığı eşiğe bağlıdır.] If we were to change the threshold, it would affect the predictions; and therefore change the metrics in the confusion matrix. [Eğer eşiği değiştirecek olsaydık, tahminleri etkilerdi; ve bu nedenle karışıklık matrisindeki metrikleri değiştirin.] A common way to evaluate a classifier is to examine the true positive rate (which is another name for recall) and the false positive rate for a range of possible thresholds. [Bir sınıflandırıcıyı değerlendirmenin yaygın bir yolu, bir dizi olası eşik için gerçek pozitif oranı (geri çağırma için başka bir isimdir) ve yanlış pozitif oranı incelemektir.] These rates are then plotted against all possible thresholds to form a chart known as a received operator characteristic (ROC) chart, like this: [Bu oranlar daha sonra, alınan operatör karakteristik (ROC) tablosu olarak bilinen bir tablo oluşturmak için tüm olası eşiklere karşı çizilir, bunun gibi:]"
   ]
  },
  {
   "cell_type": "code",
   "execution_count": 9,
   "id": "2685469d",
   "metadata": {},
   "outputs": [
    {
     "data": {
      "image/png": "[encoded data removed]",
      "text/plain": [
       "<Figure size 432x432 with 1 Axes>"
      ]
     },
     "metadata": {
      "needs_background": "light"
     },
     "output_type": "display_data"
    }
   ],
   "source": [
    "from sklearn.metrics import roc_curve\n",
    "from sklearn.metrics import confusion_matrix\n",
    "import matplotlib\n",
    "import matplotlib.pyplot as plt\n",
    "%matplotlib inline\n",
    "\n",
    "# calculate ROC curve\n",
    "fpr, tpr, thresholds = roc_curve(y_test, y_scores[:,1])\n",
    "\n",
    "# plot ROC curve\n",
    "fig = plt.figure(figsize=(6, 6))\n",
    "# Plot the diagonal 50% line\n",
    "plt.plot([0, 1], [0, 1], 'k--')\n",
    "# Plot the FPR and TPR achieved by our model\n",
    "plt.plot(fpr, tpr)\n",
    "plt.xlabel('False Positive Rate')\n",
    "plt.ylabel('True Positive Rate')\n",
    "plt.title('ROC Curve')\n",
    "plt.show()"
   ]
  },
  {
   "cell_type": "markdown",
   "id": "276b1e27",
   "metadata": {},
   "source": [
    "The ROC chart shows the curve of the true and false positive rates for different threshold values between 0 and 1. [ROC grafiği, 0 ile 1 arasındaki farklı eşik değerleri için doğru ve yanlış pozitif oranların eğrisini gösterir.] A perfect classifier would have a curve that goes straight up the left side and straight across the top. [Mükemmel bir sınıflandırıcı, doğrudan sol taraftan yukarı ve düz üst kısım boyunca uzanan bir eğriye sahip olacaktır.] The diagonal line across the chart represents the probability of predicting correctly with a 50/50 random prediction; so you obviously want the curve to be higher than that (or your model is no better than simply guessing!). [Grafikteki çapraz çizgi, 50/50 rastgele tahminle doğru tahmin yapma olasılığını temsil eder; yani açıkçası eğrinin bundan daha yüksek olmasını istiyorsunuz (veya modeliniz sadece tahmin etmekten daha iyi değil!).]\n",
    "\n",
    "The area under the curve (AUC) is a value between 0 and 1 that quantifies the overall performance of the model. [Eğrinin altındaki alan (AUC), modelin genel performansını ölçen 0 ile 1 arasında bir değerdir.] The closer to 1 this value is, the better the model. [Bu değer 1'e ne kadar yakınsa model o kadar iyidir.] Once again, scikit-Learn includes a function to calculate this metric. [Bir kez daha, scikit-Learn, bu metriği hesaplamak için bir fonksiyon içerir.]"
   ]
  },
  {
   "cell_type": "code",
   "execution_count": 10,
   "id": "999f12c9",
   "metadata": {},
   "outputs": [
    {
     "name": "stdout",
     "output_type": "stream",
     "text": [
      "AUC: 0.85685665647084\n"
     ]
    }
   ],
   "source": [
    "from sklearn.metrics import roc_auc_score\n",
    "\n",
    "auc = roc_auc_score(y_test,y_scores[:,1])\n",
    "print('AUC: ' + str(auc))"
   ]
  },
  {
   "cell_type": "markdown",
   "id": "00f336ba",
   "metadata": {},
   "source": [
    "### Perform preprocessing in a pipeline\n",
    "\n",
    "In this case, the ROC curve and its AUC indicate that the model performs better than a random guess which is not bad considering we performed very little preprocessing of the data.\n",
    "\n",
    "In practice, it's common to perform some preprocessing of the data to make it easier for the algorithm to fit a model to it. There's a huge range of preprocessing transformations you can perform to get your data ready for modeling, but we'll limit ourselves to a few common techniques:\n",
    "\n",
    "- Scaling numeric features so they're on the same scale. This prevents features with large values from producing coefficients that disproportionately affect the predictions.\n",
    "\n",
    "- Encoding categorical variables. For example, by using a one hot encoding technique you can create individual binary (true/false) features for each possible category value.\n",
    "\n",
    "To apply these preprocessing transformations, we'll make use of a Scikit-Learn feature named pipelines. These enable us to define a set of preprocessing steps that end with an algorithm. You can then fit the entire pipeline to the data, so that the model encapsulates all of the preprocessing steps as well as the regression algorithm. This is useful, because when we want to use the model to predict values from new data, we need to apply the same transformations (based on the same statistical distributions and category encodings used with the training data).\n",
    "\n",
    "**Note**: The term pipeline is used extensively in machine learning, often to mean very different things! In this context, we're using it to refer to pipeline objects in Scikit-Learn, but you may see it used elsewhere to mean something else.\n"
   ]
  },
  {
   "cell_type": "code",
   "execution_count": 11,
   "id": "58648bdd",
   "metadata": {},
   "outputs": [
    {
     "name": "stdout",
     "output_type": "stream",
     "text": [
      "Pipeline(steps=[('preprocessor',\n",
      "                 ColumnTransformer(transformers=[('num',\n",
      "                                                  Pipeline(steps=[('scaler',\n",
      "                                                                   StandardScaler())]),\n",
      "                                                  [0, 1, 2, 3, 4, 5, 6]),\n",
      "                                                 ('cat',\n",
      "                                                  Pipeline(steps=[('onehot',\n",
      "                                                                   OneHotEncoder(handle_unknown='ignore'))]),\n",
      "                                                  [7])])),\n",
      "                ('logregressor',\n",
      "                 LogisticRegression(C=100.0, solver='liblinear'))])\n"
     ]
    }
   ],
   "source": [
    "# Train the model\n",
    "from sklearn.compose import ColumnTransformer\n",
    "from sklearn.pipeline import Pipeline\n",
    "from sklearn.preprocessing import StandardScaler, OneHotEncoder\n",
    "from sklearn.linear_model import LogisticRegression\n",
    "import numpy as np\n",
    "\n",
    "# Define preprocessing for numeric columns (normalize them so they're on the same scale)\n",
    "numeric_features = [0,1,2,3,4,5,6]\n",
    "numeric_transformer = Pipeline(steps=[\n",
    "    ('scaler', StandardScaler())])\n",
    "\n",
    "# Define preprocessing for categorical features (encode the Age column)\n",
    "categorical_features = [7]\n",
    "categorical_transformer = Pipeline(steps=[\n",
    "    ('onehot', OneHotEncoder(handle_unknown='ignore'))])\n",
    "\n",
    "# Combine preprocessing steps\n",
    "preprocessor = ColumnTransformer(\n",
    "    transformers=[\n",
    "        ('num', numeric_transformer, numeric_features),\n",
    "        ('cat', categorical_transformer, categorical_features)])\n",
    "\n",
    "# Create preprocessing and training pipeline\n",
    "pipeline = Pipeline(steps=[('preprocessor', preprocessor),\n",
    "                           ('logregressor', LogisticRegression(C=1/reg, solver=\"liblinear\"))])\n",
    "\n",
    "\n",
    "# fit the pipeline to train a logistic regression model on the training set\n",
    "model = pipeline.fit(X_train, (y_train))\n",
    "print (model)"
   ]
  },
  {
   "cell_type": "markdown",
   "id": "534bc32a",
   "metadata": {},
   "source": [
    "The pipeline encapsulates the preprocessing steps as well as model training. [İşlem hattı, model eğitiminin yanı sıra ön işleme adımlarını da kapsar.]\n",
    "\n",
    "Let's use the model trained by this pipeline to predict labels for our test set, and compare the performance metrics with the basic model we created previously. [Test setimiz için etiketleri tahmin etmek için bu ardışık düzen tarafından eğitilen modeli kullanalım ve performans ölçümlerini daha önce oluşturduğumuz temel modelle karşılaştıralım.]"
   ]
  },
  {
   "cell_type": "code",
   "execution_count": 12,
   "id": "8956679b",
   "metadata": {},
   "outputs": [
    {
     "name": "stdout",
     "output_type": "stream",
     "text": [
      "Confusion Matrix:\n",
      " [[2667  319]\n",
      " [ 406 1108]] \n",
      "\n",
      "Accuracy: 0.8388888888888889\n",
      "Overall Precision: 0.7764540995094604\n",
      "Overall Recall: 0.7318361955085865\n",
      "AUC: 0.9202436115345854\n"
     ]
    },
    {
     "data": {
      "image/png": "[encoded data removed]",
      "text/plain": [
       "<Figure size 432x432 with 1 Axes>"
      ]
     },
     "metadata": {
      "needs_background": "light"
     },
     "output_type": "display_data"
    }
   ],
   "source": [
    "# Get predictions from test data\n",
    "predictions = model.predict(X_test)\n",
    "y_scores = model.predict_proba(X_test)\n",
    "\n",
    "# Get evaluation metrics\n",
    "cm = confusion_matrix(y_test, predictions)\n",
    "print ('Confusion Matrix:\\n',cm, '\\n')\n",
    "print('Accuracy:', accuracy_score(y_test, predictions))\n",
    "print(\"Overall Precision:\",precision_score(y_test, predictions))\n",
    "print(\"Overall Recall:\",recall_score(y_test, predictions))\n",
    "auc = roc_auc_score(y_test,y_scores[:,1])\n",
    "print('AUC: ' + str(auc))\n",
    "\n",
    "# calculate ROC curve\n",
    "fpr, tpr, thresholds = roc_curve(y_test, y_scores[:,1])\n",
    "\n",
    "# plot ROC curve\n",
    "fig = plt.figure(figsize=(6, 6))\n",
    "# Plot the diagonal 50% line\n",
    "plt.plot([0, 1], [0, 1], 'k--')\n",
    "# Plot the FPR and TPR achieved by our model\n",
    "plt.plot(fpr, tpr)\n",
    "plt.xlabel('False Positive Rate')\n",
    "plt.ylabel('True Positive Rate')\n",
    "plt.title('ROC Curve')\n",
    "plt.show()"
   ]
  },
  {
   "cell_type": "markdown",
   "id": "f011510b",
   "metadata": {},
   "source": [
    "The results look a little better, so clearly preprocessing the data has made a difference.\n",
    "\n",
    "### Try a different algorithm\n",
    "\n",
    "Now let's try a different algorithm. Previously we used a logistic regression algorithm, which is a linear algorithm. There are many kinds of classification algorithm we could try, including:\n",
    "\n",
    "- **Support Vector Machine algorithms**: Algorithms that define a hyperplane that separates classes.\n",
    "\n",
    "- **Tree-based algorithms**: Algorithms that build a decision tree to reach a prediction\n",
    "\n",
    "- **Ensemble algorithms**: Algorithms that combine the outputs of multiple base algorithms to improve generalizability.\n",
    "\n",
    "This time, We'll use the same preprocessing steps as before, but we'll train the model using an ensemble algorithm named Random Forest that combines the outputs of multiple random decision trees (for more details, see the Scikit-Learn documentation). (https://scikit-learn.org/stable/modules/ensemble.html#forests-of-randomized-trees)"
   ]
  },
  {
   "cell_type": "code",
   "execution_count": 13,
   "id": "45b99385",
   "metadata": {},
   "outputs": [
    {
     "name": "stdout",
     "output_type": "stream",
     "text": [
      "Pipeline(steps=[('preprocessor',\n",
      "                 ColumnTransformer(transformers=[('num',\n",
      "                                                  Pipeline(steps=[('scaler',\n",
      "                                                                   StandardScaler())]),\n",
      "                                                  [0, 1, 2, 3, 4, 5, 6]),\n",
      "                                                 ('cat',\n",
      "                                                  Pipeline(steps=[('onehot',\n",
      "                                                                   OneHotEncoder(handle_unknown='ignore'))]),\n",
      "                                                  [7])])),\n",
      "                ('logregressor', RandomForestClassifier())])\n"
     ]
    }
   ],
   "source": [
    "from sklearn.ensemble import RandomForestClassifier\n",
    "\n",
    "# Create preprocessing and training pipeline\n",
    "pipeline = Pipeline(steps=[('preprocessor', preprocessor),\n",
    "                           ('logregressor', RandomForestClassifier(n_estimators=100))])\n",
    "\n",
    "# fit the pipeline to train a random forest model on the training set\n",
    "model = pipeline.fit(X_train, (y_train))\n",
    "print (model)"
   ]
  },
  {
   "cell_type": "markdown",
   "id": "32535a72",
   "metadata": {},
   "source": [
    "Let's look at the performance metrics for the new model."
   ]
  },
  {
   "cell_type": "code",
   "execution_count": 14,
   "id": "7e7c0e62",
   "metadata": {},
   "outputs": [
    {
     "name": "stdout",
     "output_type": "stream",
     "text": [
      "Confusion Matrix:\n",
      " [[2856  130]\n",
      " [ 178 1336]] \n",
      "\n",
      "Accuracy: 0.9315555555555556\n",
      "Overall Precision: 0.9113233287858117\n",
      "Overall Recall: 0.8824306472919419\n",
      "\n",
      "AUC: 0.9818844170196275\n"
     ]
    },
    {
     "data": {
      "image/png": "[encoded data removed]",
      "text/plain": [
       "<Figure size 432x432 with 1 Axes>"
      ]
     },
     "metadata": {
      "needs_background": "light"
     },
     "output_type": "display_data"
    }
   ],
   "source": [
    "predictions = model.predict(X_test)\n",
    "y_scores = model.predict_proba(X_test)\n",
    "cm = confusion_matrix(y_test, predictions)\n",
    "print ('Confusion Matrix:\\n',cm, '\\n')\n",
    "print('Accuracy:', accuracy_score(y_test, predictions))\n",
    "print(\"Overall Precision:\",precision_score(y_test, predictions))\n",
    "print(\"Overall Recall:\",recall_score(y_test, predictions))\n",
    "auc = roc_auc_score(y_test,y_scores[:,1])\n",
    "print('\\nAUC: ' + str(auc))\n",
    "\n",
    "# calculate ROC curve\n",
    "fpr, tpr, thresholds = roc_curve(y_test, y_scores[:,1])\n",
    "\n",
    "# plot ROC curve\n",
    "fig = plt.figure(figsize=(6, 6))\n",
    "# Plot the diagonal 50% line\n",
    "plt.plot([0, 1], [0, 1], 'k--')\n",
    "# Plot the FPR and TPR achieved by our model\n",
    "plt.plot(fpr, tpr)\n",
    "plt.xlabel('False Positive Rate')\n",
    "plt.ylabel('True Positive Rate')\n",
    "plt.title('ROC Curve')\n",
    "plt.show()"
   ]
  },
  {
   "cell_type": "markdown",
   "id": "c6d386dd",
   "metadata": {},
   "source": [
    "That looks better!\n",
    "\n",
    "### Use the Model for Inferencing\n",
    "\n",
    "Now that we have a reasonably useful trained model, we can save it for use later to predict labels for new data:"
   ]
  },
  {
   "cell_type": "code",
   "execution_count": 15,
   "id": "92327e92",
   "metadata": {},
   "outputs": [
    {
     "data": {
      "text/plain": [
       "['./diabetes_model.pkl']"
      ]
     },
     "execution_count": 15,
     "metadata": {},
     "output_type": "execute_result"
    }
   ],
   "source": [
    "import joblib\n",
    "\n",
    "# Save the model as a pickle file\n",
    "filename = './diabetes_model.pkl'\n",
    "joblib.dump(model, filename)"
   ]
  },
  {
   "cell_type": "markdown",
   "id": "2151ef52",
   "metadata": {},
   "source": [
    "When we have some new observations for which the label is unknown, we can load the model and use it to predict values for the unknown label:"
   ]
  },
  {
   "cell_type": "code",
   "execution_count": 16,
   "id": "c87cb3c2",
   "metadata": {},
   "outputs": [
    {
     "name": "stdout",
     "output_type": "stream",
     "text": [
      "New sample: [2.0, 180.0, 74.0, 24.0, 21.0, 23.9091702, 1.488172308, 22.0]\n",
      "Predicted class is 1\n"
     ]
    }
   ],
   "source": [
    "# Load the model from the file\n",
    "model = joblib.load(filename)\n",
    "\n",
    "# predict on a new sample\n",
    "# The model accepts an array of feature arrays (so you can predict the classes of multiple patients in a single call)\n",
    "# We'll create an array with a single array of features, representing one patient\n",
    "X_new = np.array([[2,180,74,24,21,23.9091702,1.488172308,22]])\n",
    "print ('New sample: {}'.format(list(X_new[0])))\n",
    "\n",
    "# Get a prediction\n",
    "pred = model.predict(X_new)\n",
    "\n",
    "# The model returns an array of predictions - one for each set of features submitted\n",
    "# In our case, we only submitted one patient, so our prediction is the first one in the resulting array.\n",
    "print('Predicted class is {}'.format(pred[0]))"
   ]
  },
  {
   "cell_type": "markdown",
   "id": "8ef3912d",
   "metadata": {},
   "source": [
    "### Summary\n",
    "\n",
    "In this notebook, we looked at a range of metrics for binary classification and tried a few algorithms beyond logistic regression. We will move onto more complex classification problems in the following notebook."
   ]
  },
  {
   "cell_type": "code",
   "execution_count": null,
   "id": "991e625d",
   "metadata": {},
   "outputs": [],
   "source": []
  }
 ],
 "metadata": {
  "kernelspec": {
   "display_name": "Python 3 (ipykernel)",
   "language": "python",
   "name": "python3"
  },
  "language_info": {
   "codemirror_mode": {
    "name": "ipython",
    "version": 3
   },
   "file_extension": ".py",
   "mimetype": "text/x-python",
   "name": "python",
   "nbconvert_exporter": "python",
   "pygments_lexer": "ipython3",
   "version": "3.8.12"
  }
 },
 "nbformat": 4,
 "nbformat_minor": 5
}
