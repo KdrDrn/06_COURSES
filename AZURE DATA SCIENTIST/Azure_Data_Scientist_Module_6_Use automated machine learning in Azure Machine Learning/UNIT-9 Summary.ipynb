{
 "cells": [
  {
   "cell_type": "markdown",
   "id": "1691fb69",
   "metadata": {},
   "source": [
    "## Summary\n",
    "\n",
    "In this module, you explored machine learning and learned how to use the automated machine learning capability of Azure Machine Learning to train and deploy a predictive model. [Bu modülde, makine öğrenimini keşfettiniz ve tahmine dayalı bir modeli eğitmek ve dağıtmak için Azure Machine Learning'in otomatik makine öğrenimi özelliğini nasıl kullanacağınızı öğrendiniz.]\n",
    "\n",
    "### Clean-up\n",
    "\n",
    "The web service you created is hosted in an Azure Container Instance. [Oluşturduğunuz web hizmeti bir Azure Container Instance içinde barındırılır.] If you don't intend to experiment with it further, you should delete the endpoint to avoid accruing unnecessary Azure usage. [Daha fazla deneme yapmayı düşünmüyorsanız, gereksiz Azure kullanımından kaçınmak için uç noktayı silmelisiniz.] You should also stop the training cluster and compute instance resources until you need them again. [Ayrıca, tekrar ihtiyacınız olana kadar eğitim kümesini durdurmalı ve örnek kaynaklarını hesaplamalısınız.]\n",
    "\n",
    "1. In Azure Machine Learning studio, on the **Endpoints** tab, select the **predict-rentals** endpoint. [Azure Machine Learning stüdyosunda, Uç Noktalar sekmesinde, tahmin kiralama uç noktasını seçin.] Then select **Delete (🗑)** and confirm that you want to delete the endpoint. [Ardından Sil (🗑) öğesini seçin ve bitiş noktasını silmek istediğinizi onaylayın.]\n",
    "\n",
    "2. On the **Compute** page, on the **Compute Instances** tab, select your compute instance and then select **Stop**. [İşlem sayfasında, İşlem Örnekleri sekmesinde işlem bulut sunucunuzu seçin ve ardından Durdur'u seçin.]\n",
    " \n",
    "**Note**\n",
    "\n",
    "Stopping your compute ensures your subscription won't be charged for compute resources. [İşleminizi durdurmak, aboneliğinizin işlem kaynakları için ücretlendirilmemesini sağlar.] You will however be charged a small amount for data storage as long as the Azure Machine Learning workspace exists in your subscription. [Ancak, aboneliğinizde Azure Machine Learning çalışma alanı bulunduğu sürece, veri depolama için küçük bir miktar ücretlendirilirsiniz.] If you have finished exploring Azure Machine Learning, you can delete the Azure Machine Learning workspace and associated resources. [Azure Machine Learning keşfetmeyi bitirdiyseniz Azure Machine Learning çalışma alanını ve ilişkili kaynakları silebilirsiniz.] However, if you plan to complete any other labs in this series, you will need to recreate it. [Ancak, bu serideki diğer laboratuvarları tamamlamayı planlıyorsanız, onu yeniden oluşturmanız gerekecektir.]\n",
    "\n",
    "To delete your workspace: [Çalışma alanınızı silmek için:]\n",
    "\n",
    "1. In the **Azure portal**, in the **Resource groups** page, open the resource group you specified when creating your Azure Machine Learning workspace. [Azure portalında, Kaynak grupları sayfasında, Azure Machine Learning çalışma alanınızı oluştururken belirttiğiniz kaynak grubunu açın.]\n",
    "\n",
    "2. Click **Delete resource group**, type the resource group name to confirm you want to delete it, and select Delete. [Kaynak grubunu sil'e tıklayın, silmek istediğinizi onaylamak için kaynak grubu adını yazın ve Sil'i seçin.]"
   ]
  },
  {
   "cell_type": "code",
   "execution_count": null,
   "id": "f24b6208",
   "metadata": {},
   "outputs": [],
   "source": []
  }
 ],
 "metadata": {
  "kernelspec": {
   "display_name": "Python 3 (ipykernel)",
   "language": "python",
   "name": "python3"
  },
  "language_info": {
   "codemirror_mode": {
    "name": "ipython",
    "version": 3
   },
   "file_extension": ".py",
   "mimetype": "text/x-python",
   "name": "python",
   "nbconvert_exporter": "python",
   "pygments_lexer": "ipython3",
   "version": "3.8.12"
  }
 },
 "nbformat": 4,
 "nbformat_minor": 5
}
