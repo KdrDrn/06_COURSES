{
 "cells": [
  {
   "cell_type": "markdown",
   "id": "ad6c9c2d",
   "metadata": {},
   "source": [
    "## Explore data\n",
    "\n",
    "Machine learning models must be trained with existing data. [Makine öğrenimi modelleri mevcut verilerle eğitilmelidir.] In this case, you'll use a dataset of historical bicycle rental details to train a model that predicts the number of bicycle rentals that should be expected on a given day, based on seasonal and meteorological features. [Bu durumda, mevsimsel ve meteorolojik özelliklere dayalı olarak belirli bir günde olması beklenen bisiklet kiralama sayısını tahmin eden bir modeli eğitmek için tarihsel bisiklet kiralama ayrıntılarının bir veri kümesini kullanacaksınız.]\n",
    "\n",
    "### Create a dataset\n",
    "\n",
    "In Azure Machine Learning, data for model training and other operations is usually encapsulated in an object called a dataset. [Azure Machine Learning'de, model eğitimi ve diğer işlemler için veriler genellikle veri kümesi adı verilen bir nesnede kapsüllenir.]\n",
    "\n",
    "1. View the comma-separated data at https://aka.ms/bike-rentals in your web browser. [Web tarayıcınızda https://aka.ms/bike-rentals adresinde virgülle ayrılmış verileri görüntüleyin.]\n",
    "\n",
    "2. In Azure Machine Learning studio, view the Datasets page. [Azure Machine Learning stüdyosunda Veri Kümeleri sayfasını görüntüleyin.] Datasets represent specific data files or tables that you plan to work with in Azure ML. [Veri kümeleri, Azure ML'de birlikte çalışmayı planladığınız belirli veri dosyalarını veya tabloları temsil eder.]\n",
    "\n",
    "3. Create a new dataset from web files, using the following settings: [Aşağıdaki ayarları kullanarak web dosyalarından yeni bir veri kümesi oluşturun:]\n",
    "    - Basic Info: [Temel bilgi:]\n",
    "\n",
    "        - Web URL: https://aka.ms/bike-rentals [Web URL'si: https://aka.ms/bike-rentals]\n",
    "\n",
    "        - Name: bike-rentals [İsim: bisiklet kiralama]\n",
    "\n",
    "        - Dataset type: Tabular [Veri kümesi türü: Tablo]\n",
    "\n",
    "        - Description: Bicycle rental data [Açıklama: Bisiklet kiralama verileri]\n",
    "\n",
    "    - Settings and preview: [Ayarlar ve önizleme:]\n",
    "\n",
    "        - File format: Delimited [Dosya biçimi: Sınırlandırılmış]\n",
    "\n",
    "        - Delimiter: Comma [Ayırıcı: Virgül]\n",
    "\n",
    "        - Encoding: UTF-8 [Kodlama: UTF-8]\n",
    "\n",
    "        - Column headers: Only first file has headers [Sütun başlıkları: Yalnızca ilk dosyanın başlıkları var]\n",
    "\n",
    "        - Skip rows: None [Satır atla: Yok]\n",
    "\n",
    "        - Dataset contains multi-line data: Do not select [Veri kümesi çok satırlı veriler içeriyor: Seçmeyin]\n",
    "\n",
    "    - Schema: [Şema:]\n",
    "\n",
    "        - Include all columns other than Path [Yol dışındaki tüm sütunları dahil et]\n",
    "\n",
    "        - Review the automatically detected types [Otomatik olarak algılanan türleri gözden geçirin]\n",
    "\n",
    "    - Confirm details: [Ayrıntıları onaylayın:]\n",
    "\n",
    "        - Do not profile the dataset after creation [Oluşturulduktan sonra veri kümesinin profilini çıkarmayın]\n",
    "\n",
    "4. After the dataset has been created, open it and view the Explore page to see a sample of the data. [Veri kümesi oluşturulduktan sonra açın ve verilerin bir örneğini görmek için Keşfet sayfasını görüntüleyin.] This data contains historical features and labels for bike rentals. [Bu veriler, bisiklet kiralama için geçmiş özellikleri ve etiketleri içerir.]\n",
    "\n",
    "**Citation**: This data is derived from Capital Bikeshare (https://ride.capitalbikeshare.com/system-data) and is used in accordance with the published data license agreement (https://ride.capitalbikeshare.com/data-license-agreement). [Alıntı: Bu veriler Capital Bikeshare'den türetilmiştir ve yayınlanan veri lisans sözleşmesine uygun olarak kullanılır.]\n",
    "\n"
   ]
  },
  {
   "cell_type": "code",
   "execution_count": null,
   "id": "c5046de9",
   "metadata": {},
   "outputs": [],
   "source": []
  }
 ],
 "metadata": {
  "kernelspec": {
   "display_name": "Python 3 (ipykernel)",
   "language": "python",
   "name": "python3"
  },
  "language_info": {
   "codemirror_mode": {
    "name": "ipython",
    "version": 3
   },
   "file_extension": ".py",
   "mimetype": "text/x-python",
   "name": "python",
   "nbconvert_exporter": "python",
   "pygments_lexer": "ipython3",
   "version": "3.8.12"
  }
 },
 "nbformat": 4,
 "nbformat_minor": 5
}
