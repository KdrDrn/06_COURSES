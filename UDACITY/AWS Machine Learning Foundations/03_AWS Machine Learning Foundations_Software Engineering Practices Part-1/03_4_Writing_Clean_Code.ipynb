{
  "nbformat": 4,
  "nbformat_minor": 0,
  "metadata": {
    "colab": {
      "name": "1_Writing_Clean_Code.ipynb",
      "provenance": [],
      "collapsed_sections": [],
      "toc_visible": true
    },
    "kernelspec": {
      "name": "python3",
      "display_name": "Python 3"
    },
    "language_info": {
      "name": "python"
    }
  },
  "cells": [
    {
      "cell_type": "markdown",
      "metadata": {
        "id": "B2PX-a1OVBso"
      },
      "source": [
        "#Writing Clean Code"
      ]
    },
    {
      "cell_type": "markdown",
      "metadata": {
        "id": "jFfQ3xYtVRIc"
      },
      "source": [
        "## Tip: use meaningful names\n",
        "\n",
        "- Be descriptive and imply type\n",
        "- Be consistent but clearly differentiate\n",
        "- Avoid abbreviations and single letters\n",
        "- Long names aren't the same as descriptive names\n",
        "\n"
      ]
    },
    {
      "cell_type": "markdown",
      "metadata": {
        "id": "kRcLIW1bYSpk"
      },
      "source": [
        "### Example 01"
      ]
    },
    {
      "cell_type": "code",
      "metadata": {
        "colab": {
          "base_uri": "https://localhost:8080/"
        },
        "id": "TZee3DwjVcCx",
        "outputId": "cdd1d66a-db5c-42aa-88fb-5e23c066ad8e"
      },
      "source": [
        "# bady\n",
        "\n",
        "# student test scores\n",
        "s = [88, 92, 70, 93, 85]\n",
        "\n",
        "# print mean of test scores\n",
        "print(sum(s)/len(s))\n",
        "\n",
        "# curve scores with square root method and store in new list\n",
        "s1 = [x ** 0.5 * 10 for x in s]\n",
        "\n",
        "# print mean of curved test scores\n",
        "print(sum(s1)/len(s1))"
      ],
      "execution_count": null,
      "outputs": [
        {
          "output_type": "stream",
          "name": "stdout",
          "text": [
            "85.6\n",
            "92.4045800997978\n"
          ]
        }
      ]
    },
    {
      "cell_type": "code",
      "metadata": {
        "colab": {
          "base_uri": "https://localhost:8080/"
        },
        "id": "jzZ39rXjWgRu",
        "outputId": "b83aaeeb-21e6-4806-eee7-bc97be4f9b34"
      },
      "source": [
        "# better\n",
        "\n",
        "import math\n",
        "import numpy as np\n",
        "\n",
        "# student test scores\n",
        "test_scores = [88, 92, 70, 93, 85]\n",
        "\n",
        "# print mean of test scores\n",
        "print(np.mean(test_scores))\n",
        "\n",
        "# curve scores with square root method and store in new list\n",
        "curved_test_scores = [math.sqrt(score) * 10 for score in test_scores]\n",
        "\n",
        "# print mean of curved test scores\n",
        "print(np.mean(curved_test_scores))"
      ],
      "execution_count": null,
      "outputs": [
        {
          "output_type": "stream",
          "name": "stdout",
          "text": [
            "85.6\n",
            "92.4045800997978\n"
          ]
        }
      ]
    },
    {
      "cell_type": "markdown",
      "metadata": {
        "id": "zZ52LmG1W-sT"
      },
      "source": [
        "### Exemple 02"
      ]
    },
    {
      "cell_type": "code",
      "metadata": {
        "id": "kAFyw9A8YZ0a"
      },
      "source": [
        "# bad\n",
        "\n",
        "ages = [47, 12, 28, 52, 35]\n",
        "for i, age in enumerate(ages):\n",
        "  if age < 18:\n",
        "    minor = True\n",
        "    ages[i] = \"minor\"\n",
        "  # some other code"
      ],
      "execution_count": null,
      "outputs": []
    },
    {
      "cell_type": "code",
      "metadata": {
        "id": "ub9bpvVBYqIv"
      },
      "source": [
        "# better\n",
        "\n",
        "age_list = [47, 12, 28, 52, 35]\n",
        "for i, age in enumerate(age_list):\n",
        "    if age < 18:\n",
        "        is_minor = True\n",
        "        age_list[i] = \"minor\"\n",
        "    # some other code"
      ],
      "execution_count": null,
      "outputs": []
    },
    {
      "cell_type": "markdown",
      "metadata": {
        "id": "q-c3_m7BZUan"
      },
      "source": [
        "### Example 03"
      ]
    },
    {
      "cell_type": "code",
      "metadata": {
        "id": "e2iSATvRZVi7"
      },
      "source": [
        "# bad\n",
        "\n",
        "def count_unique_values_of_names_list_with_set(names_list):\n",
        "    return len(set(names_list))"
      ],
      "execution_count": null,
      "outputs": []
    },
    {
      "cell_type": "code",
      "metadata": {
        "id": "z0FlNE8WZgW5"
      },
      "source": [
        "# better\n",
        "\n",
        "def count_unique_values(arr):\n",
        "    return len(set(arr))"
      ],
      "execution_count": null,
      "outputs": []
    },
    {
      "cell_type": "markdown",
      "metadata": {
        "id": "EXkLRMhsanV5"
      },
      "source": [
        "## Tip: use whitespace properly\n",
        "\n",
        "- Organize your code with consistent indentation: the standard is to use four spaces for each indent. You can make this a default in your text editor (in Google Colab: Tools/Settings/Editor)\n",
        "- Separate sections with blank lines to keep your code well organized and readable.\n",
        "- Try to limit your lines to around 79 characters, which is the guideline given in the [PEP 8 style guide](https://www.python.org/dev/peps/pep-0008/?#code-lay-out). In many good text editors, there is a setting to display a subtle line that indicates where the 79 character limit is."
      ]
    },
    {
      "cell_type": "markdown",
      "metadata": {
        "id": "Vz7sGoITantJ"
      },
      "source": [
        "# Writing Modular Code"
      ]
    },
    {
      "cell_type": "markdown",
      "metadata": {
        "id": "wyfqE5iyFoBk"
      },
      "source": [
        "## Tip: DRY (Don't Repeat Yourself)\n",
        "\n",
        "Don't repeat yourself! Modularization allows you to reuse parts of your code. Generalize and consolidate repeated code in functions or loops.\n"
      ]
    },
    {
      "cell_type": "markdown",
      "metadata": {
        "id": "RtCCTOvtIOLI"
      },
      "source": [
        "### Example 4"
      ]
    },
    {
      "cell_type": "code",
      "metadata": {
        "colab": {
          "base_uri": "https://localhost:8080/"
        },
        "id": "a61ND2G_HByJ",
        "outputId": "a9ba5ac0-c942-422e-b6ef-9c88d79f968b"
      },
      "source": [
        "# bady\n",
        "\n",
        "s = [88, 92, 79, 93, 85]\n",
        "print(sum(s)/len(s))\n",
        "\n",
        "s1 = []\n",
        "for x in s:\n",
        "    s1.append(x+5)\n",
        "\n",
        "print(sum(s1)/len(s1))\n",
        "\n",
        "s2 = []\n",
        "for x in s:\n",
        "    s2.append(x+10)\n",
        "\n",
        "print(sum(s2)/len(s2))\n",
        "\n",
        "s3 = []\n",
        "for x in s:\n",
        "    s3.append(x ** 0.5 * 10)\n",
        "\n",
        "print(sum(s3)/len(s3))"
      ],
      "execution_count": null,
      "outputs": [
        {
          "output_type": "stream",
          "name": "stdout",
          "text": [
            "87.4\n",
            "92.4\n",
            "97.4\n",
            "93.44776840374746\n"
          ]
        }
      ]
    },
    {
      "cell_type": "code",
      "metadata": {
        "colab": {
          "base_uri": "https://localhost:8080/"
        },
        "id": "PFbe_oIoIVVo",
        "outputId": "1c04fa90-a373-4351-c8a7-ecb2ff3d9b57"
      },
      "source": [
        "# little better\n",
        "\n",
        "import math\n",
        "import numpy as np\n",
        "\n",
        "test_scores = s = [88, 92, 79, 93, 85]\n",
        "print(np.mean(test_scores))\n",
        "\n",
        "curved_5 = [score + 5 for score in test_scores]\n",
        "print(np.mean(curved_5))\n",
        "\n",
        "curved_10 = [score + 10 for score in test_scores]\n",
        "print(np.mean(curved_10))\n",
        "\n",
        "curved_sqrt = [math.sqrt(score) * 10 for score in test_scores]\n",
        "print(np.mean(curved_sqrt))"
      ],
      "execution_count": null,
      "outputs": [
        {
          "output_type": "stream",
          "name": "stdout",
          "text": [
            "87.4\n",
            "92.4\n",
            "97.4\n",
            "93.44776840374746\n"
          ]
        }
      ]
    },
    {
      "cell_type": "markdown",
      "metadata": {
        "id": "M8T4p-I5F6u8"
      },
      "source": [
        "## Tip: Abstract out logic to improve readability\n",
        "\n",
        "Abstracting out code into a function not only makes it less repetitive, but also improves readability with descriptive function names. Although your code can become more readable when you abstract out logic into functions, it is possible to over-engineer this and have way too many modules, so use your judgement.\n"
      ]
    },
    {
      "cell_type": "markdown",
      "metadata": {
        "id": "QS6xuYgtJjiv"
      },
      "source": [
        "### Example 5"
      ]
    },
    {
      "cell_type": "code",
      "metadata": {
        "colab": {
          "base_uri": "https://localhost:8080/"
        },
        "id": "SPGQR47JJl_M",
        "outputId": "849af031-8ba1-4dc2-ab6b-6d89c8d86841"
      },
      "source": [
        "# better\n",
        "\n",
        "import math\n",
        "import numpy as np\n",
        "\n",
        "def flat_curve(arr, n):\n",
        "    return [i + n for i in arr]\n",
        "\n",
        "def square_root_curve(arr):\n",
        "    return [math.sqrt(i) * 10 for i in arr]\n",
        "\n",
        "test_scores = s = [88, 92, 79, 93, 85]\n",
        "curved_5 = flat_curve(test_scores, 5)\n",
        "curved_10 = flat_curve(test_scores, 10)\n",
        "curved_sqrt = square_root_curve(test_scores)\n",
        "\n",
        "for score_list in test_scores, curved_5, curved_10, curved_sqrt:\n",
        "    print(np.mean(score_list))"
      ],
      "execution_count": null,
      "outputs": [
        {
          "output_type": "stream",
          "name": "stdout",
          "text": [
            "87.4\n",
            "92.4\n",
            "97.4\n",
            "93.44776840374746\n"
          ]
        }
      ]
    },
    {
      "cell_type": "markdown",
      "metadata": {
        "id": "LYbJUgYpF95Q"
      },
      "source": [
        "## Tip: Minimize the number of entities (functions, classes, modules, etc.)\n",
        "\n",
        "There are trade-offs to having function calls instead of inline logic. If you have broken up your code into an unnecessary amount of functions and modules, you'll have to jump around everywhere if you want to view the implementation details for something that may be too small to be worth it. Creating more modules doesn't necessarily result in effective modularization.\n"
      ]
    },
    {
      "cell_type": "markdown",
      "metadata": {
        "id": "4nGqrVgOGDEK"
      },
      "source": [
        "## Tip: Functions should do one thing\n",
        "\n",
        "Each function you write should be focused on doing one thing. If a function is doing multiple things, it becomes more difficult to generalize and reuse. Generally, if there's an \"and\" in your function name, consider refactoring.\n"
      ]
    },
    {
      "cell_type": "markdown",
      "metadata": {
        "id": "tz-Rob0-GIZZ"
      },
      "source": [
        "\n",
        "##Tip: Arbitrary variable names can be more effective in certain functions\n",
        "\n",
        "Arbitrary variable names in general functions can actually make the code more readable.\n"
      ]
    },
    {
      "cell_type": "markdown",
      "metadata": {
        "id": "nwN0vnoaGJlf"
      },
      "source": [
        "\n",
        "### Tip: Try to use fewer than three arguments per function\n",
        "\n",
        "Try to use no more than three arguments when possible. This is not a hard rule and there are times when it is more appropriate to use many parameters. But in many cases, it's more effective to use fewer arguments. Remember we are modularizing to simplify our code and make it more efficient. If your function has a lot of parameters, you may want to rethink how you are splitting this up.\n",
        "\n"
      ]
    }
  ]
}