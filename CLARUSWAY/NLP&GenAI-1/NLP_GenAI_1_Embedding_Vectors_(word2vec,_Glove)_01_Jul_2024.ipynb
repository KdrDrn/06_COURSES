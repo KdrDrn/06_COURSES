{
  "cells": [
    {
      "cell_type": "markdown",
      "metadata": {
        "id": "S56PVOFBhgwv"
      },
      "source": [
        "## Word_embedding\n",
        "\n",
        "Word embedding, bir kelime veya ifadenin düz bir vektör olarak ifade edilmesidir. Bu vektörler, kelimelerin arasındaki benzerlikleri yansıtmak üzere model tarfından öğrenilir. Bu sayede, yapay zeka modelleri kelimeler arasındaki ilişkileri daha iyi anlayabilir\n",
        "\n",
        "Word embedding, metin verileri kullanılarak öğrenilir. Örneğin, bir metin corpus'u (büyük metin veritabanı) kullanılarak, her kelime için çevresindeki kelimeler ile ilişkisini öğrenir. Bu ilişki, kelime ve çevresindeki kelimeler arasındaki co-occurrence (ortak görünüm) frekansı olarak tanımlanır. Daha sonra, bu co-occurrence verileri kullanarak, her kelime için bir vektör oluşturulur. Bu vektörler, kelimelerin anlamları arasındaki benzerlikleri yansıtmak üzere tasarlanır.\n",
        "\n",
        "Örneğin, \"öğretmen\", \"öğrenci\", \"not verme\" kelimeleri sıklıkla aynı metinlerde görülür ve benzer anlamlar taşır, bu nedenle oluşan vektörleri birbirine yakın olacak. Ancak \"öğretmen\" ve \"portakal\" kelimeleri sıklıkla aynı metinlerde görülmez ve farklı anlamlar taşır, bu nedenle oluşan vektörleri birbirinden uzak olacak."
      ]
    },
    {
      "cell_type": "markdown",
      "metadata": {
        "id": "zs17GUr1hgwx"
      },
      "source": [
        "## Word2Vec"
      ]
    },
    {
      "cell_type": "code",
      "execution_count": null,
      "metadata": {
        "id": "AU9r_0Fnhgwx"
      },
      "outputs": [],
      "source": [
        "# pip install gensim\n",
        "# conda install -c conda-forge gensim"
      ]
    },
    {
      "cell_type": "code",
      "source": [
        "from google.colab import drive\n",
        "drive.mount('/content/drive')"
      ],
      "metadata": {
        "colab": {
          "base_uri": "https://localhost:8080/"
        },
        "id": "s_UGdBRTnCAl",
        "outputId": "4c018820-6e5a-4e69-cc5f-437c021ddc5e"
      },
      "execution_count": 1,
      "outputs": [
        {
          "output_type": "stream",
          "name": "stdout",
          "text": [
            "Mounted at /content/drive\n"
          ]
        }
      ]
    },
    {
      "cell_type": "code",
      "execution_count": 2,
      "metadata": {
        "id": "WeoyO1yyhgwy"
      },
      "outputs": [],
      "source": [
        "from nltk.tokenize import word_tokenize\n",
        "import pandas as pd\n",
        "from gensim.models import Word2Vec\n",
        "import nltk"
      ]
    },
    {
      "cell_type": "code",
      "execution_count": 3,
      "metadata": {
        "colab": {
          "base_uri": "https://localhost:8080/"
        },
        "id": "PgGeekhNhgwy",
        "outputId": "1c2cf2ed-2cfe-456c-84eb-b1e4ce90a926"
      },
      "outputs": [
        {
          "output_type": "stream",
          "name": "stderr",
          "text": [
            "[nltk_data] Downloading package punkt to /root/nltk_data...\n",
            "[nltk_data]   Unzipping tokenizers/punkt.zip.\n"
          ]
        },
        {
          "output_type": "execute_result",
          "data": {
            "text/plain": [
              "True"
            ]
          },
          "metadata": {},
          "execution_count": 3
        }
      ],
      "source": [
        "nltk.download('punkt')\n",
        "#nltk.download('stopwords')\n",
        "#nltk.download('wordnet')\n",
        "#nltk.download('omw-1.4')"
      ]
    },
    {
      "cell_type": "code",
      "execution_count": 4,
      "metadata": {
        "colab": {
          "base_uri": "https://localhost:8080/",
          "height": 423
        },
        "id": "SLShicO6hgwz",
        "outputId": "053531d6-423c-45cc-a937-39e603721592"
      },
      "outputs": [
        {
          "output_type": "execute_result",
          "data": {
            "text/plain": [
              "                                                     news\n",
              "0       iran devlet televizyonu ülkedeki eyaletin sind...\n",
              "1       gösterilerde fitnecilere ölüm münafıklara ölüm...\n",
              "2       dini lider ali hamaney ve cumhurbaşkanı mahmud...\n",
              "3         musevi ye ölüm ve idam idam sloganları duyuldu \n",
              "4       muhalefet liderleri kaçtı mı aşure günü yaşana...\n",
              "...                                                   ...\n",
              "411520  dışişleri bakanlığı ndan yapılan yazılı açıkla...\n",
              "411521  açıklamada abd nin ankara büyükelçiliği ve ist...\n",
              "411522  seyahat uyarısı güncelleme kararının temmuz da...\n",
              "411523  amerikalı turistlerin açıkça türkiye deki ulus...\n",
              "411524  abd dışişleri bakanlığı seyahat uyarısı açıkla...\n",
              "\n",
              "[411525 rows x 1 columns]"
            ],
            "text/html": [
              "\n",
              "  <div id=\"df-bd62a293-35d5-430f-9dc7-d0c3f7e8ebbb\" class=\"colab-df-container\">\n",
              "    <div>\n",
              "<style scoped>\n",
              "    .dataframe tbody tr th:only-of-type {\n",
              "        vertical-align: middle;\n",
              "    }\n",
              "\n",
              "    .dataframe tbody tr th {\n",
              "        vertical-align: top;\n",
              "    }\n",
              "\n",
              "    .dataframe thead th {\n",
              "        text-align: right;\n",
              "    }\n",
              "</style>\n",
              "<table border=\"1\" class=\"dataframe\">\n",
              "  <thead>\n",
              "    <tr style=\"text-align: right;\">\n",
              "      <th></th>\n",
              "      <th>news</th>\n",
              "    </tr>\n",
              "  </thead>\n",
              "  <tbody>\n",
              "    <tr>\n",
              "      <th>0</th>\n",
              "      <td>iran devlet televizyonu ülkedeki eyaletin sind...</td>\n",
              "    </tr>\n",
              "    <tr>\n",
              "      <th>1</th>\n",
              "      <td>gösterilerde fitnecilere ölüm münafıklara ölüm...</td>\n",
              "    </tr>\n",
              "    <tr>\n",
              "      <th>2</th>\n",
              "      <td>dini lider ali hamaney ve cumhurbaşkanı mahmud...</td>\n",
              "    </tr>\n",
              "    <tr>\n",
              "      <th>3</th>\n",
              "      <td>musevi ye ölüm ve idam idam sloganları duyuldu</td>\n",
              "    </tr>\n",
              "    <tr>\n",
              "      <th>4</th>\n",
              "      <td>muhalefet liderleri kaçtı mı aşure günü yaşana...</td>\n",
              "    </tr>\n",
              "    <tr>\n",
              "      <th>...</th>\n",
              "      <td>...</td>\n",
              "    </tr>\n",
              "    <tr>\n",
              "      <th>411520</th>\n",
              "      <td>dışişleri bakanlığı ndan yapılan yazılı açıkla...</td>\n",
              "    </tr>\n",
              "    <tr>\n",
              "      <th>411521</th>\n",
              "      <td>açıklamada abd nin ankara büyükelçiliği ve ist...</td>\n",
              "    </tr>\n",
              "    <tr>\n",
              "      <th>411522</th>\n",
              "      <td>seyahat uyarısı güncelleme kararının temmuz da...</td>\n",
              "    </tr>\n",
              "    <tr>\n",
              "      <th>411523</th>\n",
              "      <td>amerikalı turistlerin açıkça türkiye deki ulus...</td>\n",
              "    </tr>\n",
              "    <tr>\n",
              "      <th>411524</th>\n",
              "      <td>abd dışişleri bakanlığı seyahat uyarısı açıkla...</td>\n",
              "    </tr>\n",
              "  </tbody>\n",
              "</table>\n",
              "<p>411525 rows × 1 columns</p>\n",
              "</div>\n",
              "    <div class=\"colab-df-buttons\">\n",
              "\n",
              "  <div class=\"colab-df-container\">\n",
              "    <button class=\"colab-df-convert\" onclick=\"convertToInteractive('df-bd62a293-35d5-430f-9dc7-d0c3f7e8ebbb')\"\n",
              "            title=\"Convert this dataframe to an interactive table.\"\n",
              "            style=\"display:none;\">\n",
              "\n",
              "  <svg xmlns=\"http://www.w3.org/2000/svg\" height=\"24px\" viewBox=\"0 -960 960 960\">\n",
              "    <path d=\"M120-120v-720h720v720H120Zm60-500h600v-160H180v160Zm220 220h160v-160H400v160Zm0 220h160v-160H400v160ZM180-400h160v-160H180v160Zm440 0h160v-160H620v160ZM180-180h160v-160H180v160Zm440 0h160v-160H620v160Z\"/>\n",
              "  </svg>\n",
              "    </button>\n",
              "\n",
              "  <style>\n",
              "    .colab-df-container {\n",
              "      display:flex;\n",
              "      gap: 12px;\n",
              "    }\n",
              "\n",
              "    .colab-df-convert {\n",
              "      background-color: #E8F0FE;\n",
              "      border: none;\n",
              "      border-radius: 50%;\n",
              "      cursor: pointer;\n",
              "      display: none;\n",
              "      fill: #1967D2;\n",
              "      height: 32px;\n",
              "      padding: 0 0 0 0;\n",
              "      width: 32px;\n",
              "    }\n",
              "\n",
              "    .colab-df-convert:hover {\n",
              "      background-color: #E2EBFA;\n",
              "      box-shadow: 0px 1px 2px rgba(60, 64, 67, 0.3), 0px 1px 3px 1px rgba(60, 64, 67, 0.15);\n",
              "      fill: #174EA6;\n",
              "    }\n",
              "\n",
              "    .colab-df-buttons div {\n",
              "      margin-bottom: 4px;\n",
              "    }\n",
              "\n",
              "    [theme=dark] .colab-df-convert {\n",
              "      background-color: #3B4455;\n",
              "      fill: #D2E3FC;\n",
              "    }\n",
              "\n",
              "    [theme=dark] .colab-df-convert:hover {\n",
              "      background-color: #434B5C;\n",
              "      box-shadow: 0px 1px 3px 1px rgba(0, 0, 0, 0.15);\n",
              "      filter: drop-shadow(0px 1px 2px rgba(0, 0, 0, 0.3));\n",
              "      fill: #FFFFFF;\n",
              "    }\n",
              "  </style>\n",
              "\n",
              "    <script>\n",
              "      const buttonEl =\n",
              "        document.querySelector('#df-bd62a293-35d5-430f-9dc7-d0c3f7e8ebbb button.colab-df-convert');\n",
              "      buttonEl.style.display =\n",
              "        google.colab.kernel.accessAllowed ? 'block' : 'none';\n",
              "\n",
              "      async function convertToInteractive(key) {\n",
              "        const element = document.querySelector('#df-bd62a293-35d5-430f-9dc7-d0c3f7e8ebbb');\n",
              "        const dataTable =\n",
              "          await google.colab.kernel.invokeFunction('convertToInteractive',\n",
              "                                                    [key], {});\n",
              "        if (!dataTable) return;\n",
              "\n",
              "        const docLinkHtml = 'Like what you see? Visit the ' +\n",
              "          '<a target=\"_blank\" href=https://colab.research.google.com/notebooks/data_table.ipynb>data table notebook</a>'\n",
              "          + ' to learn more about interactive tables.';\n",
              "        element.innerHTML = '';\n",
              "        dataTable['output_type'] = 'display_data';\n",
              "        await google.colab.output.renderOutput(dataTable, element);\n",
              "        const docLink = document.createElement('div');\n",
              "        docLink.innerHTML = docLinkHtml;\n",
              "        element.appendChild(docLink);\n",
              "      }\n",
              "    </script>\n",
              "  </div>\n",
              "\n",
              "\n",
              "<div id=\"df-ecc82a39-74ba-4581-b9aa-047f8349fb81\">\n",
              "  <button class=\"colab-df-quickchart\" onclick=\"quickchart('df-ecc82a39-74ba-4581-b9aa-047f8349fb81')\"\n",
              "            title=\"Suggest charts\"\n",
              "            style=\"display:none;\">\n",
              "\n",
              "<svg xmlns=\"http://www.w3.org/2000/svg\" height=\"24px\"viewBox=\"0 0 24 24\"\n",
              "     width=\"24px\">\n",
              "    <g>\n",
              "        <path d=\"M19 3H5c-1.1 0-2 .9-2 2v14c0 1.1.9 2 2 2h14c1.1 0 2-.9 2-2V5c0-1.1-.9-2-2-2zM9 17H7v-7h2v7zm4 0h-2V7h2v10zm4 0h-2v-4h2v4z\"/>\n",
              "    </g>\n",
              "</svg>\n",
              "  </button>\n",
              "\n",
              "<style>\n",
              "  .colab-df-quickchart {\n",
              "      --bg-color: #E8F0FE;\n",
              "      --fill-color: #1967D2;\n",
              "      --hover-bg-color: #E2EBFA;\n",
              "      --hover-fill-color: #174EA6;\n",
              "      --disabled-fill-color: #AAA;\n",
              "      --disabled-bg-color: #DDD;\n",
              "  }\n",
              "\n",
              "  [theme=dark] .colab-df-quickchart {\n",
              "      --bg-color: #3B4455;\n",
              "      --fill-color: #D2E3FC;\n",
              "      --hover-bg-color: #434B5C;\n",
              "      --hover-fill-color: #FFFFFF;\n",
              "      --disabled-bg-color: #3B4455;\n",
              "      --disabled-fill-color: #666;\n",
              "  }\n",
              "\n",
              "  .colab-df-quickchart {\n",
              "    background-color: var(--bg-color);\n",
              "    border: none;\n",
              "    border-radius: 50%;\n",
              "    cursor: pointer;\n",
              "    display: none;\n",
              "    fill: var(--fill-color);\n",
              "    height: 32px;\n",
              "    padding: 0;\n",
              "    width: 32px;\n",
              "  }\n",
              "\n",
              "  .colab-df-quickchart:hover {\n",
              "    background-color: var(--hover-bg-color);\n",
              "    box-shadow: 0 1px 2px rgba(60, 64, 67, 0.3), 0 1px 3px 1px rgba(60, 64, 67, 0.15);\n",
              "    fill: var(--button-hover-fill-color);\n",
              "  }\n",
              "\n",
              "  .colab-df-quickchart-complete:disabled,\n",
              "  .colab-df-quickchart-complete:disabled:hover {\n",
              "    background-color: var(--disabled-bg-color);\n",
              "    fill: var(--disabled-fill-color);\n",
              "    box-shadow: none;\n",
              "  }\n",
              "\n",
              "  .colab-df-spinner {\n",
              "    border: 2px solid var(--fill-color);\n",
              "    border-color: transparent;\n",
              "    border-bottom-color: var(--fill-color);\n",
              "    animation:\n",
              "      spin 1s steps(1) infinite;\n",
              "  }\n",
              "\n",
              "  @keyframes spin {\n",
              "    0% {\n",
              "      border-color: transparent;\n",
              "      border-bottom-color: var(--fill-color);\n",
              "      border-left-color: var(--fill-color);\n",
              "    }\n",
              "    20% {\n",
              "      border-color: transparent;\n",
              "      border-left-color: var(--fill-color);\n",
              "      border-top-color: var(--fill-color);\n",
              "    }\n",
              "    30% {\n",
              "      border-color: transparent;\n",
              "      border-left-color: var(--fill-color);\n",
              "      border-top-color: var(--fill-color);\n",
              "      border-right-color: var(--fill-color);\n",
              "    }\n",
              "    40% {\n",
              "      border-color: transparent;\n",
              "      border-right-color: var(--fill-color);\n",
              "      border-top-color: var(--fill-color);\n",
              "    }\n",
              "    60% {\n",
              "      border-color: transparent;\n",
              "      border-right-color: var(--fill-color);\n",
              "    }\n",
              "    80% {\n",
              "      border-color: transparent;\n",
              "      border-right-color: var(--fill-color);\n",
              "      border-bottom-color: var(--fill-color);\n",
              "    }\n",
              "    90% {\n",
              "      border-color: transparent;\n",
              "      border-bottom-color: var(--fill-color);\n",
              "    }\n",
              "  }\n",
              "</style>\n",
              "\n",
              "  <script>\n",
              "    async function quickchart(key) {\n",
              "      const quickchartButtonEl =\n",
              "        document.querySelector('#' + key + ' button');\n",
              "      quickchartButtonEl.disabled = true;  // To prevent multiple clicks.\n",
              "      quickchartButtonEl.classList.add('colab-df-spinner');\n",
              "      try {\n",
              "        const charts = await google.colab.kernel.invokeFunction(\n",
              "            'suggestCharts', [key], {});\n",
              "      } catch (error) {\n",
              "        console.error('Error during call to suggestCharts:', error);\n",
              "      }\n",
              "      quickchartButtonEl.classList.remove('colab-df-spinner');\n",
              "      quickchartButtonEl.classList.add('colab-df-quickchart-complete');\n",
              "    }\n",
              "    (() => {\n",
              "      let quickchartButtonEl =\n",
              "        document.querySelector('#df-ecc82a39-74ba-4581-b9aa-047f8349fb81 button');\n",
              "      quickchartButtonEl.style.display =\n",
              "        google.colab.kernel.accessAllowed ? 'block' : 'none';\n",
              "    })();\n",
              "  </script>\n",
              "</div>\n",
              "\n",
              "  <div id=\"id_0ce71ece-2e0a-4c6d-9b16-49e3ce62f269\">\n",
              "    <style>\n",
              "      .colab-df-generate {\n",
              "        background-color: #E8F0FE;\n",
              "        border: none;\n",
              "        border-radius: 50%;\n",
              "        cursor: pointer;\n",
              "        display: none;\n",
              "        fill: #1967D2;\n",
              "        height: 32px;\n",
              "        padding: 0 0 0 0;\n",
              "        width: 32px;\n",
              "      }\n",
              "\n",
              "      .colab-df-generate:hover {\n",
              "        background-color: #E2EBFA;\n",
              "        box-shadow: 0px 1px 2px rgba(60, 64, 67, 0.3), 0px 1px 3px 1px rgba(60, 64, 67, 0.15);\n",
              "        fill: #174EA6;\n",
              "      }\n",
              "\n",
              "      [theme=dark] .colab-df-generate {\n",
              "        background-color: #3B4455;\n",
              "        fill: #D2E3FC;\n",
              "      }\n",
              "\n",
              "      [theme=dark] .colab-df-generate:hover {\n",
              "        background-color: #434B5C;\n",
              "        box-shadow: 0px 1px 3px 1px rgba(0, 0, 0, 0.15);\n",
              "        filter: drop-shadow(0px 1px 2px rgba(0, 0, 0, 0.3));\n",
              "        fill: #FFFFFF;\n",
              "      }\n",
              "    </style>\n",
              "    <button class=\"colab-df-generate\" onclick=\"generateWithVariable('df')\"\n",
              "            title=\"Generate code using this dataframe.\"\n",
              "            style=\"display:none;\">\n",
              "\n",
              "  <svg xmlns=\"http://www.w3.org/2000/svg\" height=\"24px\"viewBox=\"0 0 24 24\"\n",
              "       width=\"24px\">\n",
              "    <path d=\"M7,19H8.4L18.45,9,17,7.55,7,17.6ZM5,21V16.75L18.45,3.32a2,2,0,0,1,2.83,0l1.4,1.43a1.91,1.91,0,0,1,.58,1.4,1.91,1.91,0,0,1-.58,1.4L9.25,21ZM18.45,9,17,7.55Zm-12,3A5.31,5.31,0,0,0,4.9,8.1,5.31,5.31,0,0,0,1,6.5,5.31,5.31,0,0,0,4.9,4.9,5.31,5.31,0,0,0,6.5,1,5.31,5.31,0,0,0,8.1,4.9,5.31,5.31,0,0,0,12,6.5,5.46,5.46,0,0,0,6.5,12Z\"/>\n",
              "  </svg>\n",
              "    </button>\n",
              "    <script>\n",
              "      (() => {\n",
              "      const buttonEl =\n",
              "        document.querySelector('#id_0ce71ece-2e0a-4c6d-9b16-49e3ce62f269 button.colab-df-generate');\n",
              "      buttonEl.style.display =\n",
              "        google.colab.kernel.accessAllowed ? 'block' : 'none';\n",
              "\n",
              "      buttonEl.onclick = () => {\n",
              "        google.colab.notebook.generateWithVariable('df');\n",
              "      }\n",
              "      })();\n",
              "    </script>\n",
              "  </div>\n",
              "\n",
              "    </div>\n",
              "  </div>\n"
            ],
            "application/vnd.google.colaboratory.intrinsic+json": {
              "type": "dataframe",
              "variable_name": "df"
            }
          },
          "metadata": {},
          "execution_count": 4
        }
      ],
      "source": [
        "df = pd.read_csv('/content/drive/MyDrive/newspaper.zip', names = [\"news\"])\n",
        "df\n",
        "\n",
        "# pandas'ın read_csv fonksiyonu zip'li dosyaları da okuyabiliyor.\n",
        "# ziplediğimiz data(corpus) txt dosyası olduğundan dosyada belirlenmiş feature ismi/isimleri yoktur. Bu sebeple\n",
        "# feature isimlendirmesi için names parametresini kullanıyoruz.\n",
        "# names parametresi kullanılmaz ise ilk satırdaki text default olarak feature names olarak atanır."
      ]
    },
    {
      "cell_type": "code",
      "execution_count": 5,
      "metadata": {
        "colab": {
          "base_uri": "https://localhost:8080/",
          "height": 36
        },
        "id": "tq7_KbKrhgw0",
        "outputId": "ce66ecbb-b136-4b97-f1eb-7fb17eb903e6"
      },
      "outputs": [
        {
          "output_type": "execute_result",
          "data": {
            "text/plain": [
              "'iran devlet televizyonu ülkedeki eyaletin sinde yapılan reformcuları protesto amaçlı yürüyüşlere milyonlarca kişinin katıldığını bildirdi '"
            ],
            "application/vnd.google.colaboratory.intrinsic+json": {
              "type": "string"
            }
          },
          "metadata": {},
          "execution_count": 5
        }
      ],
      "source": [
        "df.news[0]"
      ]
    },
    {
      "cell_type": "code",
      "execution_count": 6,
      "metadata": {
        "colab": {
          "base_uri": "https://localhost:8080/"
        },
        "id": "OvsoGwhwhgw1",
        "outputId": "03134baa-f56d-4b3f-a2d4-d962b0edaf32"
      },
      "outputs": [
        {
          "output_type": "execute_result",
          "data": {
            "text/plain": [
              "['iran',\n",
              " 'devlet',\n",
              " 'televizyonu',\n",
              " 'ülkedeki',\n",
              " 'eyaletin',\n",
              " 'sinde',\n",
              " 'yapılan',\n",
              " 'reformcuları',\n",
              " 'protesto',\n",
              " 'amaçlı',\n",
              " 'yürüyüşlere',\n",
              " 'milyonlarca',\n",
              " 'kişinin',\n",
              " 'katıldığını',\n",
              " 'bildirdi']"
            ]
          },
          "metadata": {},
          "execution_count": 6
        }
      ],
      "source": [
        "word_tokenize(df.news[0])"
      ]
    },
    {
      "cell_type": "code",
      "execution_count": 7,
      "metadata": {
        "colab": {
          "base_uri": "https://localhost:8080/"
        },
        "id": "iqBZ9luRhgw1",
        "outputId": "bd641adb-0825-44ef-f7f0-2f4be5819a5e"
      },
      "outputs": [
        {
          "output_type": "stream",
          "name": "stdout",
          "text": [
            "[['iran', 'devlet', 'televizyonu', 'ülkedeki', 'eyaletin', 'sinde', 'yapılan', 'reformcuları', 'protesto', 'amaçlı', 'yürüyüşlere', 'milyonlarca', 'kişinin', 'katıldığını', 'bildirdi'], ['gösterilerde', 'fitnecilere', 'ölüm', 'münafıklara', 'ölüm', 'abd', 'ye', 'ölüm', 'ingiltere', 'ye', 'ölüm', 'sloganları', 'atıldı'], ['dini', 'lider', 'ali', 'hamaney', 've', 'cumhurbaşkanı', 'mahmud', 'ahmedinejad', 'ı', 'destekleyen', 'iranlılar', 'son', 'olaylarda', 'yeğeni', 'öldürülen', 'mir', 'hüseyin', 'musevi', 'başta', 'olmak', 'üzere', 'muhalefet', 'liderlerini', 'kınadılar'], ['musevi', 'ye', 'ölüm', 've', 'idam', 'idam', 'sloganları', 'duyuldu'], ['muhalefet', 'liderleri', 'kaçtı', 'mı', 'aşure', 'günü', 'yaşanan', 'çatışmalarda', 'devlet', 'kaynaklarına', 'göre', 'u', 'terörist', 'olmak', 'üzere', 'kişi', 'ölmüştü']]\n",
            "CPU times: user 1min 7s, sys: 768 ms, total: 1min 8s\n",
            "Wall time: 1min 9s\n"
          ]
        }
      ],
      "source": [
        "%%time\n",
        "corpus=[word_tokenize(i) for i in df.news]\n",
        "print(corpus[:5])\n",
        "\n",
        "# word2vec algoritması tüm corpusun 2 boyutlu olmasını ister. Bu sebeple burdaki for döngüsü ile tüm documnetleri/satırları\n",
        "# teker teker çekip word tokenlerine ayırıyoruz. Word_tokenize fonksiyonu default olarak texti word tokenlerine ayırıp bir\n",
        "# listeye atar."
      ]
    },
    {
      "cell_type": "code",
      "execution_count": 8,
      "metadata": {
        "colab": {
          "base_uri": "https://localhost:8080/"
        },
        "id": "xmE0waUkhgw1",
        "outputId": "09121b44-e5c0-427e-bd24-cb27910bcdd1"
      },
      "outputs": [
        {
          "output_type": "execute_result",
          "data": {
            "text/plain": [
              "2"
            ]
          },
          "metadata": {},
          "execution_count": 8
        }
      ],
      "source": [
        "from gensim.utils import effective_n_jobs\n",
        "\n",
        "effective_n_jobs(-1)\n",
        "\n",
        "# bilgisayarınızdaki eğitim için kullanabileceğiniz max çekirdek sayısını gösterir."
      ]
    },
    {
      "cell_type": "code",
      "execution_count": 9,
      "metadata": {
        "colab": {
          "base_uri": "https://localhost:8080/"
        },
        "id": "CXcvnrOvhgw1",
        "outputId": "73962460-de93-44a0-be68-b55041f14d76"
      },
      "outputs": [
        {
          "output_type": "stream",
          "name": "stdout",
          "text": [
            "CPU times: user 6min 17s, sys: 1.61 s, total: 6min 19s\n",
            "Wall time: 3min 52s\n"
          ]
        }
      ],
      "source": [
        "%%time\n",
        "model = Word2Vec(sentences=corpus,\n",
        "                 alpha=0.025,\n",
        "                 vector_size=100,\n",
        "                 window=5,\n",
        "                 min_count=5,\n",
        "                 sg=1,\n",
        "                 workers=2)\n",
        "\n",
        "# vector_size, kaç boyutlu word embeddings istiyorsak burda belirtiyoruz.\n",
        "# Bir token ile diğer tokenler arasındaki anlamsal ilişkiler kurulurken bu tokenin kaç önce ve sonrasındaki tokenler dikkate\n",
        "# alınarak eğitim yapılmasını istiyorsak window parametresinde belirtiyoruz. Tavsiye edilen 5-15 sayıları arasındadır.\n",
        "# min_count, corpusta 5 veya daha az geçen tokenler eğitime dahil edilmez. Genellikle 3,4,5 gibi sayılar tercih edilir.\n",
        "# sg =1, eğitimi skipgram algoritması ile yap.\n",
        "# sg =0, eğitimi CBOW algoritması ile yap.\n",
        "# alpha= learning rate\n",
        "# workers=eğitim için kullanacağımız çekirdek sayısı"
      ]
    },
    {
      "cell_type": "code",
      "execution_count": 10,
      "metadata": {
        "colab": {
          "base_uri": "https://localhost:8080/"
        },
        "id": "NPgVppQKhgw1",
        "outputId": "46abe030-ded3-4d9b-a9b1-145028760903"
      },
      "outputs": [
        {
          "output_type": "execute_result",
          "data": {
            "text/plain": [
              "array([ 2.74438839e-02,  3.02957267e-01, -1.01784386e-01, -1.56511113e-01,\n",
              "        2.76780903e-01,  1.93887368e-01, -1.92103952e-01,  6.33531809e-01,\n",
              "       -1.65956989e-02, -7.59091079e-01, -1.95657820e-01, -7.32019961e-01,\n",
              "       -2.65674233e-01, -1.40793473e-01,  2.01222271e-01,  6.19625926e-01,\n",
              "        1.64915040e-01, -1.79271966e-01, -2.50681974e-02, -7.07142770e-01,\n",
              "        7.52288476e-02,  5.03354609e-01,  6.40448391e-01, -2.62706608e-01,\n",
              "       -1.04442611e-01,  2.77420580e-01, -4.81181920e-01, -2.35335484e-01,\n",
              "       -4.18507874e-01,  6.49932086e-01,  4.16625232e-01,  1.86726853e-01,\n",
              "        1.77415922e-01, -5.55045426e-01, -1.58076346e-01,  8.71169940e-02,\n",
              "        1.65757418e-01, -4.11534727e-01,  3.26733202e-01, -4.23221141e-01,\n",
              "        4.34209883e-01, -1.71994697e-02,  1.24352783e-01,  1.39335155e-01,\n",
              "        1.86631843e-01,  1.39703572e-01,  1.37032852e-01,  2.20282987e-01,\n",
              "        7.46816576e-01, -3.71209025e-01,  4.25269336e-01, -1.97032303e-01,\n",
              "        4.03461717e-02,  2.48779953e-01, -5.84542267e-02, -3.56358960e-02,\n",
              "       -2.63628364e-02, -2.75004566e-01, -6.11485243e-01, -2.62042135e-01,\n",
              "       -3.97310078e-01, -2.91053861e-01, -3.35267246e-01, -2.50938773e-01,\n",
              "       -9.41715837e-02, -1.04518868e-02,  3.79523456e-01,  5.85631788e-01,\n",
              "       -1.52377665e-01, -1.60887409e-02, -1.82357684e-01, -2.55231172e-01,\n",
              "        5.12052596e-01, -2.57697284e-01,  2.04056919e-01,  1.01144155e-02,\n",
              "        1.61346242e-01, -4.35322553e-01, -2.85420030e-01, -5.42890355e-02,\n",
              "        1.05109617e-01, -6.85362577e-01, -2.68184334e-01,  3.68794233e-01,\n",
              "        3.83801699e-01,  1.30569980e-01,  4.01859701e-01,  6.71854734e-01,\n",
              "        5.65557241e-01,  3.22760552e-01,  4.56692129e-01,  3.85843277e-01,\n",
              "        4.87089099e-04,  2.83162743e-01,  3.00792933e-01, -2.23491624e-01,\n",
              "       -5.97931957e-03, -2.12967470e-01, -3.03503200e-02, -1.95886374e-01],\n",
              "      dtype=float32)"
            ]
          },
          "metadata": {},
          "execution_count": 10
        }
      ],
      "source": [
        "model.wv['ankara']\n",
        "\n",
        "# 100 elemanlı/boyutlu word_embedding"
      ]
    },
    {
      "cell_type": "code",
      "execution_count": null,
      "metadata": {
        "id": "VosYcfCWhgw2"
      },
      "outputs": [],
      "source": []
    },
    {
      "cell_type": "code",
      "execution_count": 11,
      "metadata": {
        "colab": {
          "base_uri": "https://localhost:8080/"
        },
        "id": "TQR8rZSohgw2",
        "outputId": "c3f5e5e9-0c51-4a43-8e0a-87ddd78668d4"
      },
      "outputs": [
        {
          "output_type": "execute_result",
          "data": {
            "text/plain": [
              "[('okuldaki', 0.7492612600326538),\n",
              " ('erkek', 0.7481780052185059),\n",
              " ('öğretmenin', 0.7390701174736023),\n",
              " ('öğretmeni', 0.7371501922607422),\n",
              " ('üniversite', 0.7220643162727356),\n",
              " ('öğrencisinin', 0.7188251614570618),\n",
              " ('erkekten', 0.715896487236023),\n",
              " ('öğrenci', 0.7132596373558044),\n",
              " ('hizmetli', 0.6982784867286682),\n",
              " ('öğrencinin', 0.6966313719749451)]"
            ]
          },
          "metadata": {},
          "execution_count": 11
        }
      ],
      "source": [
        "model.wv.most_similar('öğretmen')"
      ]
    },
    {
      "cell_type": "code",
      "execution_count": 12,
      "metadata": {
        "colab": {
          "base_uri": "https://localhost:8080/"
        },
        "id": "K-Wae4iehgw2",
        "outputId": "50ebfc78-4c60-4f40-ca18-e87425800783"
      },
      "outputs": [
        {
          "output_type": "execute_result",
          "data": {
            "text/plain": [
              "[('çizgileri', 0.6546631455421448),\n",
              " ('sarı', 0.6499119400978088),\n",
              " ('renkli', 0.6316047310829163),\n",
              " ('siyah', 0.6177324056625366),\n",
              " ('gömlekli', 0.6089180707931519),\n",
              " ('çizgi', 0.6053758859634399),\n",
              " ('turuncu', 0.5984118580818176),\n",
              " ('halı', 0.5958287715911865),\n",
              " ('bülten', 0.5914483070373535),\n",
              " ('renkte', 0.5867157578468323)]"
            ]
          },
          "metadata": {},
          "execution_count": 12
        }
      ],
      "source": [
        "model.wv.most_similar('kırmızı')"
      ]
    },
    {
      "cell_type": "code",
      "execution_count": 13,
      "metadata": {
        "colab": {
          "base_uri": "https://localhost:8080/"
        },
        "id": "LdgIA5cXhgw2",
        "outputId": "587add65-b4a6-42fb-eed0-b319137cafe6"
      },
      "outputs": [
        {
          "output_type": "execute_result",
          "data": {
            "text/plain": [
              "[('evine', 0.8179585337638855),\n",
              " ('dükkana', 0.7528007626533508),\n",
              " ('mağazaya', 0.7453551888465881),\n",
              " ('karakola', 0.7438392043113708),\n",
              " ('apartmana', 0.7390093207359314),\n",
              " ('köye', 0.7050694227218628),\n",
              " ('hapishaneye', 0.704680323600769),\n",
              " ('arabaya', 0.7018750905990601),\n",
              " ('ofise', 0.7017014622688293),\n",
              " ('otobüse', 0.7012637853622437)]"
            ]
          },
          "metadata": {},
          "execution_count": 13
        }
      ],
      "source": [
        "model.wv.most_similar('eve')"
      ]
    },
    {
      "cell_type": "code",
      "execution_count": 14,
      "metadata": {
        "colab": {
          "base_uri": "https://localhost:8080/"
        },
        "id": "cBvUpVyehgw2",
        "outputId": "9977a1a2-9cf2-4f93-c712-f1d759694ada"
      },
      "outputs": [
        {
          "output_type": "execute_result",
          "data": {
            "text/plain": [
              "[('marmara', 0.8885944485664368),\n",
              " ('gemisine', 0.6669437885284424),\n",
              " ('baskınıyla', 0.6455132365226746),\n",
              " ('filo', 0.6233791708946228),\n",
              " ('filosundaki', 0.6062126159667969),\n",
              " ('baskınına', 0.601915180683136),\n",
              " ('dökme', 0.6005128026008606),\n",
              " ('baskınının', 0.5989163517951965),\n",
              " ('filodaki', 0.5973966717720032),\n",
              " ('israil', 0.5899045467376709)]"
            ]
          },
          "metadata": {},
          "execution_count": 14
        }
      ],
      "source": [
        "model.wv.most_similar('mavi')"
      ]
    },
    {
      "cell_type": "code",
      "execution_count": 15,
      "metadata": {
        "colab": {
          "base_uri": "https://localhost:8080/"
        },
        "id": "7SDFmftwhgw2",
        "outputId": "c5207aa1-c5be-4c31-b2b7-4e8548e5d428"
      },
      "outputs": [
        {
          "output_type": "execute_result",
          "data": {
            "text/plain": [
              "[('bilişsel', 0.6631882786750793),\n",
              " ('olabilmeleri', 0.6611493825912476),\n",
              " ('kaliteli', 0.65329509973526),\n",
              " ('soy', 0.6532273292541504),\n",
              " ('yaptıklarında', 0.6530002951622009)]"
            ]
          },
          "metadata": {},
          "execution_count": 15
        }
      ],
      "source": [
        "model.wv.most_similar(positive=['öğrenme', 'doktor'], negative=['tedavi'], topn=5)"
      ]
    },
    {
      "cell_type": "code",
      "execution_count": 16,
      "metadata": {
        "colab": {
          "base_uri": "https://localhost:8080/"
        },
        "id": "3nVCm_lvhgw2",
        "outputId": "86f49100-2e76-4161-cd89-d70eaa603e73"
      },
      "outputs": [
        {
          "output_type": "execute_result",
          "data": {
            "text/plain": [
              "[('hollanda', 0.6185110211372375),\n",
              " ('danimarka', 0.6158261299133301),\n",
              " ('avusturya', 0.6007847189903259),\n",
              " ('fransa', 0.5896060466766357),\n",
              " ('tsk', 0.5743513703346252)]"
            ]
          },
          "metadata": {},
          "execution_count": 16
        }
      ],
      "source": [
        "model.wv.most_similar(positive=['ankara', 'belçika'], negative=['brüksel'], topn=5)"
      ]
    },
    {
      "cell_type": "code",
      "execution_count": 17,
      "metadata": {
        "id": "DFcJ0hPFhgw3"
      },
      "outputs": [],
      "source": [
        "model.save(\"word2vec.model\")"
      ]
    },
    {
      "cell_type": "code",
      "execution_count": 18,
      "metadata": {
        "id": "ae__f4uihgw3"
      },
      "outputs": [],
      "source": [
        "model = Word2Vec.load(\"word2vec.model\")"
      ]
    },
    {
      "cell_type": "markdown",
      "metadata": {
        "id": "mB9bapMKhgw3"
      },
      "source": [
        "## Glove"
      ]
    },
    {
      "cell_type": "code",
      "execution_count": 19,
      "metadata": {
        "id": "U19W6q3zhgw3"
      },
      "outputs": [],
      "source": [
        "from gensim.models import KeyedVectors\n",
        "\n",
        "# KeyedVectors fonksiyonunu farklı bir formattaki word embeddingleri word2vec formatına dönüştürmek için kullanıyoruz."
      ]
    },
    {
      "cell_type": "code",
      "execution_count": 21,
      "metadata": {
        "id": "xFQ7oG3Chgw3"
      },
      "outputs": [],
      "source": [
        "glove_model = '/content/drive/MyDrive/glove.6B.100d.glove'\n",
        "\n",
        "model2 = KeyedVectors.load_word2vec_format(glove_model) #'/content/drive/MyDrive/glove.6B.100d.glove'"
      ]
    },
    {
      "cell_type": "code",
      "execution_count": 22,
      "metadata": {
        "colab": {
          "base_uri": "https://localhost:8080/"
        },
        "id": "gHFuvU7lhgw3",
        "outputId": "c1a40678-773d-4053-c245-fad8b15a3394"
      },
      "outputs": [
        {
          "output_type": "execute_result",
          "data": {
            "text/plain": [
              "array([ 0.44374 ,  0.67311 , -0.51096 ,  0.20882 , -0.10662 ,  0.55098 ,\n",
              "       -0.035593,  0.25126 , -0.32789 ,  1.0762  , -0.49637 , -0.4298  ,\n",
              "        0.36764 ,  0.57894 , -0.25027 , -0.41021 ,  0.086998, -0.16843 ,\n",
              "       -0.85764 ,  1.0404  , -1.0314  ,  0.095147,  0.30729 ,  0.12348 ,\n",
              "        0.22745 , -0.52157 , -0.72478 , -1.0843  ,  0.035966,  0.62985 ,\n",
              "       -1.0991  ,  0.67161 ,  0.33797 ,  0.14551 , -0.90049 , -0.064415,\n",
              "       -0.75247 ,  0.21741 ,  0.51594 , -0.46291 , -0.77598 ,  0.40705 ,\n",
              "        0.1889  , -0.43402 ,  0.23202 , -0.081453, -0.3882  , -0.34444 ,\n",
              "        0.080225, -0.28274 , -0.38869 , -0.58152 , -0.25558 ,  1.0027  ,\n",
              "       -0.11114 , -1.5402  , -0.16761 , -0.26558 ,  0.9325  ,  0.069397,\n",
              "        0.96618 ,  0.15449 , -0.22905 , -0.1761  ,  0.13225 , -0.55741 ,\n",
              "        0.9234  , -0.04845 ,  0.50202 ,  1.0144  , -0.1256  ,  0.30486 ,\n",
              "        0.090808,  0.17642 , -0.23146 ,  0.68386 ,  0.37269 , -0.37316 ,\n",
              "       -0.025728, -1.0279  , -0.33142 ,  0.036028, -0.24925 , -1.4405  ,\n",
              "       -1.6267  ,  0.082284, -0.080153, -0.50802 ,  0.031885, -0.60546 ,\n",
              "        0.2908  ,  0.036842,  0.55328 ,  0.66784 , -0.42574 ,  0.53331 ,\n",
              "        0.053644, -0.66522 , -0.10012 , -0.17729 ], dtype=float32)"
            ]
          },
          "metadata": {},
          "execution_count": 22
        }
      ],
      "source": [
        "model2['teacher']"
      ]
    },
    {
      "cell_type": "code",
      "execution_count": 23,
      "metadata": {
        "colab": {
          "base_uri": "https://localhost:8080/"
        },
        "id": "Z9m4ZlBUhgw3",
        "outputId": "7f2e9772-f367-4893-ab40-1a69b3a47806"
      },
      "outputs": [
        {
          "output_type": "execute_result",
          "data": {
            "text/plain": [
              "[('turkey', 0.7512096166610718),\n",
              " ('istanbul', 0.6787630319595337),\n",
              " ('turkish', 0.6690374612808228),\n",
              " ('damascus', 0.6372509002685547),\n",
              " ('tbilisi', 0.6322181820869446),\n",
              " ('erdogan', 0.6258037090301514),\n",
              " ('moscow', 0.6217040419578552),\n",
              " ('brussels', 0.6181437969207764),\n",
              " ('skopje', 0.6164302229881287),\n",
              " ('cyprus', 0.606403112411499)]"
            ]
          },
          "metadata": {},
          "execution_count": 23
        }
      ],
      "source": [
        "model2.most_similar('ankara')"
      ]
    },
    {
      "cell_type": "code",
      "execution_count": 24,
      "metadata": {
        "colab": {
          "base_uri": "https://localhost:8080/"
        },
        "id": "atcW-rwdhgw3",
        "outputId": "adc67a72-d025-4add-b7e9-15acb1d93a07"
      },
      "outputs": [
        {
          "output_type": "execute_result",
          "data": {
            "text/plain": [
              "[('student', 0.8083398938179016),\n",
              " ('school', 0.7545564770698547),\n",
              " ('teaching', 0.7521439790725708),\n",
              " ('taught', 0.741184651851654),\n",
              " ('teachers', 0.7291542887687683),\n",
              " ('graduate', 0.7134961485862732),\n",
              " ('instructor', 0.7077120542526245),\n",
              " ('students', 0.6828974485397339),\n",
              " ('teaches', 0.6552315354347229),\n",
              " ('education', 0.6528989672660828)]"
            ]
          },
          "metadata": {},
          "execution_count": 24
        }
      ],
      "source": [
        "model2.most_similar('teacher')"
      ]
    },
    {
      "cell_type": "code",
      "execution_count": 25,
      "metadata": {
        "colab": {
          "base_uri": "https://localhost:8080/"
        },
        "id": "KNmWojuZhgw3",
        "outputId": "fd7fefea-1e50-4f72-c55d-17aa2991d9fb"
      },
      "outputs": [
        {
          "output_type": "execute_result",
          "data": {
            "text/plain": [
              "[('physician', 0.7673240303993225),\n",
              " ('nurse', 0.75215083360672),\n",
              " ('dr.', 0.7175194025039673),\n",
              " ('doctors', 0.7080884575843811),\n",
              " ('patient', 0.7074184417724609),\n",
              " ('medical', 0.6995992660522461),\n",
              " ('surgeon', 0.6905338168144226),\n",
              " ('hospital', 0.6900930404663086),\n",
              " ('psychiatrist', 0.658909797668457),\n",
              " ('dentist', 0.6447421312332153)]"
            ]
          },
          "metadata": {},
          "execution_count": 25
        }
      ],
      "source": [
        "model2.most_similar('doctor')"
      ]
    },
    {
      "cell_type": "code",
      "execution_count": 26,
      "metadata": {
        "colab": {
          "base_uri": "https://localhost:8080/"
        },
        "id": "9aFh38wfhgw4",
        "outputId": "617e6b3b-a231-4658-f97d-2687d9866c76"
      },
      "outputs": [
        {
          "output_type": "execute_result",
          "data": {
            "text/plain": [
              "[('daughter', 0.9090957641601562)]"
            ]
          },
          "metadata": {},
          "execution_count": 26
        }
      ],
      "source": [
        "model2.most_similar(positive=['woman', 'son'], negative=['man'], topn=1)"
      ]
    },
    {
      "cell_type": "code",
      "execution_count": 27,
      "metadata": {
        "colab": {
          "base_uri": "https://localhost:8080/"
        },
        "id": "xMS97rLshgw4",
        "outputId": "f9290a28-984e-4f3d-8650-b91fb5934a2b"
      },
      "outputs": [
        {
          "output_type": "execute_result",
          "data": {
            "text/plain": [
              "[('mother', 0.9024619460105896)]"
            ]
          },
          "metadata": {},
          "execution_count": 27
        }
      ],
      "source": [
        "model2.most_similar(positive=['woman', 'father'], negative=['man'], topn=1)"
      ]
    },
    {
      "cell_type": "code",
      "execution_count": 28,
      "metadata": {
        "colab": {
          "base_uri": "https://localhost:8080/"
        },
        "id": "J6nlSXaYhgw4",
        "outputId": "3f11e1f0-b058-4805-fdbf-e88d0e406ff1"
      },
      "outputs": [
        {
          "output_type": "execute_result",
          "data": {
            "text/plain": [
              "[('aunt', 0.8368030190467834)]"
            ]
          },
          "metadata": {},
          "execution_count": 28
        }
      ],
      "source": [
        "model2.most_similar(positive=['woman', 'uncle'], negative=['man'], topn=1)"
      ]
    },
    {
      "cell_type": "code",
      "execution_count": 29,
      "metadata": {
        "colab": {
          "base_uri": "https://localhost:8080/"
        },
        "id": "LuacFBIUhgw4",
        "outputId": "ae4bad38-b0b2-4bb0-e681-66505051d0de"
      },
      "outputs": [
        {
          "output_type": "execute_result",
          "data": {
            "text/plain": [
              "[('turkey', 0.81471186876297)]"
            ]
          },
          "metadata": {},
          "execution_count": 29
        }
      ],
      "source": [
        "model2.most_similar(positive=['ankara', 'germany'], negative=['berlin'], topn=1)"
      ]
    },
    {
      "cell_type": "code",
      "execution_count": 30,
      "metadata": {
        "colab": {
          "base_uri": "https://localhost:8080/"
        },
        "id": "tMY_xQ0dhgw4",
        "outputId": "e61be91d-3ce1-4193-82db-c11f747458b3"
      },
      "outputs": [
        {
          "output_type": "execute_result",
          "data": {
            "text/plain": [
              "[('teacher', 0.7610154151916504)]"
            ]
          },
          "metadata": {},
          "execution_count": 30
        }
      ],
      "source": [
        "model2.most_similar(positive=['teach', 'doctor'], negative=['treat'], topn=1)"
      ]
    },
    {
      "cell_type": "code",
      "execution_count": 31,
      "metadata": {
        "colab": {
          "base_uri": "https://localhost:8080/"
        },
        "id": "CgHjIW6whgw5",
        "outputId": "5687ac41-edfc-4348-9541-e781ec4f8038"
      },
      "outputs": [
        {
          "output_type": "execute_result",
          "data": {
            "text/plain": [
              "[('queen', 0.7698540687561035)]"
            ]
          },
          "metadata": {},
          "execution_count": 31
        }
      ],
      "source": [
        "model2.most_similar(positive=['woman', 'king'], negative=['man'], topn=1)"
      ]
    },
    {
      "cell_type": "code",
      "execution_count": 32,
      "metadata": {
        "colab": {
          "base_uri": "https://localhost:8080/"
        },
        "id": "Pj254mvQhgw5",
        "outputId": "e241db62-9cd8-4dcb-eac8-83c7f833e3e7"
      },
      "outputs": [
        {
          "output_type": "execute_result",
          "data": {
            "text/plain": [
              "[('lover', 0.7032662630081177)]"
            ]
          },
          "metadata": {},
          "execution_count": 32
        }
      ],
      "source": [
        "model2.most_similar(positive=['love', 'jealous'], negative=['hate'], topn=1)"
      ]
    },
    {
      "cell_type": "code",
      "execution_count": null,
      "metadata": {
        "id": "WC3ff25Rhgw5"
      },
      "outputs": [],
      "source": []
    },
    {
      "cell_type": "code",
      "execution_count": null,
      "metadata": {
        "id": "8wwqqqgEhgw5"
      },
      "outputs": [],
      "source": []
    }
  ],
  "metadata": {
    "kernelspec": {
      "display_name": "Python 3 (ipykernel)",
      "language": "python",
      "name": "python3"
    },
    "language_info": {
      "codemirror_mode": {
        "name": "ipython",
        "version": 3
      },
      "file_extension": ".py",
      "mimetype": "text/x-python",
      "name": "python",
      "nbconvert_exporter": "python",
      "pygments_lexer": "ipython3",
      "version": "3.10.13"
    },
    "colab": {
      "provenance": []
    }
  },
  "nbformat": 4,
  "nbformat_minor": 0
}