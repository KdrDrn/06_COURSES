{
  "nbformat": 4,
  "nbformat_minor": 0,
  "metadata": {
    "colab": {
      "provenance": [],
      "machine_shape": "hm",
      "gpuType": "V28"
    },
    "kernelspec": {
      "name": "python3",
      "display_name": "Python 3"
    },
    "language_info": {
      "name": "python"
    },
    "accelerator": "TPU",
    "widgets": {
      "application/vnd.jupyter.widget-state+json": {
        "3b2eb3eeab2b4267acc6b7298ca63fe1": {
          "model_module": "@jupyter-widgets/controls",
          "model_name": "HBoxModel",
          "model_module_version": "1.5.0",
          "state": {
            "_dom_classes": [],
            "_model_module": "@jupyter-widgets/controls",
            "_model_module_version": "1.5.0",
            "_model_name": "HBoxModel",
            "_view_count": null,
            "_view_module": "@jupyter-widgets/controls",
            "_view_module_version": "1.5.0",
            "_view_name": "HBoxView",
            "box_style": "",
            "children": [
              "IPY_MODEL_bb8cf3822a4344ffbd2edc63c2e31223",
              "IPY_MODEL_13bcc78034d940fba4c9fa6953c9671d",
              "IPY_MODEL_1e6efadb2a3f43c48d2dbdaefeabf057"
            ],
            "layout": "IPY_MODEL_02b2b985dc5f47d7b880fb44d066fd09"
          }
        },
        "bb8cf3822a4344ffbd2edc63c2e31223": {
          "model_module": "@jupyter-widgets/controls",
          "model_name": "HTMLModel",
          "model_module_version": "1.5.0",
          "state": {
            "_dom_classes": [],
            "_model_module": "@jupyter-widgets/controls",
            "_model_module_version": "1.5.0",
            "_model_name": "HTMLModel",
            "_view_count": null,
            "_view_module": "@jupyter-widgets/controls",
            "_view_module_version": "1.5.0",
            "_view_name": "HTMLView",
            "description": "",
            "description_tooltip": null,
            "layout": "IPY_MODEL_516248aec33647e0827eb8c5717db602",
            "placeholder": "​",
            "style": "IPY_MODEL_9c15e56acc014dd8aebb9d3256b94ff3",
            "value": "tokenizer_config.json: 100%"
          }
        },
        "13bcc78034d940fba4c9fa6953c9671d": {
          "model_module": "@jupyter-widgets/controls",
          "model_name": "FloatProgressModel",
          "model_module_version": "1.5.0",
          "state": {
            "_dom_classes": [],
            "_model_module": "@jupyter-widgets/controls",
            "_model_module_version": "1.5.0",
            "_model_name": "FloatProgressModel",
            "_view_count": null,
            "_view_module": "@jupyter-widgets/controls",
            "_view_module_version": "1.5.0",
            "_view_name": "ProgressView",
            "bar_style": "success",
            "description": "",
            "description_tooltip": null,
            "layout": "IPY_MODEL_41e49d02565242fca90d39b4ecc49aff",
            "max": 59,
            "min": 0,
            "orientation": "horizontal",
            "style": "IPY_MODEL_9f2b7b4a108e4fc8be90ffa0c47f9d25",
            "value": 59
          }
        },
        "1e6efadb2a3f43c48d2dbdaefeabf057": {
          "model_module": "@jupyter-widgets/controls",
          "model_name": "HTMLModel",
          "model_module_version": "1.5.0",
          "state": {
            "_dom_classes": [],
            "_model_module": "@jupyter-widgets/controls",
            "_model_module_version": "1.5.0",
            "_model_name": "HTMLModel",
            "_view_count": null,
            "_view_module": "@jupyter-widgets/controls",
            "_view_module_version": "1.5.0",
            "_view_name": "HTMLView",
            "description": "",
            "description_tooltip": null,
            "layout": "IPY_MODEL_12d7b642dd91402f97fada0674b13686",
            "placeholder": "​",
            "style": "IPY_MODEL_4cb857722a374f37a42c1074603545e6",
            "value": " 59.0/59.0 [00:00&lt;00:00, 5.59kB/s]"
          }
        },
        "02b2b985dc5f47d7b880fb44d066fd09": {
          "model_module": "@jupyter-widgets/base",
          "model_name": "LayoutModel",
          "model_module_version": "1.2.0",
          "state": {
            "_model_module": "@jupyter-widgets/base",
            "_model_module_version": "1.2.0",
            "_model_name": "LayoutModel",
            "_view_count": null,
            "_view_module": "@jupyter-widgets/base",
            "_view_module_version": "1.2.0",
            "_view_name": "LayoutView",
            "align_content": null,
            "align_items": null,
            "align_self": null,
            "border": null,
            "bottom": null,
            "display": null,
            "flex": null,
            "flex_flow": null,
            "grid_area": null,
            "grid_auto_columns": null,
            "grid_auto_flow": null,
            "grid_auto_rows": null,
            "grid_column": null,
            "grid_gap": null,
            "grid_row": null,
            "grid_template_areas": null,
            "grid_template_columns": null,
            "grid_template_rows": null,
            "height": null,
            "justify_content": null,
            "justify_items": null,
            "left": null,
            "margin": null,
            "max_height": null,
            "max_width": null,
            "min_height": null,
            "min_width": null,
            "object_fit": null,
            "object_position": null,
            "order": null,
            "overflow": null,
            "overflow_x": null,
            "overflow_y": null,
            "padding": null,
            "right": null,
            "top": null,
            "visibility": null,
            "width": null
          }
        },
        "516248aec33647e0827eb8c5717db602": {
          "model_module": "@jupyter-widgets/base",
          "model_name": "LayoutModel",
          "model_module_version": "1.2.0",
          "state": {
            "_model_module": "@jupyter-widgets/base",
            "_model_module_version": "1.2.0",
            "_model_name": "LayoutModel",
            "_view_count": null,
            "_view_module": "@jupyter-widgets/base",
            "_view_module_version": "1.2.0",
            "_view_name": "LayoutView",
            "align_content": null,
            "align_items": null,
            "align_self": null,
            "border": null,
            "bottom": null,
            "display": null,
            "flex": null,
            "flex_flow": null,
            "grid_area": null,
            "grid_auto_columns": null,
            "grid_auto_flow": null,
            "grid_auto_rows": null,
            "grid_column": null,
            "grid_gap": null,
            "grid_row": null,
            "grid_template_areas": null,
            "grid_template_columns": null,
            "grid_template_rows": null,
            "height": null,
            "justify_content": null,
            "justify_items": null,
            "left": null,
            "margin": null,
            "max_height": null,
            "max_width": null,
            "min_height": null,
            "min_width": null,
            "object_fit": null,
            "object_position": null,
            "order": null,
            "overflow": null,
            "overflow_x": null,
            "overflow_y": null,
            "padding": null,
            "right": null,
            "top": null,
            "visibility": null,
            "width": null
          }
        },
        "9c15e56acc014dd8aebb9d3256b94ff3": {
          "model_module": "@jupyter-widgets/controls",
          "model_name": "DescriptionStyleModel",
          "model_module_version": "1.5.0",
          "state": {
            "_model_module": "@jupyter-widgets/controls",
            "_model_module_version": "1.5.0",
            "_model_name": "DescriptionStyleModel",
            "_view_count": null,
            "_view_module": "@jupyter-widgets/base",
            "_view_module_version": "1.2.0",
            "_view_name": "StyleView",
            "description_width": ""
          }
        },
        "41e49d02565242fca90d39b4ecc49aff": {
          "model_module": "@jupyter-widgets/base",
          "model_name": "LayoutModel",
          "model_module_version": "1.2.0",
          "state": {
            "_model_module": "@jupyter-widgets/base",
            "_model_module_version": "1.2.0",
            "_model_name": "LayoutModel",
            "_view_count": null,
            "_view_module": "@jupyter-widgets/base",
            "_view_module_version": "1.2.0",
            "_view_name": "LayoutView",
            "align_content": null,
            "align_items": null,
            "align_self": null,
            "border": null,
            "bottom": null,
            "display": null,
            "flex": null,
            "flex_flow": null,
            "grid_area": null,
            "grid_auto_columns": null,
            "grid_auto_flow": null,
            "grid_auto_rows": null,
            "grid_column": null,
            "grid_gap": null,
            "grid_row": null,
            "grid_template_areas": null,
            "grid_template_columns": null,
            "grid_template_rows": null,
            "height": null,
            "justify_content": null,
            "justify_items": null,
            "left": null,
            "margin": null,
            "max_height": null,
            "max_width": null,
            "min_height": null,
            "min_width": null,
            "object_fit": null,
            "object_position": null,
            "order": null,
            "overflow": null,
            "overflow_x": null,
            "overflow_y": null,
            "padding": null,
            "right": null,
            "top": null,
            "visibility": null,
            "width": null
          }
        },
        "9f2b7b4a108e4fc8be90ffa0c47f9d25": {
          "model_module": "@jupyter-widgets/controls",
          "model_name": "ProgressStyleModel",
          "model_module_version": "1.5.0",
          "state": {
            "_model_module": "@jupyter-widgets/controls",
            "_model_module_version": "1.5.0",
            "_model_name": "ProgressStyleModel",
            "_view_count": null,
            "_view_module": "@jupyter-widgets/base",
            "_view_module_version": "1.2.0",
            "_view_name": "StyleView",
            "bar_color": null,
            "description_width": ""
          }
        },
        "12d7b642dd91402f97fada0674b13686": {
          "model_module": "@jupyter-widgets/base",
          "model_name": "LayoutModel",
          "model_module_version": "1.2.0",
          "state": {
            "_model_module": "@jupyter-widgets/base",
            "_model_module_version": "1.2.0",
            "_model_name": "LayoutModel",
            "_view_count": null,
            "_view_module": "@jupyter-widgets/base",
            "_view_module_version": "1.2.0",
            "_view_name": "LayoutView",
            "align_content": null,
            "align_items": null,
            "align_self": null,
            "border": null,
            "bottom": null,
            "display": null,
            "flex": null,
            "flex_flow": null,
            "grid_area": null,
            "grid_auto_columns": null,
            "grid_auto_flow": null,
            "grid_auto_rows": null,
            "grid_column": null,
            "grid_gap": null,
            "grid_row": null,
            "grid_template_areas": null,
            "grid_template_columns": null,
            "grid_template_rows": null,
            "height": null,
            "justify_content": null,
            "justify_items": null,
            "left": null,
            "margin": null,
            "max_height": null,
            "max_width": null,
            "min_height": null,
            "min_width": null,
            "object_fit": null,
            "object_position": null,
            "order": null,
            "overflow": null,
            "overflow_x": null,
            "overflow_y": null,
            "padding": null,
            "right": null,
            "top": null,
            "visibility": null,
            "width": null
          }
        },
        "4cb857722a374f37a42c1074603545e6": {
          "model_module": "@jupyter-widgets/controls",
          "model_name": "DescriptionStyleModel",
          "model_module_version": "1.5.0",
          "state": {
            "_model_module": "@jupyter-widgets/controls",
            "_model_module_version": "1.5.0",
            "_model_name": "DescriptionStyleModel",
            "_view_count": null,
            "_view_module": "@jupyter-widgets/base",
            "_view_module_version": "1.2.0",
            "_view_name": "StyleView",
            "description_width": ""
          }
        },
        "5e08e27142a94e7db9c2efeee3e730b1": {
          "model_module": "@jupyter-widgets/controls",
          "model_name": "HBoxModel",
          "model_module_version": "1.5.0",
          "state": {
            "_dom_classes": [],
            "_model_module": "@jupyter-widgets/controls",
            "_model_module_version": "1.5.0",
            "_model_name": "HBoxModel",
            "_view_count": null,
            "_view_module": "@jupyter-widgets/controls",
            "_view_module_version": "1.5.0",
            "_view_name": "HBoxView",
            "box_style": "",
            "children": [
              "IPY_MODEL_f665674cee724b6691d46237feb20e08",
              "IPY_MODEL_735b8419821f4ee993ede6de637e55f2",
              "IPY_MODEL_389ae32d056143dfb2c1e9291e20b64c"
            ],
            "layout": "IPY_MODEL_65e8f9107a54429c801a6bf312bd19b3"
          }
        },
        "f665674cee724b6691d46237feb20e08": {
          "model_module": "@jupyter-widgets/controls",
          "model_name": "HTMLModel",
          "model_module_version": "1.5.0",
          "state": {
            "_dom_classes": [],
            "_model_module": "@jupyter-widgets/controls",
            "_model_module_version": "1.5.0",
            "_model_name": "HTMLModel",
            "_view_count": null,
            "_view_module": "@jupyter-widgets/controls",
            "_view_module_version": "1.5.0",
            "_view_name": "HTMLView",
            "description": "",
            "description_tooltip": null,
            "layout": "IPY_MODEL_ab4bb745a542476d87fa5ae34c3a298b",
            "placeholder": "​",
            "style": "IPY_MODEL_6e618d3a515047ffa9e690fe49c55390",
            "value": "config.json: 100%"
          }
        },
        "735b8419821f4ee993ede6de637e55f2": {
          "model_module": "@jupyter-widgets/controls",
          "model_name": "FloatProgressModel",
          "model_module_version": "1.5.0",
          "state": {
            "_dom_classes": [],
            "_model_module": "@jupyter-widgets/controls",
            "_model_module_version": "1.5.0",
            "_model_name": "FloatProgressModel",
            "_view_count": null,
            "_view_module": "@jupyter-widgets/controls",
            "_view_module_version": "1.5.0",
            "_view_name": "ProgressView",
            "bar_style": "success",
            "description": "",
            "description_tooltip": null,
            "layout": "IPY_MODEL_0ee6c837b67d460e81a6e413efa1ee93",
            "max": 385,
            "min": 0,
            "orientation": "horizontal",
            "style": "IPY_MODEL_7c9f347770a148d5b3ce829a9e9a1f9b",
            "value": 385
          }
        },
        "389ae32d056143dfb2c1e9291e20b64c": {
          "model_module": "@jupyter-widgets/controls",
          "model_name": "HTMLModel",
          "model_module_version": "1.5.0",
          "state": {
            "_dom_classes": [],
            "_model_module": "@jupyter-widgets/controls",
            "_model_module_version": "1.5.0",
            "_model_name": "HTMLModel",
            "_view_count": null,
            "_view_module": "@jupyter-widgets/controls",
            "_view_module_version": "1.5.0",
            "_view_name": "HTMLView",
            "description": "",
            "description_tooltip": null,
            "layout": "IPY_MODEL_5f2defbb17f145e4a2cb2339133508c9",
            "placeholder": "​",
            "style": "IPY_MODEL_92f0f35f28fa495d8e35e9ea4012617a",
            "value": " 385/385 [00:00&lt;00:00, 35.6kB/s]"
          }
        },
        "65e8f9107a54429c801a6bf312bd19b3": {
          "model_module": "@jupyter-widgets/base",
          "model_name": "LayoutModel",
          "model_module_version": "1.2.0",
          "state": {
            "_model_module": "@jupyter-widgets/base",
            "_model_module_version": "1.2.0",
            "_model_name": "LayoutModel",
            "_view_count": null,
            "_view_module": "@jupyter-widgets/base",
            "_view_module_version": "1.2.0",
            "_view_name": "LayoutView",
            "align_content": null,
            "align_items": null,
            "align_self": null,
            "border": null,
            "bottom": null,
            "display": null,
            "flex": null,
            "flex_flow": null,
            "grid_area": null,
            "grid_auto_columns": null,
            "grid_auto_flow": null,
            "grid_auto_rows": null,
            "grid_column": null,
            "grid_gap": null,
            "grid_row": null,
            "grid_template_areas": null,
            "grid_template_columns": null,
            "grid_template_rows": null,
            "height": null,
            "justify_content": null,
            "justify_items": null,
            "left": null,
            "margin": null,
            "max_height": null,
            "max_width": null,
            "min_height": null,
            "min_width": null,
            "object_fit": null,
            "object_position": null,
            "order": null,
            "overflow": null,
            "overflow_x": null,
            "overflow_y": null,
            "padding": null,
            "right": null,
            "top": null,
            "visibility": null,
            "width": null
          }
        },
        "ab4bb745a542476d87fa5ae34c3a298b": {
          "model_module": "@jupyter-widgets/base",
          "model_name": "LayoutModel",
          "model_module_version": "1.2.0",
          "state": {
            "_model_module": "@jupyter-widgets/base",
            "_model_module_version": "1.2.0",
            "_model_name": "LayoutModel",
            "_view_count": null,
            "_view_module": "@jupyter-widgets/base",
            "_view_module_version": "1.2.0",
            "_view_name": "LayoutView",
            "align_content": null,
            "align_items": null,
            "align_self": null,
            "border": null,
            "bottom": null,
            "display": null,
            "flex": null,
            "flex_flow": null,
            "grid_area": null,
            "grid_auto_columns": null,
            "grid_auto_flow": null,
            "grid_auto_rows": null,
            "grid_column": null,
            "grid_gap": null,
            "grid_row": null,
            "grid_template_areas": null,
            "grid_template_columns": null,
            "grid_template_rows": null,
            "height": null,
            "justify_content": null,
            "justify_items": null,
            "left": null,
            "margin": null,
            "max_height": null,
            "max_width": null,
            "min_height": null,
            "min_width": null,
            "object_fit": null,
            "object_position": null,
            "order": null,
            "overflow": null,
            "overflow_x": null,
            "overflow_y": null,
            "padding": null,
            "right": null,
            "top": null,
            "visibility": null,
            "width": null
          }
        },
        "6e618d3a515047ffa9e690fe49c55390": {
          "model_module": "@jupyter-widgets/controls",
          "model_name": "DescriptionStyleModel",
          "model_module_version": "1.5.0",
          "state": {
            "_model_module": "@jupyter-widgets/controls",
            "_model_module_version": "1.5.0",
            "_model_name": "DescriptionStyleModel",
            "_view_count": null,
            "_view_module": "@jupyter-widgets/base",
            "_view_module_version": "1.2.0",
            "_view_name": "StyleView",
            "description_width": ""
          }
        },
        "0ee6c837b67d460e81a6e413efa1ee93": {
          "model_module": "@jupyter-widgets/base",
          "model_name": "LayoutModel",
          "model_module_version": "1.2.0",
          "state": {
            "_model_module": "@jupyter-widgets/base",
            "_model_module_version": "1.2.0",
            "_model_name": "LayoutModel",
            "_view_count": null,
            "_view_module": "@jupyter-widgets/base",
            "_view_module_version": "1.2.0",
            "_view_name": "LayoutView",
            "align_content": null,
            "align_items": null,
            "align_self": null,
            "border": null,
            "bottom": null,
            "display": null,
            "flex": null,
            "flex_flow": null,
            "grid_area": null,
            "grid_auto_columns": null,
            "grid_auto_flow": null,
            "grid_auto_rows": null,
            "grid_column": null,
            "grid_gap": null,
            "grid_row": null,
            "grid_template_areas": null,
            "grid_template_columns": null,
            "grid_template_rows": null,
            "height": null,
            "justify_content": null,
            "justify_items": null,
            "left": null,
            "margin": null,
            "max_height": null,
            "max_width": null,
            "min_height": null,
            "min_width": null,
            "object_fit": null,
            "object_position": null,
            "order": null,
            "overflow": null,
            "overflow_x": null,
            "overflow_y": null,
            "padding": null,
            "right": null,
            "top": null,
            "visibility": null,
            "width": null
          }
        },
        "7c9f347770a148d5b3ce829a9e9a1f9b": {
          "model_module": "@jupyter-widgets/controls",
          "model_name": "ProgressStyleModel",
          "model_module_version": "1.5.0",
          "state": {
            "_model_module": "@jupyter-widgets/controls",
            "_model_module_version": "1.5.0",
            "_model_name": "ProgressStyleModel",
            "_view_count": null,
            "_view_module": "@jupyter-widgets/base",
            "_view_module_version": "1.2.0",
            "_view_name": "StyleView",
            "bar_color": null,
            "description_width": ""
          }
        },
        "5f2defbb17f145e4a2cb2339133508c9": {
          "model_module": "@jupyter-widgets/base",
          "model_name": "LayoutModel",
          "model_module_version": "1.2.0",
          "state": {
            "_model_module": "@jupyter-widgets/base",
            "_model_module_version": "1.2.0",
            "_model_name": "LayoutModel",
            "_view_count": null,
            "_view_module": "@jupyter-widgets/base",
            "_view_module_version": "1.2.0",
            "_view_name": "LayoutView",
            "align_content": null,
            "align_items": null,
            "align_self": null,
            "border": null,
            "bottom": null,
            "display": null,
            "flex": null,
            "flex_flow": null,
            "grid_area": null,
            "grid_auto_columns": null,
            "grid_auto_flow": null,
            "grid_auto_rows": null,
            "grid_column": null,
            "grid_gap": null,
            "grid_row": null,
            "grid_template_areas": null,
            "grid_template_columns": null,
            "grid_template_rows": null,
            "height": null,
            "justify_content": null,
            "justify_items": null,
            "left": null,
            "margin": null,
            "max_height": null,
            "max_width": null,
            "min_height": null,
            "min_width": null,
            "object_fit": null,
            "object_position": null,
            "order": null,
            "overflow": null,
            "overflow_x": null,
            "overflow_y": null,
            "padding": null,
            "right": null,
            "top": null,
            "visibility": null,
            "width": null
          }
        },
        "92f0f35f28fa495d8e35e9ea4012617a": {
          "model_module": "@jupyter-widgets/controls",
          "model_name": "DescriptionStyleModel",
          "model_module_version": "1.5.0",
          "state": {
            "_model_module": "@jupyter-widgets/controls",
            "_model_module_version": "1.5.0",
            "_model_name": "DescriptionStyleModel",
            "_view_count": null,
            "_view_module": "@jupyter-widgets/base",
            "_view_module_version": "1.2.0",
            "_view_name": "StyleView",
            "description_width": ""
          }
        },
        "813a1f46252b4e528993af56f6590e69": {
          "model_module": "@jupyter-widgets/controls",
          "model_name": "HBoxModel",
          "model_module_version": "1.5.0",
          "state": {
            "_dom_classes": [],
            "_model_module": "@jupyter-widgets/controls",
            "_model_module_version": "1.5.0",
            "_model_name": "HBoxModel",
            "_view_count": null,
            "_view_module": "@jupyter-widgets/controls",
            "_view_module_version": "1.5.0",
            "_view_name": "HBoxView",
            "box_style": "",
            "children": [
              "IPY_MODEL_13563d3d7c2648cfb2939c4f39bb8b9a",
              "IPY_MODEL_f113ec8383064f6ea5c21569b02ef7ce",
              "IPY_MODEL_5c3f40e26234499fbd8e8e7feb308fd7"
            ],
            "layout": "IPY_MODEL_5da215ef23104cebbc098c931b070d36"
          }
        },
        "13563d3d7c2648cfb2939c4f39bb8b9a": {
          "model_module": "@jupyter-widgets/controls",
          "model_name": "HTMLModel",
          "model_module_version": "1.5.0",
          "state": {
            "_dom_classes": [],
            "_model_module": "@jupyter-widgets/controls",
            "_model_module_version": "1.5.0",
            "_model_name": "HTMLModel",
            "_view_count": null,
            "_view_module": "@jupyter-widgets/controls",
            "_view_module_version": "1.5.0",
            "_view_name": "HTMLView",
            "description": "",
            "description_tooltip": null,
            "layout": "IPY_MODEL_3b1fc6e367624caca742040fa7aeb7ad",
            "placeholder": "​",
            "style": "IPY_MODEL_a7525f449909487a97b05d0acfddcb06",
            "value": "vocab.txt: 100%"
          }
        },
        "f113ec8383064f6ea5c21569b02ef7ce": {
          "model_module": "@jupyter-widgets/controls",
          "model_name": "FloatProgressModel",
          "model_module_version": "1.5.0",
          "state": {
            "_dom_classes": [],
            "_model_module": "@jupyter-widgets/controls",
            "_model_module_version": "1.5.0",
            "_model_name": "FloatProgressModel",
            "_view_count": null,
            "_view_module": "@jupyter-widgets/controls",
            "_view_module_version": "1.5.0",
            "_view_name": "ProgressView",
            "bar_style": "success",
            "description": "",
            "description_tooltip": null,
            "layout": "IPY_MODEL_39d87750c1aa475fa0b492883be23929",
            "max": 262620,
            "min": 0,
            "orientation": "horizontal",
            "style": "IPY_MODEL_d6e2a75725bb487981d5603b6bc48b8a",
            "value": 262620
          }
        },
        "5c3f40e26234499fbd8e8e7feb308fd7": {
          "model_module": "@jupyter-widgets/controls",
          "model_name": "HTMLModel",
          "model_module_version": "1.5.0",
          "state": {
            "_dom_classes": [],
            "_model_module": "@jupyter-widgets/controls",
            "_model_module_version": "1.5.0",
            "_model_name": "HTMLModel",
            "_view_count": null,
            "_view_module": "@jupyter-widgets/controls",
            "_view_module_version": "1.5.0",
            "_view_name": "HTMLView",
            "description": "",
            "description_tooltip": null,
            "layout": "IPY_MODEL_ab11acda6b7044d5be6a28b6c107dd30",
            "placeholder": "​",
            "style": "IPY_MODEL_3dac7fadd9ea49e19cbb6fede80263e3",
            "value": " 263k/263k [00:00&lt;00:00, 7.40MB/s]"
          }
        },
        "5da215ef23104cebbc098c931b070d36": {
          "model_module": "@jupyter-widgets/base",
          "model_name": "LayoutModel",
          "model_module_version": "1.2.0",
          "state": {
            "_model_module": "@jupyter-widgets/base",
            "_model_module_version": "1.2.0",
            "_model_name": "LayoutModel",
            "_view_count": null,
            "_view_module": "@jupyter-widgets/base",
            "_view_module_version": "1.2.0",
            "_view_name": "LayoutView",
            "align_content": null,
            "align_items": null,
            "align_self": null,
            "border": null,
            "bottom": null,
            "display": null,
            "flex": null,
            "flex_flow": null,
            "grid_area": null,
            "grid_auto_columns": null,
            "grid_auto_flow": null,
            "grid_auto_rows": null,
            "grid_column": null,
            "grid_gap": null,
            "grid_row": null,
            "grid_template_areas": null,
            "grid_template_columns": null,
            "grid_template_rows": null,
            "height": null,
            "justify_content": null,
            "justify_items": null,
            "left": null,
            "margin": null,
            "max_height": null,
            "max_width": null,
            "min_height": null,
            "min_width": null,
            "object_fit": null,
            "object_position": null,
            "order": null,
            "overflow": null,
            "overflow_x": null,
            "overflow_y": null,
            "padding": null,
            "right": null,
            "top": null,
            "visibility": null,
            "width": null
          }
        },
        "3b1fc6e367624caca742040fa7aeb7ad": {
          "model_module": "@jupyter-widgets/base",
          "model_name": "LayoutModel",
          "model_module_version": "1.2.0",
          "state": {
            "_model_module": "@jupyter-widgets/base",
            "_model_module_version": "1.2.0",
            "_model_name": "LayoutModel",
            "_view_count": null,
            "_view_module": "@jupyter-widgets/base",
            "_view_module_version": "1.2.0",
            "_view_name": "LayoutView",
            "align_content": null,
            "align_items": null,
            "align_self": null,
            "border": null,
            "bottom": null,
            "display": null,
            "flex": null,
            "flex_flow": null,
            "grid_area": null,
            "grid_auto_columns": null,
            "grid_auto_flow": null,
            "grid_auto_rows": null,
            "grid_column": null,
            "grid_gap": null,
            "grid_row": null,
            "grid_template_areas": null,
            "grid_template_columns": null,
            "grid_template_rows": null,
            "height": null,
            "justify_content": null,
            "justify_items": null,
            "left": null,
            "margin": null,
            "max_height": null,
            "max_width": null,
            "min_height": null,
            "min_width": null,
            "object_fit": null,
            "object_position": null,
            "order": null,
            "overflow": null,
            "overflow_x": null,
            "overflow_y": null,
            "padding": null,
            "right": null,
            "top": null,
            "visibility": null,
            "width": null
          }
        },
        "a7525f449909487a97b05d0acfddcb06": {
          "model_module": "@jupyter-widgets/controls",
          "model_name": "DescriptionStyleModel",
          "model_module_version": "1.5.0",
          "state": {
            "_model_module": "@jupyter-widgets/controls",
            "_model_module_version": "1.5.0",
            "_model_name": "DescriptionStyleModel",
            "_view_count": null,
            "_view_module": "@jupyter-widgets/base",
            "_view_module_version": "1.2.0",
            "_view_name": "StyleView",
            "description_width": ""
          }
        },
        "39d87750c1aa475fa0b492883be23929": {
          "model_module": "@jupyter-widgets/base",
          "model_name": "LayoutModel",
          "model_module_version": "1.2.0",
          "state": {
            "_model_module": "@jupyter-widgets/base",
            "_model_module_version": "1.2.0",
            "_model_name": "LayoutModel",
            "_view_count": null,
            "_view_module": "@jupyter-widgets/base",
            "_view_module_version": "1.2.0",
            "_view_name": "LayoutView",
            "align_content": null,
            "align_items": null,
            "align_self": null,
            "border": null,
            "bottom": null,
            "display": null,
            "flex": null,
            "flex_flow": null,
            "grid_area": null,
            "grid_auto_columns": null,
            "grid_auto_flow": null,
            "grid_auto_rows": null,
            "grid_column": null,
            "grid_gap": null,
            "grid_row": null,
            "grid_template_areas": null,
            "grid_template_columns": null,
            "grid_template_rows": null,
            "height": null,
            "justify_content": null,
            "justify_items": null,
            "left": null,
            "margin": null,
            "max_height": null,
            "max_width": null,
            "min_height": null,
            "min_width": null,
            "object_fit": null,
            "object_position": null,
            "order": null,
            "overflow": null,
            "overflow_x": null,
            "overflow_y": null,
            "padding": null,
            "right": null,
            "top": null,
            "visibility": null,
            "width": null
          }
        },
        "d6e2a75725bb487981d5603b6bc48b8a": {
          "model_module": "@jupyter-widgets/controls",
          "model_name": "ProgressStyleModel",
          "model_module_version": "1.5.0",
          "state": {
            "_model_module": "@jupyter-widgets/controls",
            "_model_module_version": "1.5.0",
            "_model_name": "ProgressStyleModel",
            "_view_count": null,
            "_view_module": "@jupyter-widgets/base",
            "_view_module_version": "1.2.0",
            "_view_name": "StyleView",
            "bar_color": null,
            "description_width": ""
          }
        },
        "ab11acda6b7044d5be6a28b6c107dd30": {
          "model_module": "@jupyter-widgets/base",
          "model_name": "LayoutModel",
          "model_module_version": "1.2.0",
          "state": {
            "_model_module": "@jupyter-widgets/base",
            "_model_module_version": "1.2.0",
            "_model_name": "LayoutModel",
            "_view_count": null,
            "_view_module": "@jupyter-widgets/base",
            "_view_module_version": "1.2.0",
            "_view_name": "LayoutView",
            "align_content": null,
            "align_items": null,
            "align_self": null,
            "border": null,
            "bottom": null,
            "display": null,
            "flex": null,
            "flex_flow": null,
            "grid_area": null,
            "grid_auto_columns": null,
            "grid_auto_flow": null,
            "grid_auto_rows": null,
            "grid_column": null,
            "grid_gap": null,
            "grid_row": null,
            "grid_template_areas": null,
            "grid_template_columns": null,
            "grid_template_rows": null,
            "height": null,
            "justify_content": null,
            "justify_items": null,
            "left": null,
            "margin": null,
            "max_height": null,
            "max_width": null,
            "min_height": null,
            "min_width": null,
            "object_fit": null,
            "object_position": null,
            "order": null,
            "overflow": null,
            "overflow_x": null,
            "overflow_y": null,
            "padding": null,
            "right": null,
            "top": null,
            "visibility": null,
            "width": null
          }
        },
        "3dac7fadd9ea49e19cbb6fede80263e3": {
          "model_module": "@jupyter-widgets/controls",
          "model_name": "DescriptionStyleModel",
          "model_module_version": "1.5.0",
          "state": {
            "_model_module": "@jupyter-widgets/controls",
            "_model_module_version": "1.5.0",
            "_model_name": "DescriptionStyleModel",
            "_view_count": null,
            "_view_module": "@jupyter-widgets/base",
            "_view_module_version": "1.2.0",
            "_view_name": "StyleView",
            "description_width": ""
          }
        },
        "27d60330e9d74483b8854c8055fe98cd": {
          "model_module": "@jupyter-widgets/controls",
          "model_name": "HBoxModel",
          "model_module_version": "1.5.0",
          "state": {
            "_dom_classes": [],
            "_model_module": "@jupyter-widgets/controls",
            "_model_module_version": "1.5.0",
            "_model_name": "HBoxModel",
            "_view_count": null,
            "_view_module": "@jupyter-widgets/controls",
            "_view_module_version": "1.5.0",
            "_view_name": "HBoxView",
            "box_style": "",
            "children": [
              "IPY_MODEL_7aefe73f2d0c4f6fb669e4b05f93f59d",
              "IPY_MODEL_2319a233a5414ab9acec8ea588e31c5e",
              "IPY_MODEL_23629799842c46e09526bfff4a90e7a2"
            ],
            "layout": "IPY_MODEL_06892bbd8a7848a089399a4cd43374f1"
          }
        },
        "7aefe73f2d0c4f6fb669e4b05f93f59d": {
          "model_module": "@jupyter-widgets/controls",
          "model_name": "HTMLModel",
          "model_module_version": "1.5.0",
          "state": {
            "_dom_classes": [],
            "_model_module": "@jupyter-widgets/controls",
            "_model_module_version": "1.5.0",
            "_model_name": "HTMLModel",
            "_view_count": null,
            "_view_module": "@jupyter-widgets/controls",
            "_view_module_version": "1.5.0",
            "_view_name": "HTMLView",
            "description": "",
            "description_tooltip": null,
            "layout": "IPY_MODEL_cd0c4ca28a784666a62398f8228bfcc8",
            "placeholder": "​",
            "style": "IPY_MODEL_c775d96cb3d84ff7bdbc76a05eb0b041",
            "value": "Map: 100%"
          }
        },
        "2319a233a5414ab9acec8ea588e31c5e": {
          "model_module": "@jupyter-widgets/controls",
          "model_name": "FloatProgressModel",
          "model_module_version": "1.5.0",
          "state": {
            "_dom_classes": [],
            "_model_module": "@jupyter-widgets/controls",
            "_model_module_version": "1.5.0",
            "_model_name": "FloatProgressModel",
            "_view_count": null,
            "_view_module": "@jupyter-widgets/controls",
            "_view_module_version": "1.5.0",
            "_view_name": "ProgressView",
            "bar_style": "success",
            "description": "",
            "description_tooltip": null,
            "layout": "IPY_MODEL_3da6ae86864f4faea7191cb371ec54b6",
            "max": 28160,
            "min": 0,
            "orientation": "horizontal",
            "style": "IPY_MODEL_89a179eb2f2143d491cac999c62ce205",
            "value": 28160
          }
        },
        "23629799842c46e09526bfff4a90e7a2": {
          "model_module": "@jupyter-widgets/controls",
          "model_name": "HTMLModel",
          "model_module_version": "1.5.0",
          "state": {
            "_dom_classes": [],
            "_model_module": "@jupyter-widgets/controls",
            "_model_module_version": "1.5.0",
            "_model_name": "HTMLModel",
            "_view_count": null,
            "_view_module": "@jupyter-widgets/controls",
            "_view_module_version": "1.5.0",
            "_view_name": "HTMLView",
            "description": "",
            "description_tooltip": null,
            "layout": "IPY_MODEL_81b98062e1994662a19593ab9d221c85",
            "placeholder": "​",
            "style": "IPY_MODEL_628cfbe5af8e44b79c2f2fd0a9cd03e4",
            "value": " 28160/28160 [00:08&lt;00:00, 3260.57 examples/s]"
          }
        },
        "06892bbd8a7848a089399a4cd43374f1": {
          "model_module": "@jupyter-widgets/base",
          "model_name": "LayoutModel",
          "model_module_version": "1.2.0",
          "state": {
            "_model_module": "@jupyter-widgets/base",
            "_model_module_version": "1.2.0",
            "_model_name": "LayoutModel",
            "_view_count": null,
            "_view_module": "@jupyter-widgets/base",
            "_view_module_version": "1.2.0",
            "_view_name": "LayoutView",
            "align_content": null,
            "align_items": null,
            "align_self": null,
            "border": null,
            "bottom": null,
            "display": null,
            "flex": null,
            "flex_flow": null,
            "grid_area": null,
            "grid_auto_columns": null,
            "grid_auto_flow": null,
            "grid_auto_rows": null,
            "grid_column": null,
            "grid_gap": null,
            "grid_row": null,
            "grid_template_areas": null,
            "grid_template_columns": null,
            "grid_template_rows": null,
            "height": null,
            "justify_content": null,
            "justify_items": null,
            "left": null,
            "margin": null,
            "max_height": null,
            "max_width": null,
            "min_height": null,
            "min_width": null,
            "object_fit": null,
            "object_position": null,
            "order": null,
            "overflow": null,
            "overflow_x": null,
            "overflow_y": null,
            "padding": null,
            "right": null,
            "top": null,
            "visibility": null,
            "width": null
          }
        },
        "cd0c4ca28a784666a62398f8228bfcc8": {
          "model_module": "@jupyter-widgets/base",
          "model_name": "LayoutModel",
          "model_module_version": "1.2.0",
          "state": {
            "_model_module": "@jupyter-widgets/base",
            "_model_module_version": "1.2.0",
            "_model_name": "LayoutModel",
            "_view_count": null,
            "_view_module": "@jupyter-widgets/base",
            "_view_module_version": "1.2.0",
            "_view_name": "LayoutView",
            "align_content": null,
            "align_items": null,
            "align_self": null,
            "border": null,
            "bottom": null,
            "display": null,
            "flex": null,
            "flex_flow": null,
            "grid_area": null,
            "grid_auto_columns": null,
            "grid_auto_flow": null,
            "grid_auto_rows": null,
            "grid_column": null,
            "grid_gap": null,
            "grid_row": null,
            "grid_template_areas": null,
            "grid_template_columns": null,
            "grid_template_rows": null,
            "height": null,
            "justify_content": null,
            "justify_items": null,
            "left": null,
            "margin": null,
            "max_height": null,
            "max_width": null,
            "min_height": null,
            "min_width": null,
            "object_fit": null,
            "object_position": null,
            "order": null,
            "overflow": null,
            "overflow_x": null,
            "overflow_y": null,
            "padding": null,
            "right": null,
            "top": null,
            "visibility": null,
            "width": null
          }
        },
        "c775d96cb3d84ff7bdbc76a05eb0b041": {
          "model_module": "@jupyter-widgets/controls",
          "model_name": "DescriptionStyleModel",
          "model_module_version": "1.5.0",
          "state": {
            "_model_module": "@jupyter-widgets/controls",
            "_model_module_version": "1.5.0",
            "_model_name": "DescriptionStyleModel",
            "_view_count": null,
            "_view_module": "@jupyter-widgets/base",
            "_view_module_version": "1.2.0",
            "_view_name": "StyleView",
            "description_width": ""
          }
        },
        "3da6ae86864f4faea7191cb371ec54b6": {
          "model_module": "@jupyter-widgets/base",
          "model_name": "LayoutModel",
          "model_module_version": "1.2.0",
          "state": {
            "_model_module": "@jupyter-widgets/base",
            "_model_module_version": "1.2.0",
            "_model_name": "LayoutModel",
            "_view_count": null,
            "_view_module": "@jupyter-widgets/base",
            "_view_module_version": "1.2.0",
            "_view_name": "LayoutView",
            "align_content": null,
            "align_items": null,
            "align_self": null,
            "border": null,
            "bottom": null,
            "display": null,
            "flex": null,
            "flex_flow": null,
            "grid_area": null,
            "grid_auto_columns": null,
            "grid_auto_flow": null,
            "grid_auto_rows": null,
            "grid_column": null,
            "grid_gap": null,
            "grid_row": null,
            "grid_template_areas": null,
            "grid_template_columns": null,
            "grid_template_rows": null,
            "height": null,
            "justify_content": null,
            "justify_items": null,
            "left": null,
            "margin": null,
            "max_height": null,
            "max_width": null,
            "min_height": null,
            "min_width": null,
            "object_fit": null,
            "object_position": null,
            "order": null,
            "overflow": null,
            "overflow_x": null,
            "overflow_y": null,
            "padding": null,
            "right": null,
            "top": null,
            "visibility": null,
            "width": null
          }
        },
        "89a179eb2f2143d491cac999c62ce205": {
          "model_module": "@jupyter-widgets/controls",
          "model_name": "ProgressStyleModel",
          "model_module_version": "1.5.0",
          "state": {
            "_model_module": "@jupyter-widgets/controls",
            "_model_module_version": "1.5.0",
            "_model_name": "ProgressStyleModel",
            "_view_count": null,
            "_view_module": "@jupyter-widgets/base",
            "_view_module_version": "1.2.0",
            "_view_name": "StyleView",
            "bar_color": null,
            "description_width": ""
          }
        },
        "81b98062e1994662a19593ab9d221c85": {
          "model_module": "@jupyter-widgets/base",
          "model_name": "LayoutModel",
          "model_module_version": "1.2.0",
          "state": {
            "_model_module": "@jupyter-widgets/base",
            "_model_module_version": "1.2.0",
            "_model_name": "LayoutModel",
            "_view_count": null,
            "_view_module": "@jupyter-widgets/base",
            "_view_module_version": "1.2.0",
            "_view_name": "LayoutView",
            "align_content": null,
            "align_items": null,
            "align_self": null,
            "border": null,
            "bottom": null,
            "display": null,
            "flex": null,
            "flex_flow": null,
            "grid_area": null,
            "grid_auto_columns": null,
            "grid_auto_flow": null,
            "grid_auto_rows": null,
            "grid_column": null,
            "grid_gap": null,
            "grid_row": null,
            "grid_template_areas": null,
            "grid_template_columns": null,
            "grid_template_rows": null,
            "height": null,
            "justify_content": null,
            "justify_items": null,
            "left": null,
            "margin": null,
            "max_height": null,
            "max_width": null,
            "min_height": null,
            "min_width": null,
            "object_fit": null,
            "object_position": null,
            "order": null,
            "overflow": null,
            "overflow_x": null,
            "overflow_y": null,
            "padding": null,
            "right": null,
            "top": null,
            "visibility": null,
            "width": null
          }
        },
        "628cfbe5af8e44b79c2f2fd0a9cd03e4": {
          "model_module": "@jupyter-widgets/controls",
          "model_name": "DescriptionStyleModel",
          "model_module_version": "1.5.0",
          "state": {
            "_model_module": "@jupyter-widgets/controls",
            "_model_module_version": "1.5.0",
            "_model_name": "DescriptionStyleModel",
            "_view_count": null,
            "_view_module": "@jupyter-widgets/base",
            "_view_module_version": "1.2.0",
            "_view_name": "StyleView",
            "description_width": ""
          }
        },
        "d4e1a97e69a64ec3a8f25dc46420e24b": {
          "model_module": "@jupyter-widgets/controls",
          "model_name": "HBoxModel",
          "model_module_version": "1.5.0",
          "state": {
            "_dom_classes": [],
            "_model_module": "@jupyter-widgets/controls",
            "_model_module_version": "1.5.0",
            "_model_name": "HBoxModel",
            "_view_count": null,
            "_view_module": "@jupyter-widgets/controls",
            "_view_module_version": "1.5.0",
            "_view_name": "HBoxView",
            "box_style": "",
            "children": [
              "IPY_MODEL_4dcac594f70141fa9f7a0a08f014d4c2",
              "IPY_MODEL_6cea8378cd4c464faa19bfeb37cbfe26",
              "IPY_MODEL_73029ad8eea44fa092858445834d5913"
            ],
            "layout": "IPY_MODEL_d1c514c035bf4beeb92e6b186c99d557"
          }
        },
        "4dcac594f70141fa9f7a0a08f014d4c2": {
          "model_module": "@jupyter-widgets/controls",
          "model_name": "HTMLModel",
          "model_module_version": "1.5.0",
          "state": {
            "_dom_classes": [],
            "_model_module": "@jupyter-widgets/controls",
            "_model_module_version": "1.5.0",
            "_model_name": "HTMLModel",
            "_view_count": null,
            "_view_module": "@jupyter-widgets/controls",
            "_view_module_version": "1.5.0",
            "_view_name": "HTMLView",
            "description": "",
            "description_tooltip": null,
            "layout": "IPY_MODEL_d25a7464878c4ee3973deb60eb9a4b74",
            "placeholder": "​",
            "style": "IPY_MODEL_6649a1ac0a1a498a80e0a804269b86c3",
            "value": "Map: 100%"
          }
        },
        "6cea8378cd4c464faa19bfeb37cbfe26": {
          "model_module": "@jupyter-widgets/controls",
          "model_name": "FloatProgressModel",
          "model_module_version": "1.5.0",
          "state": {
            "_dom_classes": [],
            "_model_module": "@jupyter-widgets/controls",
            "_model_module_version": "1.5.0",
            "_model_name": "FloatProgressModel",
            "_view_count": null,
            "_view_module": "@jupyter-widgets/controls",
            "_view_module_version": "1.5.0",
            "_view_name": "ProgressView",
            "bar_style": "success",
            "description": "",
            "description_tooltip": null,
            "layout": "IPY_MODEL_87a9e51e44a94a198e243989a05df92e",
            "max": 7040,
            "min": 0,
            "orientation": "horizontal",
            "style": "IPY_MODEL_7540b2e97bb04f72bc54574e95f62a32",
            "value": 7040
          }
        },
        "73029ad8eea44fa092858445834d5913": {
          "model_module": "@jupyter-widgets/controls",
          "model_name": "HTMLModel",
          "model_module_version": "1.5.0",
          "state": {
            "_dom_classes": [],
            "_model_module": "@jupyter-widgets/controls",
            "_model_module_version": "1.5.0",
            "_model_name": "HTMLModel",
            "_view_count": null,
            "_view_module": "@jupyter-widgets/controls",
            "_view_module_version": "1.5.0",
            "_view_name": "HTMLView",
            "description": "",
            "description_tooltip": null,
            "layout": "IPY_MODEL_b11fd97bc7534385b457b09a079c488c",
            "placeholder": "​",
            "style": "IPY_MODEL_ca82f924fec549d1be302a5d7eb2660b",
            "value": " 7040/7040 [00:02&lt;00:00, 3477.96 examples/s]"
          }
        },
        "d1c514c035bf4beeb92e6b186c99d557": {
          "model_module": "@jupyter-widgets/base",
          "model_name": "LayoutModel",
          "model_module_version": "1.2.0",
          "state": {
            "_model_module": "@jupyter-widgets/base",
            "_model_module_version": "1.2.0",
            "_model_name": "LayoutModel",
            "_view_count": null,
            "_view_module": "@jupyter-widgets/base",
            "_view_module_version": "1.2.0",
            "_view_name": "LayoutView",
            "align_content": null,
            "align_items": null,
            "align_self": null,
            "border": null,
            "bottom": null,
            "display": null,
            "flex": null,
            "flex_flow": null,
            "grid_area": null,
            "grid_auto_columns": null,
            "grid_auto_flow": null,
            "grid_auto_rows": null,
            "grid_column": null,
            "grid_gap": null,
            "grid_row": null,
            "grid_template_areas": null,
            "grid_template_columns": null,
            "grid_template_rows": null,
            "height": null,
            "justify_content": null,
            "justify_items": null,
            "left": null,
            "margin": null,
            "max_height": null,
            "max_width": null,
            "min_height": null,
            "min_width": null,
            "object_fit": null,
            "object_position": null,
            "order": null,
            "overflow": null,
            "overflow_x": null,
            "overflow_y": null,
            "padding": null,
            "right": null,
            "top": null,
            "visibility": null,
            "width": null
          }
        },
        "d25a7464878c4ee3973deb60eb9a4b74": {
          "model_module": "@jupyter-widgets/base",
          "model_name": "LayoutModel",
          "model_module_version": "1.2.0",
          "state": {
            "_model_module": "@jupyter-widgets/base",
            "_model_module_version": "1.2.0",
            "_model_name": "LayoutModel",
            "_view_count": null,
            "_view_module": "@jupyter-widgets/base",
            "_view_module_version": "1.2.0",
            "_view_name": "LayoutView",
            "align_content": null,
            "align_items": null,
            "align_self": null,
            "border": null,
            "bottom": null,
            "display": null,
            "flex": null,
            "flex_flow": null,
            "grid_area": null,
            "grid_auto_columns": null,
            "grid_auto_flow": null,
            "grid_auto_rows": null,
            "grid_column": null,
            "grid_gap": null,
            "grid_row": null,
            "grid_template_areas": null,
            "grid_template_columns": null,
            "grid_template_rows": null,
            "height": null,
            "justify_content": null,
            "justify_items": null,
            "left": null,
            "margin": null,
            "max_height": null,
            "max_width": null,
            "min_height": null,
            "min_width": null,
            "object_fit": null,
            "object_position": null,
            "order": null,
            "overflow": null,
            "overflow_x": null,
            "overflow_y": null,
            "padding": null,
            "right": null,
            "top": null,
            "visibility": null,
            "width": null
          }
        },
        "6649a1ac0a1a498a80e0a804269b86c3": {
          "model_module": "@jupyter-widgets/controls",
          "model_name": "DescriptionStyleModel",
          "model_module_version": "1.5.0",
          "state": {
            "_model_module": "@jupyter-widgets/controls",
            "_model_module_version": "1.5.0",
            "_model_name": "DescriptionStyleModel",
            "_view_count": null,
            "_view_module": "@jupyter-widgets/base",
            "_view_module_version": "1.2.0",
            "_view_name": "StyleView",
            "description_width": ""
          }
        },
        "87a9e51e44a94a198e243989a05df92e": {
          "model_module": "@jupyter-widgets/base",
          "model_name": "LayoutModel",
          "model_module_version": "1.2.0",
          "state": {
            "_model_module": "@jupyter-widgets/base",
            "_model_module_version": "1.2.0",
            "_model_name": "LayoutModel",
            "_view_count": null,
            "_view_module": "@jupyter-widgets/base",
            "_view_module_version": "1.2.0",
            "_view_name": "LayoutView",
            "align_content": null,
            "align_items": null,
            "align_self": null,
            "border": null,
            "bottom": null,
            "display": null,
            "flex": null,
            "flex_flow": null,
            "grid_area": null,
            "grid_auto_columns": null,
            "grid_auto_flow": null,
            "grid_auto_rows": null,
            "grid_column": null,
            "grid_gap": null,
            "grid_row": null,
            "grid_template_areas": null,
            "grid_template_columns": null,
            "grid_template_rows": null,
            "height": null,
            "justify_content": null,
            "justify_items": null,
            "left": null,
            "margin": null,
            "max_height": null,
            "max_width": null,
            "min_height": null,
            "min_width": null,
            "object_fit": null,
            "object_position": null,
            "order": null,
            "overflow": null,
            "overflow_x": null,
            "overflow_y": null,
            "padding": null,
            "right": null,
            "top": null,
            "visibility": null,
            "width": null
          }
        },
        "7540b2e97bb04f72bc54574e95f62a32": {
          "model_module": "@jupyter-widgets/controls",
          "model_name": "ProgressStyleModel",
          "model_module_version": "1.5.0",
          "state": {
            "_model_module": "@jupyter-widgets/controls",
            "_model_module_version": "1.5.0",
            "_model_name": "ProgressStyleModel",
            "_view_count": null,
            "_view_module": "@jupyter-widgets/base",
            "_view_module_version": "1.2.0",
            "_view_name": "StyleView",
            "bar_color": null,
            "description_width": ""
          }
        },
        "b11fd97bc7534385b457b09a079c488c": {
          "model_module": "@jupyter-widgets/base",
          "model_name": "LayoutModel",
          "model_module_version": "1.2.0",
          "state": {
            "_model_module": "@jupyter-widgets/base",
            "_model_module_version": "1.2.0",
            "_model_name": "LayoutModel",
            "_view_count": null,
            "_view_module": "@jupyter-widgets/base",
            "_view_module_version": "1.2.0",
            "_view_name": "LayoutView",
            "align_content": null,
            "align_items": null,
            "align_self": null,
            "border": null,
            "bottom": null,
            "display": null,
            "flex": null,
            "flex_flow": null,
            "grid_area": null,
            "grid_auto_columns": null,
            "grid_auto_flow": null,
            "grid_auto_rows": null,
            "grid_column": null,
            "grid_gap": null,
            "grid_row": null,
            "grid_template_areas": null,
            "grid_template_columns": null,
            "grid_template_rows": null,
            "height": null,
            "justify_content": null,
            "justify_items": null,
            "left": null,
            "margin": null,
            "max_height": null,
            "max_width": null,
            "min_height": null,
            "min_width": null,
            "object_fit": null,
            "object_position": null,
            "order": null,
            "overflow": null,
            "overflow_x": null,
            "overflow_y": null,
            "padding": null,
            "right": null,
            "top": null,
            "visibility": null,
            "width": null
          }
        },
        "ca82f924fec549d1be302a5d7eb2660b": {
          "model_module": "@jupyter-widgets/controls",
          "model_name": "DescriptionStyleModel",
          "model_module_version": "1.5.0",
          "state": {
            "_model_module": "@jupyter-widgets/controls",
            "_model_module_version": "1.5.0",
            "_model_name": "DescriptionStyleModel",
            "_view_count": null,
            "_view_module": "@jupyter-widgets/base",
            "_view_module_version": "1.2.0",
            "_view_name": "StyleView",
            "description_width": ""
          }
        },
        "07ca483f2f5f46e1947b3392405158d9": {
          "model_module": "@jupyter-widgets/controls",
          "model_name": "HBoxModel",
          "model_module_version": "1.5.0",
          "state": {
            "_dom_classes": [],
            "_model_module": "@jupyter-widgets/controls",
            "_model_module_version": "1.5.0",
            "_model_name": "HBoxModel",
            "_view_count": null,
            "_view_module": "@jupyter-widgets/controls",
            "_view_module_version": "1.5.0",
            "_view_name": "HBoxView",
            "box_style": "",
            "children": [
              "IPY_MODEL_d789ff9635c0491ca9d3aa87f76b1ab5",
              "IPY_MODEL_93c0b650c6634f648ffee46671c8facc",
              "IPY_MODEL_9c2e5cf136c843229bed8e65a3665757"
            ],
            "layout": "IPY_MODEL_7bc92c2ec0a548e98fe20f56f136a148"
          }
        },
        "d789ff9635c0491ca9d3aa87f76b1ab5": {
          "model_module": "@jupyter-widgets/controls",
          "model_name": "HTMLModel",
          "model_module_version": "1.5.0",
          "state": {
            "_dom_classes": [],
            "_model_module": "@jupyter-widgets/controls",
            "_model_module_version": "1.5.0",
            "_model_name": "HTMLModel",
            "_view_count": null,
            "_view_module": "@jupyter-widgets/controls",
            "_view_module_version": "1.5.0",
            "_view_name": "HTMLView",
            "description": "",
            "description_tooltip": null,
            "layout": "IPY_MODEL_99d8696c65674d02b751f4886cd6b807",
            "placeholder": "​",
            "style": "IPY_MODEL_84a9b9295aec4945b11b48404f7af81f",
            "value": "tf_model.h5: 100%"
          }
        },
        "93c0b650c6634f648ffee46671c8facc": {
          "model_module": "@jupyter-widgets/controls",
          "model_name": "FloatProgressModel",
          "model_module_version": "1.5.0",
          "state": {
            "_dom_classes": [],
            "_model_module": "@jupyter-widgets/controls",
            "_model_module_version": "1.5.0",
            "_model_name": "FloatProgressModel",
            "_view_count": null,
            "_view_module": "@jupyter-widgets/controls",
            "_view_module_version": "1.5.0",
            "_view_name": "ProgressView",
            "bar_style": "success",
            "description": "",
            "description_tooltip": null,
            "layout": "IPY_MODEL_37faeed8e30d4d7db9cdfc7e8c6e6742",
            "max": 545150592,
            "min": 0,
            "orientation": "horizontal",
            "style": "IPY_MODEL_c6bd74aa4df146078a20101ecf99500d",
            "value": 545150592
          }
        },
        "9c2e5cf136c843229bed8e65a3665757": {
          "model_module": "@jupyter-widgets/controls",
          "model_name": "HTMLModel",
          "model_module_version": "1.5.0",
          "state": {
            "_dom_classes": [],
            "_model_module": "@jupyter-widgets/controls",
            "_model_module_version": "1.5.0",
            "_model_name": "HTMLModel",
            "_view_count": null,
            "_view_module": "@jupyter-widgets/controls",
            "_view_module_version": "1.5.0",
            "_view_name": "HTMLView",
            "description": "",
            "description_tooltip": null,
            "layout": "IPY_MODEL_1f1a86bfc69840419d454387680e9ea4",
            "placeholder": "​",
            "style": "IPY_MODEL_ec05bff5c18f45b896122b0caf1e13c0",
            "value": " 545M/545M [00:03&lt;00:00, 200MB/s]"
          }
        },
        "7bc92c2ec0a548e98fe20f56f136a148": {
          "model_module": "@jupyter-widgets/base",
          "model_name": "LayoutModel",
          "model_module_version": "1.2.0",
          "state": {
            "_model_module": "@jupyter-widgets/base",
            "_model_module_version": "1.2.0",
            "_model_name": "LayoutModel",
            "_view_count": null,
            "_view_module": "@jupyter-widgets/base",
            "_view_module_version": "1.2.0",
            "_view_name": "LayoutView",
            "align_content": null,
            "align_items": null,
            "align_self": null,
            "border": null,
            "bottom": null,
            "display": null,
            "flex": null,
            "flex_flow": null,
            "grid_area": null,
            "grid_auto_columns": null,
            "grid_auto_flow": null,
            "grid_auto_rows": null,
            "grid_column": null,
            "grid_gap": null,
            "grid_row": null,
            "grid_template_areas": null,
            "grid_template_columns": null,
            "grid_template_rows": null,
            "height": null,
            "justify_content": null,
            "justify_items": null,
            "left": null,
            "margin": null,
            "max_height": null,
            "max_width": null,
            "min_height": null,
            "min_width": null,
            "object_fit": null,
            "object_position": null,
            "order": null,
            "overflow": null,
            "overflow_x": null,
            "overflow_y": null,
            "padding": null,
            "right": null,
            "top": null,
            "visibility": null,
            "width": null
          }
        },
        "99d8696c65674d02b751f4886cd6b807": {
          "model_module": "@jupyter-widgets/base",
          "model_name": "LayoutModel",
          "model_module_version": "1.2.0",
          "state": {
            "_model_module": "@jupyter-widgets/base",
            "_model_module_version": "1.2.0",
            "_model_name": "LayoutModel",
            "_view_count": null,
            "_view_module": "@jupyter-widgets/base",
            "_view_module_version": "1.2.0",
            "_view_name": "LayoutView",
            "align_content": null,
            "align_items": null,
            "align_self": null,
            "border": null,
            "bottom": null,
            "display": null,
            "flex": null,
            "flex_flow": null,
            "grid_area": null,
            "grid_auto_columns": null,
            "grid_auto_flow": null,
            "grid_auto_rows": null,
            "grid_column": null,
            "grid_gap": null,
            "grid_row": null,
            "grid_template_areas": null,
            "grid_template_columns": null,
            "grid_template_rows": null,
            "height": null,
            "justify_content": null,
            "justify_items": null,
            "left": null,
            "margin": null,
            "max_height": null,
            "max_width": null,
            "min_height": null,
            "min_width": null,
            "object_fit": null,
            "object_position": null,
            "order": null,
            "overflow": null,
            "overflow_x": null,
            "overflow_y": null,
            "padding": null,
            "right": null,
            "top": null,
            "visibility": null,
            "width": null
          }
        },
        "84a9b9295aec4945b11b48404f7af81f": {
          "model_module": "@jupyter-widgets/controls",
          "model_name": "DescriptionStyleModel",
          "model_module_version": "1.5.0",
          "state": {
            "_model_module": "@jupyter-widgets/controls",
            "_model_module_version": "1.5.0",
            "_model_name": "DescriptionStyleModel",
            "_view_count": null,
            "_view_module": "@jupyter-widgets/base",
            "_view_module_version": "1.2.0",
            "_view_name": "StyleView",
            "description_width": ""
          }
        },
        "37faeed8e30d4d7db9cdfc7e8c6e6742": {
          "model_module": "@jupyter-widgets/base",
          "model_name": "LayoutModel",
          "model_module_version": "1.2.0",
          "state": {
            "_model_module": "@jupyter-widgets/base",
            "_model_module_version": "1.2.0",
            "_model_name": "LayoutModel",
            "_view_count": null,
            "_view_module": "@jupyter-widgets/base",
            "_view_module_version": "1.2.0",
            "_view_name": "LayoutView",
            "align_content": null,
            "align_items": null,
            "align_self": null,
            "border": null,
            "bottom": null,
            "display": null,
            "flex": null,
            "flex_flow": null,
            "grid_area": null,
            "grid_auto_columns": null,
            "grid_auto_flow": null,
            "grid_auto_rows": null,
            "grid_column": null,
            "grid_gap": null,
            "grid_row": null,
            "grid_template_areas": null,
            "grid_template_columns": null,
            "grid_template_rows": null,
            "height": null,
            "justify_content": null,
            "justify_items": null,
            "left": null,
            "margin": null,
            "max_height": null,
            "max_width": null,
            "min_height": null,
            "min_width": null,
            "object_fit": null,
            "object_position": null,
            "order": null,
            "overflow": null,
            "overflow_x": null,
            "overflow_y": null,
            "padding": null,
            "right": null,
            "top": null,
            "visibility": null,
            "width": null
          }
        },
        "c6bd74aa4df146078a20101ecf99500d": {
          "model_module": "@jupyter-widgets/controls",
          "model_name": "ProgressStyleModel",
          "model_module_version": "1.5.0",
          "state": {
            "_model_module": "@jupyter-widgets/controls",
            "_model_module_version": "1.5.0",
            "_model_name": "ProgressStyleModel",
            "_view_count": null,
            "_view_module": "@jupyter-widgets/base",
            "_view_module_version": "1.2.0",
            "_view_name": "StyleView",
            "bar_color": null,
            "description_width": ""
          }
        },
        "1f1a86bfc69840419d454387680e9ea4": {
          "model_module": "@jupyter-widgets/base",
          "model_name": "LayoutModel",
          "model_module_version": "1.2.0",
          "state": {
            "_model_module": "@jupyter-widgets/base",
            "_model_module_version": "1.2.0",
            "_model_name": "LayoutModel",
            "_view_count": null,
            "_view_module": "@jupyter-widgets/base",
            "_view_module_version": "1.2.0",
            "_view_name": "LayoutView",
            "align_content": null,
            "align_items": null,
            "align_self": null,
            "border": null,
            "bottom": null,
            "display": null,
            "flex": null,
            "flex_flow": null,
            "grid_area": null,
            "grid_auto_columns": null,
            "grid_auto_flow": null,
            "grid_auto_rows": null,
            "grid_column": null,
            "grid_gap": null,
            "grid_row": null,
            "grid_template_areas": null,
            "grid_template_columns": null,
            "grid_template_rows": null,
            "height": null,
            "justify_content": null,
            "justify_items": null,
            "left": null,
            "margin": null,
            "max_height": null,
            "max_width": null,
            "min_height": null,
            "min_width": null,
            "object_fit": null,
            "object_position": null,
            "order": null,
            "overflow": null,
            "overflow_x": null,
            "overflow_y": null,
            "padding": null,
            "right": null,
            "top": null,
            "visibility": null,
            "width": null
          }
        },
        "ec05bff5c18f45b896122b0caf1e13c0": {
          "model_module": "@jupyter-widgets/controls",
          "model_name": "DescriptionStyleModel",
          "model_module_version": "1.5.0",
          "state": {
            "_model_module": "@jupyter-widgets/controls",
            "_model_module_version": "1.5.0",
            "_model_name": "DescriptionStyleModel",
            "_view_count": null,
            "_view_module": "@jupyter-widgets/base",
            "_view_module_version": "1.2.0",
            "_view_name": "StyleView",
            "description_width": ""
          }
        },
        "0d9504c29727438887165a1d8fa76764": {
          "model_module": "@jupyter-widgets/controls",
          "model_name": "HBoxModel",
          "model_module_version": "1.5.0",
          "state": {
            "_dom_classes": [],
            "_model_module": "@jupyter-widgets/controls",
            "_model_module_version": "1.5.0",
            "_model_name": "HBoxModel",
            "_view_count": null,
            "_view_module": "@jupyter-widgets/controls",
            "_view_module_version": "1.5.0",
            "_view_name": "HBoxView",
            "box_style": "",
            "children": [
              "IPY_MODEL_bf24e2ea7a52405d9c511955f14e5a2a",
              "IPY_MODEL_411024cfcd72410091d3575e011bf143",
              "IPY_MODEL_faca821e55c341fea92af18de9bfb2da"
            ],
            "layout": "IPY_MODEL_55f8bf94197b4dfbad71cbd5b2bf91dc"
          }
        },
        "bf24e2ea7a52405d9c511955f14e5a2a": {
          "model_module": "@jupyter-widgets/controls",
          "model_name": "HTMLModel",
          "model_module_version": "1.5.0",
          "state": {
            "_dom_classes": [],
            "_model_module": "@jupyter-widgets/controls",
            "_model_module_version": "1.5.0",
            "_model_name": "HTMLModel",
            "_view_count": null,
            "_view_module": "@jupyter-widgets/controls",
            "_view_module_version": "1.5.0",
            "_view_name": "HTMLView",
            "description": "",
            "description_tooltip": null,
            "layout": "IPY_MODEL_2b34668245ea4c2aa227709eda157475",
            "placeholder": "​",
            "style": "IPY_MODEL_45805cdf0f594f309396ee93a8fe69b4",
            "value": "Map: 100%"
          }
        },
        "411024cfcd72410091d3575e011bf143": {
          "model_module": "@jupyter-widgets/controls",
          "model_name": "FloatProgressModel",
          "model_module_version": "1.5.0",
          "state": {
            "_dom_classes": [],
            "_model_module": "@jupyter-widgets/controls",
            "_model_module_version": "1.5.0",
            "_model_name": "FloatProgressModel",
            "_view_count": null,
            "_view_module": "@jupyter-widgets/controls",
            "_view_module_version": "1.5.0",
            "_view_name": "ProgressView",
            "bar_style": "success",
            "description": "",
            "description_tooltip": null,
            "layout": "IPY_MODEL_8c551da442044a74bb348bcf5bac7af7",
            "max": 2,
            "min": 0,
            "orientation": "horizontal",
            "style": "IPY_MODEL_7b138973ac2d476e89b4b53220efa67c",
            "value": 2
          }
        },
        "faca821e55c341fea92af18de9bfb2da": {
          "model_module": "@jupyter-widgets/controls",
          "model_name": "HTMLModel",
          "model_module_version": "1.5.0",
          "state": {
            "_dom_classes": [],
            "_model_module": "@jupyter-widgets/controls",
            "_model_module_version": "1.5.0",
            "_model_name": "HTMLModel",
            "_view_count": null,
            "_view_module": "@jupyter-widgets/controls",
            "_view_module_version": "1.5.0",
            "_view_name": "HTMLView",
            "description": "",
            "description_tooltip": null,
            "layout": "IPY_MODEL_5780d1e60f324db6999897339b97522b",
            "placeholder": "​",
            "style": "IPY_MODEL_bb4bc5359c26466aae2798e50c390247",
            "value": " 2/2 [00:00&lt;00:00, 99.26 examples/s]"
          }
        },
        "55f8bf94197b4dfbad71cbd5b2bf91dc": {
          "model_module": "@jupyter-widgets/base",
          "model_name": "LayoutModel",
          "model_module_version": "1.2.0",
          "state": {
            "_model_module": "@jupyter-widgets/base",
            "_model_module_version": "1.2.0",
            "_model_name": "LayoutModel",
            "_view_count": null,
            "_view_module": "@jupyter-widgets/base",
            "_view_module_version": "1.2.0",
            "_view_name": "LayoutView",
            "align_content": null,
            "align_items": null,
            "align_self": null,
            "border": null,
            "bottom": null,
            "display": null,
            "flex": null,
            "flex_flow": null,
            "grid_area": null,
            "grid_auto_columns": null,
            "grid_auto_flow": null,
            "grid_auto_rows": null,
            "grid_column": null,
            "grid_gap": null,
            "grid_row": null,
            "grid_template_areas": null,
            "grid_template_columns": null,
            "grid_template_rows": null,
            "height": null,
            "justify_content": null,
            "justify_items": null,
            "left": null,
            "margin": null,
            "max_height": null,
            "max_width": null,
            "min_height": null,
            "min_width": null,
            "object_fit": null,
            "object_position": null,
            "order": null,
            "overflow": null,
            "overflow_x": null,
            "overflow_y": null,
            "padding": null,
            "right": null,
            "top": null,
            "visibility": null,
            "width": null
          }
        },
        "2b34668245ea4c2aa227709eda157475": {
          "model_module": "@jupyter-widgets/base",
          "model_name": "LayoutModel",
          "model_module_version": "1.2.0",
          "state": {
            "_model_module": "@jupyter-widgets/base",
            "_model_module_version": "1.2.0",
            "_model_name": "LayoutModel",
            "_view_count": null,
            "_view_module": "@jupyter-widgets/base",
            "_view_module_version": "1.2.0",
            "_view_name": "LayoutView",
            "align_content": null,
            "align_items": null,
            "align_self": null,
            "border": null,
            "bottom": null,
            "display": null,
            "flex": null,
            "flex_flow": null,
            "grid_area": null,
            "grid_auto_columns": null,
            "grid_auto_flow": null,
            "grid_auto_rows": null,
            "grid_column": null,
            "grid_gap": null,
            "grid_row": null,
            "grid_template_areas": null,
            "grid_template_columns": null,
            "grid_template_rows": null,
            "height": null,
            "justify_content": null,
            "justify_items": null,
            "left": null,
            "margin": null,
            "max_height": null,
            "max_width": null,
            "min_height": null,
            "min_width": null,
            "object_fit": null,
            "object_position": null,
            "order": null,
            "overflow": null,
            "overflow_x": null,
            "overflow_y": null,
            "padding": null,
            "right": null,
            "top": null,
            "visibility": null,
            "width": null
          }
        },
        "45805cdf0f594f309396ee93a8fe69b4": {
          "model_module": "@jupyter-widgets/controls",
          "model_name": "DescriptionStyleModel",
          "model_module_version": "1.5.0",
          "state": {
            "_model_module": "@jupyter-widgets/controls",
            "_model_module_version": "1.5.0",
            "_model_name": "DescriptionStyleModel",
            "_view_count": null,
            "_view_module": "@jupyter-widgets/base",
            "_view_module_version": "1.2.0",
            "_view_name": "StyleView",
            "description_width": ""
          }
        },
        "8c551da442044a74bb348bcf5bac7af7": {
          "model_module": "@jupyter-widgets/base",
          "model_name": "LayoutModel",
          "model_module_version": "1.2.0",
          "state": {
            "_model_module": "@jupyter-widgets/base",
            "_model_module_version": "1.2.0",
            "_model_name": "LayoutModel",
            "_view_count": null,
            "_view_module": "@jupyter-widgets/base",
            "_view_module_version": "1.2.0",
            "_view_name": "LayoutView",
            "align_content": null,
            "align_items": null,
            "align_self": null,
            "border": null,
            "bottom": null,
            "display": null,
            "flex": null,
            "flex_flow": null,
            "grid_area": null,
            "grid_auto_columns": null,
            "grid_auto_flow": null,
            "grid_auto_rows": null,
            "grid_column": null,
            "grid_gap": null,
            "grid_row": null,
            "grid_template_areas": null,
            "grid_template_columns": null,
            "grid_template_rows": null,
            "height": null,
            "justify_content": null,
            "justify_items": null,
            "left": null,
            "margin": null,
            "max_height": null,
            "max_width": null,
            "min_height": null,
            "min_width": null,
            "object_fit": null,
            "object_position": null,
            "order": null,
            "overflow": null,
            "overflow_x": null,
            "overflow_y": null,
            "padding": null,
            "right": null,
            "top": null,
            "visibility": null,
            "width": null
          }
        },
        "7b138973ac2d476e89b4b53220efa67c": {
          "model_module": "@jupyter-widgets/controls",
          "model_name": "ProgressStyleModel",
          "model_module_version": "1.5.0",
          "state": {
            "_model_module": "@jupyter-widgets/controls",
            "_model_module_version": "1.5.0",
            "_model_name": "ProgressStyleModel",
            "_view_count": null,
            "_view_module": "@jupyter-widgets/base",
            "_view_module_version": "1.2.0",
            "_view_name": "StyleView",
            "bar_color": null,
            "description_width": ""
          }
        },
        "5780d1e60f324db6999897339b97522b": {
          "model_module": "@jupyter-widgets/base",
          "model_name": "LayoutModel",
          "model_module_version": "1.2.0",
          "state": {
            "_model_module": "@jupyter-widgets/base",
            "_model_module_version": "1.2.0",
            "_model_name": "LayoutModel",
            "_view_count": null,
            "_view_module": "@jupyter-widgets/base",
            "_view_module_version": "1.2.0",
            "_view_name": "LayoutView",
            "align_content": null,
            "align_items": null,
            "align_self": null,
            "border": null,
            "bottom": null,
            "display": null,
            "flex": null,
            "flex_flow": null,
            "grid_area": null,
            "grid_auto_columns": null,
            "grid_auto_flow": null,
            "grid_auto_rows": null,
            "grid_column": null,
            "grid_gap": null,
            "grid_row": null,
            "grid_template_areas": null,
            "grid_template_columns": null,
            "grid_template_rows": null,
            "height": null,
            "justify_content": null,
            "justify_items": null,
            "left": null,
            "margin": null,
            "max_height": null,
            "max_width": null,
            "min_height": null,
            "min_width": null,
            "object_fit": null,
            "object_position": null,
            "order": null,
            "overflow": null,
            "overflow_x": null,
            "overflow_y": null,
            "padding": null,
            "right": null,
            "top": null,
            "visibility": null,
            "width": null
          }
        },
        "bb4bc5359c26466aae2798e50c390247": {
          "model_module": "@jupyter-widgets/controls",
          "model_name": "DescriptionStyleModel",
          "model_module_version": "1.5.0",
          "state": {
            "_model_module": "@jupyter-widgets/controls",
            "_model_module_version": "1.5.0",
            "_model_name": "DescriptionStyleModel",
            "_view_count": null,
            "_view_module": "@jupyter-widgets/base",
            "_view_module_version": "1.2.0",
            "_view_name": "StyleView",
            "description_width": ""
          }
        }
      }
    }
  },
  "cells": [
    {
      "cell_type": "markdown",
      "source": [
        "## Installing Libraries\n",
        "\n"
      ],
      "metadata": {
        "id": "biZeX7ujTOhZ"
      }
    },
    {
      "cell_type": "code",
      "source": [
        "# Keras 2\n",
        "#import os\n",
        "#os.environ[\"TF_USE_LEGACY_KERAS\"] = \"1\""
      ],
      "metadata": {
        "id": "lATNFKX5OaO2"
      },
      "execution_count": null,
      "outputs": []
    },
    {
      "cell_type": "code",
      "source": [
        "!pip install -q datasets"
      ],
      "metadata": {
        "id": "EAlvDHCxrqSf",
        "colab": {
          "base_uri": "https://localhost:8080/"
        },
        "outputId": "c5957d7a-5be1-478c-d10a-f0b0e8d20edd"
      },
      "execution_count": 1,
      "outputs": [
        {
          "output_type": "stream",
          "name": "stdout",
          "text": [
            "\u001b[2K     \u001b[90m━━━━━━━━━━━━━━━━━━━━━━━━━━━━━━━━━━━━━━━━\u001b[0m \u001b[32m547.8/547.8 kB\u001b[0m \u001b[31m3.3 MB/s\u001b[0m eta \u001b[36m0:00:00\u001b[0m\n",
            "\u001b[2K     \u001b[90m━━━━━━━━━━━━━━━━━━━━━━━━━━━━━━━━━━━━━━━━\u001b[0m \u001b[32m116.3/116.3 kB\u001b[0m \u001b[31m4.4 MB/s\u001b[0m eta \u001b[36m0:00:00\u001b[0m\n",
            "\u001b[2K     \u001b[90m━━━━━━━━━━━━━━━━━━━━━━━━━━━━━━━━━━━━━━━━\u001b[0m \u001b[32m64.9/64.9 kB\u001b[0m \u001b[31m5.8 MB/s\u001b[0m eta \u001b[36m0:00:00\u001b[0m\n",
            "\u001b[2K     \u001b[90m━━━━━━━━━━━━━━━━━━━━━━━━━━━━━━━━━━━━━━━━\u001b[0m \u001b[32m194.1/194.1 kB\u001b[0m \u001b[31m9.7 MB/s\u001b[0m eta \u001b[36m0:00:00\u001b[0m\n",
            "\u001b[2K     \u001b[90m━━━━━━━━━━━━━━━━━━━━━━━━━━━━━━━━━━━━━━━━\u001b[0m \u001b[32m134.8/134.8 kB\u001b[0m \u001b[31m11.0 MB/s\u001b[0m eta \u001b[36m0:00:00\u001b[0m\n",
            "\u001b[2K     \u001b[90m━━━━━━━━━━━━━━━━━━━━━━━━━━━━━━━━━━━━━━━━\u001b[0m \u001b[32m316.1/316.1 kB\u001b[0m \u001b[31m14.0 MB/s\u001b[0m eta \u001b[36m0:00:00\u001b[0m\n",
            "\u001b[2K     \u001b[90m━━━━━━━━━━━━━━━━━━━━━━━━━━━━━━━━━━━━━━━━\u001b[0m \u001b[32m1.2/1.2 MB\u001b[0m \u001b[31m20.0 MB/s\u001b[0m eta \u001b[36m0:00:00\u001b[0m\n",
            "\u001b[2K     \u001b[90m━━━━━━━━━━━━━━━━━━━━━━━━━━━━━━━━━━━━━━━━\u001b[0m \u001b[32m239.5/239.5 kB\u001b[0m \u001b[31m16.2 MB/s\u001b[0m eta \u001b[36m0:00:00\u001b[0m\n",
            "\u001b[2K     \u001b[90m━━━━━━━━━━━━━━━━━━━━━━━━━━━━━━━━━━━━━━━━\u001b[0m \u001b[32m124.3/124.3 kB\u001b[0m \u001b[31m7.3 MB/s\u001b[0m eta \u001b[36m0:00:00\u001b[0m\n",
            "\u001b[2K     \u001b[90m━━━━━━━━━━━━━━━━━━━━━━━━━━━━━━━━━━━━━━━━\u001b[0m \u001b[32m301.6/301.6 kB\u001b[0m \u001b[31m15.4 MB/s\u001b[0m eta \u001b[36m0:00:00\u001b[0m\n",
            "\u001b[?25h\u001b[31mERROR: pip's dependency resolver does not currently take into account all the packages that are installed. This behaviour is the source of the following dependency conflicts.\n",
            "google-colab 1.0.0 requires requests==2.31.0, but you have requests 2.32.3 which is incompatible.\u001b[0m\u001b[31m\n",
            "\u001b[0m"
          ]
        }
      ]
    },
    {
      "cell_type": "code",
      "source": [
        "!pip install openpyxl #for read excel files"
      ],
      "metadata": {
        "colab": {
          "base_uri": "https://localhost:8080/"
        },
        "id": "PHkaACRkwteq",
        "outputId": "9edb9d95-28c3-4e6f-e7fd-fb6aada1fc98"
      },
      "execution_count": 2,
      "outputs": [
        {
          "output_type": "stream",
          "name": "stdout",
          "text": [
            "Collecting openpyxl\n",
            "  Downloading openpyxl-3.1.5-py2.py3-none-any.whl (250 kB)\n",
            "\u001b[2K     \u001b[90m━━━━━━━━━━━━━━━━━━━━━━━━━━━━━━━━━━━━━━━━\u001b[0m \u001b[32m250.9/250.9 kB\u001b[0m \u001b[31m2.1 MB/s\u001b[0m eta \u001b[36m0:00:00\u001b[0m\n",
            "\u001b[?25hCollecting et-xmlfile (from openpyxl)\n",
            "  Downloading et_xmlfile-1.1.0-py3-none-any.whl (4.7 kB)\n",
            "Installing collected packages: et-xmlfile, openpyxl\n",
            "Successfully installed et-xmlfile-1.1.0 openpyxl-3.1.5\n"
          ]
        }
      ]
    },
    {
      "cell_type": "markdown",
      "source": [
        "## Using TPU Cores"
      ],
      "metadata": {
        "id": "KD-ZEPiFTffT"
      }
    },
    {
      "cell_type": "code",
      "source": [
        "import tensorflow as tf\n",
        "print(\"Tensorflow version \" + tf.__version__)\n",
        "\n",
        "try:\n",
        "  tpu = tf.distribute.cluster_resolver.TPUClusterResolver()  # TPU detection\n",
        "  #TPUClusterResolver, TPU'ların bulunduğu kümeyi (cluster) bulmak için kullanılır.\n",
        "  print(f'Running on a TPU w/{tpu.num_accelerators()[\"TPU\"]} cores')\n",
        "except ValueError:\n",
        "  raise BaseException('ERROR: Not connected to a TPU runtime; please see the previous cell in this notebook for instructions!')\n",
        "\n",
        "tf.config.experimental_connect_to_cluster(tpu)\n",
        "#Bu kod satırı, TensorFlow'u daha önce oluşturulan tpu nesnesi ile belirtilen TPU kümesine bağlar.\n",
        "tf.tpu.experimental.initialize_tpu_system(tpu)\n",
        "#Bu adım, TPU sistemini başlatır ve kullanıma hazır hale getirir.\n",
        "tpu_strategy = tf.distribute.TPUStrategy(tpu)\n",
        "#Modeli birden fazla TPU çekirdeğine dağıtarak eğitimi hızlandırır."
      ],
      "metadata": {
        "colab": {
          "base_uri": "https://localhost:8080/"
        },
        "id": "vtwMnpAVGSq7",
        "outputId": "b4cc0448-7648-41a4-f888-c5a28e490217"
      },
      "execution_count": 3,
      "outputs": [
        {
          "output_type": "stream",
          "name": "stdout",
          "text": [
            "Tensorflow version 2.15.0\n",
            "Running on a TPU w/8 cores\n"
          ]
        }
      ]
    },
    {
      "cell_type": "code",
      "source": [
        "from google.colab import drive\n",
        "drive.mount('/content/drive')"
      ],
      "metadata": {
        "colab": {
          "base_uri": "https://localhost:8080/"
        },
        "id": "7Xm5gGNm9zbj",
        "outputId": "846b7f75-f323-4606-a7cd-0abea2629dc2"
      },
      "execution_count": 4,
      "outputs": [
        {
          "output_type": "stream",
          "name": "stdout",
          "text": [
            "Drive already mounted at /content/drive; to attempt to forcibly remount, call drive.mount(\"/content/drive\", force_remount=True).\n"
          ]
        }
      ]
    },
    {
      "cell_type": "markdown",
      "source": [
        "## Reading Data"
      ],
      "metadata": {
        "id": "RSArY1mxT77w"
      }
    },
    {
      "cell_type": "code",
      "source": [
        "import numpy as np\n",
        "import pandas as pd\n",
        "import warnings\n",
        "warnings.filterwarnings('ignore')"
      ],
      "metadata": {
        "id": "JKrlZV5P-r00"
      },
      "execution_count": 5,
      "outputs": []
    },
    {
      "cell_type": "code",
      "source": [
        "df = pd.read_excel('/content/drive/MyDrive/trt_11_category.xlsx')\n",
        "df"
      ],
      "metadata": {
        "colab": {
          "base_uri": "https://localhost:8080/",
          "height": 424
        },
        "id": "gxFM1DebdqkN",
        "outputId": "cb7fd860-d073-4434-d9c2-d4d52a7a64a0"
      },
      "execution_count": 6,
      "outputs": [
        {
          "output_type": "execute_result",
          "data": {
            "text/plain": [
              "       Unnamed: 0.1  Unnamed: 0  \\\n",
              "0                 0           0   \n",
              "1                 1           1   \n",
              "2                 2           2   \n",
              "3                 3           3   \n",
              "4                 4           4   \n",
              "...             ...         ...   \n",
              "35195          3195        3195   \n",
              "35196          3196        3196   \n",
              "35197          3197        3197   \n",
              "35198          3198        3198   \n",
              "35199          3199        3199   \n",
              "\n",
              "                                                   title  \\\n",
              "0      BTK'nın sosyal ağ sağlayıcılara tanıdığı süre ...   \n",
              "1      Samsung Yönetim Kurulu Başkanı Lee hayatını ka...   \n",
              "2      Yerli ve milli 5G şebekesi hedefi: Radyolink b...   \n",
              "3      Elektrik direğindeki kaçağı haber veren akıllı...   \n",
              "4      Sosyal medya sitelerinin temsilci bildirmesi i...   \n",
              "...                                                  ...   \n",
              "35195  Kahramanlığıyla iz bırakan Eren Bülbül'ün şeha...   \n",
              "35196  Kurban keserken nelere dikkat edilmeli? Kurban...   \n",
              "35197  Sanatsever kardeşlerden Fatsa'da nostaljik fil...   \n",
              "35198  Yaralı kaplumbağalar rehabilitasyon merkezinde...   \n",
              "35199  Anafartalar Zaferi'nin 104. yılında kahramanla...   \n",
              "\n",
              "                                                 context         category  \n",
              "0      Sosyal medya devlerinin temsilci bildirmesi iç...  bilim_teknoloji  \n",
              "1      Lee'nin oğlu ve Samsung'un fiili yöneticisi Le...  bilim_teknoloji  \n",
              "2      Uçtan Uca Yerli ve Milli 5G Haberleşme Şebekes...  bilim_teknoloji  \n",
              "3      Enerjisa'dan yapılan açıklamaya göre, söz konu...  bilim_teknoloji  \n",
              "4      Kamuoyunda \"Sosyal Medya Yasası\" olarak biline...  bilim_teknoloji  \n",
              "...                                                  ...              ...  \n",
              "35195  Eren Bülbül, Maçkalı Ayşe ve Hasan Bülbül çift...            yasam  \n",
              "35196  Kurban Bayramı, Müslümanlar tarafından Hicri T...            yasam  \n",
              "35197  Tiyatro ve sinemaya gönül veren Ali Can ve İlk...            yasam  \n",
              "35198  Oltalar, balıkçı ağları, plastik atıklar... De...            yasam  \n",
              "35199  Kurmay Albay Mustafa Kemal komutasındaki Mehme...            yasam  \n",
              "\n",
              "[35200 rows x 5 columns]"
            ],
            "text/html": [
              "\n",
              "  <div id=\"df-41245b7e-170b-4e82-b837-0e83aedccc48\" class=\"colab-df-container\">\n",
              "    <div>\n",
              "<style scoped>\n",
              "    .dataframe tbody tr th:only-of-type {\n",
              "        vertical-align: middle;\n",
              "    }\n",
              "\n",
              "    .dataframe tbody tr th {\n",
              "        vertical-align: top;\n",
              "    }\n",
              "\n",
              "    .dataframe thead th {\n",
              "        text-align: right;\n",
              "    }\n",
              "</style>\n",
              "<table border=\"1\" class=\"dataframe\">\n",
              "  <thead>\n",
              "    <tr style=\"text-align: right;\">\n",
              "      <th></th>\n",
              "      <th>Unnamed: 0.1</th>\n",
              "      <th>Unnamed: 0</th>\n",
              "      <th>title</th>\n",
              "      <th>context</th>\n",
              "      <th>category</th>\n",
              "    </tr>\n",
              "  </thead>\n",
              "  <tbody>\n",
              "    <tr>\n",
              "      <th>0</th>\n",
              "      <td>0</td>\n",
              "      <td>0</td>\n",
              "      <td>BTK'nın sosyal ağ sağlayıcılara tanıdığı süre ...</td>\n",
              "      <td>Sosyal medya devlerinin temsilci bildirmesi iç...</td>\n",
              "      <td>bilim_teknoloji</td>\n",
              "    </tr>\n",
              "    <tr>\n",
              "      <th>1</th>\n",
              "      <td>1</td>\n",
              "      <td>1</td>\n",
              "      <td>Samsung Yönetim Kurulu Başkanı Lee hayatını ka...</td>\n",
              "      <td>Lee'nin oğlu ve Samsung'un fiili yöneticisi Le...</td>\n",
              "      <td>bilim_teknoloji</td>\n",
              "    </tr>\n",
              "    <tr>\n",
              "      <th>2</th>\n",
              "      <td>2</td>\n",
              "      <td>2</td>\n",
              "      <td>Yerli ve milli 5G şebekesi hedefi: Radyolink b...</td>\n",
              "      <td>Uçtan Uca Yerli ve Milli 5G Haberleşme Şebekes...</td>\n",
              "      <td>bilim_teknoloji</td>\n",
              "    </tr>\n",
              "    <tr>\n",
              "      <th>3</th>\n",
              "      <td>3</td>\n",
              "      <td>3</td>\n",
              "      <td>Elektrik direğindeki kaçağı haber veren akıllı...</td>\n",
              "      <td>Enerjisa'dan yapılan açıklamaya göre, söz konu...</td>\n",
              "      <td>bilim_teknoloji</td>\n",
              "    </tr>\n",
              "    <tr>\n",
              "      <th>4</th>\n",
              "      <td>4</td>\n",
              "      <td>4</td>\n",
              "      <td>Sosyal medya sitelerinin temsilci bildirmesi i...</td>\n",
              "      <td>Kamuoyunda \"Sosyal Medya Yasası\" olarak biline...</td>\n",
              "      <td>bilim_teknoloji</td>\n",
              "    </tr>\n",
              "    <tr>\n",
              "      <th>...</th>\n",
              "      <td>...</td>\n",
              "      <td>...</td>\n",
              "      <td>...</td>\n",
              "      <td>...</td>\n",
              "      <td>...</td>\n",
              "    </tr>\n",
              "    <tr>\n",
              "      <th>35195</th>\n",
              "      <td>3195</td>\n",
              "      <td>3195</td>\n",
              "      <td>Kahramanlığıyla iz bırakan Eren Bülbül'ün şeha...</td>\n",
              "      <td>Eren Bülbül, Maçkalı Ayşe ve Hasan Bülbül çift...</td>\n",
              "      <td>yasam</td>\n",
              "    </tr>\n",
              "    <tr>\n",
              "      <th>35196</th>\n",
              "      <td>3196</td>\n",
              "      <td>3196</td>\n",
              "      <td>Kurban keserken nelere dikkat edilmeli? Kurban...</td>\n",
              "      <td>Kurban Bayramı, Müslümanlar tarafından Hicri T...</td>\n",
              "      <td>yasam</td>\n",
              "    </tr>\n",
              "    <tr>\n",
              "      <th>35197</th>\n",
              "      <td>3197</td>\n",
              "      <td>3197</td>\n",
              "      <td>Sanatsever kardeşlerden Fatsa'da nostaljik fil...</td>\n",
              "      <td>Tiyatro ve sinemaya gönül veren Ali Can ve İlk...</td>\n",
              "      <td>yasam</td>\n",
              "    </tr>\n",
              "    <tr>\n",
              "      <th>35198</th>\n",
              "      <td>3198</td>\n",
              "      <td>3198</td>\n",
              "      <td>Yaralı kaplumbağalar rehabilitasyon merkezinde...</td>\n",
              "      <td>Oltalar, balıkçı ağları, plastik atıklar... De...</td>\n",
              "      <td>yasam</td>\n",
              "    </tr>\n",
              "    <tr>\n",
              "      <th>35199</th>\n",
              "      <td>3199</td>\n",
              "      <td>3199</td>\n",
              "      <td>Anafartalar Zaferi'nin 104. yılında kahramanla...</td>\n",
              "      <td>Kurmay Albay Mustafa Kemal komutasındaki Mehme...</td>\n",
              "      <td>yasam</td>\n",
              "    </tr>\n",
              "  </tbody>\n",
              "</table>\n",
              "<p>35200 rows × 5 columns</p>\n",
              "</div>\n",
              "    <div class=\"colab-df-buttons\">\n",
              "\n",
              "  <div class=\"colab-df-container\">\n",
              "    <button class=\"colab-df-convert\" onclick=\"convertToInteractive('df-41245b7e-170b-4e82-b837-0e83aedccc48')\"\n",
              "            title=\"Convert this dataframe to an interactive table.\"\n",
              "            style=\"display:none;\">\n",
              "\n",
              "  <svg xmlns=\"http://www.w3.org/2000/svg\" height=\"24px\" viewBox=\"0 -960 960 960\">\n",
              "    <path d=\"M120-120v-720h720v720H120Zm60-500h600v-160H180v160Zm220 220h160v-160H400v160Zm0 220h160v-160H400v160ZM180-400h160v-160H180v160Zm440 0h160v-160H620v160ZM180-180h160v-160H180v160Zm440 0h160v-160H620v160Z\"/>\n",
              "  </svg>\n",
              "    </button>\n",
              "\n",
              "  <style>\n",
              "    .colab-df-container {\n",
              "      display:flex;\n",
              "      gap: 12px;\n",
              "    }\n",
              "\n",
              "    .colab-df-convert {\n",
              "      background-color: #E8F0FE;\n",
              "      border: none;\n",
              "      border-radius: 50%;\n",
              "      cursor: pointer;\n",
              "      display: none;\n",
              "      fill: #1967D2;\n",
              "      height: 32px;\n",
              "      padding: 0 0 0 0;\n",
              "      width: 32px;\n",
              "    }\n",
              "\n",
              "    .colab-df-convert:hover {\n",
              "      background-color: #E2EBFA;\n",
              "      box-shadow: 0px 1px 2px rgba(60, 64, 67, 0.3), 0px 1px 3px 1px rgba(60, 64, 67, 0.15);\n",
              "      fill: #174EA6;\n",
              "    }\n",
              "\n",
              "    .colab-df-buttons div {\n",
              "      margin-bottom: 4px;\n",
              "    }\n",
              "\n",
              "    [theme=dark] .colab-df-convert {\n",
              "      background-color: #3B4455;\n",
              "      fill: #D2E3FC;\n",
              "    }\n",
              "\n",
              "    [theme=dark] .colab-df-convert:hover {\n",
              "      background-color: #434B5C;\n",
              "      box-shadow: 0px 1px 3px 1px rgba(0, 0, 0, 0.15);\n",
              "      filter: drop-shadow(0px 1px 2px rgba(0, 0, 0, 0.3));\n",
              "      fill: #FFFFFF;\n",
              "    }\n",
              "  </style>\n",
              "\n",
              "    <script>\n",
              "      const buttonEl =\n",
              "        document.querySelector('#df-41245b7e-170b-4e82-b837-0e83aedccc48 button.colab-df-convert');\n",
              "      buttonEl.style.display =\n",
              "        google.colab.kernel.accessAllowed ? 'block' : 'none';\n",
              "\n",
              "      async function convertToInteractive(key) {\n",
              "        const element = document.querySelector('#df-41245b7e-170b-4e82-b837-0e83aedccc48');\n",
              "        const dataTable =\n",
              "          await google.colab.kernel.invokeFunction('convertToInteractive',\n",
              "                                                    [key], {});\n",
              "        if (!dataTable) return;\n",
              "\n",
              "        const docLinkHtml = 'Like what you see? Visit the ' +\n",
              "          '<a target=\"_blank\" href=https://colab.research.google.com/notebooks/data_table.ipynb>data table notebook</a>'\n",
              "          + ' to learn more about interactive tables.';\n",
              "        element.innerHTML = '';\n",
              "        dataTable['output_type'] = 'display_data';\n",
              "        await google.colab.output.renderOutput(dataTable, element);\n",
              "        const docLink = document.createElement('div');\n",
              "        docLink.innerHTML = docLinkHtml;\n",
              "        element.appendChild(docLink);\n",
              "      }\n",
              "    </script>\n",
              "  </div>\n",
              "\n",
              "\n",
              "<div id=\"df-25efc5a9-4b54-4a32-9f79-cbf2da8442b0\">\n",
              "  <button class=\"colab-df-quickchart\" onclick=\"quickchart('df-25efc5a9-4b54-4a32-9f79-cbf2da8442b0')\"\n",
              "            title=\"Suggest charts\"\n",
              "            style=\"display:none;\">\n",
              "\n",
              "<svg xmlns=\"http://www.w3.org/2000/svg\" height=\"24px\"viewBox=\"0 0 24 24\"\n",
              "     width=\"24px\">\n",
              "    <g>\n",
              "        <path d=\"M19 3H5c-1.1 0-2 .9-2 2v14c0 1.1.9 2 2 2h14c1.1 0 2-.9 2-2V5c0-1.1-.9-2-2-2zM9 17H7v-7h2v7zm4 0h-2V7h2v10zm4 0h-2v-4h2v4z\"/>\n",
              "    </g>\n",
              "</svg>\n",
              "  </button>\n",
              "\n",
              "<style>\n",
              "  .colab-df-quickchart {\n",
              "      --bg-color: #E8F0FE;\n",
              "      --fill-color: #1967D2;\n",
              "      --hover-bg-color: #E2EBFA;\n",
              "      --hover-fill-color: #174EA6;\n",
              "      --disabled-fill-color: #AAA;\n",
              "      --disabled-bg-color: #DDD;\n",
              "  }\n",
              "\n",
              "  [theme=dark] .colab-df-quickchart {\n",
              "      --bg-color: #3B4455;\n",
              "      --fill-color: #D2E3FC;\n",
              "      --hover-bg-color: #434B5C;\n",
              "      --hover-fill-color: #FFFFFF;\n",
              "      --disabled-bg-color: #3B4455;\n",
              "      --disabled-fill-color: #666;\n",
              "  }\n",
              "\n",
              "  .colab-df-quickchart {\n",
              "    background-color: var(--bg-color);\n",
              "    border: none;\n",
              "    border-radius: 50%;\n",
              "    cursor: pointer;\n",
              "    display: none;\n",
              "    fill: var(--fill-color);\n",
              "    height: 32px;\n",
              "    padding: 0;\n",
              "    width: 32px;\n",
              "  }\n",
              "\n",
              "  .colab-df-quickchart:hover {\n",
              "    background-color: var(--hover-bg-color);\n",
              "    box-shadow: 0 1px 2px rgba(60, 64, 67, 0.3), 0 1px 3px 1px rgba(60, 64, 67, 0.15);\n",
              "    fill: var(--button-hover-fill-color);\n",
              "  }\n",
              "\n",
              "  .colab-df-quickchart-complete:disabled,\n",
              "  .colab-df-quickchart-complete:disabled:hover {\n",
              "    background-color: var(--disabled-bg-color);\n",
              "    fill: var(--disabled-fill-color);\n",
              "    box-shadow: none;\n",
              "  }\n",
              "\n",
              "  .colab-df-spinner {\n",
              "    border: 2px solid var(--fill-color);\n",
              "    border-color: transparent;\n",
              "    border-bottom-color: var(--fill-color);\n",
              "    animation:\n",
              "      spin 1s steps(1) infinite;\n",
              "  }\n",
              "\n",
              "  @keyframes spin {\n",
              "    0% {\n",
              "      border-color: transparent;\n",
              "      border-bottom-color: var(--fill-color);\n",
              "      border-left-color: var(--fill-color);\n",
              "    }\n",
              "    20% {\n",
              "      border-color: transparent;\n",
              "      border-left-color: var(--fill-color);\n",
              "      border-top-color: var(--fill-color);\n",
              "    }\n",
              "    30% {\n",
              "      border-color: transparent;\n",
              "      border-left-color: var(--fill-color);\n",
              "      border-top-color: var(--fill-color);\n",
              "      border-right-color: var(--fill-color);\n",
              "    }\n",
              "    40% {\n",
              "      border-color: transparent;\n",
              "      border-right-color: var(--fill-color);\n",
              "      border-top-color: var(--fill-color);\n",
              "    }\n",
              "    60% {\n",
              "      border-color: transparent;\n",
              "      border-right-color: var(--fill-color);\n",
              "    }\n",
              "    80% {\n",
              "      border-color: transparent;\n",
              "      border-right-color: var(--fill-color);\n",
              "      border-bottom-color: var(--fill-color);\n",
              "    }\n",
              "    90% {\n",
              "      border-color: transparent;\n",
              "      border-bottom-color: var(--fill-color);\n",
              "    }\n",
              "  }\n",
              "</style>\n",
              "\n",
              "  <script>\n",
              "    async function quickchart(key) {\n",
              "      const quickchartButtonEl =\n",
              "        document.querySelector('#' + key + ' button');\n",
              "      quickchartButtonEl.disabled = true;  // To prevent multiple clicks.\n",
              "      quickchartButtonEl.classList.add('colab-df-spinner');\n",
              "      try {\n",
              "        const charts = await google.colab.kernel.invokeFunction(\n",
              "            'suggestCharts', [key], {});\n",
              "      } catch (error) {\n",
              "        console.error('Error during call to suggestCharts:', error);\n",
              "      }\n",
              "      quickchartButtonEl.classList.remove('colab-df-spinner');\n",
              "      quickchartButtonEl.classList.add('colab-df-quickchart-complete');\n",
              "    }\n",
              "    (() => {\n",
              "      let quickchartButtonEl =\n",
              "        document.querySelector('#df-25efc5a9-4b54-4a32-9f79-cbf2da8442b0 button');\n",
              "      quickchartButtonEl.style.display =\n",
              "        google.colab.kernel.accessAllowed ? 'block' : 'none';\n",
              "    })();\n",
              "  </script>\n",
              "</div>\n",
              "\n",
              "  <div id=\"id_00968462-3afc-4e7c-b1a2-968d152a229a\">\n",
              "    <style>\n",
              "      .colab-df-generate {\n",
              "        background-color: #E8F0FE;\n",
              "        border: none;\n",
              "        border-radius: 50%;\n",
              "        cursor: pointer;\n",
              "        display: none;\n",
              "        fill: #1967D2;\n",
              "        height: 32px;\n",
              "        padding: 0 0 0 0;\n",
              "        width: 32px;\n",
              "      }\n",
              "\n",
              "      .colab-df-generate:hover {\n",
              "        background-color: #E2EBFA;\n",
              "        box-shadow: 0px 1px 2px rgba(60, 64, 67, 0.3), 0px 1px 3px 1px rgba(60, 64, 67, 0.15);\n",
              "        fill: #174EA6;\n",
              "      }\n",
              "\n",
              "      [theme=dark] .colab-df-generate {\n",
              "        background-color: #3B4455;\n",
              "        fill: #D2E3FC;\n",
              "      }\n",
              "\n",
              "      [theme=dark] .colab-df-generate:hover {\n",
              "        background-color: #434B5C;\n",
              "        box-shadow: 0px 1px 3px 1px rgba(0, 0, 0, 0.15);\n",
              "        filter: drop-shadow(0px 1px 2px rgba(0, 0, 0, 0.3));\n",
              "        fill: #FFFFFF;\n",
              "      }\n",
              "    </style>\n",
              "    <button class=\"colab-df-generate\" onclick=\"generateWithVariable('df')\"\n",
              "            title=\"Generate code using this dataframe.\"\n",
              "            style=\"display:none;\">\n",
              "\n",
              "  <svg xmlns=\"http://www.w3.org/2000/svg\" height=\"24px\"viewBox=\"0 0 24 24\"\n",
              "       width=\"24px\">\n",
              "    <path d=\"M7,19H8.4L18.45,9,17,7.55,7,17.6ZM5,21V16.75L18.45,3.32a2,2,0,0,1,2.83,0l1.4,1.43a1.91,1.91,0,0,1,.58,1.4,1.91,1.91,0,0,1-.58,1.4L9.25,21ZM18.45,9,17,7.55Zm-12,3A5.31,5.31,0,0,0,4.9,8.1,5.31,5.31,0,0,0,1,6.5,5.31,5.31,0,0,0,4.9,4.9,5.31,5.31,0,0,0,6.5,1,5.31,5.31,0,0,0,8.1,4.9,5.31,5.31,0,0,0,12,6.5,5.46,5.46,0,0,0,6.5,12Z\"/>\n",
              "  </svg>\n",
              "    </button>\n",
              "    <script>\n",
              "      (() => {\n",
              "      const buttonEl =\n",
              "        document.querySelector('#id_00968462-3afc-4e7c-b1a2-968d152a229a button.colab-df-generate');\n",
              "      buttonEl.style.display =\n",
              "        google.colab.kernel.accessAllowed ? 'block' : 'none';\n",
              "\n",
              "      buttonEl.onclick = () => {\n",
              "        google.colab.notebook.generateWithVariable('df');\n",
              "      }\n",
              "      })();\n",
              "    </script>\n",
              "  </div>\n",
              "\n",
              "    </div>\n",
              "  </div>\n"
            ],
            "application/vnd.google.colaboratory.intrinsic+json": {
              "type": "dataframe",
              "variable_name": "df",
              "summary": "{\n  \"name\": \"df\",\n  \"rows\": 35200,\n  \"fields\": [\n    {\n      \"column\": \"Unnamed: 0.1\",\n      \"properties\": {\n        \"dtype\": \"number\",\n        \"std\": 923,\n        \"min\": 0,\n        \"max\": 3199,\n        \"num_unique_values\": 3200,\n        \"samples\": [\n          2384,\n          2538,\n          2176\n        ],\n        \"semantic_type\": \"\",\n        \"description\": \"\"\n      }\n    },\n    {\n      \"column\": \"Unnamed: 0\",\n      \"properties\": {\n        \"dtype\": \"number\",\n        \"std\": 923,\n        \"min\": 0,\n        \"max\": 3199,\n        \"num_unique_values\": 3200,\n        \"samples\": [\n          2384,\n          2538,\n          2176\n        ],\n        \"semantic_type\": \"\",\n        \"description\": \"\"\n      }\n    },\n    {\n      \"column\": \"title\",\n      \"properties\": {\n        \"dtype\": \"string\",\n        \"num_unique_values\": 32803,\n        \"samples\": [\n          \"Kulland\\u0131\\u011f\\u0131 halk otob\\u00fcs\\u00fcn\\u00fc oyuncak\\u00e7\\u0131ya \\u00e7evirdi\",\n          \"Sakarya merkezli FET\\u00d6 operasyonunda 25 \\u015f\\u00fcpheli g\\u00f6zalt\\u0131na al\\u0131nd\\u0131\",\n          \"Arapgirli \\u00e7ocuklar mutlu bir g\\u00fcn ya\\u015fad\\u0131\"\n        ],\n        \"semantic_type\": \"\",\n        \"description\": \"\"\n      }\n    },\n    {\n      \"column\": \"context\",\n      \"properties\": {\n        \"dtype\": \"string\",\n        \"num_unique_values\": 33359,\n        \"samples\": [\n          \"Sosyolog ve siyaset bilimci Prof. Dr. \\u015eerif Mardin (90), hayat\\u0131n\\u0131 kaybetti. Prof. Dr. Mardin, \\u0130stanbul'da bir s\\u00fcredir tedavi g\\u00f6rd\\u00fc\\u011f\\u00fc \\u00f6zel bir hastanede ak\\u015fam saatlerinde vefat etti. Mardin'in cenazesinin yar\\u0131n Yenik\\u00f6y Camisi'nde \\u00f6\\u011fle vakti k\\u0131l\\u0131nacak cenaze namaz\\u0131n\\u0131n ard\\u0131ndan topra\\u011fa verilece\\u011fi \\u00f6\\u011frenildi. Prof. Dr. \\u015eerif Mardin kimdir? 1927 y\\u0131l\\u0131nda \\u0130stanbul'da do\\u011fdu. Galatasaray Lisesi'nde ba\\u015flad\\u0131\\u011f\\u0131 orta \\u00f6\\u011frenimini ABD'de tamamlad\\u0131. Stanford \\u00dcniversitesi Siyasal Bilimler B\\u00f6l\\u00fcm\\u00fc mezuniyetinin ard\\u0131ndan lisans\\u00fcst\\u00fc e\\u011fitimini John Hopkins \\u00dcniversitesi\\u2019nde yapt\\u0131. 1954'te Siyasal Bilgiler Fak\\u00fcltesi\\u2019ne asistan olarak giren Mardin, doktoras\\u0131n\\u0131 Stanford \\u00dcniversitesi'nde tamamlad\\u0131. 1964'te do\\u00e7ent, 1969'da ise profes\\u00f6r oldu. Ankara \\u00dcniversitesi'nde 13 y\\u0131l hocal\\u0131k yapt\\u0131ktan sonra Bo\\u011fazi\\u00e7i \\u00dcniversitesi'nde \\u0130ktisadi \\u0130dari Bilimler Fak\\u00fcltesi'nin kurucu Dekanl\\u0131\\u011f\\u0131n\\u0131 ve Sosyoloji B\\u00f6l\\u00fcm\\u00fc Ba\\u015fkanl\\u0131\\u011f\\u0131 yapt\\u0131. Daha sonra yakla\\u015f\\u0131k 13 sene Washington'daki American University'de \\u0130slam Ara\\u015ft\\u0131rmalar\\u0131 Merkezi Ba\\u015fkanl\\u0131\\u011f\\u0131n\\u0131 y\\u00fcr\\u00fctt\\u00fc. Ard\\u0131ndan T\\u00fcrkiye'ye gelerek \\u00e7al\\u0131\\u015fmalar\\u0131n\\u0131 Sabanc\\u0131 \\u00dcniversitesi'nde s\\u00fcrd\\u00fcrd\\u00fc. Prof. Dr. \\u015eerif Mardin, en son \\u0130stanbul \\u015eehir \\u00dcniversitesi \\u0130nsan ve Toplum Bilimleri Fak\\u00fcltesi \\u00f6\\u011fretim \\u00fcyesi olarak g\\u00f6rev yap\\u0131yordu. Bakan Kurtulmu\\u015f, Mardin'in vefat\\u0131 nedeniyle mesaj yay\\u0131mlad\\u0131 K\\u00fclt\\u00fcr ve Turizm Bakan\\u0131 Numan Kurtulmu\\u015f, \\u0130stanbul'da tedavi g\\u00f6rd\\u00fc\\u011f\\u00fc hastanede vefat eden Prof. Dr. \\u015eerif Mardin'in eserleriyle ve akademi d\\u00fcnyas\\u0131na yapt\\u0131\\u011f\\u0131 hizmetlerle her daim sayg\\u0131yla yad edilece\\u011fini bildirdi. Kurtulmu\\u015f, sosyolog ve siyaset bilimci Prof. Dr. Mardin'in vefat\\u0131 nedeniyle mesaj yay\\u0131mlad\\u0131. Mardin'in siyaset bilimine ve fikir hayat\\u0131na \\u00f6nemli katk\\u0131larda bulunmu\\u015f, uluslararas\\u0131 alanda \\u00e7ok de\\u011ferli \\u00e7al\\u0131\\u015fmalara imza atm\\u0131\\u015f bir bilim insan\\u0131 oldu\\u011funu belirten Kurtulmu\\u015f, \\\"Eserleri ve akademi d\\u00fcnyam\\u0131za yapt\\u0131\\u011f\\u0131 hizmetlerle her daim sayg\\u0131yla yad edilecek olan Mardin'e Allah'tan rahmet, ailesine, yak\\u0131nlar\\u0131na ve sevenlerine ba\\u015fsa\\u011fl\\u0131\\u011f\\u0131 diliyorum. Mekan\\u0131 cennet olsun.\\\" ifadelerini kulland\\u0131.\",\n          \"Dar\\u00fc\\u015f\\u015fafaka E\\u011fitim Kurumlar\\u0131'ndan yap\\u0131lan a\\u00e7\\u0131klamaya g\\u00f6re, kurumun 2020 y\\u0131l\\u0131 giri\\u015f s\\u0131nav\\u0131, d\\u00fcnyayla birlikte T\\u00fcrkiye\\u2019yi de etkisi alt\\u0131na alan koronavir\\u00fcs salg\\u0131n\\u0131 nedeniyle ertelendi. Y\\u0131l ba\\u015f\\u0131nda a\\u00e7\\u0131klanan takvimde 31 May\\u0131s\\u2019ta yap\\u0131laca\\u011f\\u0131 duyurulan s\\u0131nav\\u0131n yeni tarihi 28 Haziran 2020 olarak a\\u00e7\\u0131kland\\u0131. S\\u00f6z konusu karar, Dar\\u00fc\\u015f\\u015fafaka Cemiyeti Y\\u00f6netim Kurulu taraf\\u0131ndan Milli E\\u011fitim Bakanl\\u0131\\u011f\\u0131\\u2019n\\u0131n g\\u00f6r\\u00fc\\u015f ve y\\u00f6nlendirmeleri do\\u011frultusunda al\\u0131nd\\u0131. T\\u00fcrkiye \\u00e7ap\\u0131nda 10 bine yak\\u0131n \\u00f6\\u011frencinin kat\\u0131labildi\\u011fi; babas\\u0131 veya annesi hayatta olmayan, maddi olanaklar\\u0131 yetersiz, ba\\u015far\\u0131l\\u0131 \\u00e7ocuklara paras\\u0131z, yat\\u0131l\\u0131 ve nitelikli e\\u011fitim f\\u0131rsat\\u0131 tan\\u0131yan Dar\\u00fc\\u015f\\u015fafaka E\\u011fitim Kurumlar\\u0131\\u2019n\\u0131n 2020 y\\u0131l\\u0131 s\\u0131nav\\u0131, bu kapsamda 28 Haziran 2020 Pazar g\\u00fcn\\u00fc saat 10.00'da T\\u00fcrkiye'nin 24 ilinde d\\u00fczenlenecek. S\\u0131nav hangi \\u015fehirlerde d\\u00fczenlenecek? S\\u0131nav; Adana, A\\u011fr\\u0131, Ankara, Antalya, Bal\\u0131kesir, Bursa, Denizli, Diyarbak\\u0131r, Erzurum, Gaziantep, \\u0130stanbul, \\u0130zmir, Karab\\u00fck, Kayseri, Konya, Malatya, Mardin, Mersin, Samsun, Sivas, \\u015eanl\\u0131urfa, Tekirda\\u011f, Trabzon ve Van\\u2019da ger\\u00e7ekle\\u015ftirilecek. S\\u0131nava T\\u00fcrkiye\\u2019nin her ilinden ba\\u015fvuru kabul edilecek. Bu 24 il d\\u0131\\u015f\\u0131ndan s\\u0131nava kat\\u0131lacak \\u00f6\\u011frenciler ve velilerinin ula\\u015f\\u0131m masraflar\\u0131n\\u0131 kar\\u015f\\u0131layamamas\\u0131 ve bu bedeli Dar\\u00fc\\u015f\\u015fafaka\\u2019dan talep etmeleri durumunda, bu ki\\u015filerin en yak\\u0131n s\\u0131nav merkezine gelmek i\\u00e7in yapacaklar\\u0131 ula\\u015f\\u0131m masraf\\u0131 da Dar\\u00fc\\u015f\\u015fafaka taraf\\u0131ndan kar\\u015f\\u0131lanabilecek. Bununla birlikte, t\\u00fcm s\\u0131nav merkezlerinde, Milli E\\u011fitim Bakanl\\u0131\\u011f\\u0131 ve ilgili sa\\u011fl\\u0131k birimlerinin y\\u00f6nlendirmeleri do\\u011frultusunda gerekli t\\u00fcm tedbirler al\\u0131nacak; s\\u0131nav d\\u00fczeni sosyal mesafe kural\\u0131na g\\u00f6re tasarlanacak. Ba\\u015fvurular ba\\u015flad\\u0131, elden veya posta yoluyla ula\\u015ft\\u0131r\\u0131lmas\\u0131 gerekiyor S\\u0131nava kat\\u0131lmak isteyen adaylar\\u0131n ba\\u015fvuru evraklar\\u0131n\\u0131n, Dar\\u00fc\\u015f\\u015fafaka Ortaokulu\\u2019na 22 Haziran 2020 Pazartesi g\\u00fcn\\u00fcne kadar elden veya posta yoluyla ula\\u015ft\\u0131r\\u0131lmas\\u0131 gerekiyor. S\\u0131navda ba\\u015far\\u0131l\\u0131 olan \\u00f6\\u011frenciler, sa\\u011fl\\u0131k kurulu kontrol\\u00fc ve mali durum ara\\u015ft\\u0131rmas\\u0131n\\u0131n ard\\u0131ndan ortaokuldan \\u00fcniversiteye kadar \\u00fccretsiz nitelikli e\\u011fitim alma hakk\\u0131 elde edecek. Bine yak\\u0131n \\u00f6\\u011frenci e\\u011fitim g\\u00f6r\\u00fcyor 1863 y\\u0131l\\u0131ndan bu yana e\\u011fitimde f\\u0131rsat e\\u015fitli\\u011fi misyonuyla faaliyetlerini s\\u00fcrd\\u00fcren Dar\\u00fc\\u015f\\u015fafaka\\u2019da bug\\u00fcn itibar\\u0131yla bine yak\\u0131n \\u00f6\\u011frenci e\\u011fitimine devam ediyor. \\u00d6\\u011frencilerin 8 y\\u0131l boyunca yat\\u0131l\\u0131 ve \\u00fccretsiz olarak okudu\\u011fu Dar\\u00fc\\u015f\\u015fafaka\\u2019da 24 ki\\u015filik s\\u0131n\\u0131flarda e\\u011fitim-\\u00f6\\u011fretim hayatlar\\u0131na devam eden \\u00f6\\u011frenciler \\u0130ngilizce\\u2019nin yan\\u0131 s\\u0131ra ikinci dil \\u00f6\\u011frenme f\\u0131rsat\\u0131 bulurken; okul b\\u00fcnyesinde bulunan 50\\u2019ye yak\\u0131n sosyal kul\\u00fcp sayesinde de sosyal becerilerini ve yeteneklerini geli\\u015ftirme f\\u0131rsat\\u0131 yakal\\u0131yorlar. S\\u0131nava ba\\u015fvurmak i\\u00e7in gereken \\u015fartlar? - T\\u00fcrkiye Cumhuriyeti vatanda\\u015f\\u0131 olmas\\u0131 - Annesinin ve/veya babas\\u0131n\\u0131n hayatta olmamas\\u0131 - Ailenin maddi durumunun \\u00f6\\u011frenimini s\\u00fcrd\\u00fcrmesine yeterli olmamas\\u0131 - 2009 ya da daha sonraki y\\u0131llarda do\\u011fmu\\u015f olmas\\u0131 (Ya\\u015f d\\u00fczeltmesi ge\\u00e7ersizdir.) - 2019-2020 e\\u011fitim-\\u00f6\\u011fretim y\\u0131l\\u0131nda ilkokul 4. s\\u0131n\\u0131f \\u00f6\\u011frencisi olmas\\u0131 - Beden ve ruh sa\\u011fl\\u0131\\u011f\\u0131n\\u0131n yat\\u0131l\\u0131 okulda okumaya uygun olmas\\u0131 - Yukar\\u0131daki ko\\u015fullar\\u0131n t\\u00fcm\\u00fcn\\u00fc ta\\u015f\\u0131yan adaylar, s\\u0131nav kayd\\u0131 i\\u00e7in ba\\u015fvurabilirler. Gerekli belgeler neler? - Aday\\u0131n okumakta oldu\\u011fu ilkokul m\\u00fcd\\u00fcrl\\u00fc\\u011f\\u00fcnden al\\u0131nacak ve \\u201cilkokul 4. s\\u0131n\\u0131f \\u00f6\\u011frencisi oldu\\u011funu g\\u00f6sterir imzal\\u0131 ve m\\u00fch\\u00fcrl\\u00fc belge\\u201d (Okul karnesi kabul edilmez.) - N\\u00fcfus c\\u00fczdan\\u0131 fotokopisi - Vukuatl\\u0131 aile n\\u00fcfus kayd\\u0131 \\u00f6rne\\u011fi (Suret, fotokopi, muhtar belgesi, \\u00f6l\\u00fcm tutana\\u011f\\u0131 kabul edilmez.) - Aday\\u0131n iki (2) adet yeni \\u00e7ekilmi\\u015f vesikal\\u0131k foto\\u011fraf\\u0131 - Ba\\u015fvuru Formu (doldurulmu\\u015f) -Ki\\u015fisel Verilerin Korunma Kanunu kapsam\\u0131nda ayd\\u0131nlatma metni ve aday \\u00f6\\u011frenci muvafakatnamesi (imzalanm\\u0131\\u015f olarak) Ba\\u015fvuru adresi Aday kayd\\u0131 i\\u00e7in ba\\u015fvurular online ya da elden Dar\\u00fc\\u015f\\u015fafaka Ortaokulu'na (Dar\\u00fc\\u015f\\u015fafaka Mah. Dar\\u00fc\\u015f\\u015fafaka Cad. No:5/9 Maslak 34457 Sar\\u0131yer / \\u0130STANBUL) yap\\u0131labiliyor. Ba\\u015fvuru i\\u00e7in gerekli belgelerinin Dar\\u00fc\\u015f\\u015fafaka Ortaokulu'na elden ya da postayla ula\\u015ft\\u0131r\\u0131lmas\\u0131 zorunludur.\",\n          \"D\\u00fczce \\u0130l Emniyet M\\u00fcd\\u00fcrl\\u00fc\\u011f\\u00fc Narkotik Su\\u00e7larla M\\u00fccadele \\u015eubesi ekipleri, TEM yolunda yapt\\u0131klar\\u0131 \\u00e7al\\u0131\\u015fmada N.G. y\\u00f6netimindeki otomobili durdurdu. Otomobilde yap\\u0131lan aramada 14 bin 684 uyu\\u015fturucu hap ele ge\\u00e7irildi. Soru\\u015fturman\\u0131n geni\\u015fletilmesiyle D\\u00fczce, Ankara ve \\u0130stanbul'da belirlenen adreslere e\\u015f zamanl\\u0131 operasyon d\\u00fczenlendi. Operasyonda K.L., M.U. ve Z.K. de yakaland\\u0131. G\\u00f6zalt\\u0131na al\\u0131nan 4 ki\\u015fi, emniyetteki i\\u015flemlerinin ard\\u0131ndan adliyeye sevk edildi. N.G adli kontrol \\u015fart\\u0131yla serbest kal\\u0131rken, K.L., M.U. ve Z.K. \\u00e7\\u0131kar\\u0131ld\\u0131\\u011f\\u0131 mahkemece tutukland\\u0131.\"\n        ],\n        \"semantic_type\": \"\",\n        \"description\": \"\"\n      }\n    },\n    {\n      \"column\": \"category\",\n      \"properties\": {\n        \"dtype\": \"category\",\n        \"num_unique_values\": 11,\n        \"samples\": [\n          \"gundem\",\n          \"bilim_teknoloji\",\n          \"turkiye\"\n        ],\n        \"semantic_type\": \"\",\n        \"description\": \"\"\n      }\n    }\n  ]\n}"
            }
          },
          "metadata": {},
          "execution_count": 6
        }
      ]
    },
    {
      "cell_type": "code",
      "source": [
        "df[\"context\"]=df.title+\" \"+df.context"
      ],
      "metadata": {
        "id": "pI2J_Lb1GyaE"
      },
      "execution_count": 7,
      "outputs": []
    },
    {
      "cell_type": "code",
      "source": [
        "df=df[[\"context\", \"category\"]]\n",
        "df"
      ],
      "metadata": {
        "colab": {
          "base_uri": "https://localhost:8080/",
          "height": 424
        },
        "id": "88-RrBrQeat-",
        "outputId": "75a050bd-5808-4fe5-ddbd-880413b838e8"
      },
      "execution_count": 8,
      "outputs": [
        {
          "output_type": "execute_result",
          "data": {
            "text/plain": [
              "                                                 context         category\n",
              "0      BTK'nın sosyal ağ sağlayıcılara tanıdığı süre ...  bilim_teknoloji\n",
              "1      Samsung Yönetim Kurulu Başkanı Lee hayatını ka...  bilim_teknoloji\n",
              "2      Yerli ve milli 5G şebekesi hedefi: Radyolink b...  bilim_teknoloji\n",
              "3      Elektrik direğindeki kaçağı haber veren akıllı...  bilim_teknoloji\n",
              "4      Sosyal medya sitelerinin temsilci bildirmesi i...  bilim_teknoloji\n",
              "...                                                  ...              ...\n",
              "35195  Kahramanlığıyla iz bırakan Eren Bülbül'ün şeha...            yasam\n",
              "35196  Kurban keserken nelere dikkat edilmeli? Kurban...            yasam\n",
              "35197  Sanatsever kardeşlerden Fatsa'da nostaljik fil...            yasam\n",
              "35198  Yaralı kaplumbağalar rehabilitasyon merkezinde...            yasam\n",
              "35199  Anafartalar Zaferi'nin 104. yılında kahramanla...            yasam\n",
              "\n",
              "[35200 rows x 2 columns]"
            ],
            "text/html": [
              "\n",
              "  <div id=\"df-2923b67a-9bf7-41e2-bd4e-c9b22cb9217c\" class=\"colab-df-container\">\n",
              "    <div>\n",
              "<style scoped>\n",
              "    .dataframe tbody tr th:only-of-type {\n",
              "        vertical-align: middle;\n",
              "    }\n",
              "\n",
              "    .dataframe tbody tr th {\n",
              "        vertical-align: top;\n",
              "    }\n",
              "\n",
              "    .dataframe thead th {\n",
              "        text-align: right;\n",
              "    }\n",
              "</style>\n",
              "<table border=\"1\" class=\"dataframe\">\n",
              "  <thead>\n",
              "    <tr style=\"text-align: right;\">\n",
              "      <th></th>\n",
              "      <th>context</th>\n",
              "      <th>category</th>\n",
              "    </tr>\n",
              "  </thead>\n",
              "  <tbody>\n",
              "    <tr>\n",
              "      <th>0</th>\n",
              "      <td>BTK'nın sosyal ağ sağlayıcılara tanıdığı süre ...</td>\n",
              "      <td>bilim_teknoloji</td>\n",
              "    </tr>\n",
              "    <tr>\n",
              "      <th>1</th>\n",
              "      <td>Samsung Yönetim Kurulu Başkanı Lee hayatını ka...</td>\n",
              "      <td>bilim_teknoloji</td>\n",
              "    </tr>\n",
              "    <tr>\n",
              "      <th>2</th>\n",
              "      <td>Yerli ve milli 5G şebekesi hedefi: Radyolink b...</td>\n",
              "      <td>bilim_teknoloji</td>\n",
              "    </tr>\n",
              "    <tr>\n",
              "      <th>3</th>\n",
              "      <td>Elektrik direğindeki kaçağı haber veren akıllı...</td>\n",
              "      <td>bilim_teknoloji</td>\n",
              "    </tr>\n",
              "    <tr>\n",
              "      <th>4</th>\n",
              "      <td>Sosyal medya sitelerinin temsilci bildirmesi i...</td>\n",
              "      <td>bilim_teknoloji</td>\n",
              "    </tr>\n",
              "    <tr>\n",
              "      <th>...</th>\n",
              "      <td>...</td>\n",
              "      <td>...</td>\n",
              "    </tr>\n",
              "    <tr>\n",
              "      <th>35195</th>\n",
              "      <td>Kahramanlığıyla iz bırakan Eren Bülbül'ün şeha...</td>\n",
              "      <td>yasam</td>\n",
              "    </tr>\n",
              "    <tr>\n",
              "      <th>35196</th>\n",
              "      <td>Kurban keserken nelere dikkat edilmeli? Kurban...</td>\n",
              "      <td>yasam</td>\n",
              "    </tr>\n",
              "    <tr>\n",
              "      <th>35197</th>\n",
              "      <td>Sanatsever kardeşlerden Fatsa'da nostaljik fil...</td>\n",
              "      <td>yasam</td>\n",
              "    </tr>\n",
              "    <tr>\n",
              "      <th>35198</th>\n",
              "      <td>Yaralı kaplumbağalar rehabilitasyon merkezinde...</td>\n",
              "      <td>yasam</td>\n",
              "    </tr>\n",
              "    <tr>\n",
              "      <th>35199</th>\n",
              "      <td>Anafartalar Zaferi'nin 104. yılında kahramanla...</td>\n",
              "      <td>yasam</td>\n",
              "    </tr>\n",
              "  </tbody>\n",
              "</table>\n",
              "<p>35200 rows × 2 columns</p>\n",
              "</div>\n",
              "    <div class=\"colab-df-buttons\">\n",
              "\n",
              "  <div class=\"colab-df-container\">\n",
              "    <button class=\"colab-df-convert\" onclick=\"convertToInteractive('df-2923b67a-9bf7-41e2-bd4e-c9b22cb9217c')\"\n",
              "            title=\"Convert this dataframe to an interactive table.\"\n",
              "            style=\"display:none;\">\n",
              "\n",
              "  <svg xmlns=\"http://www.w3.org/2000/svg\" height=\"24px\" viewBox=\"0 -960 960 960\">\n",
              "    <path d=\"M120-120v-720h720v720H120Zm60-500h600v-160H180v160Zm220 220h160v-160H400v160Zm0 220h160v-160H400v160ZM180-400h160v-160H180v160Zm440 0h160v-160H620v160ZM180-180h160v-160H180v160Zm440 0h160v-160H620v160Z\"/>\n",
              "  </svg>\n",
              "    </button>\n",
              "\n",
              "  <style>\n",
              "    .colab-df-container {\n",
              "      display:flex;\n",
              "      gap: 12px;\n",
              "    }\n",
              "\n",
              "    .colab-df-convert {\n",
              "      background-color: #E8F0FE;\n",
              "      border: none;\n",
              "      border-radius: 50%;\n",
              "      cursor: pointer;\n",
              "      display: none;\n",
              "      fill: #1967D2;\n",
              "      height: 32px;\n",
              "      padding: 0 0 0 0;\n",
              "      width: 32px;\n",
              "    }\n",
              "\n",
              "    .colab-df-convert:hover {\n",
              "      background-color: #E2EBFA;\n",
              "      box-shadow: 0px 1px 2px rgba(60, 64, 67, 0.3), 0px 1px 3px 1px rgba(60, 64, 67, 0.15);\n",
              "      fill: #174EA6;\n",
              "    }\n",
              "\n",
              "    .colab-df-buttons div {\n",
              "      margin-bottom: 4px;\n",
              "    }\n",
              "\n",
              "    [theme=dark] .colab-df-convert {\n",
              "      background-color: #3B4455;\n",
              "      fill: #D2E3FC;\n",
              "    }\n",
              "\n",
              "    [theme=dark] .colab-df-convert:hover {\n",
              "      background-color: #434B5C;\n",
              "      box-shadow: 0px 1px 3px 1px rgba(0, 0, 0, 0.15);\n",
              "      filter: drop-shadow(0px 1px 2px rgba(0, 0, 0, 0.3));\n",
              "      fill: #FFFFFF;\n",
              "    }\n",
              "  </style>\n",
              "\n",
              "    <script>\n",
              "      const buttonEl =\n",
              "        document.querySelector('#df-2923b67a-9bf7-41e2-bd4e-c9b22cb9217c button.colab-df-convert');\n",
              "      buttonEl.style.display =\n",
              "        google.colab.kernel.accessAllowed ? 'block' : 'none';\n",
              "\n",
              "      async function convertToInteractive(key) {\n",
              "        const element = document.querySelector('#df-2923b67a-9bf7-41e2-bd4e-c9b22cb9217c');\n",
              "        const dataTable =\n",
              "          await google.colab.kernel.invokeFunction('convertToInteractive',\n",
              "                                                    [key], {});\n",
              "        if (!dataTable) return;\n",
              "\n",
              "        const docLinkHtml = 'Like what you see? Visit the ' +\n",
              "          '<a target=\"_blank\" href=https://colab.research.google.com/notebooks/data_table.ipynb>data table notebook</a>'\n",
              "          + ' to learn more about interactive tables.';\n",
              "        element.innerHTML = '';\n",
              "        dataTable['output_type'] = 'display_data';\n",
              "        await google.colab.output.renderOutput(dataTable, element);\n",
              "        const docLink = document.createElement('div');\n",
              "        docLink.innerHTML = docLinkHtml;\n",
              "        element.appendChild(docLink);\n",
              "      }\n",
              "    </script>\n",
              "  </div>\n",
              "\n",
              "\n",
              "<div id=\"df-039925de-069c-450e-b556-eb80b9c84de6\">\n",
              "  <button class=\"colab-df-quickchart\" onclick=\"quickchart('df-039925de-069c-450e-b556-eb80b9c84de6')\"\n",
              "            title=\"Suggest charts\"\n",
              "            style=\"display:none;\">\n",
              "\n",
              "<svg xmlns=\"http://www.w3.org/2000/svg\" height=\"24px\"viewBox=\"0 0 24 24\"\n",
              "     width=\"24px\">\n",
              "    <g>\n",
              "        <path d=\"M19 3H5c-1.1 0-2 .9-2 2v14c0 1.1.9 2 2 2h14c1.1 0 2-.9 2-2V5c0-1.1-.9-2-2-2zM9 17H7v-7h2v7zm4 0h-2V7h2v10zm4 0h-2v-4h2v4z\"/>\n",
              "    </g>\n",
              "</svg>\n",
              "  </button>\n",
              "\n",
              "<style>\n",
              "  .colab-df-quickchart {\n",
              "      --bg-color: #E8F0FE;\n",
              "      --fill-color: #1967D2;\n",
              "      --hover-bg-color: #E2EBFA;\n",
              "      --hover-fill-color: #174EA6;\n",
              "      --disabled-fill-color: #AAA;\n",
              "      --disabled-bg-color: #DDD;\n",
              "  }\n",
              "\n",
              "  [theme=dark] .colab-df-quickchart {\n",
              "      --bg-color: #3B4455;\n",
              "      --fill-color: #D2E3FC;\n",
              "      --hover-bg-color: #434B5C;\n",
              "      --hover-fill-color: #FFFFFF;\n",
              "      --disabled-bg-color: #3B4455;\n",
              "      --disabled-fill-color: #666;\n",
              "  }\n",
              "\n",
              "  .colab-df-quickchart {\n",
              "    background-color: var(--bg-color);\n",
              "    border: none;\n",
              "    border-radius: 50%;\n",
              "    cursor: pointer;\n",
              "    display: none;\n",
              "    fill: var(--fill-color);\n",
              "    height: 32px;\n",
              "    padding: 0;\n",
              "    width: 32px;\n",
              "  }\n",
              "\n",
              "  .colab-df-quickchart:hover {\n",
              "    background-color: var(--hover-bg-color);\n",
              "    box-shadow: 0 1px 2px rgba(60, 64, 67, 0.3), 0 1px 3px 1px rgba(60, 64, 67, 0.15);\n",
              "    fill: var(--button-hover-fill-color);\n",
              "  }\n",
              "\n",
              "  .colab-df-quickchart-complete:disabled,\n",
              "  .colab-df-quickchart-complete:disabled:hover {\n",
              "    background-color: var(--disabled-bg-color);\n",
              "    fill: var(--disabled-fill-color);\n",
              "    box-shadow: none;\n",
              "  }\n",
              "\n",
              "  .colab-df-spinner {\n",
              "    border: 2px solid var(--fill-color);\n",
              "    border-color: transparent;\n",
              "    border-bottom-color: var(--fill-color);\n",
              "    animation:\n",
              "      spin 1s steps(1) infinite;\n",
              "  }\n",
              "\n",
              "  @keyframes spin {\n",
              "    0% {\n",
              "      border-color: transparent;\n",
              "      border-bottom-color: var(--fill-color);\n",
              "      border-left-color: var(--fill-color);\n",
              "    }\n",
              "    20% {\n",
              "      border-color: transparent;\n",
              "      border-left-color: var(--fill-color);\n",
              "      border-top-color: var(--fill-color);\n",
              "    }\n",
              "    30% {\n",
              "      border-color: transparent;\n",
              "      border-left-color: var(--fill-color);\n",
              "      border-top-color: var(--fill-color);\n",
              "      border-right-color: var(--fill-color);\n",
              "    }\n",
              "    40% {\n",
              "      border-color: transparent;\n",
              "      border-right-color: var(--fill-color);\n",
              "      border-top-color: var(--fill-color);\n",
              "    }\n",
              "    60% {\n",
              "      border-color: transparent;\n",
              "      border-right-color: var(--fill-color);\n",
              "    }\n",
              "    80% {\n",
              "      border-color: transparent;\n",
              "      border-right-color: var(--fill-color);\n",
              "      border-bottom-color: var(--fill-color);\n",
              "    }\n",
              "    90% {\n",
              "      border-color: transparent;\n",
              "      border-bottom-color: var(--fill-color);\n",
              "    }\n",
              "  }\n",
              "</style>\n",
              "\n",
              "  <script>\n",
              "    async function quickchart(key) {\n",
              "      const quickchartButtonEl =\n",
              "        document.querySelector('#' + key + ' button');\n",
              "      quickchartButtonEl.disabled = true;  // To prevent multiple clicks.\n",
              "      quickchartButtonEl.classList.add('colab-df-spinner');\n",
              "      try {\n",
              "        const charts = await google.colab.kernel.invokeFunction(\n",
              "            'suggestCharts', [key], {});\n",
              "      } catch (error) {\n",
              "        console.error('Error during call to suggestCharts:', error);\n",
              "      }\n",
              "      quickchartButtonEl.classList.remove('colab-df-spinner');\n",
              "      quickchartButtonEl.classList.add('colab-df-quickchart-complete');\n",
              "    }\n",
              "    (() => {\n",
              "      let quickchartButtonEl =\n",
              "        document.querySelector('#df-039925de-069c-450e-b556-eb80b9c84de6 button');\n",
              "      quickchartButtonEl.style.display =\n",
              "        google.colab.kernel.accessAllowed ? 'block' : 'none';\n",
              "    })();\n",
              "  </script>\n",
              "</div>\n",
              "\n",
              "  <div id=\"id_1052a72b-1ddf-45ab-b662-c48c90ef4101\">\n",
              "    <style>\n",
              "      .colab-df-generate {\n",
              "        background-color: #E8F0FE;\n",
              "        border: none;\n",
              "        border-radius: 50%;\n",
              "        cursor: pointer;\n",
              "        display: none;\n",
              "        fill: #1967D2;\n",
              "        height: 32px;\n",
              "        padding: 0 0 0 0;\n",
              "        width: 32px;\n",
              "      }\n",
              "\n",
              "      .colab-df-generate:hover {\n",
              "        background-color: #E2EBFA;\n",
              "        box-shadow: 0px 1px 2px rgba(60, 64, 67, 0.3), 0px 1px 3px 1px rgba(60, 64, 67, 0.15);\n",
              "        fill: #174EA6;\n",
              "      }\n",
              "\n",
              "      [theme=dark] .colab-df-generate {\n",
              "        background-color: #3B4455;\n",
              "        fill: #D2E3FC;\n",
              "      }\n",
              "\n",
              "      [theme=dark] .colab-df-generate:hover {\n",
              "        background-color: #434B5C;\n",
              "        box-shadow: 0px 1px 3px 1px rgba(0, 0, 0, 0.15);\n",
              "        filter: drop-shadow(0px 1px 2px rgba(0, 0, 0, 0.3));\n",
              "        fill: #FFFFFF;\n",
              "      }\n",
              "    </style>\n",
              "    <button class=\"colab-df-generate\" onclick=\"generateWithVariable('df')\"\n",
              "            title=\"Generate code using this dataframe.\"\n",
              "            style=\"display:none;\">\n",
              "\n",
              "  <svg xmlns=\"http://www.w3.org/2000/svg\" height=\"24px\"viewBox=\"0 0 24 24\"\n",
              "       width=\"24px\">\n",
              "    <path d=\"M7,19H8.4L18.45,9,17,7.55,7,17.6ZM5,21V16.75L18.45,3.32a2,2,0,0,1,2.83,0l1.4,1.43a1.91,1.91,0,0,1,.58,1.4,1.91,1.91,0,0,1-.58,1.4L9.25,21ZM18.45,9,17,7.55Zm-12,3A5.31,5.31,0,0,0,4.9,8.1,5.31,5.31,0,0,0,1,6.5,5.31,5.31,0,0,0,4.9,4.9,5.31,5.31,0,0,0,6.5,1,5.31,5.31,0,0,0,8.1,4.9,5.31,5.31,0,0,0,12,6.5,5.46,5.46,0,0,0,6.5,12Z\"/>\n",
              "  </svg>\n",
              "    </button>\n",
              "    <script>\n",
              "      (() => {\n",
              "      const buttonEl =\n",
              "        document.querySelector('#id_1052a72b-1ddf-45ab-b662-c48c90ef4101 button.colab-df-generate');\n",
              "      buttonEl.style.display =\n",
              "        google.colab.kernel.accessAllowed ? 'block' : 'none';\n",
              "\n",
              "      buttonEl.onclick = () => {\n",
              "        google.colab.notebook.generateWithVariable('df');\n",
              "      }\n",
              "      })();\n",
              "    </script>\n",
              "  </div>\n",
              "\n",
              "    </div>\n",
              "  </div>\n"
            ],
            "application/vnd.google.colaboratory.intrinsic+json": {
              "type": "dataframe",
              "variable_name": "df",
              "summary": "{\n  \"name\": \"df\",\n  \"rows\": 35200,\n  \"fields\": [\n    {\n      \"column\": \"context\",\n      \"properties\": {\n        \"dtype\": \"string\",\n        \"num_unique_values\": 33573,\n        \"samples\": [\n          \"Kapal\\u0131 Mara\\u015f'\\u0131n bir k\\u0131sm\\u0131 kullan\\u0131ma a\\u00e7\\u0131ld\\u0131 2019 y\\u0131l\\u0131nda ba\\u015flayan envanter \\u00e7al\\u0131\\u015fmalar\\u0131n\\u0131n ard\\u0131ndan Kapal\\u0131 Mara\\u015f bug\\u00fcn a\\u00e7\\u0131ld\\u0131. Kuzey K\\u0131br\\u0131s T\\u00fcrk Cumhuriyeti halk\\u0131, neredeyse yar\\u0131m as\\u0131r sonra Kapal\\u0131 Mara\\u015f'a girebiliyor. 46 y\\u0131ld\\u0131r kapal\\u0131 olan kentte, ilk a\\u015famada iki cadde ve sahil \\u015feridinin a\\u00e7\\u0131lmas\\u0131 i\\u00e7in hummal\\u0131 temizlik \\u00e7al\\u0131\\u015fmalar\\u0131 y\\u00fcr\\u00fct\\u00fcld\\u00fc. [Foto\\u011fraf: AA] [Foto\\u011fraf: AA] Gazima\\u011fusa'daki Mara\\u015f b\\u00f6lgesi, 1974 y\\u0131l\\u0131nda Birle\\u015fmi\\u015f Milletler karar\\u0131 ile KKTC ve Rum kesimi aras\\u0131nda tampon b\\u00f6lge ilan edildi ve kapat\\u0131ld\\u0131. Bir\\u00e7ok otel ve yerle\\u015fim yeriyle \\\"turizm cenneti\\\" olarak tan\\u0131mlanan b\\u00f6lge, adeta \\\"hayalet \\u015fehir\\\" haline geldi. Bug\\u00fcne kadar, Kapal\\u0131 Mara\\u015f'a sadece \\u00f6zel izinle giri\\u015fe izin verildi. MSB'den \\\"hay\\u0131rl\\u0131 olsun\\\" mesaj\\u0131 Milli Savunma Bakanl\\u0131\\u011f\\u0131, Kapal\\u0131 Mara\\u015f'\\u0131n a\\u00e7\\u0131lmas\\u0131yla ilgili Twitter hesab\\u0131ndan bir payla\\u015f\\u0131m yapt\\u0131. MSB'nin payla\\u015f\\u0131m\\u0131nda, \\\"Sembolik anlam\\u0131 b\\u00fcy\\u00fck olan ve 46 y\\u0131ll\\u0131k hasreti bitiren bu ad\\u0131m, KKTC\\u2019ye ve orada ya\\u015fayan karde\\u015flerimize hay\\u0131rl\\u0131 olsun\\\" s\\u00f6zlerine yer verildi. Kuzey K\\u0131br\\u0131s T\\u00fcrk Cumhuriyeti\\u2019ne ait olan, 46 y\\u0131ld\\u0131r yerle\\u015fime ve ziyarete kapal\\u0131 tutulan Kapal\\u0131 Mara\\u015f\\u2019\\u0131n bir b\\u00f6l\\u00fcm\\u00fc bug\\u00fcn halk\\u0131n ziyaretine a\\u00e7\\u0131ld\\u0131. Sembolik anlam\\u0131 b\\u00fcy\\u00fck olan ve 46 y\\u0131ll\\u0131k hasreti bitiren bu ad\\u0131m, KKTC\\u2019ye ve orada ya\\u015fayan karde\\u015flerimize hay\\u0131rl\\u0131 olsun. pic.twitter.com/9HMe7x6V3d T\\u00fcrkiye'den destek KKTC'de Mara\\u015f'\\u0131n yeniden yerle\\u015fime a\\u00e7\\u0131lmas\\u0131yla ilgili \\u00e7al\\u0131\\u015fmalar T\\u00fcrkiye taraf\\u0131ndan da b\\u00fcy\\u00fck destek g\\u00f6rd\\u00fc. Cumhurba\\u015fkan\\u0131 Recep Tayyip Erdo\\u011fan, ilk ad\\u0131m olarak K\\u0131br\\u0131s T\\u00fcrk halk\\u0131n\\u0131n Mara\\u015f'\\u0131n sahil \\u015feridinden faydalanmak \\u00fczere kapal\\u0131 b\\u00f6lgeye girebilecek olmas\\u0131ndan memnuniyet duyduklar\\u0131n\\u0131 s\\u00f6yleyerek, \\\"Kullan\\u0131ma a\\u00e7\\u0131lan b\\u00f6lgede hi\\u00e7bir \\u00f6zel m\\u00fclk bulunmamas\\u0131 sebebiyle herhangi bir ma\\u011fduriyete yol a\\u00e7\\u0131lmayaca\\u011f\\u0131 i\\u00e7in kar\\u015f\\u0131 taraf\\u0131n itirazlar\\u0131 \\u015fimdiden bo\\u015fa \\u00e7\\u0131km\\u0131\\u015ft\\u0131r. M\\u00fclkiyet haklar\\u0131na sayg\\u0131 g\\u00f6sterilerek y\\u00fcr\\u00fct\\u00fclen \\u00e7al\\u0131\\u015fmalar\\u0131n bir an \\u00f6nce sonu\\u00e7land\\u0131r\\u0131larak Mara\\u015f'\\u0131n b\\u00fct\\u00fcn\\u00fcyle kullan\\u0131ma a\\u00e7\\u0131lmas\\u0131n\\u0131 temenni ediyoruz. Bu konuda KKTC makamlar\\u0131na her t\\u00fcrl\\u00fc deste\\u011fi vermeye haz\\u0131r\\u0131z\\\" demi\\u015fti. Cumhurba\\u015fkan\\u0131 Yard\\u0131mc\\u0131s\\u0131 Fuat Oktay ise, Mara\\u015f ile ilgili al\\u0131nan karar\\u0131n ar\\u0131ndan sosyal medya hesab\\u0131ndan yapt\\u0131\\u011f\\u0131 payla\\u015f\\u0131mda, \\\"Uzun zamand\\u0131r at\\u0131l kalarak i\\u00e7imizi s\\u0131zlatan g\\u00fczel Mara\\u015f'\\u0131, hakkaniyete ve hukuka uygun bir \\u015fekilde a\\u00e7\\u0131yoruz\\\" demi\\u015fti.\",\n          \"Sivas'ta a\\u011fustos ay\\u0131 kaymakamlar toplant\\u0131s\\u0131 yap\\u0131ld\\u0131 Valilik Salonunda ger\\u00e7ekle\\u015ftirilen toplant\\u0131da, g\\u00f6revine yeni ba\\u015flayan kaymakamlar kendilerini tan\\u0131tt\\u0131. Daha sonra il\\u00e7elerdeki Kovid-19 vaka durumlar\\u0131, filyasyon \\u00e7al\\u0131\\u015fmalar\\u0131 ve salg\\u0131n denetim faaliyetleri ile K\\u00d6YDES projeleri, 300 Fikir 300 Proje \\u00e7al\\u0131\\u015fmalar\\u0131, sportif faaliyetler ve 2020-2021 e\\u011fitim-\\u00f6\\u011fretim y\\u0131l\\u0131 haz\\u0131rl\\u0131k \\u00e7al\\u0131\\u015fmalar\\u0131 g\\u00f6r\\u00fc\\u015f\\u00fcld\\u00fc. Vali Ayhan, t\\u00fcm kamu g\\u00f6revlilerinin birinci g\\u00f6revinin Kovid-19 ile m\\u00fccadele oldu\\u011funu kaydederek, \\u015funlar\\u0131 kaydetti: \\\"Kamu g\\u00f6revlileri \\u00f6ncelikli olarak kendi sa\\u011fl\\u0131klar\\u0131na dikkat etmeleri gerekiyor. \\u00d6rnek bir model olmal\\u0131lar. Denetimleri artt\\u0131rarak devam edece\\u011fiz. Vatanda\\u015f\\u0131n sa\\u011fl\\u0131\\u011f\\u0131n\\u0131 hi\\u00e7e sayan, sorumsuz, vurdumduymaz olan ki\\u015filer varsa gerekli cezalar\\u0131 mutlaka uygulayaca\\u011f\\u0131z. Denetimlerde vatanda\\u015flar\\u0131m\\u0131z\\u0131 daha duyarl\\u0131 olmalar\\u0131 konusunda uyaraca\\u011f\\u0131z. Bu konuda ciddi bir hassasiyet g\\u00f6sterece\\u011fiz. Bu s\\u00fcrecin i\\u00e7inde \\u00e7ok etkin bir \\u015fekilde olman\\u0131z\\u0131 istiyoruz. Bayramda sonra ilimizde ya\\u015fanan yo\\u011fun n\\u00fcfus hareketi ile birlikte vakalarda bir art\\u0131\\u015f s\\u00f6z konusu.\\\"\",\n          \"Adana'da yankesicilik \\u015f\\u00fcphelisini g\\u00fcvenlik kameras\\u0131 yakalatt\\u0131 \\u00d6mer \\u00d6z (32), merkez Seyhan il\\u00e7esi \\u0130n\\u00f6n\\u00fc Caddesi'ndeki durakta minib\\u00fcse bindikten k\\u0131sa s\\u00fcre sonra cep telefonunun \\u00e7al\\u0131nd\\u0131\\u011f\\u0131n\\u0131 fark etti. \\u00d6z'\\u00fcn durumu bildirmesi \\u00fczerine \\u0130l Emniyet M\\u00fcd\\u00fcrl\\u00fc\\u011f\\u00fc Asayi\\u015f \\u015eubesi Yankesicilik ve Doland\\u0131r\\u0131c\\u0131l\\u0131k B\\u00fcro Amirli\\u011fi ekipleri ara\\u015ft\\u0131rma ba\\u015flatt\\u0131. Ekip, bir otob\\u00fcs\\u00fcn g\\u00fcvenlik kameras\\u0131 g\\u00f6r\\u00fcnt\\u00fclerinden olay\\u0131n \\u015f\\u00fcphelisinin yankesicilikten emniyette \\u00e7ok say\\u0131da su\\u00e7 kayd\\u0131 bulunan \\u00d6mer K. (42) oldu\\u011funu belirledi. Zanl\\u0131 \\u00d6mer K, Yenibey Mahallesi'ndeki evine d\\u00fczenlenen operasyonla yakaland\\u0131. \\u00c7al\\u0131nan cep telefonu da sahibine teslim edildi. \\u015e\\u00fcpheli, emniyetteki i\\u015flemin ard\\u0131ndan \\u00e7\\u0131kar\\u0131ld\\u0131\\u011f\\u0131 n\\u00f6bet\\u00e7i sulh ceza hakimli\\u011fince tutukland\\u0131. Otob\\u00fcs\\u00fcn g\\u00fcvenlik kameras\\u0131na yans\\u0131yan g\\u00f6r\\u00fcnt\\u00fclerde, minib\\u00fcse binen \\u00d6mer \\u00d6z'\\u00fcn arkas\\u0131ndan bir ki\\u015finin yakla\\u015fmas\\u0131 ve k\\u0131sa s\\u00fcre sonra zanl\\u0131n\\u0131n minib\\u00fcse binmeyip elinde cep telefonuyla b\\u00f6lgeden uzakla\\u015fmas\\u0131 yer al\\u0131yor. Kamera kayd\\u0131nda, telefonunun cebinde olmad\\u0131\\u011f\\u0131n\\u0131 fark eden \\u00d6z'\\u00fcn, ara\\u00e7tan inip \\u00e7evresini kontrol etmesi de g\\u00f6r\\u00fcl\\u00fcyor.\"\n        ],\n        \"semantic_type\": \"\",\n        \"description\": \"\"\n      }\n    },\n    {\n      \"column\": \"category\",\n      \"properties\": {\n        \"dtype\": \"category\",\n        \"num_unique_values\": 11,\n        \"samples\": [\n          \"gundem\",\n          \"bilim_teknoloji\",\n          \"turkiye\"\n        ],\n        \"semantic_type\": \"\",\n        \"description\": \"\"\n      }\n    }\n  ]\n}"
            }
          },
          "metadata": {},
          "execution_count": 8
        }
      ]
    },
    {
      "cell_type": "code",
      "source": [
        "df.category.value_counts()"
      ],
      "metadata": {
        "colab": {
          "base_uri": "https://localhost:8080/"
        },
        "id": "bIADqFgCe5MW",
        "outputId": "68fd5f62-cc12-40c3-e405-c98b6cd2f609"
      },
      "execution_count": 9,
      "outputs": [
        {
          "output_type": "execute_result",
          "data": {
            "text/plain": [
              "category\n",
              "bilim_teknoloji    3200\n",
              "dunya              3200\n",
              "egitim             3200\n",
              "ekonomi            3200\n",
              "guncel             3200\n",
              "gundem             3200\n",
              "kultur_sanat       3200\n",
              "saglik             3200\n",
              "spor               3200\n",
              "turkiye            3200\n",
              "yasam              3200\n",
              "Name: count, dtype: int64"
            ]
          },
          "metadata": {},
          "execution_count": 9
        }
      ]
    },
    {
      "cell_type": "code",
      "source": [
        "unique_labels=df.category.unique()\n",
        "unique_labels"
      ],
      "metadata": {
        "colab": {
          "base_uri": "https://localhost:8080/"
        },
        "id": "nwnKyD-ePP5L",
        "outputId": "f912fdd7-7567-4825-96c6-5ec1964ca052"
      },
      "execution_count": 10,
      "outputs": [
        {
          "output_type": "execute_result",
          "data": {
            "text/plain": [
              "array(['bilim_teknoloji', 'dunya', 'egitim', 'ekonomi', 'guncel',\n",
              "       'gundem', 'kultur_sanat', 'saglik', 'spor', 'turkiye', 'yasam'],\n",
              "      dtype=object)"
            ]
          },
          "metadata": {},
          "execution_count": 10
        }
      ]
    },
    {
      "cell_type": "code",
      "source": [
        "label_dict= {j:i for i, j in enumerate(unique_labels)}\n",
        "label_dict"
      ],
      "metadata": {
        "colab": {
          "base_uri": "https://localhost:8080/"
        },
        "id": "XR8JQ9OxPHbo",
        "outputId": "f500401c-82b7-4313-a6ba-49c36960d5bf"
      },
      "execution_count": 11,
      "outputs": [
        {
          "output_type": "execute_result",
          "data": {
            "text/plain": [
              "{'bilim_teknoloji': 0,\n",
              " 'dunya': 1,\n",
              " 'egitim': 2,\n",
              " 'ekonomi': 3,\n",
              " 'guncel': 4,\n",
              " 'gundem': 5,\n",
              " 'kultur_sanat': 6,\n",
              " 'saglik': 7,\n",
              " 'spor': 8,\n",
              " 'turkiye': 9,\n",
              " 'yasam': 10}"
            ]
          },
          "metadata": {},
          "execution_count": 11
        }
      ]
    },
    {
      "cell_type": "code",
      "source": [
        "df.category=df.category.map(label_dict)"
      ],
      "metadata": {
        "id": "cknfsV_6P0id"
      },
      "execution_count": 12,
      "outputs": []
    },
    {
      "cell_type": "code",
      "source": [
        "X = df['context'].values\n",
        "y = df['category'].values"
      ],
      "metadata": {
        "id": "9HgXvmmEfG0p"
      },
      "execution_count": 13,
      "outputs": []
    },
    {
      "cell_type": "code",
      "source": [
        "from sklearn.model_selection import train_test_split\n",
        "\n",
        "X_train, X_test, y_train, y_test = train_test_split(X, y, test_size=0.2, stratify=y, random_state=42)"
      ],
      "metadata": {
        "id": "9ZFpMmi8_ZOq"
      },
      "execution_count": 14,
      "outputs": []
    },
    {
      "cell_type": "markdown",
      "source": [
        "## Max Text Length"
      ],
      "metadata": {
        "id": "buPlTer3ryhA"
      }
    },
    {
      "cell_type": "markdown",
      "source": [
        "## [Pre-trained model Classification](https://huggingface.co/docs/transformers/tasks/sequence_classification)"
      ],
      "metadata": {
        "id": "sqeYMPoOVXbg"
      }
    },
    {
      "cell_type": "code",
      "source": [
        "# For every sentence...\n",
        "from transformers import AutoTokenizer\n",
        "tokenizer = AutoTokenizer.from_pretrained(\"dbmdz/bert-base-turkish-uncased\")\n",
        "\n",
        "number_tokens_sentences = []\n",
        "for sent in X_train:\n",
        "    # Tokenize the text and add `[CLS]` and `[SEP]` tokens.\n",
        "\n",
        "    input_ids = tokenizer.encode(str(sent),\n",
        "                                 add_special_tokens=True)\n",
        "\n",
        "    number_tokens_sentences.append(len(input_ids))\n",
        "\n",
        "print('Max sentence length: ', max(number_tokens_sentences))\n",
        "\n",
        "# tokenizer.encode() fonksiyonunu sadece en uzun yorumun kaç tokenden oluştuğu bulmak ve tüm yorumları/textleri kaç\n",
        "# tokene sabitliyeceğimize karar vermek için kullanacağız."
      ],
      "metadata": {
        "colab": {
          "base_uri": "https://localhost:8080/",
          "height": 148,
          "referenced_widgets": [
            "3b2eb3eeab2b4267acc6b7298ca63fe1",
            "bb8cf3822a4344ffbd2edc63c2e31223",
            "13bcc78034d940fba4c9fa6953c9671d",
            "1e6efadb2a3f43c48d2dbdaefeabf057",
            "02b2b985dc5f47d7b880fb44d066fd09",
            "516248aec33647e0827eb8c5717db602",
            "9c15e56acc014dd8aebb9d3256b94ff3",
            "41e49d02565242fca90d39b4ecc49aff",
            "9f2b7b4a108e4fc8be90ffa0c47f9d25",
            "12d7b642dd91402f97fada0674b13686",
            "4cb857722a374f37a42c1074603545e6",
            "5e08e27142a94e7db9c2efeee3e730b1",
            "f665674cee724b6691d46237feb20e08",
            "735b8419821f4ee993ede6de637e55f2",
            "389ae32d056143dfb2c1e9291e20b64c",
            "65e8f9107a54429c801a6bf312bd19b3",
            "ab4bb745a542476d87fa5ae34c3a298b",
            "6e618d3a515047ffa9e690fe49c55390",
            "0ee6c837b67d460e81a6e413efa1ee93",
            "7c9f347770a148d5b3ce829a9e9a1f9b",
            "5f2defbb17f145e4a2cb2339133508c9",
            "92f0f35f28fa495d8e35e9ea4012617a",
            "813a1f46252b4e528993af56f6590e69",
            "13563d3d7c2648cfb2939c4f39bb8b9a",
            "f113ec8383064f6ea5c21569b02ef7ce",
            "5c3f40e26234499fbd8e8e7feb308fd7",
            "5da215ef23104cebbc098c931b070d36",
            "3b1fc6e367624caca742040fa7aeb7ad",
            "a7525f449909487a97b05d0acfddcb06",
            "39d87750c1aa475fa0b492883be23929",
            "d6e2a75725bb487981d5603b6bc48b8a",
            "ab11acda6b7044d5be6a28b6c107dd30",
            "3dac7fadd9ea49e19cbb6fede80263e3"
          ]
        },
        "id": "JlvlQST4nwiY",
        "outputId": "1b4a1421-d138-4a0d-80fd-0a1a1ca842da"
      },
      "execution_count": 15,
      "outputs": [
        {
          "output_type": "display_data",
          "data": {
            "text/plain": [
              "tokenizer_config.json:   0%|          | 0.00/59.0 [00:00<?, ?B/s]"
            ],
            "application/vnd.jupyter.widget-view+json": {
              "version_major": 2,
              "version_minor": 0,
              "model_id": "3b2eb3eeab2b4267acc6b7298ca63fe1"
            }
          },
          "metadata": {}
        },
        {
          "output_type": "display_data",
          "data": {
            "text/plain": [
              "config.json:   0%|          | 0.00/385 [00:00<?, ?B/s]"
            ],
            "application/vnd.jupyter.widget-view+json": {
              "version_major": 2,
              "version_minor": 0,
              "model_id": "5e08e27142a94e7db9c2efeee3e730b1"
            }
          },
          "metadata": {}
        },
        {
          "output_type": "display_data",
          "data": {
            "text/plain": [
              "vocab.txt:   0%|          | 0.00/263k [00:00<?, ?B/s]"
            ],
            "application/vnd.jupyter.widget-view+json": {
              "version_major": 2,
              "version_minor": 0,
              "model_id": "813a1f46252b4e528993af56f6590e69"
            }
          },
          "metadata": {}
        },
        {
          "output_type": "stream",
          "name": "stderr",
          "text": [
            "Token indices sequence length is longer than the specified maximum sequence length for this model (1410 > 512). Running this sequence through the model will result in indexing errors\n"
          ]
        },
        {
          "output_type": "stream",
          "name": "stdout",
          "text": [
            "Max sentence length:  7769\n"
          ]
        }
      ]
    },
    {
      "cell_type": "code",
      "source": [
        "sentence=\" how are you ?\"\n",
        "\n",
        "tokenizer.encode(str(sentence),\n",
        "                 add_special_tokens=True)"
      ],
      "metadata": {
        "colab": {
          "base_uri": "https://localhost:8080/"
        },
        "id": "0sukt2n7lKzG",
        "outputId": "1aabf941-e9ba-449d-9eae-ff482fc1506c"
      },
      "execution_count": 16,
      "outputs": [
        {
          "output_type": "execute_result",
          "data": {
            "text/plain": [
              "[2, 25223, 17379, 9751, 35, 3]"
            ]
          },
          "metadata": {},
          "execution_count": 16
        }
      ]
    },
    {
      "cell_type": "code",
      "source": [
        "tokenizer.decode([2, 25223, 17379, 9751, 35, 3])"
      ],
      "metadata": {
        "colab": {
          "base_uri": "https://localhost:8080/",
          "height": 35
        },
        "id": "pBFBf60_lxi3",
        "outputId": "4598a2b4-5d17-4922-ee03-4afd71daddeb"
      },
      "execution_count": 17,
      "outputs": [
        {
          "output_type": "execute_result",
          "data": {
            "text/plain": [
              "'[CLS] how are you? [SEP]'"
            ],
            "application/vnd.google.colaboratory.intrinsic+json": {
              "type": "string"
            }
          },
          "metadata": {},
          "execution_count": 17
        }
      ]
    },
    {
      "cell_type": "code",
      "source": [
        "list = [5, 10, 8, 9, 12, 15]\n",
        "print(np.array(list) <= 11)\n",
        "print(sum(np.array(list) <= 11))\n",
        "print(sum(np.array(list) <= 11)/len(list))\n",
        "\n",
        "# Örnek: Corpusumuzda 6 adet yorum olduğunu varsayalım. ilk yorum 5, ikinci yorum 10, üçüncü yorum 8, dördüncü yorum 9, beşinci\n",
        "# yorum 12 ve altıncı yorum 15 tokenden oluşuyor.\n",
        "\n",
        "# Tüm yorumları 11 tokene sabitlersem kaç yorumda bilgi/token kaybı olmayacağına bakalım.\n",
        "\n",
        "# ilk 4 yorumda herhangi bir bilgi/token kaybı olmayacak, ancak 5. yorumda 1 token, 6. yorumda 4 token kaybı olacak.\n",
        "# np.array(list) <= 11 kodu ile tüm yorumları 11 tokene sabitlediğimizde bilgi/token kaybı olmayan yorumların True olarak,\n",
        "# bilgi/token kaybı olanların False olarak döndürülmesini sağlıyorum --> [ True  True  True  True False False]\n",
        "# sum(np.array(list) <= 11) kodu ile öncelikle Truelar 1'e, Falselar 0'a dönüştürülür. Sonra da bu değerler toplanır. Çıkan\n",
        "# sonuç kaç yorumda bilgi/token kaybı olmadığını bize gösterir.\n",
        "# [True  True  True  True False False]-->[1 1 1 1 0 0]--> sum([1 1 1 1 0 0])-->4 --> cospusumdaki 6 yorumun 4'ünde bilgi/token\n",
        "# kaybı yok.\n",
        "# Elde ettiğimiz 4 sonucunu corpsumuzdaki tüm yorumların sayısına (len([5, 10, 8, 9, 12, 15])-->6) böldüğümüzde bize oran\n",
        "# olarak kaç yorumda bilgi/token kaybı olmadığını döndürür (4/6 --> 0.67). Biz bu oranın %95 ve üzeri olmasını istiyoruz."
      ],
      "metadata": {
        "colab": {
          "base_uri": "https://localhost:8080/"
        },
        "id": "ltP0mOS_WI_K",
        "outputId": "8d61d667-5ca5-4f21-f0c5-cb931f7c9fd9"
      },
      "execution_count": 18,
      "outputs": [
        {
          "output_type": "stream",
          "name": "stdout",
          "text": [
            "[ True  True  True  True False False]\n",
            "4\n",
            "0.6666666666666666\n"
          ]
        }
      ]
    },
    {
      "cell_type": "code",
      "source": [
        "sum(np.array(number_tokens_sentences) <= 512) / len(number_tokens_sentences)"
      ],
      "metadata": {
        "colab": {
          "base_uri": "https://localhost:8080/"
        },
        "id": "5LX0i2dhoQ6R",
        "outputId": "4bab050b-992b-4f36-a423-612e0c2c602c"
      },
      "execution_count": 19,
      "outputs": [
        {
          "output_type": "execute_result",
          "data": {
            "text/plain": [
              "0.7025213068181818"
            ]
          },
          "metadata": {},
          "execution_count": 19
        }
      ]
    },
    {
      "cell_type": "markdown",
      "source": [
        "## Converting Data to Dataset Format"
      ],
      "metadata": {
        "id": "U2DOUVijsHcq"
      }
    },
    {
      "cell_type": "code",
      "source": [
        "#[{'text': '......', 'label': 0}]"
      ],
      "metadata": {
        "id": "36yx6S03_ZUR"
      },
      "execution_count": null,
      "outputs": []
    },
    {
      "cell_type": "code",
      "source": [
        "train_text=[]\n",
        "for i, j in zip(X_train, y_train):\n",
        "  train_text.append({\"text\": str(i), \"label\":j})\n",
        "\n",
        "test_text=[]\n",
        "for i, j in zip(X_test, y_test):\n",
        "  test_text.append({\"text\": str(i), \"label\":j})"
      ],
      "metadata": {
        "id": "CM2PYj2r_ZYy"
      },
      "execution_count": 20,
      "outputs": []
    },
    {
      "cell_type": "code",
      "source": [
        "train_text[0:2]"
      ],
      "metadata": {
        "colab": {
          "base_uri": "https://localhost:8080/"
        },
        "id": "l7sF5UM5BlqN",
        "outputId": "cf48b94a-cf54-4db5-b905-e9637493caf8"
      },
      "execution_count": 21,
      "outputs": [
        {
          "output_type": "execute_result",
          "data": {
            "text/plain": [
              "[{'text': \"Artistik buz pateni yarışmalarına koronavirüs engeli Türkiye Buz Pateni Federasyonundan yapılan açıklamada, ISU Konsey Toplantısı'nın ardından alınan kararlar doğrultusunda, Junior Grand Prix yarışmalarının sürdürülemeyeceği ve serinin tüm etkinliklerinin iptal edildiği ifade edildi. İptal kararının, sağlık komisyonunun önerileri ile etkinlik katılımcılarının güvenliği ve sağlığının gözetilerek alındığı belirtildi. Yeni sezon planlamasının ve diğer etkinliklerin ise 3 Ağustos'ta çevrim içi düzenlenecek toplantıda tekrar değerlendirileceği aktarıldı.\",\n",
              "  'label': 8},\n",
              " {'text': 'ASELSAN \"en çekici işveren\" seçildi ASELSAN\\'dan yapılan açıklamaya göre, Universum 2018 Türkiye’nin Öğrenci ve Çalışan Y Kuşağı İçin En Çekici İşverenler Araştırması sonuçları açıklandı. Universum tarafından 61 ülkede 1,8 milyon genç ile yapılan En Çekici İşveren Araştırması\\'nın Türkiye ayağı, 6. yılında 46 üniversiteden 41 bin 117 öğrenci ve ortalama 3 yıldır iş hayatında olan 13 bin 116 genç profesyonelden edinilen bilgilerle hazırlandı. Araştırma, Harvard Business Review Türkiye Dergisi\\'nin Eylül sayısında yayımlandı. ASELSAN, araştırmada Google, Apple ve Microsoft’u geride bırakarak ilk sıradaki yerini korudu. Şirket, bir yıl önce yapılan araştırmada da Mühendislik/IT alanında en çok beğenilen şirket olmuştu. ASELSAN Yönetim Kurulu Başkanı ve Genel Müdürü Haluk Görgün araştırma sonucu ile ilgili yaptığı değerlendirmelerde, Türkiye’nin en çok çalışılmak istenen şirketi olmanın gurur verici olduğunu söyledi. \"Sadece Türkiye’nin en parlak gençlerini ASELSAN’a çekmek değil, aynı zamanda onların aşkla, sorumlulukla çalışacağı bir iklim yaratmak, sorumluluk hissettirmek ve her ASELSAN çalışanının, bu kültürün önemli bir mimarı olduğunun farkında olmasını sağlamak önceliklerimiz arasındadır. ASELSAN’da olmaktan gurur ve mutluluk duyan çalışanlarımız en güvenilir marka elçilerimizdir. İnsanı kaynak olarak görmekten ziyade bir kıymet olarak görüyor ve tüm çalışanlarımıza kıymetli oldukları duygusunu yerleştirmeye çalışıyoruz.\" Kaynak: AA',\n",
              "  'label': 0}]"
            ]
          },
          "metadata": {},
          "execution_count": 21
        }
      ]
    },
    {
      "cell_type": "code",
      "source": [
        "from datasets import Dataset\n",
        "train_dataset = Dataset.from_list(train_text)\n",
        "test_dataset = Dataset.from_list(test_text)"
      ],
      "metadata": {
        "id": "v3ctMMFsBr9b"
      },
      "execution_count": 22,
      "outputs": []
    },
    {
      "cell_type": "code",
      "source": [
        "train_dataset[:2]"
      ],
      "metadata": {
        "colab": {
          "base_uri": "https://localhost:8080/"
        },
        "id": "67EXGDIKBsCx",
        "outputId": "951a2022-2962-4b3b-be22-c5d3fdcb8056"
      },
      "execution_count": 23,
      "outputs": [
        {
          "output_type": "execute_result",
          "data": {
            "text/plain": [
              "{'text': [\"Artistik buz pateni yarışmalarına koronavirüs engeli Türkiye Buz Pateni Federasyonundan yapılan açıklamada, ISU Konsey Toplantısı'nın ardından alınan kararlar doğrultusunda, Junior Grand Prix yarışmalarının sürdürülemeyeceği ve serinin tüm etkinliklerinin iptal edildiği ifade edildi. İptal kararının, sağlık komisyonunun önerileri ile etkinlik katılımcılarının güvenliği ve sağlığının gözetilerek alındığı belirtildi. Yeni sezon planlamasının ve diğer etkinliklerin ise 3 Ağustos'ta çevrim içi düzenlenecek toplantıda tekrar değerlendirileceği aktarıldı.\",\n",
              "  'ASELSAN \"en çekici işveren\" seçildi ASELSAN\\'dan yapılan açıklamaya göre, Universum 2018 Türkiye’nin Öğrenci ve Çalışan Y Kuşağı İçin En Çekici İşverenler Araştırması sonuçları açıklandı. Universum tarafından 61 ülkede 1,8 milyon genç ile yapılan En Çekici İşveren Araştırması\\'nın Türkiye ayağı, 6. yılında 46 üniversiteden 41 bin 117 öğrenci ve ortalama 3 yıldır iş hayatında olan 13 bin 116 genç profesyonelden edinilen bilgilerle hazırlandı. Araştırma, Harvard Business Review Türkiye Dergisi\\'nin Eylül sayısında yayımlandı. ASELSAN, araştırmada Google, Apple ve Microsoft’u geride bırakarak ilk sıradaki yerini korudu. Şirket, bir yıl önce yapılan araştırmada da Mühendislik/IT alanında en çok beğenilen şirket olmuştu. ASELSAN Yönetim Kurulu Başkanı ve Genel Müdürü Haluk Görgün araştırma sonucu ile ilgili yaptığı değerlendirmelerde, Türkiye’nin en çok çalışılmak istenen şirketi olmanın gurur verici olduğunu söyledi. \"Sadece Türkiye’nin en parlak gençlerini ASELSAN’a çekmek değil, aynı zamanda onların aşkla, sorumlulukla çalışacağı bir iklim yaratmak, sorumluluk hissettirmek ve her ASELSAN çalışanının, bu kültürün önemli bir mimarı olduğunun farkında olmasını sağlamak önceliklerimiz arasındadır. ASELSAN’da olmaktan gurur ve mutluluk duyan çalışanlarımız en güvenilir marka elçilerimizdir. İnsanı kaynak olarak görmekten ziyade bir kıymet olarak görüyor ve tüm çalışanlarımıza kıymetli oldukları duygusunu yerleştirmeye çalışıyoruz.\" Kaynak: AA'],\n",
              " 'label': [8, 0]}"
            ]
          },
          "metadata": {},
          "execution_count": 23
        }
      ]
    },
    {
      "cell_type": "code",
      "source": [
        "train_dataset"
      ],
      "metadata": {
        "colab": {
          "base_uri": "https://localhost:8080/"
        },
        "id": "YxkV56bJus-3",
        "outputId": "57af3d31-0b9e-485f-b5a8-ff488921ff4e"
      },
      "execution_count": 24,
      "outputs": [
        {
          "output_type": "execute_result",
          "data": {
            "text/plain": [
              "Dataset({\n",
              "    features: ['text', 'label'],\n",
              "    num_rows: 28160\n",
              "})"
            ]
          },
          "metadata": {},
          "execution_count": 24
        }
      ]
    },
    {
      "cell_type": "markdown",
      "source": [
        "## Tokenization"
      ],
      "metadata": {
        "id": "M6j7iLglsaZf"
      }
    },
    {
      "cell_type": "code",
      "source": [
        "sentence=\"How are you?\"\n",
        "\n",
        "tokenized_data = tokenizer(text=sentence,\n",
        "                             return_tensors=\"np\",\n",
        "                             padding=\"max_length\",\n",
        "                             truncation=True,\n",
        "                             max_length=7,\n",
        "                             add_special_tokens=True)\n",
        "tokenized_data"
      ],
      "metadata": {
        "colab": {
          "base_uri": "https://localhost:8080/"
        },
        "id": "8QG2m5FwmbWW",
        "outputId": "0272f972-b4e9-416a-d7d7-1aec668c5d3f"
      },
      "execution_count": 25,
      "outputs": [
        {
          "output_type": "execute_result",
          "data": {
            "text/plain": [
              "{'input_ids': array([[    2, 25223, 17379,  9751,    35,     3,     0]]), 'token_type_ids': array([[0, 0, 0, 0, 0, 0, 0]]), 'attention_mask': array([[1, 1, 1, 1, 1, 1, 0]])}"
            ]
          },
          "metadata": {},
          "execution_count": 25
        }
      ]
    },
    {
      "cell_type": "code",
      "source": [
        "from transformers import AutoTokenizer\n",
        "import numpy as np\n",
        "\n",
        "tokenizer = AutoTokenizer.from_pretrained(\"dbmdz/bert-base-turkish-uncased\")\n",
        "def transformation(examples):\n",
        "  seq=512\n",
        "  tokenized_data = tokenizer(text=examples[\"text\"],\n",
        "                             return_tensors=\"np\",\n",
        "                             padding=\"max_length\",\n",
        "                             truncation=True,\n",
        "                             max_length=seq,\n",
        "                             add_special_tokens=True)\n",
        "  return tokenized_data\n",
        "\n",
        "train_tokenized_data = train_dataset.map(transformation, batched=True)\n",
        "test_tokenized_data = test_dataset.map(transformation, batched=True)"
      ],
      "metadata": {
        "colab": {
          "base_uri": "https://localhost:8080/",
          "height": 81,
          "referenced_widgets": [
            "27d60330e9d74483b8854c8055fe98cd",
            "7aefe73f2d0c4f6fb669e4b05f93f59d",
            "2319a233a5414ab9acec8ea588e31c5e",
            "23629799842c46e09526bfff4a90e7a2",
            "06892bbd8a7848a089399a4cd43374f1",
            "cd0c4ca28a784666a62398f8228bfcc8",
            "c775d96cb3d84ff7bdbc76a05eb0b041",
            "3da6ae86864f4faea7191cb371ec54b6",
            "89a179eb2f2143d491cac999c62ce205",
            "81b98062e1994662a19593ab9d221c85",
            "628cfbe5af8e44b79c2f2fd0a9cd03e4",
            "d4e1a97e69a64ec3a8f25dc46420e24b",
            "4dcac594f70141fa9f7a0a08f014d4c2",
            "6cea8378cd4c464faa19bfeb37cbfe26",
            "73029ad8eea44fa092858445834d5913",
            "d1c514c035bf4beeb92e6b186c99d557",
            "d25a7464878c4ee3973deb60eb9a4b74",
            "6649a1ac0a1a498a80e0a804269b86c3",
            "87a9e51e44a94a198e243989a05df92e",
            "7540b2e97bb04f72bc54574e95f62a32",
            "b11fd97bc7534385b457b09a079c488c",
            "ca82f924fec549d1be302a5d7eb2660b"
          ]
        },
        "id": "7U8sTcfU-08b",
        "outputId": "1bbb098b-612d-43f7-db36-c163ec8d9939"
      },
      "execution_count": 26,
      "outputs": [
        {
          "output_type": "display_data",
          "data": {
            "text/plain": [
              "Map:   0%|          | 0/28160 [00:00<?, ? examples/s]"
            ],
            "application/vnd.jupyter.widget-view+json": {
              "version_major": 2,
              "version_minor": 0,
              "model_id": "27d60330e9d74483b8854c8055fe98cd"
            }
          },
          "metadata": {}
        },
        {
          "output_type": "display_data",
          "data": {
            "text/plain": [
              "Map:   0%|          | 0/7040 [00:00<?, ? examples/s]"
            ],
            "application/vnd.jupyter.widget-view+json": {
              "version_major": 2,
              "version_minor": 0,
              "model_id": "d4e1a97e69a64ec3a8f25dc46420e24b"
            }
          },
          "metadata": {}
        }
      ]
    },
    {
      "cell_type": "code",
      "source": [
        "train_tokenized_data"
      ],
      "metadata": {
        "colab": {
          "base_uri": "https://localhost:8080/"
        },
        "id": "v8g8udLO4s3A",
        "outputId": "319134b2-dd00-469a-9045-3adaa85b1b5c"
      },
      "execution_count": 27,
      "outputs": [
        {
          "output_type": "execute_result",
          "data": {
            "text/plain": [
              "Dataset({\n",
              "    features: ['text', 'label', 'input_ids', 'token_type_ids', 'attention_mask'],\n",
              "    num_rows: 28160\n",
              "})"
            ]
          },
          "metadata": {},
          "execution_count": 27
        }
      ]
    },
    {
      "cell_type": "code",
      "source": [
        "test_tokenized_data"
      ],
      "metadata": {
        "colab": {
          "base_uri": "https://localhost:8080/"
        },
        "id": "wprPHU-gCFkX",
        "outputId": "fca4af2a-3cda-446a-b94f-0a6d5dc8a307"
      },
      "execution_count": 28,
      "outputs": [
        {
          "output_type": "execute_result",
          "data": {
            "text/plain": [
              "Dataset({\n",
              "    features: ['text', 'label', 'input_ids', 'token_type_ids', 'attention_mask'],\n",
              "    num_rows: 7040\n",
              "})"
            ]
          },
          "metadata": {},
          "execution_count": 28
        }
      ]
    },
    {
      "cell_type": "code",
      "source": [
        "train_tokenized_data[\"input_ids\"][:2]"
      ],
      "metadata": {
        "colab": {
          "base_uri": "https://localhost:8080/"
        },
        "id": "o7JP8W7ua492",
        "outputId": "9c704534-c12e-4133-aff6-c9bca72ed10c"
      },
      "execution_count": 29,
      "outputs": [
        {
          "output_type": "execute_result",
          "data": {
            "text/plain": [
              "[[2,\n",
              "  2488,\n",
              "  4866,\n",
              "  5794,\n",
              "  3339,\n",
              "  2194,\n",
              "  5093,\n",
              "  10542,\n",
              "  5112,\n",
              "  2106,\n",
              "  27927,\n",
              "  8423,\n",
              "  1977,\n",
              "  2132,\n",
              "  25237,\n",
              "  23216,\n",
              "  5794,\n",
              "  3339,\n",
              "  2194,\n",
              "  7789,\n",
              "  17784,\n",
              "  2697,\n",
              "  20562,\n",
              "  2177,\n",
              "  1986,\n",
              "  16,\n",
              "  2578,\n",
              "  1013,\n",
              "  13843,\n",
              "  7134,\n",
              "  11,\n",
              "  2757,\n",
              "  3146,\n",
              "  4365,\n",
              "  10487,\n",
              "  18029,\n",
              "  1012,\n",
              "  3073,\n",
              "  14343,\n",
              "  16,\n",
              "  18011,\n",
              "  9078,\n",
              "  1024,\n",
              "  14400,\n",
              "  14683,\n",
              "  1076,\n",
              "  5093,\n",
              "  10542,\n",
              "  5112,\n",
              "  2196,\n",
              "  3304,\n",
              "  2553,\n",
              "  17634,\n",
              "  2663,\n",
              "  2098,\n",
              "  2287,\n",
              "  1992,\n",
              "  20051,\n",
              "  21155,\n",
              "  27814,\n",
              "  1973,\n",
              "  6021,\n",
              "  4396,\n",
              "  2287,\n",
              "  3069,\n",
              "  4396,\n",
              "  18,\n",
              "  6021,\n",
              "  12377,\n",
              "  16,\n",
              "  9752,\n",
              "  2090,\n",
              "  30946,\n",
              "  12496,\n",
              "  2819,\n",
              "  2068,\n",
              "  2081,\n",
              "  4539,\n",
              "  17642,\n",
              "  1976,\n",
              "  6856,\n",
              "  2521,\n",
              "  16282,\n",
              "  1992,\n",
              "  9752,\n",
              "  1991,\n",
              "  22565,\n",
              "  1014,\n",
              "  21540,\n",
              "  3025,\n",
              "  18840,\n",
              "  6475,\n",
              "  2958,\n",
              "  6797,\n",
              "  18,\n",
              "  2312,\n",
              "  3791,\n",
              "  22138,\n",
              "  10779,\n",
              "  1992,\n",
              "  17319,\n",
              "  27814,\n",
              "  2365,\n",
              "  23,\n",
              "  7996,\n",
              "  3566,\n",
              "  2249,\n",
              "  11,\n",
              "  2108,\n",
              "  3231,\n",
              "  5865,\n",
              "  4470,\n",
              "  1023,\n",
              "  27010,\n",
              "  1975,\n",
              "  15931,\n",
              "  8238,\n",
              "  3347,\n",
              "  19912,\n",
              "  2654,\n",
              "  2616,\n",
              "  2098,\n",
              "  2287,\n",
              "  31604,\n",
              "  18,\n",
              "  3,\n",
              "  0,\n",
              "  0,\n",
              "  0,\n",
              "  0,\n",
              "  0,\n",
              "  0,\n",
              "  0,\n",
              "  0,\n",
              "  0,\n",
              "  0,\n",
              "  0,\n",
              "  0,\n",
              "  0,\n",
              "  0,\n",
              "  0,\n",
              "  0,\n",
              "  0,\n",
              "  0,\n",
              "  0,\n",
              "  0,\n",
              "  0,\n",
              "  0,\n",
              "  0,\n",
              "  0,\n",
              "  0,\n",
              "  0,\n",
              "  0,\n",
              "  0,\n",
              "  0,\n",
              "  0,\n",
              "  0,\n",
              "  0,\n",
              "  0,\n",
              "  0,\n",
              "  0,\n",
              "  0,\n",
              "  0,\n",
              "  0,\n",
              "  0,\n",
              "  0,\n",
              "  0,\n",
              "  0,\n",
              "  0,\n",
              "  0,\n",
              "  0,\n",
              "  0,\n",
              "  0,\n",
              "  0,\n",
              "  0,\n",
              "  0,\n",
              "  0,\n",
              "  0,\n",
              "  0,\n",
              "  0,\n",
              "  0,\n",
              "  0,\n",
              "  0,\n",
              "  0,\n",
              "  0,\n",
              "  0,\n",
              "  0,\n",
              "  0,\n",
              "  0,\n",
              "  0,\n",
              "  0,\n",
              "  0,\n",
              "  0,\n",
              "  0,\n",
              "  0,\n",
              "  0,\n",
              "  0,\n",
              "  0,\n",
              "  0,\n",
              "  0,\n",
              "  0,\n",
              "  0,\n",
              "  0,\n",
              "  0,\n",
              "  0,\n",
              "  0,\n",
              "  0,\n",
              "  0,\n",
              "  0,\n",
              "  0,\n",
              "  0,\n",
              "  0,\n",
              "  0,\n",
              "  0,\n",
              "  0,\n",
              "  0,\n",
              "  0,\n",
              "  0,\n",
              "  0,\n",
              "  0,\n",
              "  0,\n",
              "  0,\n",
              "  0,\n",
              "  0,\n",
              "  0,\n",
              "  0,\n",
              "  0,\n",
              "  0,\n",
              "  0,\n",
              "  0,\n",
              "  0,\n",
              "  0,\n",
              "  0,\n",
              "  0,\n",
              "  0,\n",
              "  0,\n",
              "  0,\n",
              "  0,\n",
              "  0,\n",
              "  0,\n",
              "  0,\n",
              "  0,\n",
              "  0,\n",
              "  0,\n",
              "  0,\n",
              "  0,\n",
              "  0,\n",
              "  0,\n",
              "  0,\n",
              "  0,\n",
              "  0,\n",
              "  0,\n",
              "  0,\n",
              "  0,\n",
              "  0,\n",
              "  0,\n",
              "  0,\n",
              "  0,\n",
              "  0,\n",
              "  0,\n",
              "  0,\n",
              "  0,\n",
              "  0,\n",
              "  0,\n",
              "  0,\n",
              "  0,\n",
              "  0,\n",
              "  0,\n",
              "  0,\n",
              "  0,\n",
              "  0,\n",
              "  0,\n",
              "  0,\n",
              "  0,\n",
              "  0,\n",
              "  0,\n",
              "  0,\n",
              "  0,\n",
              "  0,\n",
              "  0,\n",
              "  0,\n",
              "  0,\n",
              "  0,\n",
              "  0,\n",
              "  0,\n",
              "  0,\n",
              "  0,\n",
              "  0,\n",
              "  0,\n",
              "  0,\n",
              "  0,\n",
              "  0,\n",
              "  0,\n",
              "  0,\n",
              "  0,\n",
              "  0,\n",
              "  0,\n",
              "  0,\n",
              "  0,\n",
              "  0,\n",
              "  0,\n",
              "  0,\n",
              "  0,\n",
              "  0,\n",
              "  0,\n",
              "  0,\n",
              "  0,\n",
              "  0,\n",
              "  0,\n",
              "  0,\n",
              "  0,\n",
              "  0,\n",
              "  0,\n",
              "  0,\n",
              "  0,\n",
              "  0,\n",
              "  0,\n",
              "  0,\n",
              "  0,\n",
              "  0,\n",
              "  0,\n",
              "  0,\n",
              "  0,\n",
              "  0,\n",
              "  0,\n",
              "  0,\n",
              "  0,\n",
              "  0,\n",
              "  0,\n",
              "  0,\n",
              "  0,\n",
              "  0,\n",
              "  0,\n",
              "  0,\n",
              "  0,\n",
              "  0,\n",
              "  0,\n",
              "  0,\n",
              "  0,\n",
              "  0,\n",
              "  0,\n",
              "  0,\n",
              "  0,\n",
              "  0,\n",
              "  0,\n",
              "  0,\n",
              "  0,\n",
              "  0,\n",
              "  0,\n",
              "  0,\n",
              "  0,\n",
              "  0,\n",
              "  0,\n",
              "  0,\n",
              "  0,\n",
              "  0,\n",
              "  0,\n",
              "  0,\n",
              "  0,\n",
              "  0,\n",
              "  0,\n",
              "  0,\n",
              "  0,\n",
              "  0,\n",
              "  0,\n",
              "  0,\n",
              "  0,\n",
              "  0,\n",
              "  0,\n",
              "  0,\n",
              "  0,\n",
              "  0,\n",
              "  0,\n",
              "  0,\n",
              "  0,\n",
              "  0,\n",
              "  0,\n",
              "  0,\n",
              "  0,\n",
              "  0,\n",
              "  0,\n",
              "  0,\n",
              "  0,\n",
              "  0,\n",
              "  0,\n",
              "  0,\n",
              "  0,\n",
              "  0,\n",
              "  0,\n",
              "  0,\n",
              "  0,\n",
              "  0,\n",
              "  0,\n",
              "  0,\n",
              "  0,\n",
              "  0,\n",
              "  0,\n",
              "  0,\n",
              "  0,\n",
              "  0,\n",
              "  0,\n",
              "  0,\n",
              "  0,\n",
              "  0,\n",
              "  0,\n",
              "  0,\n",
              "  0,\n",
              "  0,\n",
              "  0,\n",
              "  0,\n",
              "  0,\n",
              "  0,\n",
              "  0,\n",
              "  0,\n",
              "  0,\n",
              "  0,\n",
              "  0,\n",
              "  0,\n",
              "  0,\n",
              "  0,\n",
              "  0,\n",
              "  0,\n",
              "  0,\n",
              "  0,\n",
              "  0,\n",
              "  0,\n",
              "  0,\n",
              "  0,\n",
              "  0,\n",
              "  0,\n",
              "  0,\n",
              "  0,\n",
              "  0,\n",
              "  0,\n",
              "  0,\n",
              "  0,\n",
              "  0,\n",
              "  0,\n",
              "  0,\n",
              "  0,\n",
              "  0,\n",
              "  0,\n",
              "  0,\n",
              "  0,\n",
              "  0,\n",
              "  0,\n",
              "  0,\n",
              "  0,\n",
              "  0,\n",
              "  0,\n",
              "  0,\n",
              "  0,\n",
              "  0,\n",
              "  0,\n",
              "  0,\n",
              "  0,\n",
              "  0,\n",
              "  0,\n",
              "  0,\n",
              "  0,\n",
              "  0,\n",
              "  0,\n",
              "  0,\n",
              "  0,\n",
              "  0,\n",
              "  0,\n",
              "  0,\n",
              "  0,\n",
              "  0,\n",
              "  0,\n",
              "  0,\n",
              "  0,\n",
              "  0,\n",
              "  0,\n",
              "  0,\n",
              "  0,\n",
              "  0,\n",
              "  0,\n",
              "  0,\n",
              "  0,\n",
              "  0,\n",
              "  0,\n",
              "  0,\n",
              "  0,\n",
              "  0,\n",
              "  0,\n",
              "  0,\n",
              "  0,\n",
              "  0,\n",
              "  0,\n",
              "  0,\n",
              "  0,\n",
              "  0,\n",
              "  0,\n",
              "  0,\n",
              "  0,\n",
              "  0,\n",
              "  0,\n",
              "  0,\n",
              "  0,\n",
              "  0,\n",
              "  0,\n",
              "  0,\n",
              "  0,\n",
              "  0,\n",
              "  0,\n",
              "  0,\n",
              "  0,\n",
              "  0,\n",
              "  0,\n",
              "  0,\n",
              "  0],\n",
              " [2,\n",
              "  2337,\n",
              "  28760,\n",
              "  6,\n",
              "  2112,\n",
              "  15197,\n",
              "  3276,\n",
              "  2578,\n",
              "  7305,\n",
              "  6,\n",
              "  8626,\n",
              "  2801,\n",
              "  2337,\n",
              "  28760,\n",
              "  11,\n",
              "  2858,\n",
              "  2697,\n",
              "  20562,\n",
              "  4162,\n",
              "  22906,\n",
              "  16,\n",
              "  2559,\n",
              "  2786,\n",
              "  2025,\n",
              "  3274,\n",
              "  23216,\n",
              "  485,\n",
              "  2527,\n",
              "  28712,\n",
              "  2200,\n",
              "  1992,\n",
              "  26341,\n",
              "  2216,\n",
              "  67,\n",
              "  5655,\n",
              "  12368,\n",
              "  1031,\n",
              "  8149,\n",
              "  2112,\n",
              "  15197,\n",
              "  3276,\n",
              "  2578,\n",
              "  7305,\n",
              "  1990,\n",
              "  3620,\n",
              "  31390,\n",
              "  2533,\n",
              "  4650,\n",
              "  2040,\n",
              "  20562,\n",
              "  3264,\n",
              "  18,\n",
              "  2559,\n",
              "  2786,\n",
              "  2025,\n",
              "  2461,\n",
              "  8946,\n",
              "  31461,\n",
              "  2349,\n",
              "  21,\n",
              "  16,\n",
              "  28,\n",
              "  3015,\n",
              "  18654,\n",
              "  2081,\n",
              "  2697,\n",
              "  2112,\n",
              "  15197,\n",
              "  3276,\n",
              "  2578,\n",
              "  7305,\n",
              "  3620,\n",
              "  31390,\n",
              "  2533,\n",
              "  11,\n",
              "  2757,\n",
              "  23216,\n",
              "  5136,\n",
              "  2958,\n",
              "  16,\n",
              "  26,\n",
              "  18,\n",
              "  2970,\n",
              "  7108,\n",
              "  16676,\n",
              "  3205,\n",
              "  7164,\n",
              "  2519,\n",
              "  23696,\n",
              "  28712,\n",
              "  2200,\n",
              "  1992,\n",
              "  5412,\n",
              "  23,\n",
              "  4009,\n",
              "  2578,\n",
              "  9396,\n",
              "  2164,\n",
              "  3312,\n",
              "  2519,\n",
              "  24875,\n",
              "  18654,\n",
              "  4961,\n",
              "  2026,\n",
              "  12131,\n",
              "  24812,\n",
              "  21953,\n",
              "  18,\n",
              "  3620,\n",
              "  31390,\n",
              "  16,\n",
              "  27136,\n",
              "  19447,\n",
              "  10556,\n",
              "  7741,\n",
              "  1038,\n",
              "  23216,\n",
              "  8040,\n",
              "  11,\n",
              "  2527,\n",
              "  3049,\n",
              "  2107,\n",
              "  1012,\n",
              "  12919,\n",
              "  16187,\n",
              "  18,\n",
              "  2337,\n",
              "  28760,\n",
              "  16,\n",
              "  3620,\n",
              "  31390,\n",
              "  1986,\n",
              "  5626,\n",
              "  16,\n",
              "  7705,\n",
              "  1992,\n",
              "  9150,\n",
              "  485,\n",
              "  63,\n",
              "  7890,\n",
              "  14546,\n",
              "  2428,\n",
              "  20554,\n",
              "  5805,\n",
              "  31191,\n",
              "  18,\n",
              "  22120,\n",
              "  16,\n",
              "  1993,\n",
              "  2169,\n",
              "  18333,\n",
              "  2697,\n",
              "  3620,\n",
              "  31390,\n",
              "  1986,\n",
              "  2020,\n",
              "  2935,\n",
              "  19379,\n",
              "  2013,\n",
              "  2110,\n",
              "  19,\n",
              "  3988,\n",
              "  4988,\n",
              "  2112,\n",
              "  6191,\n",
              "  30004,\n",
              "  2273,\n",
              "  22120,\n",
              "  29275,\n",
              "  3073,\n",
              "  18,\n",
              "  2337,\n",
              "  28760,\n",
              "  12578,\n",
              "  23739,\n",
              "  3353,\n",
              "  16647,\n",
              "  14964,\n",
              "  1992,\n",
              "  2513,\n",
              "  18498,\n",
              "  1013,\n",
              "  14909,\n",
              "  8273,\n",
              "  2698,\n",
              "  3620,\n",
              "  31390,\n",
              "  4161,\n",
              "  2081,\n",
              "  2564,\n",
              "  2612,\n",
              "  2958,\n",
              "  19912,\n",
              "  9775,\n",
              "  2603,\n",
              "  16,\n",
              "  23216,\n",
              "  485,\n",
              "  2527,\n",
              "  2112,\n",
              "  6191,\n",
              "  26341,\n",
              "  2533,\n",
              "  21015,\n",
              "  1984,\n",
              "  9311,\n",
              "  22120,\n",
              "  1023,\n",
              "  8188,\n",
              "  7190,\n",
              "  7561,\n",
              "  15204,\n",
              "  28576,\n",
              "  2016,\n",
              "  18,\n",
              "  6,\n",
              "  2623,\n",
              "  23216,\n",
              "  485,\n",
              "  2527,\n",
              "  2112,\n",
              "  7539,\n",
              "  18654,\n",
              "  2377,\n",
              "  2337,\n",
              "  28760,\n",
              "  485,\n",
              "  43,\n",
              "  15197,\n",
              "  2091,\n",
              "  10818,\n",
              "  16,\n",
              "  2619,\n",
              "  3459,\n",
              "  4439,\n",
              "  3234,\n",
              "  1971,\n",
              "  16,\n",
              "  5984,\n",
              "  1971,\n",
              "  26341,\n",
              "  2198,\n",
              "  2078,\n",
              "  2958,\n",
              "  1993,\n",
              "  9584,\n",
              "  12009,\n",
              "  16,\n",
              "  5984,\n",
              "  10387,\n",
              "  2091,\n",
              "  1992,\n",
              "  2156,\n",
              "  2337,\n",
              "  28760,\n",
              "  26341,\n",
              "  22205,\n",
              "  1976,\n",
              "  16,\n",
              "  2011,\n",
              "  2183,\n",
              "  3346,\n",
              "  1987,\n",
              "  12496,\n",
              "  8983,\n",
              "  1023,\n",
              "  1993,\n",
              "  26534,\n",
              "  15204,\n",
              "  1014,\n",
              "  5905,\n",
              "  5705,\n",
              "  9752,\n",
              "  3095,\n",
              "  18333,\n",
              "  8308,\n",
              "  2984,\n",
              "  1022,\n",
              "  14270,\n",
              "  18,\n",
              "  2337,\n",
              "  28760,\n",
              "  485,\n",
              "  2020,\n",
              "  7843,\n",
              "  7190,\n",
              "  1992,\n",
              "  7141,\n",
              "  12507,\n",
              "  26341,\n",
              "  2216,\n",
              "  2763,\n",
              "  2112,\n",
              "  6856,\n",
              "  11593,\n",
              "  2033,\n",
              "  1024,\n",
              "  4362,\n",
              "  2258,\n",
              "  11457,\n",
              "  2984,\n",
              "  1022,\n",
              "  2070,\n",
              "  18,\n",
              "  7122,\n",
              "  3226,\n",
              "  2137,\n",
              "  8273,\n",
              "  6717,\n",
              "  10784,\n",
              "  1993,\n",
              "  7467,\n",
              "  2137,\n",
              "  8273,\n",
              "  2464,\n",
              "  1992,\n",
              "  21155,\n",
              "  26341,\n",
              "  2216,\n",
              "  6029,\n",
              "  12257,\n",
              "  6240,\n",
              "  23592,\n",
              "  13176,\n",
              "  19633,\n",
              "  2663,\n",
              "  26341,\n",
              "  2533,\n",
              "  8538,\n",
              "  18,\n",
              "  6,\n",
              "  3226,\n",
              "  30,\n",
              "  7988,\n",
              "  3,\n",
              "  0,\n",
              "  0,\n",
              "  0,\n",
              "  0,\n",
              "  0,\n",
              "  0,\n",
              "  0,\n",
              "  0,\n",
              "  0,\n",
              "  0,\n",
              "  0,\n",
              "  0,\n",
              "  0,\n",
              "  0,\n",
              "  0,\n",
              "  0,\n",
              "  0,\n",
              "  0,\n",
              "  0,\n",
              "  0,\n",
              "  0,\n",
              "  0,\n",
              "  0,\n",
              "  0,\n",
              "  0,\n",
              "  0,\n",
              "  0,\n",
              "  0,\n",
              "  0,\n",
              "  0,\n",
              "  0,\n",
              "  0,\n",
              "  0,\n",
              "  0,\n",
              "  0,\n",
              "  0,\n",
              "  0,\n",
              "  0,\n",
              "  0,\n",
              "  0,\n",
              "  0,\n",
              "  0,\n",
              "  0,\n",
              "  0,\n",
              "  0,\n",
              "  0,\n",
              "  0,\n",
              "  0,\n",
              "  0,\n",
              "  0,\n",
              "  0,\n",
              "  0,\n",
              "  0,\n",
              "  0,\n",
              "  0,\n",
              "  0,\n",
              "  0,\n",
              "  0,\n",
              "  0,\n",
              "  0,\n",
              "  0,\n",
              "  0,\n",
              "  0,\n",
              "  0,\n",
              "  0,\n",
              "  0,\n",
              "  0,\n",
              "  0,\n",
              "  0,\n",
              "  0,\n",
              "  0,\n",
              "  0,\n",
              "  0,\n",
              "  0,\n",
              "  0,\n",
              "  0,\n",
              "  0,\n",
              "  0,\n",
              "  0,\n",
              "  0,\n",
              "  0,\n",
              "  0,\n",
              "  0,\n",
              "  0,\n",
              "  0,\n",
              "  0,\n",
              "  0,\n",
              "  0,\n",
              "  0,\n",
              "  0,\n",
              "  0,\n",
              "  0,\n",
              "  0,\n",
              "  0,\n",
              "  0,\n",
              "  0,\n",
              "  0,\n",
              "  0,\n",
              "  0,\n",
              "  0,\n",
              "  0,\n",
              "  0,\n",
              "  0,\n",
              "  0,\n",
              "  0,\n",
              "  0,\n",
              "  0,\n",
              "  0,\n",
              "  0,\n",
              "  0,\n",
              "  0,\n",
              "  0,\n",
              "  0,\n",
              "  0,\n",
              "  0,\n",
              "  0,\n",
              "  0,\n",
              "  0,\n",
              "  0,\n",
              "  0,\n",
              "  0,\n",
              "  0,\n",
              "  0,\n",
              "  0,\n",
              "  0,\n",
              "  0,\n",
              "  0,\n",
              "  0,\n",
              "  0,\n",
              "  0,\n",
              "  0,\n",
              "  0,\n",
              "  0,\n",
              "  0,\n",
              "  0,\n",
              "  0,\n",
              "  0,\n",
              "  0,\n",
              "  0,\n",
              "  0,\n",
              "  0,\n",
              "  0,\n",
              "  0,\n",
              "  0,\n",
              "  0,\n",
              "  0,\n",
              "  0,\n",
              "  0,\n",
              "  0,\n",
              "  0,\n",
              "  0,\n",
              "  0,\n",
              "  0,\n",
              "  0,\n",
              "  0,\n",
              "  0,\n",
              "  0,\n",
              "  0,\n",
              "  0,\n",
              "  0,\n",
              "  0,\n",
              "  0,\n",
              "  0,\n",
              "  0,\n",
              "  0,\n",
              "  0,\n",
              "  0,\n",
              "  0,\n",
              "  0,\n",
              "  0,\n",
              "  0,\n",
              "  0,\n",
              "  0,\n",
              "  0,\n",
              "  0,\n",
              "  0,\n",
              "  0]]"
            ]
          },
          "metadata": {},
          "execution_count": 29
        }
      ]
    },
    {
      "cell_type": "markdown",
      "source": [
        "## Create Optimizer and Training with TPU Cores"
      ],
      "metadata": {
        "id": "56G9dPPIsl5Z"
      }
    },
    {
      "cell_type": "code",
      "source": [
        "len(train_tokenized_data[\"input_ids\"])//32"
      ],
      "metadata": {
        "colab": {
          "base_uri": "https://localhost:8080/"
        },
        "id": "dKpw9bjHtC3t",
        "outputId": "94c9259a-99d0-4746-bef6-4c27475508a5"
      },
      "execution_count": 30,
      "outputs": [
        {
          "output_type": "execute_result",
          "data": {
            "text/plain": [
              "880"
            ]
          },
          "metadata": {},
          "execution_count": 30
        }
      ]
    },
    {
      "cell_type": "code",
      "source": [
        "from transformers import create_optimizer\n",
        "\n",
        "batch_size = 32 # 16\n",
        "num_train_epochs = 2 # 3, 4\n",
        "num_train_steps = (len(train_tokenized_data[\"input_ids\"]) // batch_size) * num_train_epochs\n",
        "optimizer, lr_schedule = create_optimizer(\n",
        "                                          init_lr=2e-5, #3e-5, 5e-5\n",
        "                                          num_train_steps=num_train_steps,\n",
        "                                          weight_decay_rate=0.01, # Ağırlık küçülme oranı\n",
        "                                          num_warmup_steps=0.1) ## Isınma adımları sayısı"
      ],
      "metadata": {
        "id": "5RxVvBMG66fX"
      },
      "execution_count": 31,
      "outputs": []
    },
    {
      "cell_type": "code",
      "source": [
        "optimizer"
      ],
      "metadata": {
        "colab": {
          "base_uri": "https://localhost:8080/"
        },
        "id": "0etNywV9Yctz",
        "outputId": "5fd21ac0-d059-4782-f1de-44407aafad2c"
      },
      "execution_count": 32,
      "outputs": [
        {
          "output_type": "execute_result",
          "data": {
            "text/plain": [
              "<transformers.optimization_tf.AdamWeightDecay at 0x79dcdf7b1690>"
            ]
          },
          "metadata": {},
          "execution_count": 32
        }
      ]
    },
    {
      "cell_type": "code",
      "source": [
        "lr_schedule.get_config()"
      ],
      "metadata": {
        "colab": {
          "base_uri": "https://localhost:8080/"
        },
        "id": "qPWeCB9uYpo6",
        "outputId": "48fc7cbf-1804-413c-bf1d-dde3522d0488"
      },
      "execution_count": 33,
      "outputs": [
        {
          "output_type": "execute_result",
          "data": {
            "text/plain": [
              "{'initial_learning_rate': 2e-05,\n",
              " 'decay_schedule_fn': <tf_keras.src.optimizers.schedules.learning_rate_schedule.PolynomialDecay at 0x79dd21bae710>,\n",
              " 'warmup_steps': 0.1,\n",
              " 'power': 1.0,\n",
              " 'name': None}"
            ]
          },
          "metadata": {},
          "execution_count": 33
        }
      ]
    },
    {
      "cell_type": "code",
      "source": [
        "optimizer.get_config()"
      ],
      "metadata": {
        "colab": {
          "base_uri": "https://localhost:8080/"
        },
        "id": "QaUgvkAO746o",
        "outputId": "e7cb60da-0a78-40b0-96ae-37577366eed8"
      },
      "execution_count": 34,
      "outputs": [
        {
          "output_type": "execute_result",
          "data": {
            "text/plain": [
              "{'name': 'AdamWeightDecay',\n",
              " 'learning_rate': {'module': 'transformers.optimization_tf',\n",
              "  'class_name': 'WarmUp',\n",
              "  'config': {'initial_learning_rate': 2e-05,\n",
              "   'decay_schedule_fn': {'module': 'keras.optimizers.schedules',\n",
              "    'class_name': 'PolynomialDecay',\n",
              "    'config': {'initial_learning_rate': 2e-05,\n",
              "     'decay_steps': 1759.9,\n",
              "     'end_learning_rate': 0.0,\n",
              "     'power': 1.0,\n",
              "     'cycle': False,\n",
              "     'name': None},\n",
              "    'registered_name': None},\n",
              "   'warmup_steps': 0.1,\n",
              "   'power': 1.0,\n",
              "   'name': None},\n",
              "  'registered_name': 'WarmUp'},\n",
              " 'decay': 0.0,\n",
              " 'beta_1': 0.9,\n",
              " 'beta_2': 0.999,\n",
              " 'epsilon': 1e-08,\n",
              " 'amsgrad': False,\n",
              " 'weight_decay_rate': 0.01}"
            ]
          },
          "metadata": {},
          "execution_count": 34
        }
      ]
    },
    {
      "cell_type": "code",
      "source": [
        "with tpu_strategy.scope():\n",
        "\n",
        "    from transformers import TFAutoModelForSequenceClassification\n",
        "\n",
        "    #from tensorflow.keras.optimizers import AdamW\n",
        "    #from tensorflow.keras.losses import BinaryCrossentropy, CategoricalCrossentropy, SparseCategoricalCrossentropy\n",
        "\n",
        "    # Load and compile our model\n",
        "    model = TFAutoModelForSequenceClassification.from_pretrained(\"dbmdz/bert-base-turkish-uncased\",\n",
        "                                                                 num_labels=11)\n",
        "    # loss= SparseCategoricalCrossentropy(from_logits=True, reduction=tf.keras.losses.ReductionV2.NONE)\n",
        "\n",
        "\n",
        "    model.compile(optimizer=optimizer, metrics=[\"accuracy\"])  # No loss argument!"
      ],
      "metadata": {
        "colab": {
          "base_uri": "https://localhost:8080/",
          "height": 118,
          "referenced_widgets": [
            "07ca483f2f5f46e1947b3392405158d9",
            "d789ff9635c0491ca9d3aa87f76b1ab5",
            "93c0b650c6634f648ffee46671c8facc",
            "9c2e5cf136c843229bed8e65a3665757",
            "7bc92c2ec0a548e98fe20f56f136a148",
            "99d8696c65674d02b751f4886cd6b807",
            "84a9b9295aec4945b11b48404f7af81f",
            "37faeed8e30d4d7db9cdfc7e8c6e6742",
            "c6bd74aa4df146078a20101ecf99500d",
            "1f1a86bfc69840419d454387680e9ea4",
            "ec05bff5c18f45b896122b0caf1e13c0"
          ]
        },
        "id": "wZ_S5FzZLg45",
        "outputId": "65c91c84-2afe-423b-a58a-61c2692a6dcb"
      },
      "execution_count": 35,
      "outputs": [
        {
          "output_type": "display_data",
          "data": {
            "text/plain": [
              "tf_model.h5:   0%|          | 0.00/545M [00:00<?, ?B/s]"
            ],
            "application/vnd.jupyter.widget-view+json": {
              "version_major": 2,
              "version_minor": 0,
              "model_id": "07ca483f2f5f46e1947b3392405158d9"
            }
          },
          "metadata": {}
        },
        {
          "output_type": "stream",
          "name": "stderr",
          "text": [
            "All model checkpoint layers were used when initializing TFBertForSequenceClassification.\n",
            "\n",
            "Some layers of TFBertForSequenceClassification were not initialized from the model checkpoint at dbmdz/bert-base-turkish-uncased and are newly initialized: ['classifier']\n",
            "You should probably TRAIN this model on a down-stream task to be able to use it for predictions and inference.\n"
          ]
        }
      ]
    },
    {
      "cell_type": "code",
      "source": [
        "tf_dataset_train = model.prepare_tf_dataset(train_tokenized_data, batch_size=32, shuffle=False)\n",
        "tf_dataset_test = model.prepare_tf_dataset(test_tokenized_data, batch_size=32, shuffle=False)"
      ],
      "metadata": {
        "id": "xLfUaMW0CNYn"
      },
      "execution_count": 36,
      "outputs": []
    },
    {
      "cell_type": "code",
      "source": [
        "tf_dataset_train"
      ],
      "metadata": {
        "colab": {
          "base_uri": "https://localhost:8080/"
        },
        "id": "ohk7VaVxRC-s",
        "outputId": "17dfb73a-deb4-4dab-c51e-0be868188577"
      },
      "execution_count": 37,
      "outputs": [
        {
          "output_type": "execute_result",
          "data": {
            "text/plain": [
              "<_PrefetchDataset element_spec=({'input_ids': TensorSpec(shape=(None, 512), dtype=tf.int64, name=None), 'token_type_ids': TensorSpec(shape=(None, 512), dtype=tf.int64, name=None), 'attention_mask': TensorSpec(shape=(None, 512), dtype=tf.int64, name=None)}, TensorSpec(shape=(None,), dtype=tf.float32, name=None))>"
            ]
          },
          "metadata": {},
          "execution_count": 37
        }
      ]
    },
    {
      "cell_type": "code",
      "source": [
        "model.fit(tf_dataset_train,\n",
        "          validation_data=(tf_dataset_test),\n",
        "          epochs=num_train_epochs)"
      ],
      "metadata": {
        "colab": {
          "base_uri": "https://localhost:8080/"
        },
        "id": "OjCXXLCk_Yq-",
        "outputId": "c08bbee1-f282-4eb6-bc04-1eaea41969f8"
      },
      "execution_count": 38,
      "outputs": [
        {
          "output_type": "stream",
          "name": "stdout",
          "text": [
            "Epoch 1/2\n"
          ]
        },
        {
          "output_type": "stream",
          "name": "stderr",
          "text": [
            "WARNING:tensorflow:AutoGraph could not transform <function infer_framework at 0x79e05c2c5d80> and will run it as-is.\n",
            "Cause: for/else statement not yet supported\n",
            "To silence this warning, decorate the function with @tf.autograph.experimental.do_not_convert\n"
          ]
        },
        {
          "output_type": "stream",
          "name": "stdout",
          "text": [
            "WARNING: AutoGraph could not transform <function infer_framework at 0x79e05c2c5d80> and will run it as-is.\n",
            "Cause: for/else statement not yet supported\n",
            "To silence this warning, decorate the function with @tf.autograph.experimental.do_not_convert\n",
            "880/880 [==============================] - 306s 206ms/step - loss: 0.7161 - accuracy: 0.7773 - val_loss: 0.5216 - val_accuracy: 0.8268\n",
            "Epoch 2/2\n",
            "880/880 [==============================] - 164s 187ms/step - loss: 0.4168 - accuracy: 0.8635 - val_loss: 0.4773 - val_accuracy: 0.8401\n"
          ]
        },
        {
          "output_type": "execute_result",
          "data": {
            "text/plain": [
              "<tf_keras.src.callbacks.History at 0x79dd0973b5b0>"
            ]
          },
          "metadata": {},
          "execution_count": 38
        }
      ]
    },
    {
      "cell_type": "code",
      "source": [
        "model.summary()"
      ],
      "metadata": {
        "colab": {
          "base_uri": "https://localhost:8080/"
        },
        "id": "6EyepEozg--G",
        "outputId": "741cc288-2c46-4687-8e56-9f142c290941"
      },
      "execution_count": 39,
      "outputs": [
        {
          "output_type": "stream",
          "name": "stdout",
          "text": [
            "Model: \"tf_bert_for_sequence_classification\"\n",
            "_________________________________________________________________\n",
            " Layer (type)                Output Shape              Param #   \n",
            "=================================================================\n",
            " bert (TFBertMainLayer)      multiple                  110617344 \n",
            "                                                                 \n",
            " dropout_37 (Dropout)        multiple                  0         \n",
            "                                                                 \n",
            " classifier (Dense)          multiple                  8459      \n",
            "                                                                 \n",
            "=================================================================\n",
            "Total params: 110625803 (422.00 MB)\n",
            "Trainable params: 110625803 (422.00 MB)\n",
            "Non-trainable params: 0 (0.00 Byte)\n",
            "_________________________________________________________________\n"
          ]
        }
      ]
    },
    {
      "cell_type": "markdown",
      "source": [
        "## Evaluation"
      ],
      "metadata": {
        "id": "Czk7NGfYvjN9"
      }
    },
    {
      "cell_type": "code",
      "source": [
        "model_loss = pd.DataFrame(model.history.history)\n",
        "model_loss.head()"
      ],
      "metadata": {
        "colab": {
          "base_uri": "https://localhost:8080/",
          "height": 112
        },
        "id": "dzETF4xOA1_e",
        "outputId": "5ef10038-69fc-4a64-9a38-f0c56770600b"
      },
      "execution_count": 40,
      "outputs": [
        {
          "output_type": "execute_result",
          "data": {
            "text/plain": [
              "       loss  accuracy  val_loss  val_accuracy\n",
              "0  0.716054  0.777308  0.521572      0.826847\n",
              "1  0.416781  0.863530  0.477341      0.840057"
            ],
            "text/html": [
              "\n",
              "  <div id=\"df-e0965062-d38f-49dc-b89d-10973cd70bac\" class=\"colab-df-container\">\n",
              "    <div>\n",
              "<style scoped>\n",
              "    .dataframe tbody tr th:only-of-type {\n",
              "        vertical-align: middle;\n",
              "    }\n",
              "\n",
              "    .dataframe tbody tr th {\n",
              "        vertical-align: top;\n",
              "    }\n",
              "\n",
              "    .dataframe thead th {\n",
              "        text-align: right;\n",
              "    }\n",
              "</style>\n",
              "<table border=\"1\" class=\"dataframe\">\n",
              "  <thead>\n",
              "    <tr style=\"text-align: right;\">\n",
              "      <th></th>\n",
              "      <th>loss</th>\n",
              "      <th>accuracy</th>\n",
              "      <th>val_loss</th>\n",
              "      <th>val_accuracy</th>\n",
              "    </tr>\n",
              "  </thead>\n",
              "  <tbody>\n",
              "    <tr>\n",
              "      <th>0</th>\n",
              "      <td>0.716054</td>\n",
              "      <td>0.777308</td>\n",
              "      <td>0.521572</td>\n",
              "      <td>0.826847</td>\n",
              "    </tr>\n",
              "    <tr>\n",
              "      <th>1</th>\n",
              "      <td>0.416781</td>\n",
              "      <td>0.863530</td>\n",
              "      <td>0.477341</td>\n",
              "      <td>0.840057</td>\n",
              "    </tr>\n",
              "  </tbody>\n",
              "</table>\n",
              "</div>\n",
              "    <div class=\"colab-df-buttons\">\n",
              "\n",
              "  <div class=\"colab-df-container\">\n",
              "    <button class=\"colab-df-convert\" onclick=\"convertToInteractive('df-e0965062-d38f-49dc-b89d-10973cd70bac')\"\n",
              "            title=\"Convert this dataframe to an interactive table.\"\n",
              "            style=\"display:none;\">\n",
              "\n",
              "  <svg xmlns=\"http://www.w3.org/2000/svg\" height=\"24px\" viewBox=\"0 -960 960 960\">\n",
              "    <path d=\"M120-120v-720h720v720H120Zm60-500h600v-160H180v160Zm220 220h160v-160H400v160Zm0 220h160v-160H400v160ZM180-400h160v-160H180v160Zm440 0h160v-160H620v160ZM180-180h160v-160H180v160Zm440 0h160v-160H620v160Z\"/>\n",
              "  </svg>\n",
              "    </button>\n",
              "\n",
              "  <style>\n",
              "    .colab-df-container {\n",
              "      display:flex;\n",
              "      gap: 12px;\n",
              "    }\n",
              "\n",
              "    .colab-df-convert {\n",
              "      background-color: #E8F0FE;\n",
              "      border: none;\n",
              "      border-radius: 50%;\n",
              "      cursor: pointer;\n",
              "      display: none;\n",
              "      fill: #1967D2;\n",
              "      height: 32px;\n",
              "      padding: 0 0 0 0;\n",
              "      width: 32px;\n",
              "    }\n",
              "\n",
              "    .colab-df-convert:hover {\n",
              "      background-color: #E2EBFA;\n",
              "      box-shadow: 0px 1px 2px rgba(60, 64, 67, 0.3), 0px 1px 3px 1px rgba(60, 64, 67, 0.15);\n",
              "      fill: #174EA6;\n",
              "    }\n",
              "\n",
              "    .colab-df-buttons div {\n",
              "      margin-bottom: 4px;\n",
              "    }\n",
              "\n",
              "    [theme=dark] .colab-df-convert {\n",
              "      background-color: #3B4455;\n",
              "      fill: #D2E3FC;\n",
              "    }\n",
              "\n",
              "    [theme=dark] .colab-df-convert:hover {\n",
              "      background-color: #434B5C;\n",
              "      box-shadow: 0px 1px 3px 1px rgba(0, 0, 0, 0.15);\n",
              "      filter: drop-shadow(0px 1px 2px rgba(0, 0, 0, 0.3));\n",
              "      fill: #FFFFFF;\n",
              "    }\n",
              "  </style>\n",
              "\n",
              "    <script>\n",
              "      const buttonEl =\n",
              "        document.querySelector('#df-e0965062-d38f-49dc-b89d-10973cd70bac button.colab-df-convert');\n",
              "      buttonEl.style.display =\n",
              "        google.colab.kernel.accessAllowed ? 'block' : 'none';\n",
              "\n",
              "      async function convertToInteractive(key) {\n",
              "        const element = document.querySelector('#df-e0965062-d38f-49dc-b89d-10973cd70bac');\n",
              "        const dataTable =\n",
              "          await google.colab.kernel.invokeFunction('convertToInteractive',\n",
              "                                                    [key], {});\n",
              "        if (!dataTable) return;\n",
              "\n",
              "        const docLinkHtml = 'Like what you see? Visit the ' +\n",
              "          '<a target=\"_blank\" href=https://colab.research.google.com/notebooks/data_table.ipynb>data table notebook</a>'\n",
              "          + ' to learn more about interactive tables.';\n",
              "        element.innerHTML = '';\n",
              "        dataTable['output_type'] = 'display_data';\n",
              "        await google.colab.output.renderOutput(dataTable, element);\n",
              "        const docLink = document.createElement('div');\n",
              "        docLink.innerHTML = docLinkHtml;\n",
              "        element.appendChild(docLink);\n",
              "      }\n",
              "    </script>\n",
              "  </div>\n",
              "\n",
              "\n",
              "<div id=\"df-e68cbb63-d9f2-4145-a499-67884c1c8b4e\">\n",
              "  <button class=\"colab-df-quickchart\" onclick=\"quickchart('df-e68cbb63-d9f2-4145-a499-67884c1c8b4e')\"\n",
              "            title=\"Suggest charts\"\n",
              "            style=\"display:none;\">\n",
              "\n",
              "<svg xmlns=\"http://www.w3.org/2000/svg\" height=\"24px\"viewBox=\"0 0 24 24\"\n",
              "     width=\"24px\">\n",
              "    <g>\n",
              "        <path d=\"M19 3H5c-1.1 0-2 .9-2 2v14c0 1.1.9 2 2 2h14c1.1 0 2-.9 2-2V5c0-1.1-.9-2-2-2zM9 17H7v-7h2v7zm4 0h-2V7h2v10zm4 0h-2v-4h2v4z\"/>\n",
              "    </g>\n",
              "</svg>\n",
              "  </button>\n",
              "\n",
              "<style>\n",
              "  .colab-df-quickchart {\n",
              "      --bg-color: #E8F0FE;\n",
              "      --fill-color: #1967D2;\n",
              "      --hover-bg-color: #E2EBFA;\n",
              "      --hover-fill-color: #174EA6;\n",
              "      --disabled-fill-color: #AAA;\n",
              "      --disabled-bg-color: #DDD;\n",
              "  }\n",
              "\n",
              "  [theme=dark] .colab-df-quickchart {\n",
              "      --bg-color: #3B4455;\n",
              "      --fill-color: #D2E3FC;\n",
              "      --hover-bg-color: #434B5C;\n",
              "      --hover-fill-color: #FFFFFF;\n",
              "      --disabled-bg-color: #3B4455;\n",
              "      --disabled-fill-color: #666;\n",
              "  }\n",
              "\n",
              "  .colab-df-quickchart {\n",
              "    background-color: var(--bg-color);\n",
              "    border: none;\n",
              "    border-radius: 50%;\n",
              "    cursor: pointer;\n",
              "    display: none;\n",
              "    fill: var(--fill-color);\n",
              "    height: 32px;\n",
              "    padding: 0;\n",
              "    width: 32px;\n",
              "  }\n",
              "\n",
              "  .colab-df-quickchart:hover {\n",
              "    background-color: var(--hover-bg-color);\n",
              "    box-shadow: 0 1px 2px rgba(60, 64, 67, 0.3), 0 1px 3px 1px rgba(60, 64, 67, 0.15);\n",
              "    fill: var(--button-hover-fill-color);\n",
              "  }\n",
              "\n",
              "  .colab-df-quickchart-complete:disabled,\n",
              "  .colab-df-quickchart-complete:disabled:hover {\n",
              "    background-color: var(--disabled-bg-color);\n",
              "    fill: var(--disabled-fill-color);\n",
              "    box-shadow: none;\n",
              "  }\n",
              "\n",
              "  .colab-df-spinner {\n",
              "    border: 2px solid var(--fill-color);\n",
              "    border-color: transparent;\n",
              "    border-bottom-color: var(--fill-color);\n",
              "    animation:\n",
              "      spin 1s steps(1) infinite;\n",
              "  }\n",
              "\n",
              "  @keyframes spin {\n",
              "    0% {\n",
              "      border-color: transparent;\n",
              "      border-bottom-color: var(--fill-color);\n",
              "      border-left-color: var(--fill-color);\n",
              "    }\n",
              "    20% {\n",
              "      border-color: transparent;\n",
              "      border-left-color: var(--fill-color);\n",
              "      border-top-color: var(--fill-color);\n",
              "    }\n",
              "    30% {\n",
              "      border-color: transparent;\n",
              "      border-left-color: var(--fill-color);\n",
              "      border-top-color: var(--fill-color);\n",
              "      border-right-color: var(--fill-color);\n",
              "    }\n",
              "    40% {\n",
              "      border-color: transparent;\n",
              "      border-right-color: var(--fill-color);\n",
              "      border-top-color: var(--fill-color);\n",
              "    }\n",
              "    60% {\n",
              "      border-color: transparent;\n",
              "      border-right-color: var(--fill-color);\n",
              "    }\n",
              "    80% {\n",
              "      border-color: transparent;\n",
              "      border-right-color: var(--fill-color);\n",
              "      border-bottom-color: var(--fill-color);\n",
              "    }\n",
              "    90% {\n",
              "      border-color: transparent;\n",
              "      border-bottom-color: var(--fill-color);\n",
              "    }\n",
              "  }\n",
              "</style>\n",
              "\n",
              "  <script>\n",
              "    async function quickchart(key) {\n",
              "      const quickchartButtonEl =\n",
              "        document.querySelector('#' + key + ' button');\n",
              "      quickchartButtonEl.disabled = true;  // To prevent multiple clicks.\n",
              "      quickchartButtonEl.classList.add('colab-df-spinner');\n",
              "      try {\n",
              "        const charts = await google.colab.kernel.invokeFunction(\n",
              "            'suggestCharts', [key], {});\n",
              "      } catch (error) {\n",
              "        console.error('Error during call to suggestCharts:', error);\n",
              "      }\n",
              "      quickchartButtonEl.classList.remove('colab-df-spinner');\n",
              "      quickchartButtonEl.classList.add('colab-df-quickchart-complete');\n",
              "    }\n",
              "    (() => {\n",
              "      let quickchartButtonEl =\n",
              "        document.querySelector('#df-e68cbb63-d9f2-4145-a499-67884c1c8b4e button');\n",
              "      quickchartButtonEl.style.display =\n",
              "        google.colab.kernel.accessAllowed ? 'block' : 'none';\n",
              "    })();\n",
              "  </script>\n",
              "</div>\n",
              "\n",
              "    </div>\n",
              "  </div>\n"
            ],
            "application/vnd.google.colaboratory.intrinsic+json": {
              "type": "dataframe",
              "variable_name": "model_loss",
              "summary": "{\n  \"name\": \"model_loss\",\n  \"rows\": 2,\n  \"fields\": [\n    {\n      \"column\": \"loss\",\n      \"properties\": {\n        \"dtype\": \"number\",\n        \"std\": 0.21161818840828914,\n        \"min\": 0.4167807102203369,\n        \"max\": 0.7160540223121643,\n        \"num_unique_values\": 2,\n        \"samples\": [\n          0.4167807102203369,\n          0.7160540223121643\n        ],\n        \"semantic_type\": \"\",\n        \"description\": \"\"\n      }\n    },\n    {\n      \"column\": \"accuracy\",\n      \"properties\": {\n        \"dtype\": \"number\",\n        \"std\": 0.06096786088822185,\n        \"min\": 0.7773082256317139,\n        \"max\": 0.8635298013687134,\n        \"num_unique_values\": 2,\n        \"samples\": [\n          0.8635298013687134,\n          0.7773082256317139\n        ],\n        \"semantic_type\": \"\",\n        \"description\": \"\"\n      }\n    },\n    {\n      \"column\": \"val_loss\",\n      \"properties\": {\n        \"dtype\": \"number\",\n        \"std\": 0.03127614368214594,\n        \"min\": 0.47734132409095764,\n        \"max\": 0.521572470664978,\n        \"num_unique_values\": 2,\n        \"samples\": [\n          0.47734132409095764,\n          0.521572470664978\n        ],\n        \"semantic_type\": \"\",\n        \"description\": \"\"\n      }\n    },\n    {\n      \"column\": \"val_accuracy\",\n      \"properties\": {\n        \"dtype\": \"number\",\n        \"std\": 0.009341048182317955,\n        \"min\": 0.8268465995788574,\n        \"max\": 0.840056836605072,\n        \"num_unique_values\": 2,\n        \"samples\": [\n          0.840056836605072,\n          0.8268465995788574\n        ],\n        \"semantic_type\": \"\",\n        \"description\": \"\"\n      }\n    }\n  ]\n}"
            }
          },
          "metadata": {},
          "execution_count": 40
        }
      ]
    },
    {
      "cell_type": "code",
      "source": [
        "model_loss.plot()"
      ],
      "metadata": {
        "colab": {
          "base_uri": "https://localhost:8080/",
          "height": 447
        },
        "id": "kC0FCOT8A2Ge",
        "outputId": "9f902af0-4258-41f1-df9a-2d7f9461e855"
      },
      "execution_count": 41,
      "outputs": [
        {
          "output_type": "execute_result",
          "data": {
            "text/plain": [
              "<Axes: >"
            ]
          },
          "metadata": {},
          "execution_count": 41
        },
        {
          "output_type": "display_data",
          "data": {
            "text/plain": [
              "<Figure size 640x480 with 1 Axes>"
            ],
            "image/png": "[encoded data removed]"
          },
          "metadata": {}
        }
      ]
    },
    {
      "cell_type": "code",
      "source": [],
      "metadata": {
        "id": "kPaz01p8A2M9"
      },
      "execution_count": null,
      "outputs": []
    },
    {
      "cell_type": "markdown",
      "source": [
        "\"Logits\" terimi, derin öğrenme modelleri ve sinir ağlarında sıkça kullanılan bir terimdir. Logits, modelin son katmanından çıkan, genellikle bir doğrusal dönüşüm ve bir aktivasyon fonksiyonundan önceki ham puanları ifade eder.\n",
        "\n",
        "Bir sınıflandırma probleminde, logits çıktıları genellikle aşağıdaki gibi yorumlanır:\n",
        "\n",
        "- **Çok sınıflı sınıflandırma**: Modelin farklı sınıflar için hesapladığı ham puanlar. Bu puanlar, genellikle softmax fonksiyonu uygulanarak olasılıklara dönüştürülür.\n",
        "- **İkili sınıflandırma**: İki sınıf arasındaki karar sınırını belirlemek için kullanılan ham puanlar. Bu puanlar, sigmoid fonksiyonu ile olasılıklara dönüştürülür.\n",
        "\n",
        "Logits değerlerini anlamak için şu adımları izleyebilirsiniz:\n",
        "1. **Softmax Uygulama**: Logits değerlerini olasılıklara dönüştürmek için softmax fonksiyonunu kullanabilirsiniz. Bu, her sınıf için olasılıkların toplamının 1 olmasını sağlar.\n",
        "2. **Tahmin**: En yüksek olasılığa sahip sınıf, modelin tahmini olarak seçilir."
      ],
      "metadata": {
        "id": "Dm5Y0iD_dfR8"
      }
    },
    {
      "cell_type": "code",
      "source": [
        "logits= model.predict(tf_dataset_test)\n",
        "logits"
      ],
      "metadata": {
        "colab": {
          "base_uri": "https://localhost:8080/"
        },
        "id": "I2g6BnkzA2TE",
        "outputId": "8ca93cd7-5432-4cbd-abd9-cf823ee462d9"
      },
      "execution_count": 42,
      "outputs": [
        {
          "output_type": "stream",
          "name": "stdout",
          "text": [
            "220/220 [==============================] - 29s 53ms/step\n"
          ]
        },
        {
          "output_type": "execute_result",
          "data": {
            "text/plain": [
              "TFSequenceClassifierOutput(loss=None, logits=array([[ 1.7675049 , -1.0528206 , -1.1995492 , ..., -1.7221335 ,\n",
              "        -0.49791354, -1.1230452 ],\n",
              "       [-2.194784  , -2.1740098 , -1.0552914 , ..., -1.2280353 ,\n",
              "         4.850782  ,  0.31050178],\n",
              "       [-2.2651987 , -1.994093  , -1.7650915 , ..., -0.72180265,\n",
              "         5.615818  ,  0.7951686 ],\n",
              "       ...,\n",
              "       [ 2.8570178 , -1.5148501 , -1.3132945 , ..., -1.5513839 ,\n",
              "        -0.03640067, -1.6492075 ],\n",
              "       [-0.38184366,  0.06215261, -0.5282027 , ...,  6.794633  ,\n",
              "        -0.95040095, -0.08894202],\n",
              "       [ 4.753948  , -0.13274834,  1.4343276 , ..., -1.624719  ,\n",
              "        -2.0244389 ,  1.2530732 ]], dtype=float32), hidden_states=None, attentions=None)"
            ]
          },
          "metadata": {},
          "execution_count": 42
        }
      ]
    },
    {
      "cell_type": "code",
      "source": [
        "logits.logits"
      ],
      "metadata": {
        "colab": {
          "base_uri": "https://localhost:8080/"
        },
        "id": "5gonZaFbA_jI",
        "outputId": "a665eba9-886f-4e99-df01-1de8e1d9426d"
      },
      "execution_count": 43,
      "outputs": [
        {
          "output_type": "execute_result",
          "data": {
            "text/plain": [
              "array([[ 1.7675049 , -1.0528206 , -1.1995492 , ..., -1.7221335 ,\n",
              "        -0.49791354, -1.1230452 ],\n",
              "       [-2.194784  , -2.1740098 , -1.0552914 , ..., -1.2280353 ,\n",
              "         4.850782  ,  0.31050178],\n",
              "       [-2.2651987 , -1.994093  , -1.7650915 , ..., -0.72180265,\n",
              "         5.615818  ,  0.7951686 ],\n",
              "       ...,\n",
              "       [ 2.8570178 , -1.5148501 , -1.3132945 , ..., -1.5513839 ,\n",
              "        -0.03640067, -1.6492075 ],\n",
              "       [-0.38184366,  0.06215261, -0.5282027 , ...,  6.794633  ,\n",
              "        -0.95040095, -0.08894202],\n",
              "       [ 4.753948  , -0.13274834,  1.4343276 , ..., -1.624719  ,\n",
              "        -2.0244389 ,  1.2530732 ]], dtype=float32)"
            ]
          },
          "metadata": {},
          "execution_count": 43
        }
      ]
    },
    {
      "cell_type": "code",
      "source": [
        "logits.logits[0]"
      ],
      "metadata": {
        "colab": {
          "base_uri": "https://localhost:8080/"
        },
        "id": "ufyTAyccw3-d",
        "outputId": "bc6a7d4d-ea06-4124-9caa-2a29b7d5e326"
      },
      "execution_count": 44,
      "outputs": [
        {
          "output_type": "execute_result",
          "data": {
            "text/plain": [
              "array([ 1.7675049 , -1.0528206 , -1.1995492 ,  4.818747  , -0.706084  ,\n",
              "        1.727668  , -1.7999177 , -0.7624487 , -1.7221335 , -0.49791354,\n",
              "       -1.1230452 ], dtype=float32)"
            ]
          },
          "metadata": {},
          "execution_count": 44
        }
      ]
    },
    {
      "cell_type": "code",
      "source": [
        "import tensorflow as tf\n",
        "\n",
        "probabilities = tf.nn.softmax(logits.logits, axis=-1).numpy()\n",
        "\n",
        "probabilities"
      ],
      "metadata": {
        "colab": {
          "base_uri": "https://localhost:8080/"
        },
        "id": "sB3kV7XqBJci",
        "outputId": "c668b9b0-2e31-4c79-da19-4ae96d386817"
      },
      "execution_count": 45,
      "outputs": [
        {
          "output_type": "execute_result",
          "data": {
            "text/plain": [
              "array([[4.2380791e-02, 2.5253245e-03, 2.1806895e-03, ..., 1.2931183e-03,\n",
              "        4.3985588e-03, 2.3540678e-03],\n",
              "       [7.0690486e-04, 7.2174362e-04, 2.2092052e-03, ..., 1.8587216e-03,\n",
              "        8.1135553e-01, 8.6575001e-03],\n",
              "       [3.4784060e-04, 4.5616293e-04, 5.7355367e-04, ..., 1.6280533e-03,\n",
              "        9.2058164e-01, 7.4213138e-03],\n",
              "       ...,\n",
              "       [3.0685586e-01, 3.8748628e-03, 4.7401367e-03, ..., 3.7358541e-03,\n",
              "        1.6995691e-02, 3.3877054e-03],\n",
              "       [7.5902487e-04, 1.1832622e-03, 6.5568177e-04, ..., 9.9302489e-01,\n",
              "        4.2986762e-04, 1.0173293e-03],\n",
              "       [8.9622647e-01, 6.7632045e-03, 3.2413419e-02, ..., 1.5212400e-03,\n",
              "        1.0200036e-03, 2.7040023e-02]], dtype=float32)"
            ]
          },
          "metadata": {},
          "execution_count": 45
        }
      ]
    },
    {
      "cell_type": "code",
      "source": [
        "y_pred=np.argmax(probabilities, axis=1)\n",
        "y_pred"
      ],
      "metadata": {
        "colab": {
          "base_uri": "https://localhost:8080/"
        },
        "id": "Ih1IoT7uBUnn",
        "outputId": "99c45d5e-c594-47d5-8acc-f379fb12656f"
      },
      "execution_count": 46,
      "outputs": [
        {
          "output_type": "execute_result",
          "data": {
            "text/plain": [
              "array([3, 9, 9, ..., 3, 8, 0])"
            ]
          },
          "metadata": {},
          "execution_count": 46
        }
      ]
    },
    {
      "cell_type": "code",
      "source": [
        "def classification(tokenized_data):\n",
        "  import tensorflow as tf\n",
        "  import numpy as np\n",
        "\n",
        "  logits= model.predict(tokenized_data)\n",
        "  probabilities = tf.nn.softmax(logits.logits, axis=-1).numpy()\n",
        "  y_pred = np.argmax(probabilities, axis=1)\n",
        "  return y_pred"
      ],
      "metadata": {
        "id": "CfmarrXdB7k-"
      },
      "execution_count": 47,
      "outputs": []
    },
    {
      "cell_type": "code",
      "source": [
        "from sklearn.metrics import classification_report, confusion_matrix\n",
        "y_pred=classification(tf_dataset_test)\n",
        "print(classification_report(y_test, y_pred, target_names=unique_labels))"
      ],
      "metadata": {
        "colab": {
          "base_uri": "https://localhost:8080/"
        },
        "id": "Za4DhRTFb2mf",
        "outputId": "2e663e70-d422-494d-968d-6eb6ee1393df"
      },
      "execution_count": 48,
      "outputs": [
        {
          "output_type": "stream",
          "name": "stdout",
          "text": [
            "220/220 [==============================] - 13s 54ms/step\n",
            "                 precision    recall  f1-score   support\n",
            "\n",
            "bilim_teknoloji       0.83      0.91      0.87       640\n",
            "          dunya       0.92      0.87      0.90       640\n",
            "         egitim       0.90      0.95      0.93       640\n",
            "        ekonomi       0.85      0.86      0.86       640\n",
            "         guncel       0.75      0.81      0.78       640\n",
            "         gundem       0.82      0.75      0.79       640\n",
            "   kultur_sanat       0.81      0.90      0.85       640\n",
            "         saglik       0.85      0.86      0.86       640\n",
            "           spor       0.98      0.97      0.98       640\n",
            "        turkiye       0.77      0.65      0.71       640\n",
            "          yasam       0.75      0.68      0.71       640\n",
            "\n",
            "       accuracy                           0.84      7040\n",
            "      macro avg       0.84      0.84      0.84      7040\n",
            "   weighted avg       0.84      0.84      0.84      7040\n",
            "\n"
          ]
        }
      ]
    },
    {
      "cell_type": "code",
      "source": [
        "y_train_pred=classification(tf_dataset_train)\n",
        "print(classification_report(y_train, y_train_pred, target_names=unique_labels))"
      ],
      "metadata": {
        "colab": {
          "base_uri": "https://localhost:8080/"
        },
        "id": "juDuQ9OWCe0n",
        "outputId": "7ad54ca7-7713-4e9d-c4cb-560aa17256f4"
      },
      "execution_count": 49,
      "outputs": [
        {
          "output_type": "stream",
          "name": "stdout",
          "text": [
            "880/880 [==============================] - 48s 53ms/step\n",
            "                 precision    recall  f1-score   support\n",
            "\n",
            "bilim_teknoloji       0.89      0.95      0.92      2560\n",
            "          dunya       0.96      0.91      0.93      2560\n",
            "         egitim       0.90      0.97      0.94      2560\n",
            "        ekonomi       0.89      0.91      0.90      2560\n",
            "         guncel       0.84      0.86      0.85      2560\n",
            "         gundem       0.87      0.81      0.84      2560\n",
            "   kultur_sanat       0.86      0.94      0.90      2560\n",
            "         saglik       0.89      0.93      0.91      2560\n",
            "           spor       0.99      0.99      0.99      2560\n",
            "        turkiye       0.85      0.74      0.79      2560\n",
            "          yasam       0.84      0.77      0.81      2560\n",
            "\n",
            "       accuracy                           0.89     28160\n",
            "      macro avg       0.89      0.89      0.89     28160\n",
            "   weighted avg       0.89      0.89      0.89     28160\n",
            "\n"
          ]
        }
      ]
    },
    {
      "cell_type": "markdown",
      "source": [
        "## Saving and Loading The Model"
      ],
      "metadata": {
        "id": "Ma1lX1UdxJj2"
      }
    },
    {
      "cell_type": "code",
      "source": [
        "model.save_pretrained(\"./saved_model\")"
      ],
      "metadata": {
        "id": "2xxvEjLRJ_3v"
      },
      "execution_count": 50,
      "outputs": []
    },
    {
      "cell_type": "code",
      "source": [
        "with tpu_strategy.scope():\n",
        "  loaded_model = TFAutoModelForSequenceClassification.from_pretrained(\"/content/saved_model\")"
      ],
      "metadata": {
        "colab": {
          "base_uri": "https://localhost:8080/"
        },
        "id": "q4omVuvjKDK7",
        "outputId": "779f4847-3f3a-4d79-963d-36bc8f59c091"
      },
      "execution_count": 51,
      "outputs": [
        {
          "output_type": "stream",
          "name": "stderr",
          "text": [
            "Some layers from the model checkpoint at /content/saved_model were not used when initializing TFBertForSequenceClassification: ['dropout_37']\n",
            "- This IS expected if you are initializing TFBertForSequenceClassification from the checkpoint of a model trained on another task or with another architecture (e.g. initializing a BertForSequenceClassification model from a BertForPreTraining model).\n",
            "- This IS NOT expected if you are initializing TFBertForSequenceClassification from the checkpoint of a model that you expect to be exactly identical (initializing a BertForSequenceClassification model from a BertForSequenceClassification model).\n",
            "All the layers of TFBertForSequenceClassification were initialized from the model checkpoint at /content/saved_model.\n",
            "If your task is similar to the task the model of the checkpoint was trained on, you can already use TFBertForSequenceClassification for predictions without further training.\n"
          ]
        }
      ]
    },
    {
      "cell_type": "markdown",
      "source": [
        "## Prediction"
      ],
      "metadata": {
        "id": "CvJu-veQ2W0I"
      }
    },
    {
      "cell_type": "code",
      "source": [
        "sample1=\"Meteorolojiden kuvvetli yağış uyarısı Meteoroloji Genel Müdürlüğünden yapılan uyarıya göre, yarın Kıyı Ege \\\n",
        "(İzmir, Aydın, Muğla, Manisa) ile Edirne'nin güneyi, Balıkesir'in batı kıyıları (Edremit, Ayvalık, Burhaniye, Havran, \\\n",
        "Gömeç ilçeleri) ve Çanakkale çevrelerinde kuvvetli ve yer yer çok kuvvetli, gök gürültülü sağanak öngörülüyor. Ani sel, \\\n",
        "su baskını, yıldırım, yağış anında kuvvetli rüzgar, yerel dolu yağışı ve hortum gibi olumsuzluklara karşı dikkatli ve \\\n",
        "tedbirli olunması gerekiyor.\""
      ],
      "metadata": {
        "id": "99SbL6n5KFwj"
      },
      "execution_count": 52,
      "outputs": []
    },
    {
      "cell_type": "code",
      "source": [
        "sample2=\"\"\"Teknopark İstanbul'un Rejenerasyon-20 projesine başvurular başladı Teknopark İstanbul açıklamasına göre, evde yaşam,\\\n",
        " erişim-lojistik, uzaktan çalışma ve sosyal girişim konularında çalışmalar yapan ön kuluçka ve kuluçka aşamasına gelen \\\n",
        " girişimcilerin başvurabileceği Rejenerasyon-20 projesi girişim ekosisteminin yeniden yapılanmasını kapsıyor. Projeyle; \\\n",
        " prototip üretme, prototip geliştirme veya ürünleşme aşamasındaki girişimlere dijital hızlandırma, ticarileşme aşamasındaki \\\n",
        " girişimlere ise danışmanlık programı verilecek. Danışmanlık programından; ürününü bitirmiş, \"scale up\" aşamasında olan ya da \\\n",
        " salgından önce gelir üretebilen fakat şu an iş yapmakta zorlanan genç girişimler yararlanabilecek. Başvuruların 3-17 Temmuz'da \\\n",
        " gerçekleştirilebileceği Rejenerasyon-20 Projesi'ne, rejenerasyon20.com adresinden başvurulabiliyor. Dijital Hızlandırma Programı'na\\\n",
        "  başlayacak olan 15 girişim grubu; proje ekibi, teknik destek yetkilisi ve insan kaynakları danışmanının ortak görüşü ile \\\n",
        "  değerlendirmeye alınacak. 150 saat mentorluk desteği verilecek Program boyunca girişim gruplarına toplamda; 50 saat finansal \\\n",
        "  danışmanlık desteği, 360 saat teknik analiz, yazılım danışmanlığı ve test desteği, 150 saat mentorluk desteği, 150 saat insan \\\n",
        "  kaynakları danışmanlığı, 30 saat hukuk danışmanlık desteği, 30 saat fikri ve sınai mülkiyet haklar danışmanlık desteği, \\\n",
        "  stratejik marka iletişimi ve dijital pazarlama danışmanlığı, iş geliştirme ve pazarlama desteği, prototipleme-üretim \\\n",
        "  danışmanlığı, kapsamlı stratejik analiz ve plan oluşturma desteği, 6 ay boyunca iş geliştirme uygulamaları desteği \\\n",
        "  gibi destekler sunulacak. Ara değerlendirme sonrasında elemeden geçecek 15 girişimci sayısı jüri elemesi sonucu 10'a \\\n",
        "  düşürülecek. İkinci aşamaya geçen 10 girişime ayrıca; sosyal medya tanıtım desteği, kurumsal kimlik ve dijital tasarım \\\n",
        "  desteği, 100 saat kullanıcı ara yüz tasarım desteği, prototipleme desteği, 2 yıl boyunca bulut veri depolama hizmeti \\\n",
        "  sunulacak. Program sonunda 10 girişim, \"demoday\" etkinliğinde kurumsal firma ve yatırımcılara sunum yapma fırsatına \\\n",
        "  erişecek. Danışmanlık başvurusundan ise 25 girişim yararlanabilecek. Bu girişimlere toplamda 300 saatlik psikolojik, \\\n",
        "  finansal ve pazarlama danışmanlığı verilecek. Öte yandan, projenin son ayağı olan Video Portal Modülü ile daha büyük \\\n",
        "  kitleye hitap edilecek ve girişimlerin en çok merak ettiği 100 soru konunun uzmanları tarafından kısa videolarla cevaplanacak. \\\n",
        "  \"Uluslararası arenada rekabet eden ürünlerin hayata geçeceğine inanıyoruz\" Açıklamada görüşlerine yer verilen Teknopark İstanbul \\\n",
        "  Genel Müdürü Bilal Topçu, destekten yararlanacak girişimcilerin; kalıcı, uygulanabilir ve çağdaş metotlara dayanan destek \\\n",
        "  mekanizmalarıyla projelerini başarıyla hayata geçireceklerini belirterek, şunları kaydetti: \"Rejenerasyon-20 ile \\\n",
        "  girişimcilik ekosistemimizdeki başarılı genç beyinlerimizin uluslararası arenada rekabet eden ürünler ve uygulamalar hayata \\\n",
        "  geçireceğine inanıyoruz.\"\"\""
      ],
      "metadata": {
        "id": "nYym1zdzK-ok"
      },
      "execution_count": 53,
      "outputs": []
    },
    {
      "cell_type": "code",
      "source": [
        "samples=[]\n",
        "for i in [sample1, sample2]:\n",
        "  samples.append({\"text\": str(i)})"
      ],
      "metadata": {
        "id": "pAZjt9ZKKKiL"
      },
      "execution_count": 54,
      "outputs": []
    },
    {
      "cell_type": "code",
      "source": [
        "def prep_data(samples, model):\n",
        "  from datasets import Dataset\n",
        "  samples_dataset = Dataset.from_list(samples)\n",
        "  samples_tokenized_data = samples_dataset.map(transformation, batched=True)\n",
        "  tf_dataset_samples = model.prepare_tf_dataset(samples_tokenized_data , batch_size=32, shuffle=False)\n",
        "  return tf_dataset_samples"
      ],
      "metadata": {
        "id": "Eo3MjYJ6d5mD"
      },
      "execution_count": 55,
      "outputs": []
    },
    {
      "cell_type": "code",
      "source": [
        "tf_dataset_samples=prep_data(samples, loaded_model)"
      ],
      "metadata": {
        "colab": {
          "base_uri": "https://localhost:8080/",
          "height": 49,
          "referenced_widgets": [
            "0d9504c29727438887165a1d8fa76764",
            "bf24e2ea7a52405d9c511955f14e5a2a",
            "411024cfcd72410091d3575e011bf143",
            "faca821e55c341fea92af18de9bfb2da",
            "55f8bf94197b4dfbad71cbd5b2bf91dc",
            "2b34668245ea4c2aa227709eda157475",
            "45805cdf0f594f309396ee93a8fe69b4",
            "8c551da442044a74bb348bcf5bac7af7",
            "7b138973ac2d476e89b4b53220efa67c",
            "5780d1e60f324db6999897339b97522b",
            "bb4bc5359c26466aae2798e50c390247"
          ]
        },
        "id": "UxBWAon_edDG",
        "outputId": "cd5c6afe-ebae-4cb8-f899-64e17501be22"
      },
      "execution_count": 56,
      "outputs": [
        {
          "output_type": "display_data",
          "data": {
            "text/plain": [
              "Map:   0%|          | 0/2 [00:00<?, ? examples/s]"
            ],
            "application/vnd.jupyter.widget-view+json": {
              "version_major": 2,
              "version_minor": 0,
              "model_id": "0d9504c29727438887165a1d8fa76764"
            }
          },
          "metadata": {}
        }
      ]
    },
    {
      "cell_type": "code",
      "source": [
        "logits=loaded_model.predict(tf_dataset_samples)\n",
        "logits"
      ],
      "metadata": {
        "colab": {
          "base_uri": "https://localhost:8080/"
        },
        "id": "s4BSIGBsL_7R",
        "outputId": "c8756764-0e17-46d3-ecaa-93d30d261339"
      },
      "execution_count": 57,
      "outputs": [
        {
          "output_type": "stream",
          "name": "stdout",
          "text": [
            "1/1 [==============================] - 17s 17s/step\n"
          ]
        },
        {
          "output_type": "execute_result",
          "data": {
            "text/plain": [
              "TFSequenceClassifierOutput(loss=None, logits=array([[-2.194784  , -2.1740098 , -1.0552914 , -1.2911196 ,  3.1845005 ,\n",
              "         0.8052948 , -1.3009161 , -0.59136504, -1.2280353 ,  4.850782  ,\n",
              "         0.31050178],\n",
              "       [ 4.484867  , -0.61201113, -0.68460107,  2.3656971 ,  0.86751395,\n",
              "         0.2913847 , -1.7828087 , -1.2259259 , -1.8263985 , -0.54801893,\n",
              "        -1.3592789 ]], dtype=float32), hidden_states=None, attentions=None)"
            ]
          },
          "metadata": {},
          "execution_count": 57
        }
      ]
    },
    {
      "cell_type": "code",
      "source": [
        "probs= tf.nn.softmax(logits.logits, axis=-1).numpy()\n",
        "probs"
      ],
      "metadata": {
        "colab": {
          "base_uri": "https://localhost:8080/"
        },
        "id": "gPzNfmWMMFdM",
        "outputId": "9481de8d-89a4-44bb-d2ed-1d0baea6ea6b"
      },
      "execution_count": null,
      "outputs": [
        {
          "output_type": "execute_result",
          "data": {
            "text/plain": [
              "array([[0.0017393 , 0.00152056, 0.00502129, 0.00277534, 0.38438815,\n",
              "        0.00589187, 0.00115716, 0.00519882, 0.00159549, 0.58267754,\n",
              "        0.00803448],\n",
              "       [0.8401899 , 0.00325327, 0.00817004, 0.09711577, 0.02214072,\n",
              "        0.01521014, 0.00263624, 0.00197594, 0.00288651, 0.00404351,\n",
              "        0.00237788]], dtype=float32)"
            ]
          },
          "metadata": {},
          "execution_count": 57
        }
      ]
    },
    {
      "cell_type": "code",
      "source": [
        "y_pred = np.argmax(probs, axis=1)\n",
        "y_pred"
      ],
      "metadata": {
        "colab": {
          "base_uri": "https://localhost:8080/"
        },
        "id": "AQPHOVBYMXb_",
        "outputId": "88098b7f-4793-41f1-eb08-3988ad3b1993"
      },
      "execution_count": null,
      "outputs": [
        {
          "output_type": "execute_result",
          "data": {
            "text/plain": [
              "array([9, 0])"
            ]
          },
          "metadata": {},
          "execution_count": 58
        }
      ]
    },
    {
      "cell_type": "code",
      "source": [
        "label_dict"
      ],
      "metadata": {
        "colab": {
          "base_uri": "https://localhost:8080/"
        },
        "id": "JlY1RW3qMrsU",
        "outputId": "377602ae-2cf8-430b-8d38-75f6e0ba48a2"
      },
      "execution_count": null,
      "outputs": [
        {
          "output_type": "execute_result",
          "data": {
            "text/plain": [
              "{'bilim_teknoloji': 0,\n",
              " 'dunya': 1,\n",
              " 'egitim': 2,\n",
              " 'ekonomi': 3,\n",
              " 'guncel': 4,\n",
              " 'gundem': 5,\n",
              " 'kultur_sanat': 6,\n",
              " 'saglik': 7,\n",
              " 'spor': 8,\n",
              " 'turkiye': 9,\n",
              " 'yasam': 10}"
            ]
          },
          "metadata": {},
          "execution_count": 59
        }
      ]
    },
    {
      "cell_type": "code",
      "source": [
        "classification(tf_dataset_samples)"
      ],
      "metadata": {
        "id": "KgAPZdOQNNK7",
        "colab": {
          "base_uri": "https://localhost:8080/"
        },
        "outputId": "d8a01334-8069-4de8-b2ed-a5cf56bcce1b"
      },
      "execution_count": 59,
      "outputs": [
        {
          "output_type": "stream",
          "name": "stdout",
          "text": [
            "1/1 [==============================] - 2s 2s/step\n"
          ]
        },
        {
          "output_type": "execute_result",
          "data": {
            "text/plain": [
              "array([9, 0])"
            ]
          },
          "metadata": {},
          "execution_count": 59
        }
      ]
    },
    {
      "cell_type": "code",
      "source": [],
      "metadata": {
        "id": "FmZfp2BQ3VA3"
      },
      "execution_count": null,
      "outputs": []
    }
  ]
}