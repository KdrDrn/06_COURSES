{
 "cells": [
  {
   "cell_type": "markdown",
   "id": "ab2296ad",
   "metadata": {},
   "source": [
    "# Confidence Intervals"
   ]
  },
  {
   "cell_type": "markdown",
   "id": "b13c6d39",
   "metadata": {},
   "source": [
    "### Confidence interval by hand\n",
    "\n",
    "There are two common ways that interviewers will touch on confidence intervals; they will either ask you to explain it in simple terms, or elaborate on how they are calculated, possibly having you implement one. In this exercise, you'll practice the latter by producing a confidence interval by hand, using no packages other than those imported for you.\n",
    "\n",
    "We have gone ahead and assigned the appropriate z-score for a 95% confidence interval and sample mean to the z_score and sample_mean variables to simplify things a bit."
   ]
  },
  {
   "cell_type": "markdown",
   "id": "d14a5e41",
   "metadata": {},
   "source": [
    "**Instructions**\n",
    "\n",
    "- Compute the standard error and the margin of error using the sem() function and z_score variable imported for you.\n",
    "\n",
    "- Compute and print the lower boundary of our confidence interval using the sample_mean variable imported for you.\n",
    "\n",
    "- Compute and print the upper boundary of our confidence interval using the sample_mean variable imported for you."
   ]
  },
  {
   "cell_type": "code",
   "execution_count": 4,
   "id": "20722907",
   "metadata": {},
   "outputs": [
    {
     "name": "stdout",
     "output_type": "stream",
     "text": [
      "3.0\n",
      "1.6140707088743669\n",
      "4.385929291125633\n"
     ]
    }
   ],
   "source": [
    "from scipy.stats import sem, t\n",
    "data = [1, 2, 3, 4, 5]\n",
    "confidence = 0.95\n",
    "sample_mean = sum(data) / len(data)\n",
    "print(sample_mean)\n",
    "\n",
    "# Compute the standard error and margin of error\n",
    "std_err = sem(data)\n",
    "margin_error = std_err * 1.96\n",
    "\n",
    "# Compute and print the lower threshold\n",
    "lower = sample_mean - margin_error\n",
    "print(lower)\n",
    "\n",
    "# Compute and print the upper threshold\n",
    "upper = sample_mean + margin_error\n",
    "print(upper)"
   ]
  },
  {
   "cell_type": "markdown",
   "id": "03dae3ac",
   "metadata": {},
   "source": [
    "Good work showing your understanding of how confidence intervals are calculated! Now you'll be prepared if interviewers ever throw this at you in a coding assessment. Don't forget about the conceptual understanding, though. Make sure you're comfortable explaining confidence intervals to a beginner in an intuitive way."
   ]
  },
  {
   "cell_type": "markdown",
   "id": "a44783e2",
   "metadata": {},
   "source": [
    "### Applying confidence intervals\n",
    "\n",
    "In practice, you aren't going to hand-code confidence intervals. Let's utilize the statsmodels package to streamline this process and examine some more tendencies of interval estimates.\n",
    "\n",
    "In this exercise, we've generated a binomial sample of the number of heads in 50 fair coin flips saved as the heads variable. You'll compute a few different confidence intervals for this sample, and then scale your work for 10 similar samples.\n",
    "\n",
    "The proportion_confint() function has already been imported to help you compute confidence intervals."
   ]
  },
  {
   "cell_type": "markdown",
   "id": "efe55ce9",
   "metadata": {},
   "source": [
    "**Instructions**\n",
    "\n",
    "- Compute and print a 99% confidence interval for 50 trials; does it contain the true proportion of a fair coin flip?\n",
    "\n",
    "- Adapt your code to generate a 90% confidence interval this time; does it contain the true proportion this time?\n",
    "\n",
    "Examine your confidence interval results from the last step. You might see at least one confidence interval that does not contain 0.5, the true population proportion for a fair coin flip. You could decrease the likelihood of this happening by increasing your confidence level or lowering the alpha value.\n",
    "\n",
    "- Repeat this process of sampling, computing the confidence interval, and printing the result 10 times using a loop."
   ]
  },
  {
   "cell_type": "code",
   "execution_count": 5,
   "id": "f3e250fd",
   "metadata": {},
   "outputs": [],
   "source": [
    "def two_proprotions_confint(success_a, size_a, success_b, size_b, significance = 0.05):\n",
    "    \"\"\"\n",
    "    A/B test for two proportions;\n",
    "    given a success a trial size of group A and B compute\n",
    "    its confidence interval;\n",
    "    resulting confidence interval matches R's prop.test function\n",
    "\n",
    "    Parameters\n",
    "    ----------\n",
    "    success_a, success_b : int\n",
    "        Number of successes in each group\n",
    "\n",
    "    size_a, size_b : int\n",
    "        Size, or number of observations in each group\n",
    "\n",
    "    significance : float, default 0.05\n",
    "        Often denoted as alpha. Governs the chance of a false positive.\n",
    "        A significance level of 0.05 means that there is a 5% chance of\n",
    "        a false positive. In other words, our confidence level is\n",
    "        1 - 0.05 = 0.95\n",
    "\n",
    "    Returns\n",
    "    -------\n",
    "    prop_diff : float\n",
    "        Difference between the two proportion\n",
    "\n",
    "    confint : 1d ndarray\n",
    "        Confidence interval of the two proportion test\n",
    "    \"\"\"\n",
    "    prop_a = success_a / size_a\n",
    "    prop_b = success_b / size_b\n",
    "    var = prop_a * (1 - prop_a) / size_a + prop_b * (1 - prop_b) / size_b\n",
    "    se = np.sqrt(var)\n",
    "\n",
    "    # z critical value\n",
    "    confidence = 1 - significance\n",
    "    z = stats.norm(loc = 0, scale = 1).ppf(confidence + significance / 2)\n",
    "\n",
    "    # standard formula for the confidence interval\n",
    "    # point-estimtate +- z * standard-error\n",
    "    prop_diff = prop_b - prop_a\n",
    "    confint = prop_diff + np.array([-1, 1]) * z * se\n",
    "    return prop_diff, confint"
   ]
  },
  {
   "cell_type": "code",
   "execution_count": null,
   "id": "31430bfd",
   "metadata": {},
   "outputs": [],
   "source": [
    "# Compute and print the 99% confidence interval\n",
    "confidence_int = two_proprotions_confint(heads, 50, 0.01)\n",
    "print(confidence_int)"
   ]
  },
  {
   "cell_type": "code",
   "execution_count": null,
   "id": "003caa7a",
   "metadata": {},
   "outputs": [],
   "source": [
    "# Compute and print the 90% confidence interval\n",
    "confidence_int = proportion_confint(heads, 50, 0.1)\n",
    "print(confidence_int)"
   ]
  },
  {
   "cell_type": "code",
   "execution_count": null,
   "id": "469fcb7a",
   "metadata": {},
   "outputs": [],
   "source": [
    "# Repeat this process 10 times \n",
    "heads = binom.rvs(50, 0.5, size=10)\n",
    "for val in heads:\n",
    "    confidence_interval = proportion_confint(val, 50, .10)\n",
    "    print(confidence_interval)"
   ]
  },
  {
   "cell_type": "markdown",
   "id": "d9261905",
   "metadata": {},
   "source": [
    "### One tailed z-test\n",
    "\n",
    "We know now that hypothesis tests can come in several forms. In this exercise, you'll implement a one tailed z-test on test data from tracking conversion on a mobile app. The data has been imported as results and numpy has already been imported for you along with pandas as well.\n",
    "\n",
    "The treatment group represents some graphic alteration that we expect to improve the conversion rate of users. Run a test with alpha as .05 and find out if the change actually helped."
   ]
  },
  {
   "cell_type": "markdown",
   "id": "ba227d9b",
   "metadata": {},
   "source": [
    "**Instructions**\n",
    "\n",
    "- Assign and print the mean conversion rate for each group using the groupby() function on the Group column.\n",
    "\n",
    "- Assign the number of control conversions to num_control and the total number of trials to the total_control variable by slicing the DataFrame.\n",
    "\n",
    "- Similarly, assign the same values for the treatment group by slicing the DataFrame.\n",
    "\n",
    "- Run the z-test using the proportions_ztest() function and passing it the count and nobs variables."
   ]
  },
  {
   "cell_type": "code",
   "execution_count": 7,
   "id": "16044763",
   "metadata": {},
   "outputs": [
    {
     "data": {
      "application/javascript": [
       "\n",
       "        if (window._pyforest_update_imports_cell) { window._pyforest_update_imports_cell('import pandas as pd'); }\n",
       "    "
      ],
      "text/plain": [
       "<IPython.core.display.Javascript object>"
      ]
     },
     "metadata": {},
     "output_type": "display_data"
    },
    {
     "data": {
      "text/html": [
       "<div>\n",
       "<style scoped>\n",
       "    .dataframe tbody tr th:only-of-type {\n",
       "        vertical-align: middle;\n",
       "    }\n",
       "\n",
       "    .dataframe tbody tr th {\n",
       "        vertical-align: top;\n",
       "    }\n",
       "\n",
       "    .dataframe thead th {\n",
       "        text-align: right;\n",
       "    }\n",
       "</style>\n",
       "<table border=\"1\" class=\"dataframe\">\n",
       "  <thead>\n",
       "    <tr style=\"text-align: right;\">\n",
       "      <th></th>\n",
       "      <th>user_id</th>\n",
       "      <th>timestamp</th>\n",
       "      <th>group</th>\n",
       "      <th>landing_page</th>\n",
       "      <th>converted</th>\n",
       "    </tr>\n",
       "  </thead>\n",
       "  <tbody>\n",
       "    <tr>\n",
       "      <th>0</th>\n",
       "      <td>851104</td>\n",
       "      <td>2017-01-21 22:11:48.556739</td>\n",
       "      <td>control</td>\n",
       "      <td>old_page</td>\n",
       "      <td>0</td>\n",
       "    </tr>\n",
       "    <tr>\n",
       "      <th>1</th>\n",
       "      <td>804228</td>\n",
       "      <td>2017-01-12 08:01:45.159739</td>\n",
       "      <td>control</td>\n",
       "      <td>old_page</td>\n",
       "      <td>0</td>\n",
       "    </tr>\n",
       "    <tr>\n",
       "      <th>2</th>\n",
       "      <td>661590</td>\n",
       "      <td>2017-01-11 16:55:06.154213</td>\n",
       "      <td>treatment</td>\n",
       "      <td>new_page</td>\n",
       "      <td>0</td>\n",
       "    </tr>\n",
       "    <tr>\n",
       "      <th>3</th>\n",
       "      <td>853541</td>\n",
       "      <td>2017-01-08 18:28:03.143765</td>\n",
       "      <td>treatment</td>\n",
       "      <td>new_page</td>\n",
       "      <td>0</td>\n",
       "    </tr>\n",
       "    <tr>\n",
       "      <th>4</th>\n",
       "      <td>864975</td>\n",
       "      <td>2017-01-21 01:52:26.210827</td>\n",
       "      <td>control</td>\n",
       "      <td>old_page</td>\n",
       "      <td>1</td>\n",
       "    </tr>\n",
       "  </tbody>\n",
       "</table>\n",
       "</div>"
      ],
      "text/plain": [
       "   user_id                   timestamp      group landing_page  converted\n",
       "0   851104  2017-01-21 22:11:48.556739    control     old_page          0\n",
       "1   804228  2017-01-12 08:01:45.159739    control     old_page          0\n",
       "2   661590  2017-01-11 16:55:06.154213  treatment     new_page          0\n",
       "3   853541  2017-01-08 18:28:03.143765  treatment     new_page          0\n",
       "4   864975  2017-01-21 01:52:26.210827    control     old_page          1"
      ]
     },
     "execution_count": 7,
     "metadata": {},
     "output_type": "execute_result"
    }
   ],
   "source": [
    "results = pd.read_csv('ab_data.csv')\n",
    "results.head()"
   ]
  },
  {
   "cell_type": "code",
   "execution_count": 8,
   "id": "d32727b4",
   "metadata": {},
   "outputs": [
    {
     "name": "stdout",
     "output_type": "stream",
     "text": [
      "                 user_id  converted\n",
      "group                              \n",
      "control    788123.098035   0.120399\n",
      "treatment  787825.226283   0.118920\n"
     ]
    }
   ],
   "source": [
    "# Assign and print the conversion rate for each group\n",
    "conv_rates = results.groupby('group').mean()\n",
    "print(conv_rates)"
   ]
  },
  {
   "cell_type": "code",
   "execution_count": 9,
   "id": "e7ad9532",
   "metadata": {},
   "outputs": [
    {
     "name": "stdout",
     "output_type": "stream",
     "text": [
      "num_control : 17723\n",
      "total_control : 147202\n"
     ]
    }
   ],
   "source": [
    "# Assign the number of control conversions and trials\n",
    "num_control = results[results['group'] == 'control']['converted'].sum()\n",
    "total_control = len(results[results['group'] == 'control'])\n",
    "\n",
    "print('num_control :', num_control)\n",
    "print('total_control :', total_control)"
   ]
  },
  {
   "cell_type": "code",
   "execution_count": 10,
   "id": "0da671c8",
   "metadata": {},
   "outputs": [
    {
     "name": "stdout",
     "output_type": "stream",
     "text": [
      "num_treat : 17514\n",
      "total_treat : 147276\n"
     ]
    }
   ],
   "source": [
    "# Assign the number of conversions and total trials\n",
    "num_treat = results[results['group'] == 'treatment']['converted'].sum()\n",
    "total_treat = len(results[results['group'] == 'treatment'])\n",
    "\n",
    "print('num_treat :', num_treat)\n",
    "print('total_treat :', total_treat)"
   ]
  },
  {
   "cell_type": "code",
   "execution_count": 11,
   "id": "16bc918d",
   "metadata": {},
   "outputs": [
    {
     "data": {
      "application/javascript": [
       "\n",
       "        if (window._pyforest_update_imports_cell) { window._pyforest_update_imports_cell('import numpy as np\\nimport pandas as pd'); }\n",
       "    "
      ],
      "text/plain": [
       "<IPython.core.display.Javascript object>"
      ]
     },
     "metadata": {},
     "output_type": "display_data"
    },
    {
     "data": {
      "application/javascript": [
       "\n",
       "        if (window._pyforest_update_imports_cell) { window._pyforest_update_imports_cell('import numpy as np\\nimport pandas as pd'); }\n",
       "    "
      ],
      "text/plain": [
       "<IPython.core.display.Javascript object>"
      ]
     },
     "metadata": {},
     "output_type": "display_data"
    },
    {
     "name": "stdout",
     "output_type": "stream",
     "text": [
      "0.892\n"
     ]
    }
   ],
   "source": [
    "from statsmodels.stats.proportion import proportions_ztest\n",
    "count = np.array([num_treat, num_control]) \n",
    "nobs = np.array([total_treat, total_control])\n",
    "\n",
    "# Run the z-test and print the result \n",
    "stat, pval = proportions_ztest(count, nobs, alternative=\"larger\")\n",
    "print('{0:0.3f}'.format(pval))"
   ]
  },
  {
   "cell_type": "markdown",
   "id": "a15a5afa",
   "metadata": {},
   "source": [
    "Good job! You see that our test gave us a resulting p-value of .009 which falls under our alpha value of .05, so we can conclude that there is an effect and, therefore, we reject the null hypothesis. It looks like the change actually did have a noticeable positive effect on conversion rate!"
   ]
  },
  {
   "cell_type": "markdown",
   "id": "026f371f",
   "metadata": {},
   "source": [
    "### Two tailed t-test\n",
    "\n",
    "In this exercise, you'll tackle another type of hypothesis test with the two tailed t-test for means. More concretely, you'll run the test on our laptops dataset from before and try to identify a significant difference in price between Asus and Toshiba.\n",
    "\n",
    "Once again, we've imported all of the standard packages. Once you get your result, don't forget to make an actionable conclusion."
   ]
  },
  {
   "cell_type": "markdown",
   "id": "83cbf081",
   "metadata": {},
   "source": [
    "**Instructions**\n",
    "\n",
    "- Assign and print the mean price for each group using the groupby() function on the Company feature.\n",
    "\n",
    "- Assign the prices of each group to their respective variable.\n",
    "\n",
    "- Run the t-test and print the results using the imported ttest_ind() function; what's your conclusion?"
   ]
  },
  {
   "cell_type": "code",
   "execution_count": 12,
   "id": "121d4093",
   "metadata": {},
   "outputs": [
    {
     "data": {
      "application/javascript": [
       "\n",
       "        if (window._pyforest_update_imports_cell) { window._pyforest_update_imports_cell('import numpy as np\\nimport pandas as pd'); }\n",
       "    "
      ],
      "text/plain": [
       "<IPython.core.display.Javascript object>"
      ]
     },
     "metadata": {},
     "output_type": "display_data"
    },
    {
     "data": {
      "text/html": [
       "<div>\n",
       "<style scoped>\n",
       "    .dataframe tbody tr th:only-of-type {\n",
       "        vertical-align: middle;\n",
       "    }\n",
       "\n",
       "    .dataframe tbody tr th {\n",
       "        vertical-align: top;\n",
       "    }\n",
       "\n",
       "    .dataframe thead th {\n",
       "        text-align: right;\n",
       "    }\n",
       "</style>\n",
       "<table border=\"1\" class=\"dataframe\">\n",
       "  <thead>\n",
       "    <tr style=\"text-align: right;\">\n",
       "      <th></th>\n",
       "      <th>Company</th>\n",
       "      <th>Product</th>\n",
       "      <th>TypeName</th>\n",
       "      <th>Inches</th>\n",
       "      <th>ScreenResolution</th>\n",
       "      <th>Cpu</th>\n",
       "      <th>Ram</th>\n",
       "      <th>Memory</th>\n",
       "      <th>Gpu</th>\n",
       "      <th>OpSys</th>\n",
       "      <th>Weight</th>\n",
       "      <th>Price_euros</th>\n",
       "    </tr>\n",
       "  </thead>\n",
       "  <tbody>\n",
       "    <tr>\n",
       "      <th>0</th>\n",
       "      <td>Apple</td>\n",
       "      <td>MacBook Pro</td>\n",
       "      <td>Ultrabook</td>\n",
       "      <td>13.3</td>\n",
       "      <td>IPS Panel Retina Display 2560x1600</td>\n",
       "      <td>Intel Core i5 2.3GHz</td>\n",
       "      <td>8GB</td>\n",
       "      <td>128GB SSD</td>\n",
       "      <td>Intel Iris Plus Graphics 640</td>\n",
       "      <td>macOS</td>\n",
       "      <td>1.37kg</td>\n",
       "      <td>1339.69</td>\n",
       "    </tr>\n",
       "  </tbody>\n",
       "</table>\n",
       "</div>"
      ],
      "text/plain": [
       "  Company      Product   TypeName  Inches                    ScreenResolution  \\\n",
       "0   Apple  MacBook Pro  Ultrabook    13.3  IPS Panel Retina Display 2560x1600   \n",
       "\n",
       "                    Cpu  Ram     Memory                           Gpu  OpSys  \\\n",
       "0  Intel Core i5 2.3GHz  8GB  128GB SSD  Intel Iris Plus Graphics 640  macOS   \n",
       "\n",
       "   Weight  Price_euros  \n",
       "0  1.37kg      1339.69  "
      ]
     },
     "execution_count": 12,
     "metadata": {},
     "output_type": "execute_result"
    }
   ],
   "source": [
    "laptops = pd.read_csv('laptops.csv', sep=',', encoding='latin-1')\n",
    "laptops.drop('Unnamed: 0', axis=1, inplace=True)\n",
    "laptops.head(1)"
   ]
  },
  {
   "cell_type": "code",
   "execution_count": 13,
   "id": "d37b7f6c",
   "metadata": {},
   "outputs": [
    {
     "name": "stdout",
     "output_type": "stream",
     "text": [
      "              Inches  Price_euros\n",
      "Company                          \n",
      "Acer       15.063107   626.775825\n",
      "Apple      13.247619  1564.198571\n",
      "Asus       15.450000  1104.169367\n",
      "Chuwi      14.500000   314.296667\n",
      "Dell       15.136027  1186.068990\n",
      "Fujitsu    15.600000   729.000000\n",
      "Google     12.300000  1677.666667\n",
      "HP         14.943066  1067.774854\n",
      "Huawei     13.000000  1424.000000\n",
      "LG         15.066667  2099.000000\n",
      "Lenovo     14.872727  1086.384444\n",
      "MSI        16.442593  1728.908148\n",
      "Mediacom   13.457143   295.000000\n",
      "Microsoft  13.500000  1612.308333\n",
      "Razer      14.514286  3346.142857\n",
      "Samsung    13.822222  1413.444444\n",
      "Toshiba    14.354167  1267.812500\n",
      "Vero       13.825000   217.425000\n",
      "Xiaomi     14.450000  1133.462500\n"
     ]
    }
   ],
   "source": [
    "# Display the mean price for each group\n",
    "prices = laptops.groupby('Company').mean()\n",
    "print(prices)"
   ]
  },
  {
   "cell_type": "code",
   "execution_count": 14,
   "id": "3d26daa3",
   "metadata": {},
   "outputs": [],
   "source": [
    "# Assign the prices of each group\n",
    "asus = laptops[laptops['Company'] == 'Asus']['Price_euros']\n",
    "toshiba = laptops[laptops['Company'] == 'Toshiba']['Price_euros']"
   ]
  },
  {
   "cell_type": "code",
   "execution_count": 15,
   "id": "82e3b917",
   "metadata": {},
   "outputs": [
    {
     "name": "stdout",
     "output_type": "stream",
     "text": [
      "0.133\n"
     ]
    }
   ],
   "source": [
    "# Run the t-test\n",
    "from scipy.stats import ttest_ind\n",
    "tstat, pval = ttest_ind(asus, toshiba)\n",
    "print('{0:0.3f}'.format(pval))"
   ]
  },
  {
   "cell_type": "markdown",
   "id": "1a9e5b8a",
   "metadata": {},
   "source": [
    "With a p-value of .133, we cannot reject the null hypothesis! There's not enough evidence here to conclude that Toshiba laptops are significantly more expensive than Asus. With that being said, .133 is fairly close to reasonable significance so we may want to run another test or examine this further. Interviewers won't hesitate to throw you tricky situations like this to see how you handle them. Come to a conclusion and make a strong argument for it. Good job!"
   ]
  },
  {
   "attachments": {
    "image.png": {
     "image/png": "[encoded data removed]"
    }
   },
   "cell_type": "markdown",
   "id": "ed1340db",
   "metadata": {},
   "source": [
    "![image.png](attachment:image.png)"
   ]
  },
  {
   "cell_type": "markdown",
   "id": "f484089b",
   "metadata": {},
   "source": [
    "### Calculating sample size\n",
    "\n",
    "Let's finish up our dive into statistical tests by performing power analysis to generate needed sample size. Power analysis involves four moving parts:\n",
    "\n",
    "- Sample size\n",
    "\n",
    "- Effect size\n",
    "\n",
    "- Minimum effect\n",
    "\n",
    "- Power\n",
    "\n",
    "In this exercise, you're working with a website and want to test for a difference in conversion rate. Before you begin the experiment, you must decide how many samples you'll need per variant using 5% significance and 95% power."
   ]
  },
  {
   "cell_type": "markdown",
   "id": "7daa03e5",
   "metadata": {},
   "source": [
    "**Instructions**\n",
    "\n",
    "- Standardize the effect of a conversion rate increase from 20% to 25% success using the proportion_effectsize() function.\n",
    "\n",
    "- Calculate and print the needed sample size using the zt_ind_solve_power() function.\n",
    "\n",
    "- Adapt your code to solve for needed sample size using 80% power instead; observe what happens"
   ]
  },
  {
   "cell_type": "code",
   "execution_count": 16,
   "id": "9186f8b0",
   "metadata": {},
   "outputs": [
    {
     "data": {
      "text/plain": [
       "-0.11990233319498567"
      ]
     },
     "execution_count": 16,
     "metadata": {},
     "output_type": "execute_result"
    }
   ],
   "source": [
    "# Standardize the effect size\n",
    "from statsmodels.stats.proportion import proportion_effectsize\n",
    "std_effect = proportion_effectsize(.20, .25)\n",
    "std_effect"
   ]
  },
  {
   "cell_type": "code",
   "execution_count": 17,
   "id": "43519b89",
   "metadata": {},
   "outputs": [
    {
     "name": "stdout",
     "output_type": "stream",
     "text": [
      "1807.7621477153257\n"
     ]
    }
   ],
   "source": [
    "# Assign and print the needed sample size\n",
    "from statsmodels.stats.power import  zt_ind_solve_power\n",
    "sample_size = zt_ind_solve_power(effect_size=std_effect, nobs1=None, alpha=0.05, power=0.95)\n",
    "print(sample_size)"
   ]
  },
  {
   "cell_type": "code",
   "execution_count": 18,
   "id": "5c6eeecb",
   "metadata": {},
   "outputs": [
    {
     "name": "stdout",
     "output_type": "stream",
     "text": [
      "1091.8961587171943\n"
     ]
    }
   ],
   "source": [
    "# Assign and print the needed sample size\n",
    "from statsmodels.stats.power import  zt_ind_solve_power\n",
    "sample_size = zt_ind_solve_power(effect_size=std_effect, nobs1=None, alpha=.05, power=0.80)\n",
    "print(sample_size)"
   ]
  },
  {
   "cell_type": "markdown",
   "id": "de83f343",
   "metadata": {},
   "source": [
    "All done! Notice how lowering the power allowed you fewer observations in your sample, yet increased your chance of a Type II error. Remember that doing these calculations by hand is quite difficult, so you may be asked to show or explain these tradeoffs with whiteboarding rather than programming."
   ]
  },
  {
   "cell_type": "markdown",
   "id": "4548017b",
   "metadata": {},
   "source": [
    "### Visualizing the relationship\n",
    "\n",
    "Now that we've gone over the effect on certain errors and calculated the necessary sample size for different power values, let's take a step back and look at the relationship between power and sample size with a useful plot.\n",
    "\n",
    "In this exercise, we'll switch gears and look at a t-test rather than a z-test. In order to visualize this, use the plot_power() function that shows sample size on the x-axis with power on the y-axis and different lines representing different minimum effect sizes."
   ]
  },
  {
   "cell_type": "markdown",
   "id": "5f80c145",
   "metadata": {},
   "source": [
    "**Instructions**\n",
    "\n",
    "- Assign a TTestIndPower() object to the results variable.\n",
    "\n",
    "- Visualize the relationship between power and sample size using the plot_power() function with the appropriate parameter values; what do you notice?"
   ]
  },
  {
   "cell_type": "code",
   "execution_count": 19,
   "id": "f06ddabe",
   "metadata": {},
   "outputs": [
    {
     "data": {
      "application/javascript": [
       "\n",
       "        if (window._pyforest_update_imports_cell) { window._pyforest_update_imports_cell('import numpy as np\\nimport pandas as pd'); }\n",
       "    "
      ],
      "text/plain": [
       "<IPython.core.display.Javascript object>"
      ]
     },
     "metadata": {},
     "output_type": "display_data"
    },
    {
     "data": {
      "application/javascript": [
       "\n",
       "        if (window._pyforest_update_imports_cell) { window._pyforest_update_imports_cell('import numpy as np\\nimport pandas as pd'); }\n",
       "    "
      ],
      "text/plain": [
       "<IPython.core.display.Javascript object>"
      ]
     },
     "metadata": {},
     "output_type": "display_data"
    },
    {
     "data": {
      "application/javascript": [
       "\n",
       "        if (window._pyforest_update_imports_cell) { window._pyforest_update_imports_cell('import numpy as np\\nimport matplotlib.pyplot as plt\\nimport pandas as pd'); }\n",
       "    "
      ],
      "text/plain": [
       "<IPython.core.display.Javascript object>"
      ]
     },
     "metadata": {},
     "output_type": "display_data"
    },
    {
     "data": {
      "image/png": "[encoded data removed]",
      "text/plain": [
       "<Figure size 432x288 with 1 Axes>"
      ]
     },
     "metadata": {
      "needs_background": "light"
     },
     "output_type": "display_data"
    }
   ],
   "source": [
    "sample_sizes = np.array(range(5, 100))\n",
    "effect_sizes = np.array([0.2, 0.5, 0.8])\n",
    "\n",
    "# Create results object for t-test analysis\n",
    "from statsmodels.stats.power import TTestIndPower\n",
    "results = TTestIndPower(nobs= sample_sizes, effect_size = effect_sizes)\n",
    "\n",
    "# Plot the power analysis\n",
    "results.plot_power(dep_var='nobs', nobs=sample_sizes, effect_size=effect_sizes)\n",
    "plt.show()"
   ]
  },
  {
   "cell_type": "markdown",
   "id": "a7e70f1d",
   "metadata": {},
   "source": [
    "Good work! Notice that not only does an increase in power result in a larger sample size, but this increase grows exponentially as the minimum effect size is increased. Once again, power analysis can get confusing with all of these interconnected moving parts, but by mastering the relationships at hand, you'll be ready when the question comes up from your interviewer!"
   ]
  },
  {
   "cell_type": "markdown",
   "id": "cabc60aa",
   "metadata": {},
   "source": [
    "## Multiple testing"
   ]
  },
  {
   "cell_type": "markdown",
   "id": "a3ca0306",
   "metadata": {},
   "source": [
    "### Calculating error rates\n",
    "\n",
    "We talked a bit about the multiple comparisons problem in the slides, but let's take things a step further. In this exercise, you'll look into how the phenomenon affects error rate more precisely.\n",
    "\n",
    "Your colleague is strongly considering running 60 distinct hypothesis tests. In order to convince them otherwise, compute the probability of a Type I error for 60 hypothesis tests with a single-test 5% significance level."
   ]
  },
  {
   "cell_type": "markdown",
   "id": "4df10ca2",
   "metadata": {},
   "source": [
    "**Instructions**\n",
    "\n",
    "- Compute and print the probability of your colleague getting a Type I error.\n",
    "\n",
    "- You successfully talked them down to 30 tests; adapt your code to compute and print the new error rate.\n",
    "\n",
    "- One last try; adapt your code to compute and print the error rate for 10 tests."
   ]
  },
  {
   "cell_type": "code",
   "execution_count": 21,
   "id": "ca0cb064",
   "metadata": {},
   "outputs": [
    {
     "name": "stdout",
     "output_type": "stream",
     "text": [
      "0.953930201013048\n"
     ]
    }
   ],
   "source": [
    "# Print error rate for 60 tests with 5% significance\n",
    "error_rate = 1 - (0.95**(60))\n",
    "print(error_rate)"
   ]
  },
  {
   "cell_type": "code",
   "execution_count": 22,
   "id": "7b0f8926",
   "metadata": {},
   "outputs": [
    {
     "name": "stdout",
     "output_type": "stream",
     "text": [
      "0.7853612360570628\n"
     ]
    }
   ],
   "source": [
    "# Print error rate for 30 tests with 5% significance\n",
    "error_rate = 1 - (0.95**(30))\n",
    "print(error_rate)"
   ]
  },
  {
   "cell_type": "code",
   "execution_count": 23,
   "id": "32e48065",
   "metadata": {},
   "outputs": [
    {
     "name": "stdout",
     "output_type": "stream",
     "text": [
      "0.4012630607616213\n"
     ]
    }
   ],
   "source": [
    "# Print error rate for 10 tests with 5% significance\n",
    "error_rate = 1 - (0.95**(10))\n",
    "print(error_rate)"
   ]
  },
  {
   "cell_type": "markdown",
   "id": "6a67b6af",
   "metadata": {},
   "source": [
    "As you can see, the probability of encountering an error is still extremely high. This is where the Bonferroni correction comes in. While a bit conservative, it controls the family-wise error rate for circumstances like these to avoid the high probability of a Type I error. We'll go over this specific method in the next exercise!\n"
   ]
  },
  {
   "cell_type": "markdown",
   "id": "2027fc73",
   "metadata": {},
   "source": [
    "### Bonferroni correction\n",
    "\n",
    "Let's implement multiple hypothesis tests using the Bonferroni correction approach that we discussed in the slides. You'll use the imported multipletests() function in order to achieve this.\n",
    "\n",
    "Use a single-test significance level of .05 and observe how the Bonferroni correction affects our sample list of p-values already created."
   ]
  },
  {
   "cell_type": "markdown",
   "id": "59ea6284",
   "metadata": {},
   "source": [
    "**Instructions**\n",
    "\n",
    "- Compute a list of the Bonferroni adjusted p-values using the imported multipletests() function.\n",
    "\n",
    "- Print the results of the multiple hypothesis tests returned in index 0 of your p_adjusted variable.\n",
    "\n",
    "- Print the p-values themselves returned in index 1 of your p_adjusted variable."
   ]
  },
  {
   "cell_type": "code",
   "execution_count": 24,
   "id": "bf2dcf2d",
   "metadata": {},
   "outputs": [
    {
     "name": "stdout",
     "output_type": "stream",
     "text": [
      "[ True False False False False]\n",
      "[0.05 0.25 0.5  1.   1.  ]\n"
     ]
    }
   ],
   "source": [
    "from statsmodels.sandbox.stats.multicomp import multipletests\n",
    "pvals = [.01, .05, .10, .50, .99]\n",
    "\n",
    "# Create a list of the adjusted p-values\n",
    "p_adjusted = multipletests(pvals, alpha=0.05, method='bonferroni')\n",
    "\n",
    "# Print the resulting conclusions\n",
    "print(p_adjusted[0])\n",
    "\n",
    "# Print the adjusted p-values themselves \n",
    "print(p_adjusted[1])"
   ]
  },
  {
   "cell_type": "markdown",
   "id": "ea626433",
   "metadata": {},
   "source": [
    "Good work! As you can see, the Bonferroni correction did it's job and corrected the family-wise error rate for our 5 hypothesis test results. In the end, only one of the tests remained signficant. If you're interested, check out some of the other methods, but interviewers typically won't get too far in the weeds here."
   ]
  },
  {
   "cell_type": "code",
   "execution_count": null,
   "id": "729285ea",
   "metadata": {},
   "outputs": [],
   "source": []
  }
 ],
 "metadata": {
  "kernelspec": {
   "display_name": "Python 3 (ipykernel)",
   "language": "python",
   "name": "python3"
  },
  "language_info": {
   "codemirror_mode": {
    "name": "ipython",
    "version": 3
   },
   "file_extension": ".py",
   "mimetype": "text/x-python",
   "name": "python",
   "nbconvert_exporter": "python",
   "pygments_lexer": "ipython3",
   "version": "3.8.12"
  }
 },
 "nbformat": 4,
 "nbformat_minor": 5
}
