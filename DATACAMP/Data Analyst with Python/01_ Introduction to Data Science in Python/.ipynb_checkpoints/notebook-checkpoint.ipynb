{
 "cells": [
  {
   "cell_type": "markdown",
   "id": "20c73b4c-626a-4674-b2ca-0f4c47f60628",
   "metadata": {},
   "source": [
    "# Introduction to Data Science in Python\n",
    "Run the hidden code cell below to import the data used in this course."
   ]
  },
  {
   "cell_type": "code",
   "execution_count": 2,
   "id": "cc8f4fbc-8936-468a-b789-fe76aae1fc03",
   "metadata": {
    "executionTime": 33,
    "jupyter": {
     "outputs_hidden": false,
     "source_hidden": true
    },
    "lastSuccessfullyExecutedCode": "# Importing the course packages\nimport numpy as np\nimport pandas as pd\n\n# Importing the course datasets\ndeals = pd.read_csv(\"datasets/amir_deals.csv\")\nhappiness = pd.read_csv(\"datasets/world_happiness.csv\")\nfood = pd.read_csv(\"datasets/food_consumption.csv\")"
   },
   "outputs": [],
   "source": [
    "# Importing pandas and numpy\n",
    "import numpy as np\n",
    "import pandas as pd\n",
    "\n",
    "# Importing the course datasets\n",
    "frequencies = pd.read_csv(\"datasets/all_frequencies.csv\")\n",
    "records = pd.read_csv(\"datasets/cell_phone_records.csv\")\n",
    "credit = pd.read_csv(\"datasets/credit_records.csv\")\n",
    "ransom = pd.read_csv(\"datasets/ransom.csv\")\n",
    "gravel = pd.read_csv(\"datasets/shoe_gravel_sample.csv\")"
   ]
  },
  {
   "cell_type": "markdown",
   "id": "47777ca5-c181-41a3-8eef-b305c567d99d",
   "metadata": {},
   "source": [
    "## Take Notes\n",
    "\n",
    "Add notes about the concepts you've learned and code cells with code you want to keep."
   ]
  },
  {
   "cell_type": "markdown",
   "id": "52b56ad7-3afc-4aa5-9540-f45bf185f38c",
   "metadata": {},
   "source": [
    "_Add your notes here_"
   ]
  },
  {
   "cell_type": "code",
   "execution_count": 3,
   "id": "fb5e8360-ad35-430d-a8d1-559df0c5baae",
   "metadata": {
    "executionTime": 16,
    "lastSuccessfullyExecutedCode": "# Add your code snippets here"
   },
   "outputs": [],
   "source": [
    "# Add your code snippets here"
   ]
  }
 ],
 "metadata": {
  "colab": {
   "name": "Welcome to DataCamp Workspaces.ipynb",
   "provenance": []
  },
  "kernelspec": {
   "display_name": "Python 3 (ipykernel)",
   "language": "python",
   "name": "python3"
  },
  "language_info": {
   "codemirror_mode": {
    "name": "ipython",
    "version": 3
   },
   "file_extension": ".py",
   "mimetype": "text/x-python",
   "name": "python",
   "nbconvert_exporter": "python",
   "pygments_lexer": "ipython3",
   "version": "3.9.13"
  }
 },
 "nbformat": 4,
 "nbformat_minor": 5
}
