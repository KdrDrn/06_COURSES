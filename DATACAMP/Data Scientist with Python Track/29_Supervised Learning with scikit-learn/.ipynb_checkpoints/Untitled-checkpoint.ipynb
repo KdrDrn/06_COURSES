{
 "cells": [
  {
   "cell_type": "markdown",
   "id": "a700ce0a",
   "metadata": {},
   "source": [
    "Machine Learning Fundamentals with Python\n",
    "\n",
    "Discover the machine learning fundamentals and explore how machine learning is changing the world. Join the ML revolution today!\n",
    "\n",
    "If you’re new to the discipline, this is an ideal place to start. You’ll cover the machine learning basics with Python, starting with supervised learning with the scikit-learn library.\n",
    "\n",
    "You’ll also learn how to cluster, transform, visualize, and extra insights from data using unsupervised learning and scipy. As you progress, you’ll explore linear classifiers for machine learning in Python, including logistics regression and support vector machines.\n",
    "\n",
    "You’ll finish the track by covering the fundamentals of neural networks and deep learning models using Keras.\n",
    "\n",
    "By the time you’re finished, you’ll understand the essential machine learning concepts and be able to apply the fundamentals of machine learning with Python."
   ]
  }
 ],
 "metadata": {
  "kernelspec": {
   "display_name": "Python 3 (ipykernel)",
   "language": "python",
   "name": "python3"
  },
  "language_info": {
   "codemirror_mode": {
    "name": "ipython",
    "version": 3
   },
   "file_extension": ".py",
   "mimetype": "text/x-python",
   "name": "python",
   "nbconvert_exporter": "python",
   "pygments_lexer": "ipython3",
   "version": "3.9.13"
  }
 },
 "nbformat": 4,
 "nbformat_minor": 5
}
