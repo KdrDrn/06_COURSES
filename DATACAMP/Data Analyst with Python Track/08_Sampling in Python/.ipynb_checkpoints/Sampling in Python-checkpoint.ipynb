{
 "cells": [
  {
   "cell_type": "markdown",
   "id": "prostate-arizona",
   "metadata": {
    "id": "bA5ajAmk7XH6"
   },
   "source": [
    "# <h1 style=\"text-align: center;\" class=\"list-group-item list-group-item-action active\" data-toggle=\"list\" role=\"tab\" aria-controls=\"home\">Sampling in Python</h1>\n",
    "\n",
    "Sampling in Python is the cornerstone of inference statistics and hypothesis testing. It's a powerful skill used in survey analysis and experimental design to draw conclusions without surveying an entire population. In this Sampling in Python course, you’ll discover when to use sampling and how to perform common types of sampling—from simple random sampling to more complex methods like stratified and cluster sampling. Using real-world datasets, including coffee ratings, Spotify songs, and employee attrition, you’ll learn to estimate population statistics and quantify uncertainty in your estimates by generating sampling distributions and bootstrap distributions."
   ]
  },
  {
   "cell_type": "markdown",
   "id": "43c8db80",
   "metadata": {},
   "source": [
    "<a id=\"toc\"></a>\n",
    "\n",
    "<h3 class=\"list-group-item list-group-item-action active\" data-toggle=\"list\" role=\"tab\" aria-controls=\"home\">Table of Contents</h3>\n",
    "    \n",
    "* [1. Introduction to Sampling](#1)\n",
    "    - Sampling and point estimates\n",
    "    - Convenience sampling\n",
    "    - Pseudo-random number generation\n",
    "\n",
    "* [2. Sampling Methods](#2) \n",
    "    - Simple random and systematic sampling\n",
    "    - Stratified and weighted random sampling\n",
    "    - Cluster sampling\n",
    "    - Comparing sampling methods\n",
    "    \n",
    "* [3. Sampling Distributions](#3)\n",
    "    - Relative error of point estimates\n",
    "    - Creating a sampling distribution\n",
    "    - Approximate sampling distributions\n",
    "    - Standard errors and the Central Limit Theorem\n",
    "    \n",
    "* [4. Bootstrap Distributions](#4)\n",
    "    - Introduction to bootstrapping\n",
    "    - Comparing sampling and bootstrap distributions\n",
    "    - Confidence intervals"
   ]
  },
  {
   "cell_type": "markdown",
   "id": "ac62018b",
   "metadata": {},
   "source": [
    "## Explore Datasets\n",
    "\n",
    "Use the DataFrames imported in the first cell to explore the data and practice your skills!"
   ]
  },
  {
   "cell_type": "code",
   "execution_count": 3,
   "id": "2e25fdd8-4d84-45bc-80f0-949917e00a17",
   "metadata": {
    "executionTime": 140,
    "jupyter": {
     "outputs_hidden": false,
     "source_hidden": true
    },
    "lastSuccessfullyExecutedCode": "# Importing pandas\nimport pandas as pd\n\n# Importing the course arrays\nattrition = pd.read_feather(\"datasets/attrition.feather\")\nspotify = pd.read_feather(\"datasets/spotify_2000_2020.feather\")\ncoffee = pd.read_feather(\"datasets/coffee_ratings_full.feather\")"
   },
   "outputs": [],
   "source": [
    "# Importing the course packages\n",
    "import pandas as pd\n",
    "import numpy as np\n",
    "import matplotlib.pyplot as plt\n",
    "import seaborn as sns\n",
    "import scipy.stats\n",
    "import scipy.interpolate\n",
    "import statsmodels.formula.api as smf\n",
    "\n",
    "# Importing the course arrays\n",
    "attrition = pd.read_feather(\"datasets/attrition.feather\")\n",
    "spotify = pd.read_feather(\"datasets/spotify_2000_2020.feather\")\n",
    "coffee = pd.read_feather(\"datasets/coffee_ratings_full.feather\")"
   ]
  },
  {
   "cell_type": "markdown",
   "id": "3cff98ba",
   "metadata": {},
   "source": [
    "## <a id=\"1\"></a>\n",
    "<font color=\"lightseagreen\" size=+2.5><b>1. Introduction to Sampling</b></font>\n",
    "\n",
    "<a href=\"#toc\" class=\"btn btn-primary btn-sm\" role=\"button\" aria-pressed=\"true\" style=\"color:white\" data-toggle=\"popover\">Table of Contents</a>\n",
    "\n",
    "Learn what sampling is and why it is so powerful. You’ll also learn about the problems caused by convenience sampling and the differences between true randomness and pseudo-randomness."
   ]
  },
  {
   "cell_type": "code",
   "execution_count": null,
   "id": "e1944657",
   "metadata": {},
   "outputs": [],
   "source": []
  },
  {
   "cell_type": "code",
   "execution_count": null,
   "id": "cdce0f64",
   "metadata": {},
   "outputs": [],
   "source": []
  },
  {
   "cell_type": "code",
   "execution_count": null,
   "id": "6e3f2589",
   "metadata": {},
   "outputs": [],
   "source": []
  },
  {
   "cell_type": "markdown",
   "id": "55a1f2b7",
   "metadata": {},
   "source": [
    "## <a id=\"2\"></a>\n",
    "<font color=\"lightseagreen\" size=+2.5><b>2. Sampling Methods</b></font>\n",
    "\n",
    "<a href=\"#toc\" class=\"btn btn-primary btn-sm\" role=\"button\" aria-pressed=\"true\" style=\"color:white\" data-toggle=\"popover\">Table of Contents</a>\n",
    "\n",
    "It’s time to get hands-on and perform the four random sampling methods in Python: simple, systematic, stratified, and cluster."
   ]
  },
  {
   "cell_type": "code",
   "execution_count": null,
   "id": "0c2c775d",
   "metadata": {},
   "outputs": [],
   "source": []
  },
  {
   "cell_type": "code",
   "execution_count": null,
   "id": "58398628",
   "metadata": {},
   "outputs": [],
   "source": []
  },
  {
   "cell_type": "code",
   "execution_count": null,
   "id": "e3823482",
   "metadata": {},
   "outputs": [],
   "source": []
  },
  {
   "cell_type": "markdown",
   "id": "3b94c0c7",
   "metadata": {},
   "source": [
    "## <a id=\"3\"></a>\n",
    "<font color=\"lightseagreen\" size=+2.5><b>3. Sampling Distributions</b></font>\n",
    "\n",
    "<a href=\"#toc\" class=\"btn btn-primary btn-sm\" role=\"button\" aria-pressed=\"true\" style=\"color:white\" data-toggle=\"popover\">Table of Contents</a>\n",
    "\n",
    "Let’s test your sampling. In this chapter, you’ll discover how to quantify the accuracy of sample statistics using relative errors, and measure variation in your estimates by generating sampling distributions."
   ]
  },
  {
   "cell_type": "code",
   "execution_count": null,
   "id": "5e4eb606",
   "metadata": {},
   "outputs": [],
   "source": []
  },
  {
   "cell_type": "code",
   "execution_count": null,
   "id": "7f60b500",
   "metadata": {},
   "outputs": [],
   "source": []
  },
  {
   "cell_type": "markdown",
   "id": "7f53cd99",
   "metadata": {},
   "source": [
    "## <a id=\"4\"></a>\n",
    "<font color=\"lightseagreen\" size=+2.5><b>4. Bootstrap Distributions</b></font>\n",
    "\n",
    "<a href=\"#toc\" class=\"btn btn-primary btn-sm\" role=\"button\" aria-pressed=\"true\" style=\"color:white\" data-toggle=\"popover\">Table of Contents</a>\n",
    "\n",
    "You’ll get to grips with resampling to perform bootstrapping and estimate variation in an unknown population. You’ll learn the difference between sampling distributions and bootstrap distributions using resampling."
   ]
  },
  {
   "cell_type": "code",
   "execution_count": null,
   "id": "c8af6037",
   "metadata": {},
   "outputs": [],
   "source": []
  },
  {
   "cell_type": "code",
   "execution_count": null,
   "id": "35568014",
   "metadata": {},
   "outputs": [],
   "source": []
  },
  {
   "cell_type": "code",
   "execution_count": null,
   "id": "c3dae055",
   "metadata": {},
   "outputs": [],
   "source": []
  }
 ],
 "metadata": {
  "colab": {
   "name": "Welcome to DataCamp Workspaces.ipynb",
   "provenance": []
  },
  "editor": "DataCamp Workspace",
  "kernelspec": {
   "display_name": "Python 3 (ipykernel)",
   "language": "python",
   "name": "python3"
  },
  "language_info": {
   "codemirror_mode": {
    "name": "ipython",
    "version": 3
   },
   "file_extension": ".py",
   "mimetype": "text/x-python",
   "name": "python",
   "nbconvert_exporter": "python",
   "pygments_lexer": "ipython3",
   "version": "3.9.13"
  }
 },
 "nbformat": 4,
 "nbformat_minor": 5
}
